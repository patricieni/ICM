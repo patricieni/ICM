{
 "cells": [
  {
   "cell_type": "markdown",
   "metadata": {},
   "source": [
    "# Preprocessing and storing DF in pickle\n",
    "Perhaps we might Dwh Pat Dn Date later on. "
   ]
  },
  {
   "cell_type": "code",
   "execution_count": 1,
   "metadata": {
    "collapsed": true
   },
   "outputs": [],
   "source": [
    "import pandas as pd\n",
    "import numpy as np\n",
    "from pathlib import Path\n",
    "import os \n",
    "from datetime import timedelta\n",
    "pd.set_option('display.max_columns', None)\n",
    "\n",
    "data_path = str(Path(os.getcwd())) + \"/data/\"\n",
    "\n",
    "def write_to_pickle(dataframe, name):\n",
    "    dataframe.to_pickle(data_path + name + \".pickle\")\n",
    "def read_from_pickle(name): \n",
    "    return pd.read_pickle(data_path + name + \".pickle\")"
   ]
  },
  {
   "cell_type": "code",
   "execution_count": 2,
   "metadata": {},
   "outputs": [
    {
     "ename": "ImportError",
     "evalue": "No module named 'xlrd'",
     "output_type": "error",
     "traceback": [
      "\u001b[0;31m---------------------------------------------------------------------------\u001b[0m",
      "\u001b[0;31mImportError\u001b[0m                               Traceback (most recent call last)",
      "\u001b[0;32m<ipython-input-2-221c8096b3ef>\u001b[0m in \u001b[0;36m<module>\u001b[0;34m()\u001b[0m\n\u001b[0;32m----> 1\u001b[0;31m \u001b[0mbio\u001b[0m \u001b[0;34m=\u001b[0m \u001b[0mpd\u001b[0m\u001b[0;34m.\u001b[0m\u001b[0mread_excel\u001b[0m\u001b[0;34m(\u001b[0m\u001b[0;34m'data/20170713_Marc Gliomes_Bio.xlsx'\u001b[0m\u001b[0;34m,\u001b[0m \u001b[0mindex_col\u001b[0m \u001b[0;34m=\u001b[0m \u001b[0;32mNone\u001b[0m\u001b[0;34m)\u001b[0m\u001b[0;34m\u001b[0m\u001b[0m\n\u001b[0m\u001b[1;32m      2\u001b[0m \u001b[0mclin\u001b[0m \u001b[0;34m=\u001b[0m \u001b[0mpd\u001b[0m\u001b[0;34m.\u001b[0m\u001b[0mread_excel\u001b[0m\u001b[0;34m(\u001b[0m\u001b[0;34m'data/20170713_Marc Gliomes_Clin.xlsx'\u001b[0m\u001b[0;34m,\u001b[0m \u001b[0mindex_col\u001b[0m \u001b[0;34m=\u001b[0m \u001b[0;32mNone\u001b[0m\u001b[0;34m)\u001b[0m\u001b[0;34m\u001b[0m\u001b[0m\n",
      "\u001b[0;32m/Users/paul.pop/miniconda3/envs/KS3/lib/python3.5/site-packages/pandas/io/excel.py\u001b[0m in \u001b[0;36mread_excel\u001b[0;34m(io, sheetname, header, skiprows, skip_footer, index_col, names, parse_cols, parse_dates, date_parser, na_values, thousands, convert_float, has_index_names, converters, dtype, true_values, false_values, engine, squeeze, **kwds)\u001b[0m\n\u001b[1;32m    201\u001b[0m \u001b[0;34m\u001b[0m\u001b[0m\n\u001b[1;32m    202\u001b[0m     \u001b[0;32mif\u001b[0m \u001b[0;32mnot\u001b[0m \u001b[0misinstance\u001b[0m\u001b[0;34m(\u001b[0m\u001b[0mio\u001b[0m\u001b[0;34m,\u001b[0m \u001b[0mExcelFile\u001b[0m\u001b[0;34m)\u001b[0m\u001b[0;34m:\u001b[0m\u001b[0;34m\u001b[0m\u001b[0m\n\u001b[0;32m--> 203\u001b[0;31m         \u001b[0mio\u001b[0m \u001b[0;34m=\u001b[0m \u001b[0mExcelFile\u001b[0m\u001b[0;34m(\u001b[0m\u001b[0mio\u001b[0m\u001b[0;34m,\u001b[0m \u001b[0mengine\u001b[0m\u001b[0;34m=\u001b[0m\u001b[0mengine\u001b[0m\u001b[0;34m)\u001b[0m\u001b[0;34m\u001b[0m\u001b[0m\n\u001b[0m\u001b[1;32m    204\u001b[0m \u001b[0;34m\u001b[0m\u001b[0m\n\u001b[1;32m    205\u001b[0m     return io._parse_excel(\n",
      "\u001b[0;32m/Users/paul.pop/miniconda3/envs/KS3/lib/python3.5/site-packages/pandas/io/excel.py\u001b[0m in \u001b[0;36m__init__\u001b[0;34m(self, io, **kwds)\u001b[0m\n\u001b[1;32m    230\u001b[0m     \u001b[0;32mdef\u001b[0m \u001b[0m__init__\u001b[0m\u001b[0;34m(\u001b[0m\u001b[0mself\u001b[0m\u001b[0;34m,\u001b[0m \u001b[0mio\u001b[0m\u001b[0;34m,\u001b[0m \u001b[0;34m**\u001b[0m\u001b[0mkwds\u001b[0m\u001b[0;34m)\u001b[0m\u001b[0;34m:\u001b[0m\u001b[0;34m\u001b[0m\u001b[0m\n\u001b[1;32m    231\u001b[0m \u001b[0;34m\u001b[0m\u001b[0m\n\u001b[0;32m--> 232\u001b[0;31m         \u001b[0;32mimport\u001b[0m \u001b[0mxlrd\u001b[0m  \u001b[0;31m# throw an ImportError if we need to\u001b[0m\u001b[0;34m\u001b[0m\u001b[0m\n\u001b[0m\u001b[1;32m    233\u001b[0m \u001b[0;34m\u001b[0m\u001b[0m\n\u001b[1;32m    234\u001b[0m         \u001b[0mver\u001b[0m \u001b[0;34m=\u001b[0m \u001b[0mtuple\u001b[0m\u001b[0;34m(\u001b[0m\u001b[0mmap\u001b[0m\u001b[0;34m(\u001b[0m\u001b[0mint\u001b[0m\u001b[0;34m,\u001b[0m \u001b[0mxlrd\u001b[0m\u001b[0;34m.\u001b[0m\u001b[0m__VERSION__\u001b[0m\u001b[0;34m.\u001b[0m\u001b[0msplit\u001b[0m\u001b[0;34m(\u001b[0m\u001b[0;34m\".\"\u001b[0m\u001b[0;34m)\u001b[0m\u001b[0;34m[\u001b[0m\u001b[0;34m:\u001b[0m\u001b[0;36m2\u001b[0m\u001b[0;34m]\u001b[0m\u001b[0;34m)\u001b[0m\u001b[0;34m)\u001b[0m\u001b[0;34m\u001b[0m\u001b[0m\n",
      "\u001b[0;31mImportError\u001b[0m: No module named 'xlrd'"
     ]
    }
   ],
   "source": [
    "bio = pd.read_excel('data/20170713_Marc Gliomes_Bio.xlsx', index_col = None)\n",
    "clin = pd.read_excel('data/20170713_Marc Gliomes_Clin.xlsx', index_col = None)"
   ]
  },
  {
   "cell_type": "code",
   "execution_count": 4,
   "metadata": {
    "collapsed": true
   },
   "outputs": [],
   "source": [
    "b = bio.loc[bio['Pat Nip']==4406078178,'Dwh Prv Date Chir']\n",
    "c = clin.loc[clin['Pat Nip']==4406078178,'Clin Chir Date']\n",
    "\n",
    "#c.iloc[:len(c)]=1\n",
    "#clin.loc[clin['Pat Nip']==4406078178,'Clin Chir Date'] = c\n",
    "#clin.loc[clin['Pat Nip']==4406078178,'Clin Chir Date'] \n",
    "#print(clin.loc[clin['Pat Nip']==4406078178,'Clin Chir Date'].iloc[i])\n",
    "#clin.loc[clin['Pat Nip']==4406078178,'Clin Chir Date']    \n",
    "#bio['Dwh Prv Date Chir'] = bio['Dwh Prv Date Chir'].apply(lambda x: x.to_pydatetime())\n",
    "#bio.loc[2,'Dwh Prv Date Chir'].to_pydatetime()-timedelta(days=1)\n",
    "#clin['Clin Chir Date'] = clin['Clin Chir Date'].apply(lambda x: x.to_pydatetime() + timedelta(days=1))\n",
    "#bio['Dwh Prv Date Chir'] = bio['Dwh Prv Date Chir'].apply(lambda x: x.to_pydatetime())"
   ]
  },
  {
   "cell_type": "markdown",
   "metadata": {},
   "source": [
    "Fix the surgery and clinical date so that they match"
   ]
  },
  {
   "cell_type": "code",
   "execution_count": 5,
   "metadata": {
    "collapsed": true
   },
   "outputs": [],
   "source": [
    "# Make the two surgery dates match \n",
    "# You are taking copies of the dataframe with loc and iloc, so you need to pay attention when you do assignment\n",
    "# Can definitely remove one or both 'for' loops\n",
    "for val in np.unique(clin['Pat Nip']): \n",
    "    bio_data = bio.loc[bio['Pat Nip']==val,'Dwh Prv Date Chir']\n",
    "    clin_data = clin.loc[clin['Pat Nip']==val,'Clin Chir Date']\n",
    "    lc = len(clin_data)\n",
    "    lb = len(bio_data)\n",
    "    if lc <=lb:\n",
    "        for i in range(0,lc):\n",
    "            clin_data.iloc[i] = bio_data.iloc[i]        \n",
    "    else: \n",
    "        for i in range(0,lb):\n",
    "            clin_data.iloc[i] = bio_data.iloc[i]\n",
    "    clin.loc[clin['Pat Nip']==val,'Clin Chir Date'] = clin_data        "
   ]
  },
  {
   "cell_type": "code",
   "execution_count": 6,
   "metadata": {},
   "outputs": [
    {
     "data": {
      "text/plain": [
       "Index(['Dwh Prv Nip', 'Dwh Pat Consentement', 'Pat Nip', 'Pat Sexe_x',\n",
       "       'Pat Date Naissance_x', 'Dwh Pat Dn Date_x', 'Dwh Pat Date Deces_x',\n",
       "       'Dwh Prv Date Chir', 'Dwh Prv Diag Histologie', 'Grade', 'Dwh Gen Idh1',\n",
       "       'Dwh Gen Idh2', 'Dwh Gen Htert C228T', 'Dwh Gen Htert C250T',\n",
       "       'Dwh Gen P53', 'Dwh Gen Mgmt', 'Dwh Gen Egfr', 'Dwh Gen Mdm2',\n",
       "       'Dwh Gen Cdk4', 'Dwh Gen P16', 'Dwh Ihc Atrx', 'Dwh Chr Ch1P',\n",
       "       'Dwh Chr Ch19Q', 'Dwh Chr Ch10P', 'Dwh Chr Ch10Q', 'Dwh Chr Ch9P',\n",
       "       'Dwh Chr Ch9Q', 'Dwh Pat Tumeur Siege', 'Dwh Pat Tumeur Position',\n",
       "       'Pat Sexe_y', 'Pat Date Naissance_y', 'Dwh Pat Dn Date_y',\n",
       "       'Dwh Pat Date Deces_y', 'Clin Diag Histologie', 'Grade histo',\n",
       "       'Clin Chir Date', 'Clin Evolution', 'Clin Type Chirurgie',\n",
       "       'Clin Rx Date', 'Dwh Chm Date Debut'],\n",
       "      dtype='object')"
      ]
     },
     "execution_count": 6,
     "metadata": {},
     "output_type": "execute_result"
    }
   ],
   "source": [
    "df = pd.merge(bio, clin, left_on = ['Pat Nip','Dwh Prv Date Chir'], right_on = ['Pat Nip','Clin Chir Date'],how='outer')\n",
    "df.columns"
   ]
  },
  {
   "cell_type": "markdown",
   "metadata": {},
   "source": [
    "Before merging sexes, birthdays and deaths"
   ]
  },
  {
   "cell_type": "code",
   "execution_count": 7,
   "metadata": {},
   "outputs": [
    {
     "name": "stdout",
     "output_type": "stream",
     "text": [
      "False    7456\n",
      "True      369\n",
      "Name: Pat Sexe_x, dtype: int64\n",
      "False    7725\n",
      "True      100\n",
      "Name: Pat Date Naissance_x, dtype: int64\n",
      "True     4921\n",
      "False    2904\n",
      "Name: Dwh Pat Date Deces_x, dtype: int64\n"
     ]
    }
   ],
   "source": [
    "# Can check before merging the whole thing as well. \n",
    "#bio['Pat Sexe'].isnull().value_counts()\n",
    "print(df['Pat Sexe_x'].isnull().value_counts())\n",
    "print(df['Pat Date Naissance_x'].isnull().value_counts())\n",
    "print(df['Dwh Pat Date Deces_x'].isnull().value_counts())"
   ]
  },
  {
   "cell_type": "markdown",
   "metadata": {},
   "source": [
    "# Copy all _y columns into _x: sex, birthday and death, clinical histology, grade histology"
   ]
  },
  {
   "cell_type": "code",
   "execution_count": 8,
   "metadata": {
    "collapsed": true
   },
   "outputs": [],
   "source": [
    "for val in np.unique(df['Pat Nip']): \n",
    "    x_data = df.loc[df['Pat Nip']==val,'Pat Sexe_x']\n",
    "    y_data = df.loc[df['Pat Nip']==val,'Pat Sexe_y']\n",
    "    lc = len(x_data)\n",
    "    for i in range(0,lc):\n",
    "        check = x_data.iloc[i]\n",
    "        if pd.isnull(check):\n",
    "             x_data.iloc[i] = y_data.iloc[i]        \n",
    "    df.loc[df['Pat Nip']==val,'Pat Sexe_x'] = x_data\n",
    "\n",
    "for val in np.unique(df['Pat Nip']): \n",
    "    x_data = df.loc[df['Pat Nip']==val,'Pat Date Naissance_x']\n",
    "    y_data = df.loc[df['Pat Nip']==val,'Pat Date Naissance_y']\n",
    "    lc = len(x_data)\n",
    "    for i in range(0,lc):\n",
    "        check = x_data.iloc[i]\n",
    "        if pd.isnull(check):\n",
    "             x_data.iloc[i] = y_data.iloc[i]        \n",
    "    df.loc[df['Pat Nip']==val,'Pat Date Naissance_x'] = x_data    \n",
    "\n",
    "for val in np.unique(df['Pat Nip']): \n",
    "    x_data = df.loc[df['Pat Nip']==val,'Dwh Pat Date Deces_x']\n",
    "    y_data = df.loc[df['Pat Nip']==val,'Dwh Pat Date Deces_y']\n",
    "    lc = len(x_data)\n",
    "    for i in range(0,lc):\n",
    "        check = x_data.iloc[i]\n",
    "        if pd.isnull(check):\n",
    "             x_data.iloc[i] = y_data.iloc[i]        \n",
    "    df.loc[df['Pat Nip']==val,'Dwh Pat Date Deces_x'] = x_data   \n",
    "    \n",
    "for val in np.unique(df['Pat Nip']): \n",
    "    x_data = df.loc[df['Pat Nip']==val,'Dwh Prv Diag Histologie']\n",
    "    y_data = df.loc[df['Pat Nip']==val,'Clin Diag Histologie']\n",
    "    lc = len(x_data)\n",
    "    for i in range(0,lc):\n",
    "        check = x_data.iloc[i]\n",
    "        if pd.isnull(check):\n",
    "             x_data.iloc[i] = y_data.iloc[i]        \n",
    "    df.loc[df['Pat Nip']==val,'Dwh Prv Diag Histologie'] = x_data   \n",
    "\n",
    "for val in np.unique(df['Pat Nip']): \n",
    "    x_data = df.loc[df['Pat Nip']==val,'Grade']\n",
    "    y_data = df.loc[df['Pat Nip']==val,'Grade histo']\n",
    "    lc = len(x_data)\n",
    "    for i in range(0,lc):\n",
    "        check = x_data.iloc[i]\n",
    "        if pd.isnull(check):\n",
    "             x_data.iloc[i] = y_data.iloc[i]        \n",
    "    df.loc[df['Pat Nip']==val,'Grade'] = x_data   \n",
    "\n",
    "for val in np.unique(df['Pat Nip']): \n",
    "    x_data = df.loc[df['Pat Nip']==val,'Dwh Pat Dn Date_x']\n",
    "    y_data = df.loc[df['Pat Nip']==val,'Dwh Pat Dn Date_y']\n",
    "    lc = len(x_data)\n",
    "    for i in range(0,lc):\n",
    "        check = x_data.iloc[i]\n",
    "        if pd.isnull(check):\n",
    "             x_data.iloc[i] = y_data.iloc[i]        \n",
    "    df.loc[df['Pat Nip']==val,'Dwh Pat Dn Date_x'] = x_data   \n"
   ]
  },
  {
   "cell_type": "code",
   "execution_count": 9,
   "metadata": {},
   "outputs": [
    {
     "name": "stdout",
     "output_type": "stream",
     "text": [
      "False    7493\n",
      "True      332\n",
      "Name: Pat Sexe_x, dtype: int64\n",
      "False    7762\n",
      "True       63\n",
      "Name: Pat Date Naissance_x, dtype: int64\n",
      "True     4908\n",
      "False    2917\n",
      "Name: Dwh Pat Date Deces_x, dtype: int64\n",
      "False    7825\n",
      "Name: Dwh Prv Diag Histologie, dtype: int64\n"
     ]
    }
   ],
   "source": [
    "# A small improvement\n",
    "print(df['Pat Sexe_x'].isnull().value_counts())\n",
    "print(df['Pat Date Naissance_x'].isnull().value_counts())\n",
    "print(df['Dwh Pat Date Deces_x'].isnull().value_counts())\n",
    "print(df['Dwh Prv Diag Histologie'].isnull().value_counts())"
   ]
  },
  {
   "cell_type": "code",
   "execution_count": 10,
   "metadata": {},
   "outputs": [
    {
     "data": {
      "text/plain": [
       "Index(['Dwh Prv Nip', 'Dwh Pat Consentement', 'Pat Nip', 'Pat Sexe_x',\n",
       "       'Pat Date Naissance_x', 'Dwh Pat Dn Date_x', 'Dwh Pat Date Deces_x',\n",
       "       'Dwh Prv Date Chir', 'Dwh Prv Diag Histologie', 'Grade', 'Dwh Gen Idh1',\n",
       "       'Dwh Gen Idh2', 'Dwh Gen Htert C228T', 'Dwh Gen Htert C250T',\n",
       "       'Dwh Gen P53', 'Dwh Gen Mgmt', 'Dwh Gen Egfr', 'Dwh Gen Mdm2',\n",
       "       'Dwh Gen Cdk4', 'Dwh Gen P16', 'Dwh Ihc Atrx', 'Dwh Chr Ch1P',\n",
       "       'Dwh Chr Ch19Q', 'Dwh Chr Ch10P', 'Dwh Chr Ch10Q', 'Dwh Chr Ch9P',\n",
       "       'Dwh Chr Ch9Q', 'Dwh Pat Tumeur Siege', 'Dwh Pat Tumeur Position',\n",
       "       'Pat Sexe_y', 'Pat Date Naissance_y', 'Dwh Pat Dn Date_y',\n",
       "       'Dwh Pat Date Deces_y', 'Clin Diag Histologie', 'Grade histo',\n",
       "       'Clin Chir Date', 'Clin Evolution', 'Clin Type Chirurgie',\n",
       "       'Clin Rx Date', 'Dwh Chm Date Debut'],\n",
       "      dtype='object')"
      ]
     },
     "execution_count": 10,
     "metadata": {},
     "output_type": "execute_result"
    }
   ],
   "source": [
    "df.columns"
   ]
  },
  {
   "cell_type": "code",
   "execution_count": 11,
   "metadata": {
    "collapsed": true
   },
   "outputs": [],
   "source": [
    "df.rename(columns = {'Pat Nip':'ID','Pat Sexe_x':'Gender','Dwh Pat Dn Date_x':'Dernieres_nouvelles','Pat Date Naissance_x':'DoB','Dwh Pat Date Deces_x':'Death_date',\n",
    "                      'Dwh Prv Date Chir':'Surgery_date', 'Dwh Prv Diag Histologie':'Tumor_type','Grade':'Tumor_grade',\n",
    "                      'Dwh Gen Idh1':'Gene_Idh1', 'Dwh Gen Idh2':'Gene_Idh2','Dwh Gen Htert C228T':'Gene_Htert_C228T', \n",
    "                      'Dwh Gen Htert C250T':'Gene_Htert_C250T', \"Dwh Gen P53\":'Gene_P53', 'Dwh Gen Mgmt':'Gene_Mgmt', \n",
    "                      'Dwh Gen Egfr':'Gene_Egfr', 'Dwh Gen Mdm2':'Gene_Mdm2','Dwh Gen Cdk4':'Gene_Cdk4',\n",
    "                      'Dwh Gen P16':'Gene_P16', 'Dwh Ihc Atrx':'Gene_Ihc_Atrx', 'Dwh Chr Ch1P':'Gene_Ch1P',\n",
    "                      'Dwh Chr Ch19Q':'Gene_Ch19Q', 'Dwh Chr Ch10P':'Gene_Ch10P', 'Dwh Chr Ch10Q':'Gene_Ch10Q', 'Dwh Chr Ch9P':'Gene_Ch9P',\n",
    "                      'Dwh Chr Ch9Q':'Gene_Ch9Q', 'Dwh Pat Tumeur Siege':'Tumor_Location', 'Dwh Pat Tumeur Position':'Tumor_Position',\n",
    "                      'Clin Evolution':'Clinical_evolution', 'Clin Type Chirurgie':'Surgery_type',\n",
    "                      'Clin Rx Date':'Rx_date', 'Dwh Chm Date Debut':'Chemo_start_date'}, inplace = True)\n",
    "df.drop(['Dwh Pat Dn Date_y','Pat Sexe_y','Dwh Pat Date Deces_y','Pat Date Naissance_y'], axis=1,inplace=True)\n",
    "df.drop('Dwh Pat Consentement', axis=1, inplace=True)\n",
    "df.drop('Dwh Prv Nip', axis=1, inplace=True)\n",
    "df.drop(['Clin Diag Histologie', 'Grade histo','Clin Chir Date',],axis=1,inplace=True)"
   ]
  },
  {
   "cell_type": "code",
   "execution_count": 12,
   "metadata": {},
   "outputs": [
    {
     "data": {
      "text/plain": [
       "Index(['ID', 'Gender', 'DoB', 'Dernieres_nouvelles', 'Death_date',\n",
       "       'Surgery_date', 'Tumor_type', 'Tumor_grade', 'Gene_Idh1', 'Gene_Idh2',\n",
       "       'Gene_Htert_C228T', 'Gene_Htert_C250T', 'Gene_P53', 'Gene_Mgmt',\n",
       "       'Gene_Egfr', 'Gene_Mdm2', 'Gene_Cdk4', 'Gene_P16', 'Gene_Ihc_Atrx',\n",
       "       'Gene_Ch1P', 'Gene_Ch19Q', 'Gene_Ch10P', 'Gene_Ch10Q', 'Gene_Ch9P',\n",
       "       'Gene_Ch9Q', 'Tumor_Location', 'Tumor_Position', 'Clinical_evolution',\n",
       "       'Surgery_type', 'Rx_date', 'Chemo_start_date'],\n",
       "      dtype='object')"
      ]
     },
     "execution_count": 12,
     "metadata": {},
     "output_type": "execute_result"
    }
   ],
   "source": [
    "write_to_pickle(df,'post_merge_data')\n",
    "df.columns"
   ]
  },
  {
   "cell_type": "code",
   "execution_count": 13,
   "metadata": {
    "collapsed": true
   },
   "outputs": [],
   "source": [
    "df = read_from_pickle('post_merge_data')"
   ]
  },
  {
   "cell_type": "code",
   "execution_count": 25,
   "metadata": {},
   "outputs": [
    {
     "data": {
      "text/html": [
       "<div>\n",
       "<style scoped>\n",
       "    .dataframe tbody tr th:only-of-type {\n",
       "        vertical-align: middle;\n",
       "    }\n",
       "\n",
       "    .dataframe tbody tr th {\n",
       "        vertical-align: top;\n",
       "    }\n",
       "\n",
       "    .dataframe thead th {\n",
       "        text-align: right;\n",
       "    }\n",
       "</style>\n",
       "<table border=\"1\" class=\"dataframe\">\n",
       "  <thead>\n",
       "    <tr style=\"text-align: right;\">\n",
       "      <th></th>\n",
       "      <th>ID</th>\n",
       "      <th>Gender</th>\n",
       "      <th>DoB</th>\n",
       "      <th>Dernieres_nouvelles</th>\n",
       "      <th>Death_date</th>\n",
       "      <th>Surgery_date</th>\n",
       "      <th>Tumor_type</th>\n",
       "      <th>Tumor_grade</th>\n",
       "      <th>Gene_Idh1</th>\n",
       "      <th>Gene_Idh2</th>\n",
       "      <th>Gene_Htert_C228T</th>\n",
       "      <th>Gene_Htert_C250T</th>\n",
       "      <th>Gene_P53</th>\n",
       "      <th>Gene_Mgmt</th>\n",
       "      <th>Gene_Egfr</th>\n",
       "      <th>Gene_Mdm2</th>\n",
       "      <th>Gene_Cdk4</th>\n",
       "      <th>Gene_P16</th>\n",
       "      <th>Gene_Ihc_Atrx</th>\n",
       "      <th>Gene_Ch1P</th>\n",
       "      <th>Gene_Ch19Q</th>\n",
       "      <th>Gene_Ch10P</th>\n",
       "      <th>Gene_Ch10Q</th>\n",
       "      <th>Gene_Ch9P</th>\n",
       "      <th>Gene_Ch9Q</th>\n",
       "      <th>Tumor_Location</th>\n",
       "      <th>Tumor_Position</th>\n",
       "      <th>Clinical_evolution</th>\n",
       "      <th>Surgery_type</th>\n",
       "      <th>Rx_date</th>\n",
       "      <th>Chemo_start_date</th>\n",
       "    </tr>\n",
       "  </thead>\n",
       "  <tbody>\n",
       "    <tr>\n",
       "      <th>0</th>\n",
       "      <td>4</td>\n",
       "      <td>M</td>\n",
       "      <td>1940-05-22</td>\n",
       "      <td>NaT</td>\n",
       "      <td>2001-02-22</td>\n",
       "      <td>2000-05-30</td>\n",
       "      <td>glioblastome IV</td>\n",
       "      <td>4.0</td>\n",
       "      <td>NC</td>\n",
       "      <td>NC</td>\n",
       "      <td>NaN</td>\n",
       "      <td>NaN</td>\n",
       "      <td>NC</td>\n",
       "      <td>NaN</td>\n",
       "      <td>NaN</td>\n",
       "      <td>NaN</td>\n",
       "      <td>NaN</td>\n",
       "      <td>NaN</td>\n",
       "      <td>NaN</td>\n",
       "      <td>NaN</td>\n",
       "      <td>NaN</td>\n",
       "      <td>NaN</td>\n",
       "      <td>NaN</td>\n",
       "      <td>NaN</td>\n",
       "      <td>NaN</td>\n",
       "      <td>autre</td>\n",
       "      <td>G</td>\n",
       "      <td>P1</td>\n",
       "      <td>exérèse</td>\n",
       "      <td>2000-07-07</td>\n",
       "      <td>NaT</td>\n",
       "    </tr>\n",
       "    <tr>\n",
       "      <th>1</th>\n",
       "      <td>5</td>\n",
       "      <td>M</td>\n",
       "      <td>1947-10-15</td>\n",
       "      <td>NaT</td>\n",
       "      <td>1999-12-15</td>\n",
       "      <td>1999-05-29</td>\n",
       "      <td>glioblastome IV</td>\n",
       "      <td>4.0</td>\n",
       "      <td>NaN</td>\n",
       "      <td>NaN</td>\n",
       "      <td>NaN</td>\n",
       "      <td>NaN</td>\n",
       "      <td>NaN</td>\n",
       "      <td>NaN</td>\n",
       "      <td>NaN</td>\n",
       "      <td>NaN</td>\n",
       "      <td>NaN</td>\n",
       "      <td>NaN</td>\n",
       "      <td>NaN</td>\n",
       "      <td>NaN</td>\n",
       "      <td>NaN</td>\n",
       "      <td>NaN</td>\n",
       "      <td>NaN</td>\n",
       "      <td>NaN</td>\n",
       "      <td>NaN</td>\n",
       "      <td>sus-T hémisp</td>\n",
       "      <td>G</td>\n",
       "      <td>TT ini</td>\n",
       "      <td>biopsie</td>\n",
       "      <td>1999-07-12</td>\n",
       "      <td>1999-06-29</td>\n",
       "    </tr>\n",
       "  </tbody>\n",
       "</table>\n",
       "</div>"
      ],
      "text/plain": [
       "   ID Gender        DoB Dernieres_nouvelles Death_date Surgery_date  \\\n",
       "0   4      M 1940-05-22                 NaT 2001-02-22   2000-05-30   \n",
       "1   5      M 1947-10-15                 NaT 1999-12-15   1999-05-29   \n",
       "\n",
       "        Tumor_type  Tumor_grade Gene_Idh1 Gene_Idh2 Gene_Htert_C228T  \\\n",
       "0  glioblastome IV          4.0        NC        NC              NaN   \n",
       "1  glioblastome IV          4.0       NaN       NaN              NaN   \n",
       "\n",
       "  Gene_Htert_C250T Gene_P53 Gene_Mgmt Gene_Egfr Gene_Mdm2 Gene_Cdk4 Gene_P16  \\\n",
       "0              NaN       NC       NaN       NaN       NaN       NaN      NaN   \n",
       "1              NaN      NaN       NaN       NaN       NaN       NaN      NaN   \n",
       "\n",
       "  Gene_Ihc_Atrx Gene_Ch1P Gene_Ch19Q Gene_Ch10P Gene_Ch10Q Gene_Ch9P  \\\n",
       "0           NaN       NaN        NaN        NaN        NaN       NaN   \n",
       "1           NaN       NaN        NaN        NaN        NaN       NaN   \n",
       "\n",
       "  Gene_Ch9Q Tumor_Location Tumor_Position Clinical_evolution Surgery_type  \\\n",
       "0       NaN          autre              G                 P1      exérèse   \n",
       "1       NaN   sus-T hémisp              G             TT ini      biopsie   \n",
       "\n",
       "     Rx_date Chemo_start_date  \n",
       "0 2000-07-07              NaT  \n",
       "1 1999-07-12       1999-06-29  "
      ]
     },
     "execution_count": 25,
     "metadata": {},
     "output_type": "execute_result"
    }
   ],
   "source": [
    "df.head(2)"
   ]
  },
  {
   "cell_type": "markdown",
   "metadata": {},
   "source": [
    "# Checkpoint 1 \n",
    "## Merge done. Implement Marc's suggestions and deal with NaN"
   ]
  },
  {
   "cell_type": "code",
   "execution_count": 94,
   "metadata": {
    "collapsed": true
   },
   "outputs": [],
   "source": [
    "df_clean = df.copy(deep=True)"
   ]
  },
  {
   "cell_type": "code",
   "execution_count": 95,
   "metadata": {
    "collapsed": true
   },
   "outputs": [],
   "source": [
    "df_clean = df.copy(deep=True)\n",
    "\n",
    "# MC: Retain observations for which either Idh1 or Idh2 are null but not both\n",
    "df_clean = df_clean.loc[(df_clean.Gene_Idh2.notnull()) | (df_clean.Gene_Idh1.notnull())]\n",
    "\n",
    "df_clean= df_clean[df_clean.DoB.notnull()]\n",
    "df_clean = df_clean[df_clean.Gender.notnull()]\n",
    "\n",
    "# We therefore cannot work with missing values here (beyond specific left censoring methods of analysis)\n",
    "# Remove NaN for surgery dates before creating new variable\n",
    "df_clean = df_clean[df_clean.Surgery_date.notnull()]\n",
    "\n",
    "# Add age at surgery variable\n",
    "df_clean['Age_surgery'] = df_clean['Surgery_date'] - df_clean['DoB']\n",
    "\n",
    "# Marc comment: keep only observations where Clinical evolution was \"TT ini\" (initial evaluation)\n",
    "df_clean = df_clean.loc[df_clean['Clinical_evolution'] == \"TT ini\"]"
   ]
  },
  {
   "cell_type": "code",
   "execution_count": 96,
   "metadata": {},
   "outputs": [
    {
     "data": {
      "text/plain": [
       "(3758, 32)"
      ]
     },
     "execution_count": 96,
     "metadata": {},
     "output_type": "execute_result"
    }
   ],
   "source": [
    "df_clean.shape"
   ]
  },
  {
   "cell_type": "code",
   "execution_count": 97,
   "metadata": {},
   "outputs": [
    {
     "data": {
      "text/plain": [
       "False    3758\n",
       "dtype: int64"
      ]
     },
     "execution_count": 97,
     "metadata": {},
     "output_type": "execute_result"
    }
   ],
   "source": [
    "# Sanity check\n",
    "(df_clean.Gene_Idh1.isnull() & df_clean.Gene_Idh2.isnull()).value_counts()"
   ]
  },
  {
   "cell_type": "markdown",
   "metadata": {},
   "source": [
    "# Time manipulations\n",
    "## In this approach: \n",
    "* we remove null values for death dates by including Dernieres nouvelles for 2016 and 2017\n",
    "* life expectancy in months\n",
    "* we deal with null values for life_expectancy later on"
   ]
  },
  {
   "cell_type": "code",
   "execution_count": 98,
   "metadata": {
    "collapsed": true
   },
   "outputs": [],
   "source": [
    "# Convert Age at surgery to years\n",
    "df_clean['Age_surgery'] = df_clean['Age_surgery'] / np.timedelta64(1, 'Y')\n",
    "df_clean['Age_surgery'] = df_clean['Age_surgery'].round()"
   ]
  },
  {
   "cell_type": "code",
   "execution_count": 99,
   "metadata": {
    "collapsed": true
   },
   "outputs": [],
   "source": [
    "df_clean[\"Dernieres_nouvelles\"] = pd.to_datetime(df_clean[\"Dernieres_nouvelles\"])\n",
    "df_clean.loc[:,'Dernieres_nouvelles'] = df_clean['Dernieres_nouvelles'].dt.year"
   ]
  },
  {
   "cell_type": "code",
   "execution_count": 100,
   "metadata": {
    "collapsed": true
   },
   "outputs": [],
   "source": [
    "# Comment the first line to have the second approach\n",
    "df_clean = df_clean[(df_clean.Death_date.notnull()) | (df_clean['Dernieres_nouvelles'] == 2017) | (df_clean['Dernieres_nouvelles'] == 2016)]\n",
    "df_clean['life_expectancy'] = df_clean.Death_date - df_clean.Surgery_date"
   ]
  },
  {
   "cell_type": "code",
   "execution_count": 101,
   "metadata": {
    "collapsed": true
   },
   "outputs": [],
   "source": [
    "# The right way to reassign values in a column df.loc[rowname,colname] = assignment value\n",
    "df_clean.loc[:,'life_expectancy'] /= np.timedelta64(1, 'D')                                                        "
   ]
  },
  {
   "cell_type": "code",
   "execution_count": 102,
   "metadata": {},
   "outputs": [
    {
     "data": {
      "text/plain": [
       "False    2152\n",
       "True      562\n",
       "Name: life_expectancy, dtype: int64"
      ]
     },
     "execution_count": 102,
     "metadata": {},
     "output_type": "execute_result"
    }
   ],
   "source": [
    "df_clean.life_expectancy.isnull().value_counts()"
   ]
  },
  {
   "cell_type": "markdown",
   "metadata": {},
   "source": [
    "# Checkpoint 2\n",
    "## IDH and Tert re-engineering\n",
    "MC stands for Marc comments\n",
    "- collapse Gene IDH1 and IDH2 into IDH \n",
    "- collapse IDH1 or IDH2 mutant into IDH_mutant\n"
   ]
  },
  {
   "cell_type": "code",
   "execution_count": 103,
   "metadata": {
    "collapsed": true
   },
   "outputs": [],
   "source": [
    "df_clean_test = df_clean.copy(deep=True)"
   ]
  },
  {
   "cell_type": "code",
   "execution_count": 104,
   "metadata": {},
   "outputs": [
    {
     "data": {
      "text/html": [
       "<div>\n",
       "<style scoped>\n",
       "    .dataframe tbody tr th:only-of-type {\n",
       "        vertical-align: middle;\n",
       "    }\n",
       "\n",
       "    .dataframe tbody tr th {\n",
       "        vertical-align: top;\n",
       "    }\n",
       "\n",
       "    .dataframe thead th {\n",
       "        text-align: right;\n",
       "    }\n",
       "</style>\n",
       "<table border=\"1\" class=\"dataframe\">\n",
       "  <thead>\n",
       "    <tr style=\"text-align: right;\">\n",
       "      <th></th>\n",
       "      <th>ID</th>\n",
       "      <th>Gender</th>\n",
       "      <th>DoB</th>\n",
       "      <th>Dernieres_nouvelles</th>\n",
       "      <th>Death_date</th>\n",
       "      <th>Surgery_date</th>\n",
       "      <th>Tumor_type</th>\n",
       "      <th>Tumor_grade</th>\n",
       "      <th>Gene_Idh1</th>\n",
       "      <th>Gene_Idh2</th>\n",
       "      <th>Gene_Htert_C228T</th>\n",
       "      <th>Gene_Htert_C250T</th>\n",
       "      <th>Gene_P53</th>\n",
       "      <th>Gene_Mgmt</th>\n",
       "      <th>Gene_Egfr</th>\n",
       "      <th>Gene_Mdm2</th>\n",
       "      <th>Gene_Cdk4</th>\n",
       "      <th>Gene_P16</th>\n",
       "      <th>Gene_Ihc_Atrx</th>\n",
       "      <th>Gene_Ch1P</th>\n",
       "      <th>Gene_Ch19Q</th>\n",
       "      <th>Gene_Ch10P</th>\n",
       "      <th>Gene_Ch10Q</th>\n",
       "      <th>Gene_Ch9P</th>\n",
       "      <th>Gene_Ch9Q</th>\n",
       "      <th>Tumor_Location</th>\n",
       "      <th>Tumor_Position</th>\n",
       "      <th>Clinical_evolution</th>\n",
       "      <th>Surgery_type</th>\n",
       "      <th>Rx_date</th>\n",
       "      <th>Chemo_start_date</th>\n",
       "      <th>Age_surgery</th>\n",
       "      <th>life_expectancy</th>\n",
       "      <th>IDH</th>\n",
       "    </tr>\n",
       "  </thead>\n",
       "  <tbody>\n",
       "    <tr>\n",
       "      <th>2</th>\n",
       "      <td>10</td>\n",
       "      <td>M</td>\n",
       "      <td>1949-11-05</td>\n",
       "      <td>NaN</td>\n",
       "      <td>1992-05-15</td>\n",
       "      <td>1992-04-15</td>\n",
       "      <td>gliome mixte ana III</td>\n",
       "      <td>3.0</td>\n",
       "      <td>ALTERE</td>\n",
       "      <td>NORMAL</td>\n",
       "      <td>NORMAL</td>\n",
       "      <td>NORMAL</td>\n",
       "      <td>NC</td>\n",
       "      <td>NaN</td>\n",
       "      <td>NORMAL</td>\n",
       "      <td>NaN</td>\n",
       "      <td>NaN</td>\n",
       "      <td>NaN</td>\n",
       "      <td>NaN</td>\n",
       "      <td>NON PERTE</td>\n",
       "      <td>NON PERTE</td>\n",
       "      <td>NON PERTE</td>\n",
       "      <td>PERDU</td>\n",
       "      <td>NON PERTE</td>\n",
       "      <td>NaN</td>\n",
       "      <td>sus-T hémisp</td>\n",
       "      <td>G</td>\n",
       "      <td>TT ini</td>\n",
       "      <td>partielle</td>\n",
       "      <td>1992-05-01</td>\n",
       "      <td>1992-05-01</td>\n",
       "      <td>42.0</td>\n",
       "      <td>30.0</td>\n",
       "      <td>mutant</td>\n",
       "    </tr>\n",
       "    <tr>\n",
       "      <th>3</th>\n",
       "      <td>11</td>\n",
       "      <td>M</td>\n",
       "      <td>1958-07-29</td>\n",
       "      <td>NaN</td>\n",
       "      <td>1991-11-15</td>\n",
       "      <td>1986-03-17</td>\n",
       "      <td>astrocytome bas grade II</td>\n",
       "      <td>2.0</td>\n",
       "      <td>NC</td>\n",
       "      <td>NC</td>\n",
       "      <td>NaN</td>\n",
       "      <td>NaN</td>\n",
       "      <td>NC</td>\n",
       "      <td>NaN</td>\n",
       "      <td>NaN</td>\n",
       "      <td>NaN</td>\n",
       "      <td>NaN</td>\n",
       "      <td>NaN</td>\n",
       "      <td>NaN</td>\n",
       "      <td>NaN</td>\n",
       "      <td>NaN</td>\n",
       "      <td>NaN</td>\n",
       "      <td>NaN</td>\n",
       "      <td>NaN</td>\n",
       "      <td>NaN</td>\n",
       "      <td>non précisé</td>\n",
       "      <td>non précisé</td>\n",
       "      <td>TT ini</td>\n",
       "      <td>exérèse</td>\n",
       "      <td>1986-04-01</td>\n",
       "      <td>NaT</td>\n",
       "      <td>28.0</td>\n",
       "      <td>2069.0</td>\n",
       "      <td>NC</td>\n",
       "    </tr>\n",
       "  </tbody>\n",
       "</table>\n",
       "</div>"
      ],
      "text/plain": [
       "   ID Gender        DoB  Dernieres_nouvelles Death_date Surgery_date  \\\n",
       "2  10      M 1949-11-05                  NaN 1992-05-15   1992-04-15   \n",
       "3  11      M 1958-07-29                  NaN 1991-11-15   1986-03-17   \n",
       "\n",
       "                 Tumor_type  Tumor_grade Gene_Idh1 Gene_Idh2 Gene_Htert_C228T  \\\n",
       "2      gliome mixte ana III          3.0    ALTERE    NORMAL           NORMAL   \n",
       "3  astrocytome bas grade II          2.0        NC        NC              NaN   \n",
       "\n",
       "  Gene_Htert_C250T Gene_P53 Gene_Mgmt Gene_Egfr Gene_Mdm2 Gene_Cdk4 Gene_P16  \\\n",
       "2           NORMAL       NC       NaN    NORMAL       NaN       NaN      NaN   \n",
       "3              NaN       NC       NaN       NaN       NaN       NaN      NaN   \n",
       "\n",
       "  Gene_Ihc_Atrx  Gene_Ch1P Gene_Ch19Q Gene_Ch10P Gene_Ch10Q  Gene_Ch9P  \\\n",
       "2           NaN  NON PERTE  NON PERTE  NON PERTE      PERDU  NON PERTE   \n",
       "3           NaN        NaN        NaN        NaN        NaN        NaN   \n",
       "\n",
       "  Gene_Ch9Q Tumor_Location Tumor_Position Clinical_evolution Surgery_type  \\\n",
       "2       NaN   sus-T hémisp              G             TT ini    partielle   \n",
       "3       NaN    non précisé    non précisé             TT ini      exérèse   \n",
       "\n",
       "     Rx_date Chemo_start_date  Age_surgery  life_expectancy     IDH  \n",
       "2 1992-05-01       1992-05-01         42.0             30.0  mutant  \n",
       "3 1986-04-01              NaT         28.0           2069.0      NC  "
      ]
     },
     "execution_count": 104,
     "metadata": {},
     "output_type": "execute_result"
    }
   ],
   "source": [
    "# implementing rule per MC\n",
    "# collapse'Gene_Idh1', 'Gene_Idh2' into \"IDH\"\n",
    "# IDH mutant = 'Gene_Idh1' OR 'Gene_Idh2' mutant\n",
    "# IDHwt = 'Gene_Idh1'wt AND  'Gene_Idh2'wt; OR 'Gene_Idh1'wt AND IDH2 unknown\n",
    "# Expl : IDH2 mutation are much less frequent than IDH1 mutations (5% of all the mutations)\n",
    "\n",
    "df_clean_test.loc[(df_clean_test['Gene_Idh1'] == 'ALTERE') | (df_clean_test['Gene_Idh2'] == 'ALTERE'), \"IDH\"] = \"mutant\"\n",
    "df_clean_test.loc[(df_clean_test['Gene_Idh1'] == 'NORMAL') & (df_clean_test['Gene_Idh2'] == 'NORMAL'), \"IDH\"] = \"wt\"\n",
    "df_clean_test.loc[(df_clean_test['Gene_Idh1'] == 'NORMAL') & (df_clean_test['Gene_Idh2'].isnull()), \"IDH\"] = \"wt\"\n",
    "df_clean_test.loc[(df_clean_test['Gene_Idh1'] == 'NORMAL') & (df_clean_test['Gene_Idh2'] == \"NC\"), \"IDH\"] = \"wt\"\n",
    "df_clean_test.loc[(df_clean_test['Gene_Idh1'] == 'NC') & (df_clean_test['Gene_Idh2'] == 'NC'), \"IDH\"] = \"NC\"\n",
    "df_clean_test.head(2)\n",
    "#The below only applies in the dataset without right censored data\n",
    "#Remove dernieres nouvelles as in this notebook we focus only on patients with a confirmed survival time since surgery\n",
    "#df_clean.drop('Dernieres_nouvelles', axis=1, inplace=True)"
   ]
  },
  {
   "cell_type": "code",
   "execution_count": 105,
   "metadata": {},
   "outputs": [
    {
     "data": {
      "text/html": [
       "<div>\n",
       "<style scoped>\n",
       "    .dataframe tbody tr th:only-of-type {\n",
       "        vertical-align: middle;\n",
       "    }\n",
       "\n",
       "    .dataframe tbody tr th {\n",
       "        vertical-align: top;\n",
       "    }\n",
       "\n",
       "    .dataframe thead th {\n",
       "        text-align: right;\n",
       "    }\n",
       "</style>\n",
       "<table border=\"1\" class=\"dataframe\">\n",
       "  <thead>\n",
       "    <tr style=\"text-align: right;\">\n",
       "      <th></th>\n",
       "      <th>ID</th>\n",
       "      <th>Gender</th>\n",
       "      <th>DoB</th>\n",
       "      <th>Dernieres_nouvelles</th>\n",
       "      <th>Death_date</th>\n",
       "      <th>Surgery_date</th>\n",
       "      <th>Tumor_type</th>\n",
       "      <th>Tumor_grade</th>\n",
       "      <th>Gene_Idh1</th>\n",
       "      <th>Gene_Idh2</th>\n",
       "      <th>Gene_Htert_C228T</th>\n",
       "      <th>Gene_Htert_C250T</th>\n",
       "      <th>Gene_P53</th>\n",
       "      <th>Gene_Mgmt</th>\n",
       "      <th>Gene_Egfr</th>\n",
       "      <th>Gene_Mdm2</th>\n",
       "      <th>Gene_Cdk4</th>\n",
       "      <th>Gene_P16</th>\n",
       "      <th>Gene_Ihc_Atrx</th>\n",
       "      <th>Gene_Ch1P</th>\n",
       "      <th>Gene_Ch19Q</th>\n",
       "      <th>Gene_Ch10P</th>\n",
       "      <th>Gene_Ch10Q</th>\n",
       "      <th>Gene_Ch9P</th>\n",
       "      <th>Gene_Ch9Q</th>\n",
       "      <th>Tumor_Location</th>\n",
       "      <th>Tumor_Position</th>\n",
       "      <th>Clinical_evolution</th>\n",
       "      <th>Surgery_type</th>\n",
       "      <th>Rx_date</th>\n",
       "      <th>Chemo_start_date</th>\n",
       "      <th>Age_surgery</th>\n",
       "      <th>life_expectancy</th>\n",
       "      <th>IDH</th>\n",
       "      <th>TERT</th>\n",
       "    </tr>\n",
       "  </thead>\n",
       "  <tbody>\n",
       "    <tr>\n",
       "      <th>2</th>\n",
       "      <td>10</td>\n",
       "      <td>M</td>\n",
       "      <td>1949-11-05</td>\n",
       "      <td>NaN</td>\n",
       "      <td>1992-05-15</td>\n",
       "      <td>1992-04-15</td>\n",
       "      <td>gliome mixte ana III</td>\n",
       "      <td>3.0</td>\n",
       "      <td>ALTERE</td>\n",
       "      <td>NORMAL</td>\n",
       "      <td>NORMAL</td>\n",
       "      <td>NORMAL</td>\n",
       "      <td>NC</td>\n",
       "      <td>NaN</td>\n",
       "      <td>NORMAL</td>\n",
       "      <td>NaN</td>\n",
       "      <td>NaN</td>\n",
       "      <td>NaN</td>\n",
       "      <td>NaN</td>\n",
       "      <td>NON PERTE</td>\n",
       "      <td>NON PERTE</td>\n",
       "      <td>NON PERTE</td>\n",
       "      <td>PERDU</td>\n",
       "      <td>NON PERTE</td>\n",
       "      <td>NaN</td>\n",
       "      <td>sus-T hémisp</td>\n",
       "      <td>G</td>\n",
       "      <td>TT ini</td>\n",
       "      <td>partielle</td>\n",
       "      <td>1992-05-01</td>\n",
       "      <td>1992-05-01</td>\n",
       "      <td>42.0</td>\n",
       "      <td>30.0</td>\n",
       "      <td>mutant</td>\n",
       "      <td>wt</td>\n",
       "    </tr>\n",
       "    <tr>\n",
       "      <th>3</th>\n",
       "      <td>11</td>\n",
       "      <td>M</td>\n",
       "      <td>1958-07-29</td>\n",
       "      <td>NaN</td>\n",
       "      <td>1991-11-15</td>\n",
       "      <td>1986-03-17</td>\n",
       "      <td>astrocytome bas grade II</td>\n",
       "      <td>2.0</td>\n",
       "      <td>NC</td>\n",
       "      <td>NC</td>\n",
       "      <td>NaN</td>\n",
       "      <td>NaN</td>\n",
       "      <td>NC</td>\n",
       "      <td>NaN</td>\n",
       "      <td>NaN</td>\n",
       "      <td>NaN</td>\n",
       "      <td>NaN</td>\n",
       "      <td>NaN</td>\n",
       "      <td>NaN</td>\n",
       "      <td>NaN</td>\n",
       "      <td>NaN</td>\n",
       "      <td>NaN</td>\n",
       "      <td>NaN</td>\n",
       "      <td>NaN</td>\n",
       "      <td>NaN</td>\n",
       "      <td>non précisé</td>\n",
       "      <td>non précisé</td>\n",
       "      <td>TT ini</td>\n",
       "      <td>exérèse</td>\n",
       "      <td>1986-04-01</td>\n",
       "      <td>NaT</td>\n",
       "      <td>28.0</td>\n",
       "      <td>2069.0</td>\n",
       "      <td>NC</td>\n",
       "      <td>NaN</td>\n",
       "    </tr>\n",
       "  </tbody>\n",
       "</table>\n",
       "</div>"
      ],
      "text/plain": [
       "   ID Gender        DoB  Dernieres_nouvelles Death_date Surgery_date  \\\n",
       "2  10      M 1949-11-05                  NaN 1992-05-15   1992-04-15   \n",
       "3  11      M 1958-07-29                  NaN 1991-11-15   1986-03-17   \n",
       "\n",
       "                 Tumor_type  Tumor_grade Gene_Idh1 Gene_Idh2 Gene_Htert_C228T  \\\n",
       "2      gliome mixte ana III          3.0    ALTERE    NORMAL           NORMAL   \n",
       "3  astrocytome bas grade II          2.0        NC        NC              NaN   \n",
       "\n",
       "  Gene_Htert_C250T Gene_P53 Gene_Mgmt Gene_Egfr Gene_Mdm2 Gene_Cdk4 Gene_P16  \\\n",
       "2           NORMAL       NC       NaN    NORMAL       NaN       NaN      NaN   \n",
       "3              NaN       NC       NaN       NaN       NaN       NaN      NaN   \n",
       "\n",
       "  Gene_Ihc_Atrx  Gene_Ch1P Gene_Ch19Q Gene_Ch10P Gene_Ch10Q  Gene_Ch9P  \\\n",
       "2           NaN  NON PERTE  NON PERTE  NON PERTE      PERDU  NON PERTE   \n",
       "3           NaN        NaN        NaN        NaN        NaN        NaN   \n",
       "\n",
       "  Gene_Ch9Q Tumor_Location Tumor_Position Clinical_evolution Surgery_type  \\\n",
       "2       NaN   sus-T hémisp              G             TT ini    partielle   \n",
       "3       NaN    non précisé    non précisé             TT ini      exérèse   \n",
       "\n",
       "     Rx_date Chemo_start_date  Age_surgery  life_expectancy     IDH TERT  \n",
       "2 1992-05-01       1992-05-01         42.0             30.0  mutant   wt  \n",
       "3 1986-04-01              NaT         28.0           2069.0      NC  NaN  "
      ]
     },
     "execution_count": 105,
     "metadata": {},
     "output_type": "execute_result"
    }
   ],
   "source": [
    "#implementing rule per MC \n",
    "#Tert instead of 'Gene_Htert_C228T', 'Gene_Htert_C250T'\n",
    "#Tert mutant= 'Gene_Htert_C228T'mut OR 'Gene_Htert_C250T'mut\n",
    "#Tert wt= 'Gene_Htert_C228T'wt  AND 'Gene_Htert_C250T' wt\n",
    "df_clean_test.loc[(df_clean_test['Gene_Htert_C228T'] == 'ALTERE') | (df_clean_test['Gene_Htert_C250T'] == 'ALTERE'), \"TERT\"] = \"mutant\"\n",
    "df_clean_test.loc[(df_clean_test['Gene_Htert_C228T'] == 'NORMAL') & (df_clean_test['Gene_Htert_C250T'] == 'NORMAL'), \"TERT\"] = \"wt\"\n",
    "df_clean_test.head(2)"
   ]
  },
  {
   "cell_type": "markdown",
   "metadata": {},
   "source": [
    "## IDH - Tert interactions"
   ]
  },
  {
   "cell_type": "code",
   "execution_count": 106,
   "metadata": {
    "collapsed": true
   },
   "outputs": [],
   "source": [
    "# MC: implementing clinical interaction variable between IDH and TERT\n",
    "# we will implement this rule based on the underlying IDH1, IDH2, TERT C250T and TERT C228T because they contain more information\n",
    "# for example if IDH1 is missing, and IDH 2 is NORMAL, IDH will also be missing even though IDH2 is present \n",
    "# IDH+ TERT+ == 1 (very good prognosis)\n",
    "# IDH+ TERT- == 2\n",
    "# IDH- TERT- == 3\n",
    "# IDH- TERT+ == 4\n",
    "\n",
    "df_clean_test.loc[((df_clean_test['Gene_Idh1'] == 'ALTERE') | (df_clean_test['Gene_Idh2'] == 'ALTERE')) & ((df_clean_test['Gene_Htert_C228T'] == \"ALTERE\") | (df_clean_test['Gene_Htert_C250T'] == \"ALTERE\")), \"IDH_TERT\"] = 1 \n",
    "df_clean_test.loc[((df_clean_test['Gene_Idh1'] == 'ALTERE') | (df_clean_test['Gene_Idh2'] == 'ALTERE')) & ((df_clean_test['Gene_Htert_C228T'] == \"NORMAL\") | (df_clean_test['Gene_Htert_C250T'] == \"NORMAL\")), \"IDH_TERT\"] = 2 \n",
    "df_clean_test.loc[((df_clean_test['Gene_Idh1'] == 'NORMAL') | (df_clean_test['Gene_Idh2'] == 'NORMAL')) & ((df_clean_test['Gene_Htert_C228T'] == \"NORMAL\") | (df_clean_test['Gene_Htert_C250T'] == \"NORMAL\")), \"IDH_TERT\"] = 3\n",
    "df_clean_test.loc[((df_clean_test['Gene_Idh1'] == 'NORMAL') | (df_clean_test['Gene_Idh2'] == 'NORMAL')) & ((df_clean_test['Gene_Htert_C228T'] == \"ALTERE\") | (df_clean_test['Gene_Htert_C250T'] == \"ALTERE\")), \"IDH_TERT\"] = 4\n",
    "\n",
    "# ignore below implementation based on IDH and TERT directly\n",
    "# df_clean_test.loc[(df_clean_test['IDH'] == 'mutant') & (df_clean_test['TERT'] == 'mutant'), \"IDH_TERT\"] = 1\n",
    "# df_clean_test.loc[(df_clean_test['IDH'] == 'mutant') & (df_clean_test['TERT'] == 'wt'), \"IDH_TERT\"] = 2\n",
    "# df_clean_test.loc[(df_clean_test['IDH'] == 'wt') & (df_clean_test['TERT'] == 'wt'), \"IDH_TERT\"] = 3\n",
    "# df_clean_test.loc[(df_clean_test['IDH'] == 'wt') & (df_clean_test['TERT'] == 'mutant'), \"IDH_TERT\"] = 4"
   ]
  },
  {
   "cell_type": "markdown",
   "metadata": {},
   "source": [
    "## Delete old IDH and Tert"
   ]
  },
  {
   "cell_type": "code",
   "execution_count": 107,
   "metadata": {
    "collapsed": true
   },
   "outputs": [],
   "source": [
    "#now delete IDH1 and IDH2 variables\n",
    "df_clean_test.drop(\"Gene_Idh1\", axis = 1, inplace=True)\n",
    "df_clean_test.drop(\"Gene_Idh2\", axis = 1, inplace=True)\n",
    "\n",
    "#now delete TERT variables C228T and C250T\n",
    "df_clean_test.drop(\"Gene_Htert_C228T\", axis = 1, inplace=True)\n",
    "df_clean_test.drop(\"Gene_Htert_C250T\", axis = 1, inplace=True)"
   ]
  },
  {
   "cell_type": "code",
   "execution_count": 108,
   "metadata": {},
   "outputs": [
    {
     "data": {
      "text/html": [
       "<div>\n",
       "<style scoped>\n",
       "    .dataframe tbody tr th:only-of-type {\n",
       "        vertical-align: middle;\n",
       "    }\n",
       "\n",
       "    .dataframe tbody tr th {\n",
       "        vertical-align: top;\n",
       "    }\n",
       "\n",
       "    .dataframe thead th {\n",
       "        text-align: right;\n",
       "    }\n",
       "</style>\n",
       "<table border=\"1\" class=\"dataframe\">\n",
       "  <thead>\n",
       "    <tr style=\"text-align: right;\">\n",
       "      <th></th>\n",
       "      <th>ID</th>\n",
       "      <th>Gender</th>\n",
       "      <th>DoB</th>\n",
       "      <th>Dernieres_nouvelles</th>\n",
       "      <th>Death_date</th>\n",
       "      <th>Surgery_date</th>\n",
       "      <th>Tumor_type</th>\n",
       "      <th>Tumor_grade</th>\n",
       "      <th>Gene_P53</th>\n",
       "      <th>Gene_Mgmt</th>\n",
       "      <th>Gene_Egfr</th>\n",
       "      <th>Gene_Mdm2</th>\n",
       "      <th>Gene_Cdk4</th>\n",
       "      <th>Gene_P16</th>\n",
       "      <th>Gene_Ihc_Atrx</th>\n",
       "      <th>Gene_Ch1P</th>\n",
       "      <th>Gene_Ch19Q</th>\n",
       "      <th>Gene_Ch10P</th>\n",
       "      <th>Gene_Ch10Q</th>\n",
       "      <th>Gene_Ch9P</th>\n",
       "      <th>Gene_Ch9Q</th>\n",
       "      <th>Tumor_Location</th>\n",
       "      <th>Tumor_Position</th>\n",
       "      <th>Clinical_evolution</th>\n",
       "      <th>Surgery_type</th>\n",
       "      <th>Rx_date</th>\n",
       "      <th>Chemo_start_date</th>\n",
       "      <th>Age_surgery</th>\n",
       "      <th>life_expectancy</th>\n",
       "      <th>IDH</th>\n",
       "      <th>TERT</th>\n",
       "      <th>IDH_TERT</th>\n",
       "    </tr>\n",
       "  </thead>\n",
       "  <tbody>\n",
       "    <tr>\n",
       "      <th>2</th>\n",
       "      <td>10</td>\n",
       "      <td>M</td>\n",
       "      <td>1949-11-05</td>\n",
       "      <td>NaN</td>\n",
       "      <td>1992-05-15</td>\n",
       "      <td>1992-04-15</td>\n",
       "      <td>gliome mixte ana III</td>\n",
       "      <td>3.0</td>\n",
       "      <td>NC</td>\n",
       "      <td>NaN</td>\n",
       "      <td>NORMAL</td>\n",
       "      <td>NaN</td>\n",
       "      <td>NaN</td>\n",
       "      <td>NaN</td>\n",
       "      <td>NaN</td>\n",
       "      <td>NON PERTE</td>\n",
       "      <td>NON PERTE</td>\n",
       "      <td>NON PERTE</td>\n",
       "      <td>PERDU</td>\n",
       "      <td>NON PERTE</td>\n",
       "      <td>NaN</td>\n",
       "      <td>sus-T hémisp</td>\n",
       "      <td>G</td>\n",
       "      <td>TT ini</td>\n",
       "      <td>partielle</td>\n",
       "      <td>1992-05-01</td>\n",
       "      <td>1992-05-01</td>\n",
       "      <td>42.0</td>\n",
       "      <td>30.0</td>\n",
       "      <td>mutant</td>\n",
       "      <td>wt</td>\n",
       "      <td>3.0</td>\n",
       "    </tr>\n",
       "    <tr>\n",
       "      <th>3</th>\n",
       "      <td>11</td>\n",
       "      <td>M</td>\n",
       "      <td>1958-07-29</td>\n",
       "      <td>NaN</td>\n",
       "      <td>1991-11-15</td>\n",
       "      <td>1986-03-17</td>\n",
       "      <td>astrocytome bas grade II</td>\n",
       "      <td>2.0</td>\n",
       "      <td>NC</td>\n",
       "      <td>NaN</td>\n",
       "      <td>NaN</td>\n",
       "      <td>NaN</td>\n",
       "      <td>NaN</td>\n",
       "      <td>NaN</td>\n",
       "      <td>NaN</td>\n",
       "      <td>NaN</td>\n",
       "      <td>NaN</td>\n",
       "      <td>NaN</td>\n",
       "      <td>NaN</td>\n",
       "      <td>NaN</td>\n",
       "      <td>NaN</td>\n",
       "      <td>non précisé</td>\n",
       "      <td>non précisé</td>\n",
       "      <td>TT ini</td>\n",
       "      <td>exérèse</td>\n",
       "      <td>1986-04-01</td>\n",
       "      <td>NaT</td>\n",
       "      <td>28.0</td>\n",
       "      <td>2069.0</td>\n",
       "      <td>NC</td>\n",
       "      <td>NaN</td>\n",
       "      <td>NaN</td>\n",
       "    </tr>\n",
       "  </tbody>\n",
       "</table>\n",
       "</div>"
      ],
      "text/plain": [
       "   ID Gender        DoB  Dernieres_nouvelles Death_date Surgery_date  \\\n",
       "2  10      M 1949-11-05                  NaN 1992-05-15   1992-04-15   \n",
       "3  11      M 1958-07-29                  NaN 1991-11-15   1986-03-17   \n",
       "\n",
       "                 Tumor_type  Tumor_grade Gene_P53 Gene_Mgmt Gene_Egfr  \\\n",
       "2      gliome mixte ana III          3.0       NC       NaN    NORMAL   \n",
       "3  astrocytome bas grade II          2.0       NC       NaN       NaN   \n",
       "\n",
       "  Gene_Mdm2 Gene_Cdk4 Gene_P16 Gene_Ihc_Atrx  Gene_Ch1P Gene_Ch19Q Gene_Ch10P  \\\n",
       "2       NaN       NaN      NaN           NaN  NON PERTE  NON PERTE  NON PERTE   \n",
       "3       NaN       NaN      NaN           NaN        NaN        NaN        NaN   \n",
       "\n",
       "  Gene_Ch10Q  Gene_Ch9P Gene_Ch9Q Tumor_Location Tumor_Position  \\\n",
       "2      PERDU  NON PERTE       NaN   sus-T hémisp              G   \n",
       "3        NaN        NaN       NaN    non précisé    non précisé   \n",
       "\n",
       "  Clinical_evolution Surgery_type    Rx_date Chemo_start_date  Age_surgery  \\\n",
       "2             TT ini    partielle 1992-05-01       1992-05-01         42.0   \n",
       "3             TT ini      exérèse 1986-04-01              NaT         28.0   \n",
       "\n",
       "   life_expectancy     IDH TERT  IDH_TERT  \n",
       "2             30.0  mutant   wt       3.0  \n",
       "3           2069.0      NC  NaN       NaN  "
      ]
     },
     "execution_count": 108,
     "metadata": {},
     "output_type": "execute_result"
    }
   ],
   "source": [
    "df_clean_test.head(2)"
   ]
  },
  {
   "cell_type": "markdown",
   "metadata": {},
   "source": [
    "## GBM rules and tumor locations recoding"
   ]
  },
  {
   "cell_type": "code",
   "execution_count": 109,
   "metadata": {},
   "outputs": [
    {
     "data": {
      "text/html": [
       "<div>\n",
       "<style scoped>\n",
       "    .dataframe tbody tr th:only-of-type {\n",
       "        vertical-align: middle;\n",
       "    }\n",
       "\n",
       "    .dataframe tbody tr th {\n",
       "        vertical-align: top;\n",
       "    }\n",
       "\n",
       "    .dataframe thead th {\n",
       "        text-align: right;\n",
       "    }\n",
       "</style>\n",
       "<table border=\"1\" class=\"dataframe\">\n",
       "  <thead>\n",
       "    <tr style=\"text-align: right;\">\n",
       "      <th></th>\n",
       "      <th>ID</th>\n",
       "      <th>Gender</th>\n",
       "      <th>DoB</th>\n",
       "      <th>Dernieres_nouvelles</th>\n",
       "      <th>Death_date</th>\n",
       "      <th>Surgery_date</th>\n",
       "      <th>Tumor_type</th>\n",
       "      <th>Tumor_grade</th>\n",
       "      <th>Gene_P53</th>\n",
       "      <th>Gene_Mgmt</th>\n",
       "      <th>Gene_Egfr</th>\n",
       "      <th>Gene_Mdm2</th>\n",
       "      <th>Gene_Cdk4</th>\n",
       "      <th>Gene_P16</th>\n",
       "      <th>Gene_Ihc_Atrx</th>\n",
       "      <th>Gene_Ch1P</th>\n",
       "      <th>Gene_Ch19Q</th>\n",
       "      <th>Gene_Ch10P</th>\n",
       "      <th>Gene_Ch10Q</th>\n",
       "      <th>Gene_Ch9P</th>\n",
       "      <th>Gene_Ch9Q</th>\n",
       "      <th>Tumor_Location</th>\n",
       "      <th>Tumor_Position</th>\n",
       "      <th>Clinical_evolution</th>\n",
       "      <th>Surgery_type</th>\n",
       "      <th>Rx_date</th>\n",
       "      <th>Chemo_start_date</th>\n",
       "      <th>Age_surgery</th>\n",
       "      <th>life_expectancy</th>\n",
       "      <th>IDH</th>\n",
       "      <th>TERT</th>\n",
       "      <th>IDH_TERT</th>\n",
       "    </tr>\n",
       "  </thead>\n",
       "  <tbody>\n",
       "    <tr>\n",
       "      <th>2</th>\n",
       "      <td>10</td>\n",
       "      <td>M</td>\n",
       "      <td>1949-11-05</td>\n",
       "      <td>NaN</td>\n",
       "      <td>1992-05-15</td>\n",
       "      <td>1992-04-15</td>\n",
       "      <td>gliome</td>\n",
       "      <td>3.0</td>\n",
       "      <td>NC</td>\n",
       "      <td>NaN</td>\n",
       "      <td>NORMAL</td>\n",
       "      <td>NaN</td>\n",
       "      <td>NaN</td>\n",
       "      <td>NaN</td>\n",
       "      <td>NaN</td>\n",
       "      <td>NON PERTE</td>\n",
       "      <td>NON PERTE</td>\n",
       "      <td>NON PERTE</td>\n",
       "      <td>PERDU</td>\n",
       "      <td>NON PERTE</td>\n",
       "      <td>NaN</td>\n",
       "      <td>sus-T hémisp</td>\n",
       "      <td>G</td>\n",
       "      <td>TT ini</td>\n",
       "      <td>partielle</td>\n",
       "      <td>1992-05-01</td>\n",
       "      <td>1992-05-01</td>\n",
       "      <td>42.0</td>\n",
       "      <td>30.0</td>\n",
       "      <td>mutant</td>\n",
       "      <td>wt</td>\n",
       "      <td>3.0</td>\n",
       "    </tr>\n",
       "    <tr>\n",
       "      <th>3</th>\n",
       "      <td>11</td>\n",
       "      <td>M</td>\n",
       "      <td>1958-07-29</td>\n",
       "      <td>NaN</td>\n",
       "      <td>1991-11-15</td>\n",
       "      <td>1986-03-17</td>\n",
       "      <td>astrocytome</td>\n",
       "      <td>2.0</td>\n",
       "      <td>NC</td>\n",
       "      <td>NaN</td>\n",
       "      <td>NaN</td>\n",
       "      <td>NaN</td>\n",
       "      <td>NaN</td>\n",
       "      <td>NaN</td>\n",
       "      <td>NaN</td>\n",
       "      <td>NaN</td>\n",
       "      <td>NaN</td>\n",
       "      <td>NaN</td>\n",
       "      <td>NaN</td>\n",
       "      <td>NaN</td>\n",
       "      <td>NaN</td>\n",
       "      <td>non précisé</td>\n",
       "      <td>non précisé</td>\n",
       "      <td>TT ini</td>\n",
       "      <td>exérèse</td>\n",
       "      <td>1986-04-01</td>\n",
       "      <td>NaT</td>\n",
       "      <td>28.0</td>\n",
       "      <td>2069.0</td>\n",
       "      <td>NC</td>\n",
       "      <td>NaN</td>\n",
       "      <td>NaN</td>\n",
       "    </tr>\n",
       "  </tbody>\n",
       "</table>\n",
       "</div>"
      ],
      "text/plain": [
       "   ID Gender        DoB  Dernieres_nouvelles Death_date Surgery_date  \\\n",
       "2  10      M 1949-11-05                  NaN 1992-05-15   1992-04-15   \n",
       "3  11      M 1958-07-29                  NaN 1991-11-15   1986-03-17   \n",
       "\n",
       "    Tumor_type  Tumor_grade Gene_P53 Gene_Mgmt Gene_Egfr Gene_Mdm2 Gene_Cdk4  \\\n",
       "2       gliome          3.0       NC       NaN    NORMAL       NaN       NaN   \n",
       "3  astrocytome          2.0       NC       NaN       NaN       NaN       NaN   \n",
       "\n",
       "  Gene_P16 Gene_Ihc_Atrx  Gene_Ch1P Gene_Ch19Q Gene_Ch10P Gene_Ch10Q  \\\n",
       "2      NaN           NaN  NON PERTE  NON PERTE  NON PERTE      PERDU   \n",
       "3      NaN           NaN        NaN        NaN        NaN        NaN   \n",
       "\n",
       "   Gene_Ch9P Gene_Ch9Q Tumor_Location Tumor_Position Clinical_evolution  \\\n",
       "2  NON PERTE       NaN   sus-T hémisp              G             TT ini   \n",
       "3        NaN       NaN    non précisé    non précisé             TT ini   \n",
       "\n",
       "  Surgery_type    Rx_date Chemo_start_date  Age_surgery  life_expectancy  \\\n",
       "2    partielle 1992-05-01       1992-05-01         42.0             30.0   \n",
       "3      exérèse 1986-04-01              NaT         28.0           2069.0   \n",
       "\n",
       "      IDH TERT  IDH_TERT  \n",
       "2  mutant   wt       3.0  \n",
       "3      NC  NaN       NaN  "
      ]
     },
     "execution_count": 109,
     "metadata": {},
     "output_type": "execute_result"
    }
   ],
   "source": [
    "#Marc rule: aggregate \"glioblastoma avec oligo IV\" into \"GBM\"; \"astrocytome gémistocytique (=A2)\" into \"astrocytoma grade II\"\n",
    "#we also remove grades from tumor types, since they are contained in \"Tumor_grade\" variable\n",
    "df_clean_test['Tumor_type'].replace({\"glioblastome IV\": \"GBM\", \"oligo.haut grade III\":\"oligo\",\n",
    "                                \"gliome mixte ana III\":\"gliome\", \"oligo. bas grade II\": \"oligo\",\n",
    "                                \"glioblastome avec oligo. IV\": \"GBM\", \"gliome mixte II\": \"gliome\",\n",
    "                                \"astrocytome anaplasique III\": \"astrocytome\", \"astrocytome bas grade II\":\"astrocytome\",\n",
    "                                \"astrocytome gémistocytique (=A2\":\"astrocytome\", \"gangliogliome anaplasique III\":\"gangliogliome anaplasique\"}, inplace=True)\n",
    "df_clean_test.head(2)"
   ]
  },
  {
   "cell_type": "code",
   "execution_count": 110,
   "metadata": {},
   "outputs": [
    {
     "data": {
      "text/html": [
       "<div>\n",
       "<style scoped>\n",
       "    .dataframe tbody tr th:only-of-type {\n",
       "        vertical-align: middle;\n",
       "    }\n",
       "\n",
       "    .dataframe tbody tr th {\n",
       "        vertical-align: top;\n",
       "    }\n",
       "\n",
       "    .dataframe thead th {\n",
       "        text-align: right;\n",
       "    }\n",
       "</style>\n",
       "<table border=\"1\" class=\"dataframe\">\n",
       "  <thead>\n",
       "    <tr style=\"text-align: right;\">\n",
       "      <th></th>\n",
       "      <th>ID</th>\n",
       "      <th>Gender</th>\n",
       "      <th>DoB</th>\n",
       "      <th>Dernieres_nouvelles</th>\n",
       "      <th>Death_date</th>\n",
       "      <th>Surgery_date</th>\n",
       "      <th>Tumor_type</th>\n",
       "      <th>Tumor_grade</th>\n",
       "      <th>Gene_P53</th>\n",
       "      <th>Gene_Mgmt</th>\n",
       "      <th>Gene_Egfr</th>\n",
       "      <th>Gene_Mdm2</th>\n",
       "      <th>Gene_Cdk4</th>\n",
       "      <th>Gene_P16</th>\n",
       "      <th>Gene_Ihc_Atrx</th>\n",
       "      <th>Gene_Ch1P</th>\n",
       "      <th>Gene_Ch19Q</th>\n",
       "      <th>Gene_Ch10P</th>\n",
       "      <th>Gene_Ch10Q</th>\n",
       "      <th>Gene_Ch9P</th>\n",
       "      <th>Gene_Ch9Q</th>\n",
       "      <th>Tumor_Location</th>\n",
       "      <th>Tumor_Position</th>\n",
       "      <th>Clinical_evolution</th>\n",
       "      <th>Surgery_type</th>\n",
       "      <th>Rx_date</th>\n",
       "      <th>Chemo_start_date</th>\n",
       "      <th>Age_surgery</th>\n",
       "      <th>life_expectancy</th>\n",
       "      <th>IDH</th>\n",
       "      <th>TERT</th>\n",
       "      <th>IDH_TERT</th>\n",
       "    </tr>\n",
       "  </thead>\n",
       "  <tbody>\n",
       "    <tr>\n",
       "      <th>2</th>\n",
       "      <td>10</td>\n",
       "      <td>M</td>\n",
       "      <td>1949-11-05</td>\n",
       "      <td>NaN</td>\n",
       "      <td>1992-05-15</td>\n",
       "      <td>1992-04-15</td>\n",
       "      <td>gliome</td>\n",
       "      <td>3.0</td>\n",
       "      <td>NC</td>\n",
       "      <td>NaN</td>\n",
       "      <td>NORMAL</td>\n",
       "      <td>NaN</td>\n",
       "      <td>NaN</td>\n",
       "      <td>NaN</td>\n",
       "      <td>NaN</td>\n",
       "      <td>NON PERTE</td>\n",
       "      <td>NON PERTE</td>\n",
       "      <td>NON PERTE</td>\n",
       "      <td>PERDU</td>\n",
       "      <td>NON PERTE</td>\n",
       "      <td>NaN</td>\n",
       "      <td>A</td>\n",
       "      <td>G</td>\n",
       "      <td>TT ini</td>\n",
       "      <td>partielle</td>\n",
       "      <td>1992-05-01</td>\n",
       "      <td>1992-05-01</td>\n",
       "      <td>42.0</td>\n",
       "      <td>30.0</td>\n",
       "      <td>mutant</td>\n",
       "      <td>wt</td>\n",
       "      <td>3.0</td>\n",
       "    </tr>\n",
       "    <tr>\n",
       "      <th>3</th>\n",
       "      <td>11</td>\n",
       "      <td>M</td>\n",
       "      <td>1958-07-29</td>\n",
       "      <td>NaN</td>\n",
       "      <td>1991-11-15</td>\n",
       "      <td>1986-03-17</td>\n",
       "      <td>astrocytome</td>\n",
       "      <td>2.0</td>\n",
       "      <td>NC</td>\n",
       "      <td>NaN</td>\n",
       "      <td>NaN</td>\n",
       "      <td>NaN</td>\n",
       "      <td>NaN</td>\n",
       "      <td>NaN</td>\n",
       "      <td>NaN</td>\n",
       "      <td>NaN</td>\n",
       "      <td>NaN</td>\n",
       "      <td>NaN</td>\n",
       "      <td>NaN</td>\n",
       "      <td>NaN</td>\n",
       "      <td>NaN</td>\n",
       "      <td>N</td>\n",
       "      <td>non précisé</td>\n",
       "      <td>TT ini</td>\n",
       "      <td>exérèse</td>\n",
       "      <td>1986-04-01</td>\n",
       "      <td>NaT</td>\n",
       "      <td>28.0</td>\n",
       "      <td>2069.0</td>\n",
       "      <td>NC</td>\n",
       "      <td>NaN</td>\n",
       "      <td>NaN</td>\n",
       "    </tr>\n",
       "  </tbody>\n",
       "</table>\n",
       "</div>"
      ],
      "text/plain": [
       "   ID Gender        DoB  Dernieres_nouvelles Death_date Surgery_date  \\\n",
       "2  10      M 1949-11-05                  NaN 1992-05-15   1992-04-15   \n",
       "3  11      M 1958-07-29                  NaN 1991-11-15   1986-03-17   \n",
       "\n",
       "    Tumor_type  Tumor_grade Gene_P53 Gene_Mgmt Gene_Egfr Gene_Mdm2 Gene_Cdk4  \\\n",
       "2       gliome          3.0       NC       NaN    NORMAL       NaN       NaN   \n",
       "3  astrocytome          2.0       NC       NaN       NaN       NaN       NaN   \n",
       "\n",
       "  Gene_P16 Gene_Ihc_Atrx  Gene_Ch1P Gene_Ch19Q Gene_Ch10P Gene_Ch10Q  \\\n",
       "2      NaN           NaN  NON PERTE  NON PERTE  NON PERTE      PERDU   \n",
       "3      NaN           NaN        NaN        NaN        NaN        NaN   \n",
       "\n",
       "   Gene_Ch9P Gene_Ch9Q Tumor_Location Tumor_Position Clinical_evolution  \\\n",
       "2  NON PERTE       NaN              A              G             TT ini   \n",
       "3        NaN       NaN              N    non précisé             TT ini   \n",
       "\n",
       "  Surgery_type    Rx_date Chemo_start_date  Age_surgery  life_expectancy  \\\n",
       "2    partielle 1992-05-01       1992-05-01         42.0             30.0   \n",
       "3      exérèse 1986-04-01              NaT         28.0           2069.0   \n",
       "\n",
       "      IDH TERT  IDH_TERT  \n",
       "2  mutant   wt       3.0  \n",
       "3      NC  NaN       NaN  "
      ]
     },
     "execution_count": 110,
     "metadata": {},
     "output_type": "execute_result"
    }
   ],
   "source": [
    "#Marc comment recode Tumor_Location\n",
    "# A-sus-T hémisp            3550\n",
    "# A-sus-T hémisp+profond     524\n",
    "# N-non précisé              257\n",
    "# A-sus-T profond            209\n",
    "# A-Frontal                  134\n",
    "# B-tronc cérébral            32\n",
    "# B-cervelet                  31\n",
    "# C-ventriculaire             20\n",
    "# autre                     18\n",
    "# B-moelle/rachis             10\n",
    "# A-Rolandique                 3\n",
    "\n",
    "df_clean_test['Tumor_Location'].replace({\"sus-T hémisp\": \"A\", \"sus-T hémisp+profond\":\"A\",\n",
    "                                \"non précisé\":\"N\", \"sus-T profond\": \"A\",\n",
    "                                \"Frontal\": \"A\", \"tronc cérébral\": \"B\",\n",
    "                                \"cervelet\": \"B\", \"ventriculaire\":\"C\",\n",
    "                                \"moelle/rachis\":\"B\", \"Rolandique\":\"A\"}, inplace=True)\n",
    "df_clean_test.head(2)"
   ]
  },
  {
   "cell_type": "markdown",
   "metadata": {},
   "source": [
    "## Codeletion into 1p19q"
   ]
  },
  {
   "cell_type": "code",
   "execution_count": 111,
   "metadata": {
    "collapsed": true
   },
   "outputs": [],
   "source": [
    "# MC: implementing clinical 1p19q codeletion variable\n",
    "# 1p19q codel instead of 'Gene_Ch1P', 'Gene_Ch19Q'= in fact not relevant when separated (consider complete loss, \n",
    "# no partial loss) = What is important is : 1p19q codélétion and this is always associated with IDH\n",
    "# 1p19q codélétion = 'Gene_Ch1P loss AND  'Gene_Ch19Q loss AND IDH mutant (see above)\n",
    "\n",
    "# if Ch1P is \"PERDU\" AND CH19Q is PERDU, then 1p19q_codel = 1\n",
    "df_clean_test.loc[(df_clean_test['Gene_Ch1P'] == 'PERDU') & (df_clean_test['Gene_Ch19Q'] == 'PERDU'), \"1p19q_codel\"] = 1\n",
    "\n",
    "#problem with following command is that if one value is missing, it will also impute 0 instead of keeping it as missing\n",
    "#df_clean_test.loc[((df_clean_test['Gene_Ch1P'] != 'PERDU') | (df_clean_test['Gene_Ch19Q'] != 'PERDU'), \"1p19q_codel\"] = 0\n",
    "\n",
    "# if ((Ch1P is not null) AND (CH19Q is not null)) AND ((Ch1Q != PERDU) OR (Ch19Q != PERDU)) then 1p19q_codel is 0\n",
    "\n",
    "df_clean_test.loc[((df_clean_test['Gene_Ch1P'].notnull()) & (df_clean_test['Gene_Ch19Q'].notnull()) & ((df_clean_test['Gene_Ch1P'] != 'PERDU') | (df_clean_test['Gene_Ch19Q'] != 'PERDU'))), \"1p19q_codel\"] = 0"
   ]
  },
  {
   "cell_type": "code",
   "execution_count": 112,
   "metadata": {},
   "outputs": [
    {
     "data": {
      "text/plain": [
       "True     1408\n",
       "False    1306\n",
       "Name: 1p19q_codel, dtype: int64"
      ]
     },
     "execution_count": 112,
     "metadata": {},
     "output_type": "execute_result"
    }
   ],
   "source": [
    "df_clean_test['1p19q_codel'].isnull().value_counts()"
   ]
  },
  {
   "cell_type": "code",
   "execution_count": 113,
   "metadata": {
    "collapsed": true
   },
   "outputs": [],
   "source": [
    "df_clean_test.drop(\"Gene_Ch1P\", axis = 1, inplace=True)\n",
    "df_clean_test.drop(\"Gene_Ch19Q\", axis = 1, inplace=True)"
   ]
  },
  {
   "cell_type": "code",
   "execution_count": 115,
   "metadata": {
    "collapsed": true
   },
   "outputs": [],
   "source": [
    "df_clean_test.drop(\"Gene_Ch9Q\", axis = 1, inplace=True)"
   ]
  },
  {
   "cell_type": "code",
   "execution_count": 120,
   "metadata": {
    "collapsed": true
   },
   "outputs": [],
   "source": [
    "df_clean_test.drop(\"Gene_Ch10P\", axis = 1, inplace=True)"
   ]
  },
  {
   "cell_type": "code",
   "execution_count": 114,
   "metadata": {
    "collapsed": true
   },
   "outputs": [],
   "source": [
    "# MC: If IDH is missing, the tumor type is GBM, and the patient is >55 y, the probability of \n",
    "# IDHmutation is around 5%, so you may also consider to fill this gap\n",
    "# we will use age at surgery here for this purpose\n",
    "# we will impute both IDH missing and IDH NC (non conclusive) based on this rule\n",
    "\n",
    "df_clean_test.loc[((df_clean_test['IDH'].isnull()) & (df_clean_test['Tumor_type'] == \"GBM\") & (df_clean_test['Age_surgery'] > 55.0)), \"IDH\"] = \"wt\"\n",
    "df_clean_test.loc[((df_clean_test['IDH'] == \"NC\") & (df_clean_test['Tumor_type'] == \"GBM\") & (df_clean_test['Age_surgery'] > 55.0)), \"IDH\"] = \"wt\""
   ]
  },
  {
   "cell_type": "code",
   "execution_count": 116,
   "metadata": {
    "collapsed": true
   },
   "outputs": [],
   "source": [
    "# MC: recode CH9P\n",
    "df_clean_test['Gene_Ch9P'].replace({\"PARTIEL\":\"PERTE\", \"PERDU\": \"PERTE\"}, inplace=True)"
   ]
  },
  {
   "cell_type": "code",
   "execution_count": 117,
   "metadata": {},
   "outputs": [
    {
     "data": {
      "text/plain": [
       "NON PERTE    695\n",
       "PERTE        554\n",
       "GAIN          36\n",
       "Name: Gene_Ch9P, dtype: int64"
      ]
     },
     "execution_count": 117,
     "metadata": {},
     "output_type": "execute_result"
    }
   ],
   "source": [
    "# Sanity check\n",
    "df_clean_test['Gene_Ch9P'].value_counts()"
   ]
  },
  {
   "cell_type": "code",
   "execution_count": 118,
   "metadata": {
    "collapsed": true
   },
   "outputs": [],
   "source": [
    "# MC: for Ch10Q, consider just instance where = PERDU\n",
    "# binary Perte nonPerte\n",
    "df_clean_test['Gene_Ch10Q'].replace({\"PERDU\":\"PERTE\", \"PARTIEL\": \"NON PERTE\", \"GAIN\": \"NON PERTE\"}, inplace=True)"
   ]
  },
  {
   "cell_type": "code",
   "execution_count": 119,
   "metadata": {},
   "outputs": [
    {
     "data": {
      "text/plain": [
       "NON PERTE    712\n",
       "PERTE        594\n",
       "Name: Gene_Ch10Q, dtype: int64"
      ]
     },
     "execution_count": 119,
     "metadata": {},
     "output_type": "execute_result"
    }
   ],
   "source": [
    "# Sanity check\n",
    "df_clean_test['Gene_Ch10Q'].value_counts()"
   ]
  },
  {
   "cell_type": "code",
   "execution_count": 121,
   "metadata": {
    "collapsed": true
   },
   "outputs": [],
   "source": [
    "# MC: IDHmut-Tertmut are 1p19codel in 90% of the cases\n",
    "# impute missing 1p19q codel values per above\n",
    "df_clean_test.loc[(df_clean_test['IDH_TERT'] == 1) & (df_clean_test['1p19q_codel'].isnull()), \"1p19q_codel\"] = 1"
   ]
  },
  {
   "cell_type": "code",
   "execution_count": 122,
   "metadata": {
    "collapsed": true
   },
   "outputs": [],
   "source": [
    "# MC: IDHmut-Tertwt are ATRX mut in 90% of the cases\n",
    "# impute missing ATRX values per above\n",
    "df_clean_test.loc[(df_clean_test['IDH_TERT'] == 2) & (df_clean_test['Gene_Ihc_Atrx'].isnull()), \"Gene_Ihc_Atrx\"] = \"extinction\""
   ]
  },
  {
   "cell_type": "code",
   "execution_count": 123,
   "metadata": {
    "collapsed": true
   },
   "outputs": [],
   "source": [
    "# Marc comment: EGFR amplification is extremely rare in IDH mutant\n",
    "# impute missing EGFR values per above\n",
    "df_clean_test.loc[(df_clean_test['IDH'] == \"mutant\") & (df_clean_test['Gene_Egfr'].isnull()), \"Gene_Egfr\"] = \"NORMAL\""
   ]
  },
  {
   "cell_type": "markdown",
   "metadata": {},
   "source": [
    "## MC: EGFR amplification never occurs in 1p19q codel\n",
    "Impute missing EGFR values per above\n",
    "df_clean_test.loc[(df_clean_test['1p19q_codel'] == 1) & (df_clean_test['Gene_Egfr'].isnull()), \"Gene_Egfr\"] = \"NORMAL\""
   ]
  },
  {
   "cell_type": "code",
   "execution_count": 124,
   "metadata": {
    "collapsed": true
   },
   "outputs": [],
   "source": [
    "# MC: Loss of chr 10q is rarely associated with IDH mutant (<5%) and almost never (1%) with 1p19q codel\n",
    "df_clean_test.loc[(df_clean_test['IDH'] == \"mutant\") & (df_clean_test['Gene_Ch10Q'].isnull()), \"Gene_Ch10Q\"] = \"NON PERTE\"\n",
    "df_clean_test.loc[(df_clean_test['1p19q_codel'] == 1) & (df_clean_test['Gene_Ch10Q'].isnull()), \"Gene_Ch10Q\"] = \"NON PERTE\""
   ]
  },
  {
   "cell_type": "code",
   "execution_count": 125,
   "metadata": {},
   "outputs": [
    {
     "data": {
      "text/plain": [
       "False    2635\n",
       "True       79\n",
       "Name: ID, dtype: int64"
      ]
     },
     "execution_count": 125,
     "metadata": {},
     "output_type": "execute_result"
    }
   ],
   "source": [
    "# We keep only the first record of patients with multiple surgeries\n",
    "df_clean_test['ID'].duplicated().value_counts()"
   ]
  },
  {
   "cell_type": "code",
   "execution_count": 126,
   "metadata": {
    "collapsed": true
   },
   "outputs": [],
   "source": [
    "# Sort by ID and Surgery date, in order to keep only earliest surgery date\n",
    "df_clean_test.sort_values(['ID', 'Surgery_date'], inplace=True)"
   ]
  },
  {
   "cell_type": "code",
   "execution_count": 127,
   "metadata": {},
   "outputs": [
    {
     "data": {
      "text/plain": [
       "79"
      ]
     },
     "execution_count": 127,
     "metadata": {},
     "output_type": "execute_result"
    }
   ],
   "source": [
    "# Indicate whether duplicate and check sum of them\n",
    "df_clean_test['multiple_surgeries'] = df_clean_test.duplicated(['ID'])\n",
    "df_clean_test['multiple_surgeries'].sum()"
   ]
  },
  {
   "cell_type": "code",
   "execution_count": 128,
   "metadata": {},
   "outputs": [
    {
     "data": {
      "text/html": [
       "<div>\n",
       "<style scoped>\n",
       "    .dataframe tbody tr th:only-of-type {\n",
       "        vertical-align: middle;\n",
       "    }\n",
       "\n",
       "    .dataframe tbody tr th {\n",
       "        vertical-align: top;\n",
       "    }\n",
       "\n",
       "    .dataframe thead th {\n",
       "        text-align: right;\n",
       "    }\n",
       "</style>\n",
       "<table border=\"1\" class=\"dataframe\">\n",
       "  <thead>\n",
       "    <tr style=\"text-align: right;\">\n",
       "      <th></th>\n",
       "      <th>ID</th>\n",
       "      <th>Gender</th>\n",
       "      <th>DoB</th>\n",
       "      <th>Dernieres_nouvelles</th>\n",
       "      <th>Death_date</th>\n",
       "      <th>Surgery_date</th>\n",
       "      <th>Tumor_type</th>\n",
       "      <th>Tumor_grade</th>\n",
       "      <th>Gene_P53</th>\n",
       "      <th>Gene_Mgmt</th>\n",
       "      <th>Gene_Egfr</th>\n",
       "      <th>Gene_Mdm2</th>\n",
       "      <th>Gene_Cdk4</th>\n",
       "      <th>Gene_P16</th>\n",
       "      <th>Gene_Ihc_Atrx</th>\n",
       "      <th>Gene_Ch10Q</th>\n",
       "      <th>Gene_Ch9P</th>\n",
       "      <th>Tumor_Location</th>\n",
       "      <th>Tumor_Position</th>\n",
       "      <th>Clinical_evolution</th>\n",
       "      <th>Surgery_type</th>\n",
       "      <th>Rx_date</th>\n",
       "      <th>Chemo_start_date</th>\n",
       "      <th>Age_surgery</th>\n",
       "      <th>life_expectancy</th>\n",
       "      <th>IDH</th>\n",
       "      <th>TERT</th>\n",
       "      <th>IDH_TERT</th>\n",
       "      <th>1p19q_codel</th>\n",
       "      <th>multiple_surgeries</th>\n",
       "    </tr>\n",
       "  </thead>\n",
       "  <tbody>\n",
       "    <tr>\n",
       "      <th>2</th>\n",
       "      <td>10</td>\n",
       "      <td>M</td>\n",
       "      <td>1949-11-05</td>\n",
       "      <td>NaN</td>\n",
       "      <td>1992-05-15</td>\n",
       "      <td>1992-04-15</td>\n",
       "      <td>gliome</td>\n",
       "      <td>3.0</td>\n",
       "      <td>NC</td>\n",
       "      <td>NaN</td>\n",
       "      <td>NORMAL</td>\n",
       "      <td>NaN</td>\n",
       "      <td>NaN</td>\n",
       "      <td>NaN</td>\n",
       "      <td>NaN</td>\n",
       "      <td>PERTE</td>\n",
       "      <td>NON PERTE</td>\n",
       "      <td>A</td>\n",
       "      <td>G</td>\n",
       "      <td>TT ini</td>\n",
       "      <td>partielle</td>\n",
       "      <td>1992-05-01</td>\n",
       "      <td>1992-05-01</td>\n",
       "      <td>42.0</td>\n",
       "      <td>30.0</td>\n",
       "      <td>mutant</td>\n",
       "      <td>wt</td>\n",
       "      <td>3.0</td>\n",
       "      <td>0.0</td>\n",
       "      <td>False</td>\n",
       "    </tr>\n",
       "    <tr>\n",
       "      <th>3</th>\n",
       "      <td>11</td>\n",
       "      <td>M</td>\n",
       "      <td>1958-07-29</td>\n",
       "      <td>NaN</td>\n",
       "      <td>1991-11-15</td>\n",
       "      <td>1986-03-17</td>\n",
       "      <td>astrocytome</td>\n",
       "      <td>2.0</td>\n",
       "      <td>NC</td>\n",
       "      <td>NaN</td>\n",
       "      <td>NaN</td>\n",
       "      <td>NaN</td>\n",
       "      <td>NaN</td>\n",
       "      <td>NaN</td>\n",
       "      <td>NaN</td>\n",
       "      <td>NaN</td>\n",
       "      <td>NaN</td>\n",
       "      <td>N</td>\n",
       "      <td>non précisé</td>\n",
       "      <td>TT ini</td>\n",
       "      <td>exérèse</td>\n",
       "      <td>1986-04-01</td>\n",
       "      <td>NaT</td>\n",
       "      <td>28.0</td>\n",
       "      <td>2069.0</td>\n",
       "      <td>NC</td>\n",
       "      <td>NaN</td>\n",
       "      <td>NaN</td>\n",
       "      <td>NaN</td>\n",
       "      <td>False</td>\n",
       "    </tr>\n",
       "    <tr>\n",
       "      <th>5</th>\n",
       "      <td>12</td>\n",
       "      <td>F</td>\n",
       "      <td>1930-12-07</td>\n",
       "      <td>NaN</td>\n",
       "      <td>1991-03-13</td>\n",
       "      <td>1990-02-13</td>\n",
       "      <td>GBM</td>\n",
       "      <td>4.0</td>\n",
       "      <td>NORMAL</td>\n",
       "      <td>NON METHYLE</td>\n",
       "      <td>NORMAL</td>\n",
       "      <td>NORMAL</td>\n",
       "      <td>NORMAL</td>\n",
       "      <td>DELETE</td>\n",
       "      <td>NaN</td>\n",
       "      <td>PERTE</td>\n",
       "      <td>PERTE</td>\n",
       "      <td>A</td>\n",
       "      <td>G</td>\n",
       "      <td>TT ini</td>\n",
       "      <td>aucune</td>\n",
       "      <td>1990-03-14</td>\n",
       "      <td>NaT</td>\n",
       "      <td>59.0</td>\n",
       "      <td>393.0</td>\n",
       "      <td>wt</td>\n",
       "      <td>mutant</td>\n",
       "      <td>4.0</td>\n",
       "      <td>0.0</td>\n",
       "      <td>False</td>\n",
       "    </tr>\n",
       "    <tr>\n",
       "      <th>7</th>\n",
       "      <td>13</td>\n",
       "      <td>M</td>\n",
       "      <td>1928-11-17</td>\n",
       "      <td>NaN</td>\n",
       "      <td>1990-12-20</td>\n",
       "      <td>1989-11-17</td>\n",
       "      <td>GBM</td>\n",
       "      <td>4.0</td>\n",
       "      <td>NORMAL</td>\n",
       "      <td>NON METHYLE</td>\n",
       "      <td>NORMAL</td>\n",
       "      <td>NORMAL</td>\n",
       "      <td>NORMAL</td>\n",
       "      <td>NORMAL</td>\n",
       "      <td>NaN</td>\n",
       "      <td>PERTE</td>\n",
       "      <td>NaN</td>\n",
       "      <td>A</td>\n",
       "      <td>D</td>\n",
       "      <td>TT ini</td>\n",
       "      <td>partielle</td>\n",
       "      <td>1989-12-18</td>\n",
       "      <td>NaT</td>\n",
       "      <td>61.0</td>\n",
       "      <td>398.0</td>\n",
       "      <td>wt</td>\n",
       "      <td>wt</td>\n",
       "      <td>3.0</td>\n",
       "      <td>0.0</td>\n",
       "      <td>False</td>\n",
       "    </tr>\n",
       "    <tr>\n",
       "      <th>8</th>\n",
       "      <td>14</td>\n",
       "      <td>F</td>\n",
       "      <td>1934-07-17</td>\n",
       "      <td>NaN</td>\n",
       "      <td>1993-03-30</td>\n",
       "      <td>1992-01-22</td>\n",
       "      <td>GBM</td>\n",
       "      <td>4.0</td>\n",
       "      <td>NORMAL</td>\n",
       "      <td>NaN</td>\n",
       "      <td>AMPLIFIE</td>\n",
       "      <td>NORMAL</td>\n",
       "      <td>NORMAL</td>\n",
       "      <td>NORMAL</td>\n",
       "      <td>NaN</td>\n",
       "      <td>PERTE</td>\n",
       "      <td>NON PERTE</td>\n",
       "      <td>A</td>\n",
       "      <td>D</td>\n",
       "      <td>TT ini</td>\n",
       "      <td>exérèse</td>\n",
       "      <td>NaT</td>\n",
       "      <td>NaT</td>\n",
       "      <td>58.0</td>\n",
       "      <td>433.0</td>\n",
       "      <td>wt</td>\n",
       "      <td>mutant</td>\n",
       "      <td>4.0</td>\n",
       "      <td>0.0</td>\n",
       "      <td>False</td>\n",
       "    </tr>\n",
       "  </tbody>\n",
       "</table>\n",
       "</div>"
      ],
      "text/plain": [
       "   ID Gender        DoB  Dernieres_nouvelles Death_date Surgery_date  \\\n",
       "2  10      M 1949-11-05                  NaN 1992-05-15   1992-04-15   \n",
       "3  11      M 1958-07-29                  NaN 1991-11-15   1986-03-17   \n",
       "5  12      F 1930-12-07                  NaN 1991-03-13   1990-02-13   \n",
       "7  13      M 1928-11-17                  NaN 1990-12-20   1989-11-17   \n",
       "8  14      F 1934-07-17                  NaN 1993-03-30   1992-01-22   \n",
       "\n",
       "    Tumor_type  Tumor_grade Gene_P53    Gene_Mgmt Gene_Egfr Gene_Mdm2  \\\n",
       "2       gliome          3.0       NC          NaN    NORMAL       NaN   \n",
       "3  astrocytome          2.0       NC          NaN       NaN       NaN   \n",
       "5          GBM          4.0   NORMAL  NON METHYLE    NORMAL    NORMAL   \n",
       "7          GBM          4.0   NORMAL  NON METHYLE    NORMAL    NORMAL   \n",
       "8          GBM          4.0   NORMAL          NaN  AMPLIFIE    NORMAL   \n",
       "\n",
       "  Gene_Cdk4 Gene_P16 Gene_Ihc_Atrx Gene_Ch10Q  Gene_Ch9P Tumor_Location  \\\n",
       "2       NaN      NaN           NaN      PERTE  NON PERTE              A   \n",
       "3       NaN      NaN           NaN        NaN        NaN              N   \n",
       "5    NORMAL   DELETE           NaN      PERTE      PERTE              A   \n",
       "7    NORMAL   NORMAL           NaN      PERTE        NaN              A   \n",
       "8    NORMAL   NORMAL           NaN      PERTE  NON PERTE              A   \n",
       "\n",
       "  Tumor_Position Clinical_evolution Surgery_type    Rx_date Chemo_start_date  \\\n",
       "2              G             TT ini    partielle 1992-05-01       1992-05-01   \n",
       "3    non précisé             TT ini      exérèse 1986-04-01              NaT   \n",
       "5              G             TT ini       aucune 1990-03-14              NaT   \n",
       "7              D             TT ini    partielle 1989-12-18              NaT   \n",
       "8              D             TT ini      exérèse        NaT              NaT   \n",
       "\n",
       "   Age_surgery  life_expectancy     IDH    TERT  IDH_TERT  1p19q_codel  \\\n",
       "2         42.0             30.0  mutant      wt       3.0          0.0   \n",
       "3         28.0           2069.0      NC     NaN       NaN          NaN   \n",
       "5         59.0            393.0      wt  mutant       4.0          0.0   \n",
       "7         61.0            398.0      wt      wt       3.0          0.0   \n",
       "8         58.0            433.0      wt  mutant       4.0          0.0   \n",
       "\n",
       "   multiple_surgeries  \n",
       "2               False  \n",
       "3               False  \n",
       "5               False  \n",
       "7               False  \n",
       "8               False  "
      ]
     },
     "execution_count": 128,
     "metadata": {},
     "output_type": "execute_result"
    }
   ],
   "source": [
    "# Reduce to observations that don't have multiple surgeries\n",
    "df_clean_test.drop_duplicates('ID',keep='first',inplace=True)\n",
    "df_clean_test.head(5)"
   ]
  },
  {
   "cell_type": "markdown",
   "metadata": {},
   "source": [
    "## Checkpoint 3 (before KPS merge)"
   ]
  },
  {
   "cell_type": "code",
   "execution_count": 129,
   "metadata": {},
   "outputs": [
    {
     "data": {
      "text/plain": [
       "False    2635\n",
       "Name: multiple_surgeries, dtype: int64"
      ]
     },
     "execution_count": 129,
     "metadata": {},
     "output_type": "execute_result"
    }
   ],
   "source": [
    "df_final = df_clean_test.copy(deep=True)\n",
    "df_final.multiple_surgeries.isnull().value_counts()"
   ]
  },
  {
   "cell_type": "code",
   "execution_count": 130,
   "metadata": {
    "collapsed": true
   },
   "outputs": [],
   "source": [
    "# They seem to have been datetime objects without the below conversions?\n",
    "# See here why we need to use loc: \n",
    "# https://stackoverflow.com/questions/26724378/pandas-settingwithcopywarning?noredirect=1&lq=1\n",
    "\n",
    "df_final.loc[:,'Rx_date'] = pd.to_datetime(df_final.Rx_date,errors = 'coerce')\n",
    "df_final.loc[:,'Chemo_start_date'] = pd.to_datetime(df_final.Chemo_start_date,errors = 'coerce')\n",
    "\n",
    "df_final.loc[:,'Rx_date'] = df_final['Rx_date'].dt.year\n",
    "df_final.loc[:,'Chemo_start_date']=df_final.Chemo_start_date.dt.year"
   ]
  },
  {
   "cell_type": "code",
   "execution_count": 111,
   "metadata": {
    "collapsed": true
   },
   "outputs": [],
   "source": [
    "# Useful\n",
    "#for col in df_clean.columns:\n",
    " #    print('{0}\\n  {1}\\n'.format(col,df_clean[col].isnull().value_counts()))"
   ]
  },
  {
   "cell_type": "markdown",
   "metadata": {},
   "source": [
    "# Merge KPS dataset"
   ]
  },
  {
   "cell_type": "code",
   "execution_count": 150,
   "metadata": {
    "collapsed": true
   },
   "outputs": [],
   "source": [
    "# Import KPS dataset to merge it\n",
    "kps = pd.read_excel('data/KPS.xlsx')"
   ]
  },
  {
   "cell_type": "code",
   "execution_count": 151,
   "metadata": {
    "collapsed": true
   },
   "outputs": [],
   "source": [
    "# Sort by ID and surgery date, as above\n",
    "kps.sort_values(['NIP', 'CHIR_DATE'],inplace=True)"
   ]
  },
  {
   "cell_type": "code",
   "execution_count": 152,
   "metadata": {
    "collapsed": true
   },
   "outputs": [],
   "source": [
    "# Reduce to single observations as with multiple surgeries from previous dataset\n",
    "kps.drop_duplicates('NIP',keep='first',inplace=True)"
   ]
  },
  {
   "cell_type": "code",
   "execution_count": 153,
   "metadata": {},
   "outputs": [
    {
     "data": {
      "text/plain": [
       "(6772, 6)"
      ]
     },
     "execution_count": 153,
     "metadata": {},
     "output_type": "execute_result"
    }
   ],
   "source": [
    "kps.shape"
   ]
  },
  {
   "cell_type": "code",
   "execution_count": 154,
   "metadata": {
    "collapsed": true
   },
   "outputs": [],
   "source": [
    "# Keep only columns that are of interest or needed for the merge\n",
    "kps_sorted_final = kps[['NIP', 'ID_EC', 'IK_CLINIQUE', 'CHIR_DATE', 'CHIR_IK_PRE', 'RX_IK_PRE']]"
   ]
  },
  {
   "cell_type": "code",
   "execution_count": 156,
   "metadata": {
    "collapsed": true,
    "scrolled": true
   },
   "outputs": [],
   "source": [
    "# Merge the two datasets using surgery date and chirurgie date, only the later is not a datetime.\n",
    "# Use ID for merge as well \n",
    "kps_sorted_final.loc[:,'CHIR_DATE'] = pd.to_datetime(kps_sorted_final.CHIR_DATE, errors = 'coerce')"
   ]
  },
  {
   "cell_type": "markdown",
   "metadata": {},
   "source": [
    "# Checkpoint 4 - merged with kps"
   ]
  },
  {
   "cell_type": "code",
   "execution_count": 157,
   "metadata": {
    "collapsed": true
   },
   "outputs": [],
   "source": [
    "df_final_kps = pd.merge(df_final, kps_sorted_final, how = 'left', left_on = ['ID', 'Surgery_date'], right_on = ['NIP', 'CHIR_DATE'])"
   ]
  },
  {
   "cell_type": "code",
   "execution_count": 158,
   "metadata": {},
   "outputs": [
    {
     "data": {
      "text/plain": [
       "2635"
      ]
     },
     "execution_count": 158,
     "metadata": {},
     "output_type": "execute_result"
    }
   ],
   "source": [
    "len(df_final)"
   ]
  },
  {
   "cell_type": "code",
   "execution_count": 159,
   "metadata": {},
   "outputs": [
    {
     "data": {
      "text/plain": [
       "2635"
      ]
     },
     "execution_count": 159,
     "metadata": {},
     "output_type": "execute_result"
    }
   ],
   "source": [
    "len(df_final_kps)"
   ]
  },
  {
   "cell_type": "code",
   "execution_count": 160,
   "metadata": {},
   "outputs": [
    {
     "data": {
      "text/html": [
       "<div>\n",
       "<style scoped>\n",
       "    .dataframe tbody tr th:only-of-type {\n",
       "        vertical-align: middle;\n",
       "    }\n",
       "\n",
       "    .dataframe tbody tr th {\n",
       "        vertical-align: top;\n",
       "    }\n",
       "\n",
       "    .dataframe thead th {\n",
       "        text-align: right;\n",
       "    }\n",
       "</style>\n",
       "<table border=\"1\" class=\"dataframe\">\n",
       "  <thead>\n",
       "    <tr style=\"text-align: right;\">\n",
       "      <th></th>\n",
       "      <th>ID</th>\n",
       "      <th>Gender</th>\n",
       "      <th>DoB</th>\n",
       "      <th>Dernieres_nouvelles</th>\n",
       "      <th>Death_date</th>\n",
       "      <th>Surgery_date</th>\n",
       "      <th>Tumor_type</th>\n",
       "      <th>Tumor_grade</th>\n",
       "      <th>Gene_P53</th>\n",
       "      <th>Gene_Mgmt</th>\n",
       "      <th>Gene_Egfr</th>\n",
       "      <th>Gene_Mdm2</th>\n",
       "      <th>Gene_Cdk4</th>\n",
       "      <th>Gene_P16</th>\n",
       "      <th>Gene_Ihc_Atrx</th>\n",
       "      <th>Gene_Ch10Q</th>\n",
       "      <th>Gene_Ch9P</th>\n",
       "      <th>Tumor_Location</th>\n",
       "      <th>Tumor_Position</th>\n",
       "      <th>Clinical_evolution</th>\n",
       "      <th>Surgery_type</th>\n",
       "      <th>Rx_date</th>\n",
       "      <th>Chemo_start_date</th>\n",
       "      <th>Age_surgery</th>\n",
       "      <th>life_expectancy</th>\n",
       "      <th>IDH</th>\n",
       "      <th>TERT</th>\n",
       "      <th>IDH_TERT</th>\n",
       "      <th>1p19q_codel</th>\n",
       "      <th>multiple_surgeries</th>\n",
       "      <th>NIP</th>\n",
       "      <th>ID_EC</th>\n",
       "      <th>IK_CLINIQUE</th>\n",
       "      <th>CHIR_DATE</th>\n",
       "      <th>CHIR_IK_PRE</th>\n",
       "      <th>RX_IK_PRE</th>\n",
       "    </tr>\n",
       "  </thead>\n",
       "  <tbody>\n",
       "    <tr>\n",
       "      <th>0</th>\n",
       "      <td>10</td>\n",
       "      <td>M</td>\n",
       "      <td>1949-11-05</td>\n",
       "      <td>NaN</td>\n",
       "      <td>1992-05-15</td>\n",
       "      <td>1992-04-15</td>\n",
       "      <td>gliome</td>\n",
       "      <td>3.0</td>\n",
       "      <td>NC</td>\n",
       "      <td>NaN</td>\n",
       "      <td>NORMAL</td>\n",
       "      <td>NaN</td>\n",
       "      <td>NaN</td>\n",
       "      <td>NaN</td>\n",
       "      <td>NaN</td>\n",
       "      <td>PERTE</td>\n",
       "      <td>NON PERTE</td>\n",
       "      <td>A</td>\n",
       "      <td>G</td>\n",
       "      <td>TT ini</td>\n",
       "      <td>partielle</td>\n",
       "      <td>1992.0</td>\n",
       "      <td>1992.0</td>\n",
       "      <td>42.0</td>\n",
       "      <td>30.0</td>\n",
       "      <td>mutant</td>\n",
       "      <td>wt</td>\n",
       "      <td>3.0</td>\n",
       "      <td>0.0</td>\n",
       "      <td>False</td>\n",
       "      <td>10.0</td>\n",
       "      <td>TTini</td>\n",
       "      <td>NaN</td>\n",
       "      <td>1992-04-15</td>\n",
       "      <td>NaN</td>\n",
       "      <td>NaN</td>\n",
       "    </tr>\n",
       "    <tr>\n",
       "      <th>1</th>\n",
       "      <td>11</td>\n",
       "      <td>M</td>\n",
       "      <td>1958-07-29</td>\n",
       "      <td>NaN</td>\n",
       "      <td>1991-11-15</td>\n",
       "      <td>1986-03-17</td>\n",
       "      <td>astrocytome</td>\n",
       "      <td>2.0</td>\n",
       "      <td>NC</td>\n",
       "      <td>NaN</td>\n",
       "      <td>NaN</td>\n",
       "      <td>NaN</td>\n",
       "      <td>NaN</td>\n",
       "      <td>NaN</td>\n",
       "      <td>NaN</td>\n",
       "      <td>NaN</td>\n",
       "      <td>NaN</td>\n",
       "      <td>N</td>\n",
       "      <td>non précisé</td>\n",
       "      <td>TT ini</td>\n",
       "      <td>exérèse</td>\n",
       "      <td>1986.0</td>\n",
       "      <td>NaN</td>\n",
       "      <td>28.0</td>\n",
       "      <td>2069.0</td>\n",
       "      <td>NC</td>\n",
       "      <td>NaN</td>\n",
       "      <td>NaN</td>\n",
       "      <td>NaN</td>\n",
       "      <td>False</td>\n",
       "      <td>NaN</td>\n",
       "      <td>NaN</td>\n",
       "      <td>NaN</td>\n",
       "      <td>NaT</td>\n",
       "      <td>NaN</td>\n",
       "      <td>NaN</td>\n",
       "    </tr>\n",
       "  </tbody>\n",
       "</table>\n",
       "</div>"
      ],
      "text/plain": [
       "   ID Gender        DoB  Dernieres_nouvelles Death_date Surgery_date  \\\n",
       "0  10      M 1949-11-05                  NaN 1992-05-15   1992-04-15   \n",
       "1  11      M 1958-07-29                  NaN 1991-11-15   1986-03-17   \n",
       "\n",
       "    Tumor_type  Tumor_grade Gene_P53 Gene_Mgmt Gene_Egfr Gene_Mdm2 Gene_Cdk4  \\\n",
       "0       gliome          3.0       NC       NaN    NORMAL       NaN       NaN   \n",
       "1  astrocytome          2.0       NC       NaN       NaN       NaN       NaN   \n",
       "\n",
       "  Gene_P16 Gene_Ihc_Atrx Gene_Ch10Q  Gene_Ch9P Tumor_Location Tumor_Position  \\\n",
       "0      NaN           NaN      PERTE  NON PERTE              A              G   \n",
       "1      NaN           NaN        NaN        NaN              N    non précisé   \n",
       "\n",
       "  Clinical_evolution Surgery_type  Rx_date  Chemo_start_date  Age_surgery  \\\n",
       "0             TT ini    partielle   1992.0            1992.0         42.0   \n",
       "1             TT ini      exérèse   1986.0               NaN         28.0   \n",
       "\n",
       "   life_expectancy     IDH TERT  IDH_TERT  1p19q_codel  multiple_surgeries  \\\n",
       "0             30.0  mutant   wt       3.0          0.0               False   \n",
       "1           2069.0      NC  NaN       NaN          NaN               False   \n",
       "\n",
       "    NIP  ID_EC  IK_CLINIQUE  CHIR_DATE  CHIR_IK_PRE  RX_IK_PRE  \n",
       "0  10.0  TTini          NaN 1992-04-15          NaN        NaN  \n",
       "1   NaN    NaN          NaN        NaT          NaN        NaN  "
      ]
     },
     "execution_count": 160,
     "metadata": {},
     "output_type": "execute_result"
    }
   ],
   "source": [
    "df_final_kps.head(2)"
   ]
  },
  {
   "cell_type": "code",
   "execution_count": 161,
   "metadata": {
    "collapsed": true
   },
   "outputs": [],
   "source": [
    "# Clinical_evolution has no missing values. \n",
    "# ID_EC is a duplicate of Clinical_evolution, from KPS dataset\n",
    "# NIP is duplicate too \n",
    "df_final_kps.drop(\"ID_EC\", axis = 1, inplace=True)\n",
    "df_final_kps.drop(\"NIP\", axis = 1, inplace=True)"
   ]
  },
  {
   "cell_type": "markdown",
   "metadata": {},
   "source": [
    "## Chirurgie recoding"
   ]
  },
  {
   "cell_type": "code",
   "execution_count": 162,
   "metadata": {
    "collapsed": true
   },
   "outputs": [],
   "source": [
    "# MC: IK = take just one value : 'CHIR_IK_PRE', and if CHIR_IK_PRE is missing, take the average of the two others\n",
    "df_final_kps['IK'] = df_final_kps['CHIR_IK_PRE']\n",
    "df_final_kps.loc[(df_final_kps['IK'].isnull()) & (df_final_kps['IK_CLINIQUE'].notnull()) & (df_final_kps['RX_IK_PRE'].notnull()), 'IK'] = (df_final_kps['IK_CLINIQUE'] + df_final_kps['RX_IK_PRE'])/2\n",
    "df_final_kps.loc[(df_final_kps['IK'].isnull()) & (df_final_kps['IK_CLINIQUE'].isnull()) & (df_final_kps['RX_IK_PRE'].notnull()), 'IK'] = df_final_kps['RX_IK_PRE'] \n",
    "df_final_kps.loc[(df_final_kps['IK'].isnull()) & (df_final_kps['IK_CLINIQUE'].notnull()) & (df_final_kps['RX_IK_PRE'].isnull()), 'IK'] = df_final_kps['IK_CLINIQUE'] "
   ]
  },
  {
   "cell_type": "code",
   "execution_count": 163,
   "metadata": {
    "collapsed": true
   },
   "outputs": [],
   "source": [
    "# now drop all IK variables except for \"IK\"\n",
    "df_final_kps.drop('CHIR_IK_PRE', axis =1, inplace = True)\n",
    "df_final_kps.drop('IK_CLINIQUE', axis = 1, inplace = True)\n",
    "df_final_kps.drop('RX_IK_PRE', axis = 1, inplace = True)"
   ]
  },
  {
   "cell_type": "markdown",
   "metadata": {},
   "source": [
    "# Looks good so far "
   ]
  },
  {
   "cell_type": "code",
   "execution_count": 164,
   "metadata": {
    "collapsed": true
   },
   "outputs": [],
   "source": [
    "# Code Rx date into either 1 if date is present, or leave it as missing otherwise\n",
    "df_final_kps['RX'] = np.where(df_final_kps['Rx_date'].notnull(), 1, np.NaN)"
   ]
  },
  {
   "cell_type": "code",
   "execution_count": 165,
   "metadata": {
    "collapsed": true
   },
   "outputs": [],
   "source": [
    "df_final_kps['CHEM'] = np.where(df_final_kps['Chemo_start_date'].notnull(), 1, np.NaN)"
   ]
  },
  {
   "cell_type": "code",
   "execution_count": 166,
   "metadata": {
    "collapsed": true
   },
   "outputs": [],
   "source": [
    "#drop NIP as it's duplicate of ID after the merge\n",
    "#drop multiple surgeries as it was only needed to remove duplicates\n",
    "#drop CHIR Date as it comes from KPS dataset after merge and is duplicate of Surgery_date\n",
    "#drop Rx_date and Chemo_start_date\n",
    "#Final dataset before imputation\n",
    "df_final_kps.drop('multiple_surgeries', axis = 1, inplace=True)\n",
    "df_final_kps.drop('CHIR_DATE', axis = 1, inplace=True)\n",
    "df_final_kps.drop('Chemo_start_date', axis = 1, inplace=True)\n",
    "df_final_kps.drop('Rx_date', axis = 1, inplace=True)"
   ]
  },
  {
   "cell_type": "code",
   "execution_count": 167,
   "metadata": {},
   "outputs": [
    {
     "data": {
      "text/plain": [
       "30"
      ]
     },
     "execution_count": 167,
     "metadata": {},
     "output_type": "execute_result"
    }
   ],
   "source": [
    "len(df_final_kps.columns)"
   ]
  },
  {
   "cell_type": "code",
   "execution_count": 168,
   "metadata": {},
   "outputs": [
    {
     "data": {
      "text/html": [
       "<div>\n",
       "<style scoped>\n",
       "    .dataframe tbody tr th:only-of-type {\n",
       "        vertical-align: middle;\n",
       "    }\n",
       "\n",
       "    .dataframe tbody tr th {\n",
       "        vertical-align: top;\n",
       "    }\n",
       "\n",
       "    .dataframe thead th {\n",
       "        text-align: right;\n",
       "    }\n",
       "</style>\n",
       "<table border=\"1\" class=\"dataframe\">\n",
       "  <thead>\n",
       "    <tr style=\"text-align: right;\">\n",
       "      <th></th>\n",
       "      <th>ID</th>\n",
       "      <th>Gender</th>\n",
       "      <th>DoB</th>\n",
       "      <th>Dernieres_nouvelles</th>\n",
       "      <th>Death_date</th>\n",
       "      <th>Surgery_date</th>\n",
       "      <th>Tumor_type</th>\n",
       "      <th>Tumor_grade</th>\n",
       "      <th>Gene_P53</th>\n",
       "      <th>Gene_Mgmt</th>\n",
       "      <th>Gene_Egfr</th>\n",
       "      <th>Gene_Mdm2</th>\n",
       "      <th>Gene_Cdk4</th>\n",
       "      <th>Gene_P16</th>\n",
       "      <th>Gene_Ihc_Atrx</th>\n",
       "      <th>Gene_Ch10Q</th>\n",
       "      <th>Gene_Ch9P</th>\n",
       "      <th>Tumor_Location</th>\n",
       "      <th>Tumor_Position</th>\n",
       "      <th>Clinical_evolution</th>\n",
       "      <th>Surgery_type</th>\n",
       "      <th>Age_surgery</th>\n",
       "      <th>life_expectancy</th>\n",
       "      <th>IDH</th>\n",
       "      <th>TERT</th>\n",
       "      <th>IDH_TERT</th>\n",
       "      <th>1p19q_codel</th>\n",
       "      <th>IK</th>\n",
       "      <th>RX</th>\n",
       "      <th>CHEM</th>\n",
       "    </tr>\n",
       "  </thead>\n",
       "  <tbody>\n",
       "    <tr>\n",
       "      <th>0</th>\n",
       "      <td>10</td>\n",
       "      <td>M</td>\n",
       "      <td>1949-11-05</td>\n",
       "      <td>NaN</td>\n",
       "      <td>1992-05-15</td>\n",
       "      <td>1992-04-15</td>\n",
       "      <td>gliome</td>\n",
       "      <td>3.0</td>\n",
       "      <td>NC</td>\n",
       "      <td>NaN</td>\n",
       "      <td>NORMAL</td>\n",
       "      <td>NaN</td>\n",
       "      <td>NaN</td>\n",
       "      <td>NaN</td>\n",
       "      <td>NaN</td>\n",
       "      <td>PERTE</td>\n",
       "      <td>NON PERTE</td>\n",
       "      <td>A</td>\n",
       "      <td>G</td>\n",
       "      <td>TT ini</td>\n",
       "      <td>partielle</td>\n",
       "      <td>42.0</td>\n",
       "      <td>30.0</td>\n",
       "      <td>mutant</td>\n",
       "      <td>wt</td>\n",
       "      <td>3.0</td>\n",
       "      <td>0.0</td>\n",
       "      <td>NaN</td>\n",
       "      <td>1.0</td>\n",
       "      <td>1.0</td>\n",
       "    </tr>\n",
       "    <tr>\n",
       "      <th>1</th>\n",
       "      <td>11</td>\n",
       "      <td>M</td>\n",
       "      <td>1958-07-29</td>\n",
       "      <td>NaN</td>\n",
       "      <td>1991-11-15</td>\n",
       "      <td>1986-03-17</td>\n",
       "      <td>astrocytome</td>\n",
       "      <td>2.0</td>\n",
       "      <td>NC</td>\n",
       "      <td>NaN</td>\n",
       "      <td>NaN</td>\n",
       "      <td>NaN</td>\n",
       "      <td>NaN</td>\n",
       "      <td>NaN</td>\n",
       "      <td>NaN</td>\n",
       "      <td>NaN</td>\n",
       "      <td>NaN</td>\n",
       "      <td>N</td>\n",
       "      <td>non précisé</td>\n",
       "      <td>TT ini</td>\n",
       "      <td>exérèse</td>\n",
       "      <td>28.0</td>\n",
       "      <td>2069.0</td>\n",
       "      <td>NC</td>\n",
       "      <td>NaN</td>\n",
       "      <td>NaN</td>\n",
       "      <td>NaN</td>\n",
       "      <td>NaN</td>\n",
       "      <td>1.0</td>\n",
       "      <td>NaN</td>\n",
       "    </tr>\n",
       "  </tbody>\n",
       "</table>\n",
       "</div>"
      ],
      "text/plain": [
       "   ID Gender        DoB  Dernieres_nouvelles Death_date Surgery_date  \\\n",
       "0  10      M 1949-11-05                  NaN 1992-05-15   1992-04-15   \n",
       "1  11      M 1958-07-29                  NaN 1991-11-15   1986-03-17   \n",
       "\n",
       "    Tumor_type  Tumor_grade Gene_P53 Gene_Mgmt Gene_Egfr Gene_Mdm2 Gene_Cdk4  \\\n",
       "0       gliome          3.0       NC       NaN    NORMAL       NaN       NaN   \n",
       "1  astrocytome          2.0       NC       NaN       NaN       NaN       NaN   \n",
       "\n",
       "  Gene_P16 Gene_Ihc_Atrx Gene_Ch10Q  Gene_Ch9P Tumor_Location Tumor_Position  \\\n",
       "0      NaN           NaN      PERTE  NON PERTE              A              G   \n",
       "1      NaN           NaN        NaN        NaN              N    non précisé   \n",
       "\n",
       "  Clinical_evolution Surgery_type  Age_surgery  life_expectancy     IDH TERT  \\\n",
       "0             TT ini    partielle         42.0             30.0  mutant   wt   \n",
       "1             TT ini      exérèse         28.0           2069.0      NC  NaN   \n",
       "\n",
       "   IDH_TERT  1p19q_codel  IK   RX  CHEM  \n",
       "0       3.0          0.0 NaN  1.0   1.0  \n",
       "1       NaN          NaN NaN  1.0   NaN  "
      ]
     },
     "execution_count": 168,
     "metadata": {},
     "output_type": "execute_result"
    }
   ],
   "source": [
    "df_final_kps.head(2)"
   ]
  },
  {
   "cell_type": "code",
   "execution_count": 169,
   "metadata": {
    "collapsed": true
   },
   "outputs": [],
   "source": [
    "#Drop death date\n",
    "#Drop Dernieres nouvelles\n",
    "#Drop surgery date\n",
    "#drop clinical evolution\n",
    "#drop DoB\n",
    "df_final_kps.drop('Death_date', axis = 1, inplace=True)\n",
    "df_final_kps.drop('Surgery_date', axis = 1, inplace=True)\n",
    "df_final_kps.drop('Dernieres_nouvelles', axis = 1, inplace=True)\n",
    "df_final_kps.drop('Clinical_evolution', axis = 1, inplace=True)\n",
    "df_final_kps.drop('DoB', axis = 1, inplace=True)"
   ]
  },
  {
   "cell_type": "code",
   "execution_count": 172,
   "metadata": {
    "collapsed": true
   },
   "outputs": [],
   "source": [
    "#df_final_kps['life_expectancy'] = pd.to_datetime(df_final_kps['life_expectancy'])\n",
    "df_final_kps['life_expectancy'] = df_final_kps['life_expectancy'].round()"
   ]
  },
  {
   "cell_type": "code",
   "execution_count": 173,
   "metadata": {},
   "outputs": [
    {
     "data": {
      "text/plain": [
       "25"
      ]
     },
     "execution_count": 173,
     "metadata": {},
     "output_type": "execute_result"
    }
   ],
   "source": [
    "len(df_final_kps.columns)"
   ]
  },
  {
   "cell_type": "code",
   "execution_count": 174,
   "metadata": {},
   "outputs": [
    {
     "data": {
      "text/html": [
       "<div>\n",
       "<style scoped>\n",
       "    .dataframe tbody tr th:only-of-type {\n",
       "        vertical-align: middle;\n",
       "    }\n",
       "\n",
       "    .dataframe tbody tr th {\n",
       "        vertical-align: top;\n",
       "    }\n",
       "\n",
       "    .dataframe thead th {\n",
       "        text-align: right;\n",
       "    }\n",
       "</style>\n",
       "<table border=\"1\" class=\"dataframe\">\n",
       "  <thead>\n",
       "    <tr style=\"text-align: right;\">\n",
       "      <th></th>\n",
       "      <th>ID</th>\n",
       "      <th>Gender</th>\n",
       "      <th>Tumor_type</th>\n",
       "      <th>Tumor_grade</th>\n",
       "      <th>Gene_P53</th>\n",
       "      <th>Gene_Mgmt</th>\n",
       "      <th>Gene_Egfr</th>\n",
       "      <th>Gene_Mdm2</th>\n",
       "      <th>Gene_Cdk4</th>\n",
       "      <th>Gene_P16</th>\n",
       "      <th>Gene_Ihc_Atrx</th>\n",
       "      <th>Gene_Ch10Q</th>\n",
       "      <th>Gene_Ch9P</th>\n",
       "      <th>Tumor_Location</th>\n",
       "      <th>Tumor_Position</th>\n",
       "      <th>Surgery_type</th>\n",
       "      <th>Age_surgery</th>\n",
       "      <th>life_expectancy</th>\n",
       "      <th>IDH</th>\n",
       "      <th>TERT</th>\n",
       "      <th>IDH_TERT</th>\n",
       "      <th>1p19q_codel</th>\n",
       "      <th>IK</th>\n",
       "      <th>RX</th>\n",
       "      <th>CHEM</th>\n",
       "    </tr>\n",
       "  </thead>\n",
       "  <tbody>\n",
       "    <tr>\n",
       "      <th>0</th>\n",
       "      <td>10</td>\n",
       "      <td>M</td>\n",
       "      <td>gliome</td>\n",
       "      <td>3.0</td>\n",
       "      <td>NC</td>\n",
       "      <td>NaN</td>\n",
       "      <td>NORMAL</td>\n",
       "      <td>NaN</td>\n",
       "      <td>NaN</td>\n",
       "      <td>NaN</td>\n",
       "      <td>NaN</td>\n",
       "      <td>PERTE</td>\n",
       "      <td>NON PERTE</td>\n",
       "      <td>A</td>\n",
       "      <td>G</td>\n",
       "      <td>partielle</td>\n",
       "      <td>42.0</td>\n",
       "      <td>30.0</td>\n",
       "      <td>mutant</td>\n",
       "      <td>wt</td>\n",
       "      <td>3.0</td>\n",
       "      <td>0.0</td>\n",
       "      <td>NaN</td>\n",
       "      <td>1.0</td>\n",
       "      <td>1.0</td>\n",
       "    </tr>\n",
       "    <tr>\n",
       "      <th>1</th>\n",
       "      <td>11</td>\n",
       "      <td>M</td>\n",
       "      <td>astrocytome</td>\n",
       "      <td>2.0</td>\n",
       "      <td>NC</td>\n",
       "      <td>NaN</td>\n",
       "      <td>NaN</td>\n",
       "      <td>NaN</td>\n",
       "      <td>NaN</td>\n",
       "      <td>NaN</td>\n",
       "      <td>NaN</td>\n",
       "      <td>NaN</td>\n",
       "      <td>NaN</td>\n",
       "      <td>N</td>\n",
       "      <td>non précisé</td>\n",
       "      <td>exérèse</td>\n",
       "      <td>28.0</td>\n",
       "      <td>2069.0</td>\n",
       "      <td>NC</td>\n",
       "      <td>NaN</td>\n",
       "      <td>NaN</td>\n",
       "      <td>NaN</td>\n",
       "      <td>NaN</td>\n",
       "      <td>1.0</td>\n",
       "      <td>NaN</td>\n",
       "    </tr>\n",
       "  </tbody>\n",
       "</table>\n",
       "</div>"
      ],
      "text/plain": [
       "   ID Gender   Tumor_type  Tumor_grade Gene_P53 Gene_Mgmt Gene_Egfr Gene_Mdm2  \\\n",
       "0  10      M       gliome          3.0       NC       NaN    NORMAL       NaN   \n",
       "1  11      M  astrocytome          2.0       NC       NaN       NaN       NaN   \n",
       "\n",
       "  Gene_Cdk4 Gene_P16 Gene_Ihc_Atrx Gene_Ch10Q  Gene_Ch9P Tumor_Location  \\\n",
       "0       NaN      NaN           NaN      PERTE  NON PERTE              A   \n",
       "1       NaN      NaN           NaN        NaN        NaN              N   \n",
       "\n",
       "  Tumor_Position Surgery_type  Age_surgery  life_expectancy     IDH TERT  \\\n",
       "0              G    partielle         42.0             30.0  mutant   wt   \n",
       "1    non précisé      exérèse         28.0           2069.0      NC  NaN   \n",
       "\n",
       "   IDH_TERT  1p19q_codel  IK   RX  CHEM  \n",
       "0       3.0          0.0 NaN  1.0   1.0  \n",
       "1       NaN          NaN NaN  1.0   NaN  "
      ]
     },
     "execution_count": 174,
     "metadata": {},
     "output_type": "execute_result"
    }
   ],
   "source": [
    "df_final_kps.head(2)"
   ]
  },
  {
   "cell_type": "markdown",
   "metadata": {},
   "source": [
    "# Final Checkopoint \n",
    "* Put everything in a pickle \n",
    "* Add in the imputed datasets the original predictor variables with missing data"
   ]
  },
  {
   "cell_type": "code",
   "execution_count": 5,
   "metadata": {
    "collapsed": true
   },
   "outputs": [],
   "source": [
    "write_to_pickle(df_final_kps,'final_dataset')\n",
    "#df_final_kps = read_from_pickle('final_dataset')"
   ]
  },
  {
   "cell_type": "code",
   "execution_count": 2,
   "metadata": {
    "collapsed": true
   },
   "outputs": [],
   "source": [
    "# Bring in imputed dataset and replace life expectancy variable, now imputed, with the original one\n",
    "df_imputed = pd.read_csv(\"data/imputed_dataset_with_censoring_26022018_MICE.csv\")"
   ]
  },
  {
   "cell_type": "code",
   "execution_count": 7,
   "metadata": {
    "collapsed": true
   },
   "outputs": [],
   "source": [
    "df_imputed['life_expectancy'] = df_final_kps['life_expectancy']"
   ]
  },
  {
   "cell_type": "code",
   "execution_count": null,
   "metadata": {
    "collapsed": true
   },
   "outputs": [],
   "source": [
    "df_imputed.to_csv(\"data/imputed_dataset_with_censoring_MICE_original.csv\")"
   ]
  },
  {
   "cell_type": "code",
   "execution_count": 9,
   "metadata": {
    "collapsed": true
   },
   "outputs": [],
   "source": [
    "df_imputed_knn = pd.read_csv(\"data/imputed_dataset_with_censoring_26022018_knn.csv\")"
   ]
  },
  {
   "cell_type": "code",
   "execution_count": 10,
   "metadata": {
    "collapsed": true
   },
   "outputs": [],
   "source": [
    "df_imputed_knn['life_expectancy'] = df_final_kps['life_expectancy']"
   ]
  },
  {
   "cell_type": "code",
   "execution_count": null,
   "metadata": {
    "collapsed": true
   },
   "outputs": [],
   "source": [
    "df_imputed_knn.to_csv(\"data/imputed_dataset_with_censoring_26022018_KNN_original.csv\")"
   ]
  }
 ],
 "metadata": {
  "anaconda-cloud": {},
  "kernelspec": {
   "display_name": "Python 3",
   "language": "python",
   "name": "python3"
  },
  "language_info": {
   "codemirror_mode": {
    "name": "ipython",
    "version": 3
   },
   "file_extension": ".py",
   "mimetype": "text/x-python",
   "name": "python",
   "nbconvert_exporter": "python",
   "pygments_lexer": "ipython3",
   "version": "3.6.6"
  }
 },
 "nbformat": 4,
 "nbformat_minor": 2
}
