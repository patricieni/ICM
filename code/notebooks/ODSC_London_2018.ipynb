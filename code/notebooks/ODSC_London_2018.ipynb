{
 "cells": [
  {
   "cell_type": "markdown",
   "metadata": {},
   "source": [
    "# ODSC London 22 September - Missing Data Tutorial"
   ]
  },
  {
   "cell_type": "code",
   "execution_count": null,
   "metadata": {},
   "outputs": [],
   "source": [
    "import pandas as pd\n",
    "import matplotlib.pyplot as plt\n",
    "from pathlib import Path\n",
    "import warnings\n",
    "warnings.filterwarnings('ignore')"
   ]
  },
  {
   "cell_type": "markdown",
   "metadata": {},
   "source": [
    "## Introduction"
   ]
  },
  {
   "cell_type": "markdown",
   "metadata": {},
   "source": [
    "In most fields, missing data is so common that it is a given. You literally design your studies from the beginning with missing data in mind. The problem is particularly acute for surveys, longitudinal studies, and in clinical medicine.\n",
    "\n",
    "Overall, handling missing data is so important that (Wainer 2010) considers it one of the “six necessary tools” that researchers need to master in order to successfully tackle problems in their fields in the 21st century.\n",
    "\n",
    "**Aim of this tutorial**\n",
    "1. To give you an understanding of missing data and the statistical problems it raises\n",
    "2. To provide you with a comprehensive, A to Z, applied tutorial on handling missing data\n"
   ]
  },
  {
   "cell_type": "markdown",
   "metadata": {},
   "source": [
    "### What is missing data? "
   ]
  },
  {
   "cell_type": "markdown",
   "metadata": {},
   "source": [
    "**\"Values that are not available and that would be meaningful for analysis if they were observed\" (Little 2012)**\n",
    "\n",
    "When you have missing data for variables that are not of interest in your study, you can consider you do not have missing data. The first step is hence to reduce your dataset to the relevant variables. Then you can start looking at missing data."
   ]
  },
  {
   "cell_type": "code",
   "execution_count": 29,
   "metadata": {},
   "outputs": [],
   "source": [
    "# Put a dataframe and explain what it means to have missing data - stupid but necessary.\n",
    "# Add a small note on the \"mathematical\" description"
   ]
  },
  {
   "cell_type": "markdown",
   "metadata": {},
   "source": [
    "### Why do we care?\n",
    "\n",
    "1. **Increase of bias/Underfitting**: \n",
    "    In statistics, bias reflects the extent to which your expected values differ from the true population parameters that you are trying to estimate. Concretely, bias arises in a dataset with missing data whenever for a variable, the missing data differs substantially from the observed data.\n",
    "\n",
    "    **Longitudinal study** and **dropout** : Let’s take a controlled drug study in medicine. In such a study, one compares the two arms of a study: the treatment arm and the control arm. Bias will depend on the relationship between missingness, treatment, and outcome. It is not uncommon for patients in the treatment arm to drop out due to adverse reactions to the treatment, or due to lack of improvement. In parallel, particularly healthy subjects, or ones who react exceptionally well to the treatment, will have very high completion rates for the study. The former, missing patients, will then become missing data in the final study. Ignoring them would lead to biased estimates of the efficacy of the treatment. We would be estimating how efficient the treatment was for a subsample of the population, the “healthier/better reacting” patients that completed the study, as opposed to the entire target population. \n",
    "    \n",
    "    **Censoring**: Values for certain variables might be below certain thresholds making them innacurate"
   ]
  },
  {
   "cell_type": "code",
   "execution_count": 26,
   "metadata": {},
   "outputs": [],
   "source": [
    "# add an example where you show bias increase in missing data, just a simple calculation. \n",
    "# Bias(\\mu) = \\E[/mu -x ] - estimator's bias in this case, mean. "
   ]
  },
  {
   "cell_type": "markdown",
   "metadata": {},
   "source": [
    "**2. Reduction of power:**\n",
    "    In statistics, power, scaled from 0 to 1, is the probability that a hypothesis test correctly rejects the null hypothesis when it is false. This type of error is also called a type 2 error. The higher the power of your study is, the less likely you are to make a type 2 error.\n",
    "\n",
    "Statistical power is influenced by two characteristics of your study: \n",
    "    1. Sample size \n",
    "    2. Variability of the outcomes observed. \n",
    "We therefore see that power increases if the sample size increases, or if the variability of the outcomes observed decreases. \n",
    "\n",
    "The mechanisms through which missing data directly influences the power of your study:\n",
    "    * if you simply delete the observations with missing values, you reduce your effective sample size, and therefore reduce your power\n",
    "    * if your missing values are more extreme figures than the observed ones (outliers), which regularly happens in practice, you will underestimate your variability and therefore artificially narrow your confidence interval (small variance, higher bias)\n"
   ]
  },
  {
   "cell_type": "code",
   "execution_count": 27,
   "metadata": {},
   "outputs": [],
   "source": [
    "# Add an example here as well? "
   ]
  },
  {
   "cell_type": "markdown",
   "metadata": {},
   "source": [
    "**3. Most statistical tools, theoretical and applied are designed for complete datasets**\n",
    "\n",
    "Almost all standard statistical analysis techniques and their implementations in various softwares were developed for complete datasets, and cannot handle appropriately incomplete ones (Schafer and Graham, 2002).\n",
    "\n",
    "**Models** \n",
    "**TODO: Add table with models that handle missing data such as DT/RF and ones that don't i.e. NN. **"
   ]
  },
  {
   "cell_type": "markdown",
   "metadata": {},
   "source": [
    "## Description and patterns of missing data"
   ]
  },
  {
   "cell_type": "markdown",
   "metadata": {},
   "source": [
    "**What do you want to say here?** \n",
    "\n",
    "Unit vs item\n",
    "Graph. 1930s polls.\n",
    "Item: income"
   ]
  },
  {
   "cell_type": "markdown",
   "metadata": {},
   "source": [
    "Run me!\n",
    "![title](img/item-nonresponse.png)\n",
    "![title](img/unit-nonresponse.png)\n",
    "![title](img/univariate.png)\n",
    "![title](img/monotone.png)\n",
    "![title](img/non-monotone.png)"
   ]
  },
  {
   "cell_type": "markdown",
   "metadata": {},
   "source": [
    "## Mechanisms of missing data\n",
    "It is hard to differentiate between the first one (MCAR) and the last one (MNAR) but we'll try to show you some tricks! "
   ]
  },
  {
   "cell_type": "markdown",
   "metadata": {},
   "source": [
    "**MCAR: Missing Completely at Random**\n",
    "\n",
    "If the missingness of the data is *unrelated* to both the observed and the unobserved data, the missing data is said to be missing completely at random (MCAR). In this situation, the missing data is a random subsample of the complete dataset. Discarding data can bias estimates and lose information\n",
    "\n",
    "In this specific case, analyzing only the observations with complete data in the study (complete case analysis) would lead to a loss of power/efficiency in the study, but not to a higher bias in the estimates. As a rule of thumb, if less than 60% of the features of a datapoint are missing, we shouldn't remove it.\n",
    "\n",
    "An important caveat is that MCAR and correlations are not necessarily mutually exclusive, i.e. the possibility that the missingness of a variable X is related to the missingness of some other variable Y. If in a survey the same subjects refused to answer both the age and the gender questions, this can mean both MCAR or not. "
   ]
  },
  {
   "cell_type": "code",
   "execution_count": null,
   "metadata": {},
   "outputs": [],
   "source": [
    "# Add something interesting here"
   ]
  },
  {
   "cell_type": "markdown",
   "metadata": {},
   "source": [
    "**MAR: Missing at Random** \n",
    "\n",
    "If missingness of the data depends only on the observed data and not on the unobserved data, we say that the data is missing at random (MAR). This implies that after taking the observed data into account, there are no systematic differences between items (subjects) with missing data and those without missing data."
   ]
  },
  {
   "cell_type": "code",
   "execution_count": 30,
   "metadata": {},
   "outputs": [],
   "source": [
    "# Add something interesting here"
   ]
  },
  {
   "cell_type": "markdown",
   "metadata": {},
   "source": [
    "**MNAR: Missing not at Random**\n",
    "This occurs when the missingness of the data depends on the values of the missing data themselves. It often occurs for the income variable in surveys for example: both high income earners and low income earners are less likely to report their income (to answer the income question) than are the average income earners. Therefore the fact that those answers will be missing will be correlated to the value of those missing data points themselves. The data in such a study cannot be said to be missing at random.\n",
    "\n",
    "\n",
    "Most statistical tools require data to be MAR or MCAR. However, in the presence of MNAR, the same statistical tools remain the best thing we have – just much more uncertain/unreliable.\n"
   ]
  },
  {
   "cell_type": "code",
   "execution_count": 31,
   "metadata": {},
   "outputs": [],
   "source": [
    "# Add something interesting here"
   ]
  },
  {
   "cell_type": "markdown",
   "metadata": {},
   "source": [
    "## Visualization\n",
    "As usual, we start by visualizing our missing data. \n",
    "\n",
    "We started deadset on sticking to a pure Python workflow. If something not implemented in Python, we would rather code it ourselves than revert to R. That’s how we roll.\n",
    "\n",
    "It became clear over time that R keeps a tremendous advantage in esoteric statistical fields such as handling missing data. At this point in time, no robust and comprehensive python package for handling missing data. A good lesson in data science – be versatile and use whatever is available.\n",
    "\n",
    "I will show you here the workflow by appealing to the best R packages I could find for each task.\n",
    "\n",
    "Visualization is key. Important not only for you, but also for your audience/publications.\n"
   ]
  },
  {
   "cell_type": "code",
   "execution_count": 15,
   "metadata": {
    "scrolled": true
   },
   "outputs": [
    {
     "ename": "ERROR",
     "evalue": "Error in kNN(data): could not find function \"kNN\"\n",
     "output_type": "error",
     "traceback": [
      "Error in kNN(data): could not find function \"kNN\"\nTraceback:\n"
     ]
    }
   ],
   "source": [
    "#getwd()\n",
    "data <- read.csv(\"../.././data/imputation_dataset_no_censoring_24022018.csv\", na.strings = '', header=TRUE)\n",
    "data_knn_part <- kNN(data)\n",
    "\n",
    "matrixplot(data, labels=TRUE)"
   ]
  },
  {
   "cell_type": "markdown",
   "metadata": {},
   "source": [
    "Run me!\n",
    "![title](img/knn_matrixplot.png)"
   ]
  },
  {
   "cell_type": "code",
   "execution_count": null,
   "metadata": {},
   "outputs": [],
   "source": [
    "aggr(data, prop=c(TRUE,FALSE), sortVars=TRUE, sortCombs=TRUE)"
   ]
  },
  {
   "cell_type": "markdown",
   "metadata": {},
   "source": [
    "Run me! \n",
    "![title](img/knn_proportions_missing.png)"
   ]
  },
  {
   "cell_type": "markdown",
   "metadata": {},
   "source": [
    "### Interlude: Is the missing data MCAR? (How to test for this)\n",
    "[Baylor](https://cran.r-project.org/web/packages/BaylorEdPsych/BaylorEdPsych.pdf)\n",
    "[MCAR Test Youtube](https://www.youtube.com/watch?v=LmyRcu75XEI)\n",
    "\n",
    "If yes, great. If not, more manual investigations needed, as there is no statistical test to differentiate between MAR and MNAR. **YOU MEAN MCAR AND MNAR?**\n",
    "\n",
    "Question: Should this part go here?\n"
   ]
  },
  {
   "cell_type": "code",
   "execution_count": null,
   "metadata": {},
   "outputs": [],
   "source": []
  },
  {
   "cell_type": "code",
   "execution_count": null,
   "metadata": {},
   "outputs": [],
   "source": []
  },
  {
   "cell_type": "code",
   "execution_count": null,
   "metadata": {},
   "outputs": [],
   "source": []
  },
  {
   "cell_type": "code",
   "execution_count": null,
   "metadata": {},
   "outputs": [],
   "source": []
  },
  {
   "cell_type": "code",
   "execution_count": 9,
   "metadata": {},
   "outputs": [],
   "source": []
  },
  {
   "cell_type": "markdown",
   "metadata": {},
   "source": [
    "________"
   ]
  },
  {
   "cell_type": "markdown",
   "metadata": {},
   "source": [
    "## R works either with Kernel or with below magic commands"
   ]
  },
  {
   "cell_type": "code",
   "execution_count": 3,
   "metadata": {},
   "outputs": [],
   "source": [
    "%load_ext rpy2.ipython"
   ]
  },
  {
   "cell_type": "code",
   "execution_count": 15,
   "metadata": {},
   "outputs": [
    {
     "data": {
      "text/plain": [
       "array([0], dtype=int32)"
      ]
     },
     "execution_count": 15,
     "metadata": {},
     "output_type": "execute_result"
    }
   ],
   "source": [
    "%R require(ggplot)\n",
    "df = pd.DataFrame({'Alphabet': ['a', 'b', 'c', 'd','e', 'f', 'g', 'h','i'],\n",
    "                   'A': [4, 3, 5, 2, 1, 7, 7, 5, 9],\n",
    "                   'B': [0, 4, 3, 6, 7, 10,11, 9, 13],\n",
    "                   'C': [1, 2, 3, 1, 2, 3, 1, 2, 3]})\n",
    "%R -i df"
   ]
  }
 ],
 "metadata": {
  "kernelspec": {
   "display_name": "R",
   "language": "R",
   "name": "ir"
  },
  "language_info": {
   "codemirror_mode": "r",
   "file_extension": ".r",
   "mimetype": "text/x-r-source",
   "name": "R",
   "pygments_lexer": "r",
   "version": "3.5.1"
  }
 },
 "nbformat": 4,
 "nbformat_minor": 2
}
