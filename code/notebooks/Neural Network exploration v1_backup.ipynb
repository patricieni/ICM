{
 "cells": [
  {
   "cell_type": "markdown",
   "metadata": {},
   "source": [
    "# Exploration of Neural Network libraries in Python:\n",
    "# Training a Feedforward Neural Network for Regression"
   ]
  },
  {
   "cell_type": "markdown",
   "metadata": {},
   "source": [
    "#### 1. Benchmark: Logistic Regression (scikit-learn)\n",
    "    \n",
    "#### 2. Classification\n",
    "    2.1 Benchmark\n",
    "    2.2 Keras NN\n",
    "    2.3 Ensamble of models\n",
    "\n",
    "#### 3. Regression\n",
    "    3.1 Benchmark\n",
    "    3.2 Keras NN\n",
    "    \n",
    "#### 4. PyBrain\n",
    "    4.1 "
   ]
  },
  {
   "cell_type": "code",
   "execution_count": 12,
   "metadata": {
    "collapsed": true
   },
   "outputs": [],
   "source": [
    "import sys, os\n",
    "sys.path.append(os.path.join(os.getcwd().split('ICM')[0], 'ICM', 'code'))\n",
    "import ICM_utils"
   ]
  },
  {
   "cell_type": "code",
   "execution_count": 13,
   "metadata": {},
   "outputs": [],
   "source": [
    "import pandas as pd\n",
    "pd.options.mode.chained_assignment = None\n",
    "\n",
    "import numpy as np\n",
    "import matplotlib.pyplot as plt\n",
    "\n",
    "from sklearn import linear_model\n",
    "from sklearn.ensemble import VotingClassifier\n",
    "from sklearn.cross_validation import KFold, cross_val_score\n",
    "from sklearn.svm import LinearSVC\n",
    "from sklearn.datasets import make_classification\n",
    "# from sklearn.preprocessing import LabelEncoder\n",
    "# from sklearn.ensemble import RandomForestRegressor\n",
    "# from sklearn.grid_search import GridSearchCV, RandomizedSearchCV\n",
    "# from sklearn.cross_validation import train_test_split\n",
    "# from sklearn.metrics import confusion_matrix, classification_report, accuracy_score\n",
    "from sklearn.preprocessing import StandardScaler\n",
    "from sklearn.pipeline import Pipeline\n",
    "\n",
    "from keras import metrics\n",
    "from keras.models import Sequential\n",
    "from keras.layers import Dense\n",
    "from keras.layers import Activation, Dense, BatchNormalization, Dropout\n",
    "from keras import optimizers\n",
    "from keras.wrappers.scikit_learn import KerasRegressor, KerasClassifier\n",
    "from keras.utils.np_utils import to_categorical\n",
    "\n",
    "%matplotlib inline \n",
    "import time, math"
   ]
  },
  {
   "cell_type": "code",
   "execution_count": 14,
   "metadata": {
    "collapsed": true
   },
   "outputs": [],
   "source": [
    "IMC_basedir = os.getcwd().split('code')[0]\n",
    "DATA_AMELIA_FILE = os.path.join(IMC_basedir, 'data/imputed_dataset_no_censoring_26022018_Amelia1.csv')\n",
    "DATA_MICE_FILE = os.path.join(IMC_basedir, 'data/imputed_dataset_no_censoring_26022018_MICE.csv')\n",
    "TRAIN_FILE = os.path.join(IMC_basedir, 'data/amelia_train')\n",
    "TEST_FILE = os.path.join(IMC_basedir, 'data/amelia_test')\n",
    "MODEL_DIR = os.path.join(IMC_basedir, 'data/amelia_model')"
   ]
  },
  {
   "cell_type": "code",
   "execution_count": 15,
   "metadata": {},
   "outputs": [],
   "source": [
    "df, labels = ICM_utils.process_amelia(DATA_AMELIA_FILE)"
   ]
  },
  {
   "cell_type": "code",
   "execution_count": 17,
   "metadata": {},
   "outputs": [],
   "source": [
    "X_train_r, Y_train_r, X_test_r, Y_test_r = ICM_utils.get_train_test_data(df, regression=True, train_size=0.8)\n",
    "X_train_c, Y_train_c, X_test_c, Y_test_c = ICM_utils.get_train_test_data(df, regression=False, train_size=0.8)"
   ]
  },
  {
   "cell_type": "markdown",
   "metadata": {},
   "source": [
    "## 1. Benchmark Logistic Regression (Scikit-learn)"
   ]
  },
  {
   "cell_type": "code",
   "execution_count": 18,
   "metadata": {},
   "outputs": [
    {
     "name": "stdout",
     "output_type": "stream",
     "text": [
      "             precision    recall  f1-score   support\n",
      "\n",
      "    6months       0.20      0.09      0.13        95\n",
      "    1.2year       0.38      0.53      0.44       111\n",
      "     2years       0.18      0.06      0.08        54\n",
      "     3years       0.41      0.45      0.43        58\n",
      "       more       0.55      0.75      0.64       100\n",
      "\n",
      "avg / total       0.36      0.41      0.37       418\n",
      "\n",
      "Accuracy: 0.41148325358851673\n",
      "Mean square error (MSE): 3.08\n",
      "R^2: 0.41\n"
     ]
    },
    {
     "data": {
      "image/png": "[encoded data removed]",
      "text/plain": [
       "<matplotlib.figure.Figure at 0x11fc67eb8>"
      ]
     },
     "metadata": {},
     "output_type": "display_data"
    }
   ],
   "source": [
    "# Create logistic regression object\n",
    "regr = linear_model.LogisticRegression()             \n",
    "regr.fit(X_train_c, Y_train_c) \n",
    "\n",
    "Y_pred = regr.predict(X_test_c)\n",
    "            \n",
    "ICM_utils.plot_report(Y_test_c, Y_pred, labels)\n",
    "\n",
    "# print ('Coefficients:', regr.coef_, regr.intercept_ )               \n",
    "print(\"Mean square error (MSE): %.2f\"\n",
    "      % np.mean((Y_pred - Y_test_c) ** 2))      # The mean square error\n",
    "print ('R^2: %.2f' % regr.score(X_test_c, Y_test_c) )  # Explained variance score"
   ]
  },
  {
   "cell_type": "code",
   "execution_count": 19,
   "metadata": {
    "collapsed": true
   },
   "outputs": [],
   "source": [
    "# Regression"
   ]
  },
  {
   "cell_type": "code",
   "execution_count": 20,
   "metadata": {},
   "outputs": [
    {
     "name": "stdout",
     "output_type": "stream",
     "text": [
      "Mean square error (MSE): 2872468.92\n",
      "R^2: 0.00\n"
     ]
    }
   ],
   "source": [
    "regr = LinearSVC()\n",
    "regr.fit(X_train_r, Y_train_r) \n",
    "\n",
    "Y_pred = regr.predict(X_test_r)\n",
    "\n",
    "# print ('Coefficients:', regr.coef_, regr.intercept_ )               \n",
    "print(\"Mean square error (MSE): %.2f\"\n",
    "      % np.mean((Y_pred - Y_test_r) ** 2))      # The mean square error\n",
    "print ('R^2: %.2f' % regr.score(X_test_r, Y_test_r) )  # Explained variance score"
   ]
  },
  {
   "cell_type": "markdown",
   "metadata": {},
   "source": [
    "### 1.1 Benchmark Linear SVC"
   ]
  },
  {
   "cell_type": "code",
   "execution_count": 11,
   "metadata": {},
   "outputs": [
    {
     "data": {
      "text/plain": [
       "LinearSVC(C=1.0, class_weight=None, dual=True, fit_intercept=True,\n",
       "     intercept_scaling=1, loss='squared_hinge', max_iter=1000,\n",
       "     multi_class='ovr', penalty='l2', random_state=0, tol=0.0001,\n",
       "     verbose=0)"
      ]
     },
     "execution_count": 11,
     "metadata": {},
     "output_type": "execute_result"
    }
   ],
   "source": [
    "svc = LinearSVC(random_state=0)\n",
    "svc.fit(X_train_c, Y_train_c)"
   ]
  },
  {
   "cell_type": "code",
   "execution_count": 13,
   "metadata": {},
   "outputs": [
    {
     "name": "stdout",
     "output_type": "stream",
     "text": [
      "             precision    recall  f1-score   support\n",
      "\n",
      "    1.5year       0.52      0.99      0.68       198\n",
      "     4years       1.00      0.02      0.04       137\n",
      "       more       0.92      0.40      0.55        83\n",
      "\n",
      "avg / total       0.76      0.56      0.45       418\n",
      "\n",
      "Accuracy: 0.5574162679425837\n",
      "Mean square error (MSE): 0.81\n",
      "R^2: 0.00\n"
     ]
    },
    {
     "data": {
      "image/png": "[encoded data removed]",
      "text/plain": [
       "<matplotlib.figure.Figure at 0x7fc90dd63c50>"
      ]
     },
     "metadata": {},
     "output_type": "display_data"
    }
   ],
   "source": [
    "Y_pred = svc.predict(X_test_c)\n",
    "            \n",
    "ICM_utils.plot_report(Y_test_c, Y_pred, labels)\n",
    "\n",
    "# print ('Coefficients:', regr.coef_, regr.intercept_ )               \n",
    "print(\"Mean square error (MSE): %.2f\"\n",
    "      % np.mean((Y_pred - Y_test_c) ** 2))      # The mean square error\n",
    "print ('R^2: %.2f' % regr.score(X_test_c, Y_test_c) )  # Explained variance score"
   ]
  },
  {
   "cell_type": "code",
   "execution_count": 14,
   "metadata": {
    "collapsed": true
   },
   "outputs": [],
   "source": [
    "# Regression"
   ]
  },
  {
   "cell_type": "code",
   "execution_count": 15,
   "metadata": {},
   "outputs": [
    {
     "data": {
      "text/plain": [
       "LinearSVC(C=1.0, class_weight=None, dual=True, fit_intercept=True,\n",
       "     intercept_scaling=1, loss='squared_hinge', max_iter=1000,\n",
       "     multi_class='ovr', penalty='l2', random_state=0, tol=0.0001,\n",
       "     verbose=0)"
      ]
     },
     "execution_count": 15,
     "metadata": {},
     "output_type": "execute_result"
    }
   ],
   "source": [
    "svc = LinearSVC(random_state=0)\n",
    "svc.fit(X_train_r, Y_train_r)"
   ]
  },
  {
   "cell_type": "code",
   "execution_count": 17,
   "metadata": {},
   "outputs": [
    {
     "name": "stdout",
     "output_type": "stream",
     "text": [
      "Mean square error (MSE): 3293755.38\n",
      "R^2: 0.00\n"
     ]
    }
   ],
   "source": [
    "Y_pred = svc.predict(X_test_r)\n",
    "            \n",
    "# print ('Coefficients:', regr.coef_, regr.intercept_ )               \n",
    "print(\"Mean square error (MSE): %.2f\"\n",
    "      % np.mean((Y_pred - Y_test_r) ** 2))      # The mean square error\n",
    "print ('R^2: %.2f' % regr.score(X_test_r, Y_test_r) )  # Explained variance score"
   ]
  },
  {
   "cell_type": "markdown",
   "metadata": {},
   "source": [
    "## 2.1 Classification: Benchmark"
   ]
  },
  {
   "cell_type": "code",
   "execution_count": 30,
   "metadata": {
    "collapsed": true
   },
   "outputs": [],
   "source": [
    "# need the full dataset for cross validation\n",
    "X = df.copy(deep=True)\n",
    "\n",
    "Y = np.array(X['life_expectancy_bin'])\n",
    "# remove columns\n",
    "X.drop('life_expectancy', axis = 1, inplace=True)\n",
    "X.drop('life_expectancy_bin', axis = 1, inplace=True)\n",
    "\n",
    "X = np.array(X)"
   ]
  },
  {
   "cell_type": "code",
   "execution_count": 35,
   "metadata": {
    "collapsed": true
   },
   "outputs": [],
   "source": [
    "# define baseline model\n",
    "def baseline_model():\n",
    "    # create model\n",
    "    model = Sequential()\n",
    "    model.add(Dense(8, input_dim=54, activation='relu'))\n",
    "    model.add(Dense(len(labels), activation='softmax'))\n",
    "    # Compile model\n",
    "    model.compile(loss='categorical_crossentropy', optimizer='adam', metrics=['accuracy'])\n",
    "    return model"
   ]
  },
  {
   "cell_type": "code",
   "execution_count": 36,
   "metadata": {
    "collapsed": true
   },
   "outputs": [],
   "source": [
    "estimator = KerasClassifier(build_fn=baseline_model, epochs=100, batch_size=5, verbose=0)"
   ]
  },
  {
   "cell_type": "code",
   "execution_count": 37,
   "metadata": {},
   "outputs": [
    {
     "name": "stdout",
     "output_type": "stream",
     "text": [
      "Baseline: 42.57% (0.29%)\n"
     ]
    }
   ],
   "source": [
    "results = cross_val_score(estimator, X, Y, cv=KFold(n=X.shape[0], n_folds=2, shuffle=True))\n",
    "print(\"Baseline: %.2f%% (%.2f%%)\" % (results.mean()*100, results.std()*100))"
   ]
  },
  {
   "cell_type": "markdown",
   "metadata": {},
   "source": [
    "## 2.1 Classification: Keras NN"
   ]
  },
  {
   "cell_type": "code",
   "execution_count": 38,
   "metadata": {
    "scrolled": true
   },
   "outputs": [
    {
     "name": "stdout",
     "output_type": "stream",
     "text": [
      "_________________________________________________________________\n",
      "Layer (type)                 Output Shape              Param #   \n",
      "=================================================================\n",
      "dense_10 (Dense)             (None, 64)                3520      \n",
      "_________________________________________________________________\n",
      "dropout_3 (Dropout)          (None, 64)                0         \n",
      "_________________________________________________________________\n",
      "dense_11 (Dense)             (None, 64)                4160      \n",
      "_________________________________________________________________\n",
      "dropout_4 (Dropout)          (None, 64)                0         \n",
      "_________________________________________________________________\n",
      "dense_12 (Dense)             (None, 3)                 195       \n",
      "=================================================================\n",
      "Total params: 7,875\n",
      "Trainable params: 7,875\n",
      "Non-trainable params: 0\n",
      "_________________________________________________________________\n"
     ]
    },
    {
     "ename": "NameError",
     "evalue": "name 'X_train' is not defined",
     "output_type": "error",
     "traceback": [
      "\u001b[0;31m---------------------------------------------------------------------------\u001b[0m",
      "\u001b[0;31mNameError\u001b[0m                                 Traceback (most recent call last)",
      "\u001b[0;32m<ipython-input-38-ecbbce901d5b>\u001b[0m in \u001b[0;36m<module>\u001b[0;34m()\u001b[0m\n\u001b[1;32m     36\u001b[0m \u001b[0mmodel\u001b[0m\u001b[0;34m.\u001b[0m\u001b[0msummary\u001b[0m\u001b[0;34m(\u001b[0m\u001b[0;34m)\u001b[0m\u001b[0;34m\u001b[0m\u001b[0m\n\u001b[1;32m     37\u001b[0m \u001b[0;34m\u001b[0m\u001b[0m\n\u001b[0;32m---> 38\u001b[0;31m hist = model.fit(np.array(X_train), np.array(to_categorical(Y_train)), \n\u001b[0m\u001b[1;32m     39\u001b[0m                  epochs=600, batch_size=128,  verbose=1, validation_split=0.3)#, callbacks=[tbCallBack])\n",
      "\u001b[0;31mNameError\u001b[0m: name 'X_train' is not defined"
     ]
    }
   ],
   "source": [
    "seed = 7\n",
    "np.random.seed(seed)\n",
    "\n",
    "model = Sequential()\n",
    "# model.add(Dense(108, input_shape=(54,), kernel_initializer='normal', activation='relu'))\n",
    "# model.add(BatchNormalization())\n",
    "# model.add(Dense(32, kernel_initializer='normal', activation='relu'))\n",
    "# model.add(Dropout(0.2))\n",
    "# model.add(Dense(16, kernel_initializer='normal', activation='relu'))\n",
    "# model.add(Dropout(0.2))\n",
    "# model.add(Dense(8, kernel_initializer='normal', activation='relu'))\n",
    "# model.add(Dropout(0.2))\n",
    "# model.add(Dense(1, activation='sigmoid'))\n",
    "\n",
    "model.add(Dense(64, activation='relu', input_dim=54))\n",
    "model.add(Dropout(0.1))\n",
    "model.add(Dense(64, activation='relu'))\n",
    "model.add(Dropout(0.1))\n",
    "model.add(Dense(3, activation='softmax'))\n",
    "\n",
    "model.compile(optimizer='rmsprop', loss='categorical_crossentropy', metrics=['accuracy'])\n",
    "\n",
    "# model.add(Dense(input_dim=54, output_dim=12, activation='relu'))\n",
    "# model.add(Dropout(0.1))\n",
    "# model.add(Dense(input_dim=12, output_dim=12, activation='relu'))\n",
    "# model.add(Dropout(0.1))\n",
    "# model.add(Dense(output_dim=1, activation='softmax'))\n",
    "# model.compile(loss='mean_squared_error', optimizer='adadelta', metrics=['accuracy'])\n",
    "\n",
    "# 3\n",
    "#tbCallBack = keras.callbacks.TensorBoard(log_dir='/tmp/keras_logs', write_graph=True)\n",
    "\n",
    "# 4\n",
    "#model.compile(loss='mean_squared_error', optimizer='adadelta', metrics=['accuracy'])\n",
    "\n",
    "model.summary()\n",
    "\n",
    "hist = model.fit(np.array(X_train), np.array(to_categorical(Y_train)), \n",
    "                 epochs=600, batch_size=128,  verbose=1, validation_split=0.3)#, callbacks=[tbCallBack])"
   ]
  },
  {
   "cell_type": "code",
   "execution_count": null,
   "metadata": {
    "collapsed": true
   },
   "outputs": [],
   "source": [
    "ICM_utils.plot_hist(hist)"
   ]
  },
  {
   "cell_type": "code",
   "execution_count": null,
   "metadata": {
    "collapsed": true,
    "scrolled": false
   },
   "outputs": [],
   "source": [
    "hist = model.fit(np.array(X_train), np.array(to_categorical(Y_train)), \n",
    "                 epochs=120, batch_size=128,  verbose=0, validation_split=0.3)#, callbacks=[tbCallBack])"
   ]
  },
  {
   "cell_type": "code",
   "execution_count": null,
   "metadata": {
    "collapsed": true
   },
   "outputs": [],
   "source": [
    "Y_pred = model.predict(np.array(X_test))"
   ]
  },
  {
   "cell_type": "code",
   "execution_count": null,
   "metadata": {
    "collapsed": true
   },
   "outputs": [],
   "source": [
    "Y_pred = Y_pred.argmax(axis=-1)"
   ]
  },
  {
   "cell_type": "code",
   "execution_count": null,
   "metadata": {
    "collapsed": true
   },
   "outputs": [],
   "source": [
    "ICM_utils.plot_report(Y_test, Y_pred, labels)"
   ]
  },
  {
   "cell_type": "markdown",
   "metadata": {},
   "source": [
    "## 2.3 Classification: Ensamble of models"
   ]
  },
  {
   "cell_type": "code",
   "execution_count": null,
   "metadata": {
    "collapsed": true
   },
   "outputs": [],
   "source": [
    "def mlp_model():\n",
    "    model = Sequential()\n",
    "    \n",
    "    model.add(Dense(50, input_dim = 54, kernel_initializer='he_normal', activation='relu'))\n",
    "    model.add(BatchNormalization())\n",
    "    model.add(Activation('relu'))\n",
    "    model.add(Dropout(0.2))\n",
    "    model.add(Dense(50, kernel_initializer='he_normal'))\n",
    "    model.add(BatchNormalization())\n",
    "    model.add(Activation('relu'))    \n",
    "    model.add(Dropout(0.2))\n",
    "    model.add(Dense(50, kernel_initializer='he_normal'))\n",
    "    model.add(BatchNormalization())\n",
    "    model.add(Activation('relu'))\n",
    "    model.add(Dropout(0.2))\n",
    "    model.add(Dense(50, kernel_initializer='he_normal'))\n",
    "    model.add(BatchNormalization())\n",
    "    model.add(Activation('relu'))\n",
    "    model.add(Dropout(0.2))\n",
    "    model.add(Dense(3, kernel_initializer='he_normal'))\n",
    "    model.add(Activation('softmax'))\n",
    "    \n",
    "    adam = optimizers.Adam(lr = 0.001)\n",
    "    model.compile(optimizer = 'adam', loss = 'categorical_crossentropy', metrics = ['accuracy'])\n",
    "    \n",
    "    return model"
   ]
  },
  {
   "cell_type": "code",
   "execution_count": null,
   "metadata": {
    "collapsed": true,
    "scrolled": true
   },
   "outputs": [],
   "source": [
    "mp = mlp_model()"
   ]
  },
  {
   "cell_type": "code",
   "execution_count": null,
   "metadata": {
    "collapsed": true,
    "scrolled": true
   },
   "outputs": [],
   "source": [
    "hist = mp.fit(np.array(X_train_c), np.array(to_categorical(Y_train_c)), epochs=600, batch_size=128,  verbose=0, \n",
    "              validation_split=0.3)#, callbacks=[tbCallBack])"
   ]
  },
  {
   "cell_type": "code",
   "execution_count": null,
   "metadata": {
    "collapsed": true
   },
   "outputs": [],
   "source": [
    "ICM_utils.plot_hist(hist)"
   ]
  },
  {
   "cell_type": "code",
   "execution_count": null,
   "metadata": {
    "collapsed": true
   },
   "outputs": [],
   "source": [
    "# create 5 models to ensemble\n",
    "model1 = KerasClassifier(build_fn = mlp_model, epochs = 150)\n",
    "model2 = KerasClassifier(build_fn = mlp_model, epochs = 150)\n",
    "model3 = KerasClassifier(build_fn = mlp_model, epochs = 150)\n",
    "model4 = KerasClassifier(build_fn = mlp_model, epochs = 150)\n",
    "model5 = KerasClassifier(build_fn = mlp_model, epochs = 150)\n",
    "\n",
    "ensemble_clf = VotingClassifier(estimators = [('model1', model1), ('model2', model2), \n",
    "                                              ('model3', model3), ('model4', model4), \n",
    "                                              ('model5', model5)], voting = 'soft')"
   ]
  },
  {
   "cell_type": "code",
   "execution_count": null,
   "metadata": {
    "collapsed": true,
    "scrolled": true
   },
   "outputs": [],
   "source": [
    "ensemble_clf.fit(np.array(X_train), np.array(Y_train))"
   ]
  },
  {
   "cell_type": "code",
   "execution_count": null,
   "metadata": {
    "collapsed": true
   },
   "outputs": [],
   "source": [
    "Y_pred = ensemble_clf.predict(np.array(X_test))"
   ]
  },
  {
   "cell_type": "code",
   "execution_count": null,
   "metadata": {
    "collapsed": true
   },
   "outputs": [],
   "source": [
    "ICM_utils.plot_report(Y_test, Y_pred, labels)"
   ]
  },
  {
   "cell_type": "markdown",
   "metadata": {},
   "source": [
    "## 3.1 Regression: Benchmark"
   ]
  },
  {
   "cell_type": "code",
   "execution_count": null,
   "metadata": {
    "collapsed": true
   },
   "outputs": [],
   "source": [
    "def test_kfolds(regressor, x, y, kfolds = [5]):\n",
    "    for k_folds in kfolds:\n",
    "        # evaluate model with standardized dataset\n",
    "        np.random.seed(182)\n",
    "        estimators = []\n",
    "        #estimators.append(('standardize', StandardScaler()))\n",
    "        estimators.append(('mlp', regressor))\n",
    "        pipeline = Pipeline(estimators)\n",
    "        kfold = KFold(n=X.shape[0], n_folds=k_folds)\n",
    "        results = cross_val_score(pipeline, x, y, cv=kfold)\n",
    "        print(\"K_folds {}: \\nMean {} \\nStd {}\".format(k_folds, results.mean(), results.std()))"
   ]
  },
  {
   "cell_type": "code",
   "execution_count": null,
   "metadata": {
    "collapsed": true
   },
   "outputs": [],
   "source": [
    "# Need full dataset for cross validation\n",
    "X = df.copy(deep=True)\n",
    "\n",
    "Y = np.array(X['life_expectancy'])\n",
    "# remove columns\n",
    "X.drop('life_expectancy', axis = 1, inplace=True)\n",
    "X.drop('life_expectancy_bin', axis = 1, inplace=True)\n",
    "\n",
    "X = np.array(X)"
   ]
  },
  {
   "cell_type": "code",
   "execution_count": null,
   "metadata": {
    "collapsed": true
   },
   "outputs": [],
   "source": [
    "# define base model\n",
    "def baseline_model():\n",
    "    # create model\n",
    "    model = Sequential()\n",
    "    model.add(Dense(13, input_dim=54, kernel_initializer='normal', activation='relu'))\n",
    "    model.add(Dense(1, kernel_initializer='normal'))\n",
    "    # Compile model\n",
    "    model.compile(loss='mean_squared_error', optimizer='adam', metrics=[metrics.MAPE,\n",
    "                                                                        metrics.MSLE,\n",
    "                                                                        metrics.MAE])\n",
    "    return model"
   ]
  },
  {
   "cell_type": "code",
   "execution_count": null,
   "metadata": {
    "collapsed": true
   },
   "outputs": [],
   "source": [
    "bm = baseline_model()\n",
    "hist = bm.fit(np.array(X_train_r), np.array(Y_train_r), \n",
    "                 epochs=600, batch_size=128,  verbose=0, validation_split=0.3)"
   ]
  },
  {
   "cell_type": "code",
   "execution_count": null,
   "metadata": {
    "collapsed": true,
    "scrolled": false
   },
   "outputs": [],
   "source": [
    "ICM_utils.plot_hist(hist)"
   ]
  },
  {
   "cell_type": "code",
   "execution_count": null,
   "metadata": {
    "collapsed": true
   },
   "outputs": [],
   "source": [
    "test_kfolds(KerasRegressor(build_fn=baseline_model, nb_epoch=150, batch_size=128, verbose=0), X, Y)"
   ]
  },
  {
   "cell_type": "code",
   "execution_count": null,
   "metadata": {
    "collapsed": true
   },
   "outputs": [],
   "source": [
    "bm.evaluate(np.array(X_test_r), np.array(Y_test_r))"
   ]
  },
  {
   "cell_type": "markdown",
   "metadata": {},
   "source": [
    "## 3.2 Regression: Keras NN"
   ]
  },
  {
   "cell_type": "code",
   "execution_count": null,
   "metadata": {
    "collapsed": true
   },
   "outputs": [],
   "source": [
    "def larger_model():\n",
    "    # create model\n",
    "    model = Sequential()\n",
    "    model.add(Dense(54, kernel_initializer=\"normal\", input_dim=54, activation=\"relu\"))\n",
    "    model.add(Dense(27, kernel_initializer='normal', activation='relu'))\n",
    "    model.add(Dropout(0.2))\n",
    "    model.add(Dense(15, kernel_initializer='normal', activation='relu'))\n",
    "    model.add(Dropout(0.2))\n",
    "    model.add(Dense(1, kernel_initializer='normal'))\n",
    "    # Compile model\n",
    "    model.compile(loss='mean_squared_error', optimizer='adam')\n",
    "    return model"
   ]
  },
  {
   "cell_type": "code",
   "execution_count": null,
   "metadata": {
    "collapsed": true
   },
   "outputs": [],
   "source": [
    "test_kfolds(KerasRegressor(build_fn=larger_model, nb_epoch=150, batch_size=128, verbose=0), X, Y)"
   ]
  },
  {
   "cell_type": "code",
   "execution_count": null,
   "metadata": {
    "collapsed": true
   },
   "outputs": [],
   "source": [
    "def wider_model():\n",
    "    # create model\n",
    "    model = Sequential()\n",
    "    model.add(Dense(540, kernel_initializer=\"normal\", input_dim=54, activation=\"relu\"))\n",
    "    model.add(Dense(270, kernel_initializer='normal', activation='relu'))\n",
    "    model.add(Dense(1, kernel_initializer='normal'))\n",
    "    # Compile model\n",
    "    model.compile(loss='mean_squared_error', optimizer='adam')\n",
    "    return model"
   ]
  },
  {
   "cell_type": "code",
   "execution_count": null,
   "metadata": {
    "collapsed": true
   },
   "outputs": [],
   "source": [
    "test_kfolds(KerasRegressor(build_fn=wider_model, nb_epoch=150, batch_size=128, verbose=0), X, Y)"
   ]
  },
  {
   "cell_type": "markdown",
   "metadata": {},
   "source": [
    "## 3.3 Model showdown\n",
    "\n",
    "Different approach for Classification vs. Regression using Neural Network:\n",
    "- Training examples: Rn x {class_1, ..., class_n} (one-hot encoding) vs Rn x Rm\n",
    "- Last layer: softmax vs linear / sigmoid\n",
    "- Loss function: Cross entropy vs MSE / Absolute error"
   ]
  },
  {
   "cell_type": "code",
   "execution_count": null,
   "metadata": {
    "collapsed": true
   },
   "outputs": [],
   "source": [
    "model = Sequential()\n",
    "model.add(Dense(50, kernel_initializer=\"normal\", input_dim=54))\n",
    "model.add(Activation('relu'))\n",
    "model.add(Dense(1))\n",
    "    \n",
    "model.compile(optimizer = optimizers.SGD(lr = 0.001), loss = 'mean_squared_error', metrics = ['accuracy'])\n",
    "\n",
    "history = model.fit(np.array(X_train), np.array(Y_train), epochs = 100, verbose = 1)\n",
    "\n",
    "# plt.plot(history.history['acc'])\n",
    "# plt.plot(history.history['val_acc'])\n",
    "# plt.legend(['training', 'validation'], loc = 'upper left')\n",
    "# plt.show()\n",
    "\n",
    "results = model.evaluate(np.array(X_test), np.array(Y_test))\n",
    "print('\\nTest accuracy: ', results[1])"
   ]
  },
  {
   "cell_type": "code",
   "execution_count": null,
   "metadata": {
    "collapsed": true
   },
   "outputs": [],
   "source": [
    "model.summary()"
   ]
  },
  {
   "cell_type": "markdown",
   "metadata": {},
   "source": [
    "## 3. Pybrain"
   ]
  },
  {
   "cell_type": "code",
   "execution_count": 2,
   "metadata": {},
   "outputs": [
    {
     "name": "stdout",
     "output_type": "stream",
     "text": [
      "Collecting git+https://github.com/pybrain/pybrain.git\n",
      "  Cloning https://github.com/pybrain/pybrain.git to /private/var/folders/31/8m981_ps2qd58y48l1n9pn94c52j50/T/pip-b58_bar4-build\n",
      "Requirement already satisfied: scipy in /Users/paul.pop/anaconda3/lib/python3.6/site-packages (from PyBrain==0.3.3)\n",
      "Installing collected packages: PyBrain\n",
      "  Running setup.py install for PyBrain ... \u001b[?25ldone\n",
      "\u001b[?25hSuccessfully installed PyBrain-0.3.3\n",
      "\u001b[33mYou are using pip version 9.0.1, however version 10.0.1 is available.\n",
      "You should consider upgrading via the 'pip install --upgrade pip' command.\u001b[0m\n"
     ]
    }
   ],
   "source": [
    "#!pip install git+https://github.com/pybrain/pybrain.git"
   ]
  },
  {
   "cell_type": "markdown",
   "metadata": {},
   "source": [
    "### 3.1 PyBrain: Regression"
   ]
  },
  {
   "cell_type": "code",
   "execution_count": 39,
   "metadata": {},
   "outputs": [],
   "source": [
    "from pybrain.structure import SigmoidLayer, LinearLayer, TanhLayer, ReluLayer, SoftmaxLayer\n",
    "from pybrain.datasets import SupervisedDataSet\n",
    "from pybrain.supervised.trainers import BackpropTrainer\n",
    "import pybrain.tools.shortcuts as pb\n",
    "import numpy, math\n",
    "\n",
    "# Build the dataset\n",
    "xvalues = np.array(X_train_r)\n",
    "yvalues = np.array(Y_train_r)\n",
    "ds = SupervisedDataSet(54, 1)\n",
    "for x, y in zip(xvalues, yvalues):\n",
    "    ds.addSample((x), (y))\n",
    "    \n",
    "# Build the NN\n",
    "nn1 = pb.buildNetwork(54,  # 1 input node\n",
    "                   108,    # number of nodes in 1st hidden layer\n",
    "                   72,    # number of nodes in 1st hidden layer\n",
    "                   54,     # number of nodes in 4th hidden layer\n",
    "                   1,     # 1 output node\n",
    "                   bias = True,\n",
    "                   hiddenclass = SigmoidLayer,\n",
    "                   outclass = LinearLayer )\n",
    "\n",
    "# Train the NN\n",
    "trainer = BackpropTrainer(nn1, ds, learningrate = 0.004, weightdecay=0.01, momentum=0.02) #, verbose = True)\n",
    "train_mse, validation_mse = trainer.trainUntilConvergence(maxEpochs = 2020, continueEpochs=5, validationProportion=0.2)"
   ]
  },
  {
   "cell_type": "markdown",
   "metadata": {},
   "source": [
    "##### Note on some of the parameters\n",
    "\n",
    "**validationProportion**: ratio of the dataset that is used for the validation dataset.\n",
    "If maxEpochs is given, at most that many epochs are trained. Each time validation error hits a minimum, try for continueEpochs # epochs to find a better one.\n",
    "\n",
    "**Epoch**: one epoch means that every example has been seen once. It is preferable to track epochs rather than iterations since \n",
    "the number of iterations depends on the arbitrary setting of batch size. Batchs are used for example in the minibatch method,\n",
    "for example, for 1000 examples, the NN is trained on examples 1-100, then examples 101-201, etc.\n",
    "\n",
    "**Momentum**: 0 < m < 1 is a global parameter which must be determined by trial and error. Momentum simply adds a fraction m of the previous weight update to the current one. When the gradient keeps pointing in the same direction, this will increase the size of the steps taken towards the minimum. It is otherefore often necessary to reduce the global learning rate µ when using a lot of momentum (m close to 1). If you combine a high learning rate with a lot of momentum, you will rush past the minimum with huge steps! When the gradient keeps changing direction, momentum will smooth out the variations. Adding a momentum can help to speed up convergence to the minimum by damping oscillations."
   ]
  },
  {
   "cell_type": "code",
   "execution_count": 40,
   "metadata": {},
   "outputs": [
    {
     "data": {
      "text/plain": [
       "<matplotlib.legend.Legend at 0x12434b128>"
      ]
     },
     "execution_count": 40,
     "metadata": {},
     "output_type": "execute_result"
    },
    {
     "data": {
      "image/png": "[encoded data removed]",
      "text/plain": [
       "<matplotlib.figure.Figure at 0x1243ad358>"
      ]
     },
     "metadata": {},
     "output_type": "display_data"
    }
   ],
   "source": [
    "# Learning curves\n",
    "plt.clf()\n",
    "plt.plot(range(len(train_mse)), np.sqrt(train_mse), color='blue', label='training error')\n",
    "plt.plot(range(len(validation_mse)), np.sqrt(validation_mse), color='red', label='validation error')\n",
    "plt.title('Learning curves: loss(=RMSE) as a function of Epochs')\n",
    "plt.legend()"
   ]
  },
  {
   "cell_type": "code",
   "execution_count": 50,
   "metadata": {
    "collapsed": true
   },
   "outputs": [],
   "source": [
    "xvalues = np.array(X_test_r)\n",
    "yvalues = np.array(Y_test_r)\n",
    "ds_t = SupervisedDataSet(54, 1)\n",
    "for x, y in zip(xvalues, yvalues):\n",
    "    ds_t.addSample((x), (y))"
   ]
  },
  {
   "cell_type": "code",
   "execution_count": 52,
   "metadata": {},
   "outputs": [
    {
     "data": {
      "text/plain": [
       "925.5541517898837"
      ]
     },
     "execution_count": 52,
     "metadata": {},
     "output_type": "execute_result"
    }
   ],
   "source": [
    "np.sqrt(trainer.testOnData(ds_t))"
   ]
  },
  {
   "cell_type": "code",
   "execution_count": null,
   "metadata": {
    "collapsed": true
   },
   "outputs": [],
   "source": []
  }
 ],
 "metadata": {
  "anaconda-cloud": {},
  "kernelspec": {
   "display_name": "Python ICM",
   "language": "python",
   "name": "icm"
  }
 },
 "nbformat": 4,
 "nbformat_minor": 1
}
