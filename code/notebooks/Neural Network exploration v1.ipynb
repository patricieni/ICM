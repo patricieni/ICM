{
 "cells": [
  {
   "cell_type": "markdown",
   "metadata": {},
   "source": [
    " Exploration of Neural Network libraries in Python: Training a Feedforward Neural Network for Regression"
   ]
  },
  {
   "cell_type": "raw",
   "metadata": {},
   "source": [
    "1. Benchmark: Logistic Regression/SVC (scikit-learn)\n",
    "\n",
    "2. Classification\n",
    "    2.1 Benchmark\n",
    "    2.2 Keras NN\n",
    "    2.3 Ensamble of models\n",
    "\n",
    "3. Regression\n",
    "    3.1 Benchmark\n",
    "    3.2 Keras NN\n",
    "    \n",
    "4. PyBrain\n",
    "    4.1 "
   ]
  },
  {
   "cell_type": "code",
   "execution_count": 1,
   "metadata": {},
   "outputs": [
    {
     "name": "stderr",
     "output_type": "stream",
     "text": [
      "/Users/paul.pop/anaconda3/lib/python3.6/site-packages/sklearn/cross_validation.py:44: DeprecationWarning: This module was deprecated in version 0.18 in favor of the model_selection module into which all the refactored classes and functions are moved. Also note that the interface of the new CV iterators are different from that of this module. This module will be removed in 0.20.\n",
      "  \"This module will be removed in 0.20.\", DeprecationWarning)\n"
     ]
    }
   ],
   "source": [
    "import sys, os\n",
    "sys.path.append(os.path.join(os.getcwd().split('ICM')[0], 'ICM', 'code'))\n",
    "import ICM_utils"
   ]
  },
  {
   "cell_type": "code",
   "execution_count": 2,
   "metadata": {},
   "outputs": [
    {
     "name": "stderr",
     "output_type": "stream",
     "text": [
      "/Users/paul.pop/anaconda3/lib/python3.6/site-packages/h5py/__init__.py:34: FutureWarning: Conversion of the second argument of issubdtype from `float` to `np.floating` is deprecated. In future, it will be treated as `np.float64 == np.dtype(float).type`.\n",
      "  from ._conv import register_converters as _register_converters\n",
      "Using TensorFlow backend.\n"
     ]
    }
   ],
   "source": [
    "import pandas as pd\n",
    "pd.options.mode.chained_assignment = None\n",
    "\n",
    "import numpy as np\n",
    "import matplotlib.pyplot as plt\n",
    "\n",
    "from sklearn import linear_model\n",
    "from sklearn.ensemble import VotingClassifier\n",
    "from sklearn.cross_validation import KFold, cross_val_score\n",
    "from sklearn.svm import LinearSVC, SVC\n",
    "from sklearn.datasets import make_classification\n",
    "# from sklearn.preprocessing import LabelEncoder\n",
    "# from sklearn.ensemble import RandomForestRegressor\n",
    "# from sklearn.grid_search import GridSearchCV, RandomizedSearchCV\n",
    "from sklearn.cross_validation import train_test_split\n",
    "from sklearn.preprocessing import StandardScaler\n",
    "from sklearn.pipeline import Pipeline\n",
    "\n",
    "from keras import metrics\n",
    "from keras.models import Sequential\n",
    "from keras.layers import Dense\n",
    "from keras.layers import Activation, Dense, BatchNormalization, Dropout\n",
    "from keras import optimizers\n",
    "from keras.wrappers.scikit_learn import KerasRegressor, KerasClassifier\n",
    "from keras.utils.np_utils import to_categorical\n",
    "\n",
    "%matplotlib inline \n",
    "import time, math"
   ]
  },
  {
   "cell_type": "code",
   "execution_count": 3,
   "metadata": {
    "collapsed": true
   },
   "outputs": [],
   "source": [
    "IMC_basedir = os.getcwd().split('code')[0]\n",
    "DATA_AMELIA_FILE = os.path.join(IMC_basedir, 'data/imputed_dataset_no_censoring_26022018_Amelia1.csv')\n",
    "DATA_MICE_FILE = os.path.join(IMC_basedir, 'data/imputed_dataset_no_censoring_26022018_MICE.csv')\n",
    "TRAIN_FILE = os.path.join(IMC_basedir, 'data/amelia_train')\n",
    "TEST_FILE = os.path.join(IMC_basedir, 'data/amelia_test')\n",
    "MODEL_DIR = os.path.join(IMC_basedir, 'data/amelia_model')"
   ]
  },
  {
   "cell_type": "code",
   "execution_count": 13,
   "metadata": {
    "collapsed": true
   },
   "outputs": [],
   "source": [
    "df, labels = ICM_utils.process_amelia(DATA_AMELIA_FILE)"
   ]
  },
  {
   "cell_type": "code",
   "execution_count": 17,
   "metadata": {},
   "outputs": [],
   "source": [
    "life = df['life_expectancy']"
   ]
  },
  {
   "cell_type": "code",
   "execution_count": 19,
   "metadata": {},
   "outputs": [],
   "source": [
    "life = life.sort_values()"
   ]
  },
  {
   "cell_type": "code",
   "execution_count": 38,
   "metadata": {},
   "outputs": [
    {
     "data": {
      "text/plain": [
       "Index(['Gender', 'Tumor_grade', 'Age_surgery', 'life_expectancy', 'IDH_TERT',\n",
       "       'IK', 'life_expectancy_bin', 'Tumor_Location_A', 'Tumor_Location_B',\n",
       "       'Tumor_Location_C', 'Tumor_Location_N', 'Tumor_Location_autre',\n",
       "       'Gene_Mdm2_AMPLIFIE', 'Gene_Mdm2_NORMAL', 'TERT_mutant', 'TERT_wt',\n",
       "       'Surgery_type_aucune', 'Surgery_type_biopsie', 'Surgery_type_exérèse',\n",
       "       'Surgery_type_partielle', 'Gene_Cdk4_AMPLIFIE', 'Gene_Cdk4_NORMAL',\n",
       "       'Gene_Ch10Q_NON PERTE', 'Gene_Ch10Q_PERTE', 'X1p19q_codel_0',\n",
       "       'X1p19q_codel_1', 'Gene_P16_DELETE', 'Gene_P16_NORMAL',\n",
       "       'Gene_Ihc_Atrx_Extinction diffuse', 'Gene_Ihc_Atrx_Maintien',\n",
       "       'Gene_Ihc_Atrx_extinction', 'IDH_NC', 'IDH_mutant', 'IDH_wt',\n",
       "       'Tumor_type_GBM', 'Tumor_type_astrocytome',\n",
       "       'Tumor_type_astrocytome gémistocytique (=A2)',\n",
       "       'Tumor_type_astrocytome pilocytique', 'Tumor_type_gangliogliome',\n",
       "       'Tumor_type_gliome', 'Tumor_type_oligo', 'Tumor_Position_D',\n",
       "       'Tumor_Position_G', 'Tumor_Position_bilatéral', 'Tumor_Position_médian',\n",
       "       'Tumor_Position_non précisé', 'Gene_P53_ALTERE', 'Gene_P53_NC',\n",
       "       'Gene_P53_NORMAL', 'Gene_Mgmt_METHYLE', 'Gene_Mgmt_NON METHYLE',\n",
       "       'Gene_Ch9P_GAIN', 'Gene_Ch9P_NON PERTE', 'Gene_Ch9P_PERTE',\n",
       "       'Gene_Egfr_AMPLIFIE', 'Gene_Egfr_NORMAL'],\n",
       "      dtype='object')"
      ]
     },
     "execution_count": 38,
     "metadata": {},
     "output_type": "execute_result"
    }
   ],
   "source": [
    "df.columns"
   ]
  },
  {
   "cell_type": "code",
   "execution_count": 36,
   "metadata": {
    "scrolled": true
   },
   "outputs": [
    {
     "data": {
      "text/plain": [
       "[<matplotlib.lines.Line2D at 0x124304cf8>]"
      ]
     },
     "execution_count": 36,
     "metadata": {},
     "output_type": "execute_result"
    },
    {
     "data": {
      "image/png": "[encoded data removed]",
      "text/plain": [
       "<matplotlib.figure.Figure at 0x124304d68>"
      ]
     },
     "metadata": {},
     "output_type": "display_data"
    }
   ],
   "source": [
    "plt.scatter(range(len(life)),life, alpha=0.3)\n",
    "plt.xlabel('patient ID')\n",
    "plt.ylabel('life expectancy days')\n",
    "plt.plot([life.mean(), life.mean()], [0,1000], color='r')"
   ]
  },
  {
   "cell_type": "code",
   "execution_count": 5,
   "metadata": {
    "collapsed": true
   },
   "outputs": [],
   "source": [
    "X_train_r, Y_train_r, X_test_r, Y_test_r = ICM_utils.get_train_test_data(df, regression=True, train_size=0.8)\n",
    "X_train_c, Y_train_c, X_test_c, Y_test_c = ICM_utils.get_train_test_data(df, regression=False, train_size=0.8)"
   ]
  },
  {
   "cell_type": "markdown",
   "metadata": {},
   "source": [
    "# Benchmark Logistic Regression (Scikit-learn)"
   ]
  },
  {
   "cell_type": "code",
   "execution_count": 6,
   "metadata": {},
   "outputs": [
    {
     "name": "stdout",
     "output_type": "stream",
     "text": [
      "             precision    recall  f1-score   support\n",
      "\n",
      "    6months       0.25      0.18      0.21        76\n",
      "    1.2year       0.36      0.58      0.44        99\n",
      "     2years       0.12      0.02      0.03        65\n",
      "     3years       0.43      0.42      0.42        57\n",
      "       more       0.61      0.71      0.66       121\n",
      "\n",
      "avg / total       0.39      0.44      0.40       418\n",
      "\n",
      "Accuracy: 0.4354066985645933\n",
      "Mean square error (MSE): 2.80\n",
      "R^2: 0.44\n"
     ]
    },
    {
     "data": {
      "image/png": "[encoded data removed]",
      "text/plain": [
       "<matplotlib.figure.Figure at 0x1118c79b0>"
      ]
     },
     "metadata": {},
     "output_type": "display_data"
    }
   ],
   "source": [
    "# Create logistic regression object\n",
    "regr = linear_model.LogisticRegression()             \n",
    "regr.fit(X_train_c, Y_train_c) \n",
    "\n",
    "Y_pred = regr.predict(X_test_c)\n",
    "            \n",
    "ICM_utils.plot_report(Y_test_c, Y_pred, labels)\n",
    "\n",
    "# print ('Coefficients:', regr.coef_, regr.intercept_ )               \n",
    "print(\"Mean square error (MSE): %.2f\"\n",
    "      % np.mean((Y_pred - Y_test_c) ** 2))      # The mean square error\n",
    "print ('R^2: %.2f' % regr.score(X_test_c, Y_test_c) )  # Explained variance score"
   ]
  },
  {
   "cell_type": "markdown",
   "metadata": {},
   "source": [
    "##  Benchmark Linear SVC"
   ]
  },
  {
   "cell_type": "markdown",
   "metadata": {},
   "source": [
    "### Classification"
   ]
  },
  {
   "cell_type": "code",
   "execution_count": 7,
   "metadata": {},
   "outputs": [
    {
     "name": "stdout",
     "output_type": "stream",
     "text": [
      "Mean square error (MSE): 3565726.83\n"
     ]
    }
   ],
   "source": [
    "classi = LinearSVC()\n",
    "classi.fit(X_train_c, Y_train_c) \n",
    "\n",
    "Y_pred = classi.predict(X_test_r)\n",
    "\n",
    "# print ('Coefficients:', regr.coef_, regr.intercept_ )               \n",
    "print(\"Mean square error (MSE): %.2f\"\n",
    "      % np.mean((Y_pred - Y_test_r) ** 2))      # The mean square error"
   ]
  },
  {
   "cell_type": "code",
   "execution_count": 8,
   "metadata": {},
   "outputs": [
    {
     "name": "stdout",
     "output_type": "stream",
     "text": [
      "             precision    recall  f1-score   support\n",
      "\n",
      "    6months       0.00      0.00      0.00        76\n",
      "    1.2year       0.30      0.87      0.44        99\n",
      "     2years       0.00      0.00      0.00        65\n",
      "     3years       0.00      0.00      0.00        57\n",
      "       more       0.66      0.70      0.68       121\n",
      "\n",
      "avg / total       0.26      0.41      0.30       418\n",
      "\n",
      "Accuracy: 0.4090909090909091\n",
      "Mean square error (MSE): 2.33\n"
     ]
    },
    {
     "name": "stderr",
     "output_type": "stream",
     "text": [
      "/Users/paul.pop/anaconda3/lib/python3.6/site-packages/sklearn/metrics/classification.py:1113: UndefinedMetricWarning: Precision and F-score are ill-defined and being set to 0.0 in labels with no predicted samples.\n",
      "  'precision', 'predicted', average, warn_for)\n"
     ]
    },
    {
     "data": {
      "image/png": "[encoded data removed]",
      "text/plain": [
       "<matplotlib.figure.Figure at 0x11e253c50>"
      ]
     },
     "metadata": {},
     "output_type": "display_data"
    }
   ],
   "source": [
    "Y_pred = classi.predict(X_test_c)\n",
    "            \n",
    "ICM_utils.plot_report(Y_test_c, Y_pred, labels)\n",
    "\n",
    "# print ('Coefficients:', regr.coef_, regr.intercept_ )               \n",
    "print(\"Mean square error (MSE): %.2f\"\n",
    "      % np.mean((Y_pred - Y_test_c) ** 2))      # The mean square error"
   ]
  },
  {
   "cell_type": "markdown",
   "metadata": {},
   "source": [
    "### Regression"
   ]
  },
  {
   "cell_type": "code",
   "execution_count": 9,
   "metadata": {
    "collapsed": true
   },
   "outputs": [],
   "source": [
    "regr = SVC(probability=True)\n",
    "\n",
    "# N-am incredere in train test split si vreau sa il vad eu aici facut\n",
    "X_t = np.array(df)\n",
    "X_tr, X_te = train_test_split(X_t, train_size=0.8)\n",
    "\n",
    "Y_tr = X_tr[:,3]\n",
    "Y_te = X_te[:,3]\n",
    "X_tr = np.delete(X_tr, [3, 6], axis=1)\n",
    "X_te = np.delete(X_te, [3, 6], axis=1)"
   ]
  },
  {
   "cell_type": "code",
   "execution_count": 10,
   "metadata": {},
   "outputs": [
    {
     "data": {
      "text/plain": [
       "SVC(C=1.0, cache_size=200, class_weight=None, coef0=0.0,\n",
       "  decision_function_shape=None, degree=3, gamma='auto', kernel='rbf',\n",
       "  max_iter=-1, probability=True, random_state=None, shrinking=True,\n",
       "  tol=0.001, verbose=False)"
      ]
     },
     "execution_count": 10,
     "metadata": {},
     "output_type": "execute_result"
    }
   ],
   "source": [
    "regr.fit(X_tr, Y_tr) "
   ]
  },
  {
   "cell_type": "code",
   "execution_count": 11,
   "metadata": {
    "collapsed": true
   },
   "outputs": [],
   "source": [
    "Y_pred = regr.predict_proba(np.array(X_te))"
   ]
  },
  {
   "cell_type": "code",
   "execution_count": 12,
   "metadata": {},
   "outputs": [
    {
     "data": {
      "image/png": "[encoded data removed]",
      "text/plain": [
       "<matplotlib.figure.Figure at 0x12021ac88>"
      ]
     },
     "metadata": {},
     "output_type": "display_data"
    }
   ],
   "source": [
    "ICM_utils.plot_confidence_interval(predictions=Y_pred, \n",
    "                                   ground_truth=Y_te, \n",
    "                                   prediction_id=14,\n",
    "                                   interval_in_days=91)"
   ]
  },
  {
   "cell_type": "code",
   "execution_count": 13,
   "metadata": {},
   "outputs": [
    {
     "name": "stdout",
     "output_type": "stream",
     "text": [
      "Mean square error (MSE): 2151705.56\n"
     ]
    }
   ],
   "source": [
    "Y_pred = regr.predict(X_te)\n",
    "            \n",
    "# print ('Coefficients:', regr.coef_, regr.intercept_ )               \n",
    "print(\"Mean square error (MSE): %.2f\"\n",
    "      % np.mean((Y_pred - Y_te) ** 2))      # The mean square error"
   ]
  },
  {
   "cell_type": "code",
   "execution_count": 14,
   "metadata": {
    "collapsed": true
   },
   "outputs": [],
   "source": [
    "# Linear SVC"
   ]
  },
  {
   "cell_type": "code",
   "execution_count": 15,
   "metadata": {},
   "outputs": [
    {
     "data": {
      "text/plain": [
       "LinearSVC(C=1.0, class_weight=None, dual=True, fit_intercept=True,\n",
       "     intercept_scaling=1, loss='squared_hinge', max_iter=1000,\n",
       "     multi_class='ovr', penalty='l2', random_state=0, tol=0.0001,\n",
       "     verbose=0)"
      ]
     },
     "execution_count": 15,
     "metadata": {},
     "output_type": "execute_result"
    }
   ],
   "source": [
    "svc = LinearSVC(random_state=0)\n",
    "svc.fit(X_train_r, Y_train_r)"
   ]
  },
  {
   "cell_type": "code",
   "execution_count": 16,
   "metadata": {},
   "outputs": [
    {
     "name": "stdout",
     "output_type": "stream",
     "text": [
      "Mean square error (MSE): 5519931.30\n",
      "R^2: 0.07\n"
     ]
    }
   ],
   "source": [
    "Y_pred = svc.predict(X_test_r)\n",
    "            \n",
    "# print ('Coefficients:', regr.coef_, regr.intercept_ )               \n",
    "print(\"Mean square error (MSE): %.2f\"\n",
    "      % np.mean((Y_pred - Y_test_r) ** 2))      # The mean square error\n",
    "print ('R^2: %.2f' % regr.score(X_test_r, Y_test_r) )  # Explained variance score"
   ]
  },
  {
   "cell_type": "markdown",
   "metadata": {},
   "source": [
    "# Classification"
   ]
  },
  {
   "cell_type": "markdown",
   "metadata": {},
   "source": [
    "## Benchmark"
   ]
  },
  {
   "cell_type": "code",
   "execution_count": 17,
   "metadata": {
    "collapsed": true
   },
   "outputs": [],
   "source": [
    "# need the full dataset for cross validation\n",
    "X = df.copy(deep=True)\n",
    "\n",
    "Y = np.array(X['life_expectancy_bin'])\n",
    "# remove columns\n",
    "X.drop('life_expectancy', axis = 1, inplace=True)\n",
    "X.drop('life_expectancy_bin', axis = 1, inplace=True)\n",
    "\n",
    "X = np.array(X)"
   ]
  },
  {
   "cell_type": "code",
   "execution_count": 21,
   "metadata": {
    "collapsed": true
   },
   "outputs": [],
   "source": [
    "# define baseline model\n",
    "def baseline_model():\n",
    "    # create model\n",
    "    model = Sequential()\n",
    "    model.add(Dense(8, input_dim=54, activation='relu'))\n",
    "    model.add(Dense(len(labels), activation='softmax'))\n",
    "    # Compile model\n",
    "    model.compile(loss='categorical_crossentropy', optimizer='adam', metrics=['accuracy'])\n",
    "    return model"
   ]
  },
  {
   "cell_type": "code",
   "execution_count": 22,
   "metadata": {
    "collapsed": true
   },
   "outputs": [],
   "source": [
    "estimator = KerasClassifier(build_fn=baseline_model, epochs=100, batch_size=5, verbose=0)"
   ]
  },
  {
   "cell_type": "code",
   "execution_count": 23,
   "metadata": {},
   "outputs": [
    {
     "name": "stdout",
     "output_type": "stream",
     "text": [
      "Baseline: 42.57% (0.67%)\n"
     ]
    }
   ],
   "source": [
    "results = cross_val_score(estimator, X, Y, cv=KFold(n=X.shape[0], n_folds=2, shuffle=True))\n",
    "print(\"Baseline: %.2f%% (%.2f%%)\" % (results.mean()*100, results.std()*100))"
   ]
  },
  {
   "cell_type": "markdown",
   "metadata": {},
   "source": [
    "## Classification: Keras NN"
   ]
  },
  {
   "cell_type": "code",
   "execution_count": 24,
   "metadata": {
    "scrolled": true
   },
   "outputs": [
    {
     "name": "stdout",
     "output_type": "stream",
     "text": [
      "_________________________________________________________________\n",
      "Layer (type)                 Output Shape              Param #   \n",
      "=================================================================\n",
      "dense_7 (Dense)              (None, 64)                3520      \n",
      "_________________________________________________________________\n",
      "dropout_1 (Dropout)          (None, 64)                0         \n",
      "_________________________________________________________________\n",
      "dense_8 (Dense)              (None, 64)                4160      \n",
      "_________________________________________________________________\n",
      "dropout_2 (Dropout)          (None, 64)                0         \n",
      "_________________________________________________________________\n",
      "dense_9 (Dense)              (None, 5)                 325       \n",
      "=================================================================\n",
      "Total params: 8,005\n",
      "Trainable params: 8,005\n",
      "Non-trainable params: 0\n",
      "_________________________________________________________________\n"
     ]
    }
   ],
   "source": [
    "seed = 7\n",
    "np.random.seed(seed)\n",
    "\n",
    "model = Sequential()\n",
    "# model.add(Dense(108, input_shape=(54,), kernel_initializer='normal', activation='relu'))\n",
    "# model.add(BatchNormalization())\n",
    "# model.add(Dense(32, kernel_initializer='normal', activation='relu'))\n",
    "# model.add(Dropout(0.2))\n",
    "# model.add(Dense(16, kernel_initializer='normal', activation='relu'))\n",
    "# model.add(Dropout(0.2))\n",
    "# model.add(Dense(8, kernel_initializer='normal', activation='relu'))\n",
    "# model.add(Dropout(0.2))\n",
    "# model.add(Dense(1, activation='sigmoid'))\n",
    "\n",
    "model.add(Dense(64, activation='relu', input_dim=54))\n",
    "model.add(Dropout(0.1))\n",
    "model.add(Dense(64, activation='relu'))\n",
    "model.add(Dropout(0.1))\n",
    "model.add(Dense(len(labels), activation='softmax'))\n",
    "\n",
    "model.compile(optimizer='rmsprop', loss='categorical_crossentropy', metrics=['accuracy'])\n",
    "\n",
    "# model.add(Dense(input_dim=54, output_dim=12, activation='relu'))\n",
    "# model.add(Dropout(0.1))\n",
    "# model.add(Dense(input_dim=12, output_dim=12, activation='relu'))\n",
    "# model.add(Dropout(0.1))\n",
    "# model.add(Dense(output_dim=1, activation='softmax'))\n",
    "# model.compile(loss='mean_squared_error', optimizer='adadelta', metrics=['accuracy'])\n",
    "\n",
    "# 3\n",
    "#tbCallBack = keras.callbacks.TensorBoard(log_dir='/tmp/keras_logs', write_graph=True)\n",
    "\n",
    "# 4\n",
    "#model.compile(loss='mean_squared_error', optimizer='adadelta', metrics=['accuracy'])\n",
    "\n",
    "model.summary()\n",
    "\n",
    "hist = model.fit(np.array(X_train_c), np.array(to_categorical(Y_train_c)), \n",
    "                 epochs=600, batch_size=128,  verbose=0, validation_split=0.3)#, callbacks=[tbCallBack])"
   ]
  },
  {
   "cell_type": "code",
   "execution_count": 25,
   "metadata": {},
   "outputs": [
    {
     "data": {
      "image/png": "[encoded data removed]",
      "text/plain": [
       "<matplotlib.figure.Figure at 0x127dcf898>"
      ]
     },
     "metadata": {},
     "output_type": "display_data"
    },
    {
     "data": {
      "image/png": "[encoded data removed]",
      "text/plain": [
       "<matplotlib.figure.Figure at 0x128b57da0>"
      ]
     },
     "metadata": {},
     "output_type": "display_data"
    }
   ],
   "source": [
    "ICM_utils.plot_hist(hist)"
   ]
  },
  {
   "cell_type": "code",
   "execution_count": 26,
   "metadata": {
    "collapsed": true,
    "scrolled": false
   },
   "outputs": [],
   "source": [
    "hist = model.fit(np.array(X_train_c), np.array(to_categorical(Y_train_c)), \n",
    "                 epochs=120, batch_size=128,  verbose=0, validation_split=0.3)#, callbacks=[tbCallBack])"
   ]
  },
  {
   "cell_type": "code",
   "execution_count": 27,
   "metadata": {
    "collapsed": true
   },
   "outputs": [],
   "source": [
    "Y_pred = model.predict(np.array(X_test_c))"
   ]
  },
  {
   "cell_type": "code",
   "execution_count": 28,
   "metadata": {
    "collapsed": true
   },
   "outputs": [],
   "source": [
    "Y_pred = Y_pred.argmax(axis=-1)"
   ]
  },
  {
   "cell_type": "code",
   "execution_count": 29,
   "metadata": {},
   "outputs": [
    {
     "name": "stdout",
     "output_type": "stream",
     "text": [
      "             precision    recall  f1-score   support\n",
      "\n",
      "    6months       0.19      0.29      0.23        76\n",
      "    1.2year       0.33      0.34      0.34        99\n",
      "     2years       0.22      0.18      0.20        65\n",
      "     3years       0.33      0.35      0.34        57\n",
      "       more       0.65      0.45      0.53       121\n",
      "\n",
      "avg / total       0.38      0.34      0.35       418\n",
      "\n",
      "Accuracy: 0.34210526315789475\n"
     ]
    },
    {
     "data": {
      "image/png": "[encoded data removed]",
      "text/plain": [
       "<matplotlib.figure.Figure at 0x128b82208>"
      ]
     },
     "metadata": {},
     "output_type": "display_data"
    }
   ],
   "source": [
    "ICM_utils.plot_report(Y_test_c, Y_pred, labels)"
   ]
  },
  {
   "cell_type": "markdown",
   "metadata": {},
   "source": [
    "## Classification: Ensamble of models"
   ]
  },
  {
   "cell_type": "code",
   "execution_count": 31,
   "metadata": {
    "collapsed": true
   },
   "outputs": [],
   "source": [
    "def mlp_model():\n",
    "    model = Sequential()\n",
    "    \n",
    "    model.add(Dense(50, input_dim = 54, kernel_initializer='he_normal', activation='relu'))\n",
    "    model.add(BatchNormalization())\n",
    "    model.add(Activation('relu'))\n",
    "    model.add(Dropout(0.2))\n",
    "    model.add(Dense(50, kernel_initializer='he_normal'))\n",
    "    model.add(BatchNormalization())\n",
    "    model.add(Activation('relu'))    \n",
    "    model.add(Dropout(0.2))\n",
    "    model.add(Dense(50, kernel_initializer='he_normal'))\n",
    "    model.add(BatchNormalization())\n",
    "    model.add(Activation('relu'))\n",
    "    model.add(Dropout(0.2))\n",
    "    model.add(Dense(50, kernel_initializer='he_normal'))\n",
    "    model.add(BatchNormalization())\n",
    "    model.add(Activation('relu'))\n",
    "    model.add(Dropout(0.2))\n",
    "    model.add(Dense(len(labels), kernel_initializer='he_normal'))\n",
    "    model.add(Activation('softmax'))\n",
    "    \n",
    "    adam = optimizers.Adam(lr = 0.001)\n",
    "    model.compile(optimizer = 'adam', loss = 'categorical_crossentropy', metrics = ['accuracy'])\n",
    "    \n",
    "    return model"
   ]
  },
  {
   "cell_type": "code",
   "execution_count": 32,
   "metadata": {
    "collapsed": true,
    "scrolled": true
   },
   "outputs": [],
   "source": [
    "mp = mlp_model()"
   ]
  },
  {
   "cell_type": "code",
   "execution_count": 33,
   "metadata": {
    "collapsed": true,
    "scrolled": true
   },
   "outputs": [],
   "source": [
    "hist = mp.fit(np.array(X_train_c), np.array(to_categorical(Y_train_c)), epochs=600, batch_size=128,  verbose=0, \n",
    "              validation_split=0.3)#, callbacks=[tbCallBack])"
   ]
  },
  {
   "cell_type": "code",
   "execution_count": 34,
   "metadata": {},
   "outputs": [
    {
     "data": {
      "image/png": "[encoded data removed]",
      "text/plain": [
       "<matplotlib.figure.Figure at 0x1285a8320>"
      ]
     },
     "metadata": {},
     "output_type": "display_data"
    },
    {
     "data": {
      "image/png": "[encoded data removed]",
      "text/plain": [
       "<matplotlib.figure.Figure at 0x12a39e828>"
      ]
     },
     "metadata": {},
     "output_type": "display_data"
    }
   ],
   "source": [
    "ICM_utils.plot_hist(hist)"
   ]
  },
  {
   "cell_type": "code",
   "execution_count": 36,
   "metadata": {
    "collapsed": true
   },
   "outputs": [],
   "source": [
    "# create 5 models to ensemble\n",
    "model1 = KerasClassifier(build_fn = mlp_model, epochs = 150)\n",
    "model2 = KerasClassifier(build_fn = mlp_model, epochs = 150)\n",
    "model3 = KerasClassifier(build_fn = mlp_model, epochs = 150)\n",
    "model4 = KerasClassifier(build_fn = mlp_model, epochs = 150)\n",
    "model5 = KerasClassifier(build_fn = mlp_model, epochs = 150)\n",
    "\n",
    "ensemble_clf = VotingClassifier(estimators = [('model1', model1), ('model2', model2), \n",
    "                                              ('model3', model3), ('model4', model4), \n",
    "                                              ('model5', model5)], voting = 'soft')"
   ]
  },
  {
   "cell_type": "code",
   "execution_count": 37,
   "metadata": {
    "scrolled": true
   },
   "outputs": [
    {
     "name": "stdout",
     "output_type": "stream",
     "text": [
      "Epoch 1/150\n",
      "1668/1668 [==============================] - 2s 936us/step - loss: 1.7705 - acc: 0.2440\n",
      "Epoch 2/150\n",
      "1668/1668 [==============================] - 0s 134us/step - loss: 1.6012 - acc: 0.3285\n",
      "Epoch 3/150\n",
      "1668/1668 [==============================] - 0s 124us/step - loss: 1.5402 - acc: 0.3411\n",
      "Epoch 4/150\n",
      "1668/1668 [==============================] - 0s 123us/step - loss: 1.5149 - acc: 0.3807\n",
      "Epoch 5/150\n",
      "1668/1668 [==============================] - 0s 125us/step - loss: 1.5090 - acc: 0.3519\n",
      "Epoch 6/150\n",
      "1668/1668 [==============================] - 0s 125us/step - loss: 1.4710 - acc: 0.3687\n",
      "Epoch 7/150\n",
      "1668/1668 [==============================] - 0s 123us/step - loss: 1.4596 - acc: 0.3837\n",
      "Epoch 8/150\n",
      "1668/1668 [==============================] - 0s 127us/step - loss: 1.4577 - acc: 0.3819\n",
      "Epoch 9/150\n",
      "1668/1668 [==============================] - 0s 112us/step - loss: 1.4619 - acc: 0.3609\n",
      "Epoch 10/150\n",
      "1668/1668 [==============================] - 0s 102us/step - loss: 1.4409 - acc: 0.3765\n",
      "Epoch 11/150\n",
      "1668/1668 [==============================] - 0s 117us/step - loss: 1.4356 - acc: 0.3885\n",
      "Epoch 12/150\n",
      "1668/1668 [==============================] - 0s 116us/step - loss: 1.4191 - acc: 0.3873\n",
      "Epoch 13/150\n",
      "1668/1668 [==============================] - 0s 113us/step - loss: 1.4013 - acc: 0.3987\n",
      "Epoch 14/150\n",
      "1668/1668 [==============================] - 0s 122us/step - loss: 1.3961 - acc: 0.4095\n",
      "Epoch 15/150\n",
      "1668/1668 [==============================] - 0s 125us/step - loss: 1.4110 - acc: 0.4065\n",
      "Epoch 16/150\n",
      "1668/1668 [==============================] - 0s 125us/step - loss: 1.3893 - acc: 0.4137\n",
      "Epoch 17/150\n",
      "1668/1668 [==============================] - 0s 149us/step - loss: 1.3676 - acc: 0.4137\n",
      "Epoch 18/150\n",
      "1668/1668 [==============================] - 0s 134us/step - loss: 1.3632 - acc: 0.4095\n",
      "Epoch 19/150\n",
      "1668/1668 [==============================] - 0s 113us/step - loss: 1.3723 - acc: 0.4005\n",
      "Epoch 20/150\n",
      "1668/1668 [==============================] - 0s 100us/step - loss: 1.3704 - acc: 0.4179\n",
      "Epoch 21/150\n",
      "1668/1668 [==============================] - 0s 99us/step - loss: 1.3533 - acc: 0.4263\n",
      "Epoch 22/150\n",
      "1668/1668 [==============================] - 0s 111us/step - loss: 1.3477 - acc: 0.4245\n",
      "Epoch 23/150\n",
      "1668/1668 [==============================] - 0s 113us/step - loss: 1.3252 - acc: 0.4502\n",
      "Epoch 24/150\n",
      "1668/1668 [==============================] - 0s 107us/step - loss: 1.3472 - acc: 0.4341\n",
      "Epoch 25/150\n",
      "1668/1668 [==============================] - 0s 96us/step - loss: 1.3396 - acc: 0.4341\n",
      "Epoch 26/150\n",
      "1668/1668 [==============================] - 0s 98us/step - loss: 1.3223 - acc: 0.4335\n",
      "Epoch 27/150\n",
      "1668/1668 [==============================] - 0s 98us/step - loss: 1.3185 - acc: 0.4323\n",
      "Epoch 28/150\n",
      "1668/1668 [==============================] - 0s 100us/step - loss: 1.3161 - acc: 0.4335\n",
      "Epoch 29/150\n",
      "1668/1668 [==============================] - 0s 108us/step - loss: 1.3084 - acc: 0.4472\n",
      "Epoch 30/150\n",
      "1668/1668 [==============================] - 0s 114us/step - loss: 1.3161 - acc: 0.4293\n",
      "Epoch 31/150\n",
      "1668/1668 [==============================] - 0s 112us/step - loss: 1.3232 - acc: 0.4406\n",
      "Epoch 32/150\n",
      "1668/1668 [==============================] - 0s 118us/step - loss: 1.3268 - acc: 0.4299\n",
      "Epoch 33/150\n",
      "1668/1668 [==============================] - 0s 99us/step - loss: 1.3206 - acc: 0.4388\n",
      "Epoch 34/150\n",
      "1668/1668 [==============================] - 0s 105us/step - loss: 1.3137 - acc: 0.4442\n",
      "Epoch 35/150\n",
      "1668/1668 [==============================] - 0s 119us/step - loss: 1.3042 - acc: 0.4490\n",
      "Epoch 36/150\n",
      "1668/1668 [==============================] - 0s 119us/step - loss: 1.3167 - acc: 0.4400\n",
      "Epoch 37/150\n",
      "1668/1668 [==============================] - 0s 124us/step - loss: 1.3108 - acc: 0.4466\n",
      "Epoch 38/150\n",
      "1668/1668 [==============================] - 0s 124us/step - loss: 1.3017 - acc: 0.4466\n",
      "Epoch 39/150\n",
      "1668/1668 [==============================] - 0s 127us/step - loss: 1.2922 - acc: 0.4592\n",
      "Epoch 40/150\n",
      "1668/1668 [==============================] - 0s 125us/step - loss: 1.2922 - acc: 0.4436\n",
      "Epoch 41/150\n",
      "1668/1668 [==============================] - 0s 98us/step - loss: 1.2907 - acc: 0.4508\n",
      "Epoch 42/150\n",
      "1668/1668 [==============================] - 0s 104us/step - loss: 1.2987 - acc: 0.4412\n",
      "Epoch 43/150\n",
      "1668/1668 [==============================] - 0s 100us/step - loss: 1.2924 - acc: 0.4568\n",
      "Epoch 44/150\n",
      "1668/1668 [==============================] - 0s 104us/step - loss: 1.2910 - acc: 0.4598\n",
      "Epoch 45/150\n",
      "1668/1668 [==============================] - 0s 100us/step - loss: 1.2842 - acc: 0.4496\n",
      "Epoch 46/150\n",
      "1668/1668 [==============================] - 0s 112us/step - loss: 1.2806 - acc: 0.4622\n",
      "Epoch 47/150\n",
      "1668/1668 [==============================] - 0s 104us/step - loss: 1.2803 - acc: 0.4562\n",
      "Epoch 48/150\n",
      "1668/1668 [==============================] - 0s 103us/step - loss: 1.2638 - acc: 0.4592\n",
      "Epoch 49/150\n",
      "1668/1668 [==============================] - 0s 103us/step - loss: 1.3008 - acc: 0.4478\n",
      "Epoch 50/150\n",
      "1668/1668 [==============================] - 0s 112us/step - loss: 1.2849 - acc: 0.4550\n",
      "Epoch 51/150\n",
      "1668/1668 [==============================] - 0s 113us/step - loss: 1.2900 - acc: 0.4496\n",
      "Epoch 52/150\n",
      "1668/1668 [==============================] - 0s 103us/step - loss: 1.2605 - acc: 0.4568\n",
      "Epoch 53/150\n",
      "1668/1668 [==============================] - 0s 98us/step - loss: 1.2835 - acc: 0.4604\n",
      "Epoch 54/150\n",
      "1668/1668 [==============================] - 0s 102us/step - loss: 1.2819 - acc: 0.4658\n",
      "Epoch 55/150\n",
      "1668/1668 [==============================] - 0s 113us/step - loss: 1.2881 - acc: 0.4502\n",
      "Epoch 56/150\n",
      "1668/1668 [==============================] - 0s 118us/step - loss: 1.2791 - acc: 0.4598\n",
      "Epoch 57/150\n",
      "1668/1668 [==============================] - 0s 124us/step - loss: 1.2813 - acc: 0.4544\n",
      "Epoch 58/150\n",
      "1668/1668 [==============================] - 0s 115us/step - loss: 1.2688 - acc: 0.4556\n",
      "Epoch 59/150\n",
      "1668/1668 [==============================] - 0s 101us/step - loss: 1.2768 - acc: 0.4598\n",
      "Epoch 60/150\n",
      "1668/1668 [==============================] - 0s 99us/step - loss: 1.2881 - acc: 0.4508\n",
      "Epoch 61/150\n",
      "1668/1668 [==============================] - 0s 100us/step - loss: 1.2679 - acc: 0.4670\n",
      "Epoch 62/150\n",
      "1668/1668 [==============================] - 0s 98us/step - loss: 1.2968 - acc: 0.4586\n",
      "Epoch 63/150\n",
      "1668/1668 [==============================] - 0s 97us/step - loss: 1.2762 - acc: 0.4640\n",
      "Epoch 64/150\n",
      "1668/1668 [==============================] - 0s 101us/step - loss: 1.2619 - acc: 0.4688\n",
      "Epoch 65/150\n",
      "1668/1668 [==============================] - 0s 102us/step - loss: 1.2825 - acc: 0.4496\n",
      "Epoch 66/150\n",
      "1668/1668 [==============================] - 0s 104us/step - loss: 1.2678 - acc: 0.4616\n",
      "Epoch 67/150\n",
      "1668/1668 [==============================] - 0s 103us/step - loss: 1.2624 - acc: 0.4694\n",
      "Epoch 68/150\n",
      "1668/1668 [==============================] - 0s 109us/step - loss: 1.2737 - acc: 0.4556\n",
      "Epoch 69/150\n",
      "1668/1668 [==============================] - 0s 115us/step - loss: 1.2646 - acc: 0.4544\n",
      "Epoch 70/150\n",
      "1668/1668 [==============================] - 0s 104us/step - loss: 1.2506 - acc: 0.4772\n",
      "Epoch 71/150\n",
      "1668/1668 [==============================] - 0s 102us/step - loss: 1.2641 - acc: 0.4646\n",
      "Epoch 72/150\n",
      "1668/1668 [==============================] - 0s 105us/step - loss: 1.2623 - acc: 0.4592\n",
      "Epoch 73/150\n",
      "1668/1668 [==============================] - 0s 109us/step - loss: 1.2692 - acc: 0.4442\n",
      "Epoch 74/150\n",
      "1668/1668 [==============================] - 0s 106us/step - loss: 1.2764 - acc: 0.4532\n",
      "Epoch 75/150\n",
      "1668/1668 [==============================] - 0s 109us/step - loss: 1.2712 - acc: 0.4538\n",
      "Epoch 76/150\n",
      "1668/1668 [==============================] - 0s 102us/step - loss: 1.2728 - acc: 0.4646\n",
      "Epoch 77/150\n",
      "1668/1668 [==============================] - 0s 113us/step - loss: 1.2775 - acc: 0.4610\n",
      "Epoch 78/150\n",
      "1668/1668 [==============================] - 0s 110us/step - loss: 1.2887 - acc: 0.4586\n",
      "Epoch 79/150\n",
      "1668/1668 [==============================] - 0s 122us/step - loss: 1.2782 - acc: 0.4514\n",
      "Epoch 80/150\n",
      "1668/1668 [==============================] - 0s 126us/step - loss: 1.2545 - acc: 0.4742\n",
      "Epoch 81/150\n",
      "1668/1668 [==============================] - 0s 109us/step - loss: 1.2825 - acc: 0.4556\n",
      "Epoch 82/150\n",
      "1668/1668 [==============================] - 0s 108us/step - loss: 1.2630 - acc: 0.4544\n",
      "Epoch 83/150\n",
      "1668/1668 [==============================] - 0s 108us/step - loss: 1.2442 - acc: 0.4796\n",
      "Epoch 84/150\n",
      "1668/1668 [==============================] - 0s 115us/step - loss: 1.2490 - acc: 0.4748\n",
      "Epoch 85/150\n",
      "1668/1668 [==============================] - 0s 115us/step - loss: 1.2544 - acc: 0.4568\n",
      "Epoch 86/150\n",
      "1668/1668 [==============================] - 0s 108us/step - loss: 1.2596 - acc: 0.4688\n",
      "Epoch 87/150\n",
      "1668/1668 [==============================] - 0s 104us/step - loss: 1.2715 - acc: 0.4658\n",
      "Epoch 88/150\n",
      "1668/1668 [==============================] - 0s 114us/step - loss: 1.2606 - acc: 0.4772\n",
      "Epoch 89/150\n",
      "1668/1668 [==============================] - 0s 117us/step - loss: 1.2442 - acc: 0.4748\n",
      "Epoch 90/150\n",
      "1668/1668 [==============================] - 0s 120us/step - loss: 1.2581 - acc: 0.4622\n",
      "Epoch 91/150\n",
      "1668/1668 [==============================] - 0s 132us/step - loss: 1.2508 - acc: 0.4754\n",
      "Epoch 92/150\n",
      "1668/1668 [==============================] - 0s 123us/step - loss: 1.2579 - acc: 0.4694\n",
      "Epoch 93/150\n",
      "1668/1668 [==============================] - 0s 120us/step - loss: 1.2679 - acc: 0.4556\n",
      "Epoch 94/150\n",
      "1668/1668 [==============================] - 0s 105us/step - loss: 1.2523 - acc: 0.4712\n",
      "Epoch 95/150\n",
      "1668/1668 [==============================] - 0s 110us/step - loss: 1.2411 - acc: 0.4700\n",
      "Epoch 96/150\n",
      "1668/1668 [==============================] - 0s 107us/step - loss: 1.2474 - acc: 0.4706\n",
      "Epoch 97/150\n",
      "1668/1668 [==============================] - 0s 107us/step - loss: 1.2447 - acc: 0.4616\n",
      "Epoch 98/150\n",
      "1668/1668 [==============================] - 0s 106us/step - loss: 1.2642 - acc: 0.4694\n",
      "Epoch 99/150\n",
      "1668/1668 [==============================] - 0s 110us/step - loss: 1.2570 - acc: 0.4496\n",
      "Epoch 100/150\n",
      "1668/1668 [==============================] - 0s 107us/step - loss: 1.2430 - acc: 0.4640\n",
      "Epoch 101/150\n",
      "1668/1668 [==============================] - 0s 107us/step - loss: 1.2651 - acc: 0.4544\n",
      "Epoch 102/150\n",
      "1668/1668 [==============================] - 0s 120us/step - loss: 1.2431 - acc: 0.4826\n",
      "Epoch 103/150\n",
      "1668/1668 [==============================] - 0s 116us/step - loss: 1.2398 - acc: 0.4682\n",
      "Epoch 104/150\n",
      "1668/1668 [==============================] - 0s 126us/step - loss: 1.2531 - acc: 0.4670\n",
      "Epoch 105/150\n",
      "1668/1668 [==============================] - 0s 138us/step - loss: 1.2498 - acc: 0.4664\n",
      "Epoch 106/150\n",
      "1668/1668 [==============================] - 0s 138us/step - loss: 1.2422 - acc: 0.4760\n",
      "Epoch 107/150\n",
      "1668/1668 [==============================] - 0s 133us/step - loss: 1.2350 - acc: 0.4700\n",
      "Epoch 108/150\n",
      "1668/1668 [==============================] - 0s 125us/step - loss: 1.2372 - acc: 0.4742\n",
      "Epoch 109/150\n",
      "1668/1668 [==============================] - 0s 106us/step - loss: 1.2408 - acc: 0.4724\n",
      "Epoch 110/150\n",
      "1668/1668 [==============================] - 0s 121us/step - loss: 1.2321 - acc: 0.4772\n",
      "Epoch 111/150\n",
      "1668/1668 [==============================] - 0s 118us/step - loss: 1.2571 - acc: 0.4736\n",
      "Epoch 112/150\n",
      "1668/1668 [==============================] - 0s 119us/step - loss: 1.2323 - acc: 0.4802\n",
      "Epoch 113/150\n",
      "1668/1668 [==============================] - 0s 125us/step - loss: 1.2490 - acc: 0.4760\n",
      "Epoch 114/150\n",
      "1668/1668 [==============================] - 0s 102us/step - loss: 1.2379 - acc: 0.4652\n",
      "Epoch 115/150\n",
      "1668/1668 [==============================] - 0s 104us/step - loss: 1.2447 - acc: 0.4658\n",
      "Epoch 116/150\n",
      "1668/1668 [==============================] - 0s 105us/step - loss: 1.2411 - acc: 0.4790\n",
      "Epoch 117/150\n",
      "1668/1668 [==============================] - 0s 117us/step - loss: 1.2587 - acc: 0.4712\n",
      "Epoch 118/150\n",
      "1668/1668 [==============================] - 0s 115us/step - loss: 1.2335 - acc: 0.4616\n",
      "Epoch 119/150\n",
      "1668/1668 [==============================] - 0s 114us/step - loss: 1.2460 - acc: 0.4730\n",
      "Epoch 120/150\n",
      "1668/1668 [==============================] - 0s 119us/step - loss: 1.2327 - acc: 0.4904\n",
      "Epoch 121/150\n",
      "1668/1668 [==============================] - 0s 115us/step - loss: 1.2241 - acc: 0.4868\n",
      "Epoch 122/150\n",
      "1668/1668 [==============================] - 0s 107us/step - loss: 1.2492 - acc: 0.4664\n",
      "Epoch 123/150\n",
      "1668/1668 [==============================] - 0s 103us/step - loss: 1.2395 - acc: 0.4688\n",
      "Epoch 124/150\n",
      "1668/1668 [==============================] - 0s 119us/step - loss: 1.2444 - acc: 0.4754\n",
      "Epoch 125/150\n",
      "1668/1668 [==============================] - 0s 126us/step - loss: 1.2437 - acc: 0.4838\n",
      "Epoch 126/150\n",
      "1668/1668 [==============================] - 0s 137us/step - loss: 1.2448 - acc: 0.4778\n",
      "Epoch 127/150\n",
      "1668/1668 [==============================] - 0s 139us/step - loss: 1.2326 - acc: 0.4826\n",
      "Epoch 128/150\n",
      "1668/1668 [==============================] - 0s 115us/step - loss: 1.2426 - acc: 0.4724\n",
      "Epoch 129/150\n",
      "1668/1668 [==============================] - 0s 120us/step - loss: 1.2346 - acc: 0.4772\n",
      "Epoch 130/150\n",
      "1668/1668 [==============================] - 0s 134us/step - loss: 1.2428 - acc: 0.4706\n",
      "Epoch 131/150\n",
      "1668/1668 [==============================] - 0s 126us/step - loss: 1.2337 - acc: 0.4688\n",
      "Epoch 132/150\n",
      "1668/1668 [==============================] - 0s 128us/step - loss: 1.2530 - acc: 0.4700\n",
      "Epoch 133/150\n",
      "1668/1668 [==============================] - 0s 138us/step - loss: 1.2446 - acc: 0.4670\n",
      "Epoch 134/150\n",
      "1668/1668 [==============================] - 0s 135us/step - loss: 1.2493 - acc: 0.4706\n",
      "Epoch 135/150\n",
      "1668/1668 [==============================] - 0s 136us/step - loss: 1.2389 - acc: 0.4682\n",
      "Epoch 136/150\n",
      "1668/1668 [==============================] - 0s 105us/step - loss: 1.2357 - acc: 0.4802\n",
      "Epoch 137/150\n",
      "1668/1668 [==============================] - 0s 103us/step - loss: 1.2333 - acc: 0.4676\n",
      "Epoch 138/150\n",
      "1668/1668 [==============================] - 0s 122us/step - loss: 1.2441 - acc: 0.4766\n",
      "Epoch 139/150\n",
      "1668/1668 [==============================] - 0s 121us/step - loss: 1.2174 - acc: 0.4820\n",
      "Epoch 140/150\n",
      "1668/1668 [==============================] - 0s 126us/step - loss: 1.2369 - acc: 0.4838\n",
      "Epoch 141/150\n",
      "1668/1668 [==============================] - 0s 119us/step - loss: 1.2510 - acc: 0.4670\n",
      "Epoch 142/150\n",
      "1668/1668 [==============================] - 0s 104us/step - loss: 1.2451 - acc: 0.4628\n",
      "Epoch 143/150\n",
      "1668/1668 [==============================] - 0s 108us/step - loss: 1.2265 - acc: 0.4802\n",
      "Epoch 144/150\n",
      "1668/1668 [==============================] - 0s 124us/step - loss: 1.2219 - acc: 0.4898\n",
      "Epoch 145/150\n",
      "1668/1668 [==============================] - 0s 114us/step - loss: 1.2293 - acc: 0.4874\n",
      "Epoch 146/150\n",
      "1668/1668 [==============================] - 0s 107us/step - loss: 1.2336 - acc: 0.4892\n",
      "Epoch 147/150\n",
      "1668/1668 [==============================] - 0s 106us/step - loss: 1.2274 - acc: 0.4850\n",
      "Epoch 148/150\n",
      "1668/1668 [==============================] - 0s 123us/step - loss: 1.2184 - acc: 0.4820\n",
      "Epoch 149/150\n",
      "1668/1668 [==============================] - 0s 123us/step - loss: 1.2333 - acc: 0.4586\n",
      "Epoch 150/150\n",
      "1668/1668 [==============================] - 0s 117us/step - loss: 1.2292 - acc: 0.4778\n",
      "Epoch 1/150\n",
      "1668/1668 [==============================] - 2s 1ms/step - loss: 1.7194 - acc: 0.2638\n",
      "Epoch 2/150\n",
      "1668/1668 [==============================] - 0s 114us/step - loss: 1.6014 - acc: 0.3141\n",
      "Epoch 3/150\n",
      "1668/1668 [==============================] - 0s 112us/step - loss: 1.5037 - acc: 0.3615\n",
      "Epoch 4/150\n",
      "1668/1668 [==============================] - 0s 110us/step - loss: 1.5050 - acc: 0.3651\n",
      "Epoch 5/150\n",
      "1668/1668 [==============================] - 0s 110us/step - loss: 1.4679 - acc: 0.3621\n",
      "Epoch 6/150\n",
      "1668/1668 [==============================] - 0s 119us/step - loss: 1.4909 - acc: 0.3633\n",
      "Epoch 7/150\n",
      "1668/1668 [==============================] - 0s 108us/step - loss: 1.4440 - acc: 0.3879\n",
      "Epoch 8/150\n",
      "1668/1668 [==============================] - 0s 106us/step - loss: 1.4276 - acc: 0.3939\n",
      "Epoch 9/150\n",
      "1668/1668 [==============================] - 0s 116us/step - loss: 1.4091 - acc: 0.4077\n",
      "Epoch 10/150\n",
      "1668/1668 [==============================] - 0s 116us/step - loss: 1.4243 - acc: 0.4005\n",
      "Epoch 11/150\n",
      "1668/1668 [==============================] - 0s 110us/step - loss: 1.3888 - acc: 0.3975\n",
      "Epoch 12/150\n"
     ]
    },
    {
     "name": "stdout",
     "output_type": "stream",
     "text": [
      "1668/1668 [==============================] - 0s 113us/step - loss: 1.4105 - acc: 0.4041\n",
      "Epoch 13/150\n",
      "1668/1668 [==============================] - 0s 121us/step - loss: 1.3831 - acc: 0.4017\n",
      "Epoch 14/150\n",
      "1668/1668 [==============================] - 0s 121us/step - loss: 1.3759 - acc: 0.4161\n",
      "Epoch 15/150\n",
      "1668/1668 [==============================] - 0s 125us/step - loss: 1.3770 - acc: 0.3999\n",
      "Epoch 16/150\n",
      "1668/1668 [==============================] - 0s 121us/step - loss: 1.3779 - acc: 0.4077\n",
      "Epoch 17/150\n",
      "1668/1668 [==============================] - 0s 113us/step - loss: 1.3961 - acc: 0.3999\n",
      "Epoch 18/150\n",
      "1668/1668 [==============================] - 0s 112us/step - loss: 1.3630 - acc: 0.4149\n",
      "Epoch 19/150\n",
      "1668/1668 [==============================] - 0s 115us/step - loss: 1.3645 - acc: 0.4293\n",
      "Epoch 20/150\n",
      "1668/1668 [==============================] - 0s 119us/step - loss: 1.3482 - acc: 0.4281\n",
      "Epoch 21/150\n",
      "1668/1668 [==============================] - 0s 113us/step - loss: 1.3762 - acc: 0.4167\n",
      "Epoch 22/150\n",
      "1668/1668 [==============================] - 0s 124us/step - loss: 1.3570 - acc: 0.4221\n",
      "Epoch 23/150\n",
      "1668/1668 [==============================] - 0s 119us/step - loss: 1.3491 - acc: 0.4233\n",
      "Epoch 24/150\n",
      "1668/1668 [==============================] - 0s 126us/step - loss: 1.3517 - acc: 0.3993\n",
      "Epoch 25/150\n",
      "1668/1668 [==============================] - 0s 118us/step - loss: 1.3593 - acc: 0.4191\n",
      "Epoch 26/150\n",
      "1668/1668 [==============================] - 0s 106us/step - loss: 1.3716 - acc: 0.4161\n",
      "Epoch 27/150\n",
      "1668/1668 [==============================] - 0s 111us/step - loss: 1.3652 - acc: 0.4197\n",
      "Epoch 28/150\n",
      "1668/1668 [==============================] - 0s 123us/step - loss: 1.3560 - acc: 0.4281\n",
      "Epoch 29/150\n",
      "1668/1668 [==============================] - 0s 122us/step - loss: 1.3457 - acc: 0.4257\n",
      "Epoch 30/150\n",
      "1668/1668 [==============================] - 0s 135us/step - loss: 1.3631 - acc: 0.4293\n",
      "Epoch 31/150\n",
      "1668/1668 [==============================] - 0s 135us/step - loss: 1.3524 - acc: 0.4221\n",
      "Epoch 32/150\n",
      "1668/1668 [==============================] - 0s 110us/step - loss: 1.3573 - acc: 0.4347\n",
      "Epoch 33/150\n",
      "1668/1668 [==============================] - 0s 112us/step - loss: 1.3353 - acc: 0.4341\n",
      "Epoch 34/150\n",
      "1668/1668 [==============================] - 0s 121us/step - loss: 1.3415 - acc: 0.4311\n",
      "Epoch 35/150\n",
      "1668/1668 [==============================] - 0s 116us/step - loss: 1.3494 - acc: 0.4275\n",
      "Epoch 36/150\n",
      "1668/1668 [==============================] - 0s 110us/step - loss: 1.3465 - acc: 0.4257\n",
      "Epoch 37/150\n",
      "1668/1668 [==============================] - 0s 116us/step - loss: 1.3427 - acc: 0.4263\n",
      "Epoch 38/150\n",
      "1668/1668 [==============================] - 0s 121us/step - loss: 1.3578 - acc: 0.4293\n",
      "Epoch 39/150\n",
      "1668/1668 [==============================] - 0s 124us/step - loss: 1.3377 - acc: 0.4317\n",
      "Epoch 40/150\n",
      "1668/1668 [==============================] - 0s 132us/step - loss: 1.3388 - acc: 0.4221\n",
      "Epoch 41/150\n",
      "1668/1668 [==============================] - 0s 137us/step - loss: 1.3340 - acc: 0.4359\n",
      "Epoch 42/150\n",
      "1668/1668 [==============================] - 0s 136us/step - loss: 1.3210 - acc: 0.4317\n",
      "Epoch 43/150\n",
      "1668/1668 [==============================] - 0s 142us/step - loss: 1.3092 - acc: 0.4424\n",
      "Epoch 44/150\n",
      "1668/1668 [==============================] - 0s 139us/step - loss: 1.3172 - acc: 0.4317\n",
      "Epoch 45/150\n",
      "1668/1668 [==============================] - 0s 137us/step - loss: 1.3340 - acc: 0.4341\n",
      "Epoch 46/150\n",
      "1668/1668 [==============================] - 0s 135us/step - loss: 1.3262 - acc: 0.4347\n",
      "Epoch 47/150\n",
      "1668/1668 [==============================] - 0s 123us/step - loss: 1.3300 - acc: 0.4275\n",
      "Epoch 48/150\n",
      "1668/1668 [==============================] - 0s 112us/step - loss: 1.3177 - acc: 0.4335\n",
      "Epoch 49/150\n",
      "1668/1668 [==============================] - 0s 120us/step - loss: 1.3039 - acc: 0.4490\n",
      "Epoch 50/150\n",
      "1668/1668 [==============================] - 0s 127us/step - loss: 1.3114 - acc: 0.4436\n",
      "Epoch 51/150\n",
      "1668/1668 [==============================] - 0s 134us/step - loss: 1.2977 - acc: 0.4454\n",
      "Epoch 52/150\n",
      "1668/1668 [==============================] - 0s 140us/step - loss: 1.3098 - acc: 0.4412\n",
      "Epoch 53/150\n",
      "1668/1668 [==============================] - 0s 139us/step - loss: 1.2868 - acc: 0.4592\n",
      "Epoch 54/150\n",
      "1668/1668 [==============================] - 0s 140us/step - loss: 1.2941 - acc: 0.4406\n",
      "Epoch 55/150\n",
      "1668/1668 [==============================] - 0s 140us/step - loss: 1.2920 - acc: 0.4610\n",
      "Epoch 56/150\n",
      "1668/1668 [==============================] - 0s 136us/step - loss: 1.2889 - acc: 0.4412\n",
      "Epoch 57/150\n",
      "1668/1668 [==============================] - 0s 138us/step - loss: 1.2939 - acc: 0.4568\n",
      "Epoch 58/150\n",
      "1668/1668 [==============================] - 0s 137us/step - loss: 1.2943 - acc: 0.4550\n",
      "Epoch 59/150\n",
      "1668/1668 [==============================] - 0s 136us/step - loss: 1.3039 - acc: 0.4418\n",
      "Epoch 60/150\n",
      "1668/1668 [==============================] - 0s 139us/step - loss: 1.2914 - acc: 0.4460\n",
      "Epoch 61/150\n",
      "1668/1668 [==============================] - 0s 138us/step - loss: 1.2907 - acc: 0.4544\n",
      "Epoch 62/150\n",
      "1668/1668 [==============================] - 0s 139us/step - loss: 1.2797 - acc: 0.4478\n",
      "Epoch 63/150\n",
      "1668/1668 [==============================] - 0s 118us/step - loss: 1.2804 - acc: 0.4478\n",
      "Epoch 64/150\n",
      "1668/1668 [==============================] - 0s 117us/step - loss: 1.2840 - acc: 0.4436\n",
      "Epoch 65/150\n",
      "1668/1668 [==============================] - 0s 115us/step - loss: 1.2768 - acc: 0.4580\n",
      "Epoch 66/150\n",
      "1668/1668 [==============================] - 0s 117us/step - loss: 1.2865 - acc: 0.4460\n",
      "Epoch 67/150\n",
      "1668/1668 [==============================] - 0s 119us/step - loss: 1.2681 - acc: 0.4670\n",
      "Epoch 68/150\n",
      "1668/1668 [==============================] - 0s 108us/step - loss: 1.2818 - acc: 0.4490\n",
      "Epoch 69/150\n",
      "1668/1668 [==============================] - 0s 106us/step - loss: 1.2771 - acc: 0.4532\n",
      "Epoch 70/150\n",
      "1668/1668 [==============================] - 0s 115us/step - loss: 1.2840 - acc: 0.4556\n",
      "Epoch 71/150\n",
      "1668/1668 [==============================] - 0s 104us/step - loss: 1.2603 - acc: 0.4580\n",
      "Epoch 72/150\n",
      "1668/1668 [==============================] - 0s 108us/step - loss: 1.2797 - acc: 0.4502\n",
      "Epoch 73/150\n",
      "1668/1668 [==============================] - 0s 122us/step - loss: 1.2667 - acc: 0.4580\n",
      "Epoch 74/150\n",
      "1668/1668 [==============================] - 0s 119us/step - loss: 1.2801 - acc: 0.4508\n",
      "Epoch 75/150\n",
      "1668/1668 [==============================] - 0s 135us/step - loss: 1.2684 - acc: 0.4628\n",
      "Epoch 76/150\n",
      "1668/1668 [==============================] - 0s 139us/step - loss: 1.2721 - acc: 0.4574\n",
      "Epoch 77/150\n",
      "1668/1668 [==============================] - 0s 111us/step - loss: 1.2794 - acc: 0.4466\n",
      "Epoch 78/150\n",
      "1668/1668 [==============================] - 0s 113us/step - loss: 1.2589 - acc: 0.4670\n",
      "Epoch 79/150\n",
      "1668/1668 [==============================] - 0s 104us/step - loss: 1.2630 - acc: 0.4556\n",
      "Epoch 80/150\n",
      "1668/1668 [==============================] - 0s 107us/step - loss: 1.2868 - acc: 0.4682\n",
      "Epoch 81/150\n",
      "1668/1668 [==============================] - 0s 107us/step - loss: 1.2919 - acc: 0.4526\n",
      "Epoch 82/150\n",
      "1668/1668 [==============================] - 0s 111us/step - loss: 1.2684 - acc: 0.4622\n",
      "Epoch 83/150\n",
      "1668/1668 [==============================] - 0s 123us/step - loss: 1.2726 - acc: 0.4598\n",
      "Epoch 84/150\n",
      "1668/1668 [==============================] - 0s 119us/step - loss: 1.2695 - acc: 0.4604\n",
      "Epoch 85/150\n",
      "1668/1668 [==============================] - 0s 104us/step - loss: 1.2664 - acc: 0.4502\n",
      "Epoch 86/150\n",
      "1668/1668 [==============================] - 0s 114us/step - loss: 1.2858 - acc: 0.4388\n",
      "Epoch 87/150\n",
      "1668/1668 [==============================] - 0s 109us/step - loss: 1.2635 - acc: 0.4670\n",
      "Epoch 88/150\n",
      "1668/1668 [==============================] - 0s 117us/step - loss: 1.2885 - acc: 0.4556\n",
      "Epoch 89/150\n",
      "1668/1668 [==============================] - 0s 126us/step - loss: 1.2551 - acc: 0.4592\n",
      "Epoch 90/150\n",
      "1668/1668 [==============================] - 0s 128us/step - loss: 1.2668 - acc: 0.4472\n",
      "Epoch 91/150\n",
      "1668/1668 [==============================] - 0s 130us/step - loss: 1.2734 - acc: 0.4586\n",
      "Epoch 92/150\n",
      "1668/1668 [==============================] - 0s 111us/step - loss: 1.2721 - acc: 0.4526\n",
      "Epoch 93/150\n",
      "1668/1668 [==============================] - 0s 118us/step - loss: 1.2717 - acc: 0.4634\n",
      "Epoch 94/150\n",
      "1668/1668 [==============================] - 0s 125us/step - loss: 1.2667 - acc: 0.4706\n",
      "Epoch 95/150\n",
      "1668/1668 [==============================] - 0s 125us/step - loss: 1.2621 - acc: 0.4556\n",
      "Epoch 96/150\n",
      "1668/1668 [==============================] - 0s 130us/step - loss: 1.2622 - acc: 0.4640\n",
      "Epoch 97/150\n",
      "1668/1668 [==============================] - 0s 137us/step - loss: 1.2605 - acc: 0.4574\n",
      "Epoch 98/150\n",
      "1668/1668 [==============================] - 0s 113us/step - loss: 1.2556 - acc: 0.4460\n",
      "Epoch 99/150\n",
      "1668/1668 [==============================] - 0s 119us/step - loss: 1.2548 - acc: 0.4676\n",
      "Epoch 100/150\n",
      "1668/1668 [==============================] - 0s 133us/step - loss: 1.2641 - acc: 0.4580\n",
      "Epoch 101/150\n",
      "1668/1668 [==============================] - 0s 108us/step - loss: 1.2640 - acc: 0.4568\n",
      "Epoch 102/150\n",
      "1668/1668 [==============================] - 0s 111us/step - loss: 1.2779 - acc: 0.4628\n",
      "Epoch 103/150\n",
      "1668/1668 [==============================] - 0s 109us/step - loss: 1.2860 - acc: 0.4592\n",
      "Epoch 104/150\n",
      "1668/1668 [==============================] - 0s 116us/step - loss: 1.2662 - acc: 0.4640\n",
      "Epoch 105/150\n",
      "1668/1668 [==============================] - 0s 122us/step - loss: 1.2632 - acc: 0.4700\n",
      "Epoch 106/150\n",
      "1668/1668 [==============================] - 0s 122us/step - loss: 1.2604 - acc: 0.4604\n",
      "Epoch 107/150\n",
      "1668/1668 [==============================] - 0s 135us/step - loss: 1.2676 - acc: 0.4628\n",
      "Epoch 108/150\n",
      "1668/1668 [==============================] - 0s 112us/step - loss: 1.2630 - acc: 0.4616\n",
      "Epoch 109/150\n",
      "1668/1668 [==============================] - 0s 110us/step - loss: 1.2512 - acc: 0.4622\n",
      "Epoch 110/150\n",
      "1668/1668 [==============================] - 0s 109us/step - loss: 1.2458 - acc: 0.4772\n",
      "Epoch 111/150\n",
      "1668/1668 [==============================] - 0s 110us/step - loss: 1.2460 - acc: 0.4634\n",
      "Epoch 112/150\n",
      "1668/1668 [==============================] - 0s 107us/step - loss: 1.2367 - acc: 0.4808\n",
      "Epoch 113/150\n",
      "1668/1668 [==============================] - 0s 117us/step - loss: 1.2399 - acc: 0.4688\n",
      "Epoch 114/150\n",
      "1668/1668 [==============================] - 0s 109us/step - loss: 1.2486 - acc: 0.4694\n",
      "Epoch 115/150\n",
      "1668/1668 [==============================] - 0s 108us/step - loss: 1.2619 - acc: 0.4586\n",
      "Epoch 116/150\n",
      "1668/1668 [==============================] - 0s 138us/step - loss: 1.2374 - acc: 0.4772\n",
      "Epoch 117/150\n",
      "1668/1668 [==============================] - 0s 113us/step - loss: 1.2491 - acc: 0.4760\n",
      "Epoch 118/150\n",
      "1668/1668 [==============================] - 0s 116us/step - loss: 1.2360 - acc: 0.4844\n",
      "Epoch 119/150\n",
      "1668/1668 [==============================] - 0s 104us/step - loss: 1.2422 - acc: 0.4718\n",
      "Epoch 120/150\n",
      "1668/1668 [==============================] - 0s 111us/step - loss: 1.2413 - acc: 0.4754\n",
      "Epoch 121/150\n",
      "1668/1668 [==============================] - 0s 104us/step - loss: 1.2524 - acc: 0.4730\n",
      "Epoch 122/150\n",
      "1668/1668 [==============================] - 0s 107us/step - loss: 1.2495 - acc: 0.4700\n",
      "Epoch 123/150\n",
      "1668/1668 [==============================] - 0s 111us/step - loss: 1.2581 - acc: 0.4664\n",
      "Epoch 124/150\n",
      "1668/1668 [==============================] - 0s 109us/step - loss: 1.2433 - acc: 0.4694\n",
      "Epoch 125/150\n",
      "1668/1668 [==============================] - 0s 114us/step - loss: 1.2442 - acc: 0.4736\n",
      "Epoch 126/150\n",
      "1668/1668 [==============================] - 0s 121us/step - loss: 1.2435 - acc: 0.4670\n",
      "Epoch 127/150\n",
      "1668/1668 [==============================] - 0s 132us/step - loss: 1.2524 - acc: 0.4640\n",
      "Epoch 128/150\n",
      "1668/1668 [==============================] - 0s 137us/step - loss: 1.2350 - acc: 0.4874\n",
      "Epoch 129/150\n",
      "1668/1668 [==============================] - 0s 110us/step - loss: 1.2310 - acc: 0.4850\n",
      "Epoch 130/150\n",
      "1668/1668 [==============================] - 0s 109us/step - loss: 1.2289 - acc: 0.4730\n",
      "Epoch 131/150\n",
      "1668/1668 [==============================] - 0s 105us/step - loss: 1.2273 - acc: 0.4826\n",
      "Epoch 132/150\n",
      "1668/1668 [==============================] - 0s 110us/step - loss: 1.2439 - acc: 0.4736\n",
      "Epoch 133/150\n",
      "1668/1668 [==============================] - 0s 122us/step - loss: 1.2270 - acc: 0.4850\n",
      "Epoch 134/150\n",
      "1668/1668 [==============================] - 0s 120us/step - loss: 1.2136 - acc: 0.4862\n",
      "Epoch 135/150\n",
      "1668/1668 [==============================] - 0s 132us/step - loss: 1.2234 - acc: 0.4868\n",
      "Epoch 136/150\n",
      "1668/1668 [==============================] - 0s 134us/step - loss: 1.2172 - acc: 0.4814\n",
      "Epoch 137/150\n",
      "1668/1668 [==============================] - 0s 122us/step - loss: 1.2586 - acc: 0.4730\n",
      "Epoch 138/150\n",
      "1668/1668 [==============================] - 0s 118us/step - loss: 1.2480 - acc: 0.4766\n",
      "Epoch 139/150\n",
      "1668/1668 [==============================] - 0s 118us/step - loss: 1.2499 - acc: 0.4652\n",
      "Epoch 140/150\n",
      "1668/1668 [==============================] - 0s 105us/step - loss: 1.2348 - acc: 0.4892\n",
      "Epoch 141/150\n",
      "1668/1668 [==============================] - 0s 108us/step - loss: 1.2496 - acc: 0.4688\n",
      "Epoch 142/150\n",
      "1668/1668 [==============================] - 0s 110us/step - loss: 1.2436 - acc: 0.4754\n",
      "Epoch 143/150\n",
      "1668/1668 [==============================] - 0s 110us/step - loss: 1.2270 - acc: 0.4892\n",
      "Epoch 144/150\n",
      "1668/1668 [==============================] - 0s 111us/step - loss: 1.2410 - acc: 0.4790\n",
      "Epoch 145/150\n",
      "1668/1668 [==============================] - 0s 114us/step - loss: 1.2378 - acc: 0.4808\n",
      "Epoch 146/150\n",
      "1668/1668 [==============================] - 0s 124us/step - loss: 1.2512 - acc: 0.4706\n",
      "Epoch 147/150\n",
      "1668/1668 [==============================] - 0s 124us/step - loss: 1.2257 - acc: 0.4778\n",
      "Epoch 148/150\n",
      "1668/1668 [==============================] - 0s 123us/step - loss: 1.2437 - acc: 0.4712\n",
      "Epoch 149/150\n",
      "1668/1668 [==============================] - 0s 112us/step - loss: 1.2457 - acc: 0.4898\n",
      "Epoch 150/150\n",
      "1668/1668 [==============================] - 0s 121us/step - loss: 1.2597 - acc: 0.4742\n",
      "Epoch 1/150\n",
      "1668/1668 [==============================] - 2s 1ms/step - loss: 1.6702 - acc: 0.2752\n",
      "Epoch 2/150\n",
      "1668/1668 [==============================] - 0s 132us/step - loss: 1.5399 - acc: 0.3225\n",
      "Epoch 3/150\n",
      "1668/1668 [==============================] - 0s 138us/step - loss: 1.5096 - acc: 0.3453\n",
      "Epoch 4/150\n",
      "1668/1668 [==============================] - 0s 137us/step - loss: 1.5003 - acc: 0.3477\n",
      "Epoch 5/150\n",
      "1668/1668 [==============================] - 0s 137us/step - loss: 1.4774 - acc: 0.3729\n",
      "Epoch 6/150\n",
      "1668/1668 [==============================] - 0s 137us/step - loss: 1.4567 - acc: 0.3813\n",
      "Epoch 7/150\n",
      "1668/1668 [==============================] - 0s 112us/step - loss: 1.4486 - acc: 0.3717\n",
      "Epoch 8/150\n",
      "1668/1668 [==============================] - 0s 109us/step - loss: 1.4195 - acc: 0.3987\n",
      "Epoch 9/150\n",
      "1668/1668 [==============================] - 0s 121us/step - loss: 1.4122 - acc: 0.3873\n",
      "Epoch 10/150\n",
      "1668/1668 [==============================] - 0s 143us/step - loss: 1.3838 - acc: 0.4155\n",
      "Epoch 11/150\n",
      "1668/1668 [==============================] - 0s 138us/step - loss: 1.3850 - acc: 0.3951\n",
      "Epoch 12/150\n",
      "1668/1668 [==============================] - 0s 136us/step - loss: 1.3833 - acc: 0.4035\n",
      "Epoch 13/150\n",
      "1668/1668 [==============================] - 0s 140us/step - loss: 1.3798 - acc: 0.4089\n",
      "Epoch 14/150\n",
      "1668/1668 [==============================] - 0s 107us/step - loss: 1.3823 - acc: 0.4011\n",
      "Epoch 15/150\n",
      "1668/1668 [==============================] - 0s 104us/step - loss: 1.3845 - acc: 0.4053\n",
      "Epoch 16/150\n",
      "1668/1668 [==============================] - 0s 105us/step - loss: 1.3706 - acc: 0.4191\n",
      "Epoch 17/150\n",
      "1668/1668 [==============================] - 0s 119us/step - loss: 1.3623 - acc: 0.4149\n",
      "Epoch 18/150\n",
      "1668/1668 [==============================] - 0s 120us/step - loss: 1.3542 - acc: 0.4245\n",
      "Epoch 19/150\n",
      "1668/1668 [==============================] - 0s 119us/step - loss: 1.3580 - acc: 0.4233\n",
      "Epoch 20/150\n",
      "1668/1668 [==============================] - 0s 109us/step - loss: 1.3551 - acc: 0.4257\n",
      "Epoch 21/150\n",
      "1668/1668 [==============================] - 0s 122us/step - loss: 1.3435 - acc: 0.4167\n",
      "Epoch 22/150\n",
      "1668/1668 [==============================] - 0s 107us/step - loss: 1.3552 - acc: 0.4299\n",
      "Epoch 23/150\n"
     ]
    },
    {
     "name": "stdout",
     "output_type": "stream",
     "text": [
      "1668/1668 [==============================] - 0s 118us/step - loss: 1.3316 - acc: 0.4281\n",
      "Epoch 24/150\n",
      "1668/1668 [==============================] - 0s 120us/step - loss: 1.3579 - acc: 0.4149\n",
      "Epoch 25/150\n",
      "1668/1668 [==============================] - 0s 123us/step - loss: 1.3555 - acc: 0.4203\n",
      "Epoch 26/150\n",
      "1668/1668 [==============================] - 0s 130us/step - loss: 1.3583 - acc: 0.4281\n",
      "Epoch 27/150\n",
      "1668/1668 [==============================] - 0s 133us/step - loss: 1.3532 - acc: 0.4227\n",
      "Epoch 28/150\n",
      "1668/1668 [==============================] - 0s 130us/step - loss: 1.3536 - acc: 0.4311\n",
      "Epoch 29/150\n",
      "1668/1668 [==============================] - 0s 132us/step - loss: 1.3314 - acc: 0.4359\n",
      "Epoch 30/150\n",
      "1668/1668 [==============================] - 0s 130us/step - loss: 1.3284 - acc: 0.4365\n",
      "Epoch 31/150\n",
      "1668/1668 [==============================] - 0s 122us/step - loss: 1.3256 - acc: 0.4371\n",
      "Epoch 32/150\n",
      "1668/1668 [==============================] - 0s 109us/step - loss: 1.3216 - acc: 0.4371\n",
      "Epoch 33/150\n",
      "1668/1668 [==============================] - 0s 116us/step - loss: 1.3365 - acc: 0.4287\n",
      "Epoch 34/150\n",
      "1668/1668 [==============================] - 0s 109us/step - loss: 1.3104 - acc: 0.4371\n",
      "Epoch 35/150\n",
      "1668/1668 [==============================] - 0s 103us/step - loss: 1.3137 - acc: 0.4388\n",
      "Epoch 36/150\n",
      "1668/1668 [==============================] - 0s 106us/step - loss: 1.3174 - acc: 0.4353\n",
      "Epoch 37/150\n",
      "1668/1668 [==============================] - 0s 110us/step - loss: 1.3110 - acc: 0.4388\n",
      "Epoch 38/150\n",
      "1668/1668 [==============================] - 0s 108us/step - loss: 1.3090 - acc: 0.4400\n",
      "Epoch 39/150\n",
      "1668/1668 [==============================] - 0s 109us/step - loss: 1.3081 - acc: 0.4394\n",
      "Epoch 40/150\n",
      "1668/1668 [==============================] - 0s 105us/step - loss: 1.3108 - acc: 0.4418\n",
      "Epoch 41/150\n",
      "1668/1668 [==============================] - 0s 121us/step - loss: 1.3036 - acc: 0.4454\n",
      "Epoch 42/150\n",
      "1668/1668 [==============================] - 0s 117us/step - loss: 1.2873 - acc: 0.4484\n",
      "Epoch 43/150\n",
      "1668/1668 [==============================] - 0s 127us/step - loss: 1.3044 - acc: 0.4442\n",
      "Epoch 44/150\n",
      "1668/1668 [==============================] - 0s 131us/step - loss: 1.2953 - acc: 0.4550\n",
      "Epoch 45/150\n",
      "1668/1668 [==============================] - 0s 105us/step - loss: 1.2957 - acc: 0.4424\n",
      "Epoch 46/150\n",
      "1668/1668 [==============================] - 0s 110us/step - loss: 1.2898 - acc: 0.4412\n",
      "Epoch 47/150\n",
      "1668/1668 [==============================] - 0s 118us/step - loss: 1.2789 - acc: 0.4592\n",
      "Epoch 48/150\n",
      "1668/1668 [==============================] - 0s 117us/step - loss: 1.2965 - acc: 0.4436\n",
      "Epoch 49/150\n",
      "1668/1668 [==============================] - 0s 106us/step - loss: 1.2753 - acc: 0.4526\n",
      "Epoch 50/150\n",
      "1668/1668 [==============================] - 0s 106us/step - loss: 1.2955 - acc: 0.4526\n",
      "Epoch 51/150\n",
      "1668/1668 [==============================] - 0s 106us/step - loss: 1.2858 - acc: 0.4556\n",
      "Epoch 52/150\n",
      "1668/1668 [==============================] - 0s 110us/step - loss: 1.2802 - acc: 0.4544\n",
      "Epoch 53/150\n",
      "1668/1668 [==============================] - 0s 110us/step - loss: 1.2878 - acc: 0.4472\n",
      "Epoch 54/150\n",
      "1668/1668 [==============================] - 0s 110us/step - loss: 1.2804 - acc: 0.4532\n",
      "Epoch 55/150\n",
      "1668/1668 [==============================] - 0s 109us/step - loss: 1.2789 - acc: 0.4532\n",
      "Epoch 56/150\n",
      "1668/1668 [==============================] - 0s 117us/step - loss: 1.3105 - acc: 0.4400\n",
      "Epoch 57/150\n",
      "1668/1668 [==============================] - 0s 118us/step - loss: 1.2884 - acc: 0.4574\n",
      "Epoch 58/150\n",
      "1668/1668 [==============================] - 0s 124us/step - loss: 1.3133 - acc: 0.4442\n",
      "Epoch 59/150\n",
      "1668/1668 [==============================] - 0s 132us/step - loss: 1.2892 - acc: 0.4556\n",
      "Epoch 60/150\n",
      "1668/1668 [==============================] - 0s 134us/step - loss: 1.2803 - acc: 0.4562\n",
      "Epoch 61/150\n",
      "1668/1668 [==============================] - 0s 133us/step - loss: 1.2754 - acc: 0.4562\n",
      "Epoch 62/150\n",
      "1668/1668 [==============================] - 0s 130us/step - loss: 1.2842 - acc: 0.4562\n",
      "Epoch 63/150\n",
      "1668/1668 [==============================] - 0s 146us/step - loss: 1.2702 - acc: 0.4616\n",
      "Epoch 64/150\n",
      "1668/1668 [==============================] - 0s 109us/step - loss: 1.2718 - acc: 0.4556\n",
      "Epoch 65/150\n",
      "1668/1668 [==============================] - 0s 105us/step - loss: 1.2670 - acc: 0.4568\n",
      "Epoch 66/150\n",
      "1668/1668 [==============================] - 0s 104us/step - loss: 1.2760 - acc: 0.4562\n",
      "Epoch 67/150\n",
      "1668/1668 [==============================] - 0s 107us/step - loss: 1.2696 - acc: 0.4580\n",
      "Epoch 68/150\n",
      "1668/1668 [==============================] - 0s 112us/step - loss: 1.2777 - acc: 0.4634\n",
      "Epoch 69/150\n",
      "1668/1668 [==============================] - 0s 117us/step - loss: 1.2792 - acc: 0.4574\n",
      "Epoch 70/150\n",
      "1668/1668 [==============================] - 0s 112us/step - loss: 1.2743 - acc: 0.4544\n",
      "Epoch 71/150\n",
      "1668/1668 [==============================] - 0s 113us/step - loss: 1.2829 - acc: 0.4442\n",
      "Epoch 72/150\n",
      "1668/1668 [==============================] - 0s 120us/step - loss: 1.2790 - acc: 0.4514\n",
      "Epoch 73/150\n",
      "1668/1668 [==============================] - 0s 122us/step - loss: 1.2659 - acc: 0.4472\n",
      "Epoch 74/150\n",
      "1668/1668 [==============================] - 0s 128us/step - loss: 1.2635 - acc: 0.4562\n",
      "Epoch 75/150\n",
      "1668/1668 [==============================] - 0s 109us/step - loss: 1.2784 - acc: 0.4514\n",
      "Epoch 76/150\n",
      "1668/1668 [==============================] - 0s 103us/step - loss: 1.2637 - acc: 0.4586\n",
      "Epoch 77/150\n",
      "1668/1668 [==============================] - 0s 105us/step - loss: 1.2586 - acc: 0.4646\n",
      "Epoch 78/150\n",
      "1668/1668 [==============================] - 0s 104us/step - loss: 1.2726 - acc: 0.4664\n",
      "Epoch 79/150\n",
      "1668/1668 [==============================] - 0s 104us/step - loss: 1.2657 - acc: 0.4688\n",
      "Epoch 80/150\n",
      "1668/1668 [==============================] - 0s 104us/step - loss: 1.2474 - acc: 0.4622\n",
      "Epoch 81/150\n",
      "1668/1668 [==============================] - 0s 114us/step - loss: 1.2589 - acc: 0.4676\n",
      "Epoch 82/150\n",
      "1668/1668 [==============================] - 0s 115us/step - loss: 1.2460 - acc: 0.4730\n",
      "Epoch 83/150\n",
      "1668/1668 [==============================] - 0s 122us/step - loss: 1.2450 - acc: 0.4688\n",
      "Epoch 84/150\n",
      "1668/1668 [==============================] - 0s 118us/step - loss: 1.2647 - acc: 0.4658\n",
      "Epoch 85/150\n",
      "1668/1668 [==============================] - 0s 101us/step - loss: 1.2494 - acc: 0.4868\n",
      "Epoch 86/150\n",
      "1668/1668 [==============================] - 0s 113us/step - loss: 1.2562 - acc: 0.4694\n",
      "Epoch 87/150\n",
      "1668/1668 [==============================] - 0s 116us/step - loss: 1.2497 - acc: 0.4646\n",
      "Epoch 88/150\n",
      "1668/1668 [==============================] - 0s 128us/step - loss: 1.2473 - acc: 0.4646\n",
      "Epoch 89/150\n",
      "1668/1668 [==============================] - 0s 124us/step - loss: 1.2403 - acc: 0.4622\n",
      "Epoch 90/150\n",
      "1668/1668 [==============================] - 0s 105us/step - loss: 1.2583 - acc: 0.4610\n",
      "Epoch 91/150\n",
      "1668/1668 [==============================] - 0s 105us/step - loss: 1.2450 - acc: 0.4766\n",
      "Epoch 92/150\n",
      "1668/1668 [==============================] - 0s 107us/step - loss: 1.2399 - acc: 0.4856\n",
      "Epoch 93/150\n",
      "1668/1668 [==============================] - 0s 113us/step - loss: 1.2605 - acc: 0.4532\n",
      "Epoch 94/150\n",
      "1668/1668 [==============================] - 0s 107us/step - loss: 1.2350 - acc: 0.4814\n",
      "Epoch 95/150\n",
      "1668/1668 [==============================] - 0s 107us/step - loss: 1.2658 - acc: 0.4586\n",
      "Epoch 96/150\n",
      "1668/1668 [==============================] - 0s 109us/step - loss: 1.2377 - acc: 0.4694\n",
      "Epoch 97/150\n",
      "1668/1668 [==============================] - 0s 122us/step - loss: 1.2534 - acc: 0.4616\n",
      "Epoch 98/150\n",
      "1668/1668 [==============================] - 0s 118us/step - loss: 1.2408 - acc: 0.4688\n",
      "Epoch 99/150\n",
      "1668/1668 [==============================] - 0s 130us/step - loss: 1.2179 - acc: 0.4688\n",
      "Epoch 100/150\n",
      "1668/1668 [==============================] - 0s 116us/step - loss: 1.2243 - acc: 0.4862\n",
      "Epoch 101/150\n",
      "1668/1668 [==============================] - 0s 106us/step - loss: 1.2604 - acc: 0.4706\n",
      "Epoch 102/150\n",
      "1668/1668 [==============================] - 0s 105us/step - loss: 1.2367 - acc: 0.4646\n",
      "Epoch 103/150\n",
      "1668/1668 [==============================] - 0s 104us/step - loss: 1.2251 - acc: 0.4622\n",
      "Epoch 104/150\n",
      "1668/1668 [==============================] - 0s 103us/step - loss: 1.2561 - acc: 0.4622\n",
      "Epoch 105/150\n",
      "1668/1668 [==============================] - 0s 104us/step - loss: 1.2307 - acc: 0.4844\n",
      "Epoch 106/150\n",
      "1668/1668 [==============================] - 0s 108us/step - loss: 1.2625 - acc: 0.4808\n",
      "Epoch 107/150\n",
      "1668/1668 [==============================] - 0s 115us/step - loss: 1.2612 - acc: 0.4598\n",
      "Epoch 108/150\n",
      "1668/1668 [==============================] - 0s 115us/step - loss: 1.2604 - acc: 0.4568\n",
      "Epoch 109/150\n",
      "1668/1668 [==============================] - 0s 109us/step - loss: 1.2425 - acc: 0.4694\n",
      "Epoch 110/150\n",
      "1668/1668 [==============================] - 0s 106us/step - loss: 1.2430 - acc: 0.4616\n",
      "Epoch 111/150\n",
      "1668/1668 [==============================] - 0s 113us/step - loss: 1.2640 - acc: 0.4574\n",
      "Epoch 112/150\n",
      "1668/1668 [==============================] - 0s 117us/step - loss: 1.2434 - acc: 0.4754\n",
      "Epoch 113/150\n",
      "1668/1668 [==============================] - 0s 133us/step - loss: 1.2461 - acc: 0.4706\n",
      "Epoch 114/150\n",
      "1668/1668 [==============================] - 0s 127us/step - loss: 1.2359 - acc: 0.4808\n",
      "Epoch 115/150\n",
      "1668/1668 [==============================] - 0s 129us/step - loss: 1.2408 - acc: 0.4664\n",
      "Epoch 116/150\n",
      "1668/1668 [==============================] - 0s 132us/step - loss: 1.2509 - acc: 0.4700\n",
      "Epoch 117/150\n",
      "1668/1668 [==============================] - 0s 129us/step - loss: 1.2628 - acc: 0.4664\n",
      "Epoch 118/150\n",
      "1668/1668 [==============================] - 0s 132us/step - loss: 1.2369 - acc: 0.4748\n",
      "Epoch 119/150\n",
      "1668/1668 [==============================] - 0s 106us/step - loss: 1.2473 - acc: 0.4718\n",
      "Epoch 120/150\n",
      "1668/1668 [==============================] - 0s 110us/step - loss: 1.2538 - acc: 0.4634\n",
      "Epoch 121/150\n",
      "1668/1668 [==============================] - 0s 121us/step - loss: 1.2545 - acc: 0.4802\n",
      "Epoch 122/150\n",
      "1668/1668 [==============================] - 0s 118us/step - loss: 1.2265 - acc: 0.4784\n",
      "Epoch 123/150\n",
      "1668/1668 [==============================] - 0s 131us/step - loss: 1.2636 - acc: 0.4646\n",
      "Epoch 124/150\n",
      "1668/1668 [==============================] - 0s 130us/step - loss: 1.2584 - acc: 0.4604\n",
      "Epoch 125/150\n",
      "1668/1668 [==============================] - 0s 125us/step - loss: 1.2409 - acc: 0.4754\n",
      "Epoch 126/150\n",
      "1668/1668 [==============================] - 0s 125us/step - loss: 1.2530 - acc: 0.4730\n",
      "Epoch 127/150\n",
      "1668/1668 [==============================] - 0s 128us/step - loss: 1.2549 - acc: 0.4634\n",
      "Epoch 128/150\n",
      "1668/1668 [==============================] - 0s 110us/step - loss: 1.2411 - acc: 0.4676\n",
      "Epoch 129/150\n",
      "1668/1668 [==============================] - 0s 120us/step - loss: 1.2445 - acc: 0.4736\n",
      "Epoch 130/150\n",
      "1668/1668 [==============================] - 0s 116us/step - loss: 1.2500 - acc: 0.4502\n",
      "Epoch 131/150\n",
      "1668/1668 [==============================] - 0s 117us/step - loss: 1.2279 - acc: 0.4844\n",
      "Epoch 132/150\n",
      "1668/1668 [==============================] - 0s 105us/step - loss: 1.2468 - acc: 0.4898\n",
      "Epoch 133/150\n",
      "1668/1668 [==============================] - 0s 102us/step - loss: 1.2454 - acc: 0.4622\n",
      "Epoch 134/150\n",
      "1668/1668 [==============================] - 0s 102us/step - loss: 1.2303 - acc: 0.4748\n",
      "Epoch 135/150\n",
      "1668/1668 [==============================] - 0s 107us/step - loss: 1.2398 - acc: 0.4664\n",
      "Epoch 136/150\n",
      "1668/1668 [==============================] - 0s 116us/step - loss: 1.2448 - acc: 0.4748\n",
      "Epoch 137/150\n",
      "1668/1668 [==============================] - 0s 115us/step - loss: 1.2469 - acc: 0.4694\n",
      "Epoch 138/150\n",
      "1668/1668 [==============================] - 0s 109us/step - loss: 1.2204 - acc: 0.4664\n",
      "Epoch 139/150\n",
      "1668/1668 [==============================] - 0s 106us/step - loss: 1.2436 - acc: 0.4838\n",
      "Epoch 140/150\n",
      "1668/1668 [==============================] - 0s 105us/step - loss: 1.2762 - acc: 0.4664\n",
      "Epoch 141/150\n",
      "1668/1668 [==============================] - 0s 112us/step - loss: 1.2575 - acc: 0.4718\n",
      "Epoch 142/150\n",
      "1668/1668 [==============================] - 0s 116us/step - loss: 1.2402 - acc: 0.4910\n",
      "Epoch 143/150\n",
      "1668/1668 [==============================] - 0s 106us/step - loss: 1.2351 - acc: 0.4736\n",
      "Epoch 144/150\n",
      "1668/1668 [==============================] - 0s 105us/step - loss: 1.2300 - acc: 0.4808\n",
      "Epoch 145/150\n",
      "1668/1668 [==============================] - 0s 108us/step - loss: 1.2312 - acc: 0.4856\n",
      "Epoch 146/150\n",
      "1668/1668 [==============================] - 0s 109us/step - loss: 1.2463 - acc: 0.4874\n",
      "Epoch 147/150\n",
      "1668/1668 [==============================] - 0s 113us/step - loss: 1.2458 - acc: 0.4724\n",
      "Epoch 148/150\n",
      "1668/1668 [==============================] - 0s 111us/step - loss: 1.2118 - acc: 0.4946\n",
      "Epoch 149/150\n",
      "1668/1668 [==============================] - 0s 108us/step - loss: 1.2363 - acc: 0.4874\n",
      "Epoch 150/150\n",
      "1668/1668 [==============================] - 0s 117us/step - loss: 1.2257 - acc: 0.4724\n",
      "Epoch 1/150\n",
      "1668/1668 [==============================] - 2s 1ms/step - loss: 1.6976 - acc: 0.2698\n",
      "Epoch 2/150\n",
      "1668/1668 [==============================] - 0s 133us/step - loss: 1.5376 - acc: 0.3399\n",
      "Epoch 3/150\n",
      "1668/1668 [==============================] - 0s 131us/step - loss: 1.5184 - acc: 0.3621\n",
      "Epoch 4/150\n",
      "1668/1668 [==============================] - 0s 133us/step - loss: 1.4870 - acc: 0.3633\n",
      "Epoch 5/150\n",
      "1668/1668 [==============================] - 0s 133us/step - loss: 1.4774 - acc: 0.3735\n",
      "Epoch 6/150\n",
      "1668/1668 [==============================] - 0s 131us/step - loss: 1.4735 - acc: 0.3771\n",
      "Epoch 7/150\n",
      "1668/1668 [==============================] - 0s 131us/step - loss: 1.4692 - acc: 0.3801\n",
      "Epoch 8/150\n",
      "1668/1668 [==============================] - 0s 131us/step - loss: 1.4151 - acc: 0.3939\n",
      "Epoch 9/150\n",
      "1668/1668 [==============================] - 0s 115us/step - loss: 1.4170 - acc: 0.4005\n",
      "Epoch 10/150\n",
      "1668/1668 [==============================] - 0s 111us/step - loss: 1.4209 - acc: 0.3963\n",
      "Epoch 11/150\n",
      "1668/1668 [==============================] - 0s 116us/step - loss: 1.3989 - acc: 0.4107\n",
      "Epoch 12/150\n",
      "1668/1668 [==============================] - 0s 120us/step - loss: 1.3946 - acc: 0.3957\n",
      "Epoch 13/150\n",
      "1668/1668 [==============================] - 0s 132us/step - loss: 1.3836 - acc: 0.4035\n",
      "Epoch 14/150\n",
      "1668/1668 [==============================] - 0s 135us/step - loss: 1.3768 - acc: 0.4167\n",
      "Epoch 15/150\n",
      "1668/1668 [==============================] - 0s 132us/step - loss: 1.3534 - acc: 0.4436\n",
      "Epoch 16/150\n",
      "1668/1668 [==============================] - 0s 130us/step - loss: 1.3654 - acc: 0.4239\n",
      "Epoch 17/150\n",
      "1668/1668 [==============================] - 0s 111us/step - loss: 1.3534 - acc: 0.4299\n",
      "Epoch 18/150\n",
      "1668/1668 [==============================] - 0s 106us/step - loss: 1.3504 - acc: 0.4275\n",
      "Epoch 19/150\n",
      "1668/1668 [==============================] - 0s 106us/step - loss: 1.3454 - acc: 0.4311\n",
      "Epoch 20/150\n",
      "1668/1668 [==============================] - 0s 110us/step - loss: 1.3240 - acc: 0.4424\n",
      "Epoch 21/150\n",
      "1668/1668 [==============================] - 0s 105us/step - loss: 1.3431 - acc: 0.4412\n",
      "Epoch 22/150\n",
      "1668/1668 [==============================] - 0s 107us/step - loss: 1.3356 - acc: 0.4299\n",
      "Epoch 23/150\n",
      "1668/1668 [==============================] - 0s 107us/step - loss: 1.3235 - acc: 0.4376\n",
      "Epoch 24/150\n",
      "1668/1668 [==============================] - 0s 106us/step - loss: 1.3199 - acc: 0.4454\n",
      "Epoch 25/150\n",
      "1668/1668 [==============================] - 0s 105us/step - loss: 1.3274 - acc: 0.4311\n",
      "Epoch 26/150\n",
      "1668/1668 [==============================] - 0s 119us/step - loss: 1.3236 - acc: 0.4400\n",
      "Epoch 27/150\n",
      "1668/1668 [==============================] - 0s 124us/step - loss: 1.3277 - acc: 0.4371\n",
      "Epoch 28/150\n",
      "1668/1668 [==============================] - 0s 123us/step - loss: 1.3250 - acc: 0.4448\n",
      "Epoch 29/150\n",
      "1668/1668 [==============================] - 0s 130us/step - loss: 1.3119 - acc: 0.4323\n",
      "Epoch 30/150\n",
      "1668/1668 [==============================] - 0s 111us/step - loss: 1.3181 - acc: 0.4424\n",
      "Epoch 31/150\n",
      "1668/1668 [==============================] - 0s 112us/step - loss: 1.3145 - acc: 0.4245\n",
      "Epoch 32/150\n",
      "1668/1668 [==============================] - 0s 120us/step - loss: 1.2972 - acc: 0.4424\n",
      "Epoch 33/150\n",
      "1668/1668 [==============================] - 0s 123us/step - loss: 1.2983 - acc: 0.4388\n",
      "Epoch 34/150\n"
     ]
    },
    {
     "name": "stdout",
     "output_type": "stream",
     "text": [
      "1668/1668 [==============================] - 0s 118us/step - loss: 1.3012 - acc: 0.4466\n",
      "Epoch 35/150\n",
      "1668/1668 [==============================] - 0s 106us/step - loss: 1.2934 - acc: 0.4466\n",
      "Epoch 36/150\n",
      "1668/1668 [==============================] - 0s 115us/step - loss: 1.2796 - acc: 0.4610\n",
      "Epoch 37/150\n",
      "1668/1668 [==============================] - 0s 125us/step - loss: 1.3001 - acc: 0.4526\n",
      "Epoch 38/150\n",
      "1668/1668 [==============================] - 0s 133us/step - loss: 1.2972 - acc: 0.4466\n",
      "Epoch 39/150\n",
      "1668/1668 [==============================] - 0s 131us/step - loss: 1.3052 - acc: 0.4484\n",
      "Epoch 40/150\n",
      "1668/1668 [==============================] - 0s 130us/step - loss: 1.2844 - acc: 0.4664\n",
      "Epoch 41/150\n",
      "1668/1668 [==============================] - 0s 124us/step - loss: 1.2958 - acc: 0.4496\n",
      "Epoch 42/150\n",
      "1668/1668 [==============================] - 0s 109us/step - loss: 1.2930 - acc: 0.4490\n",
      "Epoch 43/150\n",
      "1668/1668 [==============================] - 0s 106us/step - loss: 1.2841 - acc: 0.4430\n",
      "Epoch 44/150\n",
      "1668/1668 [==============================] - 0s 105us/step - loss: 1.2809 - acc: 0.4544\n",
      "Epoch 45/150\n",
      "1668/1668 [==============================] - 0s 107us/step - loss: 1.2872 - acc: 0.4347\n",
      "Epoch 46/150\n",
      "1668/1668 [==============================] - 0s 117us/step - loss: 1.2812 - acc: 0.4580\n",
      "Epoch 47/150\n",
      "1668/1668 [==============================] - 0s 123us/step - loss: 1.2946 - acc: 0.4538\n",
      "Epoch 48/150\n",
      "1668/1668 [==============================] - 0s 123us/step - loss: 1.2938 - acc: 0.4442\n",
      "Epoch 49/150\n",
      "1668/1668 [==============================] - 0s 131us/step - loss: 1.2789 - acc: 0.4568\n",
      "Epoch 50/150\n",
      "1668/1668 [==============================] - 0s 131us/step - loss: 1.2764 - acc: 0.4586\n",
      "Epoch 51/150\n",
      "1668/1668 [==============================] - 0s 116us/step - loss: 1.2760 - acc: 0.4574\n",
      "Epoch 52/150\n",
      "1668/1668 [==============================] - 0s 105us/step - loss: 1.2760 - acc: 0.4610\n",
      "Epoch 53/150\n",
      "1668/1668 [==============================] - 0s 105us/step - loss: 1.2686 - acc: 0.4712\n",
      "Epoch 54/150\n",
      "1668/1668 [==============================] - 0s 111us/step - loss: 1.2817 - acc: 0.4436\n",
      "Epoch 55/150\n",
      "1668/1668 [==============================] - 0s 108us/step - loss: 1.2921 - acc: 0.4544\n",
      "Epoch 56/150\n",
      "1668/1668 [==============================] - 0s 114us/step - loss: 1.2684 - acc: 0.4556\n",
      "Epoch 57/150\n",
      "1668/1668 [==============================] - 0s 109us/step - loss: 1.2695 - acc: 0.4520\n",
      "Epoch 58/150\n",
      "1668/1668 [==============================] - 0s 109us/step - loss: 1.2685 - acc: 0.4616\n",
      "Epoch 59/150\n",
      "1668/1668 [==============================] - 0s 117us/step - loss: 1.2604 - acc: 0.4622\n",
      "Epoch 60/150\n",
      "1668/1668 [==============================] - 0s 120us/step - loss: 1.2576 - acc: 0.4640\n",
      "Epoch 61/150\n",
      "1668/1668 [==============================] - 0s 122us/step - loss: 1.2557 - acc: 0.4772\n",
      "Epoch 62/150\n",
      "1668/1668 [==============================] - 0s 112us/step - loss: 1.2732 - acc: 0.4442\n",
      "Epoch 63/150\n",
      "1668/1668 [==============================] - 0s 120us/step - loss: 1.2712 - acc: 0.4640\n",
      "Epoch 64/150\n",
      "1668/1668 [==============================] - 0s 107us/step - loss: 1.2500 - acc: 0.4712\n",
      "Epoch 65/150\n",
      "1668/1668 [==============================] - 0s 113us/step - loss: 1.2627 - acc: 0.4640\n",
      "Epoch 66/150\n",
      "1668/1668 [==============================] - 0s 110us/step - loss: 1.2729 - acc: 0.4670\n",
      "Epoch 67/150\n",
      "1668/1668 [==============================] - 0s 110us/step - loss: 1.2651 - acc: 0.4676\n",
      "Epoch 68/150\n",
      "1668/1668 [==============================] - 0s 108us/step - loss: 1.2801 - acc: 0.4598\n",
      "Epoch 69/150\n",
      "1668/1668 [==============================] - 0s 112us/step - loss: 1.2849 - acc: 0.4454\n",
      "Epoch 70/150\n",
      "1668/1668 [==============================] - 0s 119us/step - loss: 1.2647 - acc: 0.4664\n",
      "Epoch 71/150\n",
      "1668/1668 [==============================] - 0s 121us/step - loss: 1.2690 - acc: 0.4622\n",
      "Epoch 72/150\n",
      "1668/1668 [==============================] - 0s 126us/step - loss: 1.2648 - acc: 0.4652\n",
      "Epoch 73/150\n",
      "1668/1668 [==============================] - 0s 112us/step - loss: 1.2727 - acc: 0.4610\n",
      "Epoch 74/150\n",
      "1668/1668 [==============================] - 0s 104us/step - loss: 1.2746 - acc: 0.4640\n",
      "Epoch 75/150\n",
      "1668/1668 [==============================] - 0s 109us/step - loss: 1.2607 - acc: 0.4616\n",
      "Epoch 76/150\n",
      "1668/1668 [==============================] - 0s 118us/step - loss: 1.2690 - acc: 0.4598\n",
      "Epoch 77/150\n",
      "1668/1668 [==============================] - 0s 118us/step - loss: 1.2822 - acc: 0.4574\n",
      "Epoch 78/150\n",
      "1668/1668 [==============================] - 0s 106us/step - loss: 1.2655 - acc: 0.4532\n",
      "Epoch 79/150\n",
      "1668/1668 [==============================] - 0s 109us/step - loss: 1.2456 - acc: 0.4736\n",
      "Epoch 80/150\n",
      "1668/1668 [==============================] - 0s 108us/step - loss: 1.2455 - acc: 0.4700\n",
      "Epoch 81/150\n",
      "1668/1668 [==============================] - 0s 119us/step - loss: 1.2522 - acc: 0.4664\n",
      "Epoch 82/150\n",
      "1668/1668 [==============================] - 0s 108us/step - loss: 1.2565 - acc: 0.4706\n",
      "Epoch 83/150\n",
      "1668/1668 [==============================] - 0s 109us/step - loss: 1.2680 - acc: 0.4652\n",
      "Epoch 84/150\n",
      "1668/1668 [==============================] - 0s 117us/step - loss: 1.2545 - acc: 0.4718\n",
      "Epoch 85/150\n",
      "1668/1668 [==============================] - 0s 121us/step - loss: 1.2534 - acc: 0.4646\n",
      "Epoch 86/150\n",
      "1668/1668 [==============================] - 0s 124us/step - loss: 1.2618 - acc: 0.4586\n",
      "Epoch 87/150\n",
      "1668/1668 [==============================] - 0s 106us/step - loss: 1.2732 - acc: 0.4682\n",
      "Epoch 88/150\n",
      "1668/1668 [==============================] - 0s 107us/step - loss: 1.2556 - acc: 0.4700\n",
      "Epoch 89/150\n",
      "1668/1668 [==============================] - 0s 110us/step - loss: 1.2605 - acc: 0.4688\n",
      "Epoch 90/150\n",
      "1668/1668 [==============================] - 0s 106us/step - loss: 1.2388 - acc: 0.4784\n",
      "Epoch 91/150\n",
      "1668/1668 [==============================] - 0s 114us/step - loss: 1.2607 - acc: 0.4670\n",
      "Epoch 92/150\n",
      "1668/1668 [==============================] - 0s 122us/step - loss: 1.2474 - acc: 0.4712\n",
      "Epoch 93/150\n",
      "1668/1668 [==============================] - 0s 120us/step - loss: 1.2631 - acc: 0.4700\n",
      "Epoch 94/150\n",
      "1668/1668 [==============================] - 0s 116us/step - loss: 1.2418 - acc: 0.4844\n",
      "Epoch 95/150\n",
      "1668/1668 [==============================] - 0s 108us/step - loss: 1.2583 - acc: 0.4694\n",
      "Epoch 96/150\n",
      "1668/1668 [==============================] - 0s 108us/step - loss: 1.2434 - acc: 0.4730\n",
      "Epoch 97/150\n",
      "1668/1668 [==============================] - 0s 125us/step - loss: 1.2502 - acc: 0.4700\n",
      "Epoch 98/150\n",
      "1668/1668 [==============================] - 0s 121us/step - loss: 1.2455 - acc: 0.4820\n",
      "Epoch 99/150\n",
      "1668/1668 [==============================] - 0s 141us/step - loss: 1.2687 - acc: 0.4610\n",
      "Epoch 100/150\n",
      "1668/1668 [==============================] - 0s 133us/step - loss: 1.2397 - acc: 0.4742\n",
      "Epoch 101/150\n",
      "1668/1668 [==============================] - 0s 112us/step - loss: 1.2562 - acc: 0.4778\n",
      "Epoch 102/150\n",
      "1668/1668 [==============================] - 0s 121us/step - loss: 1.2603 - acc: 0.4640\n",
      "Epoch 103/150\n",
      "1668/1668 [==============================] - 0s 119us/step - loss: 1.2394 - acc: 0.4916\n",
      "Epoch 104/150\n",
      "1668/1668 [==============================] - 0s 125us/step - loss: 1.2733 - acc: 0.4658\n",
      "Epoch 105/150\n",
      "1668/1668 [==============================] - 0s 106us/step - loss: 1.2336 - acc: 0.4838\n",
      "Epoch 106/150\n",
      "1668/1668 [==============================] - 0s 107us/step - loss: 1.2455 - acc: 0.4706\n",
      "Epoch 107/150\n",
      "1668/1668 [==============================] - 0s 115us/step - loss: 1.2389 - acc: 0.4784\n",
      "Epoch 108/150\n",
      "1668/1668 [==============================] - 0s 108us/step - loss: 1.2313 - acc: 0.4856\n",
      "Epoch 109/150\n",
      "1668/1668 [==============================] - 0s 106us/step - loss: 1.2534 - acc: 0.4634\n",
      "Epoch 110/150\n",
      "1668/1668 [==============================] - 0s 119us/step - loss: 1.2523 - acc: 0.4628\n",
      "Epoch 111/150\n",
      "1668/1668 [==============================] - 0s 121us/step - loss: 1.2491 - acc: 0.4814\n",
      "Epoch 112/150\n",
      "1668/1668 [==============================] - 0s 126us/step - loss: 1.2461 - acc: 0.4658\n",
      "Epoch 113/150\n",
      "1668/1668 [==============================] - 0s 133us/step - loss: 1.2398 - acc: 0.4724\n",
      "Epoch 114/150\n",
      "1668/1668 [==============================] - 0s 119us/step - loss: 1.2451 - acc: 0.4766\n",
      "Epoch 115/150\n"
     ]
    },
    {
     "name": "stdout",
     "output_type": "stream",
     "text": [
      "1668/1668 [==============================] - 0s 110us/step - loss: 1.2362 - acc: 0.4820\n",
      "Epoch 116/150\n",
      "1668/1668 [==============================] - 0s 115us/step - loss: 1.2388 - acc: 0.4892\n",
      "Epoch 117/150\n",
      "1668/1668 [==============================] - 0s 111us/step - loss: 1.2459 - acc: 0.4682\n",
      "Epoch 118/150\n",
      "1668/1668 [==============================] - 0s 107us/step - loss: 1.2462 - acc: 0.4694\n",
      "Epoch 119/150\n",
      "1668/1668 [==============================] - 0s 119us/step - loss: 1.2475 - acc: 0.4796\n",
      "Epoch 120/150\n",
      "1668/1668 [==============================] - 0s 118us/step - loss: 1.2338 - acc: 0.4946\n",
      "Epoch 121/150\n",
      "1668/1668 [==============================] - 0s 106us/step - loss: 1.2415 - acc: 0.4838\n",
      "Epoch 122/150\n",
      "1668/1668 [==============================] - 0s 108us/step - loss: 1.2275 - acc: 0.4796\n",
      "Epoch 123/150\n",
      "1668/1668 [==============================] - 0s 120us/step - loss: 1.2384 - acc: 0.4712\n",
      "Epoch 124/150\n",
      "1668/1668 [==============================] - 0s 111us/step - loss: 1.2355 - acc: 0.4826\n",
      "Epoch 125/150\n",
      "1668/1668 [==============================] - 0s 106us/step - loss: 1.2494 - acc: 0.4622\n",
      "Epoch 126/150\n",
      "1668/1668 [==============================] - 0s 117us/step - loss: 1.2465 - acc: 0.4676\n",
      "Epoch 127/150\n",
      "1668/1668 [==============================] - 0s 119us/step - loss: 1.2325 - acc: 0.4712\n",
      "Epoch 128/150\n",
      "1668/1668 [==============================] - 0s 130us/step - loss: 1.2512 - acc: 0.4586\n",
      "Epoch 129/150\n",
      "1668/1668 [==============================] - 0s 133us/step - loss: 1.2365 - acc: 0.4748\n",
      "Epoch 130/150\n",
      "1668/1668 [==============================] - 0s 132us/step - loss: 1.2388 - acc: 0.4814\n",
      "Epoch 131/150\n",
      "1668/1668 [==============================] - 0s 109us/step - loss: 1.2487 - acc: 0.4706\n",
      "Epoch 132/150\n",
      "1668/1668 [==============================] - 0s 107us/step - loss: 1.2650 - acc: 0.4484\n",
      "Epoch 133/150\n",
      "1668/1668 [==============================] - 0s 109us/step - loss: 1.2374 - acc: 0.4676\n",
      "Epoch 134/150\n",
      "1668/1668 [==============================] - 0s 119us/step - loss: 1.2387 - acc: 0.4634\n",
      "Epoch 135/150\n",
      "1668/1668 [==============================] - 0s 120us/step - loss: 1.2492 - acc: 0.4706\n",
      "Epoch 136/150\n",
      "1668/1668 [==============================] - 0s 128us/step - loss: 1.2299 - acc: 0.4838\n",
      "Epoch 137/150\n",
      "1668/1668 [==============================] - 0s 131us/step - loss: 1.2283 - acc: 0.4826\n",
      "Epoch 138/150\n",
      "1668/1668 [==============================] - 0s 133us/step - loss: 1.2462 - acc: 0.4538\n",
      "Epoch 139/150\n",
      "1668/1668 [==============================] - 0s 131us/step - loss: 1.2196 - acc: 0.4730\n",
      "Epoch 140/150\n",
      "1668/1668 [==============================] - 0s 137us/step - loss: 1.2471 - acc: 0.4808\n",
      "Epoch 141/150\n",
      "1668/1668 [==============================] - 0s 119us/step - loss: 1.2430 - acc: 0.4784\n",
      "Epoch 142/150\n",
      "1668/1668 [==============================] - 0s 107us/step - loss: 1.2290 - acc: 0.4784\n",
      "Epoch 143/150\n",
      "1668/1668 [==============================] - 0s 111us/step - loss: 1.2446 - acc: 0.4652\n",
      "Epoch 144/150\n",
      "1668/1668 [==============================] - 0s 106us/step - loss: 1.2439 - acc: 0.4688\n",
      "Epoch 145/150\n",
      "1668/1668 [==============================] - 0s 109us/step - loss: 1.2311 - acc: 0.4730\n",
      "Epoch 146/150\n",
      "1668/1668 [==============================] - 0s 117us/step - loss: 1.2354 - acc: 0.4820\n",
      "Epoch 147/150\n",
      "1668/1668 [==============================] - 0s 110us/step - loss: 1.2438 - acc: 0.4730\n",
      "Epoch 148/150\n",
      "1668/1668 [==============================] - 0s 107us/step - loss: 1.2277 - acc: 0.4826\n",
      "Epoch 149/150\n",
      "1668/1668 [==============================] - 0s 111us/step - loss: 1.2219 - acc: 0.4826\n",
      "Epoch 150/150\n",
      "1668/1668 [==============================] - 0s 122us/step - loss: 1.2131 - acc: 0.4814\n",
      "Epoch 1/150\n",
      "1668/1668 [==============================] - 2s 1ms/step - loss: 1.6939 - acc: 0.2530\n",
      "Epoch 2/150\n",
      "1668/1668 [==============================] - 0s 134us/step - loss: 1.5611 - acc: 0.3363\n",
      "Epoch 3/150\n",
      "1668/1668 [==============================] - 0s 140us/step - loss: 1.5041 - acc: 0.3537\n",
      "Epoch 4/150\n",
      "1668/1668 [==============================] - 0s 108us/step - loss: 1.5041 - acc: 0.3543\n",
      "Epoch 5/150\n",
      "1668/1668 [==============================] - 0s 105us/step - loss: 1.4926 - acc: 0.3585\n",
      "Epoch 6/150\n",
      "1668/1668 [==============================] - 0s 107us/step - loss: 1.4461 - acc: 0.3777\n",
      "Epoch 7/150\n",
      "1668/1668 [==============================] - 0s 110us/step - loss: 1.4494 - acc: 0.4041\n",
      "Epoch 8/150\n",
      "1668/1668 [==============================] - 0s 117us/step - loss: 1.4319 - acc: 0.3933\n",
      "Epoch 9/150\n",
      "1668/1668 [==============================] - 0s 121us/step - loss: 1.4112 - acc: 0.3951\n",
      "Epoch 10/150\n",
      "1668/1668 [==============================] - 0s 106us/step - loss: 1.4073 - acc: 0.3975\n",
      "Epoch 11/150\n",
      "1668/1668 [==============================] - 0s 107us/step - loss: 1.3790 - acc: 0.4113\n",
      "Epoch 12/150\n",
      "1668/1668 [==============================] - 0s 109us/step - loss: 1.3738 - acc: 0.4071\n",
      "Epoch 13/150\n",
      "1668/1668 [==============================] - 0s 107us/step - loss: 1.3848 - acc: 0.4059\n",
      "Epoch 14/150\n",
      "1668/1668 [==============================] - 0s 110us/step - loss: 1.3727 - acc: 0.4059\n",
      "Epoch 15/150\n",
      "1668/1668 [==============================] - 0s 119us/step - loss: 1.3695 - acc: 0.4257\n",
      "Epoch 16/150\n",
      "1668/1668 [==============================] - 0s 121us/step - loss: 1.3682 - acc: 0.4137\n",
      "Epoch 17/150\n",
      "1668/1668 [==============================] - 0s 124us/step - loss: 1.3619 - acc: 0.4359\n",
      "Epoch 18/150\n",
      "1668/1668 [==============================] - 0s 119us/step - loss: 1.3480 - acc: 0.4329\n",
      "Epoch 19/150\n",
      "1668/1668 [==============================] - 0s 106us/step - loss: 1.3559 - acc: 0.4293\n",
      "Epoch 20/150\n",
      "1668/1668 [==============================] - 0s 112us/step - loss: 1.3323 - acc: 0.4412\n",
      "Epoch 21/150\n",
      "1668/1668 [==============================] - 0s 114us/step - loss: 1.3586 - acc: 0.4365\n",
      "Epoch 22/150\n",
      "1668/1668 [==============================] - 0s 121us/step - loss: 1.3439 - acc: 0.4269\n",
      "Epoch 23/150\n",
      "1668/1668 [==============================] - 0s 121us/step - loss: 1.3504 - acc: 0.4233\n",
      "Epoch 24/150\n",
      "1668/1668 [==============================] - 0s 126us/step - loss: 1.3479 - acc: 0.4245\n",
      "Epoch 25/150\n",
      "1668/1668 [==============================] - 0s 126us/step - loss: 1.3250 - acc: 0.4514\n",
      "Epoch 26/150\n",
      "1668/1668 [==============================] - 0s 128us/step - loss: 1.3495 - acc: 0.4293\n",
      "Epoch 27/150\n",
      "1668/1668 [==============================] - 0s 129us/step - loss: 1.3359 - acc: 0.4359\n",
      "Epoch 28/150\n",
      "1668/1668 [==============================] - 0s 126us/step - loss: 1.3231 - acc: 0.4436\n",
      "Epoch 29/150\n",
      "1668/1668 [==============================] - 0s 123us/step - loss: 1.3157 - acc: 0.4394\n",
      "Epoch 30/150\n",
      "1668/1668 [==============================] - 0s 126us/step - loss: 1.3172 - acc: 0.4448\n",
      "Epoch 31/150\n",
      "1668/1668 [==============================] - 0s 126us/step - loss: 1.3099 - acc: 0.4371\n",
      "Epoch 32/150\n",
      "1668/1668 [==============================] - 0s 124us/step - loss: 1.3234 - acc: 0.4353\n",
      "Epoch 33/150\n",
      "1668/1668 [==============================] - 0s 127us/step - loss: 1.3068 - acc: 0.4580\n",
      "Epoch 34/150\n",
      "1668/1668 [==============================] - 0s 113us/step - loss: 1.3289 - acc: 0.4365\n",
      "Epoch 35/150\n",
      "1668/1668 [==============================] - 0s 113us/step - loss: 1.3105 - acc: 0.4484\n",
      "Epoch 36/150\n",
      "1668/1668 [==============================] - 0s 122us/step - loss: 1.3273 - acc: 0.4353\n",
      "Epoch 37/150\n",
      "1668/1668 [==============================] - 0s 121us/step - loss: 1.3227 - acc: 0.4359\n",
      "Epoch 38/150\n",
      "1668/1668 [==============================] - 0s 116us/step - loss: 1.3137 - acc: 0.4382\n",
      "Epoch 39/150\n",
      "1668/1668 [==============================] - 0s 108us/step - loss: 1.3147 - acc: 0.4388\n",
      "Epoch 40/150\n",
      "1668/1668 [==============================] - 0s 115us/step - loss: 1.3110 - acc: 0.4323\n",
      "Epoch 41/150\n",
      "1668/1668 [==============================] - 0s 123us/step - loss: 1.3027 - acc: 0.4424\n",
      "Epoch 42/150\n",
      "1668/1668 [==============================] - 0s 126us/step - loss: 1.3154 - acc: 0.4496\n",
      "Epoch 43/150\n",
      "1668/1668 [==============================] - 0s 128us/step - loss: 1.3069 - acc: 0.4365\n",
      "Epoch 44/150\n",
      "1668/1668 [==============================] - 0s 131us/step - loss: 1.3187 - acc: 0.4359\n",
      "Epoch 45/150\n",
      "1668/1668 [==============================] - 0s 126us/step - loss: 1.2995 - acc: 0.4580\n",
      "Epoch 46/150\n"
     ]
    },
    {
     "name": "stdout",
     "output_type": "stream",
     "text": [
      "1668/1668 [==============================] - 0s 128us/step - loss: 1.3091 - acc: 0.4460\n",
      "Epoch 47/150\n",
      "1668/1668 [==============================] - 0s 117us/step - loss: 1.2921 - acc: 0.4496\n",
      "Epoch 48/150\n",
      "1668/1668 [==============================] - 0s 129us/step - loss: 1.2966 - acc: 0.4394\n",
      "Epoch 49/150\n",
      "1668/1668 [==============================] - 0s 114us/step - loss: 1.3069 - acc: 0.4454\n",
      "Epoch 50/150\n",
      "1668/1668 [==============================] - 0s 118us/step - loss: 1.3099 - acc: 0.4514\n",
      "Epoch 51/150\n",
      "1668/1668 [==============================] - 0s 121us/step - loss: 1.2923 - acc: 0.4365\n",
      "Epoch 52/150\n",
      "1668/1668 [==============================] - 0s 118us/step - loss: 1.3058 - acc: 0.4430\n",
      "Epoch 53/150\n",
      "1668/1668 [==============================] - 0s 119us/step - loss: 1.3002 - acc: 0.4323\n",
      "Epoch 54/150\n",
      "1668/1668 [==============================] - 0s 120us/step - loss: 1.2800 - acc: 0.4514\n",
      "Epoch 55/150\n",
      "1668/1668 [==============================] - 0s 124us/step - loss: 1.2885 - acc: 0.4604\n",
      "Epoch 56/150\n",
      "1668/1668 [==============================] - 0s 117us/step - loss: 1.2876 - acc: 0.4676\n",
      "Epoch 57/150\n",
      "1668/1668 [==============================] - 0s 122us/step - loss: 1.2878 - acc: 0.4544\n",
      "Epoch 58/150\n",
      "1668/1668 [==============================] - 0s 123us/step - loss: 1.2807 - acc: 0.4466\n",
      "Epoch 59/150\n",
      "1668/1668 [==============================] - 0s 123us/step - loss: 1.2874 - acc: 0.4556\n",
      "Epoch 60/150\n",
      "1668/1668 [==============================] - 0s 127us/step - loss: 1.2834 - acc: 0.4550\n",
      "Epoch 61/150\n",
      "1668/1668 [==============================] - 0s 120us/step - loss: 1.2797 - acc: 0.4622\n",
      "Epoch 62/150\n",
      "1668/1668 [==============================] - 0s 119us/step - loss: 1.2888 - acc: 0.4616\n",
      "Epoch 63/150\n",
      "1668/1668 [==============================] - 0s 121us/step - loss: 1.2776 - acc: 0.4670\n",
      "Epoch 64/150\n",
      "1668/1668 [==============================] - 0s 119us/step - loss: 1.2746 - acc: 0.4688\n",
      "Epoch 65/150\n",
      "1668/1668 [==============================] - 0s 120us/step - loss: 1.2780 - acc: 0.4544\n",
      "Epoch 66/150\n",
      "1668/1668 [==============================] - 0s 123us/step - loss: 1.2637 - acc: 0.4664\n",
      "Epoch 67/150\n",
      "1668/1668 [==============================] - 0s 119us/step - loss: 1.2612 - acc: 0.4712\n",
      "Epoch 68/150\n",
      "1668/1668 [==============================] - 0s 122us/step - loss: 1.2787 - acc: 0.4484\n",
      "Epoch 69/150\n",
      "1668/1668 [==============================] - 0s 123us/step - loss: 1.2763 - acc: 0.4562\n",
      "Epoch 70/150\n",
      "1668/1668 [==============================] - 0s 126us/step - loss: 1.2678 - acc: 0.4604\n",
      "Epoch 71/150\n",
      "1668/1668 [==============================] - 0s 117us/step - loss: 1.2715 - acc: 0.4556\n",
      "Epoch 72/150\n",
      "1668/1668 [==============================] - 0s 123us/step - loss: 1.2664 - acc: 0.4616\n",
      "Epoch 73/150\n",
      "1668/1668 [==============================] - 0s 119us/step - loss: 1.2538 - acc: 0.4700\n",
      "Epoch 74/150\n",
      "1668/1668 [==============================] - 0s 121us/step - loss: 1.2664 - acc: 0.4658\n",
      "Epoch 75/150\n",
      "1668/1668 [==============================] - 0s 118us/step - loss: 1.2572 - acc: 0.4724\n",
      "Epoch 76/150\n",
      "1668/1668 [==============================] - 0s 124us/step - loss: 1.2612 - acc: 0.4706\n",
      "Epoch 77/150\n",
      "1668/1668 [==============================] - 0s 122us/step - loss: 1.2487 - acc: 0.4754\n",
      "Epoch 78/150\n",
      "1668/1668 [==============================] - 0s 127us/step - loss: 1.2522 - acc: 0.4724\n",
      "Epoch 79/150\n",
      "1668/1668 [==============================] - 0s 121us/step - loss: 1.2547 - acc: 0.4640\n",
      "Epoch 80/150\n",
      "1668/1668 [==============================] - 0s 125us/step - loss: 1.2603 - acc: 0.4610\n",
      "Epoch 81/150\n",
      "1668/1668 [==============================] - 0s 119us/step - loss: 1.2702 - acc: 0.4670\n",
      "Epoch 82/150\n",
      "1668/1668 [==============================] - 0s 117us/step - loss: 1.2555 - acc: 0.4736\n",
      "Epoch 83/150\n",
      "1668/1668 [==============================] - 0s 116us/step - loss: 1.2419 - acc: 0.4748\n",
      "Epoch 84/150\n",
      "1668/1668 [==============================] - 0s 134us/step - loss: 1.2748 - acc: 0.4694\n",
      "Epoch 85/150\n",
      "1668/1668 [==============================] - 0s 112us/step - loss: 1.2582 - acc: 0.4694\n",
      "Epoch 86/150\n",
      "1668/1668 [==============================] - 0s 110us/step - loss: 1.2738 - acc: 0.4646\n",
      "Epoch 87/150\n",
      "1668/1668 [==============================] - 0s 113us/step - loss: 1.2651 - acc: 0.4610\n",
      "Epoch 88/150\n",
      "1668/1668 [==============================] - 0s 122us/step - loss: 1.2610 - acc: 0.4550\n",
      "Epoch 89/150\n",
      "1668/1668 [==============================] - 0s 120us/step - loss: 1.2584 - acc: 0.4628\n",
      "Epoch 90/150\n",
      "1668/1668 [==============================] - 0s 123us/step - loss: 1.2623 - acc: 0.4586\n",
      "Epoch 91/150\n",
      "1668/1668 [==============================] - 0s 124us/step - loss: 1.2550 - acc: 0.4616\n",
      "Epoch 92/150\n",
      "1668/1668 [==============================] - 0s 123us/step - loss: 1.2468 - acc: 0.4784\n",
      "Epoch 93/150\n",
      "1668/1668 [==============================] - 0s 122us/step - loss: 1.2394 - acc: 0.4700\n",
      "Epoch 94/150\n",
      "1668/1668 [==============================] - 0s 128us/step - loss: 1.2600 - acc: 0.4676\n",
      "Epoch 95/150\n",
      "1668/1668 [==============================] - 0s 124us/step - loss: 1.2666 - acc: 0.4748\n",
      "Epoch 96/150\n",
      "1668/1668 [==============================] - 0s 125us/step - loss: 1.2508 - acc: 0.4700\n",
      "Epoch 97/150\n",
      "1668/1668 [==============================] - 0s 125us/step - loss: 1.2463 - acc: 0.4718\n",
      "Epoch 98/150\n",
      "1668/1668 [==============================] - 0s 124us/step - loss: 1.2448 - acc: 0.4682\n",
      "Epoch 99/150\n",
      "1668/1668 [==============================] - 0s 123us/step - loss: 1.2535 - acc: 0.4694\n",
      "Epoch 100/150\n",
      "1668/1668 [==============================] - 0s 126us/step - loss: 1.2378 - acc: 0.4688\n",
      "Epoch 101/150\n",
      "1668/1668 [==============================] - 0s 124us/step - loss: 1.2679 - acc: 0.4670\n",
      "Epoch 102/150\n",
      "1668/1668 [==============================] - 0s 118us/step - loss: 1.2688 - acc: 0.4592\n",
      "Epoch 103/150\n",
      "1668/1668 [==============================] - 0s 121us/step - loss: 1.2432 - acc: 0.4760\n",
      "Epoch 104/150\n",
      "1668/1668 [==============================] - 0s 122us/step - loss: 1.2365 - acc: 0.4748\n",
      "Epoch 105/150\n",
      "1668/1668 [==============================] - 0s 127us/step - loss: 1.2360 - acc: 0.4628\n",
      "Epoch 106/150\n",
      "1668/1668 [==============================] - 0s 127us/step - loss: 1.2530 - acc: 0.4700\n",
      "Epoch 107/150\n",
      "1668/1668 [==============================] - 0s 129us/step - loss: 1.2398 - acc: 0.4688\n",
      "Epoch 108/150\n",
      "1668/1668 [==============================] - 0s 126us/step - loss: 1.2342 - acc: 0.4736\n",
      "Epoch 109/150\n",
      "1668/1668 [==============================] - 0s 124us/step - loss: 1.2543 - acc: 0.4718\n",
      "Epoch 110/150\n",
      "1668/1668 [==============================] - 0s 111us/step - loss: 1.2343 - acc: 0.4784\n",
      "Epoch 111/150\n",
      "1668/1668 [==============================] - 0s 114us/step - loss: 1.2405 - acc: 0.4598\n",
      "Epoch 112/150\n",
      "1668/1668 [==============================] - 0s 124us/step - loss: 1.2309 - acc: 0.4688\n",
      "Epoch 113/150\n",
      "1668/1668 [==============================] - 0s 120us/step - loss: 1.2401 - acc: 0.4850\n",
      "Epoch 114/150\n",
      "1668/1668 [==============================] - 0s 125us/step - loss: 1.2386 - acc: 0.4778\n",
      "Epoch 115/150\n",
      "1668/1668 [==============================] - 0s 130us/step - loss: 1.2194 - acc: 0.4964\n",
      "Epoch 116/150\n",
      "1668/1668 [==============================] - 0s 127us/step - loss: 1.2242 - acc: 0.4748\n",
      "Epoch 117/150\n",
      "1668/1668 [==============================] - 0s 124us/step - loss: 1.2449 - acc: 0.4712\n",
      "Epoch 118/150\n",
      "1668/1668 [==============================] - 0s 127us/step - loss: 1.2397 - acc: 0.4724\n",
      "Epoch 119/150\n",
      "1668/1668 [==============================] - 0s 125us/step - loss: 1.2281 - acc: 0.4712\n",
      "Epoch 120/150\n",
      "1668/1668 [==============================] - 0s 125us/step - loss: 1.2274 - acc: 0.4940\n",
      "Epoch 121/150\n",
      "1668/1668 [==============================] - 0s 116us/step - loss: 1.2409 - acc: 0.4868\n",
      "Epoch 122/150\n",
      "1668/1668 [==============================] - 0s 112us/step - loss: 1.2330 - acc: 0.4808\n",
      "Epoch 123/150\n",
      "1668/1668 [==============================] - 0s 125us/step - loss: 1.2265 - acc: 0.4838\n",
      "Epoch 124/150\n",
      "1668/1668 [==============================] - 0s 118us/step - loss: 1.2312 - acc: 0.4736\n",
      "Epoch 125/150\n",
      "1668/1668 [==============================] - 0s 122us/step - loss: 1.2388 - acc: 0.4790\n",
      "Epoch 126/150\n",
      "1668/1668 [==============================] - 0s 128us/step - loss: 1.2476 - acc: 0.4814\n"
     ]
    },
    {
     "name": "stdout",
     "output_type": "stream",
     "text": [
      "Epoch 127/150\n",
      "1668/1668 [==============================] - 0s 117us/step - loss: 1.2240 - acc: 0.4736\n",
      "Epoch 128/150\n",
      "1668/1668 [==============================] - 0s 114us/step - loss: 1.2326 - acc: 0.4688\n",
      "Epoch 129/150\n",
      "1668/1668 [==============================] - 0s 119us/step - loss: 1.2140 - acc: 0.4982\n",
      "Epoch 130/150\n",
      "1668/1668 [==============================] - 0s 113us/step - loss: 1.2252 - acc: 0.4730\n",
      "Epoch 131/150\n",
      "1668/1668 [==============================] - 0s 111us/step - loss: 1.2169 - acc: 0.4952\n",
      "Epoch 132/150\n",
      "1668/1668 [==============================] - 0s 118us/step - loss: 1.2183 - acc: 0.4802\n",
      "Epoch 133/150\n",
      "1668/1668 [==============================] - 0s 121us/step - loss: 1.2155 - acc: 0.4784\n",
      "Epoch 134/150\n",
      "1668/1668 [==============================] - 0s 118us/step - loss: 1.2251 - acc: 0.4694\n",
      "Epoch 135/150\n",
      "1668/1668 [==============================] - 0s 116us/step - loss: 1.2262 - acc: 0.4832\n",
      "Epoch 136/150\n",
      "1668/1668 [==============================] - 0s 117us/step - loss: 1.2133 - acc: 0.4850\n",
      "Epoch 137/150\n",
      "1668/1668 [==============================] - 0s 118us/step - loss: 1.2322 - acc: 0.4658\n",
      "Epoch 138/150\n",
      "1668/1668 [==============================] - 0s 119us/step - loss: 1.2381 - acc: 0.4844\n",
      "Epoch 139/150\n",
      "1668/1668 [==============================] - 0s 115us/step - loss: 1.2345 - acc: 0.4778\n",
      "Epoch 140/150\n",
      "1668/1668 [==============================] - 0s 120us/step - loss: 1.2308 - acc: 0.4754\n",
      "Epoch 141/150\n",
      "1668/1668 [==============================] - 0s 121us/step - loss: 1.2212 - acc: 0.4796\n",
      "Epoch 142/150\n",
      "1668/1668 [==============================] - 0s 119us/step - loss: 1.2291 - acc: 0.4772\n",
      "Epoch 143/150\n",
      "1668/1668 [==============================] - 0s 119us/step - loss: 1.2264 - acc: 0.4784\n",
      "Epoch 144/150\n",
      "1668/1668 [==============================] - 0s 118us/step - loss: 1.2252 - acc: 0.4784\n",
      "Epoch 145/150\n",
      "1668/1668 [==============================] - 0s 124us/step - loss: 1.2479 - acc: 0.4718\n",
      "Epoch 146/150\n",
      "1668/1668 [==============================] - 0s 128us/step - loss: 1.2178 - acc: 0.4832\n",
      "Epoch 147/150\n",
      "1668/1668 [==============================] - 0s 128us/step - loss: 1.2293 - acc: 0.4784\n",
      "Epoch 148/150\n",
      "1668/1668 [==============================] - 0s 128us/step - loss: 1.2189 - acc: 0.4814\n",
      "Epoch 149/150\n",
      "1668/1668 [==============================] - 0s 126us/step - loss: 1.2386 - acc: 0.4748\n",
      "Epoch 150/150\n",
      "1668/1668 [==============================] - 0s 115us/step - loss: 1.2157 - acc: 0.4904\n"
     ]
    },
    {
     "data": {
      "text/plain": [
       "VotingClassifier(estimators=[('model1', <keras.wrappers.scikit_learn.KerasClassifier object at 0x12a3c2320>), ('model2', <keras.wrappers.scikit_learn.KerasClassifier object at 0x12a3c2518>), ('model3', <keras.wrappers.scikit_learn.KerasClassifier object at 0x12a3c26a0>), ('model4', <keras.wrappers.scikit_learn.KerasClassifier object at 0x12a3c2278>), ('model5', <keras.wrappers.scikit_learn.KerasClassifier object at 0x12a3c2390>)],\n",
       "         n_jobs=1, voting='soft', weights=None)"
      ]
     },
     "execution_count": 37,
     "metadata": {},
     "output_type": "execute_result"
    }
   ],
   "source": [
    "ensemble_clf.fit(np.array(X_train_c), np.array(Y_train_c))"
   ]
  },
  {
   "cell_type": "code",
   "execution_count": 38,
   "metadata": {},
   "outputs": [
    {
     "name": "stderr",
     "output_type": "stream",
     "text": [
      "/Users/paul.pop/anaconda3/lib/python3.6/site-packages/sklearn/preprocessing/label.py:171: DeprecationWarning: The truth value of an empty array is ambiguous. Returning False, but in future this will result in an error. Use `array.size > 0` to check that an array is not empty.\n",
      "  if diff:\n"
     ]
    }
   ],
   "source": [
    "Y_pred = ensemble_clf.predict(np.array(X_test_c))"
   ]
  },
  {
   "cell_type": "code",
   "execution_count": 39,
   "metadata": {},
   "outputs": [
    {
     "name": "stderr",
     "output_type": "stream",
     "text": [
      "/Users/paul.pop/anaconda3/lib/python3.6/site-packages/sklearn/metrics/classification.py:1113: UndefinedMetricWarning: Precision and F-score are ill-defined and being set to 0.0 in labels with no predicted samples.\n",
      "  'precision', 'predicted', average, warn_for)\n"
     ]
    },
    {
     "name": "stdout",
     "output_type": "stream",
     "text": [
      "             precision    recall  f1-score   support\n",
      "\n",
      "    6months       0.26      0.12      0.16        76\n",
      "    1.2year       0.34      0.71      0.46        99\n",
      "     2years       0.00      0.00      0.00        65\n",
      "     3years       0.43      0.42      0.42        57\n",
      "       more       0.66      0.65      0.66       121\n",
      "\n",
      "avg / total       0.38      0.44      0.39       418\n",
      "\n",
      "Accuracy: 0.4354066985645933\n"
     ]
    },
    {
     "data": {
      "image/png": "[encoded data removed]",
      "text/plain": [
       "<matplotlib.figure.Figure at 0x12a32e630>"
      ]
     },
     "metadata": {},
     "output_type": "display_data"
    }
   ],
   "source": [
    "ICM_utils.plot_report(Y_test_c, Y_pred, labels)"
   ]
  },
  {
   "cell_type": "markdown",
   "metadata": {},
   "source": [
    "# Regression"
   ]
  },
  {
   "cell_type": "markdown",
   "metadata": {},
   "source": [
    "## Benchmark"
   ]
  },
  {
   "cell_type": "code",
   "execution_count": 40,
   "metadata": {
    "collapsed": true
   },
   "outputs": [],
   "source": [
    "def test_kfolds(regressor, x, y, kfolds = [5]):\n",
    "    for k_folds in kfolds:\n",
    "        # evaluate model with standardized dataset\n",
    "        np.random.seed(182)\n",
    "        estimators = []\n",
    "        #estimators.append(('standardize', StandardScaler()))\n",
    "        estimators.append(('mlp', regressor))\n",
    "        pipeline = Pipeline(estimators)\n",
    "        kfold = KFold(n=X.shape[0], n_folds=k_folds)\n",
    "        results = cross_val_score(pipeline, x, y, cv=kfold)\n",
    "        print(\"K_folds {}: \\nMean {} \\nStd {}\".format(k_folds, results.mean(), results.std()))"
   ]
  },
  {
   "cell_type": "code",
   "execution_count": 41,
   "metadata": {
    "collapsed": true
   },
   "outputs": [],
   "source": [
    "# Need full dataset for cross validation\n",
    "X = df.copy(deep=True)\n",
    "\n",
    "Y = np.array(X['life_expectancy'])\n",
    "# remove columns\n",
    "X.drop('life_expectancy', axis = 1, inplace=True)\n",
    "X.drop('life_expectancy_bin', axis = 1, inplace=True)\n",
    "\n",
    "X = np.array(X)"
   ]
  },
  {
   "cell_type": "code",
   "execution_count": 42,
   "metadata": {
    "collapsed": true
   },
   "outputs": [],
   "source": [
    "# define base model\n",
    "def baseline_model():\n",
    "    # create model\n",
    "    model = Sequential()\n",
    "    model.add(Dense(13, input_dim=54, kernel_initializer='normal', activation='relu'))\n",
    "    model.add(Dense(1, kernel_initializer='normal'))\n",
    "    # Compile model\n",
    "    model.compile(loss='mean_squared_error', optimizer='adam', metrics=[metrics.MAPE,\n",
    "                                                                        metrics.MSLE,\n",
    "                                                                        metrics.MAE])\n",
    "    return model"
   ]
  },
  {
   "cell_type": "code",
   "execution_count": 43,
   "metadata": {
    "collapsed": true
   },
   "outputs": [],
   "source": [
    "bm = baseline_model()\n",
    "hist = bm.fit(np.array(X_train_r), np.array(Y_train_r), \n",
    "                 epochs=600, batch_size=128,  verbose=0, validation_split=0.3)"
   ]
  },
  {
   "cell_type": "code",
   "execution_count": 44,
   "metadata": {
    "scrolled": false
   },
   "outputs": [
    {
     "data": {
      "image/png": "[encoded data removed]",
      "text/plain": [
       "<matplotlib.figure.Figure at 0x130d7f390>"
      ]
     },
     "metadata": {},
     "output_type": "display_data"
    },
    {
     "data": {
      "image/png": "[encoded data removed]",
      "text/plain": [
       "<matplotlib.figure.Figure at 0x1209d4c88>"
      ]
     },
     "metadata": {},
     "output_type": "display_data"
    },
    {
     "data": {
      "image/png": "[encoded data removed]",
      "text/plain": [
       "<matplotlib.figure.Figure at 0x1209f1390>"
      ]
     },
     "metadata": {},
     "output_type": "display_data"
    },
    {
     "data": {
      "image/png": "[encoded data removed]",
      "text/plain": [
       "<matplotlib.figure.Figure at 0x1209f1c50>"
      ]
     },
     "metadata": {},
     "output_type": "display_data"
    }
   ],
   "source": [
    "ICM_utils.plot_hist(hist)"
   ]
  },
  {
   "cell_type": "code",
   "execution_count": 45,
   "metadata": {},
   "outputs": [
    {
     "name": "stdout",
     "output_type": "stream",
     "text": [
      "K_folds 5: \n",
      "Mean -3074743.3380398555 \n",
      "Std 2122300.58761617\n"
     ]
    }
   ],
   "source": [
    "test_kfolds(KerasRegressor(build_fn=baseline_model, nb_epoch=150, batch_size=128, verbose=0), X, Y)"
   ]
  },
  {
   "cell_type": "code",
   "execution_count": 46,
   "metadata": {},
   "outputs": [
    {
     "name": "stdout",
     "output_type": "stream",
     "text": [
      "418/418 [==============================] - 0s 34us/step\n"
     ]
    },
    {
     "data": {
      "text/plain": [
       "[1565975.0716208133, 245.3588148326965, 2.6407378016922034, 797.5153361781362]"
      ]
     },
     "execution_count": 46,
     "metadata": {},
     "output_type": "execute_result"
    }
   ],
   "source": [
    "bm.evaluate(np.array(X_test_r), np.array(Y_test_r))"
   ]
  },
  {
   "cell_type": "markdown",
   "metadata": {},
   "source": [
    "## Regression: Keras NN"
   ]
  },
  {
   "cell_type": "code",
   "execution_count": 47,
   "metadata": {
    "collapsed": true
   },
   "outputs": [],
   "source": [
    "def larger_model():\n",
    "    # create model\n",
    "    model = Sequential()\n",
    "    model.add(Dense(54, kernel_initializer=\"normal\", input_dim=54, activation=\"relu\"))\n",
    "    model.add(Dense(27, kernel_initializer='normal', activation='relu'))\n",
    "    model.add(Dropout(0.2))\n",
    "    model.add(Dense(15, kernel_initializer='normal', activation='relu'))\n",
    "    model.add(Dropout(0.2))\n",
    "    model.add(Dense(1, kernel_initializer='normal'))\n",
    "    # Compile model\n",
    "    model.compile(loss='mean_squared_error', optimizer='adam')\n",
    "    return model"
   ]
  },
  {
   "cell_type": "code",
   "execution_count": 48,
   "metadata": {},
   "outputs": [
    {
     "name": "stdout",
     "output_type": "stream",
     "text": [
      "K_folds 5: \n",
      "Mean -3077959.0501562627 \n",
      "Std 2124588.777193607\n"
     ]
    }
   ],
   "source": [
    "test_kfolds(KerasRegressor(build_fn=larger_model, nb_epoch=150, batch_size=128, verbose=0), X, Y)"
   ]
  },
  {
   "cell_type": "code",
   "execution_count": 49,
   "metadata": {
    "collapsed": true
   },
   "outputs": [],
   "source": [
    "def wider_model():\n",
    "    # create model\n",
    "    model = Sequential()\n",
    "    model.add(Dense(540, kernel_initializer=\"normal\", input_dim=54, activation=\"relu\"))\n",
    "    model.add(Dense(270, kernel_initializer='normal', activation='relu'))\n",
    "    model.add(Dense(1, kernel_initializer='normal'))\n",
    "    # Compile model\n",
    "    model.compile(loss='mean_squared_error', optimizer='adam')\n",
    "    return model"
   ]
  },
  {
   "cell_type": "code",
   "execution_count": 50,
   "metadata": {},
   "outputs": [
    {
     "name": "stdout",
     "output_type": "stream",
     "text": [
      "K_folds 5: \n",
      "Mean -2849443.3509008586 \n",
      "Std 2004473.8977505653\n"
     ]
    }
   ],
   "source": [
    "test_kfolds(KerasRegressor(build_fn=wider_model, nb_epoch=150, batch_size=128, verbose=0), X, Y)"
   ]
  },
  {
   "cell_type": "markdown",
   "metadata": {},
   "source": [
    "# Pybrain"
   ]
  },
  {
   "cell_type": "code",
   "execution_count": 51,
   "metadata": {
    "collapsed": true
   },
   "outputs": [],
   "source": [
    "#!pip install git+https://github.com/pybrain/pybrain.git"
   ]
  },
  {
   "cell_type": "markdown",
   "metadata": {},
   "source": [
    "## PyBrain: Regression"
   ]
  },
  {
   "cell_type": "code",
   "execution_count": 52,
   "metadata": {
    "collapsed": true
   },
   "outputs": [],
   "source": [
    "from pybrain.structure import SigmoidLayer, LinearLayer, TanhLayer, ReluLayer, SoftmaxLayer\n",
    "from pybrain.datasets import SupervisedDataSet\n",
    "from pybrain.supervised.trainers import BackpropTrainer\n",
    "import pybrain.tools.shortcuts as pb\n",
    "import numpy, math\n",
    "\n",
    "# Build the dataset\n",
    "xvalues = np.array(X_train_r)\n",
    "yvalues = np.array(Y_train_r)\n",
    "ds = SupervisedDataSet(54, 1)\n",
    "for x, y in zip(xvalues, yvalues):\n",
    "    ds.addSample((x), (y))\n",
    "    \n",
    "# Build the NN\n",
    "nn1 = pb.buildNetwork(54,  # 1 input node\n",
    "                   #108,    # number of nodes in 1st hidden layer\n",
    "                   54,     # number of nodes in 4th hidden layer\n",
    "                   1,     # 1 output node\n",
    "                   bias = False,\n",
    "                   hiddenclass = SigmoidLayer,\n",
    "                   outclass = LinearLayer )\n",
    "\n",
    "# Train the NN\n",
    "trainer = BackpropTrainer(nn1, ds, learningrate = 0.01, weightdecay=0.01, momentum=0.02) #, verbose = True)\n",
    "train_mse, validation_mse = trainer.trainUntilConvergence(maxEpochs = 20, continueEpochs=5, validationProportion=0.25)"
   ]
  },
  {
   "cell_type": "markdown",
   "metadata": {},
   "source": [
    "##### Note on some of the parameters\n",
    "\n",
    "**validationProportion**: ratio of the dataset that is used for the validation dataset.\n",
    "If maxEpochs is given, at most that many epochs are trained. Each time validation error hits a minimum, try for continueEpochs # epochs to find a better one.\n",
    "\n",
    "**Epoch**: one epoch means that every example has been seen once. It is preferable to track epochs rather than iterations since \n",
    "the number of iterations depends on the arbitrary setting of batch size. Batchs are used for example in the minibatch method,\n",
    "for example, for 1000 examples, the NN is trained on examples 1-100, then examples 101-201, etc.\n",
    "\n",
    "**Momentum**: 0 < m < 1 is a global parameter which must be determined by trial and error. Momentum simply adds a fraction m of the previous weight update to the current one. When the gradient keeps pointing in the same direction, this will increase the size of the steps taken towards the minimum. It is otherefore often necessary to reduce the global learning rate µ when using a lot of momentum (m close to 1). If you combine a high learning rate with a lot of momentum, you will rush past the minimum with huge steps! When the gradient keeps changing direction, momentum will smooth out the variations. Adding a momentum can help to speed up convergence to the minimum by damping oscillations."
   ]
  },
  {
   "cell_type": "code",
   "execution_count": 53,
   "metadata": {},
   "outputs": [
    {
     "data": {
      "text/plain": [
       "<matplotlib.legend.Legend at 0x137242978>"
      ]
     },
     "execution_count": 53,
     "metadata": {},
     "output_type": "execute_result"
    },
    {
     "data": {
      "image/png": "[encoded data removed]",
      "text/plain": [
       "<matplotlib.figure.Figure at 0x136d05f60>"
      ]
     },
     "metadata": {},
     "output_type": "display_data"
    }
   ],
   "source": [
    "# Learning curves\n",
    "plt.clf()\n",
    "plt.plot(range(len(train_mse)), np.sqrt(train_mse), color='blue', label='training error')\n",
    "plt.plot(range(len(validation_mse)), np.sqrt(validation_mse), color='red', label='validation error')\n",
    "plt.title('Learning curves: loss(=RMSE) as a function of Epochs')\n",
    "plt.legend()"
   ]
  }
 ],
 "metadata": {
  "anaconda-cloud": {},
  "kernelspec": {
   "display_name": "Python ICM",
   "language": "python",
   "name": "icm"
  },
  "language_info": {
   "codemirror_mode": {
    "name": "ipython",
    "version": 3
   },
   "file_extension": ".py",
   "mimetype": "text/x-python",
   "name": "python",
   "nbconvert_exporter": "python",
   "pygments_lexer": "ipython3",
   "version": "3.6.3"
  },
  "toc": {
   "colors": {
    "hover_highlight": "#DAA520",
    "running_highlight": "#FF0000",
    "selected_highlight": "#FFD700"
   },
   "moveMenuLeft": true,
   "nav_menu": {
    "height": "264px",
    "width": "252px"
   },
   "navigate_menu": true,
   "number_sections": true,
   "sideBar": true,
   "threshold": 4,
   "toc_cell": false,
   "toc_section_display": "block",
   "toc_window_display": false,
   "widenNotebook": false
  }
 },
 "nbformat": 4,
 "nbformat_minor": 1
}
