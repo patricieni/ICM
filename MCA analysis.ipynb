{
 "cells": [
  {
   "cell_type": "markdown",
   "metadata": {},
   "source": [
    "#performed in R with FactoMineR\n",
    "\n",
    "Install FactoMineR\n",
    "\n",
    "install.packages(\"FactoMineR\")\n",
    "\n",
    "\n",
    "Load FactoMineR\n",
    "\n",
    "library(\"FactoMineR\")\n",
    "\n",
    "\n",
    "dataset <- read.csv(\"imputed_dataset_no_censoring_26022018\", header = TRUE, na.strings = \"\")\n",
    "\n",
    "Set quantitative variables to NULL to remove them from dataset\n",
    "\n",
    "dataset$X <- NULL\n",
    "\n",
    "dataset$Age_surgery <- NULL\n",
    "\n",
    "dataset$IK <- NULL\n",
    "\n",
    "dataset$life_expectancy <- NULL\n",
    "\n",
    "\n",
    "Code qualitative variables that appear as numbers as factors in R, otherwise it will read them as quantitative ones\n",
    "\n",
    "dataset $Tumor_grade <- as.factor(dataset$Tumor_grade)\n",
    "\n",
    "dataset $IDH_TERT <- as.factor(dataset$IDH_TERT)\n",
    "\n",
    "dataset $X1p19q_codel <- as.factor(dataset$X1p19q_codel)\n",
    "\n",
    "\n",
    "Run MCA\n",
    "\n",
    "MCA(dataset)\n",
    "\n",
    "plot results\n",
    "\n",
    "plot.MCA"
   ]
  }
 ],
 "metadata": {
  "kernelspec": {
   "display_name": "Python 3",
   "language": "python",
   "name": "python3"
  },
  "language_info": {
   "codemirror_mode": {
    "name": "ipython",
    "version": 3
   },
   "file_extension": ".py",
   "mimetype": "text/x-python",
   "name": "python",
   "nbconvert_exporter": "python",
   "pygments_lexer": "ipython3",
   "version": "3.6.0"
  }
 },
 "nbformat": 4,
 "nbformat_minor": 2
}
