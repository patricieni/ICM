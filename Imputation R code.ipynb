{
 "cells": [
  {
   "cell_type": "markdown",
   "metadata": {},
   "source": [
    "# R workflow for mice imputation"
   ]
  },
  {
   "cell_type": "code",
   "execution_count": 4,
   "metadata": {
    "collapsed": true
   },
   "outputs": [],
   "source": [
    "import pandas as pd"
   ]
  },
  {
   "cell_type": "markdown",
   "metadata": {},
   "source": [
    "Set directory\n",
    "\n",
    "setwd(\"Dropbox/Healthcare work Patric\")"
   ]
  },
  {
   "cell_type": "markdown",
   "metadata": {},
   "source": [
    "require mice package\n",
    "\n",
    "require(mice)"
   ]
  },
  {
   "cell_type": "markdown",
   "metadata": {},
   "source": [
    "load dataset\n",
    "\n",
    "dataset = read.csv(\"imputation_set_24012018.csv\", header=TRUE, na.strings = '')"
   ]
  },
  {
   "cell_type": "markdown",
   "metadata": {},
   "source": [
    "get overview of dataset incl. number of NAs per variable\n",
    "\n",
    "summary(dataset)"
   ]
  },
  {
   "cell_type": "markdown",
   "metadata": {},
   "source": [
    "load VIM library for missing data visualization\n",
    "\n",
    "library(VIM)"
   ]
  },
  {
   "cell_type": "markdown",
   "metadata": {},
   "source": [
    "aggr(dataset, prop = F, numbers = T)"
   ]
  },
  {
   "cell_type": "markdown",
   "metadata": {},
   "source": [
    "<img src=\"Dropbox/Healthcare work Patric/aggr(dataset, prop = F, numbers = T).png\">"
   ]
  },
  {
   "cell_type": "markdown",
   "metadata": {},
   "source": [
    "matrixplot(dataset, interactive = F)"
   ]
  },
  {
   "cell_type": "markdown",
   "metadata": {},
   "source": [
    "<img src=\"Dropbox/Healthcare work Patric/matrixplot(dataset, interactive = F).png\">"
   ]
  },
  {
   "cell_type": "markdown",
   "metadata": {},
   "source": [
    "marginplot(dataset[,c(\"IK\",\"IDH_TERT\")])"
   ]
  },
  {
   "cell_type": "markdown",
   "metadata": {},
   "source": [
    "<img src=\"Dropbox/Healthcare work Patric/marginplot(dataset[c(IK,IDH_TERT).png\">"
   ]
  },
  {
   "cell_type": "markdown",
   "metadata": {},
   "source": [
    "code IDH_TERT and X1p19q_codel as factors so that R/MICE doesnt treat them as continuous\n",
    "\n",
    "dataset$IDH_TERT <- as.factor(dataset$IDH_TERT)\n",
    "\n",
    "dataset$X1p19q_codel <- as.factor(dataset$X1p19q_codel)"
   ]
  },
  {
   "cell_type": "markdown",
   "metadata": {},
   "source": [
    "run mice imputation with 20 iterations\n",
    "\n",
    "imp <- mice(dataset, maxit = 20)"
   ]
  },
  {
   "cell_type": "markdown",
   "metadata": {},
   "source": [
    "inspect methods used for imputing each variable\n",
    "\n",
    "imp$method"
   ]
  },
  {
   "cell_type": "code",
   "execution_count": 9,
   "metadata": {
    "collapsed": true
   },
   "outputs": [],
   "source": [
    "#Gender      Tumor_type     Tumor_grade        Gene_P53       Gene_Mgmt       Gene_Egfr       Gene_Mdm2 \n",
    "#    \"\"              \"\"              \"\"       \"polyreg\"        \"logreg\"        \"logreg\"        \"logreg\" \n",
    "#     Gene_Cdk4        Gene_P16   Gene_Ihc_Atrx      Gene_Ch10Q       Gene_Ch9P  Tumor_Location  Tumor_Position \n",
    "#       \"logreg\"        \"logreg\"       \"polyreg\"        \"logreg\"       \"polyreg\"       \"polyreg\"       \"polyreg\" \n",
    "#   Surgery_type     Age_surgery life_expectancy             IDH            TERT        IDH_TERT    X1p19q_codel \n",
    "#      \"polyreg\"              \"\"              \"\"       \"polyreg\"        \"logreg\"       \"polyreg\"        \"logreg\" \n",
    "#             IK \n",
    "#          \"pmm\" "
   ]
  },
  {
   "cell_type": "markdown",
   "metadata": {},
   "source": [
    "Inspect convergenve\n",
    "\n",
    "plot(imp)"
   ]
  },
  {
   "cell_type": "markdown",
   "metadata": {},
   "source": [
    "<img src=\"Dropbox/Healthcare work Patric/plot(imp).png\">"
   ]
  },
  {
   "cell_type": "markdown",
   "metadata": {},
   "source": [
    "stripplot(imp, pch = 20, cex = 1.2)"
   ]
  },
  {
   "cell_type": "markdown",
   "metadata": {},
   "source": [
    "<img src=\"Dropbox/Healthcare work Patric/stripplot(imp, pch = 20, cex = 1.2).png\">"
   ]
  },
  {
   "cell_type": "markdown",
   "metadata": {},
   "source": [
    "export the imputed dataset\n",
    "\n",
    "write.csv(complete(imp), file = \"imputed_dataset_no_censoring_16022018\")"
   ]
  },
  {
   "cell_type": "markdown",
   "metadata": {
    "collapsed": true
   },
   "source": [
    "# Amelia imputation"
   ]
  },
  {
   "cell_type": "markdown",
   "metadata": {},
   "source": [
    "setwd(Dropbox/Healthcare work Patric)\n",
    "\n",
    "dataset = read.csv(\"imputation_dataset_no_censoring_24022018\", header = TRUE, na.strings = '')"
   ]
  },
  {
   "cell_type": "markdown",
   "metadata": {},
   "source": [
    "load Amelia\n",
    "\n",
    "library(Amelia)"
   ]
  },
  {
   "cell_type": "markdown",
   "metadata": {},
   "source": [
    "run imputation\n",
    "\n",
    "noms = categorical variables\n",
    "\n",
    "ords = ordinal variables\n",
    "\n",
    "idvars = nominal variables that should not be imputed\n",
    "\n",
    "if running Amelia on full dataset, it will throw an error. you need to remove either Tumor_type of Tumor_grade\n",
    "since removing Tumor_type converges faster, I removed Tumor_grade by adding it to idvars option\n",
    "Since both Tumor_type and Tumor_grade variables have no missing data, this does not hinder us at all\n",
    "\n",
    "a.out <- amelia(dataset, m=1, noms = c(\"Gender\", \"Tumor_grade\", \"Gene_P53\", \"Gene_Mgmt\", \"Gene_Egfr\", \"Gene_Mdm2\", \n",
    "                                       \"Gene_Cdk4\", \"Gene_P16\", \"Gene_Ihc_Atrx\", \"Gene_Ch10Q\", \"Gene_Ch9P\", \n",
    "                                       \"Tumor_Location\", \"Tumor_Position\", \"Surgery_type\", \"IDH\", \"TERT\", \n",
    "                                       \"X1p19q_codel\"), ords = c(\"IDH_TERT\"), idvars = c(\"RX\", \"CHEM\", \"Tumor_type\"))"
   ]
  },
  {
   "cell_type": "markdown",
   "metadata": {},
   "source": [
    "get key messages post imputation, including \"Normal EM convergence\"\n",
    "\n",
    "a.out"
   ]
  },
  {
   "cell_type": "markdown",
   "metadata": {},
   "source": [
    "get full summary of output dataset\n",
    "\n",
    "summary(a.out)"
   ]
  },
  {
   "cell_type": "markdown",
   "metadata": {},
   "source": [
    "Post imputation diagnostic graphs\n",
    "\n",
    "plot(a.out, which.vars = 4:15)\n",
    "\n",
    "overimpute(a.out, var = \"IDH_TERT\")\n",
    "\n",
    "overimpute(a.out, var = \"IK\")"
   ]
  },
  {
   "cell_type": "markdown",
   "metadata": {},
   "source": [
    "export dataset. Here a.out contains only one imputed dataset. If it contained 5, this would export each of them in a csv \n",
    "named file.stem+1, file.stem+2...\n",
    "\n",
    "write.amelia(obj=a.out, file.stem = \"imputed_dataset_no_censoring_24022018_Amelia\")"
   ]
  },
  {
   "cell_type": "markdown",
   "metadata": {},
   "source": [
    "we repeat the same with the censured dataset. However, this time Amelia throws a collinearity error again, even when run\n",
    "with the same parameters as for non censored dataset\n",
    "As such, we pass \"life expectancy\" as an idvars to avoid collinearity issue\n",
    "\n",
    "a.out <- amelia(dataset, m=1, noms = c(\"Gender\", \"Tumor_grade\", \"Gene_P53\", \"Gene_Mgmt\", \"Gene_Egfr\", \"Gene_Mdm2\", \n",
    "                                                                                \"Gene_Cdk4\", \"Gene_P16\", \"Gene_Ihc_Atrx\", \"Gene_Ch10Q\", \"Gene_Ch9P\", \n",
    "                                                                                \"Tumor_Location\", \"Tumor_Position\", \"Surgery_type\", \"IDH\", \"TERT\", \n",
    "                                                                                \"X1p19q_codel\"), ords = c(\"IDH_TERT\"), idvars = c(\"Tumor_type\", \"life_expectancy\"))"
   ]
  },
  {
   "cell_type": "markdown",
   "metadata": {},
   "source": [
    "and export it\n",
    "\n",
    "write.amelia(obj=a.out, file.stem = \"imputed_dataset_with_censoring_26022018_Amelia\")"
   ]
  },
  {
   "cell_type": "markdown",
   "metadata": {},
   "source": [
    "## KNN Imputation"
   ]
  },
  {
   "cell_type": "markdown",
   "metadata": {},
   "source": [
    "dataset <- read.csv(\"imputation_dataset_no_censoring_24022018\", header=TRUE, na.strings = \"\")\n",
    "\n",
    "dataset$IDH_TERT <- as.factor(dataset$IDH_TERT)\n",
    "\n",
    "dataset$X1p19q_codel <- as.factor(dataset$X1p19q_codel)\n",
    "\n",
    "imp <- kNN(dataset, k = 10)\n",
    "\n",
    "write.csv(imp, \"imputed_dataset_with_censoring_16.02.2018_kNN.csv\")"
   ]
  },
  {
   "cell_type": "markdown",
   "metadata": {},
   "source": [
    "Same but for censored dataset\n",
    "\n",
    "dataset <- read.csv(\"imputation_dataset_with_censoring_24022018\", header=TRUE, na.strings = \"\")\n",
    "\n",
    "dataset$IDH_TERT <- as.factor(dataset$IDH_TERT)\n",
    "\n",
    "dataset$X1p19q_codel <- as.factor(dataset$X1p19q_codel)\n",
    "\n",
    "imp <- kNN(dataset, k = 10)\n",
    "\n",
    "write.csv(imp, \"imputed_dataset_with_censoring_26022018_kNN.csv\")"
   ]
  }
 ],
 "metadata": {
  "kernelspec": {
   "display_name": "Python 3",
   "language": "python",
   "name": "python3"
  },
  "language_info": {
   "codemirror_mode": {
    "name": "ipython",
    "version": 3
   },
   "file_extension": ".py",
   "mimetype": "text/x-python",
   "name": "python",
   "nbconvert_exporter": "python",
   "pygments_lexer": "ipython3",
   "version": "3.6.0"
  }
 },
 "nbformat": 4,
 "nbformat_minor": 2
}
