{
 "cells": [
  {
   "cell_type": "code",
   "execution_count": 120,
   "metadata": {
    "collapsed": false
   },
   "outputs": [],
   "source": [
    "import pandas as pd\n",
    "import numpy as np\n",
    "from pathlib import Path\n",
    "import os \n",
    "from datetime import timedelta\n",
    "import os\n",
    "import numpy as np\n",
    "import pandas as pd\n",
    "import matplotlib\n",
    "import matplotlib.pyplot as plt\n",
    "import seaborn as sns\n",
    "from sklearn.decomposition import PCA\n",
    "from sklearn.cluster import KMeans\n",
    "from sklearn.metrics import adjusted_rand_score, accuracy_score, confusion_matrix, r2_score,log_loss\n",
    "from sklearn.svm import SVC\n",
    "from sklearn.naive_bayes import GaussianNB\n",
    "from sklearn.model_selection import KFold\n",
    "from sklearn.model_selection import train_test_split\n",
    "from sklearn.preprocessing import LabelEncoder, OneHotEncoder\n",
    "from sklearn import tree\n",
    "import graphviz\n",
    "\n",
    "from sklearn.tree import DecisionTreeClassifier, export_graphviz\n",
    "from sklearn.ensemble import RandomForestClassifier\n",
    "\n",
    "pd.set_option('display.max_columns', None)\n",
    "%matplotlib inline\n",
    "\n",
    "data_path = str(Path(os.getcwd())) + \"/data/\"\n",
    "\n",
    "def write_to_pickle(dataframe, name):\n",
    "    dataframe.to_pickle(data_path + name + \".pickle\")\n",
    "def read_from_pickle(name): \n",
    "    return pd.read_pickle(data_path + name + \".pickle\")\n"
   ]
  },
  {
   "cell_type": "code",
   "execution_count": 16,
   "metadata": {
    "collapsed": true
   },
   "outputs": [],
   "source": [
    "def plot_confusion_matrix(cm, classes=None, title='Confusion matrix', norm=False, **kwargs):\n",
    "    \"\"\"Plots a confusion matrix.\"\"\"\n",
    "    heatmap_kwargs = dict(annot=True, fmt='d')\n",
    "    if norm:\n",
    "        cm_norm = cm/cm.sum(axis=1)[:, np.newaxis]\n",
    "        heatmap_kwargs['data'] = cm_norm\n",
    "        heatmap_kwargs['vmin']=0.\n",
    "        heatmap_kwargs['vmax']=1.\n",
    "        heatmap_kwargs['fmt']='.3f'\n",
    "    else:\n",
    "        heatmap_kwargs['data'] = cm\n",
    "    if classes is not None:\n",
    "        heatmap_kwargs['xticklabels']=classes\n",
    "        heatmap_kwargs['yticklabels']=classes\n",
    "    heatmap_kwargs.update(kwargs)\n",
    "    sns.heatmap(**heatmap_kwargs)\n",
    "    plt.title(title)\n",
    "    plt.ylabel('True label')\n",
    "    plt.xlabel('Predicted label')\n",
    "\n",
    "#cm = confusion_matrix(y_train, prediction_train)\n",
    "#plt.figure()\n",
    "#plot_confusion_matrix(cm, norm=True, classes=df_clean.life_expectancy_bin)\n",
    "#plt.xlabel('Interpreted cluster label')\n",
    "#plt.show()"
   ]
  },
  {
   "cell_type": "code",
   "execution_count": 2,
   "metadata": {
    "collapsed": true
   },
   "outputs": [],
   "source": [
    "df = read_from_pickle('preimputation')\n",
    "df_imputed = pd.read_csv('data/final_dataset_analysis.csv')"
   ]
  },
  {
   "cell_type": "code",
   "execution_count": 3,
   "metadata": {
    "collapsed": true
   },
   "outputs": [],
   "source": [
    "df_small = df[['Gender', 'Tumor_grade', 'Gene_Idh1', 'Gene_Idh2','Tumor_Location',\n",
    "       'Tumor_Position', 'Clinical_evolution', 'Surgery_type','Age_surgery', 'life_expectancy']]\n",
    "\n",
    "#'ID_EC', 'IK_CLINIQUE', 'CHIR_IK_PRE', 'RX_IK_PRE', 'RX', 'CHEM'"
   ]
  },
  {
   "cell_type": "code",
   "execution_count": 4,
   "metadata": {
    "collapsed": false
   },
   "outputs": [
    {
     "data": {
      "text/html": [
       "<div>\n",
       "<style>\n",
       "    .dataframe thead tr:only-child th {\n",
       "        text-align: right;\n",
       "    }\n",
       "\n",
       "    .dataframe thead th {\n",
       "        text-align: left;\n",
       "    }\n",
       "\n",
       "    .dataframe tbody tr th {\n",
       "        vertical-align: top;\n",
       "    }\n",
       "</style>\n",
       "<table border=\"1\" class=\"dataframe\">\n",
       "  <thead>\n",
       "    <tr style=\"text-align: right;\">\n",
       "      <th></th>\n",
       "      <th>Gender</th>\n",
       "      <th>Tumor_grade</th>\n",
       "      <th>Gene_Idh1</th>\n",
       "      <th>Gene_Idh2</th>\n",
       "      <th>Tumor_Location</th>\n",
       "      <th>Tumor_Position</th>\n",
       "      <th>Clinical_evolution</th>\n",
       "      <th>Surgery_type</th>\n",
       "      <th>Age_surgery</th>\n",
       "      <th>life_expectancy</th>\n",
       "      <th>Gene_Htert_C228T</th>\n",
       "      <th>Gene_Htert_C250T</th>\n",
       "      <th>Gene_P53</th>\n",
       "      <th>Gene_Mgmt</th>\n",
       "      <th>Gene_Egfr</th>\n",
       "      <th>Gene_Mdm2</th>\n",
       "      <th>Gene_Cdk4</th>\n",
       "      <th>Gene_P16</th>\n",
       "      <th>Gene_Ihc_Atrx</th>\n",
       "      <th>Gene_Ch1P</th>\n",
       "      <th>Gene_Ch19Q</th>\n",
       "      <th>Gene_Ch10P</th>\n",
       "      <th>Gene_Ch10Q</th>\n",
       "      <th>Gene_Ch9P</th>\n",
       "      <th>Gene_Ch9Q</th>\n",
       "      <th>Tumor_Location</th>\n",
       "      <th>Tumor_Position</th>\n",
       "      <th>Clinical_evolution</th>\n",
       "      <th>Surgery_type</th>\n",
       "      <th>Age_surgery</th>\n",
       "      <th>life_expectancy</th>\n",
       "      <th>IDH_TERT</th>\n",
       "      <th>ID_EC</th>\n",
       "      <th>IK_CLINIQUE</th>\n",
       "      <th>CHIR_IK_PRE</th>\n",
       "      <th>RX_IK_PRE</th>\n",
       "    </tr>\n",
       "  </thead>\n",
       "  <tbody>\n",
       "    <tr>\n",
       "      <th>0</th>\n",
       "      <td>M</td>\n",
       "      <td>4</td>\n",
       "      <td>NC</td>\n",
       "      <td>NC</td>\n",
       "      <td>autre</td>\n",
       "      <td>G</td>\n",
       "      <td>P1</td>\n",
       "      <td>exérèse</td>\n",
       "      <td>60</td>\n",
       "      <td>268</td>\n",
       "      <td>NORMAL</td>\n",
       "      <td>ALTERE</td>\n",
       "      <td>NC</td>\n",
       "      <td>METHYLE</td>\n",
       "      <td>AMPLIFIE</td>\n",
       "      <td>AMPLIFIE</td>\n",
       "      <td>NORMAL</td>\n",
       "      <td>DELETE</td>\n",
       "      <td>Maintien</td>\n",
       "      <td>PERDU</td>\n",
       "      <td>PERDU</td>\n",
       "      <td>GAIN</td>\n",
       "      <td>GAIN</td>\n",
       "      <td>GAIN</td>\n",
       "      <td>PERDU</td>\n",
       "      <td>autre</td>\n",
       "      <td>G</td>\n",
       "      <td>P1</td>\n",
       "      <td>exérèse</td>\n",
       "      <td>60</td>\n",
       "      <td>268</td>\n",
       "      <td>4</td>\n",
       "      <td>P1</td>\n",
       "      <td>60</td>\n",
       "      <td>80</td>\n",
       "      <td>80</td>\n",
       "    </tr>\n",
       "    <tr>\n",
       "      <th>1</th>\n",
       "      <td>M</td>\n",
       "      <td>3</td>\n",
       "      <td>ALTERE</td>\n",
       "      <td>NORMAL</td>\n",
       "      <td>sus-T hémisp</td>\n",
       "      <td>G</td>\n",
       "      <td>TT ini</td>\n",
       "      <td>partielle</td>\n",
       "      <td>42</td>\n",
       "      <td>30</td>\n",
       "      <td>NORMAL</td>\n",
       "      <td>NORMAL</td>\n",
       "      <td>NC</td>\n",
       "      <td>METHYLE</td>\n",
       "      <td>NORMAL</td>\n",
       "      <td>NORMAL</td>\n",
       "      <td>NORMAL</td>\n",
       "      <td>NORMAL</td>\n",
       "      <td>Extinction diffuse</td>\n",
       "      <td>NON PERTE</td>\n",
       "      <td>NON PERTE</td>\n",
       "      <td>NON PERTE</td>\n",
       "      <td>PERDU</td>\n",
       "      <td>NON PERTE</td>\n",
       "      <td>NON PERTE</td>\n",
       "      <td>sus-T hémisp</td>\n",
       "      <td>G</td>\n",
       "      <td>TT ini</td>\n",
       "      <td>partielle</td>\n",
       "      <td>42</td>\n",
       "      <td>30</td>\n",
       "      <td>3</td>\n",
       "      <td>TTini</td>\n",
       "      <td>70</td>\n",
       "      <td>80</td>\n",
       "      <td>90</td>\n",
       "    </tr>\n",
       "  </tbody>\n",
       "</table>\n",
       "</div>"
      ],
      "text/plain": [
       "  Gender  Tumor_grade Gene_Idh1 Gene_Idh2 Tumor_Location Tumor_Position  \\\n",
       "0      M            4        NC        NC          autre              G   \n",
       "1      M            3    ALTERE    NORMAL   sus-T hémisp              G   \n",
       "\n",
       "  Clinical_evolution Surgery_type  Age_surgery  life_expectancy  \\\n",
       "0                 P1      exérèse           60              268   \n",
       "1             TT ini    partielle           42               30   \n",
       "\n",
       "  Gene_Htert_C228T Gene_Htert_C250T Gene_P53 Gene_Mgmt Gene_Egfr Gene_Mdm2  \\\n",
       "0           NORMAL           ALTERE       NC   METHYLE  AMPLIFIE  AMPLIFIE   \n",
       "1           NORMAL           NORMAL       NC   METHYLE    NORMAL    NORMAL   \n",
       "\n",
       "  Gene_Cdk4 Gene_P16       Gene_Ihc_Atrx  Gene_Ch1P Gene_Ch19Q Gene_Ch10P  \\\n",
       "0    NORMAL   DELETE            Maintien      PERDU      PERDU       GAIN   \n",
       "1    NORMAL   NORMAL  Extinction diffuse  NON PERTE  NON PERTE  NON PERTE   \n",
       "\n",
       "  Gene_Ch10Q  Gene_Ch9P  Gene_Ch9Q Tumor_Location Tumor_Position  \\\n",
       "0       GAIN       GAIN      PERDU          autre              G   \n",
       "1      PERDU  NON PERTE  NON PERTE   sus-T hémisp              G   \n",
       "\n",
       "  Clinical_evolution Surgery_type  Age_surgery  life_expectancy  IDH_TERT  \\\n",
       "0                 P1      exérèse           60              268         4   \n",
       "1             TT ini    partielle           42               30         3   \n",
       "\n",
       "   ID_EC  IK_CLINIQUE  CHIR_IK_PRE  RX_IK_PRE  \n",
       "0     P1           60           80         80  \n",
       "1  TTini           70           80         90  "
      ]
     },
     "execution_count": 4,
     "metadata": {},
     "output_type": "execute_result"
    }
   ],
   "source": [
    "df_final = df_imputed[['Gender', 'Tumor_grade', 'Gene_Idh1', 'Gene_Idh2','Tumor_Location',\n",
    "       'Tumor_Position', 'Clinical_evolution', 'Surgery_type','Age_surgery', 'life_expectancy', 'Gene_Htert_C228T',\n",
    "       'Gene_Htert_C250T', 'Gene_P53', 'Gene_Mgmt', 'Gene_Egfr', 'Gene_Mdm2',\n",
    "       'Gene_Cdk4', 'Gene_P16', 'Gene_Ihc_Atrx', 'Gene_Ch1P', 'Gene_Ch19Q',\n",
    "       'Gene_Ch10P', 'Gene_Ch10Q', 'Gene_Ch9P', 'Gene_Ch9Q', 'Tumor_Location',\n",
    "       'Tumor_Position', 'Clinical_evolution', 'Surgery_type','Age_surgery', 'life_expectancy',\n",
    "        'IDH_TERT', 'ID_EC', 'IK_CLINIQUE', 'CHIR_IK_PRE', 'RX_IK_PRE']]\n",
    "df_final.head(2)"
   ]
  },
  {
   "cell_type": "code",
   "execution_count": 5,
   "metadata": {
    "collapsed": false
   },
   "outputs": [],
   "source": [
    "df_1 = df_small.dropna(axis=0, how='any')"
   ]
  },
  {
   "cell_type": "code",
   "execution_count": null,
   "metadata": {
    "collapsed": true
   },
   "outputs": [],
   "source": [
    "for col in df_1.columns:\n",
    "    print('{0}\\n  {1}\\n'.format(col,df_1[col].isnull().value_counts()))"
   ]
  },
  {
   "cell_type": "code",
   "execution_count": 6,
   "metadata": {
    "collapsed": false
   },
   "outputs": [],
   "source": [
    "def binning(col, cut_points, labels=None):\n",
    "    #Define min and max values:\n",
    "    minval = col.min()\n",
    "    maxval = col.max()\n",
    "\n",
    "    #create list by adding min and max to cut_points\n",
    "    break_points = [minval] + cut_points + [maxval]\n",
    "\n",
    "    # if no labels provided, use default labels 0 ... (n-1)\n",
    "    if not labels:\n",
    "        labels = range(len(cut_points)+1)\n",
    "\n",
    "    #Binning using cut function of pandas\n",
    "    colBin = pd.cut(col,bins=break_points,labels=labels,include_lowest=True)\n",
    "    return colBin\n"
   ]
  },
  {
   "cell_type": "code",
   "execution_count": 43,
   "metadata": {
    "collapsed": false
   },
   "outputs": [
    {
     "name": "stdout",
     "output_type": "stream",
     "text": [
      "1.5year    794\n",
      "4years     691\n",
      "more       404\n",
      "Name: life_expectancy_bin, dtype: int64\n"
     ]
    },
    {
     "name": "stderr",
     "output_type": "stream",
     "text": [
      "/Users/patricfulop/anaconda3/envs/cancer/lib/python3.6/site-packages/ipykernel/__main__.py:6: SettingWithCopyWarning: \n",
      "A value is trying to be set on a copy of a slice from a DataFrame.\n",
      "Try using .loc[row_indexer,col_indexer] = value instead\n",
      "\n",
      "See the caveats in the documentation: http://pandas.pydata.org/pandas-docs/stable/indexing.html#indexing-view-versus-copy\n"
     ]
    }
   ],
   "source": [
    "# Create bins so that we can cluster patients\n",
    "#cut_points = [90,180,270,360,450,540,720,1095,1460,1825,3650]\n",
    "labels = [\"1.5year\",\"4years\",\"more\"]\n",
    "cut_points = [500,1500]\n",
    "#labels = [\"3_months\",\"6_months\",\"9_months\",\"12_months\",\"15_months\",\"18_months\",\"2_years\",\"3_years\",\"4_years\",\"5_years\",\"10_years\",\"10_plus_years\"]\n",
    "df_1[\"life_expectancy_bin\"] = binning(df_1.life_expectancy, cut_points, labels)\n",
    "print(pd.value_counts(df_1.life_expectancy_bin, sort=False))"
   ]
  },
  {
   "cell_type": "code",
   "execution_count": 45,
   "metadata": {
    "collapsed": false
   },
   "outputs": [
    {
     "data": {
      "image/png": "[encoded data removed]",
      "text/plain": [
       "<matplotlib.figure.Figure at 0x118c55b38>"
      ]
     },
     "metadata": {},
     "output_type": "display_data"
    }
   ],
   "source": [
    "g = sns.pairplot(data=df_1,vars=['Tumor_grade','Age_surgery'],hue='life_expectancy_bin',size=3)"
   ]
  },
  {
   "cell_type": "code",
   "execution_count": 129,
   "metadata": {
    "collapsed": false
   },
   "outputs": [
    {
     "data": {
      "text/plain": [
       "90     633\n",
       "80     592\n",
       "70     421\n",
       "60     287\n",
       "100    174\n",
       "40      42\n",
       "50      36\n",
       "75      11\n",
       "20      11\n",
       "0       11\n",
       "Name: IK_CLINIQUE, dtype: int64"
      ]
     },
     "execution_count": 129,
     "metadata": {},
     "output_type": "execute_result"
    }
   ],
   "source": [
    "df_final.IK_CLINIQUE.value_counts()"
   ]
  },
  {
   "cell_type": "code",
   "execution_count": 46,
   "metadata": {
    "collapsed": false,
    "scrolled": true
   },
   "outputs": [
    {
     "name": "stdout",
     "output_type": "stream",
     "text": [
      "Number of values for attribute Gender: 2 -- ['F' 'M']\n",
      "Number of values for attribute Tumor_grade: 4 -- [ 1.  2.  3.  4.]\n",
      "Number of values for attribute Gene_Idh1: 3 -- ['ALTERE' 'NC' 'NORMAL']\n",
      "Number of values for attribute Gene_Idh2: 3 -- ['ALTERE' 'NC' 'NORMAL']\n",
      "Number of values for attribute Tumor_Location: 11 -- ['Frontal' 'Rolandique' 'autre' 'cervelet' 'moelle/rachis' 'non précisé'\n",
      " 'sus-T hémisp' 'sus-T hémisp+profond' 'sus-T profond' 'tronc cérébral'\n",
      " 'ventriculaire']\n",
      "Number of values for attribute Tumor_Position: 5 -- ['D' 'G' 'bilatéral' 'médian' 'non précisé']\n",
      "Number of values for attribute Clinical_evolution: 4 -- ['P1' 'P2' 'P3' 'TT ini']\n",
      "Number of values for attribute Surgery_type: 4 -- ['aucune' 'biopsie' 'exérèse' 'partielle']\n",
      "Number of values for attribute Age_surgery: 78\n",
      "Number of values for attribute life_expectancy: 1223\n",
      "Number of values for attribute life_expectancy_bin: 3 -- ['1.5year' '4years' 'more']\n"
     ]
    }
   ],
   "source": [
    "for column in df_1:\n",
    "    unique_vals = np.unique(df_1[column])\n",
    "    nr_vals = len(unique_vals)\n",
    "    if nr_vals < 20:\n",
    "        print('Number of values for attribute {}: {} -- {}'.format(column, nr_vals, unique_vals))\n",
    "    else:\n",
    "        print('Number of values for attribute {}: {}'.format(column, nr_vals))"
   ]
  },
  {
   "cell_type": "markdown",
   "metadata": {},
   "source": [
    "Create a categorical encoding of the dataset"
   ]
  },
  {
   "cell_type": "code",
   "execution_count": 47,
   "metadata": {
    "collapsed": true
   },
   "outputs": [],
   "source": [
    "le_dict = dict() # Initialise an empty dictionary to keep all LabelEncoders\n",
    "df_clean = df_1.copy(deep=True) # Make a copy of the DataFrame\n",
    "# Loop over attributes by excluding the ones that are continuous and the target variable\n",
    "for column in df_clean.drop(['Age_surgery', 'life_expectancy'], axis=1):  \n",
    "    le = LabelEncoder().fit(df_1[column]) # Initialise the LabelEncoder and fit\n",
    "    df_clean[column] = le.transform(df_1[column]) # Transform data and save in credit_clean DataFrame\n",
    "    le_dict[column] = le # Store the LabelEncdoer in dictionary"
   ]
  },
  {
   "cell_type": "markdown",
   "metadata": {},
   "source": [
    "We also need dummies. \n",
    "- Q: Should I standardize anything? Doesn't look like surgery age should be, but keep that in mind. \n",
    "- Q: What are the right methods for this kind of mixed dataset?"
   ]
  },
  {
   "cell_type": "code",
   "execution_count": 48,
   "metadata": {
    "collapsed": false
   },
   "outputs": [],
   "source": [
    "df_c = df_1.copy(deep=True)\n",
    "df_clean_dummies = pd.get_dummies(df_c.drop(['life_expectancy',\"life_expectancy_bin\"],axis=1))\n"
   ]
  },
  {
   "cell_type": "code",
   "execution_count": 130,
   "metadata": {
    "collapsed": false
   },
   "outputs": [
    {
     "data": {
      "text/html": [
       "<div>\n",
       "<style>\n",
       "    .dataframe thead tr:only-child th {\n",
       "        text-align: right;\n",
       "    }\n",
       "\n",
       "    .dataframe thead th {\n",
       "        text-align: left;\n",
       "    }\n",
       "\n",
       "    .dataframe tbody tr th {\n",
       "        vertical-align: top;\n",
       "    }\n",
       "</style>\n",
       "<table border=\"1\" class=\"dataframe\">\n",
       "  <thead>\n",
       "    <tr style=\"text-align: right;\">\n",
       "      <th></th>\n",
       "      <th>Tumor_grade</th>\n",
       "      <th>Age_surgery</th>\n",
       "      <th>Gender_F</th>\n",
       "      <th>Gender_M</th>\n",
       "      <th>Gene_Idh1_ALTERE</th>\n",
       "      <th>Gene_Idh1_NC</th>\n",
       "      <th>Gene_Idh1_NORMAL</th>\n",
       "      <th>Gene_Idh2_ALTERE</th>\n",
       "      <th>Gene_Idh2_NC</th>\n",
       "      <th>Gene_Idh2_NORMAL</th>\n",
       "      <th>Tumor_Location_Frontal</th>\n",
       "      <th>Tumor_Location_Rolandique</th>\n",
       "      <th>Tumor_Location_autre</th>\n",
       "      <th>Tumor_Location_cervelet</th>\n",
       "      <th>Tumor_Location_moelle/rachis</th>\n",
       "      <th>Tumor_Location_non précisé</th>\n",
       "      <th>Tumor_Location_sus-T hémisp</th>\n",
       "      <th>Tumor_Location_sus-T hémisp+profond</th>\n",
       "      <th>Tumor_Location_sus-T profond</th>\n",
       "      <th>Tumor_Location_tronc cérébral</th>\n",
       "      <th>Tumor_Location_ventriculaire</th>\n",
       "      <th>Tumor_Position_D</th>\n",
       "      <th>Tumor_Position_G</th>\n",
       "      <th>Tumor_Position_bilatéral</th>\n",
       "      <th>Tumor_Position_médian</th>\n",
       "      <th>Tumor_Position_non précisé</th>\n",
       "      <th>Clinical_evolution_P1</th>\n",
       "      <th>Clinical_evolution_P2</th>\n",
       "      <th>Clinical_evolution_P3</th>\n",
       "      <th>Clinical_evolution_TT ini</th>\n",
       "      <th>Surgery_type_aucune</th>\n",
       "      <th>Surgery_type_biopsie</th>\n",
       "      <th>Surgery_type_exérèse</th>\n",
       "      <th>Surgery_type_partielle</th>\n",
       "    </tr>\n",
       "  </thead>\n",
       "  <tbody>\n",
       "    <tr>\n",
       "      <th>0</th>\n",
       "      <td>4.0</td>\n",
       "      <td>60.0</td>\n",
       "      <td>0</td>\n",
       "      <td>1</td>\n",
       "      <td>0</td>\n",
       "      <td>1</td>\n",
       "      <td>0</td>\n",
       "      <td>0</td>\n",
       "      <td>1</td>\n",
       "      <td>0</td>\n",
       "      <td>0</td>\n",
       "      <td>0</td>\n",
       "      <td>1</td>\n",
       "      <td>0</td>\n",
       "      <td>0</td>\n",
       "      <td>0</td>\n",
       "      <td>0</td>\n",
       "      <td>0</td>\n",
       "      <td>0</td>\n",
       "      <td>0</td>\n",
       "      <td>0</td>\n",
       "      <td>0</td>\n",
       "      <td>1</td>\n",
       "      <td>0</td>\n",
       "      <td>0</td>\n",
       "      <td>0</td>\n",
       "      <td>1</td>\n",
       "      <td>0</td>\n",
       "      <td>0</td>\n",
       "      <td>0</td>\n",
       "      <td>0</td>\n",
       "      <td>0</td>\n",
       "      <td>1</td>\n",
       "      <td>0</td>\n",
       "    </tr>\n",
       "    <tr>\n",
       "      <th>1</th>\n",
       "      <td>3.0</td>\n",
       "      <td>42.0</td>\n",
       "      <td>0</td>\n",
       "      <td>1</td>\n",
       "      <td>1</td>\n",
       "      <td>0</td>\n",
       "      <td>0</td>\n",
       "      <td>0</td>\n",
       "      <td>0</td>\n",
       "      <td>1</td>\n",
       "      <td>0</td>\n",
       "      <td>0</td>\n",
       "      <td>0</td>\n",
       "      <td>0</td>\n",
       "      <td>0</td>\n",
       "      <td>0</td>\n",
       "      <td>1</td>\n",
       "      <td>0</td>\n",
       "      <td>0</td>\n",
       "      <td>0</td>\n",
       "      <td>0</td>\n",
       "      <td>0</td>\n",
       "      <td>1</td>\n",
       "      <td>0</td>\n",
       "      <td>0</td>\n",
       "      <td>0</td>\n",
       "      <td>0</td>\n",
       "      <td>0</td>\n",
       "      <td>0</td>\n",
       "      <td>1</td>\n",
       "      <td>0</td>\n",
       "      <td>0</td>\n",
       "      <td>0</td>\n",
       "      <td>1</td>\n",
       "    </tr>\n",
       "  </tbody>\n",
       "</table>\n",
       "</div>"
      ],
      "text/plain": [
       "   Tumor_grade  Age_surgery  Gender_F  Gender_M  Gene_Idh1_ALTERE  \\\n",
       "0          4.0         60.0         0         1                 0   \n",
       "1          3.0         42.0         0         1                 1   \n",
       "\n",
       "   Gene_Idh1_NC  Gene_Idh1_NORMAL  Gene_Idh2_ALTERE  Gene_Idh2_NC  \\\n",
       "0             1                 0                 0             1   \n",
       "1             0                 0                 0             0   \n",
       "\n",
       "   Gene_Idh2_NORMAL  Tumor_Location_Frontal  Tumor_Location_Rolandique  \\\n",
       "0                 0                       0                          0   \n",
       "1                 1                       0                          0   \n",
       "\n",
       "   Tumor_Location_autre  Tumor_Location_cervelet  \\\n",
       "0                     1                        0   \n",
       "1                     0                        0   \n",
       "\n",
       "   Tumor_Location_moelle/rachis  Tumor_Location_non précisé  \\\n",
       "0                             0                           0   \n",
       "1                             0                           0   \n",
       "\n",
       "   Tumor_Location_sus-T hémisp  Tumor_Location_sus-T hémisp+profond  \\\n",
       "0                            0                                    0   \n",
       "1                            1                                    0   \n",
       "\n",
       "   Tumor_Location_sus-T profond  Tumor_Location_tronc cérébral  \\\n",
       "0                             0                              0   \n",
       "1                             0                              0   \n",
       "\n",
       "   Tumor_Location_ventriculaire  Tumor_Position_D  Tumor_Position_G  \\\n",
       "0                             0                 0                 1   \n",
       "1                             0                 0                 1   \n",
       "\n",
       "   Tumor_Position_bilatéral  Tumor_Position_médian  \\\n",
       "0                         0                      0   \n",
       "1                         0                      0   \n",
       "\n",
       "   Tumor_Position_non précisé  Clinical_evolution_P1  Clinical_evolution_P2  \\\n",
       "0                           0                      1                      0   \n",
       "1                           0                      0                      0   \n",
       "\n",
       "   Clinical_evolution_P3  Clinical_evolution_TT ini  Surgery_type_aucune  \\\n",
       "0                      0                          0                    0   \n",
       "1                      0                          1                    0   \n",
       "\n",
       "   Surgery_type_biopsie  Surgery_type_exérèse  Surgery_type_partielle  \n",
       "0                     0                     1                       0  \n",
       "1                     0                     0                       1  "
      ]
     },
     "execution_count": 130,
     "metadata": {},
     "output_type": "execute_result"
    }
   ],
   "source": [
    "df_clean_dummies.head(2)"
   ]
  },
  {
   "cell_type": "code",
   "execution_count": 49,
   "metadata": {
    "collapsed": false
   },
   "outputs": [
    {
     "data": {
      "text/html": [
       "<div>\n",
       "<style>\n",
       "    .dataframe thead tr:only-child th {\n",
       "        text-align: right;\n",
       "    }\n",
       "\n",
       "    .dataframe thead th {\n",
       "        text-align: left;\n",
       "    }\n",
       "\n",
       "    .dataframe tbody tr th {\n",
       "        vertical-align: top;\n",
       "    }\n",
       "</style>\n",
       "<table border=\"1\" class=\"dataframe\">\n",
       "  <thead>\n",
       "    <tr style=\"text-align: right;\">\n",
       "      <th></th>\n",
       "      <th>Gender</th>\n",
       "      <th>Tumor_grade</th>\n",
       "      <th>Gene_Idh1</th>\n",
       "      <th>Gene_Idh2</th>\n",
       "      <th>Tumor_Location</th>\n",
       "      <th>Tumor_Position</th>\n",
       "      <th>Clinical_evolution</th>\n",
       "      <th>Surgery_type</th>\n",
       "      <th>Age_surgery</th>\n",
       "      <th>life_expectancy</th>\n",
       "      <th>life_expectancy_bin</th>\n",
       "    </tr>\n",
       "  </thead>\n",
       "  <tbody>\n",
       "    <tr>\n",
       "      <th>0</th>\n",
       "      <td>1</td>\n",
       "      <td>3</td>\n",
       "      <td>1</td>\n",
       "      <td>1</td>\n",
       "      <td>2</td>\n",
       "      <td>1</td>\n",
       "      <td>0</td>\n",
       "      <td>2</td>\n",
       "      <td>60.0</td>\n",
       "      <td>268.0</td>\n",
       "      <td>0</td>\n",
       "    </tr>\n",
       "    <tr>\n",
       "      <th>1</th>\n",
       "      <td>1</td>\n",
       "      <td>2</td>\n",
       "      <td>0</td>\n",
       "      <td>2</td>\n",
       "      <td>6</td>\n",
       "      <td>1</td>\n",
       "      <td>3</td>\n",
       "      <td>3</td>\n",
       "      <td>42.0</td>\n",
       "      <td>30.0</td>\n",
       "      <td>0</td>\n",
       "    </tr>\n",
       "  </tbody>\n",
       "</table>\n",
       "</div>"
      ],
      "text/plain": [
       "   Gender  Tumor_grade  Gene_Idh1  Gene_Idh2  Tumor_Location  Tumor_Position  \\\n",
       "0       1            3          1          1               2               1   \n",
       "1       1            2          0          2               6               1   \n",
       "\n",
       "   Clinical_evolution  Surgery_type  Age_surgery  life_expectancy  \\\n",
       "0                   0             2         60.0            268.0   \n",
       "1                   3             3         42.0             30.0   \n",
       "\n",
       "   life_expectancy_bin  \n",
       "0                    0  \n",
       "1                    0  "
      ]
     },
     "execution_count": 49,
     "metadata": {},
     "output_type": "execute_result"
    }
   ],
   "source": [
    "df_clean.head(2)\n",
    "#df_clean_dummies.head(2)"
   ]
  },
  {
   "cell_type": "code",
   "execution_count": 131,
   "metadata": {
    "collapsed": false
   },
   "outputs": [
    {
     "data": {
      "image/png": "[encoded data removed]",
      "text/plain": [
       "<matplotlib.figure.Figure at 0x1148ff6d8>"
      ]
     },
     "metadata": {},
     "output_type": "display_data"
    }
   ],
   "source": [
    "g = sns.pairplot(data=df_1,vars=['Tumor_grade'],hue='Gene_Idh1',size=3)"
   ]
  },
  {
   "cell_type": "code",
   "execution_count": 50,
   "metadata": {
    "collapsed": false
   },
   "outputs": [
    {
     "data": {
      "text/html": [
       "<div>\n",
       "<style>\n",
       "    .dataframe thead tr:only-child th {\n",
       "        text-align: right;\n",
       "    }\n",
       "\n",
       "    .dataframe thead th {\n",
       "        text-align: left;\n",
       "    }\n",
       "\n",
       "    .dataframe tbody tr th {\n",
       "        vertical-align: top;\n",
       "    }\n",
       "</style>\n",
       "<table border=\"1\" class=\"dataframe\">\n",
       "  <thead>\n",
       "    <tr style=\"text-align: right;\">\n",
       "      <th></th>\n",
       "      <th>Tumor_grade</th>\n",
       "      <th>Age_surgery</th>\n",
       "      <th>Gender_F</th>\n",
       "      <th>Gender_M</th>\n",
       "      <th>Gene_Idh1_ALTERE</th>\n",
       "      <th>Gene_Idh1_NC</th>\n",
       "      <th>Gene_Idh1_NORMAL</th>\n",
       "      <th>Gene_Idh2_ALTERE</th>\n",
       "      <th>Gene_Idh2_NC</th>\n",
       "      <th>Gene_Idh2_NORMAL</th>\n",
       "      <th>Tumor_Location_Frontal</th>\n",
       "      <th>Tumor_Location_Rolandique</th>\n",
       "      <th>Tumor_Location_autre</th>\n",
       "      <th>Tumor_Location_cervelet</th>\n",
       "      <th>Tumor_Location_moelle/rachis</th>\n",
       "      <th>Tumor_Location_non précisé</th>\n",
       "      <th>Tumor_Location_sus-T hémisp</th>\n",
       "      <th>Tumor_Location_sus-T hémisp+profond</th>\n",
       "      <th>Tumor_Location_sus-T profond</th>\n",
       "      <th>Tumor_Location_tronc cérébral</th>\n",
       "      <th>Tumor_Location_ventriculaire</th>\n",
       "      <th>Tumor_Position_D</th>\n",
       "      <th>Tumor_Position_G</th>\n",
       "      <th>Tumor_Position_bilatéral</th>\n",
       "      <th>Tumor_Position_médian</th>\n",
       "      <th>Tumor_Position_non précisé</th>\n",
       "      <th>Clinical_evolution_P1</th>\n",
       "      <th>Clinical_evolution_P2</th>\n",
       "      <th>Clinical_evolution_P3</th>\n",
       "      <th>Clinical_evolution_TT ini</th>\n",
       "      <th>Surgery_type_aucune</th>\n",
       "      <th>Surgery_type_biopsie</th>\n",
       "      <th>Surgery_type_exérèse</th>\n",
       "      <th>Surgery_type_partielle</th>\n",
       "    </tr>\n",
       "  </thead>\n",
       "  <tbody>\n",
       "    <tr>\n",
       "      <th>408</th>\n",
       "      <td>4.0</td>\n",
       "      <td>79.0</td>\n",
       "      <td>1</td>\n",
       "      <td>0</td>\n",
       "      <td>0</td>\n",
       "      <td>0</td>\n",
       "      <td>1</td>\n",
       "      <td>0</td>\n",
       "      <td>0</td>\n",
       "      <td>1</td>\n",
       "      <td>0</td>\n",
       "      <td>0</td>\n",
       "      <td>0</td>\n",
       "      <td>0</td>\n",
       "      <td>0</td>\n",
       "      <td>0</td>\n",
       "      <td>1</td>\n",
       "      <td>0</td>\n",
       "      <td>0</td>\n",
       "      <td>0</td>\n",
       "      <td>0</td>\n",
       "      <td>0</td>\n",
       "      <td>1</td>\n",
       "      <td>0</td>\n",
       "      <td>0</td>\n",
       "      <td>0</td>\n",
       "      <td>0</td>\n",
       "      <td>0</td>\n",
       "      <td>0</td>\n",
       "      <td>1</td>\n",
       "      <td>0</td>\n",
       "      <td>1</td>\n",
       "      <td>0</td>\n",
       "      <td>0</td>\n",
       "    </tr>\n",
       "    <tr>\n",
       "      <th>1352</th>\n",
       "      <td>2.0</td>\n",
       "      <td>32.0</td>\n",
       "      <td>0</td>\n",
       "      <td>1</td>\n",
       "      <td>0</td>\n",
       "      <td>0</td>\n",
       "      <td>1</td>\n",
       "      <td>0</td>\n",
       "      <td>0</td>\n",
       "      <td>1</td>\n",
       "      <td>0</td>\n",
       "      <td>0</td>\n",
       "      <td>0</td>\n",
       "      <td>0</td>\n",
       "      <td>0</td>\n",
       "      <td>0</td>\n",
       "      <td>1</td>\n",
       "      <td>0</td>\n",
       "      <td>0</td>\n",
       "      <td>0</td>\n",
       "      <td>0</td>\n",
       "      <td>0</td>\n",
       "      <td>1</td>\n",
       "      <td>0</td>\n",
       "      <td>0</td>\n",
       "      <td>0</td>\n",
       "      <td>0</td>\n",
       "      <td>0</td>\n",
       "      <td>0</td>\n",
       "      <td>1</td>\n",
       "      <td>0</td>\n",
       "      <td>1</td>\n",
       "      <td>0</td>\n",
       "      <td>0</td>\n",
       "    </tr>\n",
       "  </tbody>\n",
       "</table>\n",
       "</div>"
      ],
      "text/plain": [
       "      Tumor_grade  Age_surgery  Gender_F  Gender_M  Gene_Idh1_ALTERE  \\\n",
       "408           4.0         79.0         1         0                 0   \n",
       "1352          2.0         32.0         0         1                 0   \n",
       "\n",
       "      Gene_Idh1_NC  Gene_Idh1_NORMAL  Gene_Idh2_ALTERE  Gene_Idh2_NC  \\\n",
       "408              0                 1                 0             0   \n",
       "1352             0                 1                 0             0   \n",
       "\n",
       "      Gene_Idh2_NORMAL  Tumor_Location_Frontal  Tumor_Location_Rolandique  \\\n",
       "408                  1                       0                          0   \n",
       "1352                 1                       0                          0   \n",
       "\n",
       "      Tumor_Location_autre  Tumor_Location_cervelet  \\\n",
       "408                      0                        0   \n",
       "1352                     0                        0   \n",
       "\n",
       "      Tumor_Location_moelle/rachis  Tumor_Location_non précisé  \\\n",
       "408                              0                           0   \n",
       "1352                             0                           0   \n",
       "\n",
       "      Tumor_Location_sus-T hémisp  Tumor_Location_sus-T hémisp+profond  \\\n",
       "408                             1                                    0   \n",
       "1352                            1                                    0   \n",
       "\n",
       "      Tumor_Location_sus-T profond  Tumor_Location_tronc cérébral  \\\n",
       "408                              0                              0   \n",
       "1352                             0                              0   \n",
       "\n",
       "      Tumor_Location_ventriculaire  Tumor_Position_D  Tumor_Position_G  \\\n",
       "408                              0                 0                 1   \n",
       "1352                             0                 0                 1   \n",
       "\n",
       "      Tumor_Position_bilatéral  Tumor_Position_médian  \\\n",
       "408                          0                      0   \n",
       "1352                         0                      0   \n",
       "\n",
       "      Tumor_Position_non précisé  Clinical_evolution_P1  \\\n",
       "408                            0                      0   \n",
       "1352                           0                      0   \n",
       "\n",
       "      Clinical_evolution_P2  Clinical_evolution_P3  Clinical_evolution_TT ini  \\\n",
       "408                       0                      0                          1   \n",
       "1352                      0                      0                          1   \n",
       "\n",
       "      Surgery_type_aucune  Surgery_type_biopsie  Surgery_type_exérèse  \\\n",
       "408                     0                     1                     0   \n",
       "1352                    0                     1                     0   \n",
       "\n",
       "      Surgery_type_partielle  \n",
       "408                        0  \n",
       "1352                       0  "
      ]
     },
     "execution_count": 50,
     "metadata": {},
     "output_type": "execute_result"
    }
   ],
   "source": [
    "X_train, X_test, y_train, y_test = train_test_split(df_clean.drop([\"life_expectancy\",\"life_expectancy_bin\"], axis=1), df_clean.life_expectancy_bin,\n",
    "                                                    train_size=0.8, test_size=0.2, random_state=1)\n",
    "#X_train.describe(include=['O'])\n",
    "#X_train.describe(include=[np.number])\n",
    "X_train_dummies, X_test_dummies, y_train_dummies, y_test_dummies = train_test_split(df_clean_dummies, df_clean.life_expectancy_bin,\n",
    "                                                   train_size=0.8, test_size=0.2, random_state=1)\n",
    "\n",
    "X_train_dummies.head(2)\n"
   ]
  },
  {
   "cell_type": "markdown",
   "metadata": {},
   "source": [
    "# We move forward with two encodings, dummies and categorical"
   ]
  },
  {
   "cell_type": "markdown",
   "metadata": {},
   "source": [
    "Now apply PCA to lower the dimensionality of our data. And then perform a simple classification using a Decision Tree or K-means. Next Random Forests and then Regression with some polynomial function."
   ]
  },
  {
   "cell_type": "code",
   "execution_count": null,
   "metadata": {
    "collapsed": true
   },
   "outputs": [],
   "source": [
    "X_train.describe(include=[np.number])"
   ]
  },
  {
   "cell_type": "markdown",
   "metadata": {},
   "source": [
    "# PCA on dummies or categorical data doesn't work\n",
    "I suspect it has to do with the continous variables being there too. Otherwise it should totally catch what's happening no? "
   ]
  },
  {
   "cell_type": "code",
   "execution_count": 132,
   "metadata": {
    "collapsed": false
   },
   "outputs": [
    {
     "data": {
      "text/plain": [
       "DecisionTreeClassifier(class_weight=None, criterion='entropy', max_depth=6,\n",
       "            max_features=None, max_leaf_nodes=None,\n",
       "            min_impurity_decrease=0.0, min_impurity_split=None,\n",
       "            min_samples_leaf=1, min_samples_split=2,\n",
       "            min_weight_fraction_leaf=0.0, presort=False, random_state=1500,\n",
       "            splitter='best')"
      ]
     },
     "execution_count": 132,
     "metadata": {},
     "output_type": "execute_result"
    }
   ],
   "source": [
    "dt = DecisionTreeClassifier(criterion='entropy', max_depth=6,random_state=1500)\n",
    "dt.fit(X_train, y_train)"
   ]
  },
  {
   "cell_type": "code",
   "execution_count": 116,
   "metadata": {
    "collapsed": false
   },
   "outputs": [],
   "source": [
    "dot_data = tree.export_graphviz(dt, out_file=None, \n",
    "    feature_names= df_clean.drop([\"life_expectancy_bin\",\"life_expectancy\"], axis=1).columns,  \n",
    "    class_names = labels,  \n",
    "    filled=True, rounded=True,  \n",
    "    special_characters=True)\n",
    "graph = graphviz.Source(dot_data)\n",
    "graph\n",
    "#To create a file do this:\n",
    "#To create a file do this:\n",
    "with open(\"tree.dot\", 'w') as f:\n",
    "     f = export_graphviz(dt, out_file=f,\n",
    "                         feature_names = df_clean.drop([\"life_expectancy_bin\",\"life_expectancy\"], axis=1).columns,  \n",
    "                         class_names = labels,   \n",
    "                         filled=True, rounded=True,  \n",
    "                         special_characters=True)"
   ]
  },
  {
   "cell_type": "code",
   "execution_count": 133,
   "metadata": {
    "collapsed": false
   },
   "outputs": [
    {
     "name": "stdout",
     "output_type": "stream",
     "text": [
      "Classification accuracy on training set: 0.664\n",
      "Classification accuracy on test set: 0.614\n"
     ]
    }
   ],
   "source": [
    "prediction_train = dt.predict(X=X_train)\n",
    "prediction_test = dt.predict(X=X_test)\n",
    "print('Classification accuracy on training set: {:.3f}'.format(accuracy_score(y_train,prediction_train)))\n",
    "print('Classification accuracy on test set: {:.3f}'.format(accuracy_score(y_test,prediction_test)))"
   ]
  },
  {
   "cell_type": "code",
   "execution_count": null,
   "metadata": {
    "collapsed": true
   },
   "outputs": [],
   "source": []
  },
  {
   "cell_type": "code",
   "execution_count": null,
   "metadata": {
    "collapsed": true
   },
   "outputs": [],
   "source": []
  },
  {
   "cell_type": "code",
   "execution_count": null,
   "metadata": {
    "collapsed": true
   },
   "outputs": [],
   "source": []
  },
  {
   "cell_type": "code",
   "execution_count": null,
   "metadata": {
    "collapsed": true
   },
   "outputs": [],
   "source": []
  },
  {
   "cell_type": "code",
   "execution_count": null,
   "metadata": {
    "collapsed": true
   },
   "outputs": [],
   "source": []
  },
  {
   "cell_type": "code",
   "execution_count": null,
   "metadata": {
    "collapsed": true
   },
   "outputs": [],
   "source": []
  },
  {
   "cell_type": "code",
   "execution_count": null,
   "metadata": {
    "collapsed": true
   },
   "outputs": [],
   "source": []
  },
  {
   "cell_type": "code",
   "execution_count": null,
   "metadata": {
    "collapsed": true
   },
   "outputs": [],
   "source": []
  },
  {
   "cell_type": "code",
   "execution_count": null,
   "metadata": {
    "collapsed": true
   },
   "outputs": [],
   "source": []
  },
  {
   "cell_type": "code",
   "execution_count": null,
   "metadata": {
    "collapsed": true
   },
   "outputs": [],
   "source": []
  },
  {
   "cell_type": "code",
   "execution_count": null,
   "metadata": {
    "collapsed": true
   },
   "outputs": [],
   "source": []
  },
  {
   "cell_type": "markdown",
   "metadata": {},
   "source": [
    "Random Forests"
   ]
  },
  {
   "cell_type": "code",
   "execution_count": 123,
   "metadata": {
    "collapsed": false
   },
   "outputs": [
    {
     "data": {
      "image/png": "[encoded data removed]",
      "text/plain": [
       "<matplotlib.figure.Figure at 0x11495c470>"
      ]
     },
     "metadata": {},
     "output_type": "display_data"
    },
    {
     "name": "stdout",
     "output_type": "stream",
     "text": [
      "Optimal number of estimators based on validation set: 1000\n",
      "Log-loss accuracy on validation set: 0.927\n"
     ]
    }
   ],
   "source": [
    "# Decide RF n_estimators based on validation set\n",
    "estimators_range = [5, 10, 20, 50, 100, 200, 300, 400, 500, 1000]\n",
    "validation_accuracy = []\n",
    "for n_estimators in estimators_range:\n",
    "    rfc_b = RandomForestClassifier(criterion='entropy', \n",
    "                                   n_estimators=n_estimators,\n",
    "                                   max_features = 3,\n",
    "                                   n_jobs = -1,\n",
    "                                   random_state = 31)\n",
    "    rfc_b.fit(X_train, y_train)\n",
    "    validation_accuracy.append(log_loss(y_test, rfc_b.predict_proba(X_test)))\n",
    "n_estimators_optimal = estimators_range[np.argmin(validation_accuracy)]\n",
    "plt.figure()\n",
    "plt.scatter(estimators_range, validation_accuracy)\n",
    "plt.ylabel('Log-loss accuracy on validation set')\n",
    "plt.xlabel('Number of estimators for Random Forest Classifier')\n",
    "plt.show()\n",
    "print('Optimal number of estimators based on validation set: {}\\nLog-loss accuracy on validation set: {:.3f}'.\n",
    "    format(n_estimators_optimal, validation_accuracy[np.argmin(validation_accuracy)]))   "
   ]
  },
  {
   "cell_type": "code",
   "execution_count": null,
   "metadata": {
    "collapsed": true
   },
   "outputs": [],
   "source": []
  },
  {
   "cell_type": "markdown",
   "metadata": {},
   "source": []
  },
  {
   "cell_type": "markdown",
   "metadata": {},
   "source": []
  },
  {
   "cell_type": "markdown",
   "metadata": {},
   "source": []
  },
  {
   "cell_type": "markdown",
   "metadata": {},
   "source": []
  },
  {
   "cell_type": "markdown",
   "metadata": {},
   "source": []
  },
  {
   "cell_type": "markdown",
   "metadata": {},
   "source": []
  },
  {
   "cell_type": "markdown",
   "metadata": {},
   "source": [
    "# Not so relevant below here "
   ]
  },
  {
   "cell_type": "code",
   "execution_count": null,
   "metadata": {
    "collapsed": true
   },
   "outputs": [],
   "source": [
    "rs = {}\n",
    "n_components = [1,2,3,4,5,6,7]\n",
    "#n_components = [1,2,3,5,10,20,30]\n",
    "for nc in n_components:\n",
    "    reduced_data = PCA(n_components=nc).fit_transform(X_train)\n",
    "    kmeans_pca = KMeans(n_clusters=12, random_state=1337)\n",
    "    kmeans_pca.fit(reduced_data)\n",
    "    rs[nc] = adjusted_rand_score(y_train, kmeans_pca.labels_)\n",
    "    print('nc={}, inertia={}, randscore={}'.format(nc, kmeans_pca.inertia_, rs[nc]))\n",
    "\n",
    "\n",
    "pca_dummies = PCA(n_components = 4)\n",
    "pca_dummies.fit(X_train_dummies)\n",
    "plt.figure()\n",
    "plt.plot(np.arange(1,pca_dummies.explained_variance_ratio_.size + 1), pca_dummies.explained_variance_ratio_)\n",
    "plt.xlabel('n_components')\n",
    "plt.ylabel('explained_variance_ratio_')\n",
    "n_eigenvectors_95pc = np.argmax(np.cumsum(pca_dummies.explained_variance_ratio_) > .95) + 1\n",
    "max_variance = np.max(pca_dummies.explained_variance_ratio_)\n",
    "plt.vlines(x = n_eigenvectors_95pc, ymin=0, ymax=max_variance, linestyle='--')\n",
    "plt.annotate('95% variance explained\\nby {} eigenvectors'.format(n_eigenvectors_95pc), \n",
    "             xy=(n_eigenvectors_95pc, pca_dummies.explained_variance_ratio_[n_eigenvectors_95pc]), \n",
    "             xytext=(n_eigenvectors_95pc+10, pca_dummies.explained_variance_ratio_[n_eigenvectors_95pc]+.05),\n",
    "             arrowprops=dict(facecolor='black', shrink=0.05),)\n",
    "plt.margins(0.1, tight=True)\n",
    "plt.show()"
   ]
  },
  {
   "cell_type": "code",
   "execution_count": 54,
   "metadata": {
    "collapsed": false
   },
   "outputs": [
    {
     "name": "stdout",
     "output_type": "stream",
     "text": [
      "(1, 5)\n",
      "Mean Accuracy: 0.537409568771 Standard Error: 0.0150285943667\n"
     ]
    }
   ],
   "source": [
    "# Question is how many components do you train it with. \n",
    "# that's why you plot the variance ratio first to see where you have 95%\n",
    "pca = PCA(n_components = 4)\n",
    "X_train_pca = pca.fit_transform(X_train)\n",
    "\n",
    "# Here we can change it and add the decision tree if we want. \n",
    "classifier = DecisionTreeClassifier(criterion='entropy',max_depth =5,random_state=1337)\n",
    "\n",
    "# Use Cross Validation to determine the good parameteres\n",
    "n_folds = 5\n",
    "cv = KFold(n_splits=n_folds, shuffle=True, random_state=1000)\n",
    "\n",
    "# 1 since we have only one classifier - for now\n",
    "score_array = np.zeros((1, cv.n_splits))\n",
    "print(score_array.shape)\n",
    "\n",
    "\n",
    "for i, (train_idx, valid_idx) in enumerate(cv.split(X_train_pca)):\n",
    "        X_tr = X_train_pca[train_idx,:]\n",
    "        X_val = X_train_pca[valid_idx,:]\n",
    "        \n",
    "        le = LabelEncoder()\n",
    "        y_le = le.fit_transform(y_train)\n",
    "        y_tr = y_le[train_idx]\n",
    "        y_val = y_le[valid_idx]\n",
    "        classifier.fit(X_tr,y_tr)\n",
    "        score_array[:,i] = classifier.score(X_val, y_val)\n",
    "        \n",
    "print('Mean Accuracy: ' + str(np.mean(score_array))+ \" Standard Error: \"+ str(np.std(score_array)/np.sqrt(n_folds)))\n",
    "#print(pd.DataFrame.from_dict(\n",
    " #       {'Model': labels, \n",
    "#        'Mean Accuracy':np.mean(score_array), \n",
    "  #       'Standard Error':np.std(score_array)/np.sqrt(n_folds)\n",
    "##      })[['Model', 'Mean Accuracy', 'Standard Error']])"
   ]
  },
  {
   "cell_type": "code",
   "execution_count": null,
   "metadata": {
    "collapsed": true
   },
   "outputs": [],
   "source": [
    "# Question is how many components do you train it with. \n",
    "# that's why you plot the variance ratio first to see where you have 95%\n",
    "pca = PCA(n_components = X_train.shape[1])\n",
    "X_train_pca = pca.fit_transform(X_train)\n",
    "\n",
    "# Here we can change it and add the decision tree if we want. \n",
    "clfs = [GaussianNB(), DecisionTreeClassifier(criterion='entropy',max_depth =3,random_state=1337)]\n",
    "\n",
    "# doesn't make sense to use GNB\n",
    "labels = ['GNB','DecisionTreeClassifier']\n",
    "data = [X_train, X_train_pca]\n",
    "n_folds = 5\n",
    "cv = KFold(n_splits=n_folds, shuffle=True, random_state=1337)\n",
    "\n",
    "score_array = np.zeros((len(clfs), cv.n_splits))\n",
    "\n",
    "for ii, clf in enumerate(clfs):\n",
    "    for jj, (train_idx, valid_idx) in enumerate(cv.split(data[ii])):\n",
    "        X_tr = data[ii][train_idx,:]\n",
    "        X_val = data[ii][valid_idx,:]\n",
    "        y_tr = y_train[train_idx]\n",
    "        y_val = y_train[valid_idx]\n",
    "        clf.fit(X_tr,y_tr)\n",
    "        score_array[ii,jj] = clf.score(X_val, y_val)\n",
    "\n",
    "        \n",
    "print(pd.DataFrame.from_dict(\n",
    "        {'Model': labels, \n",
    "         'Mean Accuracy':np.mean(score_array,axis=1), \n",
    "         'Standard Error':np.std(score_array,axis=1)/np.sqrt(n_folds)\n",
    "        })[['Model', 'Mean Accuracy', 'Standard Error']])\n",
    "\n",
    "plt.figure()        \n",
    "plt.errorbar(range(len(clfs)), \n",
    "            np.mean(score_array,axis=1), \n",
    "            yerr=np.std(score_array,axis=1)/np.sqrt(n_folds), \n",
    "            fmt='o')\n",
    "plt.xticks(range(len(clfs)), labels, rotation='vertical')\n",
    "plt.title('Model comparison')\n",
    "plt.margins(0.1, tight=True)\n",
    "plt.show()"
   ]
  },
  {
   "cell_type": "code",
   "execution_count": null,
   "metadata": {
    "collapsed": true
   },
   "outputs": [],
   "source": []
  }
 ],
 "metadata": {
  "anaconda-cloud": {},
  "kernelspec": {
   "display_name": "Python 3",
   "language": "python",
   "name": "python3"
  },
  "language_info": {
   "codemirror_mode": {
    "name": "ipython",
    "version": 3
   },
   "file_extension": ".py",
   "mimetype": "text/x-python",
   "name": "python",
   "nbconvert_exporter": "python",
   "pygments_lexer": "ipython3",
   "version": "3.6.2"
  }
 },
 "nbformat": 4,
 "nbformat_minor": 2
}
