{
 "cells": [
  {
   "cell_type": "code",
   "execution_count": 1,
   "metadata": {
    "collapsed": true
   },
   "outputs": [],
   "source": [
    "import pandas as pd\n",
    "import numpy as np\n",
    "from pathlib import Path\n",
    "import os \n",
    "from datetime import timedelta\n",
    "pd.set_option('display.max_columns', None)\n",
    "\n",
    "data_path = str(Path(os.getcwd())) + \"/data/\"\n",
    "\n",
    "def write_to_pickle(dataframe, name):\n",
    "    dataframe.to_pickle(data_path + name + \".pickle\")\n",
    "def read_from_pickle(name): \n",
    "    return pd.read_pickle(data_path + name + \".pickle\")"
   ]
  },
  {
   "cell_type": "code",
   "execution_count": 2,
   "metadata": {
    "collapsed": true
   },
   "outputs": [],
   "source": [
    "df = read_from_pickle('final_dataset')\n",
    "df_no_censoring = read_from_pickle('final_dataset_no_censoring')"
   ]
  },
  {
   "cell_type": "code",
   "execution_count": 5,
   "metadata": {},
   "outputs": [
    {
     "data": {
      "text/plain": [
       "(2635, 25)"
      ]
     },
     "execution_count": 5,
     "metadata": {},
     "output_type": "execute_result"
    }
   ],
   "source": [
    "df.shape"
   ]
  },
  {
   "cell_type": "code",
   "execution_count": 6,
   "metadata": {},
   "outputs": [
    {
     "data": {
      "text/plain": [
       "(2086, 25)"
      ]
     },
     "execution_count": 6,
     "metadata": {},
     "output_type": "execute_result"
    }
   ],
   "source": [
    "df_no_censoring.shape"
   ]
  },
  {
   "cell_type": "code",
   "execution_count": 7,
   "metadata": {
    "collapsed": true
   },
   "outputs": [],
   "source": [
    "# Drop ID so that MICE imputation works\n",
    "df.drop(['ID'], axis=1,inplace=True)\n",
    "df_no_censoring.drop(['ID'], axis=1, inplace =True)"
   ]
  },
  {
   "cell_type": "code",
   "execution_count": 8,
   "metadata": {},
   "outputs": [
    {
     "name": "stdout",
     "output_type": "stream",
     "text": [
      "0 0\n"
     ]
    }
   ],
   "source": [
    "# checking how many observations we have with different numbers of NA data across variables\n",
    "no_NAN = df.dropna(thresh = 35)\n",
    "no_NAN_censoring = df.dropna(thresh = 35)\n",
    "print(len(no_NAN), len(no_NAN_censoring))\n",
    "\n",
    "df.drop(\"RX\", axis = 1, inplace=True)\n",
    "df.drop(\"CHEM\", axis = 1, inplace=True)\n",
    "\n",
    "df_no_censoring.drop(\"RX\", axis = 1, inplace=True)\n",
    "df_no_censoring.drop(\"CHEM\", axis = 1, inplace=True)"
   ]
  },
  {
   "cell_type": "code",
   "execution_count": 9,
   "metadata": {
    "collapsed": true
   },
   "outputs": [],
   "source": [
    "#export dataset for imputation\n",
    "df.to_csv('data/preimputation_dataset_with_censoring_18022018.csv', index=False)"
   ]
  },
  {
   "cell_type": "code",
   "execution_count": 9,
   "metadata": {
    "collapsed": true
   },
   "outputs": [],
   "source": [
    "df.to_csv('data/preimputation_datasets_without_censoring_18022018.csv',index=False)"
   ]
  },
  {
   "cell_type": "markdown",
   "metadata": {},
   "source": [
    "here we will need to import the imputed dataset, which used life expectancy for the information it contains, and replace\n",
    "this variable with the same column from the pre imputation dataset, since we are not interested in the imputed target variable values"
   ]
  },
  {
   "cell_type": "code",
   "execution_count": null,
   "metadata": {
    "collapsed": true
   },
   "outputs": [],
   "source": [
    "path_alex = \"\"\n",
    "df_imputed = pd.read_csv(path_alex + \"/imputed_dataset_with_censoring_18022018\")\n",
    "df_imputed['life_expectancy'] = df_final_kps['life_expectancy']\n",
    "df_imputed['life_expectancy'].isnull().value_counts()\n",
    "\n",
    "df_imputed.to_csv(\"Dropbox/Healthcare work Patric/imputed_dataset_with_censoring_16022018.csv\")\n",
    "df_imputed_knn = pd.read_csv(\"Dropbox/Healthcare work Patric/imputed_dataset_with_censoring_16.02.2018_kNN_before life expectancy reset.csv\")\n",
    "df_imputed_knn['life_expectancy'] = df_final_kps['life_expectancy']\n",
    "df_imputed_knn['life_expectancy'].isnull().value_counts()\n",
    "df_imputed_knn.to_csv(\"Dropbox/Healthcare work Patric/imputed_dataset_with_censoring_16022018_kNN.csv\")"
   ]
  }
 ],
 "metadata": {
  "kernelspec": {
   "display_name": "Python 3",
   "language": "python",
   "name": "python3"
  },
  "language_info": {
   "codemirror_mode": {
    "name": "ipython",
    "version": 3
   },
   "file_extension": ".py",
   "mimetype": "text/x-python",
   "name": "python",
   "nbconvert_exporter": "python",
   "pygments_lexer": "ipython3",
   "version": "3.6.2"
  }
 },
 "nbformat": 4,
 "nbformat_minor": 2
}
