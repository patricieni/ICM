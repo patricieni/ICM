{
 "cells": [
  {
   "cell_type": "code",
   "execution_count": 1,
   "metadata": {
    "collapsed": true
   },
   "outputs": [],
   "source": [
    "import pandas as pd\n",
    "import numpy as np\n",
    "from pathlib import Path\n",
    "import os \n",
    "from datetime import timedelta\n",
    "pd.set_option('display.max_columns', None)\n",
    "\n",
    "data_path = str(Path(os.getcwd())) + \"/data/\"\n",
    "\n",
    "def write_to_pickle(dataframe, name):\n",
    "    dataframe.to_pickle(data_path + name + \".pickle\")\n",
    "def read_from_pickle(name): \n",
    "    return pd.read_pickle(data_path + name + \".pickle\")"
   ]
  },
  {
   "cell_type": "code",
   "execution_count": 2,
   "metadata": {
    "collapsed": true
   },
   "outputs": [],
   "source": [
    "df = read_from_pickle('final_dataset')"
   ]
  },
  {
   "cell_type": "code",
   "execution_count": 3,
   "metadata": {},
   "outputs": [
    {
     "data": {
      "text/html": [
       "<div>\n",
       "<style scoped>\n",
       "    .dataframe tbody tr th:only-of-type {\n",
       "        vertical-align: middle;\n",
       "    }\n",
       "\n",
       "    .dataframe tbody tr th {\n",
       "        vertical-align: top;\n",
       "    }\n",
       "\n",
       "    .dataframe thead th {\n",
       "        text-align: right;\n",
       "    }\n",
       "</style>\n",
       "<table border=\"1\" class=\"dataframe\">\n",
       "  <thead>\n",
       "    <tr style=\"text-align: right;\">\n",
       "      <th></th>\n",
       "      <th>ID</th>\n",
       "      <th>Gender</th>\n",
       "      <th>Tumor_type</th>\n",
       "      <th>Tumor_grade</th>\n",
       "      <th>Gene_P53</th>\n",
       "      <th>Gene_Mgmt</th>\n",
       "      <th>Gene_Egfr</th>\n",
       "      <th>Gene_Mdm2</th>\n",
       "      <th>Gene_Cdk4</th>\n",
       "      <th>Gene_P16</th>\n",
       "      <th>Gene_Ihc_Atrx</th>\n",
       "      <th>Gene_Ch10Q</th>\n",
       "      <th>Gene_Ch9P</th>\n",
       "      <th>Tumor_Location</th>\n",
       "      <th>Tumor_Position</th>\n",
       "      <th>Surgery_type</th>\n",
       "      <th>Age_surgery</th>\n",
       "      <th>life_expectancy</th>\n",
       "      <th>IDH</th>\n",
       "      <th>TERT</th>\n",
       "      <th>IDH_TERT</th>\n",
       "      <th>1p19q_codel</th>\n",
       "      <th>IK</th>\n",
       "      <th>RX</th>\n",
       "      <th>CHEM</th>\n",
       "    </tr>\n",
       "  </thead>\n",
       "  <tbody>\n",
       "    <tr>\n",
       "      <th>0</th>\n",
       "      <td>10</td>\n",
       "      <td>M</td>\n",
       "      <td>gliome</td>\n",
       "      <td>3.0</td>\n",
       "      <td>NC</td>\n",
       "      <td>NaN</td>\n",
       "      <td>NORMAL</td>\n",
       "      <td>NaN</td>\n",
       "      <td>NaN</td>\n",
       "      <td>NaN</td>\n",
       "      <td>NaN</td>\n",
       "      <td>PERTE</td>\n",
       "      <td>NON PERTE</td>\n",
       "      <td>A</td>\n",
       "      <td>G</td>\n",
       "      <td>partielle</td>\n",
       "      <td>42.0</td>\n",
       "      <td>30.0</td>\n",
       "      <td>mutant</td>\n",
       "      <td>wt</td>\n",
       "      <td>3.0</td>\n",
       "      <td>0.0</td>\n",
       "      <td>NaN</td>\n",
       "      <td>1.0</td>\n",
       "      <td>1.0</td>\n",
       "    </tr>\n",
       "    <tr>\n",
       "      <th>1</th>\n",
       "      <td>11</td>\n",
       "      <td>M</td>\n",
       "      <td>astrocytome</td>\n",
       "      <td>2.0</td>\n",
       "      <td>NC</td>\n",
       "      <td>NaN</td>\n",
       "      <td>NaN</td>\n",
       "      <td>NaN</td>\n",
       "      <td>NaN</td>\n",
       "      <td>NaN</td>\n",
       "      <td>NaN</td>\n",
       "      <td>NaN</td>\n",
       "      <td>NaN</td>\n",
       "      <td>N</td>\n",
       "      <td>non précisé</td>\n",
       "      <td>exérèse</td>\n",
       "      <td>28.0</td>\n",
       "      <td>2069.0</td>\n",
       "      <td>NC</td>\n",
       "      <td>NaN</td>\n",
       "      <td>NaN</td>\n",
       "      <td>NaN</td>\n",
       "      <td>NaN</td>\n",
       "      <td>1.0</td>\n",
       "      <td>NaN</td>\n",
       "    </tr>\n",
       "  </tbody>\n",
       "</table>\n",
       "</div>"
      ],
      "text/plain": [
       "   ID Gender   Tumor_type  Tumor_grade Gene_P53 Gene_Mgmt Gene_Egfr Gene_Mdm2  \\\n",
       "0  10      M       gliome          3.0       NC       NaN    NORMAL       NaN   \n",
       "1  11      M  astrocytome          2.0       NC       NaN       NaN       NaN   \n",
       "\n",
       "  Gene_Cdk4 Gene_P16 Gene_Ihc_Atrx Gene_Ch10Q  Gene_Ch9P Tumor_Location  \\\n",
       "0       NaN      NaN           NaN      PERTE  NON PERTE              A   \n",
       "1       NaN      NaN           NaN        NaN        NaN              N   \n",
       "\n",
       "  Tumor_Position Surgery_type  Age_surgery  life_expectancy     IDH TERT  \\\n",
       "0              G    partielle         42.0             30.0  mutant   wt   \n",
       "1    non précisé      exérèse         28.0           2069.0      NC  NaN   \n",
       "\n",
       "   IDH_TERT  1p19q_codel  IK   RX  CHEM  \n",
       "0       3.0          0.0 NaN  1.0   1.0  \n",
       "1       NaN          NaN NaN  1.0   NaN  "
      ]
     },
     "execution_count": 3,
     "metadata": {},
     "output_type": "execute_result"
    }
   ],
   "source": [
    "df.head(2)"
   ]
  },
  {
   "cell_type": "code",
   "execution_count": 5,
   "metadata": {},
   "outputs": [],
   "source": [
    "# Drop ID so that MICE imputation works\n",
    "df.drop(['ID'], axis=1,inplace=True)"
   ]
  },
  {
   "cell_type": "code",
   "execution_count": 7,
   "metadata": {},
   "outputs": [
    {
     "name": "stdout",
     "output_type": "stream",
     "text": [
      "0\n",
      "24\n"
     ]
    }
   ],
   "source": [
    "# checking how many observations we have with different numbers of NA data across variables\n",
    "no_NAN = df.dropna(thresh = 35)\n",
    "print(len(no_NAN))\n",
    "\n",
    "print(len(df.columns))\n",
    "df.drop(\"RX\", axis = 1, inplace=True)\n",
    "df.drop(\"CHEM\", axis = 1, inplace=True)"
   ]
  },
  {
   "cell_type": "code",
   "execution_count": 9,
   "metadata": {
    "collapsed": true
   },
   "outputs": [],
   "source": [
    "#export dataset for imputation\n",
    "df.to_csv('data/preimputation_dataset_with_censoring_18022018.csv', index=False)"
   ]
  },
  {
   "cell_type": "markdown",
   "metadata": {},
   "source": [
    "here we will need to import the imputed dataset, which used life expectancy for the information it contains, and replace\n",
    "this variable with the same column from the pre imputation dataset, since we are not interested in the imputed target variable values"
   ]
  },
  {
   "cell_type": "code",
   "execution_count": null,
   "metadata": {
    "collapsed": true
   },
   "outputs": [],
   "source": [
    "path_alex = \"\"\n",
    "df_imputed = pd.read_csv(path_alex + \"/imputed_dataset_with_censoring_18022018\")\n",
    "df_imputed['life_expectancy'] = df_final_kps['life_expectancy']\n",
    "df_imputed['life_expectancy'].isnull().value_counts()\n",
    "\n",
    "df_imputed.to_csv(\"Dropbox/Healthcare work Patric/imputed_dataset_with_censoring_16022018.csv\")\n",
    "df_imputed_knn = pd.read_csv(\"Dropbox/Healthcare work Patric/imputed_dataset_with_censoring_16.02.2018_kNN_before life expectancy reset.csv\")\n",
    "df_imputed_knn['life_expectancy'] = df_final_kps['life_expectancy']\n",
    "df_imputed_knn['life_expectancy'].isnull().value_counts()\n",
    "df_imputed_knn.to_csv(\"Dropbox/Healthcare work Patric/imputed_dataset_with_censoring_16022018_kNN.csv\")"
   ]
  }
 ],
 "metadata": {
  "kernelspec": {
   "display_name": "Python 3",
   "language": "python",
   "name": "python3"
  },
  "language_info": {
   "codemirror_mode": {
    "name": "ipython",
    "version": 3
   },
   "file_extension": ".py",
   "mimetype": "text/x-python",
   "name": "python",
   "nbconvert_exporter": "python",
   "pygments_lexer": "ipython3",
   "version": "3.6.2"
  }
 },
 "nbformat": 4,
 "nbformat_minor": 2
}
