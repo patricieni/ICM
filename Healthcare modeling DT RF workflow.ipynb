{
 "cells": [
  {
   "cell_type": "markdown",
   "metadata": {},
   "source": [
    "# Decision Trees"
   ]
  },
  {
   "cell_type": "code",
   "execution_count": 3,
   "metadata": {
    "collapsed": false
   },
   "outputs": [],
   "source": [
    "import pandas as pd\n",
    "import numpy as np\n",
    "import sklearn\n",
    "from sklearn.model_selection import train_test_split\n",
    "from sklearn.model_selection import cross_val_predict\n",
    "from sklearn.metrics import mean_absolute_error"
   ]
  },
  {
   "cell_type": "code",
   "execution_count": 5,
   "metadata": {
    "collapsed": true
   },
   "outputs": [],
   "source": [
    "#import imputed dataset\n",
    "df = pd.read_csv(\"data/imputed_dataset_no_censoring_26022018_Amelia1.csv\")"
   ]
  },
  {
   "cell_type": "code",
   "execution_count": 6,
   "metadata": {
    "collapsed": false
   },
   "outputs": [],
   "source": [
    "#drop the extra Unnamed:0 column created by MICE imputation\n",
    "df.drop(\"Unnamed: 0\", axis = 1, inplace=True)"
   ]
  },
  {
   "cell_type": "code",
   "execution_count": 7,
   "metadata": {
    "collapsed": false
   },
   "outputs": [
    {
     "data": {
      "text/plain": [
       "Index(['Gender', 'Tumor_type', 'Tumor_grade', 'Gene_P53', 'Gene_Mgmt',\n",
       "       'Gene_Egfr', 'Gene_Mdm2', 'Gene_Cdk4', 'Gene_P16', 'Gene_Ihc_Atrx',\n",
       "       'Gene_Ch10Q', 'Gene_Ch9P', 'Tumor_Location', 'Tumor_Position',\n",
       "       'Surgery_type', 'Age_surgery', 'life_expectancy', 'IDH', 'TERT',\n",
       "       'IDH_TERT', 'X1p19q_codel', 'IK'],\n",
       "      dtype='object')"
      ]
     },
     "execution_count": 7,
     "metadata": {},
     "output_type": "execute_result"
    }
   ],
   "source": [
    "#specify categorical variables coded as numbers as such, to avoid pandas reading them as continuous ones\n",
    "df.columns"
   ]
  },
  {
   "cell_type": "code",
   "execution_count": 8,
   "metadata": {
    "collapsed": true
   },
   "outputs": [],
   "source": [
    "df['Tumor_grade'] = pd.to_numeric(df['Tumor_grade'].astype('category'))\n",
    "df['IDH_TERT'] = pd.to_numeric(df['IDH_TERT'].astype('category'))\n",
    "df['X1p19q_codel'] = pd.to_numeric(df['X1p19q_codel'].astype('category'))"
   ]
  },
  {
   "cell_type": "code",
   "execution_count": 8,
   "metadata": {
    "collapsed": true
   },
   "outputs": [],
   "source": [
    "#create dataset with dummy variables\n",
    "#specify all categorical variables as otherwise .get_dummies() will still ignore IDH_TERT/Tumor_grade etc.\n",
    "df_dummies = pd.get_dummies(df, columns = ['Gender', 'Tumor_type', 'Tumor_grade', 'Gene_P53', 'Gene_Mgmt',\n",
    "       'Gene_Egfr', 'Gene_Mdm2', 'Gene_Cdk4', 'Gene_P16', 'Gene_Ihc_Atrx',\n",
    "       'Gene_Ch10Q', 'Gene_Ch9P', 'Tumor_Location', 'Tumor_Position',\n",
    "       'Surgery_type', 'IDH', 'TERT',\n",
    "       'IDH_TERT', 'X1p19q_codel'])"
   ]
  },
  {
   "cell_type": "code",
   "execution_count": 9,
   "metadata": {
    "collapsed": false
   },
   "outputs": [
    {
     "data": {
      "text/plain": [
       "Index(['Age_surgery', 'life_expectancy', 'IK', 'Gender_F', 'Gender_M',\n",
       "       'Tumor_type_GBM', 'Tumor_type_astrocytome',\n",
       "       'Tumor_type_astrocytome gémistocytique (=A2)',\n",
       "       'Tumor_type_astrocytome pilocytique', 'Tumor_type_gangliogliome',\n",
       "       'Tumor_type_gliome', 'Tumor_type_oligo', 'Tumor_grade_1',\n",
       "       'Tumor_grade_2', 'Tumor_grade_3', 'Tumor_grade_4', 'Gene_P53_ALTERE',\n",
       "       'Gene_P53_NC', 'Gene_P53_NORMAL', 'Gene_Mgmt_METHYLE',\n",
       "       'Gene_Mgmt_NON METHYLE', 'Gene_Egfr_AMPLIFIE', 'Gene_Egfr_NORMAL',\n",
       "       'Gene_Mdm2_AMPLIFIE', 'Gene_Mdm2_NORMAL', 'Gene_Cdk4_AMPLIFIE',\n",
       "       'Gene_Cdk4_NORMAL', 'Gene_P16_DELETE', 'Gene_P16_NORMAL',\n",
       "       'Gene_Ihc_Atrx_Extinction diffuse', 'Gene_Ihc_Atrx_Maintien',\n",
       "       'Gene_Ihc_Atrx_extinction', 'Gene_Ch10Q_NON PERTE', 'Gene_Ch10Q_PERTE',\n",
       "       'Gene_Ch9P_GAIN', 'Gene_Ch9P_NON PERTE', 'Gene_Ch9P_PERTE',\n",
       "       'Tumor_Location_A', 'Tumor_Location_B', 'Tumor_Location_C',\n",
       "       'Tumor_Location_N', 'Tumor_Location_autre', 'Tumor_Position_D',\n",
       "       'Tumor_Position_G', 'Tumor_Position_bilatéral', 'Tumor_Position_médian',\n",
       "       'Tumor_Position_non précisé', 'Surgery_type_aucune',\n",
       "       'Surgery_type_biopsie', 'Surgery_type_exérèse',\n",
       "       'Surgery_type_partielle', 'IDH_NC', 'IDH_mutant', 'IDH_wt',\n",
       "       'TERT_mutant', 'TERT_wt', 'IDH_TERT_2', 'IDH_TERT_3', 'IDH_TERT_4',\n",
       "       'X1p19q_codel_0', 'X1p19q_codel_1'],\n",
       "      dtype='object')"
      ]
     },
     "execution_count": 9,
     "metadata": {},
     "output_type": "execute_result"
    }
   ],
   "source": [
    "#check\n",
    "df_dum.columns"
   ]
  },
  {
   "cell_type": "code",
   "execution_count": 10,
   "metadata": {
    "collapsed": true
   },
   "outputs": [],
   "source": [
    "#separate target column from the predictors\n",
    "predictors = df_dum.drop(\"life_expectancy\", axis = 1)\n",
    "target = df_dum['life_expectancy']"
   ]
  },
  {
   "cell_type": "code",
   "execution_count": 11,
   "metadata": {
    "collapsed": true
   },
   "outputs": [],
   "source": [
    "#now separate the test set from the training one\n",
    "X_train, X_test, Y_train, Y_test = train_test_split(predictors, target, test_size = 0.15, random_state = 37)"
   ]
  },
  {
   "cell_type": "code",
   "execution_count": 12,
   "metadata": {
    "collapsed": false
   },
   "outputs": [
    {
     "data": {
      "text/plain": [
       "((1773, 60), (313, 60), (1773,), (313,))"
      ]
     },
     "execution_count": 12,
     "metadata": {},
     "output_type": "execute_result"
    }
   ],
   "source": [
    "X_train.shape, X_test.shape, Y_train.shape, Y_test.shape"
   ]
  },
  {
   "cell_type": "code",
   "execution_count": 13,
   "metadata": {
    "collapsed": false
   },
   "outputs": [],
   "source": [
    "#now separate the training set into training and validation\n",
    "training_set = pd.concat([X_train, Y_train], axis = 1)"
   ]
  },
  {
   "cell_type": "code",
   "execution_count": 14,
   "metadata": {
    "collapsed": false
   },
   "outputs": [
    {
     "data": {
      "text/plain": [
       "(1773, 61)"
      ]
     },
     "execution_count": 14,
     "metadata": {},
     "output_type": "execute_result"
    }
   ],
   "source": [
    "training_set.shape"
   ]
  },
  {
   "cell_type": "code",
   "execution_count": 15,
   "metadata": {
    "collapsed": true
   },
   "outputs": [],
   "source": [
    "r, c = training_set.shape"
   ]
  },
  {
   "cell_type": "code",
   "execution_count": 19,
   "metadata": {
    "collapsed": true
   },
   "outputs": [],
   "source": [
    "i_cols = []\n",
    "for i in range(0, c-1):\n",
    "    i_cols.append(i)"
   ]
  },
  {
   "cell_type": "code",
   "execution_count": 20,
   "metadata": {
    "collapsed": false
   },
   "outputs": [],
   "source": [
    "#separate target column and rest\n",
    "X = training_set.iloc[:,0:(c-1)]\n",
    "Y = training_set.iloc[:,(c-1)]"
   ]
  },
  {
   "cell_type": "code",
   "execution_count": 21,
   "metadata": {
    "collapsed": false
   },
   "outputs": [
    {
     "data": {
      "text/plain": [
       "((1773, 60), (1773,))"
      ]
     },
     "execution_count": 21,
     "metadata": {},
     "output_type": "execute_result"
    }
   ],
   "source": [
    "X.shape, Y.shape"
   ]
  },
  {
   "cell_type": "code",
   "execution_count": 22,
   "metadata": {
    "collapsed": true
   },
   "outputs": [],
   "source": [
    "#validation set size\n",
    "val_size = 0.1"
   ]
  },
  {
   "cell_type": "code",
   "execution_count": 23,
   "metadata": {
    "collapsed": true
   },
   "outputs": [],
   "source": [
    "#use a common seed\n",
    "seed = 0"
   ]
  },
  {
   "cell_type": "code",
   "execution_count": 24,
   "metadata": {
    "collapsed": false
   },
   "outputs": [],
   "source": [
    "#Split the data\n",
    "X_train_2, X_val, Y_train2, Y_val = cross_validation.train_test_split(X, Y, \n",
    "                                                                     test_size = val_size, \n",
    "                                                                      random_state = seed)"
   ]
  },
  {
   "cell_type": "code",
   "execution_count": 25,
   "metadata": {
    "collapsed": false
   },
   "outputs": [],
   "source": [
    "#All features\n",
    "X_all = []\n",
    "\n",
    "#List of combinations\n",
    "comb = []\n",
    "\n",
    "#Dictionary to store the MAE for all algorithms\n",
    "mae = []"
   ]
  },
  {
   "cell_type": "code",
   "execution_count": 26,
   "metadata": {
    "collapsed": true
   },
   "outputs": [],
   "source": [
    "#Add this version of X to the list\n",
    "n = \"All\"\n",
    "X_all.append([n, i_cols])"
   ]
  },
  {
   "cell_type": "code",
   "execution_count": 27,
   "metadata": {
    "collapsed": false
   },
   "outputs": [
    {
     "data": {
      "text/plain": [
       "[['All',\n",
       "  [0,\n",
       "   1,\n",
       "   2,\n",
       "   3,\n",
       "   4,\n",
       "   5,\n",
       "   6,\n",
       "   7,\n",
       "   8,\n",
       "   9,\n",
       "   10,\n",
       "   11,\n",
       "   12,\n",
       "   13,\n",
       "   14,\n",
       "   15,\n",
       "   16,\n",
       "   17,\n",
       "   18,\n",
       "   19,\n",
       "   20,\n",
       "   21,\n",
       "   22,\n",
       "   23,\n",
       "   24,\n",
       "   25,\n",
       "   26,\n",
       "   27,\n",
       "   28,\n",
       "   29,\n",
       "   30,\n",
       "   31,\n",
       "   32,\n",
       "   33,\n",
       "   34,\n",
       "   35,\n",
       "   36,\n",
       "   37,\n",
       "   38,\n",
       "   39,\n",
       "   40,\n",
       "   41,\n",
       "   42,\n",
       "   43,\n",
       "   44,\n",
       "   45,\n",
       "   46,\n",
       "   47,\n",
       "   48,\n",
       "   49,\n",
       "   50,\n",
       "   51,\n",
       "   52,\n",
       "   53,\n",
       "   54,\n",
       "   55,\n",
       "   56,\n",
       "   57,\n",
       "   58,\n",
       "   59]]]"
      ]
     },
     "execution_count": 27,
     "metadata": {},
     "output_type": "execute_result"
    }
   ],
   "source": [
    "X_all"
   ]
  },
  {
   "cell_type": "markdown",
   "metadata": {},
   "source": [
    "# Linear regression"
   ]
  },
  {
   "cell_type": "code",
   "execution_count": 28,
   "metadata": {
    "collapsed": true
   },
   "outputs": [],
   "source": [
    "from sklearn.linear_model import LinearRegression"
   ]
  },
  {
   "cell_type": "code",
   "execution_count": 29,
   "metadata": {
    "collapsed": true
   },
   "outputs": [],
   "source": [
    "model = LinearRegression(n_jobs = -1)\n",
    "algo = \"LR\""
   ]
  },
  {
   "cell_type": "code",
   "execution_count": 30,
   "metadata": {
    "collapsed": false
   },
   "outputs": [
    {
     "name": "stdout",
     "output_type": "stream",
     "text": [
      "All 605.629206462\n"
     ]
    }
   ],
   "source": [
    "for name, i_cols_list in X_all:\n",
    "    model.fit(X_train_2.iloc[:, i_cols_list], Y_train2)\n",
    "    result = mean_absolute_error(Y_val, model.predict(X_val.iloc[:, i_cols_list]))\n",
    "    mae.append(result)\n",
    "    print(name + \" %s\" % result)\n",
    "comb.append(algo)"
   ]
  },
  {
   "cell_type": "code",
   "execution_count": 31,
   "metadata": {
    "collapsed": false
   },
   "outputs": [
    {
     "data": {
      "text/plain": [
       "dtype('int64')"
      ]
     },
     "execution_count": 31,
     "metadata": {},
     "output_type": "execute_result"
    }
   ],
   "source": [
    "Y_train2.dtype"
   ]
  },
  {
   "cell_type": "code",
   "execution_count": 32,
   "metadata": {
    "collapsed": false
   },
   "outputs": [
    {
     "data": {
      "text/plain": [
       "((178,), (178,))"
      ]
     },
     "execution_count": 32,
     "metadata": {},
     "output_type": "execute_result"
    }
   ],
   "source": [
    "Y_val.shape, X_val.iloc[:, 5].shape"
   ]
  },
  {
   "cell_type": "code",
   "execution_count": 35,
   "metadata": {
    "collapsed": false
   },
   "outputs": [],
   "source": [
    "#investigating why iterator does not work\n",
    "\n",
    "#for i in range(5, 60):\n",
    "#    model.fit(X_train_2.iloc[:, 59].to_frame(), Y_train2.to_frame())\n",
    "#    result = mean_absolute_error(Y_val, model.predict(X_val.iloc[:, i:59]))\n",
    "#    mae.append(result)\n",
    "#    print(name + \" %s\" % result)\n",
    "#comb.append(algo)"
   ]
  },
  {
   "cell_type": "code",
   "execution_count": 36,
   "metadata": {
    "collapsed": false
   },
   "outputs": [
    {
     "data": {
      "text/plain": [
       "([605.62920646158989], ['LR'])"
      ]
     },
     "execution_count": 36,
     "metadata": {},
     "output_type": "execute_result"
    }
   ],
   "source": [
    "mae, comb"
   ]
  },
  {
   "cell_type": "code",
   "execution_count": 37,
   "metadata": {
    "collapsed": false
   },
   "outputs": [
    {
     "data": {
      "image/png": "[encoded data removed]",
      "text/plain": [
       "<matplotlib.figure.Figure at 0x11f48ab70>"
      ]
     },
     "metadata": {},
     "output_type": "display_data"
    }
   ],
   "source": [
    "import matplotlib.pyplot as plt\n",
    "%matplotlib inline\n",
    "fix, ax = plt.subplots()\n",
    "plt.plot(mae)\n",
    "\n",
    "#Set tick names to names of combinations\n",
    "ax.set_xticks(range(len(comb)))\n",
    "ax.set_xticklabels(comb, rotation = \"vertical\")\n",
    "\n",
    "#plot accuracy of all combinations\n",
    "plt.show()"
   ]
  },
  {
   "cell_type": "markdown",
   "metadata": {},
   "source": [
    "# Ridge LinearRegression "
   ]
  },
  {
   "cell_type": "code",
   "execution_count": 38,
   "metadata": {
    "collapsed": true
   },
   "outputs": [],
   "source": [
    "from sklearn.linear_model import Ridge"
   ]
  },
  {
   "cell_type": "code",
   "execution_count": 39,
   "metadata": {
    "collapsed": true
   },
   "outputs": [],
   "source": [
    "#alpha values\n",
    "a_list = np.array([1, 10, 100])"
   ]
  },
  {
   "cell_type": "code",
   "execution_count": 40,
   "metadata": {
    "collapsed": false
   },
   "outputs": [
    {
     "name": "stdout",
     "output_type": "stream",
     "text": [
      "All 603.577722151\n",
      "All 596.245836619\n",
      "All 592.066533151\n"
     ]
    }
   ],
   "source": [
    "for alpha in a_list:\n",
    "    #set base model\n",
    "    model = Ridge(alpha = alpha, random_state = seed)\n",
    "    \n",
    "    algo = \"Ridge\"\n",
    "    \n",
    "    for name, i_cols_list in X_all:\n",
    "        model.fit(X_train_2.iloc[:, i_cols_list], Y_train2)\n",
    "        result = mean_absolute_error(Y_val, model.predict(X_val.iloc[:, i_cols_list]))\n",
    "        mae.append(result)\n",
    "        print(name + \" %s\" % result)\n",
    "    \n",
    "    comb.append(algo + \" %s\" % alpha)"
   ]
  },
  {
   "cell_type": "code",
   "execution_count": 41,
   "metadata": {
    "collapsed": false
   },
   "outputs": [
    {
     "data": {
      "image/png": "[encoded data removed]",
      "text/plain": [
       "<matplotlib.figure.Figure at 0x11fe1a438>"
      ]
     },
     "metadata": {},
     "output_type": "display_data"
    }
   ],
   "source": [
    "#Plot mae and all combinations\n",
    "fix, ax = plt.subplots()\n",
    "plt.plot(mae)\n",
    "\n",
    "#Set tick names to names of all combinations\n",
    "ax.set_xticks(range(len(comb)))\n",
    "ax.set_xticklabels(comb, rotation = \"vertical\")\n",
    "plt.show()"
   ]
  },
  {
   "cell_type": "markdown",
   "metadata": {},
   "source": [
    "# Lasso Linear Regression"
   ]
  },
  {
   "cell_type": "code",
   "execution_count": 42,
   "metadata": {
    "collapsed": true
   },
   "outputs": [],
   "source": [
    "from sklearn.linear_model import Lasso"
   ]
  },
  {
   "cell_type": "code",
   "execution_count": 43,
   "metadata": {
    "collapsed": true
   },
   "outputs": [],
   "source": [
    "#alpha value\n",
    "a_list = np.array([1, 10, 100, 1000])"
   ]
  },
  {
   "cell_type": "code",
   "execution_count": 44,
   "metadata": {
    "collapsed": false
   },
   "outputs": [
    {
     "name": "stdout",
     "output_type": "stream",
     "text": [
      "All 599.366619673\n",
      "All 598.483302819\n",
      "All 676.793551305\n",
      "All 758.221242147\n"
     ]
    }
   ],
   "source": [
    "for alpha in a_list:\n",
    "    \n",
    "    #set base model\n",
    "    \n",
    "    model = Lasso(alpha = alpha, random_state = seed)\n",
    "    \n",
    "    algo = \"Lasso\"\n",
    "    \n",
    "    for name, i_cols_list in X_all:\n",
    "        model.fit(X_train_2.iloc[:, i_cols_list], Y_train2)\n",
    "        result = mean_absolute_error(Y_val, model.predict(X_val.iloc[:, i_cols_list]))\n",
    "        mae.append(result)\n",
    "        print(name + \" %s\" % result)\n",
    "        \n",
    "    comb.append(algo + \" %s\" % alpha)"
   ]
  },
  {
   "cell_type": "code",
   "execution_count": 45,
   "metadata": {
    "collapsed": false
   },
   "outputs": [
    {
     "data": {
      "image/png": "[encoded data removed]",
      "text/plain": [
       "<matplotlib.figure.Figure at 0x11fde0a20>"
      ]
     },
     "metadata": {},
     "output_type": "display_data"
    }
   ],
   "source": [
    "#Plot the MAE and all combinations\n",
    "fig, ax = plt.subplots()\n",
    "plt.plot(mae)\n",
    "\n",
    "#Set the tick names to names of combinations\n",
    "ax.set_xticks(range(len(comb)))\n",
    "ax.set_xticklabels(comb, rotation = \"vertical\")\n",
    "\n",
    "#plot\n",
    "plt.show()"
   ]
  },
  {
   "cell_type": "markdown",
   "metadata": {},
   "source": [
    "# Elastic net regression"
   ]
  },
  {
   "cell_type": "code",
   "execution_count": 46,
   "metadata": {
    "collapsed": true
   },
   "outputs": [],
   "source": [
    "from sklearn.linear_model import ElasticNet"
   ]
  },
  {
   "cell_type": "code",
   "execution_count": 47,
   "metadata": {
    "collapsed": true
   },
   "outputs": [],
   "source": [
    "a_list = np.array([0.1, 1, 10, 100, 1000])"
   ]
  },
  {
   "cell_type": "code",
   "execution_count": 48,
   "metadata": {
    "collapsed": false
   },
   "outputs": [
    {
     "name": "stdout",
     "output_type": "stream",
     "text": [
      "All 590.86093255\n",
      "All 642.30003866\n",
      "All 735.088979463\n",
      "All 754.612674261\n",
      "All 795.33715626\n"
     ]
    }
   ],
   "source": [
    "for alpha in a_list:\n",
    "    \n",
    "    model = ElasticNet(alpha = alpha, random_state=seed)\n",
    "    \n",
    "    algo = \"Elastic\"\n",
    "    \n",
    "    for name, i_cols_list in X_all:\n",
    "        model.fit(X_train_2.iloc[:, i_cols_list], Y_train2)\n",
    "        result = mean_absolute_error(Y_val, model.predict(X_val.iloc[:, i_cols_list]))\n",
    "        mae.append(result)\n",
    "        print(name + \" %s\" % result)\n",
    "    \n",
    "    comb.append(algo + \" %s\" % alpha)"
   ]
  },
  {
   "cell_type": "code",
   "execution_count": 49,
   "metadata": {
    "collapsed": false
   },
   "outputs": [
    {
     "data": {
      "image/png": "[encoded data removed]",
      "text/plain": [
       "<matplotlib.figure.Figure at 0x12154b198>"
      ]
     },
     "metadata": {},
     "output_type": "display_data"
    }
   ],
   "source": [
    "fix, ax = plt.subplots()\n",
    "\n",
    "plt.plot(mae)\n",
    "\n",
    "ax.set_xticks(range(len(comb)))\n",
    "ax.set_xticklabels(comb, rotation = \"vertical\")\n",
    "\n",
    "plt.show()"
   ]
  },
  {
   "cell_type": "markdown",
   "metadata": {},
   "source": [
    "# KNN"
   ]
  },
  {
   "cell_type": "code",
   "execution_count": 50,
   "metadata": {
    "collapsed": true
   },
   "outputs": [],
   "source": [
    "from sklearn.neighbors import KNeighborsRegressor"
   ]
  },
  {
   "cell_type": "code",
   "execution_count": 51,
   "metadata": {
    "collapsed": true
   },
   "outputs": [],
   "source": [
    "n_list = np.array([1, 10, 30, 50])"
   ]
  },
  {
   "cell_type": "code",
   "execution_count": 52,
   "metadata": {
    "collapsed": false
   },
   "outputs": [
    {
     "name": "stdout",
     "output_type": "stream",
     "text": [
      "All 836.870786517\n",
      "All 659.861235955\n",
      "All 670.056741573\n",
      "All 679.543370787\n"
     ]
    }
   ],
   "source": [
    "for neighbors in n_list:\n",
    "    \n",
    "    model = KNeighborsRegressor(n_neighbors = neighbors, n_jobs = -1)\n",
    "    \n",
    "    algo = \"KNN\"\n",
    "    \n",
    "    for name, i_cols_list in X_all:\n",
    "        model.fit(X_train_2.iloc[:, i_cols_list], Y_train2)\n",
    "        result = mean_absolute_error(Y_val, model.predict(X_val.iloc[:, i_cols_list]))\n",
    "        mae.append(result)\n",
    "        print(name + \" %s\" % result)\n",
    "        \n",
    "    comb.append(algo + \" %s\" % result)"
   ]
  },
  {
   "cell_type": "code",
   "execution_count": 53,
   "metadata": {
    "collapsed": false
   },
   "outputs": [
    {
     "data": {
      "image/png": "[encoded data removed]",
      "text/plain": [
       "<matplotlib.figure.Figure at 0x12169aa90>"
      ]
     },
     "metadata": {},
     "output_type": "display_data"
    }
   ],
   "source": [
    "##Plot the MAE of all combinations\n",
    "fig, ax = plt.subplots()\n",
    "plt.plot(mae)\n",
    "##Set the tick names to names of combinations\n",
    "ax.set_xticks(range(len(comb)))\n",
    "ax.set_xticklabels(comb,rotation='vertical')\n",
    "##Plot the accuracy for all combinations\n",
    "plt.show()    "
   ]
  },
  {
   "cell_type": "markdown",
   "metadata": {},
   "source": [
    "# CART"
   ]
  },
  {
   "cell_type": "code",
   "execution_count": 54,
   "metadata": {
    "collapsed": true
   },
   "outputs": [],
   "source": [
    "from sklearn.tree import DecisionTreeRegressor"
   ]
  },
  {
   "cell_type": "code",
   "execution_count": 55,
   "metadata": {
    "collapsed": true
   },
   "outputs": [],
   "source": [
    "#Add max depth value\n",
    "d_list = np.array([20])"
   ]
  },
  {
   "cell_type": "code",
   "execution_count": 56,
   "metadata": {
    "collapsed": false
   },
   "outputs": [
    {
     "name": "stdout",
     "output_type": "stream",
     "text": [
      "All 861.632022472\n"
     ]
    }
   ],
   "source": [
    "for max_depth in d_list:\n",
    "    \n",
    "    model = DecisionTreeRegressor(max_depth = max_depth, random_state = seed)\n",
    "    \n",
    "    algo = \"CART\"\n",
    "    \n",
    "    for name, i_cols_list in X_all:\n",
    "        model.fit(X_train_2.iloc[:, i_cols_list], Y_train2)\n",
    "        result = mean_absolute_error(Y_val, model.predict(X_val.iloc[:, i_cols_list]))\n",
    "        \n",
    "        mae.append(result)\n",
    "        \n",
    "        print(name + \" %s\" % result)\n",
    "    \n",
    "    comb.append(algo + \" %s\" % max_depth)"
   ]
  },
  {
   "cell_type": "code",
   "execution_count": 57,
   "metadata": {
    "collapsed": false
   },
   "outputs": [
    {
     "data": {
      "text/plain": [
       "[605.62920646158989,\n",
       " 603.57772215138812,\n",
       " 596.24583661938436,\n",
       " 592.06653315113101,\n",
       " 599.3666196732479,\n",
       " 598.48330281896267,\n",
       " 676.79355130527881,\n",
       " 758.22124214676955,\n",
       " 590.86093254985008,\n",
       " 642.30003866000663,\n",
       " 735.08897946274033,\n",
       " 754.61267426089364,\n",
       " 795.33715625953494,\n",
       " 836.87078651685397,\n",
       " 659.86123595505626,\n",
       " 670.05674157303372,\n",
       " 679.5433707865169,\n",
       " 861.63202247191009]"
      ]
     },
     "execution_count": 57,
     "metadata": {},
     "output_type": "execute_result"
    }
   ],
   "source": [
    "mae"
   ]
  },
  {
   "cell_type": "markdown",
   "metadata": {},
   "source": [
    "# SVM"
   ]
  },
  {
   "cell_type": "code",
   "execution_count": 58,
   "metadata": {
    "collapsed": true
   },
   "outputs": [],
   "source": [
    "from sklearn.svm import SVR"
   ]
  },
  {
   "cell_type": "code",
   "execution_count": 59,
   "metadata": {
    "collapsed": true
   },
   "outputs": [],
   "source": [
    "#C value\n",
    "c_list = np.array([5])"
   ]
  },
  {
   "cell_type": "code",
   "execution_count": 60,
   "metadata": {
    "collapsed": false
   },
   "outputs": [
    {
     "name": "stdout",
     "output_type": "stream",
     "text": [
      "All 682.207614535\n"
     ]
    }
   ],
   "source": [
    "for C in c_list:\n",
    "    \n",
    "    model = SVR(C=C)\n",
    "    \n",
    "    algo = \"SVM\"\n",
    "    \n",
    "    for name, i_cols_list in X_all:\n",
    "        model.fit(X_train_2.iloc[:, i_cols_list], Y_train2)\n",
    "        result = mean_absolute_error(Y_val, model.predict(X_val.iloc[:, i_cols_list]))\n",
    "        mae.append(result)\n",
    "        print(name + \" %s\" % result)\n",
    "        \n",
    "    comb.append(algo + \" %s\" % result)"
   ]
  },
  {
   "cell_type": "code",
   "execution_count": 61,
   "metadata": {
    "collapsed": false
   },
   "outputs": [
    {
     "data": {
      "text/plain": [
       "[605.62920646158989,\n",
       " 603.57772215138812,\n",
       " 596.24583661938436,\n",
       " 592.06653315113101,\n",
       " 599.3666196732479,\n",
       " 598.48330281896267,\n",
       " 676.79355130527881,\n",
       " 758.22124214676955,\n",
       " 590.86093254985008,\n",
       " 642.30003866000663,\n",
       " 735.08897946274033,\n",
       " 754.61267426089364,\n",
       " 795.33715625953494,\n",
       " 836.87078651685397,\n",
       " 659.86123595505626,\n",
       " 670.05674157303372,\n",
       " 679.5433707865169,\n",
       " 861.63202247191009,\n",
       " 682.20761453534863]"
      ]
     },
     "execution_count": 61,
     "metadata": {},
     "output_type": "execute_result"
    }
   ],
   "source": [
    "mae"
   ]
  },
  {
   "cell_type": "code",
   "execution_count": null,
   "metadata": {
    "collapsed": true
   },
   "outputs": [],
   "source": []
  },
  {
   "cell_type": "markdown",
   "metadata": {},
   "source": [
    "# Bagged Decision Trees"
   ]
  },
  {
   "cell_type": "code",
   "execution_count": 62,
   "metadata": {
    "collapsed": true
   },
   "outputs": [],
   "source": [
    "from sklearn.ensemble import BaggingRegressor\n",
    "from sklearn.tree import DecisionTreeRegressor"
   ]
  },
  {
   "cell_type": "code",
   "execution_count": 63,
   "metadata": {
    "collapsed": true
   },
   "outputs": [],
   "source": [
    "#n_estimators\n",
    "n_list = np.array([10])"
   ]
  },
  {
   "cell_type": "code",
   "execution_count": 64,
   "metadata": {
    "collapsed": false
   },
   "outputs": [
    {
     "name": "stdout",
     "output_type": "stream",
     "text": [
      "All 530.382303371\n"
     ]
    }
   ],
   "source": [
    "for n_estimators in n_list:\n",
    "    \n",
    "    model = BaggingRegressor(n_jobs = -1, n_estimators = n_estimators, random_state = seed)\n",
    "    \n",
    "    algo = \"Bag\"\n",
    "    \n",
    "    for name, i_cols_list in X_all:\n",
    "        model.fit(X_train_2.iloc[:, i_cols_list], Y_train2)\n",
    "        result = mean_absolute_error(Y_val, model.predict(X_val.iloc[:, i_cols_list]))\n",
    "        mae.append(result)\n",
    "        print(name + \" %s\" % result)\n",
    "        \n",
    "    comb.append(algo + \" %s\" % result)"
   ]
  },
  {
   "cell_type": "code",
   "execution_count": null,
   "metadata": {
    "collapsed": true
   },
   "outputs": [],
   "source": []
  },
  {
   "cell_type": "markdown",
   "metadata": {},
   "source": [
    "# Random forest (Bagging)"
   ]
  },
  {
   "cell_type": "code",
   "execution_count": 65,
   "metadata": {
    "collapsed": true
   },
   "outputs": [],
   "source": [
    "from sklearn.ensemble import RandomForestRegressor"
   ]
  },
  {
   "cell_type": "code",
   "execution_count": 66,
   "metadata": {
    "collapsed": true
   },
   "outputs": [],
   "source": [
    "#n_estimators\n",
    "\n",
    "n_list = np.array([])"
   ]
  },
  {
   "cell_type": "code",
   "execution_count": 79,
   "metadata": {
    "collapsed": false
   },
   "outputs": [
    {
     "name": "stdout",
     "output_type": "stream",
     "text": [
      "All 522.00491573\n"
     ]
    }
   ],
   "source": [
    "for n_estimators in n_list:\n",
    "    \n",
    "    model = RandomForestRegressor(n_jobs = -1, n_estimators = n_estimators, \n",
    "                                 random_state = seed)\n",
    "    \n",
    "    algo = \"RF\"\n",
    "    \n",
    "    for name, i_cols_list in X_all:\n",
    "        model.fit(X_train_2.iloc[:, i_cols_list], Y_train2)\n",
    "        result = mean_absolute_error(Y_val, model.predict(X_val.iloc[:, i_cols_list]))\n",
    "        mae.append(result)\n",
    "        print(name + \" %s\" % result)\n",
    "        \n",
    "    comb.append(algo + \" %s\" % result)"
   ]
  },
  {
   "cell_type": "code",
   "execution_count": null,
   "metadata": {
    "collapsed": true
   },
   "outputs": [],
   "source": []
  },
  {
   "cell_type": "markdown",
   "metadata": {},
   "source": [
    "# Extra Trees"
   ]
  },
  {
   "cell_type": "code",
   "execution_count": 68,
   "metadata": {
    "collapsed": true
   },
   "outputs": [],
   "source": [
    "from sklearn.ensemble import ExtraTreesRegressor"
   ]
  },
  {
   "cell_type": "code",
   "execution_count": 69,
   "metadata": {
    "collapsed": true
   },
   "outputs": [],
   "source": [
    "n_list = np.array([50])"
   ]
  },
  {
   "cell_type": "code",
   "execution_count": 70,
   "metadata": {
    "collapsed": false
   },
   "outputs": [
    {
     "name": "stdout",
     "output_type": "stream",
     "text": [
      "All 617.276853933\n"
     ]
    }
   ],
   "source": [
    "for n_estimators in n_list:\n",
    "    \n",
    "    model = ExtraTreesRegressor(n_jobs = -1, n_estimators = n_estimators, random_state = seed\n",
    "                               )\n",
    "    algo = \"ET\"\n",
    "    \n",
    "    for name, i_cols_list in X_all:\n",
    "        model.fit(X_train_2.iloc[:, i_cols_list], Y_train2)\n",
    "        result = mean_absolute_error(Y_val, model.predict(X_val.iloc[:, i_cols_list]))\n",
    "        mae.append(result)\n",
    "        print(name + \" %s\" % result)\n",
    "        \n",
    "    comb.append(algo + \" %s\" % result)"
   ]
  },
  {
   "cell_type": "code",
   "execution_count": null,
   "metadata": {
    "collapsed": true
   },
   "outputs": [],
   "source": []
  },
  {
   "cell_type": "markdown",
   "metadata": {},
   "source": [
    "# Ada Boosting"
   ]
  },
  {
   "cell_type": "code",
   "execution_count": null,
   "metadata": {},
   "outputs": [],
   "source": [
    "from sklearn.ensemble import AdaBoostClassifier"
   ]
  },
  {
   "cell_type": "code",
   "execution_count": 72,
   "metadata": {
    "collapsed": true
   },
   "outputs": [],
   "source": [
    "#n_estimators\n",
    "n_list = np.array([30])"
   ]
  },
  {
   "cell_type": "code",
   "execution_count": 73,
   "metadata": {
    "collapsed": false
   },
   "outputs": [
    {
     "name": "stdout",
     "output_type": "stream",
     "text": [
      "All 786.008866502\n"
     ]
    }
   ],
   "source": [
    "for n_estimators in n_list:\n",
    "    \n",
    "    model = AdaBoostRegressor(n_estimators = n_estimators, random_state = seed)\n",
    "    \n",
    "    algo = \"Ada\"\n",
    "    \n",
    "    for name, i_cols_list in X_all:\n",
    "        model.fit(X_train_2.iloc[:, i_cols_list], Y_train2)\n",
    "        result = mean_absolute_error(Y_val, model.predict(X_val.iloc[:, i_cols_list]))\n",
    "        mae.append(result)\n",
    "        print(name + \" %s\" % result)\n",
    "        \n",
    "    comb.append(algo + \" %s\" % result)"
   ]
  },
  {
   "cell_type": "code",
   "execution_count": null,
   "metadata": {
    "collapsed": true
   },
   "outputs": [],
   "source": []
  },
  {
   "cell_type": "markdown",
   "metadata": {},
   "source": [
    "# Stochastic Gradient Boosting"
   ]
  },
  {
   "cell_type": "code",
   "execution_count": 74,
   "metadata": {
    "collapsed": true
   },
   "outputs": [],
   "source": [
    "from sklearn.ensemble import GradientBoostingRegressor"
   ]
  },
  {
   "cell_type": "code",
   "execution_count": 75,
   "metadata": {
    "collapsed": true
   },
   "outputs": [],
   "source": [
    "n_list = np.array([10])"
   ]
  },
  {
   "cell_type": "code",
   "execution_count": 76,
   "metadata": {
    "collapsed": false
   },
   "outputs": [
    {
     "name": "stdout",
     "output_type": "stream",
     "text": [
      "All 621.508265058\n"
     ]
    }
   ],
   "source": [
    "for n_estimators in n_list:\n",
    "    \n",
    "    model = GradientBoostingRegressor(n_estimators = n_estimators, random_state = seed)\n",
    "    \n",
    "    algo = \"SGB\"\n",
    "    \n",
    "    for name, i_cols_list in X_all:\n",
    "        model.fit(X_train_2.iloc[:, i_cols_list], Y_train2)\n",
    "        result = mean_absolute_error(Y_val, model.predict(X_val.iloc[:, i_cols_list]))\n",
    "        mae.append(result)\n",
    "        print(name + \" %s\" % result)\n",
    "        \n",
    "    comb.append(algo + \" %s\" % result)"
   ]
  },
  {
   "cell_type": "code",
   "execution_count": null,
   "metadata": {
    "collapsed": true
   },
   "outputs": [],
   "source": []
  },
  {
   "cell_type": "markdown",
   "metadata": {},
   "source": [
    "# XGBoost"
   ]
  },
  {
   "cell_type": "code",
   "execution_count": 77,
   "metadata": {
    "collapsed": false
   },
   "outputs": [],
   "source": [
    "from xgboost import XGBRegressor"
   ]
  },
  {
   "cell_type": "code",
   "execution_count": 78,
   "metadata": {
    "collapsed": false
   },
   "outputs": [
    {
     "name": "stdout",
     "output_type": "stream",
     "text": [
      "All 548.828993894\n"
     ]
    }
   ],
   "source": [
    "n_list = np.array([10])\n",
    "\n",
    "for n_estimators in n_list:\n",
    "    \n",
    "    model = XGBRegressor(n_estimators = n_estimators, random_seed = seed)\n",
    "    \n",
    "    algo = \"XGB\"\n",
    "    \n",
    "    for name, i_cols_list in X_all:\n",
    "        model.fit(X_train_2.iloc[:, i_cols_list], Y_train2)\n",
    "        result = mean_absolute_error(Y_val, model.predict(X_val.iloc[:, i_cols_list]))\n",
    "        mae.append(result)\n",
    "        print(name + \" %s\" % result)\n",
    "        \n",
    "    comb.append(algo + \" %s\" % result)"
   ]
  },
  {
   "cell_type": "code",
   "execution_count": null,
   "metadata": {
    "collapsed": true
   },
   "outputs": [],
   "source": []
  },
  {
   "cell_type": "code",
   "execution_count": null,
   "metadata": {
    "collapsed": true
   },
   "outputs": [],
   "source": []
  },
  {
   "cell_type": "code",
   "execution_count": null,
   "metadata": {
    "collapsed": true
   },
   "outputs": [],
   "source": []
  },
  {
   "cell_type": "code",
   "execution_count": null,
   "metadata": {
    "collapsed": true
   },
   "outputs": [],
   "source": []
  },
  {
   "cell_type": "code",
   "execution_count": null,
   "metadata": {
    "collapsed": true
   },
   "outputs": [],
   "source": []
  }
 ],
 "metadata": {
  "kernelspec": {
   "display_name": "Python 3",
   "language": "python",
   "name": "python3"
  },
  "language_info": {
   "codemirror_mode": {
    "name": "ipython",
    "version": 3
   },
   "file_extension": ".py",
   "mimetype": "text/x-python",
   "name": "python",
   "nbconvert_exporter": "python",
   "pygments_lexer": "ipython3",
   "version": "3.6.2"
  }
 },
 "nbformat": 4,
 "nbformat_minor": 2
}
