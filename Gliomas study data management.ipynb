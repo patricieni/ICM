{
 "cells": [
  {
   "cell_type": "code",
   "execution_count": 16,
   "metadata": {
    "collapsed": false
   },
   "outputs": [
    {
     "name": "stdout",
     "output_type": "stream",
     "text": [
      "[Errno 2] No such file or directory: 'Downloads'\n",
      "/Users/aa/Downloads\n"
     ]
    }
   ],
   "source": [
    "cd Downloads"
   ]
  },
  {
   "cell_type": "code",
   "execution_count": 17,
   "metadata": {
    "collapsed": false
   },
   "outputs": [],
   "source": [
    "import pandas as pd\n",
    "import numpy as np\n",
    "pd.set_option('display.max_columns', None)"
   ]
  },
  {
   "cell_type": "code",
   "execution_count": 18,
   "metadata": {
    "collapsed": false
   },
   "outputs": [],
   "source": [
    "bio = pd.read_excel('20170713_Marc Gliomes_Bio.xlsx', index_col = None)"
   ]
  },
  {
   "cell_type": "code",
   "execution_count": 19,
   "metadata": {
    "collapsed": false
   },
   "outputs": [
    {
     "data": {
      "text/plain": [
       "Index(['Dwh Prv Nip', 'Dwh Pat Consentement', 'Pat Nip', 'Pat Sexe',\n",
       "       'Pat Date Naissance', 'Dwh Pat Dn Date', 'Dwh Pat Date Deces',\n",
       "       'Dwh Prv Date Chir', 'Dwh Prv Diag Histologie', 'Grade', 'Dwh Gen Idh1',\n",
       "       'Dwh Gen Idh2', 'Dwh Gen Htert C228T', 'Dwh Gen Htert C250T',\n",
       "       'Dwh Gen P53', 'Dwh Gen Mgmt', 'Dwh Gen Egfr', 'Dwh Gen Mdm2',\n",
       "       'Dwh Gen Cdk4', 'Dwh Gen P16', 'Dwh Ihc Atrx', 'Dwh Chr Ch1P',\n",
       "       'Dwh Chr Ch19Q', 'Dwh Chr Ch10P', 'Dwh Chr Ch10Q', 'Dwh Chr Ch9P',\n",
       "       'Dwh Chr Ch9Q', 'Dwh Pat Tumeur Siege', 'Dwh Pat Tumeur Position'],\n",
       "      dtype='object')"
      ]
     },
     "execution_count": 19,
     "metadata": {},
     "output_type": "execute_result"
    }
   ],
   "source": [
    "bio.columns"
   ]
  },
  {
   "cell_type": "code",
   "execution_count": 20,
   "metadata": {
    "collapsed": false
   },
   "outputs": [
    {
     "data": {
      "text/plain": [
       "29"
      ]
     },
     "execution_count": 20,
     "metadata": {},
     "output_type": "execute_result"
    }
   ],
   "source": [
    "len(bio.columns)"
   ]
  },
  {
   "cell_type": "code",
   "execution_count": 21,
   "metadata": {
    "collapsed": false
   },
   "outputs": [
    {
     "data": {
      "text/plain": [
       "7630"
      ]
     },
     "execution_count": 21,
     "metadata": {},
     "output_type": "execute_result"
    }
   ],
   "source": [
    "len(bio)"
   ]
  },
  {
   "cell_type": "code",
   "execution_count": 22,
   "metadata": {
    "collapsed": false
   },
   "outputs": [
    {
     "data": {
      "text/html": [
       "<div>\n",
       "<table border=\"1\" class=\"dataframe\">\n",
       "  <thead>\n",
       "    <tr style=\"text-align: right;\">\n",
       "      <th></th>\n",
       "      <th>Dwh Prv Nip</th>\n",
       "      <th>Dwh Pat Consentement</th>\n",
       "      <th>Pat Nip</th>\n",
       "      <th>Pat Sexe</th>\n",
       "      <th>Pat Date Naissance</th>\n",
       "      <th>Dwh Pat Dn Date</th>\n",
       "      <th>Dwh Pat Date Deces</th>\n",
       "      <th>Dwh Prv Date Chir</th>\n",
       "      <th>Dwh Prv Diag Histologie</th>\n",
       "      <th>Grade</th>\n",
       "      <th>Dwh Gen Idh1</th>\n",
       "      <th>Dwh Gen Idh2</th>\n",
       "      <th>Dwh Gen Htert C228T</th>\n",
       "      <th>Dwh Gen Htert C250T</th>\n",
       "      <th>Dwh Gen P53</th>\n",
       "      <th>Dwh Gen Mgmt</th>\n",
       "      <th>Dwh Gen Egfr</th>\n",
       "      <th>Dwh Gen Mdm2</th>\n",
       "      <th>Dwh Gen Cdk4</th>\n",
       "      <th>Dwh Gen P16</th>\n",
       "      <th>Dwh Ihc Atrx</th>\n",
       "      <th>Dwh Chr Ch1P</th>\n",
       "      <th>Dwh Chr Ch19Q</th>\n",
       "      <th>Dwh Chr Ch10P</th>\n",
       "      <th>Dwh Chr Ch10Q</th>\n",
       "      <th>Dwh Chr Ch9P</th>\n",
       "      <th>Dwh Chr Ch9Q</th>\n",
       "      <th>Dwh Pat Tumeur Siege</th>\n",
       "      <th>Dwh Pat Tumeur Position</th>\n",
       "    </tr>\n",
       "  </thead>\n",
       "  <tbody>\n",
       "    <tr>\n",
       "      <th>0</th>\n",
       "      <td>4</td>\n",
       "      <td>NaN</td>\n",
       "      <td>4</td>\n",
       "      <td>M</td>\n",
       "      <td>1940-05-22</td>\n",
       "      <td>NaN</td>\n",
       "      <td>2001-02-22</td>\n",
       "      <td>2000-05-30</td>\n",
       "      <td>glioblastome IV</td>\n",
       "      <td>4</td>\n",
       "      <td>NC</td>\n",
       "      <td>NC</td>\n",
       "      <td>NaN</td>\n",
       "      <td>NaN</td>\n",
       "      <td>NC</td>\n",
       "      <td>NaN</td>\n",
       "      <td>NaN</td>\n",
       "      <td>NaN</td>\n",
       "      <td>NaN</td>\n",
       "      <td>NaN</td>\n",
       "      <td>NaN</td>\n",
       "      <td>NaN</td>\n",
       "      <td>NaN</td>\n",
       "      <td>NaN</td>\n",
       "      <td>NaN</td>\n",
       "      <td>NaN</td>\n",
       "      <td>NaN</td>\n",
       "      <td>autre</td>\n",
       "      <td>G</td>\n",
       "    </tr>\n",
       "    <tr>\n",
       "      <th>1</th>\n",
       "      <td>5</td>\n",
       "      <td>NaN</td>\n",
       "      <td>5</td>\n",
       "      <td>M</td>\n",
       "      <td>1947-10-15</td>\n",
       "      <td>NaN</td>\n",
       "      <td>1999-12-15</td>\n",
       "      <td>1999-05-29</td>\n",
       "      <td>glioblastome IV</td>\n",
       "      <td>4</td>\n",
       "      <td>NaN</td>\n",
       "      <td>NaN</td>\n",
       "      <td>NaN</td>\n",
       "      <td>NaN</td>\n",
       "      <td>NaN</td>\n",
       "      <td>NaN</td>\n",
       "      <td>NaN</td>\n",
       "      <td>NaN</td>\n",
       "      <td>NaN</td>\n",
       "      <td>NaN</td>\n",
       "      <td>NaN</td>\n",
       "      <td>NaN</td>\n",
       "      <td>NaN</td>\n",
       "      <td>NaN</td>\n",
       "      <td>NaN</td>\n",
       "      <td>NaN</td>\n",
       "      <td>NaN</td>\n",
       "      <td>sus-T hémisp</td>\n",
       "      <td>G</td>\n",
       "    </tr>\n",
       "    <tr>\n",
       "      <th>2</th>\n",
       "      <td>10</td>\n",
       "      <td>NaN</td>\n",
       "      <td>10</td>\n",
       "      <td>M</td>\n",
       "      <td>1949-11-05</td>\n",
       "      <td>NaN</td>\n",
       "      <td>1992-05-15</td>\n",
       "      <td>1992-04-15</td>\n",
       "      <td>gliome mixte ana III</td>\n",
       "      <td>3</td>\n",
       "      <td>ALTERE</td>\n",
       "      <td>NORMAL</td>\n",
       "      <td>NORMAL</td>\n",
       "      <td>NORMAL</td>\n",
       "      <td>NC</td>\n",
       "      <td>NaN</td>\n",
       "      <td>NORMAL</td>\n",
       "      <td>NaN</td>\n",
       "      <td>NaN</td>\n",
       "      <td>NaN</td>\n",
       "      <td>NaN</td>\n",
       "      <td>NON PERTE</td>\n",
       "      <td>NON PERTE</td>\n",
       "      <td>NON PERTE</td>\n",
       "      <td>PERDU</td>\n",
       "      <td>NON PERTE</td>\n",
       "      <td>NaN</td>\n",
       "      <td>sus-T hémisp</td>\n",
       "      <td>G</td>\n",
       "    </tr>\n",
       "    <tr>\n",
       "      <th>3</th>\n",
       "      <td>11</td>\n",
       "      <td>NaN</td>\n",
       "      <td>11</td>\n",
       "      <td>M</td>\n",
       "      <td>1958-07-29</td>\n",
       "      <td>NaN</td>\n",
       "      <td>1991-11-15</td>\n",
       "      <td>1986-03-17</td>\n",
       "      <td>astrocytome bas grade II</td>\n",
       "      <td>2</td>\n",
       "      <td>NC</td>\n",
       "      <td>NC</td>\n",
       "      <td>NaN</td>\n",
       "      <td>NaN</td>\n",
       "      <td>NC</td>\n",
       "      <td>NaN</td>\n",
       "      <td>NaN</td>\n",
       "      <td>NaN</td>\n",
       "      <td>NaN</td>\n",
       "      <td>NaN</td>\n",
       "      <td>NaN</td>\n",
       "      <td>NaN</td>\n",
       "      <td>NaN</td>\n",
       "      <td>NaN</td>\n",
       "      <td>NaN</td>\n",
       "      <td>NaN</td>\n",
       "      <td>NaN</td>\n",
       "      <td>non précisé</td>\n",
       "      <td>non précisé</td>\n",
       "    </tr>\n",
       "    <tr>\n",
       "      <th>4</th>\n",
       "      <td>11</td>\n",
       "      <td>NaN</td>\n",
       "      <td>11</td>\n",
       "      <td>M</td>\n",
       "      <td>1958-07-29</td>\n",
       "      <td>NaN</td>\n",
       "      <td>1991-11-15</td>\n",
       "      <td>1991-08-14</td>\n",
       "      <td>glioblastome IV</td>\n",
       "      <td>4</td>\n",
       "      <td>ALTERE</td>\n",
       "      <td>NORMAL</td>\n",
       "      <td>NORMAL</td>\n",
       "      <td>NORMAL</td>\n",
       "      <td>NC</td>\n",
       "      <td>NaN</td>\n",
       "      <td>NORMAL</td>\n",
       "      <td>NORMAL</td>\n",
       "      <td>NORMAL</td>\n",
       "      <td>NORMAL</td>\n",
       "      <td>NaN</td>\n",
       "      <td>NON PERTE</td>\n",
       "      <td>NON PERTE</td>\n",
       "      <td>NON PERTE</td>\n",
       "      <td>PARTIEL</td>\n",
       "      <td>PERDU</td>\n",
       "      <td>NaN</td>\n",
       "      <td>non précisé</td>\n",
       "      <td>non précisé</td>\n",
       "    </tr>\n",
       "    <tr>\n",
       "      <th>5</th>\n",
       "      <td>12</td>\n",
       "      <td>NaN</td>\n",
       "      <td>12</td>\n",
       "      <td>F</td>\n",
       "      <td>1930-12-07</td>\n",
       "      <td>NaN</td>\n",
       "      <td>1991-03-13</td>\n",
       "      <td>1990-02-13</td>\n",
       "      <td>glioblastome IV</td>\n",
       "      <td>4</td>\n",
       "      <td>NORMAL</td>\n",
       "      <td>NaN</td>\n",
       "      <td>NORMAL</td>\n",
       "      <td>ALTERE</td>\n",
       "      <td>NORMAL</td>\n",
       "      <td>NON METHYLE</td>\n",
       "      <td>NORMAL</td>\n",
       "      <td>NORMAL</td>\n",
       "      <td>NORMAL</td>\n",
       "      <td>DELETE</td>\n",
       "      <td>NaN</td>\n",
       "      <td>PARTIEL</td>\n",
       "      <td>PARTIEL</td>\n",
       "      <td>PERDU</td>\n",
       "      <td>PERDU</td>\n",
       "      <td>PERDU</td>\n",
       "      <td>NaN</td>\n",
       "      <td>sus-T hémisp</td>\n",
       "      <td>G</td>\n",
       "    </tr>\n",
       "    <tr>\n",
       "      <th>6</th>\n",
       "      <td>13</td>\n",
       "      <td>NaN</td>\n",
       "      <td>13</td>\n",
       "      <td>M</td>\n",
       "      <td>1928-11-17</td>\n",
       "      <td>NaN</td>\n",
       "      <td>1990-12-20</td>\n",
       "      <td>1990-11-21</td>\n",
       "      <td>astrocytome anaplasique III</td>\n",
       "      <td>3</td>\n",
       "      <td>NaN</td>\n",
       "      <td>NaN</td>\n",
       "      <td>NaN</td>\n",
       "      <td>NaN</td>\n",
       "      <td>NORMAL</td>\n",
       "      <td>NaN</td>\n",
       "      <td>NaN</td>\n",
       "      <td>NaN</td>\n",
       "      <td>NaN</td>\n",
       "      <td>NaN</td>\n",
       "      <td>NaN</td>\n",
       "      <td>NON PERTE</td>\n",
       "      <td>NON PERTE</td>\n",
       "      <td>NON PERTE</td>\n",
       "      <td>PERDU</td>\n",
       "      <td>NaN</td>\n",
       "      <td>NaN</td>\n",
       "      <td>sus-T hémisp</td>\n",
       "      <td>D</td>\n",
       "    </tr>\n",
       "    <tr>\n",
       "      <th>7</th>\n",
       "      <td>13</td>\n",
       "      <td>NaN</td>\n",
       "      <td>13</td>\n",
       "      <td>M</td>\n",
       "      <td>1928-11-17</td>\n",
       "      <td>NaN</td>\n",
       "      <td>1990-12-20</td>\n",
       "      <td>1989-11-17</td>\n",
       "      <td>glioblastome IV</td>\n",
       "      <td>4</td>\n",
       "      <td>NORMAL</td>\n",
       "      <td>NaN</td>\n",
       "      <td>NORMAL</td>\n",
       "      <td>NORMAL</td>\n",
       "      <td>NORMAL</td>\n",
       "      <td>NON METHYLE</td>\n",
       "      <td>NORMAL</td>\n",
       "      <td>NORMAL</td>\n",
       "      <td>NORMAL</td>\n",
       "      <td>NORMAL</td>\n",
       "      <td>NaN</td>\n",
       "      <td>NON PERTE</td>\n",
       "      <td>NON PERTE</td>\n",
       "      <td>NON PERTE</td>\n",
       "      <td>PERDU</td>\n",
       "      <td>NaN</td>\n",
       "      <td>NaN</td>\n",
       "      <td>sus-T hémisp</td>\n",
       "      <td>D</td>\n",
       "    </tr>\n",
       "    <tr>\n",
       "      <th>8</th>\n",
       "      <td>14</td>\n",
       "      <td>0.0</td>\n",
       "      <td>14</td>\n",
       "      <td>F</td>\n",
       "      <td>1934-07-17</td>\n",
       "      <td>NaN</td>\n",
       "      <td>1993-03-30</td>\n",
       "      <td>1992-01-22</td>\n",
       "      <td>glioblastome avec oligo. IV</td>\n",
       "      <td>4</td>\n",
       "      <td>NORMAL</td>\n",
       "      <td>NORMAL</td>\n",
       "      <td>NORMAL</td>\n",
       "      <td>ALTERE</td>\n",
       "      <td>NORMAL</td>\n",
       "      <td>NaN</td>\n",
       "      <td>AMPLIFIE</td>\n",
       "      <td>NORMAL</td>\n",
       "      <td>NORMAL</td>\n",
       "      <td>NORMAL</td>\n",
       "      <td>NaN</td>\n",
       "      <td>GAIN</td>\n",
       "      <td>NON PERTE</td>\n",
       "      <td>NON PERTE</td>\n",
       "      <td>PERDU</td>\n",
       "      <td>NON PERTE</td>\n",
       "      <td>NON PERTE</td>\n",
       "      <td>sus-T hémisp</td>\n",
       "      <td>D</td>\n",
       "    </tr>\n",
       "    <tr>\n",
       "      <th>9</th>\n",
       "      <td>15</td>\n",
       "      <td>NaN</td>\n",
       "      <td>15</td>\n",
       "      <td>M</td>\n",
       "      <td>1936-03-22</td>\n",
       "      <td>NaN</td>\n",
       "      <td>1992-03-14</td>\n",
       "      <td>1991-10-23</td>\n",
       "      <td>glioblastome IV</td>\n",
       "      <td>4</td>\n",
       "      <td>NORMAL</td>\n",
       "      <td>NORMAL</td>\n",
       "      <td>ALTERE</td>\n",
       "      <td>NORMAL</td>\n",
       "      <td>ALTERE</td>\n",
       "      <td>NON METHYLE</td>\n",
       "      <td>AMPLIFIE</td>\n",
       "      <td>NORMAL</td>\n",
       "      <td>NORMAL</td>\n",
       "      <td>DELETE</td>\n",
       "      <td>NaN</td>\n",
       "      <td>PARTIEL</td>\n",
       "      <td>NON PERTE</td>\n",
       "      <td>NON PERTE</td>\n",
       "      <td>PERDU</td>\n",
       "      <td>NON PERTE</td>\n",
       "      <td>NON PERTE</td>\n",
       "      <td>sus-T hémisp</td>\n",
       "      <td>G</td>\n",
       "    </tr>\n",
       "    <tr>\n",
       "      <th>10</th>\n",
       "      <td>16</td>\n",
       "      <td>NaN</td>\n",
       "      <td>16</td>\n",
       "      <td>M</td>\n",
       "      <td>1922-04-18</td>\n",
       "      <td>NaN</td>\n",
       "      <td>1991-12-22</td>\n",
       "      <td>1990-11-09</td>\n",
       "      <td>glioblastome IV</td>\n",
       "      <td>4</td>\n",
       "      <td>NORMAL</td>\n",
       "      <td>NORMAL</td>\n",
       "      <td>NORMAL</td>\n",
       "      <td>NORMAL</td>\n",
       "      <td>NORMAL</td>\n",
       "      <td>NaN</td>\n",
       "      <td>NORMAL</td>\n",
       "      <td>NORMAL</td>\n",
       "      <td>NORMAL</td>\n",
       "      <td>DELETE</td>\n",
       "      <td>NaN</td>\n",
       "      <td>PARTIEL</td>\n",
       "      <td>PARTIEL</td>\n",
       "      <td>NaN</td>\n",
       "      <td>PERDU</td>\n",
       "      <td>NON PERTE</td>\n",
       "      <td>NaN</td>\n",
       "      <td>non précisé</td>\n",
       "      <td>G</td>\n",
       "    </tr>\n",
       "    <tr>\n",
       "      <th>11</th>\n",
       "      <td>17</td>\n",
       "      <td>NaN</td>\n",
       "      <td>17</td>\n",
       "      <td>M</td>\n",
       "      <td>1924-04-12</td>\n",
       "      <td>NaN</td>\n",
       "      <td>1990-04-04</td>\n",
       "      <td>1990-03-28</td>\n",
       "      <td>glioblastome IV</td>\n",
       "      <td>4</td>\n",
       "      <td>NORMAL</td>\n",
       "      <td>NaN</td>\n",
       "      <td>NORMAL</td>\n",
       "      <td>ALTERE</td>\n",
       "      <td>NC</td>\n",
       "      <td>METHYLE</td>\n",
       "      <td>NORMAL</td>\n",
       "      <td>NORMAL</td>\n",
       "      <td>NORMAL</td>\n",
       "      <td>NORMAL</td>\n",
       "      <td>NaN</td>\n",
       "      <td>NON PERTE</td>\n",
       "      <td>NON PERTE</td>\n",
       "      <td>NON PERTE</td>\n",
       "      <td>PERDU</td>\n",
       "      <td>NON PERTE</td>\n",
       "      <td>NaN</td>\n",
       "      <td>non précisé</td>\n",
       "      <td>non précisé</td>\n",
       "    </tr>\n",
       "    <tr>\n",
       "      <th>12</th>\n",
       "      <td>18</td>\n",
       "      <td>NaN</td>\n",
       "      <td>18</td>\n",
       "      <td>F</td>\n",
       "      <td>1931-06-05</td>\n",
       "      <td>NaN</td>\n",
       "      <td>1992-12-18</td>\n",
       "      <td>1992-02-06</td>\n",
       "      <td>astrocytome anaplasique III</td>\n",
       "      <td>3</td>\n",
       "      <td>NORMAL</td>\n",
       "      <td>NORMAL</td>\n",
       "      <td>ALTERE</td>\n",
       "      <td>NORMAL</td>\n",
       "      <td>NORMAL</td>\n",
       "      <td>NaN</td>\n",
       "      <td>NORMAL</td>\n",
       "      <td>NaN</td>\n",
       "      <td>NaN</td>\n",
       "      <td>NaN</td>\n",
       "      <td>NaN</td>\n",
       "      <td>NON PERTE</td>\n",
       "      <td>NaN</td>\n",
       "      <td>NON PERTE</td>\n",
       "      <td>NON PERTE</td>\n",
       "      <td>NON PERTE</td>\n",
       "      <td>NaN</td>\n",
       "      <td>sus-T hémisp</td>\n",
       "      <td>G</td>\n",
       "    </tr>\n",
       "    <tr>\n",
       "      <th>13</th>\n",
       "      <td>21</td>\n",
       "      <td>NaN</td>\n",
       "      <td>21</td>\n",
       "      <td>M</td>\n",
       "      <td>1966-01-06</td>\n",
       "      <td>2011-07-25 00:00:00</td>\n",
       "      <td>NaT</td>\n",
       "      <td>1988-07-12</td>\n",
       "      <td>astrocytome bas grade II</td>\n",
       "      <td>2</td>\n",
       "      <td>NC</td>\n",
       "      <td>NC</td>\n",
       "      <td>NaN</td>\n",
       "      <td>NaN</td>\n",
       "      <td>NC</td>\n",
       "      <td>NaN</td>\n",
       "      <td>NaN</td>\n",
       "      <td>NaN</td>\n",
       "      <td>NaN</td>\n",
       "      <td>NaN</td>\n",
       "      <td>NaN</td>\n",
       "      <td>NaN</td>\n",
       "      <td>NaN</td>\n",
       "      <td>NaN</td>\n",
       "      <td>NaN</td>\n",
       "      <td>NaN</td>\n",
       "      <td>NaN</td>\n",
       "      <td>ventriculaire</td>\n",
       "      <td>D</td>\n",
       "    </tr>\n",
       "    <tr>\n",
       "      <th>14</th>\n",
       "      <td>22</td>\n",
       "      <td>NaN</td>\n",
       "      <td>22</td>\n",
       "      <td>M</td>\n",
       "      <td>1950-05-10</td>\n",
       "      <td>NaN</td>\n",
       "      <td>1995-01-29</td>\n",
       "      <td>1993-07-07</td>\n",
       "      <td>glioblastome IV</td>\n",
       "      <td>4</td>\n",
       "      <td>NORMAL</td>\n",
       "      <td>NORMAL</td>\n",
       "      <td>ALTERE</td>\n",
       "      <td>NORMAL</td>\n",
       "      <td>NORMAL</td>\n",
       "      <td>METHYLE</td>\n",
       "      <td>AMPLIFIE</td>\n",
       "      <td>NORMAL</td>\n",
       "      <td>NORMAL</td>\n",
       "      <td>DELETE</td>\n",
       "      <td>NaN</td>\n",
       "      <td>PARTIEL</td>\n",
       "      <td>NON PERTE</td>\n",
       "      <td>PERDU</td>\n",
       "      <td>PERDU</td>\n",
       "      <td>PARTIEL</td>\n",
       "      <td>NON PERTE</td>\n",
       "      <td>sus-T hémisp</td>\n",
       "      <td>G</td>\n",
       "    </tr>\n",
       "    <tr>\n",
       "      <th>15</th>\n",
       "      <td>23</td>\n",
       "      <td>NaN</td>\n",
       "      <td>23</td>\n",
       "      <td>F</td>\n",
       "      <td>1932-10-09</td>\n",
       "      <td>NaN</td>\n",
       "      <td>1993-09-10</td>\n",
       "      <td>1990-06-26</td>\n",
       "      <td>astrocytome anaplasique III</td>\n",
       "      <td>3</td>\n",
       "      <td>NC</td>\n",
       "      <td>NC</td>\n",
       "      <td>NaN</td>\n",
       "      <td>NaN</td>\n",
       "      <td>NC</td>\n",
       "      <td>NaN</td>\n",
       "      <td>NaN</td>\n",
       "      <td>NaN</td>\n",
       "      <td>NaN</td>\n",
       "      <td>NaN</td>\n",
       "      <td>NaN</td>\n",
       "      <td>NaN</td>\n",
       "      <td>NaN</td>\n",
       "      <td>NaN</td>\n",
       "      <td>NaN</td>\n",
       "      <td>NaN</td>\n",
       "      <td>NaN</td>\n",
       "      <td>sus-T hémisp</td>\n",
       "      <td>D</td>\n",
       "    </tr>\n",
       "    <tr>\n",
       "      <th>16</th>\n",
       "      <td>24</td>\n",
       "      <td>NaN</td>\n",
       "      <td>24</td>\n",
       "      <td>M</td>\n",
       "      <td>1943-03-04</td>\n",
       "      <td>NaN</td>\n",
       "      <td>1993-12-15</td>\n",
       "      <td>1992-01-14</td>\n",
       "      <td>gliome mixte ana III</td>\n",
       "      <td>3</td>\n",
       "      <td>NORMAL</td>\n",
       "      <td>NORMAL</td>\n",
       "      <td>ALTERE</td>\n",
       "      <td>NORMAL</td>\n",
       "      <td>NORMAL</td>\n",
       "      <td>METHYLE</td>\n",
       "      <td>AMPLIFIE</td>\n",
       "      <td>NORMAL</td>\n",
       "      <td>NORMAL</td>\n",
       "      <td>DELETE</td>\n",
       "      <td>NaN</td>\n",
       "      <td>NON PERTE</td>\n",
       "      <td>PERDU</td>\n",
       "      <td>PERDU</td>\n",
       "      <td>PERDU</td>\n",
       "      <td>PERDU</td>\n",
       "      <td>NaN</td>\n",
       "      <td>non précisé</td>\n",
       "      <td>D</td>\n",
       "    </tr>\n",
       "    <tr>\n",
       "      <th>17</th>\n",
       "      <td>25</td>\n",
       "      <td>NaN</td>\n",
       "      <td>25</td>\n",
       "      <td>M</td>\n",
       "      <td>1957-06-16</td>\n",
       "      <td>NaN</td>\n",
       "      <td>1991-04-13</td>\n",
       "      <td>1989-11-08</td>\n",
       "      <td>astrocytome bas grade II</td>\n",
       "      <td>2</td>\n",
       "      <td>NORMAL</td>\n",
       "      <td>NORMAL</td>\n",
       "      <td>NORMAL</td>\n",
       "      <td>NORMAL</td>\n",
       "      <td>NC</td>\n",
       "      <td>METHYLE</td>\n",
       "      <td>NaN</td>\n",
       "      <td>NaN</td>\n",
       "      <td>NaN</td>\n",
       "      <td>NaN</td>\n",
       "      <td>NaN</td>\n",
       "      <td>NON PERTE</td>\n",
       "      <td>NaN</td>\n",
       "      <td>NaN</td>\n",
       "      <td>NON PERTE</td>\n",
       "      <td>PERDU</td>\n",
       "      <td>NaN</td>\n",
       "      <td>sus-T hémisp+profond</td>\n",
       "      <td>bilatéral</td>\n",
       "    </tr>\n",
       "    <tr>\n",
       "      <th>18</th>\n",
       "      <td>26</td>\n",
       "      <td>NaN</td>\n",
       "      <td>26</td>\n",
       "      <td>M</td>\n",
       "      <td>1930-07-07</td>\n",
       "      <td>NaN</td>\n",
       "      <td>1991-05-15</td>\n",
       "      <td>1990-11-02</td>\n",
       "      <td>oligo.haut grade III</td>\n",
       "      <td>3</td>\n",
       "      <td>ALTERE</td>\n",
       "      <td>NORMAL</td>\n",
       "      <td>NaN</td>\n",
       "      <td>NaN</td>\n",
       "      <td>NORMAL</td>\n",
       "      <td>NaN</td>\n",
       "      <td>NORMAL</td>\n",
       "      <td>NORMAL</td>\n",
       "      <td>NORMAL</td>\n",
       "      <td>NORMAL</td>\n",
       "      <td>NaN</td>\n",
       "      <td>PERDU</td>\n",
       "      <td>PERDU</td>\n",
       "      <td>NON PERTE</td>\n",
       "      <td>NON PERTE</td>\n",
       "      <td>PARTIEL</td>\n",
       "      <td>NaN</td>\n",
       "      <td>non précisé</td>\n",
       "      <td>bilatéral</td>\n",
       "    </tr>\n",
       "    <tr>\n",
       "      <th>19</th>\n",
       "      <td>28</td>\n",
       "      <td>NaN</td>\n",
       "      <td>28</td>\n",
       "      <td>F</td>\n",
       "      <td>1941-02-08</td>\n",
       "      <td>1994-04-25 00:00:00</td>\n",
       "      <td>NaT</td>\n",
       "      <td>1992-04-09</td>\n",
       "      <td>glioblastome IV</td>\n",
       "      <td>4</td>\n",
       "      <td>NORMAL</td>\n",
       "      <td>NORMAL</td>\n",
       "      <td>NORMAL</td>\n",
       "      <td>ALTERE</td>\n",
       "      <td>NORMAL</td>\n",
       "      <td>METHYLE</td>\n",
       "      <td>AMPLIFIE</td>\n",
       "      <td>NORMAL</td>\n",
       "      <td>NORMAL</td>\n",
       "      <td>DELETE</td>\n",
       "      <td>NaN</td>\n",
       "      <td>PARTIEL</td>\n",
       "      <td>GAIN</td>\n",
       "      <td>PERDU</td>\n",
       "      <td>PERDU</td>\n",
       "      <td>PERDU</td>\n",
       "      <td>NON PERTE</td>\n",
       "      <td>sus-T hémisp</td>\n",
       "      <td>G</td>\n",
       "    </tr>\n",
       "  </tbody>\n",
       "</table>\n",
       "</div>"
      ],
      "text/plain": [
       "    Dwh Prv Nip  Dwh Pat Consentement  Pat Nip Pat Sexe Pat Date Naissance  \\\n",
       "0             4                   NaN        4        M         1940-05-22   \n",
       "1             5                   NaN        5        M         1947-10-15   \n",
       "2            10                   NaN       10        M         1949-11-05   \n",
       "3            11                   NaN       11        M         1958-07-29   \n",
       "4            11                   NaN       11        M         1958-07-29   \n",
       "5            12                   NaN       12        F         1930-12-07   \n",
       "6            13                   NaN       13        M         1928-11-17   \n",
       "7            13                   NaN       13        M         1928-11-17   \n",
       "8            14                   0.0       14        F         1934-07-17   \n",
       "9            15                   NaN       15        M         1936-03-22   \n",
       "10           16                   NaN       16        M         1922-04-18   \n",
       "11           17                   NaN       17        M         1924-04-12   \n",
       "12           18                   NaN       18        F         1931-06-05   \n",
       "13           21                   NaN       21        M         1966-01-06   \n",
       "14           22                   NaN       22        M         1950-05-10   \n",
       "15           23                   NaN       23        F         1932-10-09   \n",
       "16           24                   NaN       24        M         1943-03-04   \n",
       "17           25                   NaN       25        M         1957-06-16   \n",
       "18           26                   NaN       26        M         1930-07-07   \n",
       "19           28                   NaN       28        F         1941-02-08   \n",
       "\n",
       "        Dwh Pat Dn Date Dwh Pat Date Deces Dwh Prv Date Chir  \\\n",
       "0                   NaN         2001-02-22        2000-05-30   \n",
       "1                   NaN         1999-12-15        1999-05-29   \n",
       "2                   NaN         1992-05-15        1992-04-15   \n",
       "3                   NaN         1991-11-15        1986-03-17   \n",
       "4                   NaN         1991-11-15        1991-08-14   \n",
       "5                   NaN         1991-03-13        1990-02-13   \n",
       "6                   NaN         1990-12-20        1990-11-21   \n",
       "7                   NaN         1990-12-20        1989-11-17   \n",
       "8                   NaN         1993-03-30        1992-01-22   \n",
       "9                   NaN         1992-03-14        1991-10-23   \n",
       "10                  NaN         1991-12-22        1990-11-09   \n",
       "11                  NaN         1990-04-04        1990-03-28   \n",
       "12                  NaN         1992-12-18        1992-02-06   \n",
       "13  2011-07-25 00:00:00                NaT        1988-07-12   \n",
       "14                  NaN         1995-01-29        1993-07-07   \n",
       "15                  NaN         1993-09-10        1990-06-26   \n",
       "16                  NaN         1993-12-15        1992-01-14   \n",
       "17                  NaN         1991-04-13        1989-11-08   \n",
       "18                  NaN         1991-05-15        1990-11-02   \n",
       "19  1994-04-25 00:00:00                NaT        1992-04-09   \n",
       "\n",
       "        Dwh Prv Diag Histologie  Grade Dwh Gen Idh1 Dwh Gen Idh2  \\\n",
       "0               glioblastome IV      4           NC           NC   \n",
       "1               glioblastome IV      4          NaN          NaN   \n",
       "2          gliome mixte ana III      3       ALTERE       NORMAL   \n",
       "3      astrocytome bas grade II      2           NC           NC   \n",
       "4               glioblastome IV      4       ALTERE       NORMAL   \n",
       "5               glioblastome IV      4       NORMAL          NaN   \n",
       "6   astrocytome anaplasique III      3          NaN          NaN   \n",
       "7               glioblastome IV      4       NORMAL          NaN   \n",
       "8   glioblastome avec oligo. IV      4       NORMAL       NORMAL   \n",
       "9               glioblastome IV      4       NORMAL       NORMAL   \n",
       "10              glioblastome IV      4       NORMAL       NORMAL   \n",
       "11              glioblastome IV      4       NORMAL          NaN   \n",
       "12  astrocytome anaplasique III      3       NORMAL       NORMAL   \n",
       "13     astrocytome bas grade II      2           NC           NC   \n",
       "14              glioblastome IV      4       NORMAL       NORMAL   \n",
       "15  astrocytome anaplasique III      3           NC           NC   \n",
       "16         gliome mixte ana III      3       NORMAL       NORMAL   \n",
       "17     astrocytome bas grade II      2       NORMAL       NORMAL   \n",
       "18         oligo.haut grade III      3       ALTERE       NORMAL   \n",
       "19              glioblastome IV      4       NORMAL       NORMAL   \n",
       "\n",
       "   Dwh Gen Htert C228T Dwh Gen Htert C250T Dwh Gen P53 Dwh Gen Mgmt  \\\n",
       "0                  NaN                 NaN          NC          NaN   \n",
       "1                  NaN                 NaN         NaN          NaN   \n",
       "2               NORMAL              NORMAL          NC          NaN   \n",
       "3                  NaN                 NaN          NC          NaN   \n",
       "4               NORMAL              NORMAL          NC          NaN   \n",
       "5               NORMAL              ALTERE      NORMAL  NON METHYLE   \n",
       "6                  NaN                 NaN      NORMAL          NaN   \n",
       "7               NORMAL              NORMAL      NORMAL  NON METHYLE   \n",
       "8               NORMAL              ALTERE      NORMAL          NaN   \n",
       "9               ALTERE              NORMAL      ALTERE  NON METHYLE   \n",
       "10              NORMAL              NORMAL      NORMAL          NaN   \n",
       "11              NORMAL              ALTERE          NC      METHYLE   \n",
       "12              ALTERE              NORMAL      NORMAL          NaN   \n",
       "13                 NaN                 NaN          NC          NaN   \n",
       "14              ALTERE              NORMAL      NORMAL      METHYLE   \n",
       "15                 NaN                 NaN          NC          NaN   \n",
       "16              ALTERE              NORMAL      NORMAL      METHYLE   \n",
       "17              NORMAL              NORMAL          NC      METHYLE   \n",
       "18                 NaN                 NaN      NORMAL          NaN   \n",
       "19              NORMAL              ALTERE      NORMAL      METHYLE   \n",
       "\n",
       "   Dwh Gen Egfr Dwh Gen Mdm2 Dwh Gen Cdk4 Dwh Gen P16 Dwh Ihc Atrx  \\\n",
       "0           NaN          NaN          NaN         NaN          NaN   \n",
       "1           NaN          NaN          NaN         NaN          NaN   \n",
       "2        NORMAL          NaN          NaN         NaN          NaN   \n",
       "3           NaN          NaN          NaN         NaN          NaN   \n",
       "4        NORMAL       NORMAL       NORMAL      NORMAL          NaN   \n",
       "5        NORMAL       NORMAL       NORMAL      DELETE          NaN   \n",
       "6           NaN          NaN          NaN         NaN          NaN   \n",
       "7        NORMAL       NORMAL       NORMAL      NORMAL          NaN   \n",
       "8      AMPLIFIE       NORMAL       NORMAL      NORMAL          NaN   \n",
       "9      AMPLIFIE       NORMAL       NORMAL      DELETE          NaN   \n",
       "10       NORMAL       NORMAL       NORMAL      DELETE          NaN   \n",
       "11       NORMAL       NORMAL       NORMAL      NORMAL          NaN   \n",
       "12       NORMAL          NaN          NaN         NaN          NaN   \n",
       "13          NaN          NaN          NaN         NaN          NaN   \n",
       "14     AMPLIFIE       NORMAL       NORMAL      DELETE          NaN   \n",
       "15          NaN          NaN          NaN         NaN          NaN   \n",
       "16     AMPLIFIE       NORMAL       NORMAL      DELETE          NaN   \n",
       "17          NaN          NaN          NaN         NaN          NaN   \n",
       "18       NORMAL       NORMAL       NORMAL      NORMAL          NaN   \n",
       "19     AMPLIFIE       NORMAL       NORMAL      DELETE          NaN   \n",
       "\n",
       "   Dwh Chr Ch1P Dwh Chr Ch19Q Dwh Chr Ch10P Dwh Chr Ch10Q Dwh Chr Ch9P  \\\n",
       "0           NaN           NaN           NaN           NaN          NaN   \n",
       "1           NaN           NaN           NaN           NaN          NaN   \n",
       "2     NON PERTE     NON PERTE     NON PERTE         PERDU    NON PERTE   \n",
       "3           NaN           NaN           NaN           NaN          NaN   \n",
       "4     NON PERTE     NON PERTE     NON PERTE       PARTIEL        PERDU   \n",
       "5       PARTIEL       PARTIEL         PERDU         PERDU        PERDU   \n",
       "6     NON PERTE     NON PERTE     NON PERTE         PERDU          NaN   \n",
       "7     NON PERTE     NON PERTE     NON PERTE         PERDU          NaN   \n",
       "8          GAIN     NON PERTE     NON PERTE         PERDU    NON PERTE   \n",
       "9       PARTIEL     NON PERTE     NON PERTE         PERDU    NON PERTE   \n",
       "10      PARTIEL       PARTIEL           NaN         PERDU    NON PERTE   \n",
       "11    NON PERTE     NON PERTE     NON PERTE         PERDU    NON PERTE   \n",
       "12    NON PERTE           NaN     NON PERTE     NON PERTE    NON PERTE   \n",
       "13          NaN           NaN           NaN           NaN          NaN   \n",
       "14      PARTIEL     NON PERTE         PERDU         PERDU      PARTIEL   \n",
       "15          NaN           NaN           NaN           NaN          NaN   \n",
       "16    NON PERTE         PERDU         PERDU         PERDU        PERDU   \n",
       "17    NON PERTE           NaN           NaN     NON PERTE        PERDU   \n",
       "18        PERDU         PERDU     NON PERTE     NON PERTE      PARTIEL   \n",
       "19      PARTIEL          GAIN         PERDU         PERDU        PERDU   \n",
       "\n",
       "   Dwh Chr Ch9Q  Dwh Pat Tumeur Siege Dwh Pat Tumeur Position  \n",
       "0           NaN                 autre                       G  \n",
       "1           NaN          sus-T hémisp                       G  \n",
       "2           NaN          sus-T hémisp                       G  \n",
       "3           NaN           non précisé             non précisé  \n",
       "4           NaN           non précisé             non précisé  \n",
       "5           NaN          sus-T hémisp                       G  \n",
       "6           NaN          sus-T hémisp                       D  \n",
       "7           NaN          sus-T hémisp                       D  \n",
       "8     NON PERTE          sus-T hémisp                       D  \n",
       "9     NON PERTE          sus-T hémisp                       G  \n",
       "10          NaN           non précisé                       G  \n",
       "11          NaN           non précisé             non précisé  \n",
       "12          NaN          sus-T hémisp                       G  \n",
       "13          NaN         ventriculaire                       D  \n",
       "14    NON PERTE          sus-T hémisp                       G  \n",
       "15          NaN          sus-T hémisp                       D  \n",
       "16          NaN           non précisé                       D  \n",
       "17          NaN  sus-T hémisp+profond               bilatéral  \n",
       "18          NaN           non précisé               bilatéral  \n",
       "19    NON PERTE          sus-T hémisp                       G  "
      ]
     },
     "execution_count": 22,
     "metadata": {},
     "output_type": "execute_result"
    }
   ],
   "source": [
    "bio.head(20)"
   ]
  },
  {
   "cell_type": "code",
   "execution_count": 23,
   "metadata": {
    "collapsed": false
   },
   "outputs": [
    {
     "data": {
      "text/plain": [
       "glioblastome IV                     2917\n",
       "oligo.haut grade III                1156\n",
       "gliome mixte ana III                 891\n",
       "oligo. bas grade II                  808\n",
       "glioblastome avec oligo. IV          569\n",
       "gliome mixte II                      422\n",
       "astrocytome anaplasique III          308\n",
       "astrocytome bas grade II             247\n",
       "gangliogliome                        154\n",
       "astrocytome pilocytique              116\n",
       "astrocytome gémistocytique (=A2)      33\n",
       "gangliogliome anaplasique III          9\n",
       "Name: Dwh Prv Diag Histologie, dtype: int64"
      ]
     },
     "execution_count": 23,
     "metadata": {},
     "output_type": "execute_result"
    }
   ],
   "source": [
    "bio_asNumeric['Dwh Prv Diag Histologie'].value_counts()"
   ]
  },
  {
   "cell_type": "code",
   "execution_count": 24,
   "metadata": {
    "collapsed": false
   },
   "outputs": [],
   "source": [
    "bio_asNumeric = bio.copy()"
   ]
  },
  {
   "cell_type": "code",
   "execution_count": 25,
   "metadata": {
    "collapsed": false
   },
   "outputs": [],
   "source": [
    "bio_asNumeric['Dwh Prv Nip'] = pd.to_numeric(bio_asNumeric['Dwh Prv Nip'], errors='coerce').astype('category')\n",
    "bio_asNumeric['Dwh Pat Consentement'] = pd.to_numeric(bio_asNumeric['Dwh Pat Consentement'], errors = 'coerce').astype('category')\n",
    "bio_asNumeric['Pat Nip'] = pd.to_numeric(bio_asNumeric['Pat Nip'], errors='coerce').astype('category')\n",
    "bio_asNumeric['Pat Sexe'] = bio_asNumeric['Pat Sexe'].astype('category')\n",
    "bio_asNumeric['Pat Date Naissance'] = pd.to_datetime(bio_asNumeric['Pat Date Naissance'])\n",
    "bio_asNumeric['Dwh Pat Dn Date'] = pd.to_datetime(bio_asNumeric['Dwh Pat Date Deces'])\n",
    "bio_asNumeric['Dwh Pat Date Deces'] = pd.to_datetime(bio_asNumeric['Dwh Pat Date Deces'])\n",
    "bio_asNumeric['Dwh Prv Date Chir'] = pd.to_datetime(bio_asNumeric['Dwh Prv Date Chir'])\n",
    "bio_asNumeric['Grade'] = pd.to_numeric(bio_asNumeric['Grade'], errors='coerce').astype('category')\n",
    "bio_asNumeric['Dwh Pat Tumeur Position'] = bio_asNumeric['Dwh Pat Tumeur Position'].astype('category')"
   ]
  },
  {
   "cell_type": "code",
   "execution_count": 26,
   "metadata": {
    "collapsed": false
   },
   "outputs": [],
   "source": [
    "#Dwh Pat Consentement to be removed? Almost all missing and not clinically relevant?\n",
    "#Dwh Pat Dn Date to be removed?\n",
    "#interesting to analyze surgery date, all other things being equal. or any other proxy of impact of surgeon?\n",
    "#what is the right measure of survival? date of diagnosis? date of surgery? none marks the actual 'beginning'. survival\n",
    "#post diagnosis after controlling for tumor stage?"
   ]
  },
  {
   "cell_type": "code",
   "execution_count": 27,
   "metadata": {
    "collapsed": true
   },
   "outputs": [],
   "source": [
    "#now we're going to check null values and class imbalances for any variables"
   ]
  },
  {
   "cell_type": "code",
   "execution_count": 28,
   "metadata": {
    "collapsed": false
   },
   "outputs": [
    {
     "data": {
      "text/plain": [
       "False    7630\n",
       "Name: Dwh Prv Nip, dtype: int64"
      ]
     },
     "execution_count": 28,
     "metadata": {},
     "output_type": "execute_result"
    }
   ],
   "source": [
    "bio_asNumeric['Dwh Prv Nip'].isnull().value_counts()"
   ]
  },
  {
   "cell_type": "code",
   "execution_count": 29,
   "metadata": {
    "collapsed": false
   },
   "outputs": [
    {
     "data": {
      "text/plain": [
       "4             1\n",
       "5             1\n",
       "10            1\n",
       "11            2\n",
       "12            1\n",
       "13            2\n",
       "14            1\n",
       "15            1\n",
       "16            1\n",
       "17            1\n",
       "18            1\n",
       "21            1\n",
       "22            1\n",
       "23            1\n",
       "24            1\n",
       "25            1\n",
       "26            1\n",
       "28            1\n",
       "29            1\n",
       "30            1\n",
       "31            1\n",
       "32            1\n",
       "34            1\n",
       "35            1\n",
       "36            2\n",
       "37            1\n",
       "38            1\n",
       "39            2\n",
       "40            1\n",
       "41            1\n",
       "             ..\n",
       "8009833534    1\n",
       "8009835872    1\n",
       "8009838306    1\n",
       "8009854795    1\n",
       "8009859289    1\n",
       "8009898761    1\n",
       "8009902381    1\n",
       "8009902439    1\n",
       "8009908721    1\n",
       "8009915702    1\n",
       "8009934000    1\n",
       "8009951119    1\n",
       "8009952433    1\n",
       "8009965085    1\n",
       "8009968518    1\n",
       "8009975930    1\n",
       "8009998587    1\n",
       "8010001908    1\n",
       "8010022374    1\n",
       "8010026077    1\n",
       "8010254785    1\n",
       "8010255487    1\n",
       "8010257382    1\n",
       "8010265753    1\n",
       "8010271738    1\n",
       "8010312838    1\n",
       "8010327558    1\n",
       "8010341057    1\n",
       "8010342923    1\n",
       "8010348423    1\n",
       "Name: Dwh Prv Nip, dtype: int64"
      ]
     },
     "execution_count": 29,
     "metadata": {},
     "output_type": "execute_result"
    }
   ],
   "source": [
    "bio_asNumeric['Dwh Prv Nip'].value_counts(sort = False)"
   ]
  },
  {
   "cell_type": "code",
   "execution_count": 30,
   "metadata": {
    "collapsed": false
   },
   "outputs": [
    {
     "data": {
      "text/plain": [
       "False    4081\n",
       "True     3549\n",
       "Name: Dwh Pat Consentement, dtype: int64"
      ]
     },
     "execution_count": 30,
     "metadata": {},
     "output_type": "execute_result"
    }
   ],
   "source": [
    "bio_asNumeric['Dwh Pat Consentement'].isnull().value_counts()"
   ]
  },
  {
   "cell_type": "code",
   "execution_count": 31,
   "metadata": {
    "collapsed": false
   },
   "outputs": [
    {
     "data": {
      "text/plain": [
       "1.0    2429\n",
       "0.0    1652\n",
       "Name: Dwh Pat Consentement, dtype: int64"
      ]
     },
     "execution_count": 31,
     "metadata": {},
     "output_type": "execute_result"
    }
   ],
   "source": [
    "bio_asNumeric['Dwh Pat Consentement'].value_counts()"
   ]
  },
  {
   "cell_type": "code",
   "execution_count": 32,
   "metadata": {
    "collapsed": false
   },
   "outputs": [
    {
     "data": {
      "text/plain": [
       "False    7630\n",
       "Name: Pat Nip, dtype: int64"
      ]
     },
     "execution_count": 32,
     "metadata": {},
     "output_type": "execute_result"
    }
   ],
   "source": [
    "bio_asNumeric['Pat Nip'].isnull().value_counts()"
   ]
  },
  {
   "cell_type": "code",
   "execution_count": 33,
   "metadata": {
    "collapsed": false
   },
   "outputs": [
    {
     "data": {
      "text/plain": [
       "4             1\n",
       "5             1\n",
       "10            1\n",
       "11            2\n",
       "12            1\n",
       "13            2\n",
       "14            1\n",
       "15            1\n",
       "16            1\n",
       "17            1\n",
       "18            1\n",
       "21            1\n",
       "22            1\n",
       "23            1\n",
       "24            1\n",
       "25            1\n",
       "26            1\n",
       "28            1\n",
       "29            1\n",
       "30            1\n",
       "31            1\n",
       "32            1\n",
       "34            1\n",
       "35            1\n",
       "36            2\n",
       "37            1\n",
       "38            1\n",
       "39            2\n",
       "40            1\n",
       "41            1\n",
       "             ..\n",
       "8009833534    1\n",
       "8009835872    1\n",
       "8009838306    1\n",
       "8009854795    1\n",
       "8009859289    1\n",
       "8009898761    1\n",
       "8009902381    1\n",
       "8009902439    1\n",
       "8009908721    1\n",
       "8009915702    1\n",
       "8009934000    1\n",
       "8009951119    1\n",
       "8009952433    1\n",
       "8009965085    1\n",
       "8009968518    1\n",
       "8009975930    1\n",
       "8009998587    1\n",
       "8010001908    1\n",
       "8010022374    1\n",
       "8010026077    1\n",
       "8010254785    1\n",
       "8010255487    1\n",
       "8010257382    1\n",
       "8010265753    1\n",
       "8010271738    1\n",
       "8010312838    1\n",
       "8010327558    1\n",
       "8010341057    1\n",
       "8010342923    1\n",
       "8010348423    1\n",
       "Name: Pat Nip, dtype: int64"
      ]
     },
     "execution_count": 33,
     "metadata": {},
     "output_type": "execute_result"
    }
   ],
   "source": [
    "bio_asNumeric['Pat Nip'].value_counts(sort = False)"
   ]
  },
  {
   "cell_type": "code",
   "execution_count": 34,
   "metadata": {
    "collapsed": false
   },
   "outputs": [
    {
     "data": {
      "text/plain": [
       "False    7299\n",
       "True      331\n",
       "Name: Pat Sexe, dtype: int64"
      ]
     },
     "execution_count": 34,
     "metadata": {},
     "output_type": "execute_result"
    }
   ],
   "source": [
    "bio_asNumeric['Pat Sexe'].isnull().value_counts()"
   ]
  },
  {
   "cell_type": "code",
   "execution_count": 35,
   "metadata": {
    "collapsed": false
   },
   "outputs": [
    {
     "data": {
      "text/plain": [
       "M    0.559633\n",
       "F    0.396986\n",
       "Name: Pat Sexe, dtype: float64"
      ]
     },
     "execution_count": 35,
     "metadata": {},
     "output_type": "execute_result"
    }
   ],
   "source": [
    "bio_asNumeric['Pat Sexe'].value_counts()/len(bio_asNumeric)"
   ]
  },
  {
   "cell_type": "code",
   "execution_count": 36,
   "metadata": {
    "collapsed": false
   },
   "outputs": [
    {
     "data": {
      "text/plain": [
       "False    7567\n",
       "True       63\n",
       "Name: Pat Date Naissance, dtype: int64"
      ]
     },
     "execution_count": 36,
     "metadata": {},
     "output_type": "execute_result"
    }
   ],
   "source": [
    "bio_asNumeric['Pat Date Naissance'].isnull().value_counts()"
   ]
  },
  {
   "cell_type": "code",
   "execution_count": 37,
   "metadata": {
    "collapsed": false
   },
   "outputs": [
    {
     "data": {
      "text/plain": [
       "count                    7567\n",
       "unique                   5686\n",
       "top       1945-01-01 00:00:00\n",
       "freq                        8\n",
       "first     1912-04-12 00:00:00\n",
       "last      2015-04-23 00:00:00\n",
       "Name: Pat Date Naissance, dtype: object"
      ]
     },
     "execution_count": 37,
     "metadata": {},
     "output_type": "execute_result"
    }
   ],
   "source": [
    "bio_asNumeric['Pat Date Naissance'].describe()"
   ]
  },
  {
   "cell_type": "code",
   "execution_count": 38,
   "metadata": {
    "collapsed": true
   },
   "outputs": [],
   "source": [
    "#transform the birth date in age at diagnosis"
   ]
  },
  {
   "cell_type": "code",
   "execution_count": 39,
   "metadata": {
    "collapsed": false
   },
   "outputs": [
    {
     "data": {
      "text/plain": [
       "True     4833\n",
       "False    2797\n",
       "Name: Dwh Pat Dn Date, dtype: int64"
      ]
     },
     "execution_count": 39,
     "metadata": {},
     "output_type": "execute_result"
    }
   ],
   "source": [
    "bio_asNumeric['Dwh Pat Dn Date'].isnull().value_counts()"
   ]
  },
  {
   "cell_type": "code",
   "execution_count": 40,
   "metadata": {
    "collapsed": false
   },
   "outputs": [
    {
     "data": {
      "text/plain": [
       "count                    2797\n",
       "unique                   1976\n",
       "top       2014-07-17 00:00:00\n",
       "freq                        8\n",
       "first     1989-05-13 00:00:00\n",
       "last      2017-05-14 00:00:00\n",
       "Name: Dwh Pat Dn Date, dtype: object"
      ]
     },
     "execution_count": 40,
     "metadata": {},
     "output_type": "execute_result"
    }
   ],
   "source": [
    "bio_asNumeric['Dwh Pat Dn Date'].describe()"
   ]
  },
  {
   "cell_type": "code",
   "execution_count": 41,
   "metadata": {
    "collapsed": false
   },
   "outputs": [
    {
     "data": {
      "text/plain": [
       "True     4833\n",
       "False    2797\n",
       "Name: Dwh Pat Date Deces, dtype: int64"
      ]
     },
     "execution_count": 41,
     "metadata": {},
     "output_type": "execute_result"
    }
   ],
   "source": [
    "bio_asNumeric['Dwh Pat Date Deces'].isnull().value_counts()"
   ]
  },
  {
   "cell_type": "code",
   "execution_count": 42,
   "metadata": {
    "collapsed": false
   },
   "outputs": [
    {
     "data": {
      "text/plain": [
       "count                    2797\n",
       "unique                   1976\n",
       "top       2014-07-17 00:00:00\n",
       "freq                        8\n",
       "first     1989-05-13 00:00:00\n",
       "last      2017-05-14 00:00:00\n",
       "Name: Dwh Pat Date Deces, dtype: object"
      ]
     },
     "execution_count": 42,
     "metadata": {},
     "output_type": "execute_result"
    }
   ],
   "source": [
    "bio_asNumeric['Dwh Pat Date Deces'].describe()"
   ]
  },
  {
   "cell_type": "code",
   "execution_count": 43,
   "metadata": {
    "collapsed": false
   },
   "outputs": [
    {
     "data": {
      "text/plain": [
       "False    7198\n",
       "True      432\n",
       "Name: Dwh Prv Date Chir, dtype: int64"
      ]
     },
     "execution_count": 43,
     "metadata": {},
     "output_type": "execute_result"
    }
   ],
   "source": [
    "bio_asNumeric['Dwh Prv Date Chir'].isnull().value_counts()"
   ]
  },
  {
   "cell_type": "code",
   "execution_count": 44,
   "metadata": {
    "collapsed": false
   },
   "outputs": [
    {
     "data": {
      "text/plain": [
       "count                    7198\n",
       "unique                   4101\n",
       "top       2014-03-14 00:00:00\n",
       "freq                        8\n",
       "first     1955-12-18 00:00:00\n",
       "last      2017-07-25 00:00:00\n",
       "Name: Dwh Prv Date Chir, dtype: object"
      ]
     },
     "execution_count": 44,
     "metadata": {},
     "output_type": "execute_result"
    }
   ],
   "source": [
    "bio_asNumeric['Dwh Prv Date Chir'].describe()"
   ]
  },
  {
   "cell_type": "code",
   "execution_count": 45,
   "metadata": {
    "collapsed": false
   },
   "outputs": [
    {
     "data": {
      "text/plain": [
       "False    7630\n",
       "Name: Dwh Prv Diag Histologie, dtype: int64"
      ]
     },
     "execution_count": 45,
     "metadata": {},
     "output_type": "execute_result"
    }
   ],
   "source": [
    "bio_asNumeric['Dwh Prv Diag Histologie'].isnull().value_counts()"
   ]
  },
  {
   "cell_type": "code",
   "execution_count": 46,
   "metadata": {
    "collapsed": false
   },
   "outputs": [
    {
     "data": {
      "text/plain": [
       "glioblastome IV                     2917\n",
       "oligo.haut grade III                1156\n",
       "gliome mixte ana III                 891\n",
       "oligo. bas grade II                  808\n",
       "glioblastome avec oligo. IV          569\n",
       "gliome mixte II                      422\n",
       "astrocytome anaplasique III          308\n",
       "astrocytome bas grade II             247\n",
       "gangliogliome                        154\n",
       "astrocytome pilocytique              116\n",
       "astrocytome gémistocytique (=A2)      33\n",
       "gangliogliome anaplasique III          9\n",
       "Name: Dwh Prv Diag Histologie, dtype: int64"
      ]
     },
     "execution_count": 46,
     "metadata": {},
     "output_type": "execute_result"
    }
   ],
   "source": [
    "bio_asNumeric['Dwh Prv Diag Histologie'].value_counts()"
   ]
  },
  {
   "cell_type": "code",
   "execution_count": 47,
   "metadata": {
    "collapsed": false
   },
   "outputs": [
    {
     "data": {
      "text/plain": [
       "False    7630\n",
       "Name: Grade, dtype: int64"
      ]
     },
     "execution_count": 47,
     "metadata": {},
     "output_type": "execute_result"
    }
   ],
   "source": [
    "bio_asNumeric['Grade'].isnull().value_counts()"
   ]
  },
  {
   "cell_type": "code",
   "execution_count": 48,
   "metadata": {
    "collapsed": false
   },
   "outputs": [
    {
     "data": {
      "text/plain": [
       "4    3486\n",
       "3    2364\n",
       "2    1510\n",
       "1     270\n",
       "Name: Grade, dtype: int64"
      ]
     },
     "execution_count": 48,
     "metadata": {},
     "output_type": "execute_result"
    }
   ],
   "source": [
    "bio_asNumeric['Grade'].value_counts()"
   ]
  },
  {
   "cell_type": "code",
   "execution_count": 49,
   "metadata": {
    "collapsed": false
   },
   "outputs": [
    {
     "data": {
      "text/plain": [
       "False    7181\n",
       "True      449\n",
       "Name: Dwh Gen Idh1, dtype: int64"
      ]
     },
     "execution_count": 49,
     "metadata": {},
     "output_type": "execute_result"
    }
   ],
   "source": [
    "bio_asNumeric['Dwh Gen Idh1'].isnull().value_counts()"
   ]
  },
  {
   "cell_type": "code",
   "execution_count": 50,
   "metadata": {
    "collapsed": false
   },
   "outputs": [
    {
     "data": {
      "text/plain": [
       "NORMAL    2580\n",
       "ALTERE    2398\n",
       "NC        2203\n",
       "Name: Dwh Gen Idh1, dtype: int64"
      ]
     },
     "execution_count": 50,
     "metadata": {},
     "output_type": "execute_result"
    }
   ],
   "source": [
    "bio_asNumeric['Dwh Gen Idh1'].value_counts()"
   ]
  },
  {
   "cell_type": "code",
   "execution_count": 51,
   "metadata": {
    "collapsed": false
   },
   "outputs": [
    {
     "data": {
      "text/plain": [
       "False    6941\n",
       "True      689\n",
       "Name: Dwh Gen Idh2, dtype: int64"
      ]
     },
     "execution_count": 51,
     "metadata": {},
     "output_type": "execute_result"
    }
   ],
   "source": [
    "bio_asNumeric['Dwh Gen Idh2'].isnull().value_counts()"
   ]
  },
  {
   "cell_type": "code",
   "execution_count": 52,
   "metadata": {
    "collapsed": false
   },
   "outputs": [
    {
     "data": {
      "text/plain": [
       "NORMAL    3879\n",
       "NC        2958\n",
       "ALTERE     104\n",
       "Name: Dwh Gen Idh2, dtype: int64"
      ]
     },
     "execution_count": 52,
     "metadata": {},
     "output_type": "execute_result"
    }
   ],
   "source": [
    "bio_asNumeric['Dwh Gen Idh2'].value_counts()"
   ]
  },
  {
   "cell_type": "code",
   "execution_count": 53,
   "metadata": {
    "collapsed": false
   },
   "outputs": [
    {
     "data": {
      "text/plain": [
       "False    4264\n",
       "True     3366\n",
       "Name: Dwh Gen Htert C228T, dtype: int64"
      ]
     },
     "execution_count": 53,
     "metadata": {},
     "output_type": "execute_result"
    }
   ],
   "source": [
    "bio_asNumeric['Dwh Gen Htert C228T'].isnull().value_counts()"
   ]
  },
  {
   "cell_type": "code",
   "execution_count": 54,
   "metadata": {
    "collapsed": false,
    "scrolled": true
   },
   "outputs": [
    {
     "data": {
      "text/plain": [
       "NORMAL    2024\n",
       "ALTERE    1628\n",
       "NC         612\n",
       "Name: Dwh Gen Htert C228T, dtype: int64"
      ]
     },
     "execution_count": 54,
     "metadata": {},
     "output_type": "execute_result"
    }
   ],
   "source": [
    "bio_asNumeric['Dwh Gen Htert C228T'].value_counts()"
   ]
  },
  {
   "cell_type": "code",
   "execution_count": 55,
   "metadata": {
    "collapsed": false
   },
   "outputs": [
    {
     "data": {
      "text/plain": [
       "False    4262\n",
       "True     3368\n",
       "Name: Dwh Gen Htert C250T, dtype: int64"
      ]
     },
     "execution_count": 55,
     "metadata": {},
     "output_type": "execute_result"
    }
   ],
   "source": [
    "bio_asNumeric['Dwh Gen Htert C250T'].isnull().value_counts()"
   ]
  },
  {
   "cell_type": "code",
   "execution_count": 56,
   "metadata": {
    "collapsed": false
   },
   "outputs": [
    {
     "data": {
      "text/plain": [
       "NORMAL    3018\n",
       "ALTERE     623\n",
       "NC         621\n",
       "Name: Dwh Gen Htert C250T, dtype: int64"
      ]
     },
     "execution_count": 56,
     "metadata": {},
     "output_type": "execute_result"
    }
   ],
   "source": [
    "bio_asNumeric['Dwh Gen Htert C250T'].value_counts()"
   ]
  },
  {
   "cell_type": "code",
   "execution_count": 57,
   "metadata": {
    "collapsed": false
   },
   "outputs": [
    {
     "data": {
      "text/plain": [
       "False    6371\n",
       "True     1259\n",
       "Name: Dwh Gen P53, dtype: int64"
      ]
     },
     "execution_count": 57,
     "metadata": {},
     "output_type": "execute_result"
    }
   ],
   "source": [
    "bio_asNumeric['Dwh Gen P53'].isnull().value_counts()"
   ]
  },
  {
   "cell_type": "code",
   "execution_count": 58,
   "metadata": {
    "collapsed": false
   },
   "outputs": [
    {
     "data": {
      "text/plain": [
       "NC        5236\n",
       "NORMAL     776\n",
       "ALTERE     359\n",
       "Name: Dwh Gen P53, dtype: int64"
      ]
     },
     "execution_count": 58,
     "metadata": {},
     "output_type": "execute_result"
    }
   ],
   "source": [
    "bio_asNumeric['Dwh Gen P53'].value_counts()"
   ]
  },
  {
   "cell_type": "code",
   "execution_count": 59,
   "metadata": {
    "collapsed": false
   },
   "outputs": [
    {
     "data": {
      "text/plain": [
       "True     6334\n",
       "False    1296\n",
       "Name: Dwh Gen Mgmt, dtype: int64"
      ]
     },
     "execution_count": 59,
     "metadata": {},
     "output_type": "execute_result"
    }
   ],
   "source": [
    "bio_asNumeric['Dwh Gen Mgmt'].isnull().value_counts()"
   ]
  },
  {
   "cell_type": "code",
   "execution_count": 60,
   "metadata": {
    "collapsed": false
   },
   "outputs": [
    {
     "data": {
      "text/plain": [
       "METHYLE        717\n",
       "NON METHYLE    579\n",
       "Name: Dwh Gen Mgmt, dtype: int64"
      ]
     },
     "execution_count": 60,
     "metadata": {},
     "output_type": "execute_result"
    }
   ],
   "source": [
    "bio_asNumeric['Dwh Gen Mgmt'].value_counts()"
   ]
  },
  {
   "cell_type": "code",
   "execution_count": 61,
   "metadata": {
    "collapsed": false
   },
   "outputs": [
    {
     "data": {
      "text/plain": [
       "False    4417\n",
       "True     3213\n",
       "Name: Dwh Gen Egfr, dtype: int64"
      ]
     },
     "execution_count": 61,
     "metadata": {},
     "output_type": "execute_result"
    }
   ],
   "source": [
    "bio_asNumeric['Dwh Gen Egfr'].isnull().value_counts()"
   ]
  },
  {
   "cell_type": "code",
   "execution_count": 62,
   "metadata": {
    "collapsed": false
   },
   "outputs": [
    {
     "data": {
      "text/plain": [
       "NORMAL      3799\n",
       "AMPLIFIE     618\n",
       "Name: Dwh Gen Egfr, dtype: int64"
      ]
     },
     "execution_count": 62,
     "metadata": {},
     "output_type": "execute_result"
    }
   ],
   "source": [
    "bio_asNumeric['Dwh Gen Egfr'].value_counts()"
   ]
  },
  {
   "cell_type": "code",
   "execution_count": 63,
   "metadata": {
    "collapsed": false
   },
   "outputs": [
    {
     "data": {
      "text/plain": [
       "False    4453\n",
       "True     3177\n",
       "Name: Dwh Gen Mdm2, dtype: int64"
      ]
     },
     "execution_count": 63,
     "metadata": {},
     "output_type": "execute_result"
    }
   ],
   "source": [
    "bio_asNumeric['Dwh Gen Mdm2'].isnull().value_counts()"
   ]
  },
  {
   "cell_type": "code",
   "execution_count": 64,
   "metadata": {
    "collapsed": false
   },
   "outputs": [
    {
     "data": {
      "text/plain": [
       "NORMAL      4342\n",
       "AMPLIFIE     111\n",
       "Name: Dwh Gen Mdm2, dtype: int64"
      ]
     },
     "execution_count": 64,
     "metadata": {},
     "output_type": "execute_result"
    }
   ],
   "source": [
    "bio_asNumeric['Dwh Gen Mdm2'].value_counts()"
   ]
  },
  {
   "cell_type": "code",
   "execution_count": 65,
   "metadata": {
    "collapsed": false
   },
   "outputs": [
    {
     "data": {
      "text/plain": [
       "False    4308\n",
       "True     3322\n",
       "Name: Dwh Gen Cdk4, dtype: int64"
      ]
     },
     "execution_count": 65,
     "metadata": {},
     "output_type": "execute_result"
    }
   ],
   "source": [
    "bio_asNumeric['Dwh Gen Cdk4'].isnull().value_counts()"
   ]
  },
  {
   "cell_type": "code",
   "execution_count": 66,
   "metadata": {
    "collapsed": false
   },
   "outputs": [
    {
     "data": {
      "text/plain": [
       "NORMAL      4128\n",
       "AMPLIFIE     180\n",
       "Name: Dwh Gen Cdk4, dtype: int64"
      ]
     },
     "execution_count": 66,
     "metadata": {},
     "output_type": "execute_result"
    }
   ],
   "source": [
    "bio_asNumeric['Dwh Gen Cdk4'].value_counts()"
   ]
  },
  {
   "cell_type": "code",
   "execution_count": 67,
   "metadata": {
    "collapsed": false
   },
   "outputs": [
    {
     "data": {
      "text/plain": [
       "False    4362\n",
       "True     3268\n",
       "Name: Dwh Gen P16, dtype: int64"
      ]
     },
     "execution_count": 67,
     "metadata": {},
     "output_type": "execute_result"
    }
   ],
   "source": [
    "bio_asNumeric['Dwh Gen P16'].isnull().value_counts()"
   ]
  },
  {
   "cell_type": "code",
   "execution_count": 68,
   "metadata": {
    "collapsed": false
   },
   "outputs": [
    {
     "data": {
      "text/plain": [
       "NORMAL    3412\n",
       "DELETE     950\n",
       "Name: Dwh Gen P16, dtype: int64"
      ]
     },
     "execution_count": 68,
     "metadata": {},
     "output_type": "execute_result"
    }
   ],
   "source": [
    "bio_asNumeric['Dwh Gen P16'].value_counts()"
   ]
  },
  {
   "cell_type": "code",
   "execution_count": 69,
   "metadata": {
    "collapsed": false
   },
   "outputs": [
    {
     "data": {
      "text/plain": [
       "True     6880\n",
       "False     750\n",
       "Name: Dwh Ihc Atrx, dtype: int64"
      ]
     },
     "execution_count": 69,
     "metadata": {},
     "output_type": "execute_result"
    }
   ],
   "source": [
    "bio_asNumeric['Dwh Ihc Atrx'].isnull().value_counts()"
   ]
  },
  {
   "cell_type": "code",
   "execution_count": 70,
   "metadata": {
    "collapsed": false
   },
   "outputs": [
    {
     "data": {
      "text/plain": [
       "Maintien              568\n",
       "Extinction diffuse    176\n",
       "Extinction focale       6\n",
       "Name: Dwh Ihc Atrx, dtype: int64"
      ]
     },
     "execution_count": 70,
     "metadata": {},
     "output_type": "execute_result"
    }
   ],
   "source": [
    "bio_asNumeric['Dwh Ihc Atrx'].value_counts()"
   ]
  },
  {
   "cell_type": "code",
   "execution_count": 71,
   "metadata": {
    "collapsed": false
   },
   "outputs": [
    {
     "data": {
      "text/plain": [
       "False    4316\n",
       "True     3314\n",
       "Name: Dwh Chr Ch1P, dtype: int64"
      ]
     },
     "execution_count": 71,
     "metadata": {},
     "output_type": "execute_result"
    }
   ],
   "source": [
    "bio_asNumeric['Dwh Chr Ch1P'].isnull().value_counts()"
   ]
  },
  {
   "cell_type": "code",
   "execution_count": 72,
   "metadata": {
    "collapsed": false
   },
   "outputs": [
    {
     "data": {
      "text/plain": [
       "NON PERTE    2316\n",
       "PERDU        1153\n",
       "PARTIEL       581\n",
       "GAIN          266\n",
       "Name: Dwh Chr Ch1P, dtype: int64"
      ]
     },
     "execution_count": 72,
     "metadata": {},
     "output_type": "execute_result"
    }
   ],
   "source": [
    "bio_asNumeric['Dwh Chr Ch1P'].value_counts()"
   ]
  },
  {
   "cell_type": "code",
   "execution_count": 73,
   "metadata": {
    "collapsed": false
   },
   "outputs": [
    {
     "data": {
      "text/plain": [
       "False    4286\n",
       "True     3344\n",
       "Name: Dwh Chr Ch19Q, dtype: int64"
      ]
     },
     "execution_count": 73,
     "metadata": {},
     "output_type": "execute_result"
    }
   ],
   "source": [
    "bio_asNumeric['Dwh Chr Ch19Q'].isnull().value_counts()"
   ]
  },
  {
   "cell_type": "code",
   "execution_count": 74,
   "metadata": {
    "collapsed": false
   },
   "outputs": [
    {
     "data": {
      "text/plain": [
       "NON PERTE    2086\n",
       "PERDU        1320\n",
       "PARTIEL       483\n",
       "GAIN          397\n",
       "Name: Dwh Chr Ch19Q, dtype: int64"
      ]
     },
     "execution_count": 74,
     "metadata": {},
     "output_type": "execute_result"
    }
   ],
   "source": [
    "bio_asNumeric['Dwh Chr Ch19Q'].value_counts()"
   ]
  },
  {
   "cell_type": "code",
   "execution_count": 75,
   "metadata": {
    "collapsed": false
   },
   "outputs": [
    {
     "data": {
      "text/plain": [
       "True     4101\n",
       "False    3529\n",
       "Name: Dwh Chr Ch10P, dtype: int64"
      ]
     },
     "execution_count": 75,
     "metadata": {},
     "output_type": "execute_result"
    }
   ],
   "source": [
    "bio_asNumeric['Dwh Chr Ch10P'].isnull().value_counts()"
   ]
  },
  {
   "cell_type": "code",
   "execution_count": 76,
   "metadata": {
    "collapsed": false
   },
   "outputs": [
    {
     "data": {
      "text/plain": [
       "NON PERTE    2163\n",
       "PERDU        1012\n",
       "GAIN          233\n",
       "PARTIEL       121\n",
       "Name: Dwh Chr Ch10P, dtype: int64"
      ]
     },
     "execution_count": 76,
     "metadata": {},
     "output_type": "execute_result"
    }
   ],
   "source": [
    "bio_asNumeric['Dwh Chr Ch10P'].value_counts()"
   ]
  },
  {
   "cell_type": "code",
   "execution_count": 77,
   "metadata": {
    "collapsed": false
   },
   "outputs": [
    {
     "data": {
      "text/plain": [
       "False    4131\n",
       "True     3499\n",
       "Name: Dwh Chr Ch10Q, dtype: int64"
      ]
     },
     "execution_count": 77,
     "metadata": {},
     "output_type": "execute_result"
    }
   ],
   "source": [
    "bio_asNumeric['Dwh Chr Ch10Q'].isnull().value_counts()"
   ]
  },
  {
   "cell_type": "code",
   "execution_count": 78,
   "metadata": {
    "collapsed": false
   },
   "outputs": [
    {
     "data": {
      "text/plain": [
       "NON PERTE    2399\n",
       "PERDU        1279\n",
       "PARTIEL       410\n",
       "GAIN           43\n",
       "Name: Dwh Chr Ch10Q, dtype: int64"
      ]
     },
     "execution_count": 78,
     "metadata": {},
     "output_type": "execute_result"
    }
   ],
   "source": [
    "bio_asNumeric['Dwh Chr Ch10Q'].value_counts()"
   ]
  },
  {
   "cell_type": "code",
   "execution_count": 79,
   "metadata": {
    "collapsed": false
   },
   "outputs": [
    {
     "data": {
      "text/plain": [
       "False    4107\n",
       "True     3523\n",
       "Name: Dwh Chr Ch9P, dtype: int64"
      ]
     },
     "execution_count": 79,
     "metadata": {},
     "output_type": "execute_result"
    }
   ],
   "source": [
    "bio_asNumeric['Dwh Chr Ch9P'].isnull().value_counts()"
   ]
  },
  {
   "cell_type": "code",
   "execution_count": 80,
   "metadata": {
    "collapsed": false
   },
   "outputs": [
    {
     "data": {
      "text/plain": [
       "NON PERTE    2438\n",
       "PARTIEL       814\n",
       "PERDU         758\n",
       "GAIN           97\n",
       "Name: Dwh Chr Ch9P, dtype: int64"
      ]
     },
     "execution_count": 80,
     "metadata": {},
     "output_type": "execute_result"
    }
   ],
   "source": [
    "bio_asNumeric['Dwh Chr Ch9P'].value_counts()"
   ]
  },
  {
   "cell_type": "code",
   "execution_count": 81,
   "metadata": {
    "collapsed": false
   },
   "outputs": [
    {
     "data": {
      "text/plain": [
       "True     4586\n",
       "False    3044\n",
       "Name: Dwh Chr Ch9Q, dtype: int64"
      ]
     },
     "execution_count": 81,
     "metadata": {},
     "output_type": "execute_result"
    }
   ],
   "source": [
    "bio_asNumeric['Dwh Chr Ch9Q'].isnull().value_counts()"
   ]
  },
  {
   "cell_type": "code",
   "execution_count": 82,
   "metadata": {
    "collapsed": false
   },
   "outputs": [
    {
     "data": {
      "text/plain": [
       "NON PERTE    2597\n",
       "GAIN          160\n",
       "PERDU         146\n",
       "PARTIEL       141\n",
       "Name: Dwh Chr Ch9Q, dtype: int64"
      ]
     },
     "execution_count": 82,
     "metadata": {},
     "output_type": "execute_result"
    }
   ],
   "source": [
    "bio_asNumeric['Dwh Chr Ch9Q'].value_counts()"
   ]
  },
  {
   "cell_type": "code",
   "execution_count": 83,
   "metadata": {
    "collapsed": false
   },
   "outputs": [
    {
     "data": {
      "text/plain": [
       "False    4788\n",
       "True     2842\n",
       "Name: Dwh Pat Tumeur Siege, dtype: int64"
      ]
     },
     "execution_count": 83,
     "metadata": {},
     "output_type": "execute_result"
    }
   ],
   "source": [
    "bio_asNumeric['Dwh Pat Tumeur Siege'].isnull().value_counts()"
   ]
  },
  {
   "cell_type": "code",
   "execution_count": 84,
   "metadata": {
    "collapsed": false
   },
   "outputs": [
    {
     "data": {
      "text/plain": [
       "sus-T hémisp            3550\n",
       "sus-T hémisp+profond     524\n",
       "non précisé              257\n",
       "sus-T profond            209\n",
       "Frontal                  134\n",
       "tronc cérébral            32\n",
       "cervelet                  31\n",
       "ventriculaire             20\n",
       "autre                     18\n",
       "moelle/rachis             10\n",
       "Rolandique                 3\n",
       "Name: Dwh Pat Tumeur Siege, dtype: int64"
      ]
     },
     "execution_count": 84,
     "metadata": {},
     "output_type": "execute_result"
    }
   ],
   "source": [
    "bio_asNumeric['Dwh Pat Tumeur Siege'].value_counts()"
   ]
  },
  {
   "cell_type": "code",
   "execution_count": 85,
   "metadata": {
    "collapsed": false
   },
   "outputs": [
    {
     "data": {
      "text/plain": [
       "False    4766\n",
       "True     2864\n",
       "Name: Dwh Pat Tumeur Position, dtype: int64"
      ]
     },
     "execution_count": 85,
     "metadata": {},
     "output_type": "execute_result"
    }
   ],
   "source": [
    "bio_asNumeric['Dwh Pat Tumeur Position'].isnull().value_counts()"
   ]
  },
  {
   "cell_type": "code",
   "execution_count": 86,
   "metadata": {
    "collapsed": false
   },
   "outputs": [
    {
     "data": {
      "text/plain": [
       "G              2179\n",
       "D              2157\n",
       "non précisé     244\n",
       "bilatéral       173\n",
       "médian           13\n",
       "Name: Dwh Pat Tumeur Position, dtype: int64"
      ]
     },
     "execution_count": 86,
     "metadata": {},
     "output_type": "execute_result"
    }
   ],
   "source": [
    "bio_asNumeric['Dwh Pat Tumeur Position'].value_counts()"
   ]
  },
  {
   "cell_type": "code",
   "execution_count": null,
   "metadata": {
    "collapsed": true
   },
   "outputs": [],
   "source": []
  },
  {
   "cell_type": "code",
   "execution_count": 87,
   "metadata": {
    "collapsed": false
   },
   "outputs": [],
   "source": [
    "clin = pd.read_excel('20170713_Marc Gliomes_Clin.xlsx', index_col = None)"
   ]
  },
  {
   "cell_type": "code",
   "execution_count": 88,
   "metadata": {
    "collapsed": false
   },
   "outputs": [
    {
     "data": {
      "text/plain": [
       "Index(['Pat Nip', 'Pat Sexe', 'Pat Date Naissance', 'Dwh Pat Dn Date',\n",
       "       'Dwh Pat Date Deces', 'Clin Diag Histologie', 'Grade histo',\n",
       "       'Clin Chir Date', 'Clin Evolution', 'Clin Type Chirurgie',\n",
       "       'Clin Rx Date', 'Dwh Chm Date Debut'],\n",
       "      dtype='object')"
      ]
     },
     "execution_count": 88,
     "metadata": {},
     "output_type": "execute_result"
    }
   ],
   "source": [
    "clin.columns"
   ]
  },
  {
   "cell_type": "code",
   "execution_count": 89,
   "metadata": {
    "collapsed": true
   },
   "outputs": [],
   "source": [
    "clin_asNumeric = clin.copy()"
   ]
  },
  {
   "cell_type": "code",
   "execution_count": 90,
   "metadata": {
    "collapsed": false
   },
   "outputs": [],
   "source": [
    "clin_asNumeric['Pat Nip'] = pd.to_numeric(clin_asNumeric['Pat Nip'], errors = 'coerce').astype('category')\n",
    "clin_asNumeric['Pat Sexe'] = clin_asNumeric['Pat Sexe'].astype('category')\n",
    "clin_asNumeric['Pat Date Naissance'] = pd.to_datetime(clin_asNumeric['Pat Date Naissance'])\n",
    "clin_asNumeric['Dwh Pat Dn Date'] = pd.to_datetime(clin_asNumeric['Dwh Pat Dn Date'])\n",
    "clin_asNumeric['Dwh Pat Date Deces'] = pd.to_datetime(clin_asNumeric['Dwh Pat Date Deces'])\n",
    "clin_asNumeric['Grade histo'] = pd.to_numeric(clin_asNumeric['Grade histo']).astype('category')\n",
    "clin_asNumeric['Clin Chir Date'] = pd.to_datetime(clin_asNumeric['Clin Chir Date'])\n",
    "clin_asNumeric['Clin Rx Date'] = pd.to_datetime(clin_asNumeric['Clin Rx Date'])\n",
    "clin_asNumeric['Dwh Chm Date Debut'] = pd.to_datetime(clin_asNumeric['Dwh Chm Date Debut'])"
   ]
  },
  {
   "cell_type": "code",
   "execution_count": 91,
   "metadata": {
    "collapsed": false
   },
   "outputs": [
    {
     "data": {
      "text/html": [
       "<div>\n",
       "<table border=\"1\" class=\"dataframe\">\n",
       "  <thead>\n",
       "    <tr style=\"text-align: right;\">\n",
       "      <th></th>\n",
       "      <th>Pat Nip</th>\n",
       "      <th>Pat Sexe</th>\n",
       "      <th>Pat Date Naissance</th>\n",
       "      <th>Dwh Pat Dn Date</th>\n",
       "      <th>Dwh Pat Date Deces</th>\n",
       "      <th>Clin Diag Histologie</th>\n",
       "      <th>Grade histo</th>\n",
       "      <th>Clin Chir Date</th>\n",
       "      <th>Clin Evolution</th>\n",
       "      <th>Clin Type Chirurgie</th>\n",
       "      <th>Clin Rx Date</th>\n",
       "      <th>Dwh Chm Date Debut</th>\n",
       "    </tr>\n",
       "  </thead>\n",
       "  <tbody>\n",
       "    <tr>\n",
       "      <th>0</th>\n",
       "      <td>4</td>\n",
       "      <td>M</td>\n",
       "      <td>1940-05-22</td>\n",
       "      <td>NaT</td>\n",
       "      <td>2001-02-22</td>\n",
       "      <td>glioblastome IV</td>\n",
       "      <td>4</td>\n",
       "      <td>2000-05-30</td>\n",
       "      <td>P1</td>\n",
       "      <td>exérèse</td>\n",
       "      <td>2000-07-07</td>\n",
       "      <td>NaT</td>\n",
       "    </tr>\n",
       "    <tr>\n",
       "      <th>1</th>\n",
       "      <td>5</td>\n",
       "      <td>M</td>\n",
       "      <td>1947-10-15</td>\n",
       "      <td>NaT</td>\n",
       "      <td>1999-12-15</td>\n",
       "      <td>glioblastome IV</td>\n",
       "      <td>4</td>\n",
       "      <td>1999-05-29</td>\n",
       "      <td>TT ini</td>\n",
       "      <td>biopsie</td>\n",
       "      <td>1999-07-12</td>\n",
       "      <td>1999-06-29</td>\n",
       "    </tr>\n",
       "    <tr>\n",
       "      <th>2</th>\n",
       "      <td>10</td>\n",
       "      <td>M</td>\n",
       "      <td>1949-11-05</td>\n",
       "      <td>NaT</td>\n",
       "      <td>1992-05-15</td>\n",
       "      <td>oligo.haut grade III</td>\n",
       "      <td>3</td>\n",
       "      <td>1992-04-15</td>\n",
       "      <td>TT ini</td>\n",
       "      <td>partielle</td>\n",
       "      <td>1992-05-01</td>\n",
       "      <td>1992-05-01</td>\n",
       "    </tr>\n",
       "    <tr>\n",
       "      <th>3</th>\n",
       "      <td>11</td>\n",
       "      <td>M</td>\n",
       "      <td>1958-07-29</td>\n",
       "      <td>NaT</td>\n",
       "      <td>1991-11-15</td>\n",
       "      <td>astrocytome bas grade II</td>\n",
       "      <td>2</td>\n",
       "      <td>1986-03-17</td>\n",
       "      <td>TT ini</td>\n",
       "      <td>exérèse</td>\n",
       "      <td>1986-04-01</td>\n",
       "      <td>NaT</td>\n",
       "    </tr>\n",
       "    <tr>\n",
       "      <th>4</th>\n",
       "      <td>11</td>\n",
       "      <td>M</td>\n",
       "      <td>1958-07-29</td>\n",
       "      <td>NaT</td>\n",
       "      <td>1991-11-15</td>\n",
       "      <td>glioblastome IV</td>\n",
       "      <td>4</td>\n",
       "      <td>1991-08-14</td>\n",
       "      <td>P1</td>\n",
       "      <td>exérèse</td>\n",
       "      <td>NaT</td>\n",
       "      <td>NaT</td>\n",
       "    </tr>\n",
       "    <tr>\n",
       "      <th>5</th>\n",
       "      <td>12</td>\n",
       "      <td>F</td>\n",
       "      <td>1930-12-07</td>\n",
       "      <td>NaT</td>\n",
       "      <td>1991-03-13</td>\n",
       "      <td>glioblastome IV</td>\n",
       "      <td>4</td>\n",
       "      <td>1990-02-13</td>\n",
       "      <td>TT ini</td>\n",
       "      <td>aucune</td>\n",
       "      <td>1990-03-14</td>\n",
       "      <td>NaT</td>\n",
       "    </tr>\n",
       "    <tr>\n",
       "      <th>6</th>\n",
       "      <td>13</td>\n",
       "      <td>M</td>\n",
       "      <td>1928-11-17</td>\n",
       "      <td>NaT</td>\n",
       "      <td>1990-12-20</td>\n",
       "      <td>astrocytome anaplasique III</td>\n",
       "      <td>3</td>\n",
       "      <td>1990-11-21</td>\n",
       "      <td>P2</td>\n",
       "      <td>partielle</td>\n",
       "      <td>NaT</td>\n",
       "      <td>NaT</td>\n",
       "    </tr>\n",
       "    <tr>\n",
       "      <th>7</th>\n",
       "      <td>13</td>\n",
       "      <td>M</td>\n",
       "      <td>1928-11-17</td>\n",
       "      <td>NaT</td>\n",
       "      <td>1990-12-20</td>\n",
       "      <td>glioblastome IV</td>\n",
       "      <td>4</td>\n",
       "      <td>1989-11-17</td>\n",
       "      <td>TT ini</td>\n",
       "      <td>partielle</td>\n",
       "      <td>1989-12-18</td>\n",
       "      <td>NaT</td>\n",
       "    </tr>\n",
       "    <tr>\n",
       "      <th>8</th>\n",
       "      <td>14</td>\n",
       "      <td>F</td>\n",
       "      <td>1934-07-17</td>\n",
       "      <td>NaT</td>\n",
       "      <td>1993-03-30</td>\n",
       "      <td>glioblastome IV</td>\n",
       "      <td>4</td>\n",
       "      <td>1992-01-22</td>\n",
       "      <td>TT ini</td>\n",
       "      <td>exérèse</td>\n",
       "      <td>NaT</td>\n",
       "      <td>NaT</td>\n",
       "    </tr>\n",
       "    <tr>\n",
       "      <th>9</th>\n",
       "      <td>15</td>\n",
       "      <td>M</td>\n",
       "      <td>1936-03-22</td>\n",
       "      <td>NaT</td>\n",
       "      <td>1992-03-14</td>\n",
       "      <td>glioblastome IV</td>\n",
       "      <td>4</td>\n",
       "      <td>1991-10-23</td>\n",
       "      <td>TT ini</td>\n",
       "      <td>exérèse</td>\n",
       "      <td>1991-11-19</td>\n",
       "      <td>NaT</td>\n",
       "    </tr>\n",
       "    <tr>\n",
       "      <th>10</th>\n",
       "      <td>16</td>\n",
       "      <td>M</td>\n",
       "      <td>1922-04-18</td>\n",
       "      <td>NaT</td>\n",
       "      <td>1991-12-22</td>\n",
       "      <td>glioblastome IV</td>\n",
       "      <td>4</td>\n",
       "      <td>1990-11-09</td>\n",
       "      <td>TT ini</td>\n",
       "      <td>exérèse</td>\n",
       "      <td>1990-12-01</td>\n",
       "      <td>NaT</td>\n",
       "    </tr>\n",
       "    <tr>\n",
       "      <th>11</th>\n",
       "      <td>17</td>\n",
       "      <td>M</td>\n",
       "      <td>1924-04-12</td>\n",
       "      <td>NaT</td>\n",
       "      <td>1990-04-04</td>\n",
       "      <td>glioblastome IV</td>\n",
       "      <td>4</td>\n",
       "      <td>1990-03-28</td>\n",
       "      <td>TT ini</td>\n",
       "      <td>exérèse</td>\n",
       "      <td>NaT</td>\n",
       "      <td>NaT</td>\n",
       "    </tr>\n",
       "    <tr>\n",
       "      <th>12</th>\n",
       "      <td>18</td>\n",
       "      <td>F</td>\n",
       "      <td>1931-06-05</td>\n",
       "      <td>NaT</td>\n",
       "      <td>1992-12-18</td>\n",
       "      <td>astrocytome anaplasique III</td>\n",
       "      <td>3</td>\n",
       "      <td>1992-02-06</td>\n",
       "      <td>TT ini</td>\n",
       "      <td>partielle</td>\n",
       "      <td>1992-03-01</td>\n",
       "      <td>NaT</td>\n",
       "    </tr>\n",
       "    <tr>\n",
       "      <th>13</th>\n",
       "      <td>21</td>\n",
       "      <td>M</td>\n",
       "      <td>1966-01-06</td>\n",
       "      <td>2011-07-25</td>\n",
       "      <td>NaT</td>\n",
       "      <td>astrocytome bas grade II</td>\n",
       "      <td>2</td>\n",
       "      <td>1988-07-12</td>\n",
       "      <td>TT ini</td>\n",
       "      <td>partielle</td>\n",
       "      <td>NaT</td>\n",
       "      <td>NaT</td>\n",
       "    </tr>\n",
       "    <tr>\n",
       "      <th>14</th>\n",
       "      <td>22</td>\n",
       "      <td>M</td>\n",
       "      <td>1950-05-10</td>\n",
       "      <td>NaT</td>\n",
       "      <td>1995-01-29</td>\n",
       "      <td>glioblastome IV</td>\n",
       "      <td>4</td>\n",
       "      <td>1993-07-07</td>\n",
       "      <td>TT ini</td>\n",
       "      <td>partielle</td>\n",
       "      <td>1993-08-11</td>\n",
       "      <td>1993-08-05</td>\n",
       "    </tr>\n",
       "    <tr>\n",
       "      <th>15</th>\n",
       "      <td>23</td>\n",
       "      <td>F</td>\n",
       "      <td>1932-10-09</td>\n",
       "      <td>NaT</td>\n",
       "      <td>1993-09-10</td>\n",
       "      <td>astrocytome anaplasique III</td>\n",
       "      <td>3</td>\n",
       "      <td>1990-06-26</td>\n",
       "      <td>TT ini</td>\n",
       "      <td>exérèse</td>\n",
       "      <td>1990-11-06</td>\n",
       "      <td>1990-07-19</td>\n",
       "    </tr>\n",
       "    <tr>\n",
       "      <th>16</th>\n",
       "      <td>23</td>\n",
       "      <td>F</td>\n",
       "      <td>1932-10-09</td>\n",
       "      <td>NaT</td>\n",
       "      <td>1993-09-10</td>\n",
       "      <td>astrocytome anaplasique III</td>\n",
       "      <td>3</td>\n",
       "      <td>1990-06-26</td>\n",
       "      <td>TT ini</td>\n",
       "      <td>exérèse</td>\n",
       "      <td>1990-11-06</td>\n",
       "      <td>1990-12-07</td>\n",
       "    </tr>\n",
       "    <tr>\n",
       "      <th>17</th>\n",
       "      <td>24</td>\n",
       "      <td>M</td>\n",
       "      <td>1943-03-04</td>\n",
       "      <td>NaT</td>\n",
       "      <td>1993-12-15</td>\n",
       "      <td>glioblastome IV</td>\n",
       "      <td>4</td>\n",
       "      <td>1992-01-14</td>\n",
       "      <td>TT ini</td>\n",
       "      <td>exérèse</td>\n",
       "      <td>1992-02-15</td>\n",
       "      <td>1992-02-15</td>\n",
       "    </tr>\n",
       "    <tr>\n",
       "      <th>18</th>\n",
       "      <td>25</td>\n",
       "      <td>M</td>\n",
       "      <td>1957-06-16</td>\n",
       "      <td>NaT</td>\n",
       "      <td>1991-04-13</td>\n",
       "      <td>astrocytome bas grade II</td>\n",
       "      <td>2</td>\n",
       "      <td>1989-11-08</td>\n",
       "      <td>TT ini</td>\n",
       "      <td>partielle</td>\n",
       "      <td>1989-12-26</td>\n",
       "      <td>1990-02-16</td>\n",
       "    </tr>\n",
       "    <tr>\n",
       "      <th>19</th>\n",
       "      <td>25</td>\n",
       "      <td>M</td>\n",
       "      <td>1957-06-16</td>\n",
       "      <td>NaT</td>\n",
       "      <td>1991-04-13</td>\n",
       "      <td>astrocytome bas grade II</td>\n",
       "      <td>2</td>\n",
       "      <td>1989-11-08</td>\n",
       "      <td>TT ini</td>\n",
       "      <td>partielle</td>\n",
       "      <td>1989-12-26</td>\n",
       "      <td>1990-10-03</td>\n",
       "    </tr>\n",
       "    <tr>\n",
       "      <th>20</th>\n",
       "      <td>26</td>\n",
       "      <td>M</td>\n",
       "      <td>1930-07-07</td>\n",
       "      <td>NaT</td>\n",
       "      <td>1991-05-15</td>\n",
       "      <td>gliome mixte ana III</td>\n",
       "      <td>3</td>\n",
       "      <td>1990-11-02</td>\n",
       "      <td>TT ini</td>\n",
       "      <td>partielle</td>\n",
       "      <td>1991-01-01</td>\n",
       "      <td>1990-12-01</td>\n",
       "    </tr>\n",
       "    <tr>\n",
       "      <th>21</th>\n",
       "      <td>28</td>\n",
       "      <td>F</td>\n",
       "      <td>1941-02-08</td>\n",
       "      <td>1994-04-25</td>\n",
       "      <td>NaT</td>\n",
       "      <td>glioblastome IV</td>\n",
       "      <td>4</td>\n",
       "      <td>1992-04-09</td>\n",
       "      <td>TT ini</td>\n",
       "      <td>exérèse</td>\n",
       "      <td>1992-04-01</td>\n",
       "      <td>NaT</td>\n",
       "    </tr>\n",
       "    <tr>\n",
       "      <th>22</th>\n",
       "      <td>28</td>\n",
       "      <td>F</td>\n",
       "      <td>1941-02-08</td>\n",
       "      <td>1994-04-25</td>\n",
       "      <td>NaT</td>\n",
       "      <td>glioblastome IV</td>\n",
       "      <td>4</td>\n",
       "      <td>1992-04-09</td>\n",
       "      <td>TT ini</td>\n",
       "      <td>exérèse</td>\n",
       "      <td>1992-04-01</td>\n",
       "      <td>1992-05-01</td>\n",
       "    </tr>\n",
       "    <tr>\n",
       "      <th>23</th>\n",
       "      <td>29</td>\n",
       "      <td>M</td>\n",
       "      <td>1935-12-30</td>\n",
       "      <td>NaT</td>\n",
       "      <td>1992-01-01</td>\n",
       "      <td>astrocytome anaplasique III</td>\n",
       "      <td>3</td>\n",
       "      <td>1988-11-17</td>\n",
       "      <td>TT ini</td>\n",
       "      <td>partielle</td>\n",
       "      <td>1988-12-01</td>\n",
       "      <td>NaT</td>\n",
       "    </tr>\n",
       "    <tr>\n",
       "      <th>24</th>\n",
       "      <td>30</td>\n",
       "      <td>M</td>\n",
       "      <td>1952-02-01</td>\n",
       "      <td>NaT</td>\n",
       "      <td>1994-03-03</td>\n",
       "      <td>astrocytome anaplasique III</td>\n",
       "      <td>3</td>\n",
       "      <td>1990-09-25</td>\n",
       "      <td>TT ini</td>\n",
       "      <td>partielle</td>\n",
       "      <td>1990-11-01</td>\n",
       "      <td>NaT</td>\n",
       "    </tr>\n",
       "    <tr>\n",
       "      <th>25</th>\n",
       "      <td>31</td>\n",
       "      <td>M</td>\n",
       "      <td>1957-11-25</td>\n",
       "      <td>NaT</td>\n",
       "      <td>1992-10-20</td>\n",
       "      <td>oligo. bas grade II</td>\n",
       "      <td>2</td>\n",
       "      <td>1992-05-04</td>\n",
       "      <td>TT ini</td>\n",
       "      <td>exérèse</td>\n",
       "      <td>NaT</td>\n",
       "      <td>NaT</td>\n",
       "    </tr>\n",
       "    <tr>\n",
       "      <th>26</th>\n",
       "      <td>32</td>\n",
       "      <td>F</td>\n",
       "      <td>1928-12-02</td>\n",
       "      <td>1993-11-05</td>\n",
       "      <td>NaT</td>\n",
       "      <td>glioblastome IV</td>\n",
       "      <td>4</td>\n",
       "      <td>1993-11-05</td>\n",
       "      <td>TT ini</td>\n",
       "      <td>aucune</td>\n",
       "      <td>NaT</td>\n",
       "      <td>NaT</td>\n",
       "    </tr>\n",
       "    <tr>\n",
       "      <th>27</th>\n",
       "      <td>34</td>\n",
       "      <td>F</td>\n",
       "      <td>1939-06-30</td>\n",
       "      <td>NaT</td>\n",
       "      <td>1990-09-15</td>\n",
       "      <td>glioblastome IV</td>\n",
       "      <td>4</td>\n",
       "      <td>1988-11-18</td>\n",
       "      <td>TT ini</td>\n",
       "      <td>exérèse</td>\n",
       "      <td>1989-12-15</td>\n",
       "      <td>NaT</td>\n",
       "    </tr>\n",
       "    <tr>\n",
       "      <th>28</th>\n",
       "      <td>35</td>\n",
       "      <td>F</td>\n",
       "      <td>1917-06-04</td>\n",
       "      <td>NaT</td>\n",
       "      <td>1990-04-15</td>\n",
       "      <td>glioblastome IV</td>\n",
       "      <td>4</td>\n",
       "      <td>1989-04-25</td>\n",
       "      <td>TT ini</td>\n",
       "      <td>exérèse</td>\n",
       "      <td>1989-05-01</td>\n",
       "      <td>NaT</td>\n",
       "    </tr>\n",
       "    <tr>\n",
       "      <th>29</th>\n",
       "      <td>36</td>\n",
       "      <td>F</td>\n",
       "      <td>1972-12-01</td>\n",
       "      <td>NaT</td>\n",
       "      <td>1996-10-19</td>\n",
       "      <td>gliome mixte ana III</td>\n",
       "      <td>3</td>\n",
       "      <td>1996-08-20</td>\n",
       "      <td>P1</td>\n",
       "      <td>exérèse</td>\n",
       "      <td>NaT</td>\n",
       "      <td>NaT</td>\n",
       "    </tr>\n",
       "    <tr>\n",
       "      <th>...</th>\n",
       "      <td>...</td>\n",
       "      <td>...</td>\n",
       "      <td>...</td>\n",
       "      <td>...</td>\n",
       "      <td>...</td>\n",
       "      <td>...</td>\n",
       "      <td>...</td>\n",
       "      <td>...</td>\n",
       "      <td>...</td>\n",
       "      <td>...</td>\n",
       "      <td>...</td>\n",
       "      <td>...</td>\n",
       "    </tr>\n",
       "    <tr>\n",
       "      <th>4838</th>\n",
       "      <td>8009588647</td>\n",
       "      <td>F</td>\n",
       "      <td>1958-06-26</td>\n",
       "      <td>2017-03-15</td>\n",
       "      <td>NaT</td>\n",
       "      <td>astrocytome bas grade II</td>\n",
       "      <td>2</td>\n",
       "      <td>2016-05-20</td>\n",
       "      <td>TT ini</td>\n",
       "      <td>biopsie</td>\n",
       "      <td>2016-09-07</td>\n",
       "      <td>2017-02-01</td>\n",
       "    </tr>\n",
       "    <tr>\n",
       "      <th>4839</th>\n",
       "      <td>8009603430</td>\n",
       "      <td>M</td>\n",
       "      <td>1967-11-18</td>\n",
       "      <td>2016-10-18</td>\n",
       "      <td>NaT</td>\n",
       "      <td>glioblastome avec oligo. IV</td>\n",
       "      <td>4</td>\n",
       "      <td>2016-02-12</td>\n",
       "      <td>TT ini</td>\n",
       "      <td>partielle</td>\n",
       "      <td>2016-05-10</td>\n",
       "      <td>2016-06-25</td>\n",
       "    </tr>\n",
       "    <tr>\n",
       "      <th>4840</th>\n",
       "      <td>8009606625</td>\n",
       "      <td>F</td>\n",
       "      <td>1947-03-27</td>\n",
       "      <td>2017-04-21</td>\n",
       "      <td>NaT</td>\n",
       "      <td>glioblastome IV</td>\n",
       "      <td>4</td>\n",
       "      <td>2016-04-06</td>\n",
       "      <td>TT ini</td>\n",
       "      <td>partielle</td>\n",
       "      <td>2016-06-01</td>\n",
       "      <td>2016-08-01</td>\n",
       "    </tr>\n",
       "    <tr>\n",
       "      <th>4841</th>\n",
       "      <td>8009616617</td>\n",
       "      <td>F</td>\n",
       "      <td>1954-02-28</td>\n",
       "      <td>2011-03-24</td>\n",
       "      <td>NaT</td>\n",
       "      <td>oligo.haut grade III</td>\n",
       "      <td>3</td>\n",
       "      <td>2009-01-07</td>\n",
       "      <td>TT ini</td>\n",
       "      <td>partielle</td>\n",
       "      <td>2009-03-01</td>\n",
       "      <td>2009-04-30</td>\n",
       "    </tr>\n",
       "    <tr>\n",
       "      <th>4842</th>\n",
       "      <td>8009619135</td>\n",
       "      <td>F</td>\n",
       "      <td>1993-02-08</td>\n",
       "      <td>2017-01-02</td>\n",
       "      <td>NaT</td>\n",
       "      <td>glioblastome IV</td>\n",
       "      <td>4</td>\n",
       "      <td>2016-08-28</td>\n",
       "      <td>TT ini</td>\n",
       "      <td>exérèse</td>\n",
       "      <td>2016-10-10</td>\n",
       "      <td>2017-01-02</td>\n",
       "    </tr>\n",
       "    <tr>\n",
       "      <th>4843</th>\n",
       "      <td>8009629235</td>\n",
       "      <td>F</td>\n",
       "      <td>1941-01-12</td>\n",
       "      <td>2016-12-29</td>\n",
       "      <td>NaT</td>\n",
       "      <td>glioblastome IV</td>\n",
       "      <td>4</td>\n",
       "      <td>2016-11-08</td>\n",
       "      <td>P1</td>\n",
       "      <td>NaN</td>\n",
       "      <td>NaT</td>\n",
       "      <td>NaT</td>\n",
       "    </tr>\n",
       "    <tr>\n",
       "      <th>4844</th>\n",
       "      <td>8009630406</td>\n",
       "      <td>F</td>\n",
       "      <td>1968-12-22</td>\n",
       "      <td>2017-03-21</td>\n",
       "      <td>NaT</td>\n",
       "      <td>glioblastome IV</td>\n",
       "      <td>4</td>\n",
       "      <td>2016-04-28</td>\n",
       "      <td>TT ini</td>\n",
       "      <td>biopsie</td>\n",
       "      <td>2016-06-29</td>\n",
       "      <td>2016-09-13</td>\n",
       "    </tr>\n",
       "    <tr>\n",
       "      <th>4845</th>\n",
       "      <td>8009631994</td>\n",
       "      <td>M</td>\n",
       "      <td>1970-07-28</td>\n",
       "      <td>2017-05-18</td>\n",
       "      <td>NaT</td>\n",
       "      <td>glioblastome IV</td>\n",
       "      <td>4</td>\n",
       "      <td>2016-02-18</td>\n",
       "      <td>TT ini</td>\n",
       "      <td>partielle</td>\n",
       "      <td>2016-05-10</td>\n",
       "      <td>2016-06-25</td>\n",
       "    </tr>\n",
       "    <tr>\n",
       "      <th>4846</th>\n",
       "      <td>8009633302</td>\n",
       "      <td>M</td>\n",
       "      <td>1965-11-07</td>\n",
       "      <td>2017-03-13</td>\n",
       "      <td>NaT</td>\n",
       "      <td>oligo.haut grade III</td>\n",
       "      <td>3</td>\n",
       "      <td>2016-03-17</td>\n",
       "      <td>TT ini</td>\n",
       "      <td>partielle</td>\n",
       "      <td>2016-06-01</td>\n",
       "      <td>2016-08-23</td>\n",
       "    </tr>\n",
       "    <tr>\n",
       "      <th>4847</th>\n",
       "      <td>8009635074</td>\n",
       "      <td>M</td>\n",
       "      <td>1957-01-07</td>\n",
       "      <td>2017-03-24</td>\n",
       "      <td>NaT</td>\n",
       "      <td>glioblastome IV</td>\n",
       "      <td>4</td>\n",
       "      <td>2016-06-27</td>\n",
       "      <td>TT ini</td>\n",
       "      <td>biopsie</td>\n",
       "      <td>2016-08-11</td>\n",
       "      <td>2016-10-25</td>\n",
       "    </tr>\n",
       "    <tr>\n",
       "      <th>4848</th>\n",
       "      <td>8009635526</td>\n",
       "      <td>F</td>\n",
       "      <td>1940-01-28</td>\n",
       "      <td>2017-01-20</td>\n",
       "      <td>NaT</td>\n",
       "      <td>glioblastome IV</td>\n",
       "      <td>4</td>\n",
       "      <td>2016-07-18</td>\n",
       "      <td>TT ini</td>\n",
       "      <td>partielle</td>\n",
       "      <td>2016-09-01</td>\n",
       "      <td>2016-10-24</td>\n",
       "    </tr>\n",
       "    <tr>\n",
       "      <th>4849</th>\n",
       "      <td>8009636704</td>\n",
       "      <td>M</td>\n",
       "      <td>1974-04-12</td>\n",
       "      <td>2017-06-12</td>\n",
       "      <td>NaT</td>\n",
       "      <td>gliome mixte II</td>\n",
       "      <td>2</td>\n",
       "      <td>2010-02-18</td>\n",
       "      <td>P1</td>\n",
       "      <td>partielle</td>\n",
       "      <td>NaT</td>\n",
       "      <td>NaT</td>\n",
       "    </tr>\n",
       "    <tr>\n",
       "      <th>4850</th>\n",
       "      <td>8009636704</td>\n",
       "      <td>M</td>\n",
       "      <td>1974-04-12</td>\n",
       "      <td>2017-06-12</td>\n",
       "      <td>NaT</td>\n",
       "      <td>oligo. bas grade II</td>\n",
       "      <td>2</td>\n",
       "      <td>2004-08-17</td>\n",
       "      <td>TT ini</td>\n",
       "      <td>biopsie</td>\n",
       "      <td>NaT</td>\n",
       "      <td>2004-10-07</td>\n",
       "    </tr>\n",
       "    <tr>\n",
       "      <th>4851</th>\n",
       "      <td>8009636704</td>\n",
       "      <td>M</td>\n",
       "      <td>1974-04-12</td>\n",
       "      <td>2017-06-12</td>\n",
       "      <td>NaT</td>\n",
       "      <td>oligo. bas grade II</td>\n",
       "      <td>2</td>\n",
       "      <td>2004-08-17</td>\n",
       "      <td>TT ini</td>\n",
       "      <td>biopsie</td>\n",
       "      <td>NaT</td>\n",
       "      <td>2005-04-01</td>\n",
       "    </tr>\n",
       "    <tr>\n",
       "      <th>4852</th>\n",
       "      <td>8009650838</td>\n",
       "      <td>M</td>\n",
       "      <td>1959-11-24</td>\n",
       "      <td>2016-05-02</td>\n",
       "      <td>NaT</td>\n",
       "      <td>gliome mixte ana III</td>\n",
       "      <td>3</td>\n",
       "      <td>2013-09-30</td>\n",
       "      <td>TT ini</td>\n",
       "      <td>biopsie</td>\n",
       "      <td>2013-11-19</td>\n",
       "      <td>2014-02-10</td>\n",
       "    </tr>\n",
       "    <tr>\n",
       "      <th>4853</th>\n",
       "      <td>8009656132</td>\n",
       "      <td>M</td>\n",
       "      <td>1950-10-27</td>\n",
       "      <td>2017-02-28</td>\n",
       "      <td>NaT</td>\n",
       "      <td>glioblastome IV</td>\n",
       "      <td>4</td>\n",
       "      <td>2017-01-16</td>\n",
       "      <td>TT ini</td>\n",
       "      <td>partielle</td>\n",
       "      <td>2017-02-28</td>\n",
       "      <td>2017-02-28</td>\n",
       "    </tr>\n",
       "    <tr>\n",
       "      <th>4854</th>\n",
       "      <td>8009657153</td>\n",
       "      <td>M</td>\n",
       "      <td>1955-08-04</td>\n",
       "      <td>2017-02-22</td>\n",
       "      <td>NaT</td>\n",
       "      <td>glioblastome IV</td>\n",
       "      <td>4</td>\n",
       "      <td>2016-04-06</td>\n",
       "      <td>TT ini</td>\n",
       "      <td>biopsie</td>\n",
       "      <td>2016-07-01</td>\n",
       "      <td>2016-08-08</td>\n",
       "    </tr>\n",
       "    <tr>\n",
       "      <th>4855</th>\n",
       "      <td>8009657835</td>\n",
       "      <td>F</td>\n",
       "      <td>1985-08-30</td>\n",
       "      <td>2017-03-03</td>\n",
       "      <td>NaT</td>\n",
       "      <td>glioblastome IV</td>\n",
       "      <td>4</td>\n",
       "      <td>2016-04-01</td>\n",
       "      <td>P4</td>\n",
       "      <td>partielle</td>\n",
       "      <td>2016-07-01</td>\n",
       "      <td>2016-09-01</td>\n",
       "    </tr>\n",
       "    <tr>\n",
       "      <th>4856</th>\n",
       "      <td>8009657835</td>\n",
       "      <td>F</td>\n",
       "      <td>1985-08-30</td>\n",
       "      <td>2017-03-03</td>\n",
       "      <td>NaT</td>\n",
       "      <td>gliome mixte II</td>\n",
       "      <td>2</td>\n",
       "      <td>2010-11-17</td>\n",
       "      <td>P1</td>\n",
       "      <td>partielle</td>\n",
       "      <td>NaT</td>\n",
       "      <td>NaT</td>\n",
       "    </tr>\n",
       "    <tr>\n",
       "      <th>4857</th>\n",
       "      <td>8009657835</td>\n",
       "      <td>F</td>\n",
       "      <td>1985-08-30</td>\n",
       "      <td>2017-03-03</td>\n",
       "      <td>NaT</td>\n",
       "      <td>oligo. bas grade II</td>\n",
       "      <td>2</td>\n",
       "      <td>2007-10-08</td>\n",
       "      <td>TT ini</td>\n",
       "      <td>partielle</td>\n",
       "      <td>NaT</td>\n",
       "      <td>NaT</td>\n",
       "    </tr>\n",
       "    <tr>\n",
       "      <th>4858</th>\n",
       "      <td>8009669708</td>\n",
       "      <td>F</td>\n",
       "      <td>1971-08-19</td>\n",
       "      <td>2017-03-09</td>\n",
       "      <td>NaT</td>\n",
       "      <td>glioblastome IV</td>\n",
       "      <td>4</td>\n",
       "      <td>2017-01-26</td>\n",
       "      <td>TT ini</td>\n",
       "      <td>exérèse</td>\n",
       "      <td>2017-03-01</td>\n",
       "      <td>2017-03-09</td>\n",
       "    </tr>\n",
       "    <tr>\n",
       "      <th>4859</th>\n",
       "      <td>8009694199</td>\n",
       "      <td>M</td>\n",
       "      <td>1948-10-14</td>\n",
       "      <td>2017-03-15</td>\n",
       "      <td>NaT</td>\n",
       "      <td>astrocytome anaplasique III</td>\n",
       "      <td>3</td>\n",
       "      <td>2017-03-08</td>\n",
       "      <td>TT ini</td>\n",
       "      <td>biopsie</td>\n",
       "      <td>NaT</td>\n",
       "      <td>NaT</td>\n",
       "    </tr>\n",
       "    <tr>\n",
       "      <th>4860</th>\n",
       "      <td>8009711452</td>\n",
       "      <td>M</td>\n",
       "      <td>1950-09-17</td>\n",
       "      <td>2017-03-22</td>\n",
       "      <td>NaT</td>\n",
       "      <td>glioblastome IV</td>\n",
       "      <td>4</td>\n",
       "      <td>2017-02-07</td>\n",
       "      <td>TT ini</td>\n",
       "      <td>partielle</td>\n",
       "      <td>2017-03-22</td>\n",
       "      <td>2017-03-22</td>\n",
       "    </tr>\n",
       "    <tr>\n",
       "      <th>4861</th>\n",
       "      <td>8009712826</td>\n",
       "      <td>M</td>\n",
       "      <td>1956-01-01</td>\n",
       "      <td>2017-04-03</td>\n",
       "      <td>NaT</td>\n",
       "      <td>oligo.haut grade III</td>\n",
       "      <td>3</td>\n",
       "      <td>2017-03-09</td>\n",
       "      <td>TT ini</td>\n",
       "      <td>partielle</td>\n",
       "      <td>NaT</td>\n",
       "      <td>NaT</td>\n",
       "    </tr>\n",
       "    <tr>\n",
       "      <th>4862</th>\n",
       "      <td>8009712857</td>\n",
       "      <td>M</td>\n",
       "      <td>1966-12-08</td>\n",
       "      <td>2017-03-22</td>\n",
       "      <td>NaT</td>\n",
       "      <td>glioblastome IV</td>\n",
       "      <td>4</td>\n",
       "      <td>2017-02-09</td>\n",
       "      <td>TT ini</td>\n",
       "      <td>NaN</td>\n",
       "      <td>NaT</td>\n",
       "      <td>2017-03-22</td>\n",
       "    </tr>\n",
       "    <tr>\n",
       "      <th>4863</th>\n",
       "      <td>8009724274</td>\n",
       "      <td>F</td>\n",
       "      <td>1942-07-30</td>\n",
       "      <td>2017-04-26</td>\n",
       "      <td>NaT</td>\n",
       "      <td>astrocytome anaplasique III</td>\n",
       "      <td>3</td>\n",
       "      <td>2017-03-10</td>\n",
       "      <td>TT ini</td>\n",
       "      <td>biopsie</td>\n",
       "      <td>2017-04-26</td>\n",
       "      <td>NaT</td>\n",
       "    </tr>\n",
       "    <tr>\n",
       "      <th>4864</th>\n",
       "      <td>8009728167</td>\n",
       "      <td>F</td>\n",
       "      <td>1957-02-22</td>\n",
       "      <td>2017-03-15</td>\n",
       "      <td>NaT</td>\n",
       "      <td>glioblastome IV</td>\n",
       "      <td>4</td>\n",
       "      <td>2017-01-24</td>\n",
       "      <td>TT ini</td>\n",
       "      <td>partielle</td>\n",
       "      <td>2017-03-15</td>\n",
       "      <td>2017-03-15</td>\n",
       "    </tr>\n",
       "    <tr>\n",
       "      <th>4865</th>\n",
       "      <td>8009823797</td>\n",
       "      <td>F</td>\n",
       "      <td>1968-01-16</td>\n",
       "      <td>2017-04-13</td>\n",
       "      <td>NaT</td>\n",
       "      <td>glioblastome IV</td>\n",
       "      <td>4</td>\n",
       "      <td>2017-03-20</td>\n",
       "      <td>TT ini</td>\n",
       "      <td>biopsie</td>\n",
       "      <td>2017-04-13</td>\n",
       "      <td>NaT</td>\n",
       "    </tr>\n",
       "    <tr>\n",
       "      <th>4866</th>\n",
       "      <td>8009951119</td>\n",
       "      <td>M</td>\n",
       "      <td>1955-07-31</td>\n",
       "      <td>2017-05-26</td>\n",
       "      <td>NaT</td>\n",
       "      <td>glioblastome IV</td>\n",
       "      <td>4</td>\n",
       "      <td>2017-05-11</td>\n",
       "      <td>TT ini</td>\n",
       "      <td>partielle</td>\n",
       "      <td>NaT</td>\n",
       "      <td>NaT</td>\n",
       "    </tr>\n",
       "    <tr>\n",
       "      <th>4867</th>\n",
       "      <td>8009968518</td>\n",
       "      <td>M</td>\n",
       "      <td>1981-09-28</td>\n",
       "      <td>2017-06-14</td>\n",
       "      <td>NaT</td>\n",
       "      <td>glioblastome IV</td>\n",
       "      <td>4</td>\n",
       "      <td>2017-05-18</td>\n",
       "      <td>TT ini</td>\n",
       "      <td>biopsie</td>\n",
       "      <td>2017-06-14</td>\n",
       "      <td>2017-05-27</td>\n",
       "    </tr>\n",
       "  </tbody>\n",
       "</table>\n",
       "<p>4868 rows × 12 columns</p>\n",
       "</div>"
      ],
      "text/plain": [
       "         Pat Nip Pat Sexe Pat Date Naissance Dwh Pat Dn Date  \\\n",
       "0              4        M         1940-05-22             NaT   \n",
       "1              5        M         1947-10-15             NaT   \n",
       "2             10        M         1949-11-05             NaT   \n",
       "3             11        M         1958-07-29             NaT   \n",
       "4             11        M         1958-07-29             NaT   \n",
       "5             12        F         1930-12-07             NaT   \n",
       "6             13        M         1928-11-17             NaT   \n",
       "7             13        M         1928-11-17             NaT   \n",
       "8             14        F         1934-07-17             NaT   \n",
       "9             15        M         1936-03-22             NaT   \n",
       "10            16        M         1922-04-18             NaT   \n",
       "11            17        M         1924-04-12             NaT   \n",
       "12            18        F         1931-06-05             NaT   \n",
       "13            21        M         1966-01-06      2011-07-25   \n",
       "14            22        M         1950-05-10             NaT   \n",
       "15            23        F         1932-10-09             NaT   \n",
       "16            23        F         1932-10-09             NaT   \n",
       "17            24        M         1943-03-04             NaT   \n",
       "18            25        M         1957-06-16             NaT   \n",
       "19            25        M         1957-06-16             NaT   \n",
       "20            26        M         1930-07-07             NaT   \n",
       "21            28        F         1941-02-08      1994-04-25   \n",
       "22            28        F         1941-02-08      1994-04-25   \n",
       "23            29        M         1935-12-30             NaT   \n",
       "24            30        M         1952-02-01             NaT   \n",
       "25            31        M         1957-11-25             NaT   \n",
       "26            32        F         1928-12-02      1993-11-05   \n",
       "27            34        F         1939-06-30             NaT   \n",
       "28            35        F         1917-06-04             NaT   \n",
       "29            36        F         1972-12-01             NaT   \n",
       "...          ...      ...                ...             ...   \n",
       "4838  8009588647        F         1958-06-26      2017-03-15   \n",
       "4839  8009603430        M         1967-11-18      2016-10-18   \n",
       "4840  8009606625        F         1947-03-27      2017-04-21   \n",
       "4841  8009616617        F         1954-02-28      2011-03-24   \n",
       "4842  8009619135        F         1993-02-08      2017-01-02   \n",
       "4843  8009629235        F         1941-01-12      2016-12-29   \n",
       "4844  8009630406        F         1968-12-22      2017-03-21   \n",
       "4845  8009631994        M         1970-07-28      2017-05-18   \n",
       "4846  8009633302        M         1965-11-07      2017-03-13   \n",
       "4847  8009635074        M         1957-01-07      2017-03-24   \n",
       "4848  8009635526        F         1940-01-28      2017-01-20   \n",
       "4849  8009636704        M         1974-04-12      2017-06-12   \n",
       "4850  8009636704        M         1974-04-12      2017-06-12   \n",
       "4851  8009636704        M         1974-04-12      2017-06-12   \n",
       "4852  8009650838        M         1959-11-24      2016-05-02   \n",
       "4853  8009656132        M         1950-10-27      2017-02-28   \n",
       "4854  8009657153        M         1955-08-04      2017-02-22   \n",
       "4855  8009657835        F         1985-08-30      2017-03-03   \n",
       "4856  8009657835        F         1985-08-30      2017-03-03   \n",
       "4857  8009657835        F         1985-08-30      2017-03-03   \n",
       "4858  8009669708        F         1971-08-19      2017-03-09   \n",
       "4859  8009694199        M         1948-10-14      2017-03-15   \n",
       "4860  8009711452        M         1950-09-17      2017-03-22   \n",
       "4861  8009712826        M         1956-01-01      2017-04-03   \n",
       "4862  8009712857        M         1966-12-08      2017-03-22   \n",
       "4863  8009724274        F         1942-07-30      2017-04-26   \n",
       "4864  8009728167        F         1957-02-22      2017-03-15   \n",
       "4865  8009823797        F         1968-01-16      2017-04-13   \n",
       "4866  8009951119        M         1955-07-31      2017-05-26   \n",
       "4867  8009968518        M         1981-09-28      2017-06-14   \n",
       "\n",
       "     Dwh Pat Date Deces         Clin Diag Histologie Grade histo  \\\n",
       "0            2001-02-22              glioblastome IV           4   \n",
       "1            1999-12-15              glioblastome IV           4   \n",
       "2            1992-05-15         oligo.haut grade III           3   \n",
       "3            1991-11-15     astrocytome bas grade II           2   \n",
       "4            1991-11-15              glioblastome IV           4   \n",
       "5            1991-03-13              glioblastome IV           4   \n",
       "6            1990-12-20  astrocytome anaplasique III           3   \n",
       "7            1990-12-20              glioblastome IV           4   \n",
       "8            1993-03-30              glioblastome IV           4   \n",
       "9            1992-03-14              glioblastome IV           4   \n",
       "10           1991-12-22              glioblastome IV           4   \n",
       "11           1990-04-04              glioblastome IV           4   \n",
       "12           1992-12-18  astrocytome anaplasique III           3   \n",
       "13                  NaT     astrocytome bas grade II           2   \n",
       "14           1995-01-29              glioblastome IV           4   \n",
       "15           1993-09-10  astrocytome anaplasique III           3   \n",
       "16           1993-09-10  astrocytome anaplasique III           3   \n",
       "17           1993-12-15              glioblastome IV           4   \n",
       "18           1991-04-13     astrocytome bas grade II           2   \n",
       "19           1991-04-13     astrocytome bas grade II           2   \n",
       "20           1991-05-15         gliome mixte ana III           3   \n",
       "21                  NaT              glioblastome IV           4   \n",
       "22                  NaT              glioblastome IV           4   \n",
       "23           1992-01-01  astrocytome anaplasique III           3   \n",
       "24           1994-03-03  astrocytome anaplasique III           3   \n",
       "25           1992-10-20          oligo. bas grade II           2   \n",
       "26                  NaT              glioblastome IV           4   \n",
       "27           1990-09-15              glioblastome IV           4   \n",
       "28           1990-04-15              glioblastome IV           4   \n",
       "29           1996-10-19         gliome mixte ana III           3   \n",
       "...                 ...                          ...         ...   \n",
       "4838                NaT     astrocytome bas grade II           2   \n",
       "4839                NaT  glioblastome avec oligo. IV           4   \n",
       "4840                NaT              glioblastome IV           4   \n",
       "4841                NaT         oligo.haut grade III           3   \n",
       "4842                NaT              glioblastome IV           4   \n",
       "4843                NaT              glioblastome IV           4   \n",
       "4844                NaT              glioblastome IV           4   \n",
       "4845                NaT              glioblastome IV           4   \n",
       "4846                NaT         oligo.haut grade III           3   \n",
       "4847                NaT              glioblastome IV           4   \n",
       "4848                NaT              glioblastome IV           4   \n",
       "4849                NaT              gliome mixte II           2   \n",
       "4850                NaT          oligo. bas grade II           2   \n",
       "4851                NaT          oligo. bas grade II           2   \n",
       "4852                NaT         gliome mixte ana III           3   \n",
       "4853                NaT              glioblastome IV           4   \n",
       "4854                NaT              glioblastome IV           4   \n",
       "4855                NaT              glioblastome IV           4   \n",
       "4856                NaT              gliome mixte II           2   \n",
       "4857                NaT          oligo. bas grade II           2   \n",
       "4858                NaT              glioblastome IV           4   \n",
       "4859                NaT  astrocytome anaplasique III           3   \n",
       "4860                NaT              glioblastome IV           4   \n",
       "4861                NaT         oligo.haut grade III           3   \n",
       "4862                NaT              glioblastome IV           4   \n",
       "4863                NaT  astrocytome anaplasique III           3   \n",
       "4864                NaT              glioblastome IV           4   \n",
       "4865                NaT              glioblastome IV           4   \n",
       "4866                NaT              glioblastome IV           4   \n",
       "4867                NaT              glioblastome IV           4   \n",
       "\n",
       "     Clin Chir Date Clin Evolution Clin Type Chirurgie Clin Rx Date  \\\n",
       "0        2000-05-30             P1             exérèse   2000-07-07   \n",
       "1        1999-05-29         TT ini             biopsie   1999-07-12   \n",
       "2        1992-04-15         TT ini           partielle   1992-05-01   \n",
       "3        1986-03-17         TT ini             exérèse   1986-04-01   \n",
       "4        1991-08-14             P1             exérèse          NaT   \n",
       "5        1990-02-13         TT ini              aucune   1990-03-14   \n",
       "6        1990-11-21             P2           partielle          NaT   \n",
       "7        1989-11-17         TT ini           partielle   1989-12-18   \n",
       "8        1992-01-22         TT ini             exérèse          NaT   \n",
       "9        1991-10-23         TT ini             exérèse   1991-11-19   \n",
       "10       1990-11-09         TT ini             exérèse   1990-12-01   \n",
       "11       1990-03-28         TT ini             exérèse          NaT   \n",
       "12       1992-02-06         TT ini           partielle   1992-03-01   \n",
       "13       1988-07-12         TT ini           partielle          NaT   \n",
       "14       1993-07-07         TT ini           partielle   1993-08-11   \n",
       "15       1990-06-26         TT ini             exérèse   1990-11-06   \n",
       "16       1990-06-26         TT ini             exérèse   1990-11-06   \n",
       "17       1992-01-14         TT ini             exérèse   1992-02-15   \n",
       "18       1989-11-08         TT ini           partielle   1989-12-26   \n",
       "19       1989-11-08         TT ini           partielle   1989-12-26   \n",
       "20       1990-11-02         TT ini           partielle   1991-01-01   \n",
       "21       1992-04-09         TT ini             exérèse   1992-04-01   \n",
       "22       1992-04-09         TT ini             exérèse   1992-04-01   \n",
       "23       1988-11-17         TT ini           partielle   1988-12-01   \n",
       "24       1990-09-25         TT ini           partielle   1990-11-01   \n",
       "25       1992-05-04         TT ini             exérèse          NaT   \n",
       "26       1993-11-05         TT ini              aucune          NaT   \n",
       "27       1988-11-18         TT ini             exérèse   1989-12-15   \n",
       "28       1989-04-25         TT ini             exérèse   1989-05-01   \n",
       "29       1996-08-20             P1             exérèse          NaT   \n",
       "...             ...            ...                 ...          ...   \n",
       "4838     2016-05-20         TT ini             biopsie   2016-09-07   \n",
       "4839     2016-02-12         TT ini           partielle   2016-05-10   \n",
       "4840     2016-04-06         TT ini           partielle   2016-06-01   \n",
       "4841     2009-01-07         TT ini           partielle   2009-03-01   \n",
       "4842     2016-08-28         TT ini             exérèse   2016-10-10   \n",
       "4843     2016-11-08             P1                 NaN          NaT   \n",
       "4844     2016-04-28         TT ini             biopsie   2016-06-29   \n",
       "4845     2016-02-18         TT ini           partielle   2016-05-10   \n",
       "4846     2016-03-17         TT ini           partielle   2016-06-01   \n",
       "4847     2016-06-27         TT ini             biopsie   2016-08-11   \n",
       "4848     2016-07-18         TT ini           partielle   2016-09-01   \n",
       "4849     2010-02-18             P1           partielle          NaT   \n",
       "4850     2004-08-17         TT ini             biopsie          NaT   \n",
       "4851     2004-08-17         TT ini             biopsie          NaT   \n",
       "4852     2013-09-30         TT ini             biopsie   2013-11-19   \n",
       "4853     2017-01-16         TT ini           partielle   2017-02-28   \n",
       "4854     2016-04-06         TT ini             biopsie   2016-07-01   \n",
       "4855     2016-04-01             P4           partielle   2016-07-01   \n",
       "4856     2010-11-17             P1           partielle          NaT   \n",
       "4857     2007-10-08         TT ini           partielle          NaT   \n",
       "4858     2017-01-26         TT ini             exérèse   2017-03-01   \n",
       "4859     2017-03-08         TT ini             biopsie          NaT   \n",
       "4860     2017-02-07         TT ini           partielle   2017-03-22   \n",
       "4861     2017-03-09         TT ini           partielle          NaT   \n",
       "4862     2017-02-09         TT ini                 NaN          NaT   \n",
       "4863     2017-03-10         TT ini             biopsie   2017-04-26   \n",
       "4864     2017-01-24         TT ini           partielle   2017-03-15   \n",
       "4865     2017-03-20         TT ini             biopsie   2017-04-13   \n",
       "4866     2017-05-11         TT ini           partielle          NaT   \n",
       "4867     2017-05-18         TT ini             biopsie   2017-06-14   \n",
       "\n",
       "     Dwh Chm Date Debut  \n",
       "0                   NaT  \n",
       "1            1999-06-29  \n",
       "2            1992-05-01  \n",
       "3                   NaT  \n",
       "4                   NaT  \n",
       "5                   NaT  \n",
       "6                   NaT  \n",
       "7                   NaT  \n",
       "8                   NaT  \n",
       "9                   NaT  \n",
       "10                  NaT  \n",
       "11                  NaT  \n",
       "12                  NaT  \n",
       "13                  NaT  \n",
       "14           1993-08-05  \n",
       "15           1990-07-19  \n",
       "16           1990-12-07  \n",
       "17           1992-02-15  \n",
       "18           1990-02-16  \n",
       "19           1990-10-03  \n",
       "20           1990-12-01  \n",
       "21                  NaT  \n",
       "22           1992-05-01  \n",
       "23                  NaT  \n",
       "24                  NaT  \n",
       "25                  NaT  \n",
       "26                  NaT  \n",
       "27                  NaT  \n",
       "28                  NaT  \n",
       "29                  NaT  \n",
       "...                 ...  \n",
       "4838         2017-02-01  \n",
       "4839         2016-06-25  \n",
       "4840         2016-08-01  \n",
       "4841         2009-04-30  \n",
       "4842         2017-01-02  \n",
       "4843                NaT  \n",
       "4844         2016-09-13  \n",
       "4845         2016-06-25  \n",
       "4846         2016-08-23  \n",
       "4847         2016-10-25  \n",
       "4848         2016-10-24  \n",
       "4849                NaT  \n",
       "4850         2004-10-07  \n",
       "4851         2005-04-01  \n",
       "4852         2014-02-10  \n",
       "4853         2017-02-28  \n",
       "4854         2016-08-08  \n",
       "4855         2016-09-01  \n",
       "4856                NaT  \n",
       "4857                NaT  \n",
       "4858         2017-03-09  \n",
       "4859                NaT  \n",
       "4860         2017-03-22  \n",
       "4861                NaT  \n",
       "4862         2017-03-22  \n",
       "4863                NaT  \n",
       "4864         2017-03-15  \n",
       "4865                NaT  \n",
       "4866                NaT  \n",
       "4867         2017-05-27  \n",
       "\n",
       "[4868 rows x 12 columns]"
      ]
     },
     "execution_count": 91,
     "metadata": {},
     "output_type": "execute_result"
    }
   ],
   "source": [
    "clin_asNumeric"
   ]
  },
  {
   "cell_type": "code",
   "execution_count": 92,
   "metadata": {
    "collapsed": false
   },
   "outputs": [
    {
     "data": {
      "text/plain": [
       "12"
      ]
     },
     "execution_count": 92,
     "metadata": {},
     "output_type": "execute_result"
    }
   ],
   "source": [
    "len(clin_asNumeric.columns)"
   ]
  },
  {
   "cell_type": "code",
   "execution_count": 93,
   "metadata": {
    "collapsed": false
   },
   "outputs": [
    {
     "data": {
      "text/plain": [
       "4868"
      ]
     },
     "execution_count": 93,
     "metadata": {},
     "output_type": "execute_result"
    }
   ],
   "source": [
    "len(clin_asNumeric)"
   ]
  },
  {
   "cell_type": "code",
   "execution_count": 94,
   "metadata": {
    "collapsed": false
   },
   "outputs": [
    {
     "data": {
      "text/plain": [
       "False    4868\n",
       "Name: Pat Nip, dtype: int64"
      ]
     },
     "execution_count": 94,
     "metadata": {},
     "output_type": "execute_result"
    }
   ],
   "source": [
    "clin_asNumeric['Pat Nip'].isnull().value_counts()"
   ]
  },
  {
   "cell_type": "code",
   "execution_count": 95,
   "metadata": {
    "collapsed": false
   },
   "outputs": [
    {
     "data": {
      "text/plain": [
       "False    3882\n",
       "True      986\n",
       "Name: Pat Nip, dtype: int64"
      ]
     },
     "execution_count": 95,
     "metadata": {},
     "output_type": "execute_result"
    }
   ],
   "source": [
    "clin_asNumeric['Pat Nip'].duplicated().value_counts()"
   ]
  },
  {
   "cell_type": "code",
   "execution_count": 96,
   "metadata": {
    "collapsed": false
   },
   "outputs": [
    {
     "data": {
      "text/plain": [
       "False    4864\n",
       "True        4\n",
       "Name: Pat Sexe, dtype: int64"
      ]
     },
     "execution_count": 96,
     "metadata": {},
     "output_type": "execute_result"
    }
   ],
   "source": [
    "clin_asNumeric['Pat Sexe'].isnull().value_counts()"
   ]
  },
  {
   "cell_type": "code",
   "execution_count": 97,
   "metadata": {
    "collapsed": false
   },
   "outputs": [
    {
     "data": {
      "text/plain": [
       "M    2860\n",
       "F    2004\n",
       "Name: Pat Sexe, dtype: int64"
      ]
     },
     "execution_count": 97,
     "metadata": {},
     "output_type": "execute_result"
    }
   ],
   "source": [
    "clin_asNumeric['Pat Sexe'].value_counts()"
   ]
  },
  {
   "cell_type": "code",
   "execution_count": 98,
   "metadata": {
    "collapsed": false
   },
   "outputs": [
    {
     "data": {
      "text/plain": [
       "False    4868\n",
       "Name: Pat Date Naissance, dtype: int64"
      ]
     },
     "execution_count": 98,
     "metadata": {},
     "output_type": "execute_result"
    }
   ],
   "source": [
    "clin_asNumeric['Pat Date Naissance'].isnull().value_counts()"
   ]
  },
  {
   "cell_type": "code",
   "execution_count": 99,
   "metadata": {
    "collapsed": false
   },
   "outputs": [
    {
     "data": {
      "text/plain": [
       "count                    4868\n",
       "unique                   3530\n",
       "top       1962-07-30 00:00:00\n",
       "freq                        6\n",
       "first     1912-04-12 00:00:00\n",
       "last      2000-01-05 00:00:00\n",
       "Name: Pat Date Naissance, dtype: object"
      ]
     },
     "execution_count": 99,
     "metadata": {},
     "output_type": "execute_result"
    }
   ],
   "source": [
    "clin_asNumeric['Pat Date Naissance'].describe()"
   ]
  },
  {
   "cell_type": "code",
   "execution_count": 100,
   "metadata": {
    "collapsed": false
   },
   "outputs": [
    {
     "data": {
      "text/plain": [
       "True     2794\n",
       "False    2074\n",
       "Name: Dwh Pat Dn Date, dtype: int64"
      ]
     },
     "execution_count": 100,
     "metadata": {},
     "output_type": "execute_result"
    }
   ],
   "source": [
    "clin_asNumeric['Dwh Pat Dn Date'].isnull().value_counts()"
   ]
  },
  {
   "cell_type": "code",
   "execution_count": 101,
   "metadata": {
    "collapsed": false
   },
   "outputs": [
    {
     "data": {
      "text/plain": [
       "count                    2074\n",
       "unique                   1139\n",
       "top       2003-04-30 00:00:00\n",
       "freq                       24\n",
       "first     1991-10-01 00:00:00\n",
       "last      2017-06-16 00:00:00\n",
       "Name: Dwh Pat Dn Date, dtype: object"
      ]
     },
     "execution_count": 101,
     "metadata": {},
     "output_type": "execute_result"
    }
   ],
   "source": [
    "clin_asNumeric['Dwh Pat Dn Date'].describe()"
   ]
  },
  {
   "cell_type": "code",
   "execution_count": 102,
   "metadata": {
    "collapsed": false
   },
   "outputs": [
    {
     "data": {
      "text/plain": [
       "False    2793\n",
       "True     2075\n",
       "Name: Dwh Pat Date Deces, dtype: int64"
      ]
     },
     "execution_count": 102,
     "metadata": {},
     "output_type": "execute_result"
    }
   ],
   "source": [
    "clin_asNumeric['Dwh Pat Date Deces'].isnull().value_counts()"
   ]
  },
  {
   "cell_type": "code",
   "execution_count": 103,
   "metadata": {
    "collapsed": false
   },
   "outputs": [
    {
     "data": {
      "text/plain": [
       "count                    2793\n",
       "unique                   1908\n",
       "top       2014-07-17 00:00:00\n",
       "freq                        8\n",
       "first     1989-05-13 00:00:00\n",
       "last      2017-05-14 00:00:00\n",
       "Name: Dwh Pat Date Deces, dtype: object"
      ]
     },
     "execution_count": 103,
     "metadata": {},
     "output_type": "execute_result"
    }
   ],
   "source": [
    "clin_asNumeric['Dwh Pat Date Deces'].describe()"
   ]
  },
  {
   "cell_type": "code",
   "execution_count": 104,
   "metadata": {
    "collapsed": false
   },
   "outputs": [
    {
     "data": {
      "text/plain": [
       "False    4868\n",
       "Name: Clin Diag Histologie, dtype: int64"
      ]
     },
     "execution_count": 104,
     "metadata": {},
     "output_type": "execute_result"
    }
   ],
   "source": [
    "clin_asNumeric['Clin Diag Histologie'].isnull().value_counts()"
   ]
  },
  {
   "cell_type": "code",
   "execution_count": 105,
   "metadata": {
    "collapsed": false
   },
   "outputs": [
    {
     "data": {
      "text/plain": [
       "glioblastome IV                    1924\n",
       "oligo.haut grade III                745\n",
       "oligo. bas grade II                 653\n",
       "gliome mixte ana III                413\n",
       "glioblastome avec oligo. IV         315\n",
       "gliome mixte II                     261\n",
       "astrocytome anaplasique III         228\n",
       "astrocytome bas grade II            190\n",
       "astrocytome pilocytique              49\n",
       "gangliogliome                        46\n",
       "astrocytome g駑istocytique (=A2)      40\n",
       "gangliogliome anaplasique III         4\n",
       "Name: Clin Diag Histologie, dtype: int64"
      ]
     },
     "execution_count": 105,
     "metadata": {},
     "output_type": "execute_result"
    }
   ],
   "source": [
    "clin_asNumeric['Clin Diag Histologie'].value_counts()"
   ]
  },
  {
   "cell_type": "code",
   "execution_count": 106,
   "metadata": {
    "collapsed": false
   },
   "outputs": [
    {
     "data": {
      "text/plain": [
       "False    4868\n",
       "Name: Grade histo, dtype: int64"
      ]
     },
     "execution_count": 106,
     "metadata": {},
     "output_type": "execute_result"
    }
   ],
   "source": [
    "clin_asNumeric['Grade histo'].isnull().value_counts()"
   ]
  },
  {
   "cell_type": "code",
   "execution_count": 107,
   "metadata": {
    "collapsed": false
   },
   "outputs": [
    {
     "data": {
      "text/plain": [
       "4    2239\n",
       "3    1390\n",
       "2    1144\n",
       "1      95\n",
       "Name: Grade histo, dtype: int64"
      ]
     },
     "execution_count": 107,
     "metadata": {},
     "output_type": "execute_result"
    }
   ],
   "source": [
    "clin_asNumeric['Grade histo'].value_counts()"
   ]
  },
  {
   "cell_type": "code",
   "execution_count": 108,
   "metadata": {
    "collapsed": false
   },
   "outputs": [
    {
     "data": {
      "text/plain": [
       "False    4864\n",
       "True        4\n",
       "Name: Clin Chir Date, dtype: int64"
      ]
     },
     "execution_count": 108,
     "metadata": {},
     "output_type": "execute_result"
    }
   ],
   "source": [
    "clin_asNumeric['Clin Chir Date'].isnull().value_counts()"
   ]
  },
  {
   "cell_type": "code",
   "execution_count": 109,
   "metadata": {
    "collapsed": false
   },
   "outputs": [
    {
     "data": {
      "text/plain": [
       "count                    4864\n",
       "unique                   3322\n",
       "top       2009-11-05 00:00:00\n",
       "freq                        5\n",
       "first     1976-06-15 00:00:00\n",
       "last      2017-05-23 00:00:00\n",
       "Name: Clin Chir Date, dtype: object"
      ]
     },
     "execution_count": 109,
     "metadata": {},
     "output_type": "execute_result"
    }
   ],
   "source": [
    "clin_asNumeric['Clin Chir Date'].describe()"
   ]
  },
  {
   "cell_type": "code",
   "execution_count": 110,
   "metadata": {
    "collapsed": false
   },
   "outputs": [
    {
     "data": {
      "text/plain": [
       "False    4868\n",
       "Name: Clin Evolution, dtype: int64"
      ]
     },
     "execution_count": 110,
     "metadata": {},
     "output_type": "execute_result"
    }
   ],
   "source": [
    "clin_asNumeric['Clin Evolution'].isnull().value_counts()"
   ]
  },
  {
   "cell_type": "code",
   "execution_count": 111,
   "metadata": {
    "collapsed": false
   },
   "outputs": [
    {
     "data": {
      "text/plain": [
       "TT ini    3940\n",
       "P1         619\n",
       "P2         193\n",
       "P3          81\n",
       "P4          29\n",
       "P5           5\n",
       "P6           1\n",
       "Name: Clin Evolution, dtype: int64"
      ]
     },
     "execution_count": 111,
     "metadata": {},
     "output_type": "execute_result"
    }
   ],
   "source": [
    "clin_asNumeric['Clin Evolution'].value_counts()"
   ]
  },
  {
   "cell_type": "code",
   "execution_count": 112,
   "metadata": {
    "collapsed": false
   },
   "outputs": [
    {
     "data": {
      "text/plain": [
       "False    4766\n",
       "True      102\n",
       "Name: Clin Type Chirurgie, dtype: int64"
      ]
     },
     "execution_count": 112,
     "metadata": {},
     "output_type": "execute_result"
    }
   ],
   "source": [
    "clin_asNumeric['Clin Type Chirurgie'].isnull().value_counts()"
   ]
  },
  {
   "cell_type": "code",
   "execution_count": 113,
   "metadata": {
    "collapsed": false
   },
   "outputs": [
    {
     "data": {
      "text/plain": [
       "partielle    1786\n",
       "biopsie      1416\n",
       "exérèse      1416\n",
       "aucune        148\n",
       "Name: Clin Type Chirurgie, dtype: int64"
      ]
     },
     "execution_count": 113,
     "metadata": {},
     "output_type": "execute_result"
    }
   ],
   "source": [
    "clin_asNumeric['Clin Type Chirurgie'].value_counts()"
   ]
  },
  {
   "cell_type": "code",
   "execution_count": 114,
   "metadata": {
    "collapsed": false
   },
   "outputs": [
    {
     "data": {
      "text/plain": [
       "False    2722\n",
       "True     2146\n",
       "Name: Clin Rx Date, dtype: int64"
      ]
     },
     "execution_count": 114,
     "metadata": {},
     "output_type": "execute_result"
    }
   ],
   "source": [
    "clin_asNumeric['Clin Rx Date'].isnull().value_counts()"
   ]
  },
  {
   "cell_type": "code",
   "execution_count": 115,
   "metadata": {
    "collapsed": false
   },
   "outputs": [
    {
     "data": {
      "text/plain": [
       "count                    2722\n",
       "unique                   2017\n",
       "top       2016-02-01 00:00:00\n",
       "freq                        7\n",
       "first     1976-11-08 00:00:00\n",
       "last      2017-06-14 00:00:00\n",
       "Name: Clin Rx Date, dtype: object"
      ]
     },
     "execution_count": 115,
     "metadata": {},
     "output_type": "execute_result"
    }
   ],
   "source": [
    "clin_asNumeric['Clin Rx Date'].describe()"
   ]
  },
  {
   "cell_type": "code",
   "execution_count": 116,
   "metadata": {
    "collapsed": false
   },
   "outputs": [
    {
     "data": {
      "text/plain": [
       "False    2950\n",
       "True     1918\n",
       "Name: Dwh Chm Date Debut, dtype: int64"
      ]
     },
     "execution_count": 116,
     "metadata": {},
     "output_type": "execute_result"
    }
   ],
   "source": [
    "clin_asNumeric['Dwh Chm Date Debut'].isnull().value_counts()"
   ]
  },
  {
   "cell_type": "code",
   "execution_count": 117,
   "metadata": {
    "collapsed": false
   },
   "outputs": [
    {
     "data": {
      "text/plain": [
       "count                    2950\n",
       "unique                   2278\n",
       "top       2011-02-21 00:00:00\n",
       "freq                        5\n",
       "first     1987-05-01 00:00:00\n",
       "last      2017-06-14 00:00:00\n",
       "Name: Dwh Chm Date Debut, dtype: object"
      ]
     },
     "execution_count": 117,
     "metadata": {},
     "output_type": "execute_result"
    }
   ],
   "source": [
    "clin_asNumeric['Dwh Chm Date Debut'].describe()"
   ]
  },
  {
   "cell_type": "code",
   "execution_count": 118,
   "metadata": {
    "collapsed": true
   },
   "outputs": [],
   "source": [
    "merged = pd.merge(bio_asNumeric, clin_asNumeric, left_on = 'Pat Nip', right_on = 'Pat Nip', how = 'outer')"
   ]
  },
  {
   "cell_type": "code",
   "execution_count": 119,
   "metadata": {
    "collapsed": false
   },
   "outputs": [
    {
     "data": {
      "text/plain": [
       "Index(['Dwh Prv Nip', 'Dwh Pat Consentement', 'Pat Nip', 'Pat Sexe_x',\n",
       "       'Pat Date Naissance_x', 'Dwh Pat Dn Date_x', 'Dwh Pat Date Deces_x',\n",
       "       'Dwh Prv Date Chir', 'Dwh Prv Diag Histologie', 'Grade', 'Dwh Gen Idh1',\n",
       "       'Dwh Gen Idh2', 'Dwh Gen Htert C228T', 'Dwh Gen Htert C250T',\n",
       "       'Dwh Gen P53', 'Dwh Gen Mgmt', 'Dwh Gen Egfr', 'Dwh Gen Mdm2',\n",
       "       'Dwh Gen Cdk4', 'Dwh Gen P16', 'Dwh Ihc Atrx', 'Dwh Chr Ch1P',\n",
       "       'Dwh Chr Ch19Q', 'Dwh Chr Ch10P', 'Dwh Chr Ch10Q', 'Dwh Chr Ch9P',\n",
       "       'Dwh Chr Ch9Q', 'Dwh Pat Tumeur Siege', 'Dwh Pat Tumeur Position',\n",
       "       'Pat Sexe_y', 'Pat Date Naissance_y', 'Dwh Pat Dn Date_y',\n",
       "       'Dwh Pat Date Deces_y', 'Clin Diag Histologie', 'Grade histo',\n",
       "       'Clin Chir Date', 'Clin Evolution', 'Clin Type Chirurgie',\n",
       "       'Clin Rx Date', 'Dwh Chm Date Debut'],\n",
       "      dtype='object')"
      ]
     },
     "execution_count": 119,
     "metadata": {},
     "output_type": "execute_result"
    }
   ],
   "source": [
    "merged.columns"
   ]
  },
  {
   "cell_type": "code",
   "execution_count": 120,
   "metadata": {
    "collapsed": false
   },
   "outputs": [
    {
     "data": {
      "text/plain": [
       "40"
      ]
     },
     "execution_count": 120,
     "metadata": {},
     "output_type": "execute_result"
    }
   ],
   "source": [
    "len(merged.columns)"
   ]
  },
  {
   "cell_type": "code",
   "execution_count": 121,
   "metadata": {
    "collapsed": false
   },
   "outputs": [
    {
     "data": {
      "text/plain": [
       "9770"
      ]
     },
     "execution_count": 121,
     "metadata": {},
     "output_type": "execute_result"
    }
   ],
   "source": [
    "len(merged)"
   ]
  },
  {
   "cell_type": "code",
   "execution_count": 122,
   "metadata": {
    "collapsed": true
   },
   "outputs": [],
   "source": [
    "#here i did an inner merge, showing resulting in 6902 records. we have both clinical and biological data for 6902 \n",
    "#patients.\n",
    "#an outer merge resulted in 9770 records. we have clinical or biological data for 9770 patients.\n",
    "#there are therefore "
   ]
  },
  {
   "cell_type": "code",
   "execution_count": 123,
   "metadata": {
    "collapsed": true
   },
   "outputs": [],
   "source": [
    "#for duplicate columns i.e. date deces, how do you remove one of the copies knowing that they each have data the other\n",
    "#one doesn't? need to merge values of _y in _x, where value in _x is absent but in _y it is present."
   ]
  },
  {
   "cell_type": "code",
   "execution_count": 124,
   "metadata": {
    "collapsed": false
   },
   "outputs": [
    {
     "data": {
      "text/plain": [
       "False"
      ]
     },
     "execution_count": 124,
     "metadata": {},
     "output_type": "execute_result"
    }
   ],
   "source": [
    "merged['Pat Sexe_x'].equals(merged['Pat Sexe_y'])"
   ]
  },
  {
   "cell_type": "code",
   "execution_count": 125,
   "metadata": {
    "collapsed": false
   },
   "outputs": [
    {
     "data": {
      "text/plain": [
       "False"
      ]
     },
     "execution_count": 125,
     "metadata": {},
     "output_type": "execute_result"
    }
   ],
   "source": [
    "merged['Pat Date Naissance_x'].equals(merged['Pat Date Naissance_y'])"
   ]
  },
  {
   "cell_type": "code",
   "execution_count": 126,
   "metadata": {
    "collapsed": false
   },
   "outputs": [
    {
     "data": {
      "text/plain": [
       "False"
      ]
     },
     "execution_count": 126,
     "metadata": {},
     "output_type": "execute_result"
    }
   ],
   "source": [
    "merged['Dwh Pat Dn Date_x'].equals(merged['Dwh Pat Dn Date_y'])"
   ]
  },
  {
   "cell_type": "code",
   "execution_count": 127,
   "metadata": {
    "collapsed": false
   },
   "outputs": [
    {
     "data": {
      "text/plain": [
       "True     6898\n",
       "False    2872\n",
       "dtype: int64"
      ]
     },
     "execution_count": 127,
     "metadata": {},
     "output_type": "execute_result"
    }
   ],
   "source": [
    "series1 = merged['Pat Sexe_x'] == merged['Pat Sexe_y']\n",
    "series1.value_counts()"
   ]
  },
  {
   "cell_type": "code",
   "execution_count": 128,
   "metadata": {
    "collapsed": false
   },
   "outputs": [
    {
     "data": {
      "text/plain": [
       "True     6902\n",
       "False    2868\n",
       "dtype: int64"
      ]
     },
     "execution_count": 128,
     "metadata": {},
     "output_type": "execute_result"
    }
   ],
   "source": [
    "series2 = merged['Pat Date Naissance_x'] == merged['Pat Date Naissance_y']\n",
    "series2.value_counts()"
   ]
  },
  {
   "cell_type": "code",
   "execution_count": 129,
   "metadata": {
    "collapsed": false
   },
   "outputs": [
    {
     "data": {
      "text/plain": [
       "False    9770\n",
       "dtype: int64"
      ]
     },
     "execution_count": 129,
     "metadata": {},
     "output_type": "execute_result"
    }
   ],
   "source": [
    "series3 = merged['Dwh Pat Dn Date_x'] == merged['Dwh Pat Dn Date_y']\n",
    "series3.value_counts()"
   ]
  },
  {
   "cell_type": "code",
   "execution_count": 130,
   "metadata": {
    "collapsed": false
   },
   "outputs": [
    {
     "data": {
      "text/html": [
       "<div>\n",
       "<table border=\"1\" class=\"dataframe\">\n",
       "  <thead>\n",
       "    <tr style=\"text-align: right;\">\n",
       "      <th></th>\n",
       "      <th>Pat Sexe_x</th>\n",
       "      <th>Pat Sexe_y</th>\n",
       "    </tr>\n",
       "  </thead>\n",
       "  <tbody>\n",
       "    <tr>\n",
       "      <th>0</th>\n",
       "      <td>M</td>\n",
       "      <td>M</td>\n",
       "    </tr>\n",
       "    <tr>\n",
       "      <th>1</th>\n",
       "      <td>M</td>\n",
       "      <td>M</td>\n",
       "    </tr>\n",
       "    <tr>\n",
       "      <th>2</th>\n",
       "      <td>M</td>\n",
       "      <td>M</td>\n",
       "    </tr>\n",
       "    <tr>\n",
       "      <th>3</th>\n",
       "      <td>M</td>\n",
       "      <td>M</td>\n",
       "    </tr>\n",
       "    <tr>\n",
       "      <th>4</th>\n",
       "      <td>M</td>\n",
       "      <td>M</td>\n",
       "    </tr>\n",
       "    <tr>\n",
       "      <th>5</th>\n",
       "      <td>M</td>\n",
       "      <td>M</td>\n",
       "    </tr>\n",
       "    <tr>\n",
       "      <th>6</th>\n",
       "      <td>M</td>\n",
       "      <td>M</td>\n",
       "    </tr>\n",
       "    <tr>\n",
       "      <th>7</th>\n",
       "      <td>F</td>\n",
       "      <td>F</td>\n",
       "    </tr>\n",
       "    <tr>\n",
       "      <th>8</th>\n",
       "      <td>M</td>\n",
       "      <td>M</td>\n",
       "    </tr>\n",
       "    <tr>\n",
       "      <th>9</th>\n",
       "      <td>M</td>\n",
       "      <td>M</td>\n",
       "    </tr>\n",
       "    <tr>\n",
       "      <th>10</th>\n",
       "      <td>M</td>\n",
       "      <td>M</td>\n",
       "    </tr>\n",
       "    <tr>\n",
       "      <th>11</th>\n",
       "      <td>M</td>\n",
       "      <td>M</td>\n",
       "    </tr>\n",
       "    <tr>\n",
       "      <th>12</th>\n",
       "      <td>F</td>\n",
       "      <td>F</td>\n",
       "    </tr>\n",
       "    <tr>\n",
       "      <th>13</th>\n",
       "      <td>M</td>\n",
       "      <td>M</td>\n",
       "    </tr>\n",
       "    <tr>\n",
       "      <th>14</th>\n",
       "      <td>M</td>\n",
       "      <td>M</td>\n",
       "    </tr>\n",
       "    <tr>\n",
       "      <th>15</th>\n",
       "      <td>M</td>\n",
       "      <td>M</td>\n",
       "    </tr>\n",
       "    <tr>\n",
       "      <th>16</th>\n",
       "      <td>F</td>\n",
       "      <td>F</td>\n",
       "    </tr>\n",
       "    <tr>\n",
       "      <th>17</th>\n",
       "      <td>M</td>\n",
       "      <td>M</td>\n",
       "    </tr>\n",
       "    <tr>\n",
       "      <th>18</th>\n",
       "      <td>M</td>\n",
       "      <td>M</td>\n",
       "    </tr>\n",
       "    <tr>\n",
       "      <th>19</th>\n",
       "      <td>F</td>\n",
       "      <td>F</td>\n",
       "    </tr>\n",
       "    <tr>\n",
       "      <th>20</th>\n",
       "      <td>F</td>\n",
       "      <td>F</td>\n",
       "    </tr>\n",
       "    <tr>\n",
       "      <th>21</th>\n",
       "      <td>M</td>\n",
       "      <td>M</td>\n",
       "    </tr>\n",
       "    <tr>\n",
       "      <th>22</th>\n",
       "      <td>M</td>\n",
       "      <td>M</td>\n",
       "    </tr>\n",
       "    <tr>\n",
       "      <th>23</th>\n",
       "      <td>M</td>\n",
       "      <td>M</td>\n",
       "    </tr>\n",
       "    <tr>\n",
       "      <th>24</th>\n",
       "      <td>M</td>\n",
       "      <td>M</td>\n",
       "    </tr>\n",
       "    <tr>\n",
       "      <th>25</th>\n",
       "      <td>F</td>\n",
       "      <td>F</td>\n",
       "    </tr>\n",
       "    <tr>\n",
       "      <th>26</th>\n",
       "      <td>F</td>\n",
       "      <td>F</td>\n",
       "    </tr>\n",
       "    <tr>\n",
       "      <th>27</th>\n",
       "      <td>M</td>\n",
       "      <td>M</td>\n",
       "    </tr>\n",
       "    <tr>\n",
       "      <th>28</th>\n",
       "      <td>M</td>\n",
       "      <td>M</td>\n",
       "    </tr>\n",
       "    <tr>\n",
       "      <th>29</th>\n",
       "      <td>M</td>\n",
       "      <td>M</td>\n",
       "    </tr>\n",
       "    <tr>\n",
       "      <th>...</th>\n",
       "      <td>...</td>\n",
       "      <td>...</td>\n",
       "    </tr>\n",
       "    <tr>\n",
       "      <th>9740</th>\n",
       "      <td>F</td>\n",
       "      <td>NaN</td>\n",
       "    </tr>\n",
       "    <tr>\n",
       "      <th>9741</th>\n",
       "      <td>M</td>\n",
       "      <td>NaN</td>\n",
       "    </tr>\n",
       "    <tr>\n",
       "      <th>9742</th>\n",
       "      <td>M</td>\n",
       "      <td>NaN</td>\n",
       "    </tr>\n",
       "    <tr>\n",
       "      <th>9743</th>\n",
       "      <td>F</td>\n",
       "      <td>NaN</td>\n",
       "    </tr>\n",
       "    <tr>\n",
       "      <th>9744</th>\n",
       "      <td>M</td>\n",
       "      <td>NaN</td>\n",
       "    </tr>\n",
       "    <tr>\n",
       "      <th>9745</th>\n",
       "      <td>M</td>\n",
       "      <td>NaN</td>\n",
       "    </tr>\n",
       "    <tr>\n",
       "      <th>9746</th>\n",
       "      <td>F</td>\n",
       "      <td>NaN</td>\n",
       "    </tr>\n",
       "    <tr>\n",
       "      <th>9747</th>\n",
       "      <td>F</td>\n",
       "      <td>NaN</td>\n",
       "    </tr>\n",
       "    <tr>\n",
       "      <th>9748</th>\n",
       "      <td>F</td>\n",
       "      <td>NaN</td>\n",
       "    </tr>\n",
       "    <tr>\n",
       "      <th>9749</th>\n",
       "      <td>F</td>\n",
       "      <td>NaN</td>\n",
       "    </tr>\n",
       "    <tr>\n",
       "      <th>9750</th>\n",
       "      <td>M</td>\n",
       "      <td>NaN</td>\n",
       "    </tr>\n",
       "    <tr>\n",
       "      <th>9751</th>\n",
       "      <td>M</td>\n",
       "      <td>M</td>\n",
       "    </tr>\n",
       "    <tr>\n",
       "      <th>9752</th>\n",
       "      <td>M</td>\n",
       "      <td>NaN</td>\n",
       "    </tr>\n",
       "    <tr>\n",
       "      <th>9753</th>\n",
       "      <td>F</td>\n",
       "      <td>NaN</td>\n",
       "    </tr>\n",
       "    <tr>\n",
       "      <th>9754</th>\n",
       "      <td>M</td>\n",
       "      <td>M</td>\n",
       "    </tr>\n",
       "    <tr>\n",
       "      <th>9755</th>\n",
       "      <td>M</td>\n",
       "      <td>NaN</td>\n",
       "    </tr>\n",
       "    <tr>\n",
       "      <th>9756</th>\n",
       "      <td>F</td>\n",
       "      <td>NaN</td>\n",
       "    </tr>\n",
       "    <tr>\n",
       "      <th>9757</th>\n",
       "      <td>M</td>\n",
       "      <td>NaN</td>\n",
       "    </tr>\n",
       "    <tr>\n",
       "      <th>9758</th>\n",
       "      <td>M</td>\n",
       "      <td>NaN</td>\n",
       "    </tr>\n",
       "    <tr>\n",
       "      <th>9759</th>\n",
       "      <td>M</td>\n",
       "      <td>NaN</td>\n",
       "    </tr>\n",
       "    <tr>\n",
       "      <th>9760</th>\n",
       "      <td>F</td>\n",
       "      <td>NaN</td>\n",
       "    </tr>\n",
       "    <tr>\n",
       "      <th>9761</th>\n",
       "      <td>M</td>\n",
       "      <td>NaN</td>\n",
       "    </tr>\n",
       "    <tr>\n",
       "      <th>9762</th>\n",
       "      <td>M</td>\n",
       "      <td>NaN</td>\n",
       "    </tr>\n",
       "    <tr>\n",
       "      <th>9763</th>\n",
       "      <td>F</td>\n",
       "      <td>NaN</td>\n",
       "    </tr>\n",
       "    <tr>\n",
       "      <th>9764</th>\n",
       "      <td>F</td>\n",
       "      <td>NaN</td>\n",
       "    </tr>\n",
       "    <tr>\n",
       "      <th>9765</th>\n",
       "      <td>F</td>\n",
       "      <td>NaN</td>\n",
       "    </tr>\n",
       "    <tr>\n",
       "      <th>9766</th>\n",
       "      <td>M</td>\n",
       "      <td>NaN</td>\n",
       "    </tr>\n",
       "    <tr>\n",
       "      <th>9767</th>\n",
       "      <td>M</td>\n",
       "      <td>NaN</td>\n",
       "    </tr>\n",
       "    <tr>\n",
       "      <th>9768</th>\n",
       "      <td>M</td>\n",
       "      <td>NaN</td>\n",
       "    </tr>\n",
       "    <tr>\n",
       "      <th>9769</th>\n",
       "      <td>M</td>\n",
       "      <td>NaN</td>\n",
       "    </tr>\n",
       "  </tbody>\n",
       "</table>\n",
       "<p>9770 rows × 2 columns</p>\n",
       "</div>"
      ],
      "text/plain": [
       "     Pat Sexe_x Pat Sexe_y\n",
       "0             M          M\n",
       "1             M          M\n",
       "2             M          M\n",
       "3             M          M\n",
       "4             M          M\n",
       "5             M          M\n",
       "6             M          M\n",
       "7             F          F\n",
       "8             M          M\n",
       "9             M          M\n",
       "10            M          M\n",
       "11            M          M\n",
       "12            F          F\n",
       "13            M          M\n",
       "14            M          M\n",
       "15            M          M\n",
       "16            F          F\n",
       "17            M          M\n",
       "18            M          M\n",
       "19            F          F\n",
       "20            F          F\n",
       "21            M          M\n",
       "22            M          M\n",
       "23            M          M\n",
       "24            M          M\n",
       "25            F          F\n",
       "26            F          F\n",
       "27            M          M\n",
       "28            M          M\n",
       "29            M          M\n",
       "...         ...        ...\n",
       "9740          F        NaN\n",
       "9741          M        NaN\n",
       "9742          M        NaN\n",
       "9743          F        NaN\n",
       "9744          M        NaN\n",
       "9745          M        NaN\n",
       "9746          F        NaN\n",
       "9747          F        NaN\n",
       "9748          F        NaN\n",
       "9749          F        NaN\n",
       "9750          M        NaN\n",
       "9751          M          M\n",
       "9752          M        NaN\n",
       "9753          F        NaN\n",
       "9754          M          M\n",
       "9755          M        NaN\n",
       "9756          F        NaN\n",
       "9757          M        NaN\n",
       "9758          M        NaN\n",
       "9759          M        NaN\n",
       "9760          F        NaN\n",
       "9761          M        NaN\n",
       "9762          M        NaN\n",
       "9763          F        NaN\n",
       "9764          F        NaN\n",
       "9765          F        NaN\n",
       "9766          M        NaN\n",
       "9767          M        NaN\n",
       "9768          M        NaN\n",
       "9769          M        NaN\n",
       "\n",
       "[9770 rows x 2 columns]"
      ]
     },
     "execution_count": 130,
     "metadata": {},
     "output_type": "execute_result"
    }
   ],
   "source": [
    "df1 = merged[['Pat Sexe_x', 'Pat Sexe_y']]\n",
    "df1"
   ]
  },
  {
   "cell_type": "code",
   "execution_count": 131,
   "metadata": {
    "collapsed": false
   },
   "outputs": [
    {
     "data": {
      "text/plain": [
       "M    0.567963\n",
       "F    0.398055\n",
       "Name: Pat Sexe_x, dtype: float64"
      ]
     },
     "execution_count": 131,
     "metadata": {},
     "output_type": "execute_result"
    }
   ],
   "source": [
    "merged['Pat Sexe_x'].value_counts()/len(merged)"
   ]
  },
  {
   "cell_type": "code",
   "execution_count": 132,
   "metadata": {
    "collapsed": false
   },
   "outputs": [
    {
     "data": {
      "text/plain": [
       "332"
      ]
     },
     "execution_count": 132,
     "metadata": {},
     "output_type": "execute_result"
    }
   ],
   "source": [
    "merged['Pat Sexe_x'].isnull().sum()"
   ]
  },
  {
   "cell_type": "code",
   "execution_count": 133,
   "metadata": {
    "collapsed": false
   },
   "outputs": [
    {
     "data": {
      "text/plain": [
       "2872"
      ]
     },
     "execution_count": 133,
     "metadata": {},
     "output_type": "execute_result"
    }
   ],
   "source": [
    "merged['Pat Sexe_y'].isnull().sum()"
   ]
  },
  {
   "cell_type": "code",
   "execution_count": 134,
   "metadata": {
    "collapsed": false
   },
   "outputs": [
    {
     "data": {
      "text/plain": [
       "0       False\n",
       "1       False\n",
       "2       False\n",
       "3       False\n",
       "4       False\n",
       "5       False\n",
       "6       False\n",
       "7       False\n",
       "8       False\n",
       "9       False\n",
       "10      False\n",
       "11      False\n",
       "12      False\n",
       "13      False\n",
       "14      False\n",
       "15      False\n",
       "16      False\n",
       "17      False\n",
       "18      False\n",
       "19      False\n",
       "20      False\n",
       "21      False\n",
       "22      False\n",
       "23      False\n",
       "24      False\n",
       "25      False\n",
       "26      False\n",
       "27      False\n",
       "28      False\n",
       "29      False\n",
       "        ...  \n",
       "9740    False\n",
       "9741    False\n",
       "9742    False\n",
       "9743    False\n",
       "9744    False\n",
       "9745    False\n",
       "9746    False\n",
       "9747    False\n",
       "9748    False\n",
       "9749    False\n",
       "9750    False\n",
       "9751    False\n",
       "9752    False\n",
       "9753    False\n",
       "9754    False\n",
       "9755    False\n",
       "9756    False\n",
       "9757    False\n",
       "9758    False\n",
       "9759    False\n",
       "9760    False\n",
       "9761    False\n",
       "9762    False\n",
       "9763    False\n",
       "9764    False\n",
       "9765    False\n",
       "9766    False\n",
       "9767    False\n",
       "9768    False\n",
       "9769    False\n",
       "dtype: bool"
      ]
     },
     "execution_count": 134,
     "metadata": {},
     "output_type": "execute_result"
    }
   ],
   "source": [
    "merged['Pat Sexe_x'].isnull() == merged['Pat Sexe_y']"
   ]
  },
  {
   "cell_type": "code",
   "execution_count": 135,
   "metadata": {
    "collapsed": false
   },
   "outputs": [],
   "source": [
    "def merge_sex(series_1, series_2):\n",
    "    series3 = []\n",
    "    \n",
    "    if (series_1.empty & series_2.empty):\n",
    "        series3 = '1000'\n",
    "    elif series_2.empty:\n",
    "            series3 = series_2\n",
    "    else:\n",
    "            series3 = series_2\n",
    "    print(series3)"
   ]
  },
  {
   "cell_type": "code",
   "execution_count": 136,
   "metadata": {
    "collapsed": true
   },
   "outputs": [],
   "source": [
    "merged_copy = merged.copy()"
   ]
  },
  {
   "cell_type": "code",
   "execution_count": 137,
   "metadata": {
    "collapsed": false
   },
   "outputs": [
    {
     "data": {
      "text/plain": [
       "Index(['Dwh Prv Nip', 'Dwh Pat Consentement', 'Pat Nip', 'Pat Sexe_x',\n",
       "       'Pat Date Naissance_x', 'Dwh Pat Dn Date_x', 'Dwh Pat Date Deces_x',\n",
       "       'Dwh Prv Date Chir', 'Dwh Prv Diag Histologie', 'Grade', 'Dwh Gen Idh1',\n",
       "       'Dwh Gen Idh2', 'Dwh Gen Htert C228T', 'Dwh Gen Htert C250T',\n",
       "       'Dwh Gen P53', 'Dwh Gen Mgmt', 'Dwh Gen Egfr', 'Dwh Gen Mdm2',\n",
       "       'Dwh Gen Cdk4', 'Dwh Gen P16', 'Dwh Ihc Atrx', 'Dwh Chr Ch1P',\n",
       "       'Dwh Chr Ch19Q', 'Dwh Chr Ch10P', 'Dwh Chr Ch10Q', 'Dwh Chr Ch9P',\n",
       "       'Dwh Chr Ch9Q', 'Dwh Pat Tumeur Siege', 'Dwh Pat Tumeur Position',\n",
       "       'Pat Sexe_y', 'Pat Date Naissance_y', 'Dwh Pat Dn Date_y',\n",
       "       'Dwh Pat Date Deces_y', 'Clin Diag Histologie', 'Grade histo',\n",
       "       'Clin Chir Date', 'Clin Evolution', 'Clin Type Chirurgie',\n",
       "       'Clin Rx Date', 'Dwh Chm Date Debut'],\n",
       "      dtype='object')"
      ]
     },
     "execution_count": 137,
     "metadata": {},
     "output_type": "execute_result"
    }
   ],
   "source": [
    "merged_copy.columns"
   ]
  },
  {
   "cell_type": "code",
   "execution_count": 138,
   "metadata": {
    "collapsed": false
   },
   "outputs": [],
   "source": [
    "def merge_sex(x, y):\n",
    "    series3 = []\n",
    "    i = 0\n",
    "    while i < len(x):\n",
    "        if x[i] == 'M' or x[i] == 'F':\n",
    "            series3.append(x[i])\n",
    "        else:\n",
    "            series3.append(y[i])\n",
    "        i +=1\n",
    "    return series3"
   ]
  },
  {
   "cell_type": "code",
   "execution_count": 139,
   "metadata": {
    "collapsed": false
   },
   "outputs": [
    {
     "data": {
      "text/plain": [
       "2872"
      ]
     },
     "execution_count": 139,
     "metadata": {},
     "output_type": "execute_result"
    }
   ],
   "source": [
    "merged_copy['Pat Sexe_y'].isnull().sum()"
   ]
  },
  {
   "cell_type": "code",
   "execution_count": 140,
   "metadata": {
    "collapsed": false
   },
   "outputs": [],
   "source": [
    "series3 = merge_sex(merged_copy['Pat Sexe_y'], merged_copy['Pat Sexe_x'])"
   ]
  },
  {
   "cell_type": "code",
   "execution_count": 141,
   "metadata": {
    "collapsed": false
   },
   "outputs": [],
   "source": [
    "series3df = pd.DataFrame(series3)"
   ]
  },
  {
   "cell_type": "code",
   "execution_count": 142,
   "metadata": {
    "collapsed": false
   },
   "outputs": [
    {
     "data": {
      "text/html": [
       "<div>\n",
       "<table border=\"1\" class=\"dataframe\">\n",
       "  <thead>\n",
       "    <tr style=\"text-align: right;\">\n",
       "      <th></th>\n",
       "      <th>0</th>\n",
       "    </tr>\n",
       "  </thead>\n",
       "  <tbody>\n",
       "    <tr>\n",
       "      <th>0</th>\n",
       "      <td>M</td>\n",
       "    </tr>\n",
       "    <tr>\n",
       "      <th>1</th>\n",
       "      <td>M</td>\n",
       "    </tr>\n",
       "    <tr>\n",
       "      <th>2</th>\n",
       "      <td>M</td>\n",
       "    </tr>\n",
       "    <tr>\n",
       "      <th>3</th>\n",
       "      <td>M</td>\n",
       "    </tr>\n",
       "    <tr>\n",
       "      <th>4</th>\n",
       "      <td>M</td>\n",
       "    </tr>\n",
       "    <tr>\n",
       "      <th>5</th>\n",
       "      <td>M</td>\n",
       "    </tr>\n",
       "    <tr>\n",
       "      <th>6</th>\n",
       "      <td>M</td>\n",
       "    </tr>\n",
       "    <tr>\n",
       "      <th>7</th>\n",
       "      <td>F</td>\n",
       "    </tr>\n",
       "    <tr>\n",
       "      <th>8</th>\n",
       "      <td>M</td>\n",
       "    </tr>\n",
       "    <tr>\n",
       "      <th>9</th>\n",
       "      <td>M</td>\n",
       "    </tr>\n",
       "    <tr>\n",
       "      <th>10</th>\n",
       "      <td>M</td>\n",
       "    </tr>\n",
       "    <tr>\n",
       "      <th>11</th>\n",
       "      <td>M</td>\n",
       "    </tr>\n",
       "    <tr>\n",
       "      <th>12</th>\n",
       "      <td>F</td>\n",
       "    </tr>\n",
       "    <tr>\n",
       "      <th>13</th>\n",
       "      <td>M</td>\n",
       "    </tr>\n",
       "    <tr>\n",
       "      <th>14</th>\n",
       "      <td>M</td>\n",
       "    </tr>\n",
       "    <tr>\n",
       "      <th>15</th>\n",
       "      <td>M</td>\n",
       "    </tr>\n",
       "    <tr>\n",
       "      <th>16</th>\n",
       "      <td>F</td>\n",
       "    </tr>\n",
       "    <tr>\n",
       "      <th>17</th>\n",
       "      <td>M</td>\n",
       "    </tr>\n",
       "    <tr>\n",
       "      <th>18</th>\n",
       "      <td>M</td>\n",
       "    </tr>\n",
       "    <tr>\n",
       "      <th>19</th>\n",
       "      <td>F</td>\n",
       "    </tr>\n",
       "    <tr>\n",
       "      <th>20</th>\n",
       "      <td>F</td>\n",
       "    </tr>\n",
       "    <tr>\n",
       "      <th>21</th>\n",
       "      <td>M</td>\n",
       "    </tr>\n",
       "    <tr>\n",
       "      <th>22</th>\n",
       "      <td>M</td>\n",
       "    </tr>\n",
       "    <tr>\n",
       "      <th>23</th>\n",
       "      <td>M</td>\n",
       "    </tr>\n",
       "    <tr>\n",
       "      <th>24</th>\n",
       "      <td>M</td>\n",
       "    </tr>\n",
       "    <tr>\n",
       "      <th>25</th>\n",
       "      <td>F</td>\n",
       "    </tr>\n",
       "    <tr>\n",
       "      <th>26</th>\n",
       "      <td>F</td>\n",
       "    </tr>\n",
       "    <tr>\n",
       "      <th>27</th>\n",
       "      <td>M</td>\n",
       "    </tr>\n",
       "    <tr>\n",
       "      <th>28</th>\n",
       "      <td>M</td>\n",
       "    </tr>\n",
       "    <tr>\n",
       "      <th>29</th>\n",
       "      <td>M</td>\n",
       "    </tr>\n",
       "    <tr>\n",
       "      <th>...</th>\n",
       "      <td>...</td>\n",
       "    </tr>\n",
       "    <tr>\n",
       "      <th>9740</th>\n",
       "      <td>F</td>\n",
       "    </tr>\n",
       "    <tr>\n",
       "      <th>9741</th>\n",
       "      <td>M</td>\n",
       "    </tr>\n",
       "    <tr>\n",
       "      <th>9742</th>\n",
       "      <td>M</td>\n",
       "    </tr>\n",
       "    <tr>\n",
       "      <th>9743</th>\n",
       "      <td>F</td>\n",
       "    </tr>\n",
       "    <tr>\n",
       "      <th>9744</th>\n",
       "      <td>M</td>\n",
       "    </tr>\n",
       "    <tr>\n",
       "      <th>9745</th>\n",
       "      <td>M</td>\n",
       "    </tr>\n",
       "    <tr>\n",
       "      <th>9746</th>\n",
       "      <td>F</td>\n",
       "    </tr>\n",
       "    <tr>\n",
       "      <th>9747</th>\n",
       "      <td>F</td>\n",
       "    </tr>\n",
       "    <tr>\n",
       "      <th>9748</th>\n",
       "      <td>F</td>\n",
       "    </tr>\n",
       "    <tr>\n",
       "      <th>9749</th>\n",
       "      <td>F</td>\n",
       "    </tr>\n",
       "    <tr>\n",
       "      <th>9750</th>\n",
       "      <td>M</td>\n",
       "    </tr>\n",
       "    <tr>\n",
       "      <th>9751</th>\n",
       "      <td>M</td>\n",
       "    </tr>\n",
       "    <tr>\n",
       "      <th>9752</th>\n",
       "      <td>M</td>\n",
       "    </tr>\n",
       "    <tr>\n",
       "      <th>9753</th>\n",
       "      <td>F</td>\n",
       "    </tr>\n",
       "    <tr>\n",
       "      <th>9754</th>\n",
       "      <td>M</td>\n",
       "    </tr>\n",
       "    <tr>\n",
       "      <th>9755</th>\n",
       "      <td>M</td>\n",
       "    </tr>\n",
       "    <tr>\n",
       "      <th>9756</th>\n",
       "      <td>F</td>\n",
       "    </tr>\n",
       "    <tr>\n",
       "      <th>9757</th>\n",
       "      <td>M</td>\n",
       "    </tr>\n",
       "    <tr>\n",
       "      <th>9758</th>\n",
       "      <td>M</td>\n",
       "    </tr>\n",
       "    <tr>\n",
       "      <th>9759</th>\n",
       "      <td>M</td>\n",
       "    </tr>\n",
       "    <tr>\n",
       "      <th>9760</th>\n",
       "      <td>F</td>\n",
       "    </tr>\n",
       "    <tr>\n",
       "      <th>9761</th>\n",
       "      <td>M</td>\n",
       "    </tr>\n",
       "    <tr>\n",
       "      <th>9762</th>\n",
       "      <td>M</td>\n",
       "    </tr>\n",
       "    <tr>\n",
       "      <th>9763</th>\n",
       "      <td>F</td>\n",
       "    </tr>\n",
       "    <tr>\n",
       "      <th>9764</th>\n",
       "      <td>F</td>\n",
       "    </tr>\n",
       "    <tr>\n",
       "      <th>9765</th>\n",
       "      <td>F</td>\n",
       "    </tr>\n",
       "    <tr>\n",
       "      <th>9766</th>\n",
       "      <td>M</td>\n",
       "    </tr>\n",
       "    <tr>\n",
       "      <th>9767</th>\n",
       "      <td>M</td>\n",
       "    </tr>\n",
       "    <tr>\n",
       "      <th>9768</th>\n",
       "      <td>M</td>\n",
       "    </tr>\n",
       "    <tr>\n",
       "      <th>9769</th>\n",
       "      <td>M</td>\n",
       "    </tr>\n",
       "  </tbody>\n",
       "</table>\n",
       "<p>9770 rows × 1 columns</p>\n",
       "</div>"
      ],
      "text/plain": [
       "      0\n",
       "0     M\n",
       "1     M\n",
       "2     M\n",
       "3     M\n",
       "4     M\n",
       "5     M\n",
       "6     M\n",
       "7     F\n",
       "8     M\n",
       "9     M\n",
       "10    M\n",
       "11    M\n",
       "12    F\n",
       "13    M\n",
       "14    M\n",
       "15    M\n",
       "16    F\n",
       "17    M\n",
       "18    M\n",
       "19    F\n",
       "20    F\n",
       "21    M\n",
       "22    M\n",
       "23    M\n",
       "24    M\n",
       "25    F\n",
       "26    F\n",
       "27    M\n",
       "28    M\n",
       "29    M\n",
       "...  ..\n",
       "9740  F\n",
       "9741  M\n",
       "9742  M\n",
       "9743  F\n",
       "9744  M\n",
       "9745  M\n",
       "9746  F\n",
       "9747  F\n",
       "9748  F\n",
       "9749  F\n",
       "9750  M\n",
       "9751  M\n",
       "9752  M\n",
       "9753  F\n",
       "9754  M\n",
       "9755  M\n",
       "9756  F\n",
       "9757  M\n",
       "9758  M\n",
       "9759  M\n",
       "9760  F\n",
       "9761  M\n",
       "9762  M\n",
       "9763  F\n",
       "9764  F\n",
       "9765  F\n",
       "9766  M\n",
       "9767  M\n",
       "9768  M\n",
       "9769  M\n",
       "\n",
       "[9770 rows x 1 columns]"
      ]
     },
     "execution_count": 142,
     "metadata": {},
     "output_type": "execute_result"
    }
   ],
   "source": [
    "series3df"
   ]
  },
  {
   "cell_type": "code",
   "execution_count": 143,
   "metadata": {
    "collapsed": false
   },
   "outputs": [
    {
     "data": {
      "text/plain": [
       "9770"
      ]
     },
     "execution_count": 143,
     "metadata": {},
     "output_type": "execute_result"
    }
   ],
   "source": [
    "len(series3df)"
   ]
  },
  {
   "cell_type": "code",
   "execution_count": 144,
   "metadata": {
    "collapsed": false
   },
   "outputs": [
    {
     "data": {
      "text/plain": [
       "0    332\n",
       "dtype: int64"
      ]
     },
     "execution_count": 144,
     "metadata": {},
     "output_type": "execute_result"
    }
   ],
   "source": [
    "series3df.isnull().sum()"
   ]
  },
  {
   "cell_type": "code",
   "execution_count": 145,
   "metadata": {
    "collapsed": false
   },
   "outputs": [
    {
     "data": {
      "text/html": [
       "<div>\n",
       "<table border=\"1\" class=\"dataframe\">\n",
       "  <thead>\n",
       "    <tr style=\"text-align: right;\">\n",
       "      <th></th>\n",
       "      <th>0</th>\n",
       "    </tr>\n",
       "  </thead>\n",
       "  <tbody>\n",
       "    <tr>\n",
       "      <th>185</th>\n",
       "      <td>NaN</td>\n",
       "    </tr>\n",
       "    <tr>\n",
       "      <th>206</th>\n",
       "      <td>NaN</td>\n",
       "    </tr>\n",
       "    <tr>\n",
       "      <th>236</th>\n",
       "      <td>NaN</td>\n",
       "    </tr>\n",
       "    <tr>\n",
       "      <th>247</th>\n",
       "      <td>NaN</td>\n",
       "    </tr>\n",
       "    <tr>\n",
       "      <th>248</th>\n",
       "      <td>NaN</td>\n",
       "    </tr>\n",
       "    <tr>\n",
       "      <th>272</th>\n",
       "      <td>NaN</td>\n",
       "    </tr>\n",
       "    <tr>\n",
       "      <th>274</th>\n",
       "      <td>NaN</td>\n",
       "    </tr>\n",
       "    <tr>\n",
       "      <th>279</th>\n",
       "      <td>NaN</td>\n",
       "    </tr>\n",
       "    <tr>\n",
       "      <th>280</th>\n",
       "      <td>NaN</td>\n",
       "    </tr>\n",
       "    <tr>\n",
       "      <th>281</th>\n",
       "      <td>NaN</td>\n",
       "    </tr>\n",
       "    <tr>\n",
       "      <th>282</th>\n",
       "      <td>NaN</td>\n",
       "    </tr>\n",
       "    <tr>\n",
       "      <th>283</th>\n",
       "      <td>NaN</td>\n",
       "    </tr>\n",
       "    <tr>\n",
       "      <th>284</th>\n",
       "      <td>NaN</td>\n",
       "    </tr>\n",
       "    <tr>\n",
       "      <th>285</th>\n",
       "      <td>NaN</td>\n",
       "    </tr>\n",
       "    <tr>\n",
       "      <th>293</th>\n",
       "      <td>NaN</td>\n",
       "    </tr>\n",
       "    <tr>\n",
       "      <th>308</th>\n",
       "      <td>NaN</td>\n",
       "    </tr>\n",
       "    <tr>\n",
       "      <th>309</th>\n",
       "      <td>NaN</td>\n",
       "    </tr>\n",
       "    <tr>\n",
       "      <th>335</th>\n",
       "      <td>NaN</td>\n",
       "    </tr>\n",
       "    <tr>\n",
       "      <th>336</th>\n",
       "      <td>NaN</td>\n",
       "    </tr>\n",
       "    <tr>\n",
       "      <th>345</th>\n",
       "      <td>NaN</td>\n",
       "    </tr>\n",
       "    <tr>\n",
       "      <th>356</th>\n",
       "      <td>NaN</td>\n",
       "    </tr>\n",
       "    <tr>\n",
       "      <th>359</th>\n",
       "      <td>NaN</td>\n",
       "    </tr>\n",
       "    <tr>\n",
       "      <th>362</th>\n",
       "      <td>NaN</td>\n",
       "    </tr>\n",
       "    <tr>\n",
       "      <th>368</th>\n",
       "      <td>NaN</td>\n",
       "    </tr>\n",
       "    <tr>\n",
       "      <th>371</th>\n",
       "      <td>NaN</td>\n",
       "    </tr>\n",
       "    <tr>\n",
       "      <th>379</th>\n",
       "      <td>NaN</td>\n",
       "    </tr>\n",
       "    <tr>\n",
       "      <th>380</th>\n",
       "      <td>NaN</td>\n",
       "    </tr>\n",
       "    <tr>\n",
       "      <th>381</th>\n",
       "      <td>NaN</td>\n",
       "    </tr>\n",
       "    <tr>\n",
       "      <th>382</th>\n",
       "      <td>NaN</td>\n",
       "    </tr>\n",
       "    <tr>\n",
       "      <th>383</th>\n",
       "      <td>NaN</td>\n",
       "    </tr>\n",
       "    <tr>\n",
       "      <th>...</th>\n",
       "      <td>...</td>\n",
       "    </tr>\n",
       "    <tr>\n",
       "      <th>8219</th>\n",
       "      <td>NaN</td>\n",
       "    </tr>\n",
       "    <tr>\n",
       "      <th>8258</th>\n",
       "      <td>NaN</td>\n",
       "    </tr>\n",
       "    <tr>\n",
       "      <th>8364</th>\n",
       "      <td>NaN</td>\n",
       "    </tr>\n",
       "    <tr>\n",
       "      <th>8383</th>\n",
       "      <td>NaN</td>\n",
       "    </tr>\n",
       "    <tr>\n",
       "      <th>8426</th>\n",
       "      <td>NaN</td>\n",
       "    </tr>\n",
       "    <tr>\n",
       "      <th>8430</th>\n",
       "      <td>NaN</td>\n",
       "    </tr>\n",
       "    <tr>\n",
       "      <th>8437</th>\n",
       "      <td>NaN</td>\n",
       "    </tr>\n",
       "    <tr>\n",
       "      <th>8501</th>\n",
       "      <td>NaN</td>\n",
       "    </tr>\n",
       "    <tr>\n",
       "      <th>8508</th>\n",
       "      <td>NaN</td>\n",
       "    </tr>\n",
       "    <tr>\n",
       "      <th>8550</th>\n",
       "      <td>NaN</td>\n",
       "    </tr>\n",
       "    <tr>\n",
       "      <th>8586</th>\n",
       "      <td>NaN</td>\n",
       "    </tr>\n",
       "    <tr>\n",
       "      <th>8615</th>\n",
       "      <td>NaN</td>\n",
       "    </tr>\n",
       "    <tr>\n",
       "      <th>8632</th>\n",
       "      <td>NaN</td>\n",
       "    </tr>\n",
       "    <tr>\n",
       "      <th>8637</th>\n",
       "      <td>NaN</td>\n",
       "    </tr>\n",
       "    <tr>\n",
       "      <th>8665</th>\n",
       "      <td>NaN</td>\n",
       "    </tr>\n",
       "    <tr>\n",
       "      <th>8666</th>\n",
       "      <td>NaN</td>\n",
       "    </tr>\n",
       "    <tr>\n",
       "      <th>8678</th>\n",
       "      <td>NaN</td>\n",
       "    </tr>\n",
       "    <tr>\n",
       "      <th>8705</th>\n",
       "      <td>NaN</td>\n",
       "    </tr>\n",
       "    <tr>\n",
       "      <th>8712</th>\n",
       "      <td>NaN</td>\n",
       "    </tr>\n",
       "    <tr>\n",
       "      <th>8748</th>\n",
       "      <td>NaN</td>\n",
       "    </tr>\n",
       "    <tr>\n",
       "      <th>8792</th>\n",
       "      <td>NaN</td>\n",
       "    </tr>\n",
       "    <tr>\n",
       "      <th>8862</th>\n",
       "      <td>NaN</td>\n",
       "    </tr>\n",
       "    <tr>\n",
       "      <th>8896</th>\n",
       "      <td>NaN</td>\n",
       "    </tr>\n",
       "    <tr>\n",
       "      <th>8908</th>\n",
       "      <td>NaN</td>\n",
       "    </tr>\n",
       "    <tr>\n",
       "      <th>8953</th>\n",
       "      <td>NaN</td>\n",
       "    </tr>\n",
       "    <tr>\n",
       "      <th>8961</th>\n",
       "      <td>NaN</td>\n",
       "    </tr>\n",
       "    <tr>\n",
       "      <th>9039</th>\n",
       "      <td>NaN</td>\n",
       "    </tr>\n",
       "    <tr>\n",
       "      <th>9107</th>\n",
       "      <td>NaN</td>\n",
       "    </tr>\n",
       "    <tr>\n",
       "      <th>9108</th>\n",
       "      <td>NaN</td>\n",
       "    </tr>\n",
       "    <tr>\n",
       "      <th>9491</th>\n",
       "      <td>NaN</td>\n",
       "    </tr>\n",
       "  </tbody>\n",
       "</table>\n",
       "<p>332 rows × 1 columns</p>\n",
       "</div>"
      ],
      "text/plain": [
       "        0\n",
       "185   NaN\n",
       "206   NaN\n",
       "236   NaN\n",
       "247   NaN\n",
       "248   NaN\n",
       "272   NaN\n",
       "274   NaN\n",
       "279   NaN\n",
       "280   NaN\n",
       "281   NaN\n",
       "282   NaN\n",
       "283   NaN\n",
       "284   NaN\n",
       "285   NaN\n",
       "293   NaN\n",
       "308   NaN\n",
       "309   NaN\n",
       "335   NaN\n",
       "336   NaN\n",
       "345   NaN\n",
       "356   NaN\n",
       "359   NaN\n",
       "362   NaN\n",
       "368   NaN\n",
       "371   NaN\n",
       "379   NaN\n",
       "380   NaN\n",
       "381   NaN\n",
       "382   NaN\n",
       "383   NaN\n",
       "...   ...\n",
       "8219  NaN\n",
       "8258  NaN\n",
       "8364  NaN\n",
       "8383  NaN\n",
       "8426  NaN\n",
       "8430  NaN\n",
       "8437  NaN\n",
       "8501  NaN\n",
       "8508  NaN\n",
       "8550  NaN\n",
       "8586  NaN\n",
       "8615  NaN\n",
       "8632  NaN\n",
       "8637  NaN\n",
       "8665  NaN\n",
       "8666  NaN\n",
       "8678  NaN\n",
       "8705  NaN\n",
       "8712  NaN\n",
       "8748  NaN\n",
       "8792  NaN\n",
       "8862  NaN\n",
       "8896  NaN\n",
       "8908  NaN\n",
       "8953  NaN\n",
       "8961  NaN\n",
       "9039  NaN\n",
       "9107  NaN\n",
       "9108  NaN\n",
       "9491  NaN\n",
       "\n",
       "[332 rows x 1 columns]"
      ]
     },
     "execution_count": 145,
     "metadata": {},
     "output_type": "execute_result"
    }
   ],
   "source": [
    "series3df[series3df[0].isnull()]"
   ]
  },
  {
   "cell_type": "code",
   "execution_count": 146,
   "metadata": {
    "collapsed": false
   },
   "outputs": [
    {
     "data": {
      "text/html": [
       "<div>\n",
       "<table border=\"1\" class=\"dataframe\">\n",
       "  <thead>\n",
       "    <tr style=\"text-align: right;\">\n",
       "      <th></th>\n",
       "      <th>Dwh Prv Nip</th>\n",
       "      <th>Dwh Pat Consentement</th>\n",
       "      <th>Pat Nip</th>\n",
       "      <th>Pat Sexe_x</th>\n",
       "      <th>Pat Date Naissance_x</th>\n",
       "      <th>Dwh Pat Dn Date_x</th>\n",
       "      <th>Dwh Pat Date Deces_x</th>\n",
       "      <th>Dwh Prv Date Chir</th>\n",
       "      <th>Dwh Prv Diag Histologie</th>\n",
       "      <th>Grade</th>\n",
       "      <th>Dwh Gen Idh1</th>\n",
       "      <th>Dwh Gen Idh2</th>\n",
       "      <th>Dwh Gen Htert C228T</th>\n",
       "      <th>Dwh Gen Htert C250T</th>\n",
       "      <th>Dwh Gen P53</th>\n",
       "      <th>Dwh Gen Mgmt</th>\n",
       "      <th>Dwh Gen Egfr</th>\n",
       "      <th>Dwh Gen Mdm2</th>\n",
       "      <th>Dwh Gen Cdk4</th>\n",
       "      <th>Dwh Gen P16</th>\n",
       "      <th>Dwh Ihc Atrx</th>\n",
       "      <th>Dwh Chr Ch1P</th>\n",
       "      <th>Dwh Chr Ch19Q</th>\n",
       "      <th>Dwh Chr Ch10P</th>\n",
       "      <th>Dwh Chr Ch10Q</th>\n",
       "      <th>Dwh Chr Ch9P</th>\n",
       "      <th>Dwh Chr Ch9Q</th>\n",
       "      <th>Dwh Pat Tumeur Siege</th>\n",
       "      <th>Dwh Pat Tumeur Position</th>\n",
       "      <th>Pat Sexe_y</th>\n",
       "      <th>Pat Date Naissance_y</th>\n",
       "      <th>Dwh Pat Dn Date_y</th>\n",
       "      <th>Dwh Pat Date Deces_y</th>\n",
       "      <th>Clin Diag Histologie</th>\n",
       "      <th>Grade histo</th>\n",
       "      <th>Clin Chir Date</th>\n",
       "      <th>Clin Evolution</th>\n",
       "      <th>Clin Type Chirurgie</th>\n",
       "      <th>Clin Rx Date</th>\n",
       "      <th>Dwh Chm Date Debut</th>\n",
       "    </tr>\n",
       "  </thead>\n",
       "  <tbody>\n",
       "    <tr>\n",
       "      <th>185</th>\n",
       "      <td>1111111119</td>\n",
       "      <td>NaN</td>\n",
       "      <td>1111111119</td>\n",
       "      <td>NaN</td>\n",
       "      <td>1974-02-01</td>\n",
       "      <td>NaT</td>\n",
       "      <td>NaT</td>\n",
       "      <td>NaT</td>\n",
       "      <td>gangliogliome</td>\n",
       "      <td>1</td>\n",
       "      <td>NaN</td>\n",
       "      <td>NaN</td>\n",
       "      <td>NaN</td>\n",
       "      <td>NaN</td>\n",
       "      <td>NaN</td>\n",
       "      <td>NaN</td>\n",
       "      <td>NaN</td>\n",
       "      <td>NaN</td>\n",
       "      <td>NaN</td>\n",
       "      <td>NaN</td>\n",
       "      <td>NaN</td>\n",
       "      <td>NaN</td>\n",
       "      <td>NaN</td>\n",
       "      <td>NaN</td>\n",
       "      <td>NaN</td>\n",
       "      <td>NaN</td>\n",
       "      <td>NaN</td>\n",
       "      <td>NaN</td>\n",
       "      <td>NaN</td>\n",
       "      <td>NaN</td>\n",
       "      <td>NaT</td>\n",
       "      <td>NaT</td>\n",
       "      <td>NaT</td>\n",
       "      <td>NaN</td>\n",
       "      <td>NaN</td>\n",
       "      <td>NaT</td>\n",
       "      <td>NaN</td>\n",
       "      <td>NaN</td>\n",
       "      <td>NaT</td>\n",
       "      <td>NaT</td>\n",
       "    </tr>\n",
       "    <tr>\n",
       "      <th>206</th>\n",
       "      <td>1111111187</td>\n",
       "      <td>NaN</td>\n",
       "      <td>1111111187</td>\n",
       "      <td>NaN</td>\n",
       "      <td>1958-01-01</td>\n",
       "      <td>NaT</td>\n",
       "      <td>NaT</td>\n",
       "      <td>NaT</td>\n",
       "      <td>gangliogliome</td>\n",
       "      <td>1</td>\n",
       "      <td>NaN</td>\n",
       "      <td>NaN</td>\n",
       "      <td>NaN</td>\n",
       "      <td>NaN</td>\n",
       "      <td>NaN</td>\n",
       "      <td>NaN</td>\n",
       "      <td>NaN</td>\n",
       "      <td>NaN</td>\n",
       "      <td>NaN</td>\n",
       "      <td>NaN</td>\n",
       "      <td>NaN</td>\n",
       "      <td>NaN</td>\n",
       "      <td>NaN</td>\n",
       "      <td>NaN</td>\n",
       "      <td>NaN</td>\n",
       "      <td>NaN</td>\n",
       "      <td>NaN</td>\n",
       "      <td>NaN</td>\n",
       "      <td>NaN</td>\n",
       "      <td>NaN</td>\n",
       "      <td>NaT</td>\n",
       "      <td>NaT</td>\n",
       "      <td>NaT</td>\n",
       "      <td>NaN</td>\n",
       "      <td>NaN</td>\n",
       "      <td>NaT</td>\n",
       "      <td>NaN</td>\n",
       "      <td>NaN</td>\n",
       "      <td>NaT</td>\n",
       "      <td>NaT</td>\n",
       "    </tr>\n",
       "    <tr>\n",
       "      <th>236</th>\n",
       "      <td>1111111259</td>\n",
       "      <td>NaN</td>\n",
       "      <td>1111111259</td>\n",
       "      <td>NaN</td>\n",
       "      <td>NaT</td>\n",
       "      <td>NaT</td>\n",
       "      <td>NaT</td>\n",
       "      <td>NaT</td>\n",
       "      <td>glioblastome avec oligo. IV</td>\n",
       "      <td>4</td>\n",
       "      <td>NORMAL</td>\n",
       "      <td>NaN</td>\n",
       "      <td>NaN</td>\n",
       "      <td>NaN</td>\n",
       "      <td>NaN</td>\n",
       "      <td>NaN</td>\n",
       "      <td>NORMAL</td>\n",
       "      <td>NORMAL</td>\n",
       "      <td>NORMAL</td>\n",
       "      <td>NORMAL</td>\n",
       "      <td>NaN</td>\n",
       "      <td>NaN</td>\n",
       "      <td>NaN</td>\n",
       "      <td>NaN</td>\n",
       "      <td>NaN</td>\n",
       "      <td>NaN</td>\n",
       "      <td>NaN</td>\n",
       "      <td>NaN</td>\n",
       "      <td>NaN</td>\n",
       "      <td>NaN</td>\n",
       "      <td>NaT</td>\n",
       "      <td>NaT</td>\n",
       "      <td>NaT</td>\n",
       "      <td>NaN</td>\n",
       "      <td>NaN</td>\n",
       "      <td>NaT</td>\n",
       "      <td>NaN</td>\n",
       "      <td>NaN</td>\n",
       "      <td>NaT</td>\n",
       "      <td>NaT</td>\n",
       "    </tr>\n",
       "    <tr>\n",
       "      <th>247</th>\n",
       "      <td>1111112630</td>\n",
       "      <td>NaN</td>\n",
       "      <td>1111112630</td>\n",
       "      <td>NaN</td>\n",
       "      <td>1957-03-31</td>\n",
       "      <td>NaT</td>\n",
       "      <td>NaT</td>\n",
       "      <td>NaT</td>\n",
       "      <td>glioblastome IV</td>\n",
       "      <td>4</td>\n",
       "      <td>NaN</td>\n",
       "      <td>NaN</td>\n",
       "      <td>NaN</td>\n",
       "      <td>NaN</td>\n",
       "      <td>NaN</td>\n",
       "      <td>NaN</td>\n",
       "      <td>AMPLIFIE</td>\n",
       "      <td>NORMAL</td>\n",
       "      <td>NORMAL</td>\n",
       "      <td>DELETE</td>\n",
       "      <td>NaN</td>\n",
       "      <td>PARTIEL</td>\n",
       "      <td>NON PERTE</td>\n",
       "      <td>NaN</td>\n",
       "      <td>PERDU</td>\n",
       "      <td>PERDU</td>\n",
       "      <td>NaN</td>\n",
       "      <td>NaN</td>\n",
       "      <td>NaN</td>\n",
       "      <td>NaN</td>\n",
       "      <td>NaT</td>\n",
       "      <td>NaT</td>\n",
       "      <td>NaT</td>\n",
       "      <td>NaN</td>\n",
       "      <td>NaN</td>\n",
       "      <td>NaT</td>\n",
       "      <td>NaN</td>\n",
       "      <td>NaN</td>\n",
       "      <td>NaT</td>\n",
       "      <td>NaT</td>\n",
       "    </tr>\n",
       "    <tr>\n",
       "      <th>248</th>\n",
       "      <td>1111112638</td>\n",
       "      <td>NaN</td>\n",
       "      <td>1111112638</td>\n",
       "      <td>NaN</td>\n",
       "      <td>1968-12-01</td>\n",
       "      <td>NaT</td>\n",
       "      <td>NaT</td>\n",
       "      <td>2006-05-11</td>\n",
       "      <td>oligo.haut grade III</td>\n",
       "      <td>3</td>\n",
       "      <td>ALTERE</td>\n",
       "      <td>NORMAL</td>\n",
       "      <td>NaN</td>\n",
       "      <td>NaN</td>\n",
       "      <td>NaN</td>\n",
       "      <td>NaN</td>\n",
       "      <td>NORMAL</td>\n",
       "      <td>NORMAL</td>\n",
       "      <td>NORMAL</td>\n",
       "      <td>NORMAL</td>\n",
       "      <td>NaN</td>\n",
       "      <td>PARTIEL</td>\n",
       "      <td>PARTIEL</td>\n",
       "      <td>NaN</td>\n",
       "      <td>NON PERTE</td>\n",
       "      <td>NaN</td>\n",
       "      <td>NaN</td>\n",
       "      <td>NaN</td>\n",
       "      <td>NaN</td>\n",
       "      <td>NaN</td>\n",
       "      <td>NaT</td>\n",
       "      <td>NaT</td>\n",
       "      <td>NaT</td>\n",
       "      <td>NaN</td>\n",
       "      <td>NaN</td>\n",
       "      <td>NaT</td>\n",
       "      <td>NaN</td>\n",
       "      <td>NaN</td>\n",
       "      <td>NaT</td>\n",
       "      <td>NaT</td>\n",
       "    </tr>\n",
       "    <tr>\n",
       "      <th>272</th>\n",
       "      <td>1111112751</td>\n",
       "      <td>NaN</td>\n",
       "      <td>1111112751</td>\n",
       "      <td>NaN</td>\n",
       "      <td>1962-01-13</td>\n",
       "      <td>NaT</td>\n",
       "      <td>NaT</td>\n",
       "      <td>1998-07-31</td>\n",
       "      <td>oligo. bas grade II</td>\n",
       "      <td>2</td>\n",
       "      <td>ALTERE</td>\n",
       "      <td>NORMAL</td>\n",
       "      <td>NaN</td>\n",
       "      <td>NaN</td>\n",
       "      <td>NC</td>\n",
       "      <td>NaN</td>\n",
       "      <td>NORMAL</td>\n",
       "      <td>NORMAL</td>\n",
       "      <td>NORMAL</td>\n",
       "      <td>NORMAL</td>\n",
       "      <td>NaN</td>\n",
       "      <td>PERDU</td>\n",
       "      <td>PERDU</td>\n",
       "      <td>NaN</td>\n",
       "      <td>NaN</td>\n",
       "      <td>NaN</td>\n",
       "      <td>NaN</td>\n",
       "      <td>NaN</td>\n",
       "      <td>NaN</td>\n",
       "      <td>NaN</td>\n",
       "      <td>NaT</td>\n",
       "      <td>NaT</td>\n",
       "      <td>NaT</td>\n",
       "      <td>NaN</td>\n",
       "      <td>NaN</td>\n",
       "      <td>NaT</td>\n",
       "      <td>NaN</td>\n",
       "      <td>NaN</td>\n",
       "      <td>NaT</td>\n",
       "      <td>NaT</td>\n",
       "    </tr>\n",
       "    <tr>\n",
       "      <th>274</th>\n",
       "      <td>1111112758</td>\n",
       "      <td>NaN</td>\n",
       "      <td>1111112758</td>\n",
       "      <td>NaN</td>\n",
       "      <td>1961-03-29</td>\n",
       "      <td>NaT</td>\n",
       "      <td>NaT</td>\n",
       "      <td>2008-07-04</td>\n",
       "      <td>oligo. bas grade II</td>\n",
       "      <td>2</td>\n",
       "      <td>NaN</td>\n",
       "      <td>NORMAL</td>\n",
       "      <td>NaN</td>\n",
       "      <td>NaN</td>\n",
       "      <td>NC</td>\n",
       "      <td>NaN</td>\n",
       "      <td>NORMAL</td>\n",
       "      <td>NORMAL</td>\n",
       "      <td>NORMAL</td>\n",
       "      <td>NORMAL</td>\n",
       "      <td>NaN</td>\n",
       "      <td>NON PERTE</td>\n",
       "      <td>NON PERTE</td>\n",
       "      <td>NaN</td>\n",
       "      <td>NON PERTE</td>\n",
       "      <td>NON PERTE</td>\n",
       "      <td>NaN</td>\n",
       "      <td>NaN</td>\n",
       "      <td>NaN</td>\n",
       "      <td>NaN</td>\n",
       "      <td>NaT</td>\n",
       "      <td>NaT</td>\n",
       "      <td>NaT</td>\n",
       "      <td>NaN</td>\n",
       "      <td>NaN</td>\n",
       "      <td>NaT</td>\n",
       "      <td>NaN</td>\n",
       "      <td>NaN</td>\n",
       "      <td>NaT</td>\n",
       "      <td>NaT</td>\n",
       "    </tr>\n",
       "    <tr>\n",
       "      <th>279</th>\n",
       "      <td>1111112769</td>\n",
       "      <td>NaN</td>\n",
       "      <td>1111112769</td>\n",
       "      <td>NaN</td>\n",
       "      <td>1928-05-12</td>\n",
       "      <td>NaT</td>\n",
       "      <td>NaT</td>\n",
       "      <td>2007-09-28</td>\n",
       "      <td>glioblastome IV</td>\n",
       "      <td>4</td>\n",
       "      <td>NaN</td>\n",
       "      <td>NaN</td>\n",
       "      <td>ALTERE</td>\n",
       "      <td>NORMAL</td>\n",
       "      <td>NC</td>\n",
       "      <td>NON METHYLE</td>\n",
       "      <td>AMPLIFIE</td>\n",
       "      <td>AMPLIFIE</td>\n",
       "      <td>AMPLIFIE</td>\n",
       "      <td>NORMAL</td>\n",
       "      <td>NaN</td>\n",
       "      <td>PARTIEL</td>\n",
       "      <td>NON PERTE</td>\n",
       "      <td>PERDU</td>\n",
       "      <td>PERDU</td>\n",
       "      <td>PARTIEL</td>\n",
       "      <td>NON PERTE</td>\n",
       "      <td>NaN</td>\n",
       "      <td>NaN</td>\n",
       "      <td>NaN</td>\n",
       "      <td>NaT</td>\n",
       "      <td>NaT</td>\n",
       "      <td>NaT</td>\n",
       "      <td>NaN</td>\n",
       "      <td>NaN</td>\n",
       "      <td>NaT</td>\n",
       "      <td>NaN</td>\n",
       "      <td>NaN</td>\n",
       "      <td>NaT</td>\n",
       "      <td>NaT</td>\n",
       "    </tr>\n",
       "    <tr>\n",
       "      <th>280</th>\n",
       "      <td>1111112770</td>\n",
       "      <td>NaN</td>\n",
       "      <td>1111112770</td>\n",
       "      <td>NaN</td>\n",
       "      <td>1933-09-19</td>\n",
       "      <td>NaT</td>\n",
       "      <td>NaT</td>\n",
       "      <td>2007-11-14</td>\n",
       "      <td>glioblastome IV</td>\n",
       "      <td>4</td>\n",
       "      <td>NORMAL</td>\n",
       "      <td>NaN</td>\n",
       "      <td>NaN</td>\n",
       "      <td>NaN</td>\n",
       "      <td>NC</td>\n",
       "      <td>NON METHYLE</td>\n",
       "      <td>NORMAL</td>\n",
       "      <td>NORMAL</td>\n",
       "      <td>NORMAL</td>\n",
       "      <td>DELETE</td>\n",
       "      <td>NaN</td>\n",
       "      <td>NaN</td>\n",
       "      <td>NaN</td>\n",
       "      <td>NaN</td>\n",
       "      <td>NaN</td>\n",
       "      <td>NaN</td>\n",
       "      <td>NaN</td>\n",
       "      <td>NaN</td>\n",
       "      <td>NaN</td>\n",
       "      <td>NaN</td>\n",
       "      <td>NaT</td>\n",
       "      <td>NaT</td>\n",
       "      <td>NaT</td>\n",
       "      <td>NaN</td>\n",
       "      <td>NaN</td>\n",
       "      <td>NaT</td>\n",
       "      <td>NaN</td>\n",
       "      <td>NaN</td>\n",
       "      <td>NaT</td>\n",
       "      <td>NaT</td>\n",
       "    </tr>\n",
       "    <tr>\n",
       "      <th>281</th>\n",
       "      <td>1111112771</td>\n",
       "      <td>NaN</td>\n",
       "      <td>1111112771</td>\n",
       "      <td>NaN</td>\n",
       "      <td>1928-05-05</td>\n",
       "      <td>NaT</td>\n",
       "      <td>NaT</td>\n",
       "      <td>2008-04-14</td>\n",
       "      <td>glioblastome IV</td>\n",
       "      <td>4</td>\n",
       "      <td>NORMAL</td>\n",
       "      <td>NaN</td>\n",
       "      <td>NaN</td>\n",
       "      <td>NaN</td>\n",
       "      <td>NC</td>\n",
       "      <td>NON METHYLE</td>\n",
       "      <td>NORMAL</td>\n",
       "      <td>NORMAL</td>\n",
       "      <td>NORMAL</td>\n",
       "      <td>NORMAL</td>\n",
       "      <td>NaN</td>\n",
       "      <td>NaN</td>\n",
       "      <td>NaN</td>\n",
       "      <td>NaN</td>\n",
       "      <td>NaN</td>\n",
       "      <td>NaN</td>\n",
       "      <td>NaN</td>\n",
       "      <td>NaN</td>\n",
       "      <td>NaN</td>\n",
       "      <td>NaN</td>\n",
       "      <td>NaT</td>\n",
       "      <td>NaT</td>\n",
       "      <td>NaT</td>\n",
       "      <td>NaN</td>\n",
       "      <td>NaN</td>\n",
       "      <td>NaT</td>\n",
       "      <td>NaN</td>\n",
       "      <td>NaN</td>\n",
       "      <td>NaT</td>\n",
       "      <td>NaT</td>\n",
       "    </tr>\n",
       "    <tr>\n",
       "      <th>282</th>\n",
       "      <td>1111112772</td>\n",
       "      <td>NaN</td>\n",
       "      <td>1111112772</td>\n",
       "      <td>NaN</td>\n",
       "      <td>1936-08-16</td>\n",
       "      <td>NaT</td>\n",
       "      <td>NaT</td>\n",
       "      <td>2008-05-29</td>\n",
       "      <td>glioblastome IV</td>\n",
       "      <td>4</td>\n",
       "      <td>NORMAL</td>\n",
       "      <td>NaN</td>\n",
       "      <td>NaN</td>\n",
       "      <td>NaN</td>\n",
       "      <td>NC</td>\n",
       "      <td>NON METHYLE</td>\n",
       "      <td>NORMAL</td>\n",
       "      <td>NORMAL</td>\n",
       "      <td>NORMAL</td>\n",
       "      <td>NORMAL</td>\n",
       "      <td>NaN</td>\n",
       "      <td>NaN</td>\n",
       "      <td>NaN</td>\n",
       "      <td>NaN</td>\n",
       "      <td>NaN</td>\n",
       "      <td>NaN</td>\n",
       "      <td>NaN</td>\n",
       "      <td>NaN</td>\n",
       "      <td>NaN</td>\n",
       "      <td>NaN</td>\n",
       "      <td>NaT</td>\n",
       "      <td>NaT</td>\n",
       "      <td>NaT</td>\n",
       "      <td>NaN</td>\n",
       "      <td>NaN</td>\n",
       "      <td>NaT</td>\n",
       "      <td>NaN</td>\n",
       "      <td>NaN</td>\n",
       "      <td>NaT</td>\n",
       "      <td>NaT</td>\n",
       "    </tr>\n",
       "    <tr>\n",
       "      <th>283</th>\n",
       "      <td>1111112773</td>\n",
       "      <td>NaN</td>\n",
       "      <td>1111112773</td>\n",
       "      <td>NaN</td>\n",
       "      <td>NaT</td>\n",
       "      <td>NaT</td>\n",
       "      <td>NaT</td>\n",
       "      <td>NaT</td>\n",
       "      <td>glioblastome IV</td>\n",
       "      <td>4</td>\n",
       "      <td>NaN</td>\n",
       "      <td>NaN</td>\n",
       "      <td>NaN</td>\n",
       "      <td>NaN</td>\n",
       "      <td>NC</td>\n",
       "      <td>METHYLE</td>\n",
       "      <td>NaN</td>\n",
       "      <td>NaN</td>\n",
       "      <td>NaN</td>\n",
       "      <td>NaN</td>\n",
       "      <td>NaN</td>\n",
       "      <td>NaN</td>\n",
       "      <td>NaN</td>\n",
       "      <td>NaN</td>\n",
       "      <td>NaN</td>\n",
       "      <td>NaN</td>\n",
       "      <td>NaN</td>\n",
       "      <td>NaN</td>\n",
       "      <td>NaN</td>\n",
       "      <td>NaN</td>\n",
       "      <td>NaT</td>\n",
       "      <td>NaT</td>\n",
       "      <td>NaT</td>\n",
       "      <td>NaN</td>\n",
       "      <td>NaN</td>\n",
       "      <td>NaT</td>\n",
       "      <td>NaN</td>\n",
       "      <td>NaN</td>\n",
       "      <td>NaT</td>\n",
       "      <td>NaT</td>\n",
       "    </tr>\n",
       "    <tr>\n",
       "      <th>284</th>\n",
       "      <td>1111112774</td>\n",
       "      <td>NaN</td>\n",
       "      <td>1111112774</td>\n",
       "      <td>NaN</td>\n",
       "      <td>NaT</td>\n",
       "      <td>NaT</td>\n",
       "      <td>NaT</td>\n",
       "      <td>NaT</td>\n",
       "      <td>glioblastome IV</td>\n",
       "      <td>4</td>\n",
       "      <td>NaN</td>\n",
       "      <td>NaN</td>\n",
       "      <td>NaN</td>\n",
       "      <td>NaN</td>\n",
       "      <td>NC</td>\n",
       "      <td>NON METHYLE</td>\n",
       "      <td>NORMAL</td>\n",
       "      <td>NORMAL</td>\n",
       "      <td>NORMAL</td>\n",
       "      <td>DELETE</td>\n",
       "      <td>NaN</td>\n",
       "      <td>NaN</td>\n",
       "      <td>NaN</td>\n",
       "      <td>NaN</td>\n",
       "      <td>NaN</td>\n",
       "      <td>NaN</td>\n",
       "      <td>NaN</td>\n",
       "      <td>NaN</td>\n",
       "      <td>NaN</td>\n",
       "      <td>NaN</td>\n",
       "      <td>NaT</td>\n",
       "      <td>NaT</td>\n",
       "      <td>NaT</td>\n",
       "      <td>NaN</td>\n",
       "      <td>NaN</td>\n",
       "      <td>NaT</td>\n",
       "      <td>NaN</td>\n",
       "      <td>NaN</td>\n",
       "      <td>NaT</td>\n",
       "      <td>NaT</td>\n",
       "    </tr>\n",
       "    <tr>\n",
       "      <th>285</th>\n",
       "      <td>1111112776</td>\n",
       "      <td>NaN</td>\n",
       "      <td>1111112776</td>\n",
       "      <td>NaN</td>\n",
       "      <td>1928-10-05</td>\n",
       "      <td>NaT</td>\n",
       "      <td>NaT</td>\n",
       "      <td>2008-02-26</td>\n",
       "      <td>glioblastome IV</td>\n",
       "      <td>4</td>\n",
       "      <td>NaN</td>\n",
       "      <td>NaN</td>\n",
       "      <td>NaN</td>\n",
       "      <td>NaN</td>\n",
       "      <td>NC</td>\n",
       "      <td>METHYLE</td>\n",
       "      <td>NORMAL</td>\n",
       "      <td>NORMAL</td>\n",
       "      <td>NORMAL</td>\n",
       "      <td>DELETE</td>\n",
       "      <td>NaN</td>\n",
       "      <td>NaN</td>\n",
       "      <td>NaN</td>\n",
       "      <td>NaN</td>\n",
       "      <td>NaN</td>\n",
       "      <td>NaN</td>\n",
       "      <td>NaN</td>\n",
       "      <td>NaN</td>\n",
       "      <td>NaN</td>\n",
       "      <td>NaN</td>\n",
       "      <td>NaT</td>\n",
       "      <td>NaT</td>\n",
       "      <td>NaT</td>\n",
       "      <td>NaN</td>\n",
       "      <td>NaN</td>\n",
       "      <td>NaT</td>\n",
       "      <td>NaN</td>\n",
       "      <td>NaN</td>\n",
       "      <td>NaT</td>\n",
       "      <td>NaT</td>\n",
       "    </tr>\n",
       "    <tr>\n",
       "      <th>293</th>\n",
       "      <td>1111112789</td>\n",
       "      <td>NaN</td>\n",
       "      <td>1111112789</td>\n",
       "      <td>NaN</td>\n",
       "      <td>1972-12-01</td>\n",
       "      <td>NaT</td>\n",
       "      <td>NaT</td>\n",
       "      <td>2007-03-16</td>\n",
       "      <td>oligo. bas grade II</td>\n",
       "      <td>2</td>\n",
       "      <td>ALTERE</td>\n",
       "      <td>NORMAL</td>\n",
       "      <td>NaN</td>\n",
       "      <td>NaN</td>\n",
       "      <td>NC</td>\n",
       "      <td>NaN</td>\n",
       "      <td>NORMAL</td>\n",
       "      <td>NORMAL</td>\n",
       "      <td>NORMAL</td>\n",
       "      <td>NORMAL</td>\n",
       "      <td>NaN</td>\n",
       "      <td>NON PERTE</td>\n",
       "      <td>NaN</td>\n",
       "      <td>NaN</td>\n",
       "      <td>PERDU</td>\n",
       "      <td>NON PERTE</td>\n",
       "      <td>NaN</td>\n",
       "      <td>NaN</td>\n",
       "      <td>NaN</td>\n",
       "      <td>NaN</td>\n",
       "      <td>NaT</td>\n",
       "      <td>NaT</td>\n",
       "      <td>NaT</td>\n",
       "      <td>NaN</td>\n",
       "      <td>NaN</td>\n",
       "      <td>NaT</td>\n",
       "      <td>NaN</td>\n",
       "      <td>NaN</td>\n",
       "      <td>NaT</td>\n",
       "      <td>NaT</td>\n",
       "    </tr>\n",
       "    <tr>\n",
       "      <th>308</th>\n",
       "      <td>1111112813</td>\n",
       "      <td>NaN</td>\n",
       "      <td>1111112813</td>\n",
       "      <td>NaN</td>\n",
       "      <td>1937-03-19</td>\n",
       "      <td>NaT</td>\n",
       "      <td>NaT</td>\n",
       "      <td>NaT</td>\n",
       "      <td>glioblastome IV</td>\n",
       "      <td>4</td>\n",
       "      <td>NaN</td>\n",
       "      <td>NORMAL</td>\n",
       "      <td>NaN</td>\n",
       "      <td>NaN</td>\n",
       "      <td>NC</td>\n",
       "      <td>NON METHYLE</td>\n",
       "      <td>NaN</td>\n",
       "      <td>NaN</td>\n",
       "      <td>NaN</td>\n",
       "      <td>NaN</td>\n",
       "      <td>NaN</td>\n",
       "      <td>NaN</td>\n",
       "      <td>NaN</td>\n",
       "      <td>NaN</td>\n",
       "      <td>NaN</td>\n",
       "      <td>NaN</td>\n",
       "      <td>NaN</td>\n",
       "      <td>NaN</td>\n",
       "      <td>NaN</td>\n",
       "      <td>NaN</td>\n",
       "      <td>NaT</td>\n",
       "      <td>NaT</td>\n",
       "      <td>NaT</td>\n",
       "      <td>NaN</td>\n",
       "      <td>NaN</td>\n",
       "      <td>NaT</td>\n",
       "      <td>NaN</td>\n",
       "      <td>NaN</td>\n",
       "      <td>NaT</td>\n",
       "      <td>NaT</td>\n",
       "    </tr>\n",
       "    <tr>\n",
       "      <th>309</th>\n",
       "      <td>1111112814</td>\n",
       "      <td>NaN</td>\n",
       "      <td>1111112814</td>\n",
       "      <td>NaN</td>\n",
       "      <td>1931-01-02</td>\n",
       "      <td>NaT</td>\n",
       "      <td>NaT</td>\n",
       "      <td>NaT</td>\n",
       "      <td>glioblastome IV</td>\n",
       "      <td>4</td>\n",
       "      <td>NaN</td>\n",
       "      <td>NaN</td>\n",
       "      <td>NaN</td>\n",
       "      <td>NaN</td>\n",
       "      <td>NC</td>\n",
       "      <td>NON METHYLE</td>\n",
       "      <td>NaN</td>\n",
       "      <td>NaN</td>\n",
       "      <td>NaN</td>\n",
       "      <td>NaN</td>\n",
       "      <td>NaN</td>\n",
       "      <td>NaN</td>\n",
       "      <td>NaN</td>\n",
       "      <td>NaN</td>\n",
       "      <td>NaN</td>\n",
       "      <td>NaN</td>\n",
       "      <td>NaN</td>\n",
       "      <td>NaN</td>\n",
       "      <td>NaN</td>\n",
       "      <td>NaN</td>\n",
       "      <td>NaT</td>\n",
       "      <td>NaT</td>\n",
       "      <td>NaT</td>\n",
       "      <td>NaN</td>\n",
       "      <td>NaN</td>\n",
       "      <td>NaT</td>\n",
       "      <td>NaN</td>\n",
       "      <td>NaN</td>\n",
       "      <td>NaT</td>\n",
       "      <td>NaT</td>\n",
       "    </tr>\n",
       "    <tr>\n",
       "      <th>335</th>\n",
       "      <td>1111112860</td>\n",
       "      <td>NaN</td>\n",
       "      <td>1111112860</td>\n",
       "      <td>NaN</td>\n",
       "      <td>1958-02-17</td>\n",
       "      <td>NaT</td>\n",
       "      <td>NaT</td>\n",
       "      <td>2008-11-24</td>\n",
       "      <td>gliome mixte II</td>\n",
       "      <td>2</td>\n",
       "      <td>ALTERE</td>\n",
       "      <td>NORMAL</td>\n",
       "      <td>NaN</td>\n",
       "      <td>NaN</td>\n",
       "      <td>NC</td>\n",
       "      <td>NaN</td>\n",
       "      <td>NORMAL</td>\n",
       "      <td>NORMAL</td>\n",
       "      <td>NORMAL</td>\n",
       "      <td>NORMAL</td>\n",
       "      <td>NaN</td>\n",
       "      <td>PERDU</td>\n",
       "      <td>PERDU</td>\n",
       "      <td>NaN</td>\n",
       "      <td>NaN</td>\n",
       "      <td>NON PERTE</td>\n",
       "      <td>NaN</td>\n",
       "      <td>NaN</td>\n",
       "      <td>NaN</td>\n",
       "      <td>NaN</td>\n",
       "      <td>NaT</td>\n",
       "      <td>NaT</td>\n",
       "      <td>NaT</td>\n",
       "      <td>NaN</td>\n",
       "      <td>NaN</td>\n",
       "      <td>NaT</td>\n",
       "      <td>NaN</td>\n",
       "      <td>NaN</td>\n",
       "      <td>NaT</td>\n",
       "      <td>NaT</td>\n",
       "    </tr>\n",
       "    <tr>\n",
       "      <th>336</th>\n",
       "      <td>1111112861</td>\n",
       "      <td>NaN</td>\n",
       "      <td>1111112861</td>\n",
       "      <td>NaN</td>\n",
       "      <td>1955-04-11</td>\n",
       "      <td>NaT</td>\n",
       "      <td>NaT</td>\n",
       "      <td>2009-01-08</td>\n",
       "      <td>gliome mixte II</td>\n",
       "      <td>2</td>\n",
       "      <td>NaN</td>\n",
       "      <td>NORMAL</td>\n",
       "      <td>NaN</td>\n",
       "      <td>NaN</td>\n",
       "      <td>NC</td>\n",
       "      <td>NaN</td>\n",
       "      <td>NORMAL</td>\n",
       "      <td>NORMAL</td>\n",
       "      <td>NORMAL</td>\n",
       "      <td>NORMAL</td>\n",
       "      <td>NaN</td>\n",
       "      <td>PERDU</td>\n",
       "      <td>PERDU</td>\n",
       "      <td>NaN</td>\n",
       "      <td>NON PERTE</td>\n",
       "      <td>NON PERTE</td>\n",
       "      <td>NaN</td>\n",
       "      <td>NaN</td>\n",
       "      <td>NaN</td>\n",
       "      <td>NaN</td>\n",
       "      <td>NaT</td>\n",
       "      <td>NaT</td>\n",
       "      <td>NaT</td>\n",
       "      <td>NaN</td>\n",
       "      <td>NaN</td>\n",
       "      <td>NaT</td>\n",
       "      <td>NaN</td>\n",
       "      <td>NaN</td>\n",
       "      <td>NaT</td>\n",
       "      <td>NaT</td>\n",
       "    </tr>\n",
       "    <tr>\n",
       "      <th>345</th>\n",
       "      <td>1111112875</td>\n",
       "      <td>NaN</td>\n",
       "      <td>1111112875</td>\n",
       "      <td>NaN</td>\n",
       "      <td>1935-12-27</td>\n",
       "      <td>NaT</td>\n",
       "      <td>NaT</td>\n",
       "      <td>NaT</td>\n",
       "      <td>glioblastome IV</td>\n",
       "      <td>4</td>\n",
       "      <td>NORMAL</td>\n",
       "      <td>NaN</td>\n",
       "      <td>NaN</td>\n",
       "      <td>NaN</td>\n",
       "      <td>NC</td>\n",
       "      <td>NON METHYLE</td>\n",
       "      <td>NaN</td>\n",
       "      <td>NaN</td>\n",
       "      <td>NaN</td>\n",
       "      <td>NaN</td>\n",
       "      <td>NaN</td>\n",
       "      <td>NaN</td>\n",
       "      <td>NaN</td>\n",
       "      <td>NaN</td>\n",
       "      <td>NaN</td>\n",
       "      <td>NaN</td>\n",
       "      <td>NaN</td>\n",
       "      <td>NaN</td>\n",
       "      <td>NaN</td>\n",
       "      <td>NaN</td>\n",
       "      <td>NaT</td>\n",
       "      <td>NaT</td>\n",
       "      <td>NaT</td>\n",
       "      <td>NaN</td>\n",
       "      <td>NaN</td>\n",
       "      <td>NaT</td>\n",
       "      <td>NaN</td>\n",
       "      <td>NaN</td>\n",
       "      <td>NaT</td>\n",
       "      <td>NaT</td>\n",
       "    </tr>\n",
       "    <tr>\n",
       "      <th>356</th>\n",
       "      <td>1111112888</td>\n",
       "      <td>0.0</td>\n",
       "      <td>1111112888</td>\n",
       "      <td>NaN</td>\n",
       "      <td>1939-02-21</td>\n",
       "      <td>NaT</td>\n",
       "      <td>NaT</td>\n",
       "      <td>2009-05-06</td>\n",
       "      <td>glioblastome IV</td>\n",
       "      <td>4</td>\n",
       "      <td>NORMAL</td>\n",
       "      <td>NORMAL</td>\n",
       "      <td>NORMAL</td>\n",
       "      <td>ALTERE</td>\n",
       "      <td>NC</td>\n",
       "      <td>NaN</td>\n",
       "      <td>NaN</td>\n",
       "      <td>NaN</td>\n",
       "      <td>NaN</td>\n",
       "      <td>NaN</td>\n",
       "      <td>NaN</td>\n",
       "      <td>NaN</td>\n",
       "      <td>NaN</td>\n",
       "      <td>NaN</td>\n",
       "      <td>NaN</td>\n",
       "      <td>NaN</td>\n",
       "      <td>NaN</td>\n",
       "      <td>NaN</td>\n",
       "      <td>NaN</td>\n",
       "      <td>NaN</td>\n",
       "      <td>NaT</td>\n",
       "      <td>NaT</td>\n",
       "      <td>NaT</td>\n",
       "      <td>NaN</td>\n",
       "      <td>NaN</td>\n",
       "      <td>NaT</td>\n",
       "      <td>NaN</td>\n",
       "      <td>NaN</td>\n",
       "      <td>NaT</td>\n",
       "      <td>NaT</td>\n",
       "    </tr>\n",
       "    <tr>\n",
       "      <th>359</th>\n",
       "      <td>1111112894</td>\n",
       "      <td>NaN</td>\n",
       "      <td>1111112894</td>\n",
       "      <td>NaN</td>\n",
       "      <td>1945-11-12</td>\n",
       "      <td>NaT</td>\n",
       "      <td>NaT</td>\n",
       "      <td>2009-03-31</td>\n",
       "      <td>oligo.haut grade III</td>\n",
       "      <td>3</td>\n",
       "      <td>NORMAL</td>\n",
       "      <td>NORMAL</td>\n",
       "      <td>NaN</td>\n",
       "      <td>NaN</td>\n",
       "      <td>NC</td>\n",
       "      <td>NaN</td>\n",
       "      <td>NORMAL</td>\n",
       "      <td>NORMAL</td>\n",
       "      <td>AMPLIFIE</td>\n",
       "      <td>NORMAL</td>\n",
       "      <td>NaN</td>\n",
       "      <td>PARTIEL</td>\n",
       "      <td>NON PERTE</td>\n",
       "      <td>PERDU</td>\n",
       "      <td>PERDU</td>\n",
       "      <td>NON PERTE</td>\n",
       "      <td>PARTIEL</td>\n",
       "      <td>NaN</td>\n",
       "      <td>NaN</td>\n",
       "      <td>NaN</td>\n",
       "      <td>NaT</td>\n",
       "      <td>NaT</td>\n",
       "      <td>NaT</td>\n",
       "      <td>NaN</td>\n",
       "      <td>NaN</td>\n",
       "      <td>NaT</td>\n",
       "      <td>NaN</td>\n",
       "      <td>NaN</td>\n",
       "      <td>NaT</td>\n",
       "      <td>NaT</td>\n",
       "    </tr>\n",
       "    <tr>\n",
       "      <th>362</th>\n",
       "      <td>1111112898</td>\n",
       "      <td>NaN</td>\n",
       "      <td>1111112898</td>\n",
       "      <td>NaN</td>\n",
       "      <td>NaT</td>\n",
       "      <td>NaT</td>\n",
       "      <td>NaT</td>\n",
       "      <td>NaT</td>\n",
       "      <td>glioblastome IV</td>\n",
       "      <td>4</td>\n",
       "      <td>NaN</td>\n",
       "      <td>NC</td>\n",
       "      <td>NaN</td>\n",
       "      <td>NaN</td>\n",
       "      <td>NC</td>\n",
       "      <td>METHYLE</td>\n",
       "      <td>NaN</td>\n",
       "      <td>NaN</td>\n",
       "      <td>NaN</td>\n",
       "      <td>NaN</td>\n",
       "      <td>NaN</td>\n",
       "      <td>NaN</td>\n",
       "      <td>NaN</td>\n",
       "      <td>NaN</td>\n",
       "      <td>NaN</td>\n",
       "      <td>NaN</td>\n",
       "      <td>NaN</td>\n",
       "      <td>NaN</td>\n",
       "      <td>NaN</td>\n",
       "      <td>NaN</td>\n",
       "      <td>NaT</td>\n",
       "      <td>NaT</td>\n",
       "      <td>NaT</td>\n",
       "      <td>NaN</td>\n",
       "      <td>NaN</td>\n",
       "      <td>NaT</td>\n",
       "      <td>NaN</td>\n",
       "      <td>NaN</td>\n",
       "      <td>NaT</td>\n",
       "      <td>NaT</td>\n",
       "    </tr>\n",
       "    <tr>\n",
       "      <th>368</th>\n",
       "      <td>1111112924</td>\n",
       "      <td>0.0</td>\n",
       "      <td>1111112924</td>\n",
       "      <td>NaN</td>\n",
       "      <td>1926-03-11</td>\n",
       "      <td>NaT</td>\n",
       "      <td>NaT</td>\n",
       "      <td>2009-07-15</td>\n",
       "      <td>glioblastome IV</td>\n",
       "      <td>4</td>\n",
       "      <td>NORMAL</td>\n",
       "      <td>NORMAL</td>\n",
       "      <td>ALTERE</td>\n",
       "      <td>NORMAL</td>\n",
       "      <td>NC</td>\n",
       "      <td>NaN</td>\n",
       "      <td>NaN</td>\n",
       "      <td>NaN</td>\n",
       "      <td>NaN</td>\n",
       "      <td>NaN</td>\n",
       "      <td>NaN</td>\n",
       "      <td>NaN</td>\n",
       "      <td>NaN</td>\n",
       "      <td>NaN</td>\n",
       "      <td>NaN</td>\n",
       "      <td>NaN</td>\n",
       "      <td>NaN</td>\n",
       "      <td>NaN</td>\n",
       "      <td>NaN</td>\n",
       "      <td>NaN</td>\n",
       "      <td>NaT</td>\n",
       "      <td>NaT</td>\n",
       "      <td>NaT</td>\n",
       "      <td>NaN</td>\n",
       "      <td>NaN</td>\n",
       "      <td>NaT</td>\n",
       "      <td>NaN</td>\n",
       "      <td>NaN</td>\n",
       "      <td>NaT</td>\n",
       "      <td>NaT</td>\n",
       "    </tr>\n",
       "    <tr>\n",
       "      <th>371</th>\n",
       "      <td>1111112930</td>\n",
       "      <td>0.0</td>\n",
       "      <td>1111112930</td>\n",
       "      <td>NaN</td>\n",
       "      <td>1926-03-13</td>\n",
       "      <td>NaT</td>\n",
       "      <td>NaT</td>\n",
       "      <td>NaT</td>\n",
       "      <td>glioblastome IV</td>\n",
       "      <td>4</td>\n",
       "      <td>NORMAL</td>\n",
       "      <td>NORMAL</td>\n",
       "      <td>ALTERE</td>\n",
       "      <td>NORMAL</td>\n",
       "      <td>NC</td>\n",
       "      <td>NaN</td>\n",
       "      <td>NaN</td>\n",
       "      <td>NaN</td>\n",
       "      <td>NaN</td>\n",
       "      <td>NaN</td>\n",
       "      <td>NaN</td>\n",
       "      <td>NaN</td>\n",
       "      <td>NaN</td>\n",
       "      <td>NaN</td>\n",
       "      <td>NaN</td>\n",
       "      <td>NaN</td>\n",
       "      <td>NaN</td>\n",
       "      <td>NaN</td>\n",
       "      <td>NaN</td>\n",
       "      <td>NaN</td>\n",
       "      <td>NaT</td>\n",
       "      <td>NaT</td>\n",
       "      <td>NaT</td>\n",
       "      <td>NaN</td>\n",
       "      <td>NaN</td>\n",
       "      <td>NaT</td>\n",
       "      <td>NaN</td>\n",
       "      <td>NaN</td>\n",
       "      <td>NaT</td>\n",
       "      <td>NaT</td>\n",
       "    </tr>\n",
       "    <tr>\n",
       "      <th>379</th>\n",
       "      <td>1111112940</td>\n",
       "      <td>NaN</td>\n",
       "      <td>1111112940</td>\n",
       "      <td>NaN</td>\n",
       "      <td>1933-03-13</td>\n",
       "      <td>NaT</td>\n",
       "      <td>NaT</td>\n",
       "      <td>2008-08-14</td>\n",
       "      <td>gliome mixte ana III</td>\n",
       "      <td>3</td>\n",
       "      <td>NaN</td>\n",
       "      <td>NORMAL</td>\n",
       "      <td>NaN</td>\n",
       "      <td>NaN</td>\n",
       "      <td>NC</td>\n",
       "      <td>NON METHYLE</td>\n",
       "      <td>NaN</td>\n",
       "      <td>NaN</td>\n",
       "      <td>NaN</td>\n",
       "      <td>NaN</td>\n",
       "      <td>NaN</td>\n",
       "      <td>NaN</td>\n",
       "      <td>NaN</td>\n",
       "      <td>NaN</td>\n",
       "      <td>NaN</td>\n",
       "      <td>NaN</td>\n",
       "      <td>NaN</td>\n",
       "      <td>NaN</td>\n",
       "      <td>NaN</td>\n",
       "      <td>NaN</td>\n",
       "      <td>NaT</td>\n",
       "      <td>NaT</td>\n",
       "      <td>NaT</td>\n",
       "      <td>NaN</td>\n",
       "      <td>NaN</td>\n",
       "      <td>NaT</td>\n",
       "      <td>NaN</td>\n",
       "      <td>NaN</td>\n",
       "      <td>NaT</td>\n",
       "      <td>NaT</td>\n",
       "    </tr>\n",
       "    <tr>\n",
       "      <th>380</th>\n",
       "      <td>1111112941</td>\n",
       "      <td>NaN</td>\n",
       "      <td>1111112941</td>\n",
       "      <td>NaN</td>\n",
       "      <td>1929-11-19</td>\n",
       "      <td>NaT</td>\n",
       "      <td>NaT</td>\n",
       "      <td>2008-09-08</td>\n",
       "      <td>glioblastome IV</td>\n",
       "      <td>4</td>\n",
       "      <td>NaN</td>\n",
       "      <td>NC</td>\n",
       "      <td>NaN</td>\n",
       "      <td>NaN</td>\n",
       "      <td>NC</td>\n",
       "      <td>NON METHYLE</td>\n",
       "      <td>NaN</td>\n",
       "      <td>NaN</td>\n",
       "      <td>NaN</td>\n",
       "      <td>NaN</td>\n",
       "      <td>NaN</td>\n",
       "      <td>NaN</td>\n",
       "      <td>NaN</td>\n",
       "      <td>NaN</td>\n",
       "      <td>NaN</td>\n",
       "      <td>NaN</td>\n",
       "      <td>NaN</td>\n",
       "      <td>NaN</td>\n",
       "      <td>NaN</td>\n",
       "      <td>NaN</td>\n",
       "      <td>NaT</td>\n",
       "      <td>NaT</td>\n",
       "      <td>NaT</td>\n",
       "      <td>NaN</td>\n",
       "      <td>NaN</td>\n",
       "      <td>NaT</td>\n",
       "      <td>NaN</td>\n",
       "      <td>NaN</td>\n",
       "      <td>NaT</td>\n",
       "      <td>NaT</td>\n",
       "    </tr>\n",
       "    <tr>\n",
       "      <th>381</th>\n",
       "      <td>1111112942</td>\n",
       "      <td>NaN</td>\n",
       "      <td>1111112942</td>\n",
       "      <td>NaN</td>\n",
       "      <td>1937-11-19</td>\n",
       "      <td>NaT</td>\n",
       "      <td>NaT</td>\n",
       "      <td>2009-02-25</td>\n",
       "      <td>glioblastome IV</td>\n",
       "      <td>4</td>\n",
       "      <td>NaN</td>\n",
       "      <td>NORMAL</td>\n",
       "      <td>NaN</td>\n",
       "      <td>NaN</td>\n",
       "      <td>NC</td>\n",
       "      <td>NON METHYLE</td>\n",
       "      <td>NaN</td>\n",
       "      <td>NaN</td>\n",
       "      <td>NaN</td>\n",
       "      <td>NaN</td>\n",
       "      <td>NaN</td>\n",
       "      <td>NaN</td>\n",
       "      <td>NaN</td>\n",
       "      <td>NaN</td>\n",
       "      <td>NaN</td>\n",
       "      <td>NaN</td>\n",
       "      <td>NaN</td>\n",
       "      <td>NaN</td>\n",
       "      <td>NaN</td>\n",
       "      <td>NaN</td>\n",
       "      <td>NaT</td>\n",
       "      <td>NaT</td>\n",
       "      <td>NaT</td>\n",
       "      <td>NaN</td>\n",
       "      <td>NaN</td>\n",
       "      <td>NaT</td>\n",
       "      <td>NaN</td>\n",
       "      <td>NaN</td>\n",
       "      <td>NaT</td>\n",
       "      <td>NaT</td>\n",
       "    </tr>\n",
       "    <tr>\n",
       "      <th>382</th>\n",
       "      <td>1111112943</td>\n",
       "      <td>NaN</td>\n",
       "      <td>1111112943</td>\n",
       "      <td>NaN</td>\n",
       "      <td>1930-12-14</td>\n",
       "      <td>NaT</td>\n",
       "      <td>NaT</td>\n",
       "      <td>2008-02-04</td>\n",
       "      <td>glioblastome IV</td>\n",
       "      <td>4</td>\n",
       "      <td>NaN</td>\n",
       "      <td>NORMAL</td>\n",
       "      <td>NaN</td>\n",
       "      <td>NaN</td>\n",
       "      <td>NC</td>\n",
       "      <td>NON METHYLE</td>\n",
       "      <td>NaN</td>\n",
       "      <td>NaN</td>\n",
       "      <td>NaN</td>\n",
       "      <td>NaN</td>\n",
       "      <td>NaN</td>\n",
       "      <td>NaN</td>\n",
       "      <td>NaN</td>\n",
       "      <td>NaN</td>\n",
       "      <td>NaN</td>\n",
       "      <td>NaN</td>\n",
       "      <td>NaN</td>\n",
       "      <td>NaN</td>\n",
       "      <td>NaN</td>\n",
       "      <td>NaN</td>\n",
       "      <td>NaT</td>\n",
       "      <td>NaT</td>\n",
       "      <td>NaT</td>\n",
       "      <td>NaN</td>\n",
       "      <td>NaN</td>\n",
       "      <td>NaT</td>\n",
       "      <td>NaN</td>\n",
       "      <td>NaN</td>\n",
       "      <td>NaT</td>\n",
       "      <td>NaT</td>\n",
       "    </tr>\n",
       "    <tr>\n",
       "      <th>383</th>\n",
       "      <td>1111112944</td>\n",
       "      <td>NaN</td>\n",
       "      <td>1111112944</td>\n",
       "      <td>NaN</td>\n",
       "      <td>1927-07-13</td>\n",
       "      <td>NaT</td>\n",
       "      <td>NaT</td>\n",
       "      <td>2008-01-10</td>\n",
       "      <td>glioblastome IV</td>\n",
       "      <td>4</td>\n",
       "      <td>NaN</td>\n",
       "      <td>NORMAL</td>\n",
       "      <td>NaN</td>\n",
       "      <td>NaN</td>\n",
       "      <td>NC</td>\n",
       "      <td>METHYLE</td>\n",
       "      <td>NaN</td>\n",
       "      <td>NaN</td>\n",
       "      <td>NaN</td>\n",
       "      <td>NaN</td>\n",
       "      <td>NaN</td>\n",
       "      <td>NaN</td>\n",
       "      <td>NaN</td>\n",
       "      <td>NaN</td>\n",
       "      <td>NaN</td>\n",
       "      <td>NaN</td>\n",
       "      <td>NaN</td>\n",
       "      <td>NaN</td>\n",
       "      <td>NaN</td>\n",
       "      <td>NaN</td>\n",
       "      <td>NaT</td>\n",
       "      <td>NaT</td>\n",
       "      <td>NaT</td>\n",
       "      <td>NaN</td>\n",
       "      <td>NaN</td>\n",
       "      <td>NaT</td>\n",
       "      <td>NaN</td>\n",
       "      <td>NaN</td>\n",
       "      <td>NaT</td>\n",
       "      <td>NaT</td>\n",
       "    </tr>\n",
       "    <tr>\n",
       "      <th>...</th>\n",
       "      <td>...</td>\n",
       "      <td>...</td>\n",
       "      <td>...</td>\n",
       "      <td>...</td>\n",
       "      <td>...</td>\n",
       "      <td>...</td>\n",
       "      <td>...</td>\n",
       "      <td>...</td>\n",
       "      <td>...</td>\n",
       "      <td>...</td>\n",
       "      <td>...</td>\n",
       "      <td>...</td>\n",
       "      <td>...</td>\n",
       "      <td>...</td>\n",
       "      <td>...</td>\n",
       "      <td>...</td>\n",
       "      <td>...</td>\n",
       "      <td>...</td>\n",
       "      <td>...</td>\n",
       "      <td>...</td>\n",
       "      <td>...</td>\n",
       "      <td>...</td>\n",
       "      <td>...</td>\n",
       "      <td>...</td>\n",
       "      <td>...</td>\n",
       "      <td>...</td>\n",
       "      <td>...</td>\n",
       "      <td>...</td>\n",
       "      <td>...</td>\n",
       "      <td>...</td>\n",
       "      <td>...</td>\n",
       "      <td>...</td>\n",
       "      <td>...</td>\n",
       "      <td>...</td>\n",
       "      <td>...</td>\n",
       "      <td>...</td>\n",
       "      <td>...</td>\n",
       "      <td>...</td>\n",
       "      <td>...</td>\n",
       "      <td>...</td>\n",
       "    </tr>\n",
       "    <tr>\n",
       "      <th>8219</th>\n",
       "      <td>4911075721</td>\n",
       "      <td>NaN</td>\n",
       "      <td>4911075721</td>\n",
       "      <td>NaN</td>\n",
       "      <td>1975-05-25</td>\n",
       "      <td>NaT</td>\n",
       "      <td>NaT</td>\n",
       "      <td>2014-02-24</td>\n",
       "      <td>glioblastome IV</td>\n",
       "      <td>4</td>\n",
       "      <td>NC</td>\n",
       "      <td>NC</td>\n",
       "      <td>NaN</td>\n",
       "      <td>NaN</td>\n",
       "      <td>NC</td>\n",
       "      <td>NaN</td>\n",
       "      <td>NaN</td>\n",
       "      <td>NaN</td>\n",
       "      <td>NaN</td>\n",
       "      <td>NaN</td>\n",
       "      <td>NaN</td>\n",
       "      <td>NaN</td>\n",
       "      <td>NaN</td>\n",
       "      <td>NaN</td>\n",
       "      <td>NaN</td>\n",
       "      <td>NaN</td>\n",
       "      <td>NaN</td>\n",
       "      <td>NaN</td>\n",
       "      <td>NaN</td>\n",
       "      <td>NaN</td>\n",
       "      <td>NaT</td>\n",
       "      <td>NaT</td>\n",
       "      <td>NaT</td>\n",
       "      <td>NaN</td>\n",
       "      <td>NaN</td>\n",
       "      <td>NaT</td>\n",
       "      <td>NaN</td>\n",
       "      <td>NaN</td>\n",
       "      <td>NaT</td>\n",
       "      <td>NaT</td>\n",
       "    </tr>\n",
       "    <tr>\n",
       "      <th>8258</th>\n",
       "      <td>4911083602</td>\n",
       "      <td>NaN</td>\n",
       "      <td>4911083602</td>\n",
       "      <td>NaN</td>\n",
       "      <td>1935-12-31</td>\n",
       "      <td>NaT</td>\n",
       "      <td>NaT</td>\n",
       "      <td>2011-07-21</td>\n",
       "      <td>glioblastome IV</td>\n",
       "      <td>4</td>\n",
       "      <td>NC</td>\n",
       "      <td>NC</td>\n",
       "      <td>NaN</td>\n",
       "      <td>NaN</td>\n",
       "      <td>NC</td>\n",
       "      <td>NaN</td>\n",
       "      <td>NaN</td>\n",
       "      <td>NaN</td>\n",
       "      <td>NaN</td>\n",
       "      <td>NaN</td>\n",
       "      <td>NaN</td>\n",
       "      <td>NaN</td>\n",
       "      <td>NaN</td>\n",
       "      <td>NaN</td>\n",
       "      <td>NaN</td>\n",
       "      <td>NaN</td>\n",
       "      <td>NaN</td>\n",
       "      <td>NaN</td>\n",
       "      <td>NaN</td>\n",
       "      <td>NaN</td>\n",
       "      <td>NaT</td>\n",
       "      <td>NaT</td>\n",
       "      <td>NaT</td>\n",
       "      <td>NaN</td>\n",
       "      <td>NaN</td>\n",
       "      <td>NaT</td>\n",
       "      <td>NaN</td>\n",
       "      <td>NaN</td>\n",
       "      <td>NaT</td>\n",
       "      <td>NaT</td>\n",
       "    </tr>\n",
       "    <tr>\n",
       "      <th>8364</th>\n",
       "      <td>4911142880</td>\n",
       "      <td>NaN</td>\n",
       "      <td>4911142880</td>\n",
       "      <td>NaN</td>\n",
       "      <td>1985-07-01</td>\n",
       "      <td>NaT</td>\n",
       "      <td>NaT</td>\n",
       "      <td>2011-12-07</td>\n",
       "      <td>gliome mixte II</td>\n",
       "      <td>2</td>\n",
       "      <td>ALTERE</td>\n",
       "      <td>NORMAL</td>\n",
       "      <td>NaN</td>\n",
       "      <td>NaN</td>\n",
       "      <td>NC</td>\n",
       "      <td>NaN</td>\n",
       "      <td>NORMAL</td>\n",
       "      <td>NORMAL</td>\n",
       "      <td>NORMAL</td>\n",
       "      <td>DELETE</td>\n",
       "      <td>NaN</td>\n",
       "      <td>NON PERTE</td>\n",
       "      <td>NON PERTE</td>\n",
       "      <td>NON PERTE</td>\n",
       "      <td>PARTIEL</td>\n",
       "      <td>PARTIEL</td>\n",
       "      <td>NON PERTE</td>\n",
       "      <td>NaN</td>\n",
       "      <td>NaN</td>\n",
       "      <td>NaN</td>\n",
       "      <td>NaT</td>\n",
       "      <td>NaT</td>\n",
       "      <td>NaT</td>\n",
       "      <td>NaN</td>\n",
       "      <td>NaN</td>\n",
       "      <td>NaT</td>\n",
       "      <td>NaN</td>\n",
       "      <td>NaN</td>\n",
       "      <td>NaT</td>\n",
       "      <td>NaT</td>\n",
       "    </tr>\n",
       "    <tr>\n",
       "      <th>8383</th>\n",
       "      <td>5012001028</td>\n",
       "      <td>NaN</td>\n",
       "      <td>5012001028</td>\n",
       "      <td>NaN</td>\n",
       "      <td>1973-06-20</td>\n",
       "      <td>NaT</td>\n",
       "      <td>NaT</td>\n",
       "      <td>2012-02-23</td>\n",
       "      <td>glioblastome IV</td>\n",
       "      <td>4</td>\n",
       "      <td>NC</td>\n",
       "      <td>NC</td>\n",
       "      <td>NaN</td>\n",
       "      <td>NaN</td>\n",
       "      <td>NC</td>\n",
       "      <td>NaN</td>\n",
       "      <td>NaN</td>\n",
       "      <td>NaN</td>\n",
       "      <td>NaN</td>\n",
       "      <td>NaN</td>\n",
       "      <td>NaN</td>\n",
       "      <td>NaN</td>\n",
       "      <td>NaN</td>\n",
       "      <td>NaN</td>\n",
       "      <td>NaN</td>\n",
       "      <td>NaN</td>\n",
       "      <td>NaN</td>\n",
       "      <td>NaN</td>\n",
       "      <td>NaN</td>\n",
       "      <td>NaN</td>\n",
       "      <td>NaT</td>\n",
       "      <td>NaT</td>\n",
       "      <td>NaT</td>\n",
       "      <td>NaN</td>\n",
       "      <td>NaN</td>\n",
       "      <td>NaT</td>\n",
       "      <td>NaN</td>\n",
       "      <td>NaN</td>\n",
       "      <td>NaT</td>\n",
       "      <td>NaT</td>\n",
       "    </tr>\n",
       "    <tr>\n",
       "      <th>8426</th>\n",
       "      <td>5012024277</td>\n",
       "      <td>NaN</td>\n",
       "      <td>5012024277</td>\n",
       "      <td>NaN</td>\n",
       "      <td>1992-05-30</td>\n",
       "      <td>NaT</td>\n",
       "      <td>NaT</td>\n",
       "      <td>2012-03-08</td>\n",
       "      <td>astrocytome pilocytique</td>\n",
       "      <td>1</td>\n",
       "      <td>NC</td>\n",
       "      <td>NC</td>\n",
       "      <td>NaN</td>\n",
       "      <td>NaN</td>\n",
       "      <td>NC</td>\n",
       "      <td>NaN</td>\n",
       "      <td>NORMAL</td>\n",
       "      <td>NORMAL</td>\n",
       "      <td>NORMAL</td>\n",
       "      <td>NORMAL</td>\n",
       "      <td>NaN</td>\n",
       "      <td>NON PERTE</td>\n",
       "      <td>NON PERTE</td>\n",
       "      <td>NON PERTE</td>\n",
       "      <td>NON PERTE</td>\n",
       "      <td>NON PERTE</td>\n",
       "      <td>NON PERTE</td>\n",
       "      <td>NaN</td>\n",
       "      <td>NaN</td>\n",
       "      <td>NaN</td>\n",
       "      <td>NaT</td>\n",
       "      <td>NaT</td>\n",
       "      <td>NaT</td>\n",
       "      <td>NaN</td>\n",
       "      <td>NaN</td>\n",
       "      <td>NaT</td>\n",
       "      <td>NaN</td>\n",
       "      <td>NaN</td>\n",
       "      <td>NaT</td>\n",
       "      <td>NaT</td>\n",
       "    </tr>\n",
       "    <tr>\n",
       "      <th>8430</th>\n",
       "      <td>5012027982</td>\n",
       "      <td>NaN</td>\n",
       "      <td>5012027982</td>\n",
       "      <td>NaN</td>\n",
       "      <td>1957-10-02</td>\n",
       "      <td>NaT</td>\n",
       "      <td>NaT</td>\n",
       "      <td>2012-04-12</td>\n",
       "      <td>glioblastome IV</td>\n",
       "      <td>4</td>\n",
       "      <td>NC</td>\n",
       "      <td>NC</td>\n",
       "      <td>NaN</td>\n",
       "      <td>NaN</td>\n",
       "      <td>NC</td>\n",
       "      <td>NaN</td>\n",
       "      <td>NaN</td>\n",
       "      <td>NaN</td>\n",
       "      <td>NaN</td>\n",
       "      <td>NaN</td>\n",
       "      <td>NaN</td>\n",
       "      <td>NaN</td>\n",
       "      <td>NaN</td>\n",
       "      <td>NaN</td>\n",
       "      <td>NaN</td>\n",
       "      <td>NaN</td>\n",
       "      <td>NaN</td>\n",
       "      <td>NaN</td>\n",
       "      <td>NaN</td>\n",
       "      <td>NaN</td>\n",
       "      <td>NaT</td>\n",
       "      <td>NaT</td>\n",
       "      <td>NaT</td>\n",
       "      <td>NaN</td>\n",
       "      <td>NaN</td>\n",
       "      <td>NaT</td>\n",
       "      <td>NaN</td>\n",
       "      <td>NaN</td>\n",
       "      <td>NaT</td>\n",
       "      <td>NaT</td>\n",
       "    </tr>\n",
       "    <tr>\n",
       "      <th>8437</th>\n",
       "      <td>5012029131</td>\n",
       "      <td>NaN</td>\n",
       "      <td>5012029131</td>\n",
       "      <td>NaN</td>\n",
       "      <td>1948-04-26</td>\n",
       "      <td>NaT</td>\n",
       "      <td>NaT</td>\n",
       "      <td>2012-03-09</td>\n",
       "      <td>glioblastome IV</td>\n",
       "      <td>4</td>\n",
       "      <td>NORMAL</td>\n",
       "      <td>NC</td>\n",
       "      <td>NORMAL</td>\n",
       "      <td>NORMAL</td>\n",
       "      <td>NC</td>\n",
       "      <td>NaN</td>\n",
       "      <td>NaN</td>\n",
       "      <td>NaN</td>\n",
       "      <td>NaN</td>\n",
       "      <td>NaN</td>\n",
       "      <td>NaN</td>\n",
       "      <td>NaN</td>\n",
       "      <td>NaN</td>\n",
       "      <td>NaN</td>\n",
       "      <td>NaN</td>\n",
       "      <td>NaN</td>\n",
       "      <td>NaN</td>\n",
       "      <td>sus-T hémisp+profond</td>\n",
       "      <td>G</td>\n",
       "      <td>NaN</td>\n",
       "      <td>1948-04-26</td>\n",
       "      <td>2013-08-27</td>\n",
       "      <td>NaT</td>\n",
       "      <td>glioblastome IV</td>\n",
       "      <td>4.0</td>\n",
       "      <td>2012-03-09</td>\n",
       "      <td>TT ini</td>\n",
       "      <td>biopsie</td>\n",
       "      <td>2012-05-10</td>\n",
       "      <td>2012-06-30</td>\n",
       "    </tr>\n",
       "    <tr>\n",
       "      <th>8501</th>\n",
       "      <td>5012060843</td>\n",
       "      <td>NaN</td>\n",
       "      <td>5012060843</td>\n",
       "      <td>NaN</td>\n",
       "      <td>1957-06-06</td>\n",
       "      <td>NaT</td>\n",
       "      <td>NaT</td>\n",
       "      <td>2012-05-31</td>\n",
       "      <td>glioblastome IV</td>\n",
       "      <td>4</td>\n",
       "      <td>NC</td>\n",
       "      <td>NC</td>\n",
       "      <td>NaN</td>\n",
       "      <td>NaN</td>\n",
       "      <td>NC</td>\n",
       "      <td>NaN</td>\n",
       "      <td>NaN</td>\n",
       "      <td>NaN</td>\n",
       "      <td>NaN</td>\n",
       "      <td>NaN</td>\n",
       "      <td>NaN</td>\n",
       "      <td>NaN</td>\n",
       "      <td>NaN</td>\n",
       "      <td>NaN</td>\n",
       "      <td>NaN</td>\n",
       "      <td>NaN</td>\n",
       "      <td>NaN</td>\n",
       "      <td>NaN</td>\n",
       "      <td>NaN</td>\n",
       "      <td>NaN</td>\n",
       "      <td>NaT</td>\n",
       "      <td>NaT</td>\n",
       "      <td>NaT</td>\n",
       "      <td>NaN</td>\n",
       "      <td>NaN</td>\n",
       "      <td>NaT</td>\n",
       "      <td>NaN</td>\n",
       "      <td>NaN</td>\n",
       "      <td>NaT</td>\n",
       "      <td>NaT</td>\n",
       "    </tr>\n",
       "    <tr>\n",
       "      <th>8508</th>\n",
       "      <td>5012063569</td>\n",
       "      <td>NaN</td>\n",
       "      <td>5012063569</td>\n",
       "      <td>NaN</td>\n",
       "      <td>1940-05-22</td>\n",
       "      <td>NaT</td>\n",
       "      <td>NaT</td>\n",
       "      <td>2012-11-13</td>\n",
       "      <td>glioblastome IV</td>\n",
       "      <td>4</td>\n",
       "      <td>NC</td>\n",
       "      <td>NC</td>\n",
       "      <td>NaN</td>\n",
       "      <td>NaN</td>\n",
       "      <td>NC</td>\n",
       "      <td>NaN</td>\n",
       "      <td>NaN</td>\n",
       "      <td>NaN</td>\n",
       "      <td>NaN</td>\n",
       "      <td>NaN</td>\n",
       "      <td>NaN</td>\n",
       "      <td>NaN</td>\n",
       "      <td>NaN</td>\n",
       "      <td>NaN</td>\n",
       "      <td>NaN</td>\n",
       "      <td>NaN</td>\n",
       "      <td>NaN</td>\n",
       "      <td>NaN</td>\n",
       "      <td>NaN</td>\n",
       "      <td>NaN</td>\n",
       "      <td>NaT</td>\n",
       "      <td>NaT</td>\n",
       "      <td>NaT</td>\n",
       "      <td>NaN</td>\n",
       "      <td>NaN</td>\n",
       "      <td>NaT</td>\n",
       "      <td>NaN</td>\n",
       "      <td>NaN</td>\n",
       "      <td>NaT</td>\n",
       "      <td>NaT</td>\n",
       "    </tr>\n",
       "    <tr>\n",
       "      <th>8550</th>\n",
       "      <td>5012086066</td>\n",
       "      <td>NaN</td>\n",
       "      <td>5012086066</td>\n",
       "      <td>NaN</td>\n",
       "      <td>1976-06-09</td>\n",
       "      <td>NaT</td>\n",
       "      <td>NaT</td>\n",
       "      <td>2012-10-30</td>\n",
       "      <td>oligo. bas grade II</td>\n",
       "      <td>2</td>\n",
       "      <td>ALTERE</td>\n",
       "      <td>NORMAL</td>\n",
       "      <td>NaN</td>\n",
       "      <td>NaN</td>\n",
       "      <td>NC</td>\n",
       "      <td>NaN</td>\n",
       "      <td>NORMAL</td>\n",
       "      <td>NORMAL</td>\n",
       "      <td>NORMAL</td>\n",
       "      <td>NORMAL</td>\n",
       "      <td>NaN</td>\n",
       "      <td>PERDU</td>\n",
       "      <td>PERDU</td>\n",
       "      <td>NON PERTE</td>\n",
       "      <td>NON PERTE</td>\n",
       "      <td>NON PERTE</td>\n",
       "      <td>NON PERTE</td>\n",
       "      <td>NaN</td>\n",
       "      <td>NaN</td>\n",
       "      <td>NaN</td>\n",
       "      <td>NaT</td>\n",
       "      <td>NaT</td>\n",
       "      <td>NaT</td>\n",
       "      <td>NaN</td>\n",
       "      <td>NaN</td>\n",
       "      <td>NaT</td>\n",
       "      <td>NaN</td>\n",
       "      <td>NaN</td>\n",
       "      <td>NaT</td>\n",
       "      <td>NaT</td>\n",
       "    </tr>\n",
       "    <tr>\n",
       "      <th>8586</th>\n",
       "      <td>5012099578</td>\n",
       "      <td>NaN</td>\n",
       "      <td>5012099578</td>\n",
       "      <td>NaN</td>\n",
       "      <td>1948-08-12</td>\n",
       "      <td>NaT</td>\n",
       "      <td>NaT</td>\n",
       "      <td>2012-09-05</td>\n",
       "      <td>glioblastome IV</td>\n",
       "      <td>4</td>\n",
       "      <td>NC</td>\n",
       "      <td>NC</td>\n",
       "      <td>NaN</td>\n",
       "      <td>NaN</td>\n",
       "      <td>NC</td>\n",
       "      <td>NaN</td>\n",
       "      <td>NaN</td>\n",
       "      <td>NaN</td>\n",
       "      <td>NaN</td>\n",
       "      <td>NaN</td>\n",
       "      <td>NaN</td>\n",
       "      <td>NaN</td>\n",
       "      <td>NaN</td>\n",
       "      <td>NaN</td>\n",
       "      <td>NaN</td>\n",
       "      <td>NaN</td>\n",
       "      <td>NaN</td>\n",
       "      <td>NaN</td>\n",
       "      <td>NaN</td>\n",
       "      <td>NaN</td>\n",
       "      <td>NaT</td>\n",
       "      <td>NaT</td>\n",
       "      <td>NaT</td>\n",
       "      <td>NaN</td>\n",
       "      <td>NaN</td>\n",
       "      <td>NaT</td>\n",
       "      <td>NaN</td>\n",
       "      <td>NaN</td>\n",
       "      <td>NaT</td>\n",
       "      <td>NaT</td>\n",
       "    </tr>\n",
       "    <tr>\n",
       "      <th>8615</th>\n",
       "      <td>5012113543</td>\n",
       "      <td>NaN</td>\n",
       "      <td>5012113543</td>\n",
       "      <td>NaN</td>\n",
       "      <td>1988-02-17</td>\n",
       "      <td>NaT</td>\n",
       "      <td>NaT</td>\n",
       "      <td>2012-10-02</td>\n",
       "      <td>astrocytome bas grade II</td>\n",
       "      <td>2</td>\n",
       "      <td>NC</td>\n",
       "      <td>NC</td>\n",
       "      <td>NORMAL</td>\n",
       "      <td>NORMAL</td>\n",
       "      <td>NC</td>\n",
       "      <td>NaN</td>\n",
       "      <td>NORMAL</td>\n",
       "      <td>NORMAL</td>\n",
       "      <td>NORMAL</td>\n",
       "      <td>NORMAL</td>\n",
       "      <td>NaN</td>\n",
       "      <td>NON PERTE</td>\n",
       "      <td>NON PERTE</td>\n",
       "      <td>NON PERTE</td>\n",
       "      <td>NON PERTE</td>\n",
       "      <td>NON PERTE</td>\n",
       "      <td>NON PERTE</td>\n",
       "      <td>NaN</td>\n",
       "      <td>NaN</td>\n",
       "      <td>NaN</td>\n",
       "      <td>NaT</td>\n",
       "      <td>NaT</td>\n",
       "      <td>NaT</td>\n",
       "      <td>NaN</td>\n",
       "      <td>NaN</td>\n",
       "      <td>NaT</td>\n",
       "      <td>NaN</td>\n",
       "      <td>NaN</td>\n",
       "      <td>NaT</td>\n",
       "      <td>NaT</td>\n",
       "    </tr>\n",
       "    <tr>\n",
       "      <th>8632</th>\n",
       "      <td>5012123282</td>\n",
       "      <td>NaN</td>\n",
       "      <td>5012123282</td>\n",
       "      <td>NaN</td>\n",
       "      <td>1989-10-30</td>\n",
       "      <td>NaT</td>\n",
       "      <td>NaT</td>\n",
       "      <td>2013-06-04</td>\n",
       "      <td>gangliogliome</td>\n",
       "      <td>1</td>\n",
       "      <td>NC</td>\n",
       "      <td>NC</td>\n",
       "      <td>NaN</td>\n",
       "      <td>NaN</td>\n",
       "      <td>NC</td>\n",
       "      <td>NaN</td>\n",
       "      <td>NORMAL</td>\n",
       "      <td>NORMAL</td>\n",
       "      <td>NORMAL</td>\n",
       "      <td>NORMAL</td>\n",
       "      <td>NaN</td>\n",
       "      <td>NON PERTE</td>\n",
       "      <td>NON PERTE</td>\n",
       "      <td>PERDU</td>\n",
       "      <td>PERDU</td>\n",
       "      <td>NON PERTE</td>\n",
       "      <td>NON PERTE</td>\n",
       "      <td>NaN</td>\n",
       "      <td>NaN</td>\n",
       "      <td>NaN</td>\n",
       "      <td>NaT</td>\n",
       "      <td>NaT</td>\n",
       "      <td>NaT</td>\n",
       "      <td>NaN</td>\n",
       "      <td>NaN</td>\n",
       "      <td>NaT</td>\n",
       "      <td>NaN</td>\n",
       "      <td>NaN</td>\n",
       "      <td>NaT</td>\n",
       "      <td>NaT</td>\n",
       "    </tr>\n",
       "    <tr>\n",
       "      <th>8637</th>\n",
       "      <td>5012123984</td>\n",
       "      <td>1.0</td>\n",
       "      <td>5012123984</td>\n",
       "      <td>NaN</td>\n",
       "      <td>1958-07-01</td>\n",
       "      <td>NaT</td>\n",
       "      <td>NaT</td>\n",
       "      <td>2012-10-25</td>\n",
       "      <td>glioblastome IV</td>\n",
       "      <td>4</td>\n",
       "      <td>NC</td>\n",
       "      <td>NC</td>\n",
       "      <td>NaN</td>\n",
       "      <td>NaN</td>\n",
       "      <td>NC</td>\n",
       "      <td>NaN</td>\n",
       "      <td>NaN</td>\n",
       "      <td>NaN</td>\n",
       "      <td>NaN</td>\n",
       "      <td>NaN</td>\n",
       "      <td>NaN</td>\n",
       "      <td>NaN</td>\n",
       "      <td>NaN</td>\n",
       "      <td>NaN</td>\n",
       "      <td>NaN</td>\n",
       "      <td>NaN</td>\n",
       "      <td>NaN</td>\n",
       "      <td>NaN</td>\n",
       "      <td>NaN</td>\n",
       "      <td>NaN</td>\n",
       "      <td>NaT</td>\n",
       "      <td>NaT</td>\n",
       "      <td>NaT</td>\n",
       "      <td>NaN</td>\n",
       "      <td>NaN</td>\n",
       "      <td>NaT</td>\n",
       "      <td>NaN</td>\n",
       "      <td>NaN</td>\n",
       "      <td>NaT</td>\n",
       "      <td>NaT</td>\n",
       "    </tr>\n",
       "    <tr>\n",
       "      <th>8665</th>\n",
       "      <td>5012143180</td>\n",
       "      <td>NaN</td>\n",
       "      <td>5012143180</td>\n",
       "      <td>NaN</td>\n",
       "      <td>1960-06-12</td>\n",
       "      <td>NaT</td>\n",
       "      <td>NaT</td>\n",
       "      <td>2012-12-19</td>\n",
       "      <td>glioblastome IV</td>\n",
       "      <td>4</td>\n",
       "      <td>NC</td>\n",
       "      <td>NC</td>\n",
       "      <td>NaN</td>\n",
       "      <td>NaN</td>\n",
       "      <td>NC</td>\n",
       "      <td>NaN</td>\n",
       "      <td>NaN</td>\n",
       "      <td>NaN</td>\n",
       "      <td>NaN</td>\n",
       "      <td>NaN</td>\n",
       "      <td>NaN</td>\n",
       "      <td>NaN</td>\n",
       "      <td>NaN</td>\n",
       "      <td>NaN</td>\n",
       "      <td>NaN</td>\n",
       "      <td>NaN</td>\n",
       "      <td>NaN</td>\n",
       "      <td>NaN</td>\n",
       "      <td>NaN</td>\n",
       "      <td>NaN</td>\n",
       "      <td>NaT</td>\n",
       "      <td>NaT</td>\n",
       "      <td>NaT</td>\n",
       "      <td>NaN</td>\n",
       "      <td>NaN</td>\n",
       "      <td>NaT</td>\n",
       "      <td>NaN</td>\n",
       "      <td>NaN</td>\n",
       "      <td>NaT</td>\n",
       "      <td>NaT</td>\n",
       "    </tr>\n",
       "    <tr>\n",
       "      <th>8666</th>\n",
       "      <td>5012143406</td>\n",
       "      <td>NaN</td>\n",
       "      <td>5012143406</td>\n",
       "      <td>NaN</td>\n",
       "      <td>1989-11-23</td>\n",
       "      <td>NaT</td>\n",
       "      <td>NaT</td>\n",
       "      <td>2014-03-14</td>\n",
       "      <td>astrocytome pilocytique</td>\n",
       "      <td>1</td>\n",
       "      <td>NC</td>\n",
       "      <td>NC</td>\n",
       "      <td>NaN</td>\n",
       "      <td>NaN</td>\n",
       "      <td>NC</td>\n",
       "      <td>NaN</td>\n",
       "      <td>NaN</td>\n",
       "      <td>NaN</td>\n",
       "      <td>NaN</td>\n",
       "      <td>NaN</td>\n",
       "      <td>NaN</td>\n",
       "      <td>NaN</td>\n",
       "      <td>NaN</td>\n",
       "      <td>NaN</td>\n",
       "      <td>NaN</td>\n",
       "      <td>NaN</td>\n",
       "      <td>NaN</td>\n",
       "      <td>NaN</td>\n",
       "      <td>NaN</td>\n",
       "      <td>NaN</td>\n",
       "      <td>NaT</td>\n",
       "      <td>NaT</td>\n",
       "      <td>NaT</td>\n",
       "      <td>NaN</td>\n",
       "      <td>NaN</td>\n",
       "      <td>NaT</td>\n",
       "      <td>NaN</td>\n",
       "      <td>NaN</td>\n",
       "      <td>NaT</td>\n",
       "      <td>NaT</td>\n",
       "    </tr>\n",
       "    <tr>\n",
       "      <th>8678</th>\n",
       "      <td>5113002971</td>\n",
       "      <td>1.0</td>\n",
       "      <td>5113002971</td>\n",
       "      <td>NaN</td>\n",
       "      <td>1977-12-07</td>\n",
       "      <td>NaT</td>\n",
       "      <td>NaT</td>\n",
       "      <td>2013-04-15</td>\n",
       "      <td>gliome mixte ana III</td>\n",
       "      <td>3</td>\n",
       "      <td>ALTERE</td>\n",
       "      <td>NORMAL</td>\n",
       "      <td>NORMAL</td>\n",
       "      <td>NORMAL</td>\n",
       "      <td>NC</td>\n",
       "      <td>NaN</td>\n",
       "      <td>NORMAL</td>\n",
       "      <td>NORMAL</td>\n",
       "      <td>NORMAL</td>\n",
       "      <td>NORMAL</td>\n",
       "      <td>NaN</td>\n",
       "      <td>NON PERTE</td>\n",
       "      <td>NON PERTE</td>\n",
       "      <td>NON PERTE</td>\n",
       "      <td>NON PERTE</td>\n",
       "      <td>PARTIEL</td>\n",
       "      <td>NON PERTE</td>\n",
       "      <td>sus-T hémisp</td>\n",
       "      <td>D</td>\n",
       "      <td>NaN</td>\n",
       "      <td>1977-12-07</td>\n",
       "      <td>2016-08-23</td>\n",
       "      <td>NaT</td>\n",
       "      <td>gliome mixte ana III</td>\n",
       "      <td>3.0</td>\n",
       "      <td>2013-04-15</td>\n",
       "      <td>TT ini</td>\n",
       "      <td>NaN</td>\n",
       "      <td>NaT</td>\n",
       "      <td>NaT</td>\n",
       "    </tr>\n",
       "    <tr>\n",
       "      <th>8705</th>\n",
       "      <td>5113019809</td>\n",
       "      <td>NaN</td>\n",
       "      <td>5113019809</td>\n",
       "      <td>NaN</td>\n",
       "      <td>1938-01-01</td>\n",
       "      <td>NaT</td>\n",
       "      <td>NaT</td>\n",
       "      <td>2013-03-05</td>\n",
       "      <td>glioblastome IV</td>\n",
       "      <td>4</td>\n",
       "      <td>NC</td>\n",
       "      <td>NC</td>\n",
       "      <td>NaN</td>\n",
       "      <td>NaN</td>\n",
       "      <td>NC</td>\n",
       "      <td>NaN</td>\n",
       "      <td>NaN</td>\n",
       "      <td>NaN</td>\n",
       "      <td>NaN</td>\n",
       "      <td>NaN</td>\n",
       "      <td>NaN</td>\n",
       "      <td>NaN</td>\n",
       "      <td>NaN</td>\n",
       "      <td>NaN</td>\n",
       "      <td>NaN</td>\n",
       "      <td>NaN</td>\n",
       "      <td>NaN</td>\n",
       "      <td>NaN</td>\n",
       "      <td>NaN</td>\n",
       "      <td>NaN</td>\n",
       "      <td>NaT</td>\n",
       "      <td>NaT</td>\n",
       "      <td>NaT</td>\n",
       "      <td>NaN</td>\n",
       "      <td>NaN</td>\n",
       "      <td>NaT</td>\n",
       "      <td>NaN</td>\n",
       "      <td>NaN</td>\n",
       "      <td>NaT</td>\n",
       "      <td>NaT</td>\n",
       "    </tr>\n",
       "    <tr>\n",
       "      <th>8712</th>\n",
       "      <td>5113023447</td>\n",
       "      <td>NaN</td>\n",
       "      <td>5113023447</td>\n",
       "      <td>NaN</td>\n",
       "      <td>1947-12-24</td>\n",
       "      <td>NaT</td>\n",
       "      <td>NaT</td>\n",
       "      <td>2013-02-25</td>\n",
       "      <td>glioblastome IV</td>\n",
       "      <td>4</td>\n",
       "      <td>NC</td>\n",
       "      <td>NC</td>\n",
       "      <td>NaN</td>\n",
       "      <td>NaN</td>\n",
       "      <td>NC</td>\n",
       "      <td>NaN</td>\n",
       "      <td>NaN</td>\n",
       "      <td>NaN</td>\n",
       "      <td>NaN</td>\n",
       "      <td>NaN</td>\n",
       "      <td>NaN</td>\n",
       "      <td>NaN</td>\n",
       "      <td>NaN</td>\n",
       "      <td>NaN</td>\n",
       "      <td>NaN</td>\n",
       "      <td>NaN</td>\n",
       "      <td>NaN</td>\n",
       "      <td>NaN</td>\n",
       "      <td>NaN</td>\n",
       "      <td>NaN</td>\n",
       "      <td>NaT</td>\n",
       "      <td>NaT</td>\n",
       "      <td>NaT</td>\n",
       "      <td>NaN</td>\n",
       "      <td>NaN</td>\n",
       "      <td>NaT</td>\n",
       "      <td>NaN</td>\n",
       "      <td>NaN</td>\n",
       "      <td>NaT</td>\n",
       "      <td>NaT</td>\n",
       "    </tr>\n",
       "    <tr>\n",
       "      <th>8748</th>\n",
       "      <td>5113039083</td>\n",
       "      <td>NaN</td>\n",
       "      <td>5113039083</td>\n",
       "      <td>NaN</td>\n",
       "      <td>1953-11-17</td>\n",
       "      <td>NaT</td>\n",
       "      <td>NaT</td>\n",
       "      <td>2013-04-19</td>\n",
       "      <td>glioblastome IV</td>\n",
       "      <td>4</td>\n",
       "      <td>NC</td>\n",
       "      <td>NC</td>\n",
       "      <td>NaN</td>\n",
       "      <td>NaN</td>\n",
       "      <td>NC</td>\n",
       "      <td>NaN</td>\n",
       "      <td>NaN</td>\n",
       "      <td>NaN</td>\n",
       "      <td>NaN</td>\n",
       "      <td>NaN</td>\n",
       "      <td>NaN</td>\n",
       "      <td>NaN</td>\n",
       "      <td>NaN</td>\n",
       "      <td>NaN</td>\n",
       "      <td>NaN</td>\n",
       "      <td>NaN</td>\n",
       "      <td>NaN</td>\n",
       "      <td>NaN</td>\n",
       "      <td>NaN</td>\n",
       "      <td>NaN</td>\n",
       "      <td>NaT</td>\n",
       "      <td>NaT</td>\n",
       "      <td>NaT</td>\n",
       "      <td>NaN</td>\n",
       "      <td>NaN</td>\n",
       "      <td>NaT</td>\n",
       "      <td>NaN</td>\n",
       "      <td>NaN</td>\n",
       "      <td>NaT</td>\n",
       "      <td>NaT</td>\n",
       "    </tr>\n",
       "    <tr>\n",
       "      <th>8792</th>\n",
       "      <td>5113064396</td>\n",
       "      <td>1.0</td>\n",
       "      <td>5113064396</td>\n",
       "      <td>NaN</td>\n",
       "      <td>1973-12-28</td>\n",
       "      <td>NaT</td>\n",
       "      <td>NaT</td>\n",
       "      <td>2013-06-14</td>\n",
       "      <td>gliome mixte ana III</td>\n",
       "      <td>3</td>\n",
       "      <td>ALTERE</td>\n",
       "      <td>NORMAL</td>\n",
       "      <td>NaN</td>\n",
       "      <td>NaN</td>\n",
       "      <td>NC</td>\n",
       "      <td>NaN</td>\n",
       "      <td>NORMAL</td>\n",
       "      <td>NORMAL</td>\n",
       "      <td>NORMAL</td>\n",
       "      <td>NORMAL</td>\n",
       "      <td>NaN</td>\n",
       "      <td>NON PERTE</td>\n",
       "      <td>PARTIEL</td>\n",
       "      <td>NON PERTE</td>\n",
       "      <td>NON PERTE</td>\n",
       "      <td>NON PERTE</td>\n",
       "      <td>NON PERTE</td>\n",
       "      <td>NaN</td>\n",
       "      <td>NaN</td>\n",
       "      <td>NaN</td>\n",
       "      <td>NaT</td>\n",
       "      <td>NaT</td>\n",
       "      <td>NaT</td>\n",
       "      <td>NaN</td>\n",
       "      <td>NaN</td>\n",
       "      <td>NaT</td>\n",
       "      <td>NaN</td>\n",
       "      <td>NaN</td>\n",
       "      <td>NaT</td>\n",
       "      <td>NaT</td>\n",
       "    </tr>\n",
       "    <tr>\n",
       "      <th>8862</th>\n",
       "      <td>5113106769</td>\n",
       "      <td>NaN</td>\n",
       "      <td>5113106769</td>\n",
       "      <td>NaN</td>\n",
       "      <td>1979-09-23</td>\n",
       "      <td>NaT</td>\n",
       "      <td>NaT</td>\n",
       "      <td>2013-09-26</td>\n",
       "      <td>gangliogliome</td>\n",
       "      <td>1</td>\n",
       "      <td>NC</td>\n",
       "      <td>NC</td>\n",
       "      <td>NaN</td>\n",
       "      <td>NaN</td>\n",
       "      <td>NC</td>\n",
       "      <td>NaN</td>\n",
       "      <td>NORMAL</td>\n",
       "      <td>NORMAL</td>\n",
       "      <td>NORMAL</td>\n",
       "      <td>NORMAL</td>\n",
       "      <td>NaN</td>\n",
       "      <td>NON PERTE</td>\n",
       "      <td>PERDU</td>\n",
       "      <td>NON PERTE</td>\n",
       "      <td>NON PERTE</td>\n",
       "      <td>NON PERTE</td>\n",
       "      <td>NON PERTE</td>\n",
       "      <td>NaN</td>\n",
       "      <td>NaN</td>\n",
       "      <td>NaN</td>\n",
       "      <td>NaT</td>\n",
       "      <td>NaT</td>\n",
       "      <td>NaT</td>\n",
       "      <td>NaN</td>\n",
       "      <td>NaN</td>\n",
       "      <td>NaT</td>\n",
       "      <td>NaN</td>\n",
       "      <td>NaN</td>\n",
       "      <td>NaT</td>\n",
       "      <td>NaT</td>\n",
       "    </tr>\n",
       "    <tr>\n",
       "      <th>8896</th>\n",
       "      <td>5113128326</td>\n",
       "      <td>1.0</td>\n",
       "      <td>5113128326</td>\n",
       "      <td>NaN</td>\n",
       "      <td>1970-01-01</td>\n",
       "      <td>NaT</td>\n",
       "      <td>NaT</td>\n",
       "      <td>2013-12-19</td>\n",
       "      <td>gliome mixte ana III</td>\n",
       "      <td>3</td>\n",
       "      <td>ALTERE</td>\n",
       "      <td>NORMAL</td>\n",
       "      <td>NaN</td>\n",
       "      <td>NaN</td>\n",
       "      <td>NC</td>\n",
       "      <td>NaN</td>\n",
       "      <td>NORMAL</td>\n",
       "      <td>NORMAL</td>\n",
       "      <td>NORMAL</td>\n",
       "      <td>NORMAL</td>\n",
       "      <td>NaN</td>\n",
       "      <td>NON PERTE</td>\n",
       "      <td>NON PERTE</td>\n",
       "      <td>NON PERTE</td>\n",
       "      <td>NON PERTE</td>\n",
       "      <td>NON PERTE</td>\n",
       "      <td>NON PERTE</td>\n",
       "      <td>NaN</td>\n",
       "      <td>NaN</td>\n",
       "      <td>NaN</td>\n",
       "      <td>NaT</td>\n",
       "      <td>NaT</td>\n",
       "      <td>NaT</td>\n",
       "      <td>NaN</td>\n",
       "      <td>NaN</td>\n",
       "      <td>NaT</td>\n",
       "      <td>NaN</td>\n",
       "      <td>NaN</td>\n",
       "      <td>NaT</td>\n",
       "      <td>NaT</td>\n",
       "    </tr>\n",
       "    <tr>\n",
       "      <th>8908</th>\n",
       "      <td>5113133748</td>\n",
       "      <td>1.0</td>\n",
       "      <td>5113133748</td>\n",
       "      <td>NaN</td>\n",
       "      <td>1975-02-02</td>\n",
       "      <td>NaT</td>\n",
       "      <td>NaT</td>\n",
       "      <td>2014-01-21</td>\n",
       "      <td>gliome mixte II</td>\n",
       "      <td>2</td>\n",
       "      <td>ALTERE</td>\n",
       "      <td>NORMAL</td>\n",
       "      <td>NaN</td>\n",
       "      <td>NaN</td>\n",
       "      <td>NC</td>\n",
       "      <td>NaN</td>\n",
       "      <td>NORMAL</td>\n",
       "      <td>NORMAL</td>\n",
       "      <td>NORMAL</td>\n",
       "      <td>NORMAL</td>\n",
       "      <td>NaN</td>\n",
       "      <td>PERDU</td>\n",
       "      <td>PERDU</td>\n",
       "      <td>NON PERTE</td>\n",
       "      <td>NON PERTE</td>\n",
       "      <td>NON PERTE</td>\n",
       "      <td>NON PERTE</td>\n",
       "      <td>NaN</td>\n",
       "      <td>NaN</td>\n",
       "      <td>NaN</td>\n",
       "      <td>NaT</td>\n",
       "      <td>NaT</td>\n",
       "      <td>NaT</td>\n",
       "      <td>NaN</td>\n",
       "      <td>NaN</td>\n",
       "      <td>NaT</td>\n",
       "      <td>NaN</td>\n",
       "      <td>NaN</td>\n",
       "      <td>NaT</td>\n",
       "      <td>NaT</td>\n",
       "    </tr>\n",
       "    <tr>\n",
       "      <th>8953</th>\n",
       "      <td>5214008137</td>\n",
       "      <td>NaN</td>\n",
       "      <td>5214008137</td>\n",
       "      <td>NaN</td>\n",
       "      <td>1993-02-22</td>\n",
       "      <td>NaT</td>\n",
       "      <td>NaT</td>\n",
       "      <td>2014-02-11</td>\n",
       "      <td>gangliogliome</td>\n",
       "      <td>1</td>\n",
       "      <td>NC</td>\n",
       "      <td>NC</td>\n",
       "      <td>NaN</td>\n",
       "      <td>NaN</td>\n",
       "      <td>NC</td>\n",
       "      <td>NaN</td>\n",
       "      <td>NORMAL</td>\n",
       "      <td>NORMAL</td>\n",
       "      <td>NORMAL</td>\n",
       "      <td>NORMAL</td>\n",
       "      <td>NaN</td>\n",
       "      <td>PERDU</td>\n",
       "      <td>NON PERTE</td>\n",
       "      <td>NON PERTE</td>\n",
       "      <td>NON PERTE</td>\n",
       "      <td>NON PERTE</td>\n",
       "      <td>NON PERTE</td>\n",
       "      <td>NaN</td>\n",
       "      <td>NaN</td>\n",
       "      <td>NaN</td>\n",
       "      <td>NaT</td>\n",
       "      <td>NaT</td>\n",
       "      <td>NaT</td>\n",
       "      <td>NaN</td>\n",
       "      <td>NaN</td>\n",
       "      <td>NaT</td>\n",
       "      <td>NaN</td>\n",
       "      <td>NaN</td>\n",
       "      <td>NaT</td>\n",
       "      <td>NaT</td>\n",
       "    </tr>\n",
       "    <tr>\n",
       "      <th>8961</th>\n",
       "      <td>5214013687</td>\n",
       "      <td>NaN</td>\n",
       "      <td>5214013687</td>\n",
       "      <td>NaN</td>\n",
       "      <td>1980-09-10</td>\n",
       "      <td>NaT</td>\n",
       "      <td>NaT</td>\n",
       "      <td>2014-02-13</td>\n",
       "      <td>astrocytome bas grade II</td>\n",
       "      <td>2</td>\n",
       "      <td>ALTERE</td>\n",
       "      <td>NORMAL</td>\n",
       "      <td>NaN</td>\n",
       "      <td>NaN</td>\n",
       "      <td>NC</td>\n",
       "      <td>NaN</td>\n",
       "      <td>NaN</td>\n",
       "      <td>NaN</td>\n",
       "      <td>NaN</td>\n",
       "      <td>NaN</td>\n",
       "      <td>NaN</td>\n",
       "      <td>NaN</td>\n",
       "      <td>NaN</td>\n",
       "      <td>NaN</td>\n",
       "      <td>NaN</td>\n",
       "      <td>NaN</td>\n",
       "      <td>NaN</td>\n",
       "      <td>NaN</td>\n",
       "      <td>NaN</td>\n",
       "      <td>NaN</td>\n",
       "      <td>NaT</td>\n",
       "      <td>NaT</td>\n",
       "      <td>NaT</td>\n",
       "      <td>NaN</td>\n",
       "      <td>NaN</td>\n",
       "      <td>NaT</td>\n",
       "      <td>NaN</td>\n",
       "      <td>NaN</td>\n",
       "      <td>NaT</td>\n",
       "      <td>NaT</td>\n",
       "    </tr>\n",
       "    <tr>\n",
       "      <th>9039</th>\n",
       "      <td>5214073235</td>\n",
       "      <td>NaN</td>\n",
       "      <td>5214073235</td>\n",
       "      <td>NaN</td>\n",
       "      <td>1948-06-24</td>\n",
       "      <td>NaT</td>\n",
       "      <td>NaT</td>\n",
       "      <td>2014-07-09</td>\n",
       "      <td>glioblastome IV</td>\n",
       "      <td>4</td>\n",
       "      <td>NC</td>\n",
       "      <td>NC</td>\n",
       "      <td>NaN</td>\n",
       "      <td>NaN</td>\n",
       "      <td>NC</td>\n",
       "      <td>NaN</td>\n",
       "      <td>NaN</td>\n",
       "      <td>NaN</td>\n",
       "      <td>NaN</td>\n",
       "      <td>NaN</td>\n",
       "      <td>NaN</td>\n",
       "      <td>NaN</td>\n",
       "      <td>NaN</td>\n",
       "      <td>NaN</td>\n",
       "      <td>NaN</td>\n",
       "      <td>NaN</td>\n",
       "      <td>NaN</td>\n",
       "      <td>NaN</td>\n",
       "      <td>NaN</td>\n",
       "      <td>NaN</td>\n",
       "      <td>NaT</td>\n",
       "      <td>NaT</td>\n",
       "      <td>NaT</td>\n",
       "      <td>NaN</td>\n",
       "      <td>NaN</td>\n",
       "      <td>NaT</td>\n",
       "      <td>NaN</td>\n",
       "      <td>NaN</td>\n",
       "      <td>NaT</td>\n",
       "      <td>NaT</td>\n",
       "    </tr>\n",
       "    <tr>\n",
       "      <th>9107</th>\n",
       "      <td>5214121206</td>\n",
       "      <td>0.0</td>\n",
       "      <td>5214121206</td>\n",
       "      <td>NaN</td>\n",
       "      <td>1975-01-09</td>\n",
       "      <td>NaT</td>\n",
       "      <td>NaT</td>\n",
       "      <td>2016-10-20</td>\n",
       "      <td>oligo.haut grade III</td>\n",
       "      <td>3</td>\n",
       "      <td>ALTERE</td>\n",
       "      <td>NORMAL</td>\n",
       "      <td>ALTERE</td>\n",
       "      <td>NORMAL</td>\n",
       "      <td>NORMAL</td>\n",
       "      <td>NaN</td>\n",
       "      <td>NORMAL</td>\n",
       "      <td>NORMAL</td>\n",
       "      <td>NORMAL</td>\n",
       "      <td>NORMAL</td>\n",
       "      <td>Maintien</td>\n",
       "      <td>PERDU</td>\n",
       "      <td>PERDU</td>\n",
       "      <td>NON PERTE</td>\n",
       "      <td>NON PERTE</td>\n",
       "      <td>NON PERTE</td>\n",
       "      <td>NaN</td>\n",
       "      <td>sus-T hémisp</td>\n",
       "      <td>D</td>\n",
       "      <td>NaN</td>\n",
       "      <td>1975-01-09</td>\n",
       "      <td>2017-02-28</td>\n",
       "      <td>NaT</td>\n",
       "      <td>oligo.haut grade III</td>\n",
       "      <td>3.0</td>\n",
       "      <td>2008-05-26</td>\n",
       "      <td>TT ini</td>\n",
       "      <td>exérèse</td>\n",
       "      <td>2008-07-08</td>\n",
       "      <td>NaT</td>\n",
       "    </tr>\n",
       "    <tr>\n",
       "      <th>9108</th>\n",
       "      <td>5214121206</td>\n",
       "      <td>0.0</td>\n",
       "      <td>5214121206</td>\n",
       "      <td>NaN</td>\n",
       "      <td>1975-01-09</td>\n",
       "      <td>NaT</td>\n",
       "      <td>NaT</td>\n",
       "      <td>2016-10-20</td>\n",
       "      <td>oligo.haut grade III</td>\n",
       "      <td>3</td>\n",
       "      <td>ALTERE</td>\n",
       "      <td>NORMAL</td>\n",
       "      <td>ALTERE</td>\n",
       "      <td>NORMAL</td>\n",
       "      <td>NORMAL</td>\n",
       "      <td>NaN</td>\n",
       "      <td>NORMAL</td>\n",
       "      <td>NORMAL</td>\n",
       "      <td>NORMAL</td>\n",
       "      <td>NORMAL</td>\n",
       "      <td>Maintien</td>\n",
       "      <td>PERDU</td>\n",
       "      <td>PERDU</td>\n",
       "      <td>NON PERTE</td>\n",
       "      <td>NON PERTE</td>\n",
       "      <td>NON PERTE</td>\n",
       "      <td>NaN</td>\n",
       "      <td>sus-T hémisp</td>\n",
       "      <td>D</td>\n",
       "      <td>NaN</td>\n",
       "      <td>1975-01-09</td>\n",
       "      <td>2017-02-28</td>\n",
       "      <td>NaT</td>\n",
       "      <td>oligo.haut grade III</td>\n",
       "      <td>3.0</td>\n",
       "      <td>2016-10-20</td>\n",
       "      <td>P2</td>\n",
       "      <td>partielle</td>\n",
       "      <td>NaT</td>\n",
       "      <td>2017-01-17</td>\n",
       "    </tr>\n",
       "    <tr>\n",
       "      <th>9491</th>\n",
       "      <td>6610283998</td>\n",
       "      <td>NaN</td>\n",
       "      <td>6610283998</td>\n",
       "      <td>NaN</td>\n",
       "      <td>1962-10-23</td>\n",
       "      <td>NaT</td>\n",
       "      <td>NaT</td>\n",
       "      <td>2010-03-12</td>\n",
       "      <td>glioblastome avec oligo. IV</td>\n",
       "      <td>4</td>\n",
       "      <td>NC</td>\n",
       "      <td>NC</td>\n",
       "      <td>ALTERE</td>\n",
       "      <td>NORMAL</td>\n",
       "      <td>NC</td>\n",
       "      <td>NaN</td>\n",
       "      <td>NORMAL</td>\n",
       "      <td>NORMAL</td>\n",
       "      <td>NORMAL</td>\n",
       "      <td>NORMAL</td>\n",
       "      <td>NaN</td>\n",
       "      <td>NON PERTE</td>\n",
       "      <td>NON PERTE</td>\n",
       "      <td>NON PERTE</td>\n",
       "      <td>NON PERTE</td>\n",
       "      <td>NON PERTE</td>\n",
       "      <td>GAIN</td>\n",
       "      <td>NaN</td>\n",
       "      <td>NaN</td>\n",
       "      <td>NaN</td>\n",
       "      <td>NaT</td>\n",
       "      <td>NaT</td>\n",
       "      <td>NaT</td>\n",
       "      <td>NaN</td>\n",
       "      <td>NaN</td>\n",
       "      <td>NaT</td>\n",
       "      <td>NaN</td>\n",
       "      <td>NaN</td>\n",
       "      <td>NaT</td>\n",
       "      <td>NaT</td>\n",
       "    </tr>\n",
       "  </tbody>\n",
       "</table>\n",
       "<p>332 rows × 40 columns</p>\n",
       "</div>"
      ],
      "text/plain": [
       "      Dwh Prv Nip  Dwh Pat Consentement     Pat Nip Pat Sexe_x  \\\n",
       "185    1111111119                   NaN  1111111119        NaN   \n",
       "206    1111111187                   NaN  1111111187        NaN   \n",
       "236    1111111259                   NaN  1111111259        NaN   \n",
       "247    1111112630                   NaN  1111112630        NaN   \n",
       "248    1111112638                   NaN  1111112638        NaN   \n",
       "272    1111112751                   NaN  1111112751        NaN   \n",
       "274    1111112758                   NaN  1111112758        NaN   \n",
       "279    1111112769                   NaN  1111112769        NaN   \n",
       "280    1111112770                   NaN  1111112770        NaN   \n",
       "281    1111112771                   NaN  1111112771        NaN   \n",
       "282    1111112772                   NaN  1111112772        NaN   \n",
       "283    1111112773                   NaN  1111112773        NaN   \n",
       "284    1111112774                   NaN  1111112774        NaN   \n",
       "285    1111112776                   NaN  1111112776        NaN   \n",
       "293    1111112789                   NaN  1111112789        NaN   \n",
       "308    1111112813                   NaN  1111112813        NaN   \n",
       "309    1111112814                   NaN  1111112814        NaN   \n",
       "335    1111112860                   NaN  1111112860        NaN   \n",
       "336    1111112861                   NaN  1111112861        NaN   \n",
       "345    1111112875                   NaN  1111112875        NaN   \n",
       "356    1111112888                   0.0  1111112888        NaN   \n",
       "359    1111112894                   NaN  1111112894        NaN   \n",
       "362    1111112898                   NaN  1111112898        NaN   \n",
       "368    1111112924                   0.0  1111112924        NaN   \n",
       "371    1111112930                   0.0  1111112930        NaN   \n",
       "379    1111112940                   NaN  1111112940        NaN   \n",
       "380    1111112941                   NaN  1111112941        NaN   \n",
       "381    1111112942                   NaN  1111112942        NaN   \n",
       "382    1111112943                   NaN  1111112943        NaN   \n",
       "383    1111112944                   NaN  1111112944        NaN   \n",
       "...           ...                   ...         ...        ...   \n",
       "8219   4911075721                   NaN  4911075721        NaN   \n",
       "8258   4911083602                   NaN  4911083602        NaN   \n",
       "8364   4911142880                   NaN  4911142880        NaN   \n",
       "8383   5012001028                   NaN  5012001028        NaN   \n",
       "8426   5012024277                   NaN  5012024277        NaN   \n",
       "8430   5012027982                   NaN  5012027982        NaN   \n",
       "8437   5012029131                   NaN  5012029131        NaN   \n",
       "8501   5012060843                   NaN  5012060843        NaN   \n",
       "8508   5012063569                   NaN  5012063569        NaN   \n",
       "8550   5012086066                   NaN  5012086066        NaN   \n",
       "8586   5012099578                   NaN  5012099578        NaN   \n",
       "8615   5012113543                   NaN  5012113543        NaN   \n",
       "8632   5012123282                   NaN  5012123282        NaN   \n",
       "8637   5012123984                   1.0  5012123984        NaN   \n",
       "8665   5012143180                   NaN  5012143180        NaN   \n",
       "8666   5012143406                   NaN  5012143406        NaN   \n",
       "8678   5113002971                   1.0  5113002971        NaN   \n",
       "8705   5113019809                   NaN  5113019809        NaN   \n",
       "8712   5113023447                   NaN  5113023447        NaN   \n",
       "8748   5113039083                   NaN  5113039083        NaN   \n",
       "8792   5113064396                   1.0  5113064396        NaN   \n",
       "8862   5113106769                   NaN  5113106769        NaN   \n",
       "8896   5113128326                   1.0  5113128326        NaN   \n",
       "8908   5113133748                   1.0  5113133748        NaN   \n",
       "8953   5214008137                   NaN  5214008137        NaN   \n",
       "8961   5214013687                   NaN  5214013687        NaN   \n",
       "9039   5214073235                   NaN  5214073235        NaN   \n",
       "9107   5214121206                   0.0  5214121206        NaN   \n",
       "9108   5214121206                   0.0  5214121206        NaN   \n",
       "9491   6610283998                   NaN  6610283998        NaN   \n",
       "\n",
       "     Pat Date Naissance_x Dwh Pat Dn Date_x Dwh Pat Date Deces_x  \\\n",
       "185            1974-02-01               NaT                  NaT   \n",
       "206            1958-01-01               NaT                  NaT   \n",
       "236                   NaT               NaT                  NaT   \n",
       "247            1957-03-31               NaT                  NaT   \n",
       "248            1968-12-01               NaT                  NaT   \n",
       "272            1962-01-13               NaT                  NaT   \n",
       "274            1961-03-29               NaT                  NaT   \n",
       "279            1928-05-12               NaT                  NaT   \n",
       "280            1933-09-19               NaT                  NaT   \n",
       "281            1928-05-05               NaT                  NaT   \n",
       "282            1936-08-16               NaT                  NaT   \n",
       "283                   NaT               NaT                  NaT   \n",
       "284                   NaT               NaT                  NaT   \n",
       "285            1928-10-05               NaT                  NaT   \n",
       "293            1972-12-01               NaT                  NaT   \n",
       "308            1937-03-19               NaT                  NaT   \n",
       "309            1931-01-02               NaT                  NaT   \n",
       "335            1958-02-17               NaT                  NaT   \n",
       "336            1955-04-11               NaT                  NaT   \n",
       "345            1935-12-27               NaT                  NaT   \n",
       "356            1939-02-21               NaT                  NaT   \n",
       "359            1945-11-12               NaT                  NaT   \n",
       "362                   NaT               NaT                  NaT   \n",
       "368            1926-03-11               NaT                  NaT   \n",
       "371            1926-03-13               NaT                  NaT   \n",
       "379            1933-03-13               NaT                  NaT   \n",
       "380            1929-11-19               NaT                  NaT   \n",
       "381            1937-11-19               NaT                  NaT   \n",
       "382            1930-12-14               NaT                  NaT   \n",
       "383            1927-07-13               NaT                  NaT   \n",
       "...                   ...               ...                  ...   \n",
       "8219           1975-05-25               NaT                  NaT   \n",
       "8258           1935-12-31               NaT                  NaT   \n",
       "8364           1985-07-01               NaT                  NaT   \n",
       "8383           1973-06-20               NaT                  NaT   \n",
       "8426           1992-05-30               NaT                  NaT   \n",
       "8430           1957-10-02               NaT                  NaT   \n",
       "8437           1948-04-26               NaT                  NaT   \n",
       "8501           1957-06-06               NaT                  NaT   \n",
       "8508           1940-05-22               NaT                  NaT   \n",
       "8550           1976-06-09               NaT                  NaT   \n",
       "8586           1948-08-12               NaT                  NaT   \n",
       "8615           1988-02-17               NaT                  NaT   \n",
       "8632           1989-10-30               NaT                  NaT   \n",
       "8637           1958-07-01               NaT                  NaT   \n",
       "8665           1960-06-12               NaT                  NaT   \n",
       "8666           1989-11-23               NaT                  NaT   \n",
       "8678           1977-12-07               NaT                  NaT   \n",
       "8705           1938-01-01               NaT                  NaT   \n",
       "8712           1947-12-24               NaT                  NaT   \n",
       "8748           1953-11-17               NaT                  NaT   \n",
       "8792           1973-12-28               NaT                  NaT   \n",
       "8862           1979-09-23               NaT                  NaT   \n",
       "8896           1970-01-01               NaT                  NaT   \n",
       "8908           1975-02-02               NaT                  NaT   \n",
       "8953           1993-02-22               NaT                  NaT   \n",
       "8961           1980-09-10               NaT                  NaT   \n",
       "9039           1948-06-24               NaT                  NaT   \n",
       "9107           1975-01-09               NaT                  NaT   \n",
       "9108           1975-01-09               NaT                  NaT   \n",
       "9491           1962-10-23               NaT                  NaT   \n",
       "\n",
       "     Dwh Prv Date Chir      Dwh Prv Diag Histologie  Grade Dwh Gen Idh1  \\\n",
       "185                NaT                gangliogliome      1          NaN   \n",
       "206                NaT                gangliogliome      1          NaN   \n",
       "236                NaT  glioblastome avec oligo. IV      4       NORMAL   \n",
       "247                NaT              glioblastome IV      4          NaN   \n",
       "248         2006-05-11         oligo.haut grade III      3       ALTERE   \n",
       "272         1998-07-31          oligo. bas grade II      2       ALTERE   \n",
       "274         2008-07-04          oligo. bas grade II      2          NaN   \n",
       "279         2007-09-28              glioblastome IV      4          NaN   \n",
       "280         2007-11-14              glioblastome IV      4       NORMAL   \n",
       "281         2008-04-14              glioblastome IV      4       NORMAL   \n",
       "282         2008-05-29              glioblastome IV      4       NORMAL   \n",
       "283                NaT              glioblastome IV      4          NaN   \n",
       "284                NaT              glioblastome IV      4          NaN   \n",
       "285         2008-02-26              glioblastome IV      4          NaN   \n",
       "293         2007-03-16          oligo. bas grade II      2       ALTERE   \n",
       "308                NaT              glioblastome IV      4          NaN   \n",
       "309                NaT              glioblastome IV      4          NaN   \n",
       "335         2008-11-24              gliome mixte II      2       ALTERE   \n",
       "336         2009-01-08              gliome mixte II      2          NaN   \n",
       "345                NaT              glioblastome IV      4       NORMAL   \n",
       "356         2009-05-06              glioblastome IV      4       NORMAL   \n",
       "359         2009-03-31         oligo.haut grade III      3       NORMAL   \n",
       "362                NaT              glioblastome IV      4          NaN   \n",
       "368         2009-07-15              glioblastome IV      4       NORMAL   \n",
       "371                NaT              glioblastome IV      4       NORMAL   \n",
       "379         2008-08-14         gliome mixte ana III      3          NaN   \n",
       "380         2008-09-08              glioblastome IV      4          NaN   \n",
       "381         2009-02-25              glioblastome IV      4          NaN   \n",
       "382         2008-02-04              glioblastome IV      4          NaN   \n",
       "383         2008-01-10              glioblastome IV      4          NaN   \n",
       "...                ...                          ...    ...          ...   \n",
       "8219        2014-02-24              glioblastome IV      4           NC   \n",
       "8258        2011-07-21              glioblastome IV      4           NC   \n",
       "8364        2011-12-07              gliome mixte II      2       ALTERE   \n",
       "8383        2012-02-23              glioblastome IV      4           NC   \n",
       "8426        2012-03-08      astrocytome pilocytique      1           NC   \n",
       "8430        2012-04-12              glioblastome IV      4           NC   \n",
       "8437        2012-03-09              glioblastome IV      4       NORMAL   \n",
       "8501        2012-05-31              glioblastome IV      4           NC   \n",
       "8508        2012-11-13              glioblastome IV      4           NC   \n",
       "8550        2012-10-30          oligo. bas grade II      2       ALTERE   \n",
       "8586        2012-09-05              glioblastome IV      4           NC   \n",
       "8615        2012-10-02     astrocytome bas grade II      2           NC   \n",
       "8632        2013-06-04                gangliogliome      1           NC   \n",
       "8637        2012-10-25              glioblastome IV      4           NC   \n",
       "8665        2012-12-19              glioblastome IV      4           NC   \n",
       "8666        2014-03-14      astrocytome pilocytique      1           NC   \n",
       "8678        2013-04-15         gliome mixte ana III      3       ALTERE   \n",
       "8705        2013-03-05              glioblastome IV      4           NC   \n",
       "8712        2013-02-25              glioblastome IV      4           NC   \n",
       "8748        2013-04-19              glioblastome IV      4           NC   \n",
       "8792        2013-06-14         gliome mixte ana III      3       ALTERE   \n",
       "8862        2013-09-26                gangliogliome      1           NC   \n",
       "8896        2013-12-19         gliome mixte ana III      3       ALTERE   \n",
       "8908        2014-01-21              gliome mixte II      2       ALTERE   \n",
       "8953        2014-02-11                gangliogliome      1           NC   \n",
       "8961        2014-02-13     astrocytome bas grade II      2       ALTERE   \n",
       "9039        2014-07-09              glioblastome IV      4           NC   \n",
       "9107        2016-10-20         oligo.haut grade III      3       ALTERE   \n",
       "9108        2016-10-20         oligo.haut grade III      3       ALTERE   \n",
       "9491        2010-03-12  glioblastome avec oligo. IV      4           NC   \n",
       "\n",
       "     Dwh Gen Idh2 Dwh Gen Htert C228T Dwh Gen Htert C250T Dwh Gen P53  \\\n",
       "185           NaN                 NaN                 NaN         NaN   \n",
       "206           NaN                 NaN                 NaN         NaN   \n",
       "236           NaN                 NaN                 NaN         NaN   \n",
       "247           NaN                 NaN                 NaN         NaN   \n",
       "248        NORMAL                 NaN                 NaN         NaN   \n",
       "272        NORMAL                 NaN                 NaN          NC   \n",
       "274        NORMAL                 NaN                 NaN          NC   \n",
       "279           NaN              ALTERE              NORMAL          NC   \n",
       "280           NaN                 NaN                 NaN          NC   \n",
       "281           NaN                 NaN                 NaN          NC   \n",
       "282           NaN                 NaN                 NaN          NC   \n",
       "283           NaN                 NaN                 NaN          NC   \n",
       "284           NaN                 NaN                 NaN          NC   \n",
       "285           NaN                 NaN                 NaN          NC   \n",
       "293        NORMAL                 NaN                 NaN          NC   \n",
       "308        NORMAL                 NaN                 NaN          NC   \n",
       "309           NaN                 NaN                 NaN          NC   \n",
       "335        NORMAL                 NaN                 NaN          NC   \n",
       "336        NORMAL                 NaN                 NaN          NC   \n",
       "345           NaN                 NaN                 NaN          NC   \n",
       "356        NORMAL              NORMAL              ALTERE          NC   \n",
       "359        NORMAL                 NaN                 NaN          NC   \n",
       "362            NC                 NaN                 NaN          NC   \n",
       "368        NORMAL              ALTERE              NORMAL          NC   \n",
       "371        NORMAL              ALTERE              NORMAL          NC   \n",
       "379        NORMAL                 NaN                 NaN          NC   \n",
       "380            NC                 NaN                 NaN          NC   \n",
       "381        NORMAL                 NaN                 NaN          NC   \n",
       "382        NORMAL                 NaN                 NaN          NC   \n",
       "383        NORMAL                 NaN                 NaN          NC   \n",
       "...           ...                 ...                 ...         ...   \n",
       "8219           NC                 NaN                 NaN          NC   \n",
       "8258           NC                 NaN                 NaN          NC   \n",
       "8364       NORMAL                 NaN                 NaN          NC   \n",
       "8383           NC                 NaN                 NaN          NC   \n",
       "8426           NC                 NaN                 NaN          NC   \n",
       "8430           NC                 NaN                 NaN          NC   \n",
       "8437           NC              NORMAL              NORMAL          NC   \n",
       "8501           NC                 NaN                 NaN          NC   \n",
       "8508           NC                 NaN                 NaN          NC   \n",
       "8550       NORMAL                 NaN                 NaN          NC   \n",
       "8586           NC                 NaN                 NaN          NC   \n",
       "8615           NC              NORMAL              NORMAL          NC   \n",
       "8632           NC                 NaN                 NaN          NC   \n",
       "8637           NC                 NaN                 NaN          NC   \n",
       "8665           NC                 NaN                 NaN          NC   \n",
       "8666           NC                 NaN                 NaN          NC   \n",
       "8678       NORMAL              NORMAL              NORMAL          NC   \n",
       "8705           NC                 NaN                 NaN          NC   \n",
       "8712           NC                 NaN                 NaN          NC   \n",
       "8748           NC                 NaN                 NaN          NC   \n",
       "8792       NORMAL                 NaN                 NaN          NC   \n",
       "8862           NC                 NaN                 NaN          NC   \n",
       "8896       NORMAL                 NaN                 NaN          NC   \n",
       "8908       NORMAL                 NaN                 NaN          NC   \n",
       "8953           NC                 NaN                 NaN          NC   \n",
       "8961       NORMAL                 NaN                 NaN          NC   \n",
       "9039           NC                 NaN                 NaN          NC   \n",
       "9107       NORMAL              ALTERE              NORMAL      NORMAL   \n",
       "9108       NORMAL              ALTERE              NORMAL      NORMAL   \n",
       "9491           NC              ALTERE              NORMAL          NC   \n",
       "\n",
       "     Dwh Gen Mgmt Dwh Gen Egfr Dwh Gen Mdm2 Dwh Gen Cdk4 Dwh Gen P16  \\\n",
       "185           NaN          NaN          NaN          NaN         NaN   \n",
       "206           NaN          NaN          NaN          NaN         NaN   \n",
       "236           NaN       NORMAL       NORMAL       NORMAL      NORMAL   \n",
       "247           NaN     AMPLIFIE       NORMAL       NORMAL      DELETE   \n",
       "248           NaN       NORMAL       NORMAL       NORMAL      NORMAL   \n",
       "272           NaN       NORMAL       NORMAL       NORMAL      NORMAL   \n",
       "274           NaN       NORMAL       NORMAL       NORMAL      NORMAL   \n",
       "279   NON METHYLE     AMPLIFIE     AMPLIFIE     AMPLIFIE      NORMAL   \n",
       "280   NON METHYLE       NORMAL       NORMAL       NORMAL      DELETE   \n",
       "281   NON METHYLE       NORMAL       NORMAL       NORMAL      NORMAL   \n",
       "282   NON METHYLE       NORMAL       NORMAL       NORMAL      NORMAL   \n",
       "283       METHYLE          NaN          NaN          NaN         NaN   \n",
       "284   NON METHYLE       NORMAL       NORMAL       NORMAL      DELETE   \n",
       "285       METHYLE       NORMAL       NORMAL       NORMAL      DELETE   \n",
       "293           NaN       NORMAL       NORMAL       NORMAL      NORMAL   \n",
       "308   NON METHYLE          NaN          NaN          NaN         NaN   \n",
       "309   NON METHYLE          NaN          NaN          NaN         NaN   \n",
       "335           NaN       NORMAL       NORMAL       NORMAL      NORMAL   \n",
       "336           NaN       NORMAL       NORMAL       NORMAL      NORMAL   \n",
       "345   NON METHYLE          NaN          NaN          NaN         NaN   \n",
       "356           NaN          NaN          NaN          NaN         NaN   \n",
       "359           NaN       NORMAL       NORMAL     AMPLIFIE      NORMAL   \n",
       "362       METHYLE          NaN          NaN          NaN         NaN   \n",
       "368           NaN          NaN          NaN          NaN         NaN   \n",
       "371           NaN          NaN          NaN          NaN         NaN   \n",
       "379   NON METHYLE          NaN          NaN          NaN         NaN   \n",
       "380   NON METHYLE          NaN          NaN          NaN         NaN   \n",
       "381   NON METHYLE          NaN          NaN          NaN         NaN   \n",
       "382   NON METHYLE          NaN          NaN          NaN         NaN   \n",
       "383       METHYLE          NaN          NaN          NaN         NaN   \n",
       "...           ...          ...          ...          ...         ...   \n",
       "8219          NaN          NaN          NaN          NaN         NaN   \n",
       "8258          NaN          NaN          NaN          NaN         NaN   \n",
       "8364          NaN       NORMAL       NORMAL       NORMAL      DELETE   \n",
       "8383          NaN          NaN          NaN          NaN         NaN   \n",
       "8426          NaN       NORMAL       NORMAL       NORMAL      NORMAL   \n",
       "8430          NaN          NaN          NaN          NaN         NaN   \n",
       "8437          NaN          NaN          NaN          NaN         NaN   \n",
       "8501          NaN          NaN          NaN          NaN         NaN   \n",
       "8508          NaN          NaN          NaN          NaN         NaN   \n",
       "8550          NaN       NORMAL       NORMAL       NORMAL      NORMAL   \n",
       "8586          NaN          NaN          NaN          NaN         NaN   \n",
       "8615          NaN       NORMAL       NORMAL       NORMAL      NORMAL   \n",
       "8632          NaN       NORMAL       NORMAL       NORMAL      NORMAL   \n",
       "8637          NaN          NaN          NaN          NaN         NaN   \n",
       "8665          NaN          NaN          NaN          NaN         NaN   \n",
       "8666          NaN          NaN          NaN          NaN         NaN   \n",
       "8678          NaN       NORMAL       NORMAL       NORMAL      NORMAL   \n",
       "8705          NaN          NaN          NaN          NaN         NaN   \n",
       "8712          NaN          NaN          NaN          NaN         NaN   \n",
       "8748          NaN          NaN          NaN          NaN         NaN   \n",
       "8792          NaN       NORMAL       NORMAL       NORMAL      NORMAL   \n",
       "8862          NaN       NORMAL       NORMAL       NORMAL      NORMAL   \n",
       "8896          NaN       NORMAL       NORMAL       NORMAL      NORMAL   \n",
       "8908          NaN       NORMAL       NORMAL       NORMAL      NORMAL   \n",
       "8953          NaN       NORMAL       NORMAL       NORMAL      NORMAL   \n",
       "8961          NaN          NaN          NaN          NaN         NaN   \n",
       "9039          NaN          NaN          NaN          NaN         NaN   \n",
       "9107          NaN       NORMAL       NORMAL       NORMAL      NORMAL   \n",
       "9108          NaN       NORMAL       NORMAL       NORMAL      NORMAL   \n",
       "9491          NaN       NORMAL       NORMAL       NORMAL      NORMAL   \n",
       "\n",
       "     Dwh Ihc Atrx Dwh Chr Ch1P Dwh Chr Ch19Q Dwh Chr Ch10P Dwh Chr Ch10Q  \\\n",
       "185           NaN          NaN           NaN           NaN           NaN   \n",
       "206           NaN          NaN           NaN           NaN           NaN   \n",
       "236           NaN          NaN           NaN           NaN           NaN   \n",
       "247           NaN      PARTIEL     NON PERTE           NaN         PERDU   \n",
       "248           NaN      PARTIEL       PARTIEL           NaN     NON PERTE   \n",
       "272           NaN        PERDU         PERDU           NaN           NaN   \n",
       "274           NaN    NON PERTE     NON PERTE           NaN     NON PERTE   \n",
       "279           NaN      PARTIEL     NON PERTE         PERDU         PERDU   \n",
       "280           NaN          NaN           NaN           NaN           NaN   \n",
       "281           NaN          NaN           NaN           NaN           NaN   \n",
       "282           NaN          NaN           NaN           NaN           NaN   \n",
       "283           NaN          NaN           NaN           NaN           NaN   \n",
       "284           NaN          NaN           NaN           NaN           NaN   \n",
       "285           NaN          NaN           NaN           NaN           NaN   \n",
       "293           NaN    NON PERTE           NaN           NaN         PERDU   \n",
       "308           NaN          NaN           NaN           NaN           NaN   \n",
       "309           NaN          NaN           NaN           NaN           NaN   \n",
       "335           NaN        PERDU         PERDU           NaN           NaN   \n",
       "336           NaN        PERDU         PERDU           NaN     NON PERTE   \n",
       "345           NaN          NaN           NaN           NaN           NaN   \n",
       "356           NaN          NaN           NaN           NaN           NaN   \n",
       "359           NaN      PARTIEL     NON PERTE         PERDU         PERDU   \n",
       "362           NaN          NaN           NaN           NaN           NaN   \n",
       "368           NaN          NaN           NaN           NaN           NaN   \n",
       "371           NaN          NaN           NaN           NaN           NaN   \n",
       "379           NaN          NaN           NaN           NaN           NaN   \n",
       "380           NaN          NaN           NaN           NaN           NaN   \n",
       "381           NaN          NaN           NaN           NaN           NaN   \n",
       "382           NaN          NaN           NaN           NaN           NaN   \n",
       "383           NaN          NaN           NaN           NaN           NaN   \n",
       "...           ...          ...           ...           ...           ...   \n",
       "8219          NaN          NaN           NaN           NaN           NaN   \n",
       "8258          NaN          NaN           NaN           NaN           NaN   \n",
       "8364          NaN    NON PERTE     NON PERTE     NON PERTE       PARTIEL   \n",
       "8383          NaN          NaN           NaN           NaN           NaN   \n",
       "8426          NaN    NON PERTE     NON PERTE     NON PERTE     NON PERTE   \n",
       "8430          NaN          NaN           NaN           NaN           NaN   \n",
       "8437          NaN          NaN           NaN           NaN           NaN   \n",
       "8501          NaN          NaN           NaN           NaN           NaN   \n",
       "8508          NaN          NaN           NaN           NaN           NaN   \n",
       "8550          NaN        PERDU         PERDU     NON PERTE     NON PERTE   \n",
       "8586          NaN          NaN           NaN           NaN           NaN   \n",
       "8615          NaN    NON PERTE     NON PERTE     NON PERTE     NON PERTE   \n",
       "8632          NaN    NON PERTE     NON PERTE         PERDU         PERDU   \n",
       "8637          NaN          NaN           NaN           NaN           NaN   \n",
       "8665          NaN          NaN           NaN           NaN           NaN   \n",
       "8666          NaN          NaN           NaN           NaN           NaN   \n",
       "8678          NaN    NON PERTE     NON PERTE     NON PERTE     NON PERTE   \n",
       "8705          NaN          NaN           NaN           NaN           NaN   \n",
       "8712          NaN          NaN           NaN           NaN           NaN   \n",
       "8748          NaN          NaN           NaN           NaN           NaN   \n",
       "8792          NaN    NON PERTE       PARTIEL     NON PERTE     NON PERTE   \n",
       "8862          NaN    NON PERTE         PERDU     NON PERTE     NON PERTE   \n",
       "8896          NaN    NON PERTE     NON PERTE     NON PERTE     NON PERTE   \n",
       "8908          NaN        PERDU         PERDU     NON PERTE     NON PERTE   \n",
       "8953          NaN        PERDU     NON PERTE     NON PERTE     NON PERTE   \n",
       "8961          NaN          NaN           NaN           NaN           NaN   \n",
       "9039          NaN          NaN           NaN           NaN           NaN   \n",
       "9107     Maintien        PERDU         PERDU     NON PERTE     NON PERTE   \n",
       "9108     Maintien        PERDU         PERDU     NON PERTE     NON PERTE   \n",
       "9491          NaN    NON PERTE     NON PERTE     NON PERTE     NON PERTE   \n",
       "\n",
       "     Dwh Chr Ch9P Dwh Chr Ch9Q  Dwh Pat Tumeur Siege Dwh Pat Tumeur Position  \\\n",
       "185           NaN          NaN                   NaN                     NaN   \n",
       "206           NaN          NaN                   NaN                     NaN   \n",
       "236           NaN          NaN                   NaN                     NaN   \n",
       "247         PERDU          NaN                   NaN                     NaN   \n",
       "248           NaN          NaN                   NaN                     NaN   \n",
       "272           NaN          NaN                   NaN                     NaN   \n",
       "274     NON PERTE          NaN                   NaN                     NaN   \n",
       "279       PARTIEL    NON PERTE                   NaN                     NaN   \n",
       "280           NaN          NaN                   NaN                     NaN   \n",
       "281           NaN          NaN                   NaN                     NaN   \n",
       "282           NaN          NaN                   NaN                     NaN   \n",
       "283           NaN          NaN                   NaN                     NaN   \n",
       "284           NaN          NaN                   NaN                     NaN   \n",
       "285           NaN          NaN                   NaN                     NaN   \n",
       "293     NON PERTE          NaN                   NaN                     NaN   \n",
       "308           NaN          NaN                   NaN                     NaN   \n",
       "309           NaN          NaN                   NaN                     NaN   \n",
       "335     NON PERTE          NaN                   NaN                     NaN   \n",
       "336     NON PERTE          NaN                   NaN                     NaN   \n",
       "345           NaN          NaN                   NaN                     NaN   \n",
       "356           NaN          NaN                   NaN                     NaN   \n",
       "359     NON PERTE      PARTIEL                   NaN                     NaN   \n",
       "362           NaN          NaN                   NaN                     NaN   \n",
       "368           NaN          NaN                   NaN                     NaN   \n",
       "371           NaN          NaN                   NaN                     NaN   \n",
       "379           NaN          NaN                   NaN                     NaN   \n",
       "380           NaN          NaN                   NaN                     NaN   \n",
       "381           NaN          NaN                   NaN                     NaN   \n",
       "382           NaN          NaN                   NaN                     NaN   \n",
       "383           NaN          NaN                   NaN                     NaN   \n",
       "...           ...          ...                   ...                     ...   \n",
       "8219          NaN          NaN                   NaN                     NaN   \n",
       "8258          NaN          NaN                   NaN                     NaN   \n",
       "8364      PARTIEL    NON PERTE                   NaN                     NaN   \n",
       "8383          NaN          NaN                   NaN                     NaN   \n",
       "8426    NON PERTE    NON PERTE                   NaN                     NaN   \n",
       "8430          NaN          NaN                   NaN                     NaN   \n",
       "8437          NaN          NaN  sus-T hémisp+profond                       G   \n",
       "8501          NaN          NaN                   NaN                     NaN   \n",
       "8508          NaN          NaN                   NaN                     NaN   \n",
       "8550    NON PERTE    NON PERTE                   NaN                     NaN   \n",
       "8586          NaN          NaN                   NaN                     NaN   \n",
       "8615    NON PERTE    NON PERTE                   NaN                     NaN   \n",
       "8632    NON PERTE    NON PERTE                   NaN                     NaN   \n",
       "8637          NaN          NaN                   NaN                     NaN   \n",
       "8665          NaN          NaN                   NaN                     NaN   \n",
       "8666          NaN          NaN                   NaN                     NaN   \n",
       "8678      PARTIEL    NON PERTE          sus-T hémisp                       D   \n",
       "8705          NaN          NaN                   NaN                     NaN   \n",
       "8712          NaN          NaN                   NaN                     NaN   \n",
       "8748          NaN          NaN                   NaN                     NaN   \n",
       "8792    NON PERTE    NON PERTE                   NaN                     NaN   \n",
       "8862    NON PERTE    NON PERTE                   NaN                     NaN   \n",
       "8896    NON PERTE    NON PERTE                   NaN                     NaN   \n",
       "8908    NON PERTE    NON PERTE                   NaN                     NaN   \n",
       "8953    NON PERTE    NON PERTE                   NaN                     NaN   \n",
       "8961          NaN          NaN                   NaN                     NaN   \n",
       "9039          NaN          NaN                   NaN                     NaN   \n",
       "9107    NON PERTE          NaN          sus-T hémisp                       D   \n",
       "9108    NON PERTE          NaN          sus-T hémisp                       D   \n",
       "9491    NON PERTE         GAIN                   NaN                     NaN   \n",
       "\n",
       "     Pat Sexe_y Pat Date Naissance_y Dwh Pat Dn Date_y Dwh Pat Date Deces_y  \\\n",
       "185         NaN                  NaT               NaT                  NaT   \n",
       "206         NaN                  NaT               NaT                  NaT   \n",
       "236         NaN                  NaT               NaT                  NaT   \n",
       "247         NaN                  NaT               NaT                  NaT   \n",
       "248         NaN                  NaT               NaT                  NaT   \n",
       "272         NaN                  NaT               NaT                  NaT   \n",
       "274         NaN                  NaT               NaT                  NaT   \n",
       "279         NaN                  NaT               NaT                  NaT   \n",
       "280         NaN                  NaT               NaT                  NaT   \n",
       "281         NaN                  NaT               NaT                  NaT   \n",
       "282         NaN                  NaT               NaT                  NaT   \n",
       "283         NaN                  NaT               NaT                  NaT   \n",
       "284         NaN                  NaT               NaT                  NaT   \n",
       "285         NaN                  NaT               NaT                  NaT   \n",
       "293         NaN                  NaT               NaT                  NaT   \n",
       "308         NaN                  NaT               NaT                  NaT   \n",
       "309         NaN                  NaT               NaT                  NaT   \n",
       "335         NaN                  NaT               NaT                  NaT   \n",
       "336         NaN                  NaT               NaT                  NaT   \n",
       "345         NaN                  NaT               NaT                  NaT   \n",
       "356         NaN                  NaT               NaT                  NaT   \n",
       "359         NaN                  NaT               NaT                  NaT   \n",
       "362         NaN                  NaT               NaT                  NaT   \n",
       "368         NaN                  NaT               NaT                  NaT   \n",
       "371         NaN                  NaT               NaT                  NaT   \n",
       "379         NaN                  NaT               NaT                  NaT   \n",
       "380         NaN                  NaT               NaT                  NaT   \n",
       "381         NaN                  NaT               NaT                  NaT   \n",
       "382         NaN                  NaT               NaT                  NaT   \n",
       "383         NaN                  NaT               NaT                  NaT   \n",
       "...         ...                  ...               ...                  ...   \n",
       "8219        NaN                  NaT               NaT                  NaT   \n",
       "8258        NaN                  NaT               NaT                  NaT   \n",
       "8364        NaN                  NaT               NaT                  NaT   \n",
       "8383        NaN                  NaT               NaT                  NaT   \n",
       "8426        NaN                  NaT               NaT                  NaT   \n",
       "8430        NaN                  NaT               NaT                  NaT   \n",
       "8437        NaN           1948-04-26        2013-08-27                  NaT   \n",
       "8501        NaN                  NaT               NaT                  NaT   \n",
       "8508        NaN                  NaT               NaT                  NaT   \n",
       "8550        NaN                  NaT               NaT                  NaT   \n",
       "8586        NaN                  NaT               NaT                  NaT   \n",
       "8615        NaN                  NaT               NaT                  NaT   \n",
       "8632        NaN                  NaT               NaT                  NaT   \n",
       "8637        NaN                  NaT               NaT                  NaT   \n",
       "8665        NaN                  NaT               NaT                  NaT   \n",
       "8666        NaN                  NaT               NaT                  NaT   \n",
       "8678        NaN           1977-12-07        2016-08-23                  NaT   \n",
       "8705        NaN                  NaT               NaT                  NaT   \n",
       "8712        NaN                  NaT               NaT                  NaT   \n",
       "8748        NaN                  NaT               NaT                  NaT   \n",
       "8792        NaN                  NaT               NaT                  NaT   \n",
       "8862        NaN                  NaT               NaT                  NaT   \n",
       "8896        NaN                  NaT               NaT                  NaT   \n",
       "8908        NaN                  NaT               NaT                  NaT   \n",
       "8953        NaN                  NaT               NaT                  NaT   \n",
       "8961        NaN                  NaT               NaT                  NaT   \n",
       "9039        NaN                  NaT               NaT                  NaT   \n",
       "9107        NaN           1975-01-09        2017-02-28                  NaT   \n",
       "9108        NaN           1975-01-09        2017-02-28                  NaT   \n",
       "9491        NaN                  NaT               NaT                  NaT   \n",
       "\n",
       "      Clin Diag Histologie  Grade histo Clin Chir Date Clin Evolution  \\\n",
       "185                    NaN          NaN            NaT            NaN   \n",
       "206                    NaN          NaN            NaT            NaN   \n",
       "236                    NaN          NaN            NaT            NaN   \n",
       "247                    NaN          NaN            NaT            NaN   \n",
       "248                    NaN          NaN            NaT            NaN   \n",
       "272                    NaN          NaN            NaT            NaN   \n",
       "274                    NaN          NaN            NaT            NaN   \n",
       "279                    NaN          NaN            NaT            NaN   \n",
       "280                    NaN          NaN            NaT            NaN   \n",
       "281                    NaN          NaN            NaT            NaN   \n",
       "282                    NaN          NaN            NaT            NaN   \n",
       "283                    NaN          NaN            NaT            NaN   \n",
       "284                    NaN          NaN            NaT            NaN   \n",
       "285                    NaN          NaN            NaT            NaN   \n",
       "293                    NaN          NaN            NaT            NaN   \n",
       "308                    NaN          NaN            NaT            NaN   \n",
       "309                    NaN          NaN            NaT            NaN   \n",
       "335                    NaN          NaN            NaT            NaN   \n",
       "336                    NaN          NaN            NaT            NaN   \n",
       "345                    NaN          NaN            NaT            NaN   \n",
       "356                    NaN          NaN            NaT            NaN   \n",
       "359                    NaN          NaN            NaT            NaN   \n",
       "362                    NaN          NaN            NaT            NaN   \n",
       "368                    NaN          NaN            NaT            NaN   \n",
       "371                    NaN          NaN            NaT            NaN   \n",
       "379                    NaN          NaN            NaT            NaN   \n",
       "380                    NaN          NaN            NaT            NaN   \n",
       "381                    NaN          NaN            NaT            NaN   \n",
       "382                    NaN          NaN            NaT            NaN   \n",
       "383                    NaN          NaN            NaT            NaN   \n",
       "...                    ...          ...            ...            ...   \n",
       "8219                   NaN          NaN            NaT            NaN   \n",
       "8258                   NaN          NaN            NaT            NaN   \n",
       "8364                   NaN          NaN            NaT            NaN   \n",
       "8383                   NaN          NaN            NaT            NaN   \n",
       "8426                   NaN          NaN            NaT            NaN   \n",
       "8430                   NaN          NaN            NaT            NaN   \n",
       "8437       glioblastome IV          4.0     2012-03-09         TT ini   \n",
       "8501                   NaN          NaN            NaT            NaN   \n",
       "8508                   NaN          NaN            NaT            NaN   \n",
       "8550                   NaN          NaN            NaT            NaN   \n",
       "8586                   NaN          NaN            NaT            NaN   \n",
       "8615                   NaN          NaN            NaT            NaN   \n",
       "8632                   NaN          NaN            NaT            NaN   \n",
       "8637                   NaN          NaN            NaT            NaN   \n",
       "8665                   NaN          NaN            NaT            NaN   \n",
       "8666                   NaN          NaN            NaT            NaN   \n",
       "8678  gliome mixte ana III          3.0     2013-04-15         TT ini   \n",
       "8705                   NaN          NaN            NaT            NaN   \n",
       "8712                   NaN          NaN            NaT            NaN   \n",
       "8748                   NaN          NaN            NaT            NaN   \n",
       "8792                   NaN          NaN            NaT            NaN   \n",
       "8862                   NaN          NaN            NaT            NaN   \n",
       "8896                   NaN          NaN            NaT            NaN   \n",
       "8908                   NaN          NaN            NaT            NaN   \n",
       "8953                   NaN          NaN            NaT            NaN   \n",
       "8961                   NaN          NaN            NaT            NaN   \n",
       "9039                   NaN          NaN            NaT            NaN   \n",
       "9107  oligo.haut grade III          3.0     2008-05-26         TT ini   \n",
       "9108  oligo.haut grade III          3.0     2016-10-20             P2   \n",
       "9491                   NaN          NaN            NaT            NaN   \n",
       "\n",
       "     Clin Type Chirurgie Clin Rx Date Dwh Chm Date Debut  \n",
       "185                  NaN          NaT                NaT  \n",
       "206                  NaN          NaT                NaT  \n",
       "236                  NaN          NaT                NaT  \n",
       "247                  NaN          NaT                NaT  \n",
       "248                  NaN          NaT                NaT  \n",
       "272                  NaN          NaT                NaT  \n",
       "274                  NaN          NaT                NaT  \n",
       "279                  NaN          NaT                NaT  \n",
       "280                  NaN          NaT                NaT  \n",
       "281                  NaN          NaT                NaT  \n",
       "282                  NaN          NaT                NaT  \n",
       "283                  NaN          NaT                NaT  \n",
       "284                  NaN          NaT                NaT  \n",
       "285                  NaN          NaT                NaT  \n",
       "293                  NaN          NaT                NaT  \n",
       "308                  NaN          NaT                NaT  \n",
       "309                  NaN          NaT                NaT  \n",
       "335                  NaN          NaT                NaT  \n",
       "336                  NaN          NaT                NaT  \n",
       "345                  NaN          NaT                NaT  \n",
       "356                  NaN          NaT                NaT  \n",
       "359                  NaN          NaT                NaT  \n",
       "362                  NaN          NaT                NaT  \n",
       "368                  NaN          NaT                NaT  \n",
       "371                  NaN          NaT                NaT  \n",
       "379                  NaN          NaT                NaT  \n",
       "380                  NaN          NaT                NaT  \n",
       "381                  NaN          NaT                NaT  \n",
       "382                  NaN          NaT                NaT  \n",
       "383                  NaN          NaT                NaT  \n",
       "...                  ...          ...                ...  \n",
       "8219                 NaN          NaT                NaT  \n",
       "8258                 NaN          NaT                NaT  \n",
       "8364                 NaN          NaT                NaT  \n",
       "8383                 NaN          NaT                NaT  \n",
       "8426                 NaN          NaT                NaT  \n",
       "8430                 NaN          NaT                NaT  \n",
       "8437             biopsie   2012-05-10         2012-06-30  \n",
       "8501                 NaN          NaT                NaT  \n",
       "8508                 NaN          NaT                NaT  \n",
       "8550                 NaN          NaT                NaT  \n",
       "8586                 NaN          NaT                NaT  \n",
       "8615                 NaN          NaT                NaT  \n",
       "8632                 NaN          NaT                NaT  \n",
       "8637                 NaN          NaT                NaT  \n",
       "8665                 NaN          NaT                NaT  \n",
       "8666                 NaN          NaT                NaT  \n",
       "8678                 NaN          NaT                NaT  \n",
       "8705                 NaN          NaT                NaT  \n",
       "8712                 NaN          NaT                NaT  \n",
       "8748                 NaN          NaT                NaT  \n",
       "8792                 NaN          NaT                NaT  \n",
       "8862                 NaN          NaT                NaT  \n",
       "8896                 NaN          NaT                NaT  \n",
       "8908                 NaN          NaT                NaT  \n",
       "8953                 NaN          NaT                NaT  \n",
       "8961                 NaN          NaT                NaT  \n",
       "9039                 NaN          NaT                NaT  \n",
       "9107             exérèse   2008-07-08                NaT  \n",
       "9108           partielle          NaT         2017-01-17  \n",
       "9491                 NaN          NaT                NaT  \n",
       "\n",
       "[332 rows x 40 columns]"
      ]
     },
     "execution_count": 146,
     "metadata": {},
     "output_type": "execute_result"
    }
   ],
   "source": [
    "merged_copy[merged_copy['Pat Sexe_x'].isnull()]"
   ]
  },
  {
   "cell_type": "code",
   "execution_count": 147,
   "metadata": {
    "collapsed": true
   },
   "outputs": [],
   "source": [
    "df_test = series3df[series3df[0].isnull()]"
   ]
  },
  {
   "cell_type": "code",
   "execution_count": 148,
   "metadata": {
    "collapsed": false
   },
   "outputs": [
    {
     "data": {
      "text/html": [
       "<div>\n",
       "<table border=\"1\" class=\"dataframe\">\n",
       "  <thead>\n",
       "    <tr style=\"text-align: right;\">\n",
       "      <th></th>\n",
       "      <th>0</th>\n",
       "    </tr>\n",
       "  </thead>\n",
       "  <tbody>\n",
       "    <tr>\n",
       "      <th>185</th>\n",
       "      <td>NaN</td>\n",
       "    </tr>\n",
       "    <tr>\n",
       "      <th>206</th>\n",
       "      <td>NaN</td>\n",
       "    </tr>\n",
       "    <tr>\n",
       "      <th>236</th>\n",
       "      <td>NaN</td>\n",
       "    </tr>\n",
       "    <tr>\n",
       "      <th>247</th>\n",
       "      <td>NaN</td>\n",
       "    </tr>\n",
       "    <tr>\n",
       "      <th>248</th>\n",
       "      <td>NaN</td>\n",
       "    </tr>\n",
       "    <tr>\n",
       "      <th>272</th>\n",
       "      <td>NaN</td>\n",
       "    </tr>\n",
       "    <tr>\n",
       "      <th>274</th>\n",
       "      <td>NaN</td>\n",
       "    </tr>\n",
       "    <tr>\n",
       "      <th>279</th>\n",
       "      <td>NaN</td>\n",
       "    </tr>\n",
       "    <tr>\n",
       "      <th>280</th>\n",
       "      <td>NaN</td>\n",
       "    </tr>\n",
       "    <tr>\n",
       "      <th>281</th>\n",
       "      <td>NaN</td>\n",
       "    </tr>\n",
       "    <tr>\n",
       "      <th>282</th>\n",
       "      <td>NaN</td>\n",
       "    </tr>\n",
       "    <tr>\n",
       "      <th>283</th>\n",
       "      <td>NaN</td>\n",
       "    </tr>\n",
       "    <tr>\n",
       "      <th>284</th>\n",
       "      <td>NaN</td>\n",
       "    </tr>\n",
       "    <tr>\n",
       "      <th>285</th>\n",
       "      <td>NaN</td>\n",
       "    </tr>\n",
       "    <tr>\n",
       "      <th>293</th>\n",
       "      <td>NaN</td>\n",
       "    </tr>\n",
       "    <tr>\n",
       "      <th>308</th>\n",
       "      <td>NaN</td>\n",
       "    </tr>\n",
       "    <tr>\n",
       "      <th>309</th>\n",
       "      <td>NaN</td>\n",
       "    </tr>\n",
       "    <tr>\n",
       "      <th>335</th>\n",
       "      <td>NaN</td>\n",
       "    </tr>\n",
       "    <tr>\n",
       "      <th>336</th>\n",
       "      <td>NaN</td>\n",
       "    </tr>\n",
       "    <tr>\n",
       "      <th>345</th>\n",
       "      <td>NaN</td>\n",
       "    </tr>\n",
       "    <tr>\n",
       "      <th>356</th>\n",
       "      <td>NaN</td>\n",
       "    </tr>\n",
       "    <tr>\n",
       "      <th>359</th>\n",
       "      <td>NaN</td>\n",
       "    </tr>\n",
       "    <tr>\n",
       "      <th>362</th>\n",
       "      <td>NaN</td>\n",
       "    </tr>\n",
       "    <tr>\n",
       "      <th>368</th>\n",
       "      <td>NaN</td>\n",
       "    </tr>\n",
       "    <tr>\n",
       "      <th>371</th>\n",
       "      <td>NaN</td>\n",
       "    </tr>\n",
       "    <tr>\n",
       "      <th>379</th>\n",
       "      <td>NaN</td>\n",
       "    </tr>\n",
       "    <tr>\n",
       "      <th>380</th>\n",
       "      <td>NaN</td>\n",
       "    </tr>\n",
       "    <tr>\n",
       "      <th>381</th>\n",
       "      <td>NaN</td>\n",
       "    </tr>\n",
       "    <tr>\n",
       "      <th>382</th>\n",
       "      <td>NaN</td>\n",
       "    </tr>\n",
       "    <tr>\n",
       "      <th>383</th>\n",
       "      <td>NaN</td>\n",
       "    </tr>\n",
       "    <tr>\n",
       "      <th>...</th>\n",
       "      <td>...</td>\n",
       "    </tr>\n",
       "    <tr>\n",
       "      <th>8219</th>\n",
       "      <td>NaN</td>\n",
       "    </tr>\n",
       "    <tr>\n",
       "      <th>8258</th>\n",
       "      <td>NaN</td>\n",
       "    </tr>\n",
       "    <tr>\n",
       "      <th>8364</th>\n",
       "      <td>NaN</td>\n",
       "    </tr>\n",
       "    <tr>\n",
       "      <th>8383</th>\n",
       "      <td>NaN</td>\n",
       "    </tr>\n",
       "    <tr>\n",
       "      <th>8426</th>\n",
       "      <td>NaN</td>\n",
       "    </tr>\n",
       "    <tr>\n",
       "      <th>8430</th>\n",
       "      <td>NaN</td>\n",
       "    </tr>\n",
       "    <tr>\n",
       "      <th>8437</th>\n",
       "      <td>NaN</td>\n",
       "    </tr>\n",
       "    <tr>\n",
       "      <th>8501</th>\n",
       "      <td>NaN</td>\n",
       "    </tr>\n",
       "    <tr>\n",
       "      <th>8508</th>\n",
       "      <td>NaN</td>\n",
       "    </tr>\n",
       "    <tr>\n",
       "      <th>8550</th>\n",
       "      <td>NaN</td>\n",
       "    </tr>\n",
       "    <tr>\n",
       "      <th>8586</th>\n",
       "      <td>NaN</td>\n",
       "    </tr>\n",
       "    <tr>\n",
       "      <th>8615</th>\n",
       "      <td>NaN</td>\n",
       "    </tr>\n",
       "    <tr>\n",
       "      <th>8632</th>\n",
       "      <td>NaN</td>\n",
       "    </tr>\n",
       "    <tr>\n",
       "      <th>8637</th>\n",
       "      <td>NaN</td>\n",
       "    </tr>\n",
       "    <tr>\n",
       "      <th>8665</th>\n",
       "      <td>NaN</td>\n",
       "    </tr>\n",
       "    <tr>\n",
       "      <th>8666</th>\n",
       "      <td>NaN</td>\n",
       "    </tr>\n",
       "    <tr>\n",
       "      <th>8678</th>\n",
       "      <td>NaN</td>\n",
       "    </tr>\n",
       "    <tr>\n",
       "      <th>8705</th>\n",
       "      <td>NaN</td>\n",
       "    </tr>\n",
       "    <tr>\n",
       "      <th>8712</th>\n",
       "      <td>NaN</td>\n",
       "    </tr>\n",
       "    <tr>\n",
       "      <th>8748</th>\n",
       "      <td>NaN</td>\n",
       "    </tr>\n",
       "    <tr>\n",
       "      <th>8792</th>\n",
       "      <td>NaN</td>\n",
       "    </tr>\n",
       "    <tr>\n",
       "      <th>8862</th>\n",
       "      <td>NaN</td>\n",
       "    </tr>\n",
       "    <tr>\n",
       "      <th>8896</th>\n",
       "      <td>NaN</td>\n",
       "    </tr>\n",
       "    <tr>\n",
       "      <th>8908</th>\n",
       "      <td>NaN</td>\n",
       "    </tr>\n",
       "    <tr>\n",
       "      <th>8953</th>\n",
       "      <td>NaN</td>\n",
       "    </tr>\n",
       "    <tr>\n",
       "      <th>8961</th>\n",
       "      <td>NaN</td>\n",
       "    </tr>\n",
       "    <tr>\n",
       "      <th>9039</th>\n",
       "      <td>NaN</td>\n",
       "    </tr>\n",
       "    <tr>\n",
       "      <th>9107</th>\n",
       "      <td>NaN</td>\n",
       "    </tr>\n",
       "    <tr>\n",
       "      <th>9108</th>\n",
       "      <td>NaN</td>\n",
       "    </tr>\n",
       "    <tr>\n",
       "      <th>9491</th>\n",
       "      <td>NaN</td>\n",
       "    </tr>\n",
       "  </tbody>\n",
       "</table>\n",
       "<p>332 rows × 1 columns</p>\n",
       "</div>"
      ],
      "text/plain": [
       "        0\n",
       "185   NaN\n",
       "206   NaN\n",
       "236   NaN\n",
       "247   NaN\n",
       "248   NaN\n",
       "272   NaN\n",
       "274   NaN\n",
       "279   NaN\n",
       "280   NaN\n",
       "281   NaN\n",
       "282   NaN\n",
       "283   NaN\n",
       "284   NaN\n",
       "285   NaN\n",
       "293   NaN\n",
       "308   NaN\n",
       "309   NaN\n",
       "335   NaN\n",
       "336   NaN\n",
       "345   NaN\n",
       "356   NaN\n",
       "359   NaN\n",
       "362   NaN\n",
       "368   NaN\n",
       "371   NaN\n",
       "379   NaN\n",
       "380   NaN\n",
       "381   NaN\n",
       "382   NaN\n",
       "383   NaN\n",
       "...   ...\n",
       "8219  NaN\n",
       "8258  NaN\n",
       "8364  NaN\n",
       "8383  NaN\n",
       "8426  NaN\n",
       "8430  NaN\n",
       "8437  NaN\n",
       "8501  NaN\n",
       "8508  NaN\n",
       "8550  NaN\n",
       "8586  NaN\n",
       "8615  NaN\n",
       "8632  NaN\n",
       "8637  NaN\n",
       "8665  NaN\n",
       "8666  NaN\n",
       "8678  NaN\n",
       "8705  NaN\n",
       "8712  NaN\n",
       "8748  NaN\n",
       "8792  NaN\n",
       "8862  NaN\n",
       "8896  NaN\n",
       "8908  NaN\n",
       "8953  NaN\n",
       "8961  NaN\n",
       "9039  NaN\n",
       "9107  NaN\n",
       "9108  NaN\n",
       "9491  NaN\n",
       "\n",
       "[332 rows x 1 columns]"
      ]
     },
     "execution_count": 148,
     "metadata": {},
     "output_type": "execute_result"
    }
   ],
   "source": [
    "df_test"
   ]
  },
  {
   "cell_type": "code",
   "execution_count": 149,
   "metadata": {
    "collapsed": false
   },
   "outputs": [
    {
     "data": {
      "text/plain": [
       "Int64Index([ 185,  206,  236,  247,  248,  272,  274,  279,  280,  281,\n",
       "            ...\n",
       "            8792, 8862, 8896, 8908, 8953, 8961, 9039, 9107, 9108, 9491],\n",
       "           dtype='int64', length=332)"
      ]
     },
     "execution_count": 149,
     "metadata": {},
     "output_type": "execute_result"
    }
   ],
   "source": [
    "df_test.index"
   ]
  },
  {
   "cell_type": "code",
   "execution_count": 150,
   "metadata": {
    "collapsed": true
   },
   "outputs": [],
   "source": [
    "df_test2 = merged_copy[merged_copy['Pat Sexe_x'].isnull()]"
   ]
  },
  {
   "cell_type": "code",
   "execution_count": 151,
   "metadata": {
    "collapsed": false
   },
   "outputs": [
    {
     "data": {
      "text/plain": [
       "Int64Index([ 185,  206,  236,  247,  248,  272,  274,  279,  280,  281,\n",
       "            ...\n",
       "            8792, 8862, 8896, 8908, 8953, 8961, 9039, 9107, 9108, 9491],\n",
       "           dtype='int64', length=332)"
      ]
     },
     "execution_count": 151,
     "metadata": {},
     "output_type": "execute_result"
    }
   ],
   "source": [
    "df_test2.index"
   ]
  },
  {
   "cell_type": "code",
   "execution_count": 152,
   "metadata": {
    "collapsed": false
   },
   "outputs": [
    {
     "data": {
      "text/plain": [
       "332"
      ]
     },
     "execution_count": 152,
     "metadata": {},
     "output_type": "execute_result"
    }
   ],
   "source": [
    "np.sum(df_test.index == df_test2.index)"
   ]
  },
  {
   "cell_type": "code",
   "execution_count": 153,
   "metadata": {
    "collapsed": true
   },
   "outputs": [],
   "source": [
    "#created a Series which has either the value of column_x if this has one, or of column_y is column_x is null\n",
    "#the resulting Series has the same number of nulls as column_x, and they have the same index\n",
    "#column_y therefore did not bring any additional information to column_x and can be discarded"
   ]
  },
  {
   "cell_type": "code",
   "execution_count": 154,
   "metadata": {
    "collapsed": true
   },
   "outputs": [],
   "source": [
    "#The other columns where we have doubles are:\n",
    "#Pat Date Naissance_x', 'Dwh Pat Dn Date_x', 'Dwh Pat Date Deces_x"
   ]
  },
  {
   "cell_type": "code",
   "execution_count": 155,
   "metadata": {
    "collapsed": false
   },
   "outputs": [
    {
     "data": {
      "text/plain": [
       "63"
      ]
     },
     "execution_count": 155,
     "metadata": {},
     "output_type": "execute_result"
    }
   ],
   "source": [
    "merged_copy['Pat Date Naissance_x'].isnull().sum()"
   ]
  },
  {
   "cell_type": "code",
   "execution_count": 156,
   "metadata": {
    "collapsed": false
   },
   "outputs": [
    {
     "data": {
      "text/plain": [
       "2868"
      ]
     },
     "execution_count": 156,
     "metadata": {},
     "output_type": "execute_result"
    }
   ],
   "source": [
    "merged_copy['Pat Date Naissance_y'].isnull().sum()"
   ]
  },
  {
   "cell_type": "code",
   "execution_count": 157,
   "metadata": {
    "collapsed": true
   },
   "outputs": [],
   "source": [
    "pat_date_naissance_x_null = merged_copy[merged_copy['Pat Date Naissance_x'].isnull()]"
   ]
  },
  {
   "cell_type": "code",
   "execution_count": 158,
   "metadata": {
    "collapsed": false
   },
   "outputs": [
    {
     "data": {
      "text/plain": [
       "63"
      ]
     },
     "execution_count": 158,
     "metadata": {},
     "output_type": "execute_result"
    }
   ],
   "source": [
    "len(pat_date_naissance_x_null)"
   ]
  },
  {
   "cell_type": "code",
   "execution_count": 159,
   "metadata": {
    "collapsed": true
   },
   "outputs": [],
   "source": [
    "pat_date_naissance_y_null = merged_copy[merged_copy['Pat Date Naissance_y'].isnull()]"
   ]
  },
  {
   "cell_type": "code",
   "execution_count": 160,
   "metadata": {
    "collapsed": false
   },
   "outputs": [
    {
     "data": {
      "text/plain": [
       "2868"
      ]
     },
     "execution_count": 160,
     "metadata": {},
     "output_type": "execute_result"
    }
   ],
   "source": [
    "len(pat_date_naissance_y_null)"
   ]
  },
  {
   "cell_type": "code",
   "execution_count": 161,
   "metadata": {
    "collapsed": false
   },
   "outputs": [
    {
     "data": {
      "text/plain": [
       "Int64Index([ 183,  184,  190,  195,  196,  200,  202,  214,  217,  219,  226,\n",
       "             230,  236,  283,  284,  287,  288,  289,  290,  291,  350,  351,\n",
       "             352,  353,  362,  366,  367,  415,  450,  504,  566,  631,  665,\n",
       "             671,  672,  764,  766,  774,  775,  776,  777,  778,  779,  780,\n",
       "             781,  782,  783,  784,  785,  790,  940,  955, 1126, 1556, 1582,\n",
       "            1586, 1587, 1784, 1785, 1835, 2707, 7785, 7985],\n",
       "           dtype='int64')"
      ]
     },
     "execution_count": 161,
     "metadata": {},
     "output_type": "execute_result"
    }
   ],
   "source": [
    "pat_date_naissance_x_null.index"
   ]
  },
  {
   "cell_type": "code",
   "execution_count": 162,
   "metadata": {
    "collapsed": false
   },
   "outputs": [
    {
     "data": {
      "text/plain": [
       "Int64Index([ 180,  181,  182,  183,  184,  185,  186,  187,  188,  189,\n",
       "            ...\n",
       "            9760, 9761, 9762, 9763, 9764, 9765, 9766, 9767, 9768, 9769],\n",
       "           dtype='int64', length=2868)"
      ]
     },
     "execution_count": 162,
     "metadata": {},
     "output_type": "execute_result"
    }
   ],
   "source": [
    "pat_date_naissance_y_null.index"
   ]
  },
  {
   "cell_type": "code",
   "execution_count": 163,
   "metadata": {
    "collapsed": true
   },
   "outputs": [],
   "source": [
    "df = [lambda x: x for x in pat_date_naissance_y_null.index if x not in pat_date_naissance_x_null.index]"
   ]
  },
  {
   "cell_type": "code",
   "execution_count": 164,
   "metadata": {
    "collapsed": false
   },
   "outputs": [
    {
     "data": {
      "text/plain": [
       "2805"
      ]
     },
     "execution_count": 164,
     "metadata": {},
     "output_type": "execute_result"
    }
   ],
   "source": [
    "len(df)"
   ]
  },
  {
   "cell_type": "code",
   "execution_count": 165,
   "metadata": {
    "collapsed": true
   },
   "outputs": [],
   "source": [
    "df_1 = [lambda x: x for x in pat_date_naissance_x_null.index if x not in pat_date_naissance_y_null.index]"
   ]
  },
  {
   "cell_type": "code",
   "execution_count": 166,
   "metadata": {
    "collapsed": false
   },
   "outputs": [
    {
     "data": {
      "text/plain": [
       "0"
      ]
     },
     "execution_count": 166,
     "metadata": {},
     "output_type": "execute_result"
    }
   ],
   "source": [
    "len(df_1)"
   ]
  },
  {
   "cell_type": "code",
   "execution_count": 167,
   "metadata": {
    "collapsed": false
   },
   "outputs": [
    {
     "data": {
      "text/plain": [
       "5672"
      ]
     },
     "execution_count": 167,
     "metadata": {},
     "output_type": "execute_result"
    }
   ],
   "source": [
    "merged_copy['Dwh Pat Dn Date_x'].isnull().sum()"
   ]
  },
  {
   "cell_type": "code",
   "execution_count": 168,
   "metadata": {
    "collapsed": false
   },
   "outputs": [
    {
     "data": {
      "text/plain": [
       "6880"
      ]
     },
     "execution_count": 168,
     "metadata": {},
     "output_type": "execute_result"
    }
   ],
   "source": [
    "merged_copy['Dwh Pat Dn Date_y'].isnull().sum()"
   ]
  },
  {
   "cell_type": "code",
   "execution_count": 169,
   "metadata": {
    "collapsed": true
   },
   "outputs": [],
   "source": [
    "dwh_pat_dn_date_x_null = merged_copy[merged_copy['Dwh Pat Dn Date_x'].isnull()]"
   ]
  },
  {
   "cell_type": "code",
   "execution_count": 170,
   "metadata": {
    "collapsed": true
   },
   "outputs": [],
   "source": [
    "dwh_pat_dn_date_y_null = merged_copy[merged_copy['Dwh Pat Dn Date_y'].isnull()]"
   ]
  },
  {
   "cell_type": "code",
   "execution_count": 171,
   "metadata": {
    "collapsed": true
   },
   "outputs": [],
   "source": [
    "df_2 = [lambda x: x for x in dwh_pat_dn_date_x_null.index if x not in dwh_pat_dn_date_y_null.index]"
   ]
  },
  {
   "cell_type": "code",
   "execution_count": 172,
   "metadata": {
    "collapsed": false
   },
   "outputs": [
    {
     "data": {
      "text/plain": [
       "2890"
      ]
     },
     "execution_count": 172,
     "metadata": {},
     "output_type": "execute_result"
    }
   ],
   "source": [
    "len(df_2)"
   ]
  },
  {
   "cell_type": "code",
   "execution_count": 173,
   "metadata": {
    "collapsed": false
   },
   "outputs": [
    {
     "data": {
      "text/plain": [
       "5672"
      ]
     },
     "execution_count": 173,
     "metadata": {},
     "output_type": "execute_result"
    }
   ],
   "source": [
    "merged_copy['Dwh Pat Date Deces_x'].isnull().sum()"
   ]
  },
  {
   "cell_type": "code",
   "execution_count": 174,
   "metadata": {
    "collapsed": false
   },
   "outputs": [
    {
     "data": {
      "text/plain": [
       "5759"
      ]
     },
     "execution_count": 174,
     "metadata": {},
     "output_type": "execute_result"
    }
   ],
   "source": [
    "merged_copy['Dwh Pat Date Deces_y'].isnull().sum()"
   ]
  },
  {
   "cell_type": "code",
   "execution_count": 175,
   "metadata": {
    "collapsed": true
   },
   "outputs": [],
   "source": [
    "dwh_pat_date_deces_x_null = merged_copy[merged_copy['Dwh Pat Date Deces_x'].isnull()]"
   ]
  },
  {
   "cell_type": "code",
   "execution_count": 176,
   "metadata": {
    "collapsed": true
   },
   "outputs": [],
   "source": [
    "dwh_pat_date_deces_y_null = merged_copy[merged_copy['Dwh Pat Date Deces_y'].isnull()]"
   ]
  },
  {
   "cell_type": "code",
   "execution_count": 177,
   "metadata": {
    "collapsed": true
   },
   "outputs": [],
   "source": [
    "df_3 = [lambda x: x for x in dwh_pat_date_deces_x_null.index if x not in dwh_pat_date_deces_y_null.index]"
   ]
  },
  {
   "cell_type": "code",
   "execution_count": 178,
   "metadata": {
    "collapsed": false
   },
   "outputs": [
    {
     "data": {
      "text/plain": [
       "0"
      ]
     },
     "execution_count": 178,
     "metadata": {},
     "output_type": "execute_result"
    }
   ],
   "source": [
    "len(df_3)"
   ]
  },
  {
   "cell_type": "code",
   "execution_count": 179,
   "metadata": {
    "collapsed": true
   },
   "outputs": [],
   "source": [
    "#since Dwh Pat Date Deces_y has more null values than Dwh Pat Date Deces_x, and the indexes of all the null values\n",
    "#of column _x also appear in column_y, column_y carries no additional information to column_x and we can discard it."
   ]
  },
  {
   "cell_type": "code",
   "execution_count": 180,
   "metadata": {
    "collapsed": true
   },
   "outputs": [],
   "source": [
    "merged_copy_reduced = merged_copy[['Dwh Prv Nip', 'Pat Nip', 'Pat Sexe_x',\n",
    "       'Pat Date Naissance_x',\n",
    "       'Dwh Prv Date Chir', 'Dwh Prv Diag Histologie', 'Grade', 'Dwh Gen Idh1',\n",
    "       'Dwh Gen Idh2', 'Dwh Gen Htert C228T', 'Dwh Gen Htert C250T',\n",
    "       'Dwh Gen P53', 'Dwh Gen Mgmt', 'Dwh Gen Egfr', 'Dwh Gen Mdm2',\n",
    "       'Dwh Gen Cdk4', 'Dwh Gen P16', 'Dwh Ihc Atrx', 'Dwh Chr Ch1P',\n",
    "       'Dwh Chr Ch19Q', 'Dwh Chr Ch10P', 'Dwh Chr Ch10Q', 'Dwh Chr Ch9P',\n",
    "       'Dwh Chr Ch9Q', 'Dwh Pat Tumeur Siege', 'Dwh Pat Tumeur Position',\n",
    "        'Clin Diag Histologie', 'Grade histo',\n",
    "       'Clin Chir Date', 'Clin Evolution', 'Clin Type Chirurgie']]"
   ]
  },
  {
   "cell_type": "code",
   "execution_count": 181,
   "metadata": {
    "collapsed": false
   },
   "outputs": [
    {
     "data": {
      "text/plain": [
       "Index(['Dwh Prv Nip', 'Pat Nip', 'Pat Sexe_x', 'Pat Date Naissance_x',\n",
       "       'Dwh Prv Date Chir', 'Dwh Prv Diag Histologie', 'Grade', 'Dwh Gen Idh1',\n",
       "       'Dwh Gen Idh2', 'Dwh Gen Htert C228T', 'Dwh Gen Htert C250T',\n",
       "       'Dwh Gen P53', 'Dwh Gen Mgmt', 'Dwh Gen Egfr', 'Dwh Gen Mdm2',\n",
       "       'Dwh Gen Cdk4', 'Dwh Gen P16', 'Dwh Ihc Atrx', 'Dwh Chr Ch1P',\n",
       "       'Dwh Chr Ch19Q', 'Dwh Chr Ch10P', 'Dwh Chr Ch10Q', 'Dwh Chr Ch9P',\n",
       "       'Dwh Chr Ch9Q', 'Dwh Pat Tumeur Siege', 'Dwh Pat Tumeur Position',\n",
       "       'Clin Diag Histologie', 'Grade histo', 'Clin Chir Date',\n",
       "       'Clin Evolution', 'Clin Type Chirurgie'],\n",
       "      dtype='object')"
      ]
     },
     "execution_count": 181,
     "metadata": {},
     "output_type": "execute_result"
    }
   ],
   "source": [
    "merged_copy_reduced.columns"
   ]
  },
  {
   "cell_type": "code",
   "execution_count": 182,
   "metadata": {
    "collapsed": false
   },
   "outputs": [
    {
     "data": {
      "text/plain": [
       "9770"
      ]
     },
     "execution_count": 182,
     "metadata": {},
     "output_type": "execute_result"
    }
   ],
   "source": [
    "len(merged_copy_reduced)"
   ]
  },
  {
   "cell_type": "code",
   "execution_count": 187,
   "metadata": {
    "collapsed": false
   },
   "outputs": [],
   "source": [
    "merged_copy_reduced_no_nulls = merged_copy_reduced.dropna(thresh=20)"
   ]
  },
  {
   "cell_type": "code",
   "execution_count": 188,
   "metadata": {
    "collapsed": false
   },
   "outputs": [
    {
     "data": {
      "text/plain": [
       "5390"
      ]
     },
     "execution_count": 188,
     "metadata": {},
     "output_type": "execute_result"
    }
   ],
   "source": [
    "len(merged_copy_reduced_no_nulls)"
   ]
  },
  {
   "cell_type": "code",
   "execution_count": null,
   "metadata": {
    "collapsed": true
   },
   "outputs": [],
   "source": []
  },
  {
   "cell_type": "code",
   "execution_count": null,
   "metadata": {
    "collapsed": true
   },
   "outputs": [],
   "source": []
  },
  {
   "cell_type": "code",
   "execution_count": null,
   "metadata": {
    "collapsed": true
   },
   "outputs": [],
   "source": []
  },
  {
   "cell_type": "code",
   "execution_count": null,
   "metadata": {
    "collapsed": true
   },
   "outputs": [],
   "source": []
  },
  {
   "cell_type": "code",
   "execution_count": null,
   "metadata": {
    "collapsed": true
   },
   "outputs": [],
   "source": []
  },
  {
   "cell_type": "code",
   "execution_count": null,
   "metadata": {
    "collapsed": true
   },
   "outputs": [],
   "source": []
  },
  {
   "cell_type": "code",
   "execution_count": null,
   "metadata": {
    "collapsed": true
   },
   "outputs": [],
   "source": []
  },
  {
   "cell_type": "code",
   "execution_count": null,
   "metadata": {
    "collapsed": true
   },
   "outputs": [],
   "source": []
  },
  {
   "cell_type": "code",
   "execution_count": null,
   "metadata": {
    "collapsed": true
   },
   "outputs": [],
   "source": []
  },
  {
   "cell_type": "code",
   "execution_count": null,
   "metadata": {
    "collapsed": true
   },
   "outputs": [],
   "source": []
  },
  {
   "cell_type": "code",
   "execution_count": null,
   "metadata": {
    "collapsed": true
   },
   "outputs": [],
   "source": []
  },
  {
   "cell_type": "code",
   "execution_count": null,
   "metadata": {
    "collapsed": true
   },
   "outputs": [],
   "source": []
  }
 ],
 "metadata": {
  "kernelspec": {
   "display_name": "Python 3",
   "language": "python",
   "name": "python3"
  },
  "language_info": {
   "codemirror_mode": {
    "name": "ipython",
    "version": 3
   },
   "file_extension": ".py",
   "mimetype": "text/x-python",
   "name": "python",
   "nbconvert_exporter": "python",
   "pygments_lexer": "ipython3",
   "version": "3.6.0"
  }
 },
 "nbformat": 4,
 "nbformat_minor": 2
}
