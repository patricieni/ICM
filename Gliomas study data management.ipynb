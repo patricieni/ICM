{
 "cells": [
  {
   "cell_type": "markdown",
   "metadata": {
    "collapsed": false
   },
   "source": [
    "# Preprocessing and storing DF in pickle\n",
    "Perhaps we might Dwh Pat Dn Date later on. "
   ]
  },
  {
   "cell_type": "code",
   "execution_count": 1,
   "metadata": {
    "collapsed": false
   },
   "outputs": [],
   "source": [
    "import pandas as pd\n",
    "import numpy as np\n",
    "from pathlib import Path\n",
    "import os \n",
    "from datetime import timedelta\n",
    "pd.set_option('display.max_columns', None)\n",
    "\n",
    "data_path = str(Path(os.getcwd())) + \"/data/\"\n",
    "\n",
    "def write_to_pickle(dataframe, name):\n",
    "    dataframe.to_pickle(data_path + name + \".pickle\")\n",
    "def read_from_pickle(name): \n",
    "    return pd.read_pickle(data_path + name + \".pickle\")"
   ]
  },
  {
   "cell_type": "code",
   "execution_count": 2,
   "metadata": {
    "collapsed": false
   },
   "outputs": [],
   "source": [
    "bio = pd.read_excel('data/20170713_Marc Gliomes_Bio.xlsx', index_col = None)\n",
    "clin = pd.read_excel('data/20170713_Marc Gliomes_Clin.xlsx', index_col = None)"
   ]
  },
  {
   "cell_type": "code",
   "execution_count": null,
   "metadata": {
    "collapsed": true
   },
   "outputs": [],
   "source": [
    "b = bio.loc[bio['Pat Nip']==4406078178,'Dwh Prv Date Chir']\n",
    "c = clin.loc[clin['Pat Nip']==4406078178,'Clin Chir Date']\n",
    "\n",
    "#c.iloc[:len(c)]=1\n",
    "#clin.loc[clin['Pat Nip']==4406078178,'Clin Chir Date'] = c\n",
    "#clin.loc[clin['Pat Nip']==4406078178,'Clin Chir Date'] \n",
    "#print(clin.loc[clin['Pat Nip']==4406078178,'Clin Chir Date'].iloc[i])\n",
    "#clin.loc[clin['Pat Nip']==4406078178,'Clin Chir Date']    \n",
    "#bio['Dwh Prv Date Chir'] = bio['Dwh Prv Date Chir'].apply(lambda x: x.to_pydatetime())\n",
    "#bio.loc[2,'Dwh Prv Date Chir'].to_pydatetime()-timedelta(days=1)\n",
    "#clin['Clin Chir Date'] = clin['Clin Chir Date'].apply(lambda x: x.to_pydatetime() + timedelta(days=1))\n",
    "#bio['Dwh Prv Date Chir'] = bio['Dwh Prv Date Chir'].apply(lambda x: x.to_pydatetime())"
   ]
  },
  {
   "cell_type": "markdown",
   "metadata": {},
   "source": [
    "Fix the surgery and clinical date so that they match"
   ]
  },
  {
   "cell_type": "code",
   "execution_count": 3,
   "metadata": {
    "collapsed": false
   },
   "outputs": [],
   "source": [
    "# Make the two surgery dates match \n",
    "# You are taking copies of the dataframe with loc and iloc, so you need to pay attention when you do assignment\n",
    "# Can definitely remove one or both 'for' loops\n",
    "for val in np.unique(clin['Pat Nip']): \n",
    "    bio_data = bio.loc[bio['Pat Nip']==val,'Dwh Prv Date Chir']\n",
    "    clin_data = clin.loc[clin['Pat Nip']==val,'Clin Chir Date']\n",
    "    lc = len(clin_data)\n",
    "    lb = len(bio_data)\n",
    "    if lc <=lb:\n",
    "        for i in range(0,lc):\n",
    "            clin_data.iloc[i] = bio_data.iloc[i]        \n",
    "    else: \n",
    "        for i in range(0,lb):\n",
    "            clin_data.iloc[i] = bio_data.iloc[i]\n",
    "    clin.loc[clin['Pat Nip']==val,'Clin Chir Date'] = clin_data        "
   ]
  },
  {
   "cell_type": "code",
   "execution_count": 4,
   "metadata": {
    "collapsed": false
   },
   "outputs": [
    {
     "data": {
      "text/plain": [
       "Index(['Dwh Prv Nip', 'Dwh Pat Consentement', 'Pat Nip', 'Pat Sexe_x',\n",
       "       'Pat Date Naissance_x', 'Dwh Pat Dn Date_x', 'Dwh Pat Date Deces_x',\n",
       "       'Dwh Prv Date Chir', 'Dwh Prv Diag Histologie', 'Grade', 'Dwh Gen Idh1',\n",
       "       'Dwh Gen Idh2', 'Dwh Gen Htert C228T', 'Dwh Gen Htert C250T',\n",
       "       'Dwh Gen P53', 'Dwh Gen Mgmt', 'Dwh Gen Egfr', 'Dwh Gen Mdm2',\n",
       "       'Dwh Gen Cdk4', 'Dwh Gen P16', 'Dwh Ihc Atrx', 'Dwh Chr Ch1P',\n",
       "       'Dwh Chr Ch19Q', 'Dwh Chr Ch10P', 'Dwh Chr Ch10Q', 'Dwh Chr Ch9P',\n",
       "       'Dwh Chr Ch9Q', 'Dwh Pat Tumeur Siege', 'Dwh Pat Tumeur Position',\n",
       "       'Pat Sexe_y', 'Pat Date Naissance_y', 'Dwh Pat Dn Date_y',\n",
       "       'Dwh Pat Date Deces_y', 'Clin Diag Histologie', 'Grade histo',\n",
       "       'Clin Chir Date', 'Clin Evolution', 'Clin Type Chirurgie',\n",
       "       'Clin Rx Date', 'Dwh Chm Date Debut'],\n",
       "      dtype='object')"
      ]
     },
     "execution_count": 4,
     "metadata": {},
     "output_type": "execute_result"
    }
   ],
   "source": [
    "df = pd.merge(bio, clin, left_on = ['Pat Nip','Dwh Prv Date Chir'], right_on = ['Pat Nip','Clin Chir Date'],how='outer')\n",
    "df.columns"
   ]
  },
  {
   "cell_type": "markdown",
   "metadata": {},
   "source": [
    "Before merging sexes, birthdays and deaths"
   ]
  },
  {
   "cell_type": "code",
   "execution_count": 5,
   "metadata": {
    "collapsed": false
   },
   "outputs": [
    {
     "name": "stdout",
     "output_type": "stream",
     "text": [
      "False    7456\n",
      "True      369\n",
      "Name: Pat Sexe_x, dtype: int64\n",
      "False    7725\n",
      "True      100\n",
      "Name: Pat Date Naissance_x, dtype: int64\n",
      "True     4921\n",
      "False    2904\n",
      "Name: Dwh Pat Date Deces_x, dtype: int64\n"
     ]
    }
   ],
   "source": [
    "# Can check before merging the whole thing as well. \n",
    "#bio['Pat Sexe'].isnull().value_counts()\n",
    "print(df['Pat Sexe_x'].isnull().value_counts())\n",
    "print(df['Pat Date Naissance_x'].isnull().value_counts())\n",
    "print(df['Dwh Pat Date Deces_x'].isnull().value_counts())"
   ]
  },
  {
   "cell_type": "markdown",
   "metadata": {},
   "source": [
    "# Copy all _y columns into _x: sex, birthday and death, clinical histology, grade histology"
   ]
  },
  {
   "cell_type": "code",
   "execution_count": 5,
   "metadata": {
    "collapsed": false
   },
   "outputs": [],
   "source": [
    "for val in np.unique(df['Pat Nip']): \n",
    "    x_data = df.loc[df['Pat Nip']==val,'Pat Sexe_x']\n",
    "    y_data = df.loc[df['Pat Nip']==val,'Pat Sexe_y']\n",
    "    lc = len(x_data)\n",
    "    for i in range(0,lc):\n",
    "        check = x_data.iloc[i]\n",
    "        if pd.isnull(check):\n",
    "             x_data.iloc[i] = y_data.iloc[i]        \n",
    "    df.loc[df['Pat Nip']==val,'Pat Sexe_x'] = x_data\n",
    "\n",
    "for val in np.unique(df['Pat Nip']): \n",
    "    x_data = df.loc[df['Pat Nip']==val,'Pat Date Naissance_x']\n",
    "    y_data = df.loc[df['Pat Nip']==val,'Pat Date Naissance_y']\n",
    "    lc = len(x_data)\n",
    "    for i in range(0,lc):\n",
    "        check = x_data.iloc[i]\n",
    "        if pd.isnull(check):\n",
    "             x_data.iloc[i] = y_data.iloc[i]        \n",
    "    df.loc[df['Pat Nip']==val,'Pat Date Naissance_x'] = x_data    \n",
    "\n",
    "for val in np.unique(df['Pat Nip']): \n",
    "    x_data = df.loc[df['Pat Nip']==val,'Dwh Pat Date Deces_x']\n",
    "    y_data = df.loc[df['Pat Nip']==val,'Dwh Pat Date Deces_y']\n",
    "    lc = len(x_data)\n",
    "    for i in range(0,lc):\n",
    "        check = x_data.iloc[i]\n",
    "        if pd.isnull(check):\n",
    "             x_data.iloc[i] = y_data.iloc[i]        \n",
    "    df.loc[df['Pat Nip']==val,'Dwh Pat Date Deces_x'] = x_data   \n",
    "    \n",
    "for val in np.unique(df['Pat Nip']): \n",
    "    x_data = df.loc[df['Pat Nip']==val,'Dwh Prv Diag Histologie']\n",
    "    y_data = df.loc[df['Pat Nip']==val,'Clin Diag Histologie']\n",
    "    lc = len(x_data)\n",
    "    for i in range(0,lc):\n",
    "        check = x_data.iloc[i]\n",
    "        if pd.isnull(check):\n",
    "             x_data.iloc[i] = y_data.iloc[i]        \n",
    "    df.loc[df['Pat Nip']==val,'Dwh Prv Diag Histologie'] = x_data   \n",
    "\n",
    "for val in np.unique(df['Pat Nip']): \n",
    "    x_data = df.loc[df['Pat Nip']==val,'Grade']\n",
    "    y_data = df.loc[df['Pat Nip']==val,'Grade histo']\n",
    "    lc = len(x_data)\n",
    "    for i in range(0,lc):\n",
    "        check = x_data.iloc[i]\n",
    "        if pd.isnull(check):\n",
    "             x_data.iloc[i] = y_data.iloc[i]        \n",
    "    df.loc[df['Pat Nip']==val,'Grade'] = x_data   \n",
    "\n",
    "for val in np.unique(df['Pat Nip']): \n",
    "    x_data = df.loc[df['Pat Nip']==val,'Dwh Pat Dn Date_x']\n",
    "    y_data = df.loc[df['Pat Nip']==val,'Dwh Pat Dn Date_y']\n",
    "    lc = len(x_data)\n",
    "    for i in range(0,lc):\n",
    "        check = x_data.iloc[i]\n",
    "        if pd.isnull(check):\n",
    "             x_data.iloc[i] = y_data.iloc[i]        \n",
    "    df.loc[df['Pat Nip']==val,'Dwh Pat Dn Date_x'] = x_data   \n"
   ]
  },
  {
   "cell_type": "code",
   "execution_count": 6,
   "metadata": {
    "collapsed": false
   },
   "outputs": [
    {
     "name": "stdout",
     "output_type": "stream",
     "text": [
      "False    7493\n",
      "True      332\n",
      "Name: Pat Sexe_x, dtype: int64\n",
      "False    7762\n",
      "True       63\n",
      "Name: Pat Date Naissance_x, dtype: int64\n",
      "True     4908\n",
      "False    2917\n",
      "Name: Dwh Pat Date Deces_x, dtype: int64\n",
      "False    7825\n",
      "Name: Dwh Prv Diag Histologie, dtype: int64\n"
     ]
    }
   ],
   "source": [
    "# A small improvement\n",
    "print(df['Pat Sexe_x'].isnull().value_counts())\n",
    "print(df['Pat Date Naissance_x'].isnull().value_counts())\n",
    "print(df['Dwh Pat Date Deces_x'].isnull().value_counts())\n",
    "print(df['Dwh Prv Diag Histologie'].isnull().value_counts())\n",
    "# Testing for empty values with an example to make sure merge is correct \n",
    "#clin.loc[clin['Pat Nip']==1111112776, 'Pat Sexe'].values\n",
    "#clin['Pat Sexe'].value_counts()\n",
    "#clin.loc[clin['Pat Sexe'].isnull()==True,'Pat Nip']"
   ]
  },
  {
   "cell_type": "code",
   "execution_count": 7,
   "metadata": {
    "collapsed": true
   },
   "outputs": [],
   "source": [
    "df.rename(columns = {'Pat Nip':'ID','Pat Sexe_x':'Sex','Dwh Pat Dn Date_x':'Diagnostic_date','Pat Date Naissance_x':'DoB','Dwh Pat Date Deces_x':'Death_date',\n",
    "                      'Dwh Prv Date Chir':'Surgery_date', 'Dwh Prv Diag Histologie':'Tumor_type','Grade':'Tumor_grade',\n",
    "                      'Dwh Gen Idh1':'Gene_Idh1', 'Dwh Gen Idh2':'Gene_Idh2','Dwh Gen Htert C228T':'Gene_Htert_C228T', \n",
    "                      'Dwh Gen Htert C250T':'Gene_Htert_C250T', \"Dwh Gen P53\":'Gene_P53', 'Dwh Gen Mgmt':'Gene_Mgmt', \n",
    "                      'Dwh Gen Egfr':'Gene_Egfr', 'Dwh Gen Mdm2':'Gene_Mdm2','Dwh Gen Cdk4':'Gene_Cdk4',\n",
    "                      'Dwh Gen P16':'Gene_P16', 'Dwh Ihc Atrx':'Gene_Ihc_Atrx', 'Dwh Chr Ch1P':'Gene_Ch1P',\n",
    "                      'Dwh Chr Ch19Q':'Gene_Ch19Q', 'Dwh Chr Ch10P':'Gene_Ch10P', 'Dwh Chr Ch10Q':'Gene_Ch10Q', 'Dwh Chr Ch9P':'Gene_Ch9P',\n",
    "                      'Dwh Chr Ch9Q':'Gene_Ch9Q', 'Dwh Pat Tumeur Siege':'Tumor_Location', 'Dwh Pat Tumeur Position':'Tumor_Position',\n",
    "                      'Clin Evolution':'Clinical_evolution', 'Clin Type Chirurgie':'Surgery_type',\n",
    "                      'Clin Rx Date':'Rx_date', 'Dwh Chm Date Debut':'Chemo_start_date'}, inplace = True)\n",
    "df.drop(['Dwh Pat Dn Date_y','Pat Sexe_y','Dwh Pat Date Deces_y','Pat Date Naissance_y'], axis=1,inplace=True)\n",
    "df.drop('Dwh Pat Consentement', axis=1, inplace=True)\n",
    "df.drop('Dwh Prv Nip', axis=1, inplace=True)\n",
    "df.drop(['Clin Diag Histologie', 'Grade histo','Clin Chir Date',],axis=1,inplace=True)\n",
    "\n",
    "# Diagnostic very sparse, 2000 entries out of 7000\n",
    "#interesting to analyze surgery date, all other things being equal. or any other proxy of impact of surgeon?\n",
    "#what is the right measure of survival? date of diagnosis? date of surgery? none marks the actual 'beginning'. survival\n",
    "#post diagnosis after controlling for tumor stage?"
   ]
  },
  {
   "cell_type": "code",
   "execution_count": 52,
   "metadata": {
    "collapsed": false
   },
   "outputs": [
    {
     "data": {
      "text/html": [
       "<div>\n",
       "<table border=\"1\" class=\"dataframe\">\n",
       "  <thead>\n",
       "    <tr style=\"text-align: right;\">\n",
       "      <th></th>\n",
       "      <th>ID</th>\n",
       "      <th>Gender</th>\n",
       "      <th>DoB</th>\n",
       "      <th>Diagnostic_date</th>\n",
       "      <th>Death_date</th>\n",
       "      <th>Surgery_date</th>\n",
       "      <th>Tumor_type</th>\n",
       "      <th>Tumor_grade</th>\n",
       "      <th>Gene_Idh1</th>\n",
       "      <th>Gene_Idh2</th>\n",
       "      <th>Gene_Htert_C228T</th>\n",
       "      <th>Gene_Htert_C250T</th>\n",
       "      <th>Gene_P53</th>\n",
       "      <th>Gene_Mgmt</th>\n",
       "      <th>Gene_Egfr</th>\n",
       "      <th>Gene_Mdm2</th>\n",
       "      <th>Gene_Cdk4</th>\n",
       "      <th>Gene_P16</th>\n",
       "      <th>Gene_Ihc_Atrx</th>\n",
       "      <th>Gene_Ch1P</th>\n",
       "      <th>Gene_Ch19Q</th>\n",
       "      <th>Gene_Ch10P</th>\n",
       "      <th>Gene_Ch10Q</th>\n",
       "      <th>Gene_Ch9P</th>\n",
       "      <th>Gene_Ch9Q</th>\n",
       "      <th>Tumor_Location</th>\n",
       "      <th>Tumor_Position</th>\n",
       "      <th>Clinical_evolution</th>\n",
       "      <th>Surgery_type</th>\n",
       "      <th>Rx_date</th>\n",
       "      <th>Chemo_start_date</th>\n",
       "    </tr>\n",
       "  </thead>\n",
       "  <tbody>\n",
       "    <tr>\n",
       "      <th>0</th>\n",
       "      <td>4</td>\n",
       "      <td>M</td>\n",
       "      <td>1940-05-22</td>\n",
       "      <td>NaN</td>\n",
       "      <td>2001-02-22</td>\n",
       "      <td>2000-05-30</td>\n",
       "      <td>glioblastome IV</td>\n",
       "      <td>4.0</td>\n",
       "      <td>NC</td>\n",
       "      <td>NC</td>\n",
       "      <td>NaN</td>\n",
       "      <td>NaN</td>\n",
       "      <td>NC</td>\n",
       "      <td>NaN</td>\n",
       "      <td>NaN</td>\n",
       "      <td>NaN</td>\n",
       "      <td>NaN</td>\n",
       "      <td>NaN</td>\n",
       "      <td>NaN</td>\n",
       "      <td>NaN</td>\n",
       "      <td>NaN</td>\n",
       "      <td>NaN</td>\n",
       "      <td>NaN</td>\n",
       "      <td>NaN</td>\n",
       "      <td>NaN</td>\n",
       "      <td>autre</td>\n",
       "      <td>G</td>\n",
       "      <td>P1</td>\n",
       "      <td>exérèse</td>\n",
       "      <td>2000-07-07</td>\n",
       "      <td>NaT</td>\n",
       "    </tr>\n",
       "    <tr>\n",
       "      <th>1</th>\n",
       "      <td>5</td>\n",
       "      <td>M</td>\n",
       "      <td>1947-10-15</td>\n",
       "      <td>NaN</td>\n",
       "      <td>1999-12-15</td>\n",
       "      <td>1999-05-29</td>\n",
       "      <td>glioblastome IV</td>\n",
       "      <td>4.0</td>\n",
       "      <td>NaN</td>\n",
       "      <td>NaN</td>\n",
       "      <td>NaN</td>\n",
       "      <td>NaN</td>\n",
       "      <td>NaN</td>\n",
       "      <td>NaN</td>\n",
       "      <td>NaN</td>\n",
       "      <td>NaN</td>\n",
       "      <td>NaN</td>\n",
       "      <td>NaN</td>\n",
       "      <td>NaN</td>\n",
       "      <td>NaN</td>\n",
       "      <td>NaN</td>\n",
       "      <td>NaN</td>\n",
       "      <td>NaN</td>\n",
       "      <td>NaN</td>\n",
       "      <td>NaN</td>\n",
       "      <td>sus-T hémisp</td>\n",
       "      <td>G</td>\n",
       "      <td>TT ini</td>\n",
       "      <td>biopsie</td>\n",
       "      <td>1999-07-12</td>\n",
       "      <td>1999-06-29</td>\n",
       "    </tr>\n",
       "  </tbody>\n",
       "</table>\n",
       "</div>"
      ],
      "text/plain": [
       "   ID Gender        DoB Diagnostic_date Death_date Surgery_date  \\\n",
       "0   4      M 1940-05-22             NaN 2001-02-22   2000-05-30   \n",
       "1   5      M 1947-10-15             NaN 1999-12-15   1999-05-29   \n",
       "\n",
       "        Tumor_type  Tumor_grade Gene_Idh1 Gene_Idh2 Gene_Htert_C228T  \\\n",
       "0  glioblastome IV          4.0        NC        NC              NaN   \n",
       "1  glioblastome IV          4.0       NaN       NaN              NaN   \n",
       "\n",
       "  Gene_Htert_C250T Gene_P53 Gene_Mgmt Gene_Egfr Gene_Mdm2 Gene_Cdk4 Gene_P16  \\\n",
       "0              NaN       NC       NaN       NaN       NaN       NaN      NaN   \n",
       "1              NaN      NaN       NaN       NaN       NaN       NaN      NaN   \n",
       "\n",
       "  Gene_Ihc_Atrx Gene_Ch1P Gene_Ch19Q Gene_Ch10P Gene_Ch10Q Gene_Ch9P  \\\n",
       "0           NaN       NaN        NaN        NaN        NaN       NaN   \n",
       "1           NaN       NaN        NaN        NaN        NaN       NaN   \n",
       "\n",
       "  Gene_Ch9Q Tumor_Location Tumor_Position Clinical_evolution Surgery_type  \\\n",
       "0       NaN          autre              G                 P1      exérèse   \n",
       "1       NaN   sus-T hémisp              G             TT ini      biopsie   \n",
       "\n",
       "     Rx_date Chemo_start_date  \n",
       "0 2000-07-07              NaT  \n",
       "1 1999-07-12       1999-06-29  "
      ]
     },
     "execution_count": 52,
     "metadata": {},
     "output_type": "execute_result"
    }
   ],
   "source": [
    "df.rename(columns = {'Sex':'Gender'},inplace = True) # forgot about this one\n",
    "write_to_pickle(df,'post_merge_data')\n",
    "df.head(2)\n",
    "#df = read_from_pickle('post_merge_data')"
   ]
  },
  {
   "cell_type": "code",
   "execution_count": 69,
   "metadata": {
    "collapsed": false
   },
   "outputs": [
    {
     "data": {
      "text/plain": [
       "NORMAL    3941\n",
       "NC        3031\n",
       "ALTERE     106\n",
       "Name: Gene_Idh2, dtype: int64"
      ]
     },
     "execution_count": 69,
     "metadata": {},
     "output_type": "execute_result"
    }
   ],
   "source": [
    "len(df.columns)\n",
    "#df[df.ID ==4406078178]\n",
    "df.Gene_Idh2.value_counts()"
   ]
  },
  {
   "cell_type": "code",
   "execution_count": 44,
   "metadata": {
    "collapsed": false
   },
   "outputs": [
    {
     "data": {
      "text/plain": [
       "True     4908\n",
       "False    2917\n",
       "Name: Death_date, dtype: int64"
      ]
     },
     "execution_count": 44,
     "metadata": {},
     "output_type": "execute_result"
    }
   ],
   "source": [
    "df.Death_date.isnull().value_counts()"
   ]
  },
  {
   "cell_type": "markdown",
   "metadata": {},
   "source": [
    "# End of merging. Next we deal with nan/empty values"
   ]
  },
  {
   "cell_type": "code",
   "execution_count": null,
   "metadata": {
    "collapsed": true
   },
   "outputs": [],
   "source": [
    "#Multiple entries for the same person, can we treat them independently?\n",
    "#df.loc[df.ID==4204007149]"
   ]
  },
  {
   "cell_type": "code",
   "execution_count": 76,
   "metadata": {
    "collapsed": false
   },
   "outputs": [
    {
     "name": "stderr",
     "output_type": "stream",
     "text": [
      "/Users/patricfulop/anaconda3/lib/python3.5/site-packages/ipykernel/__main__.py:5: UserWarning: Boolean Series key will be reindexed to match DataFrame index.\n"
     ]
    }
   ],
   "source": [
    "df_clean = df.copy(deep=True)\n",
    "len(df_clean.columns)\n",
    "df_clean = df_clean[pd.notnull(df.Gene_Idh2)]\n",
    "df_clean = df_clean[pd.notnull(df.Gene_Idh1)]"
   ]
  },
  {
   "cell_type": "code",
   "execution_count": 97,
   "metadata": {
    "collapsed": false
   },
   "outputs": [],
   "source": [
    "df_final = df_clean"
   ]
  },
  {
   "cell_type": "code",
   "execution_count": 115,
   "metadata": {
    "collapsed": false
   },
   "outputs": [
    {
     "data": {
      "text/plain": [
       "NON PERTE    2272\n",
       "PARTIEL       768\n",
       "PERDU         666\n",
       "GAIN           91\n",
       "Name: Gene_Ch9P, dtype: int64"
      ]
     },
     "execution_count": 115,
     "metadata": {},
     "output_type": "execute_result"
    }
   ],
   "source": [
    "df_final.Gene_Ch9P.value_counts()"
   ]
  },
  {
   "cell_type": "code",
   "execution_count": 57,
   "metadata": {
    "collapsed": false
   },
   "outputs": [
    {
     "name": "stdout",
     "output_type": "stream",
     "text": [
      "ID\n",
      "  False    7825\n",
      "Name: ID, dtype: int64\n",
      "\n",
      "Sex\n",
      "  False    7493\n",
      "True      332\n",
      "Name: Sex, dtype: int64\n",
      "\n",
      "DoB\n",
      "  False    7762\n",
      "True       63\n",
      "Name: DoB, dtype: int64\n",
      "\n",
      "Death_date\n",
      "  True     4908\n",
      "False    2917\n",
      "Name: Death_date, dtype: int64\n",
      "\n",
      "Surgery_date\n",
      "  False    7356\n",
      "True      469\n",
      "Name: Surgery_date, dtype: int64\n",
      "\n",
      "Tumor_type\n",
      "  False    7825\n",
      "Name: Tumor_type, dtype: int64\n",
      "\n",
      "Tumor_grade\n",
      "  False    7825\n",
      "Name: Tumor_grade, dtype: int64\n",
      "\n",
      "Gene_Idh1\n",
      "  False    7327\n",
      "True      498\n",
      "Name: Gene_Idh1, dtype: int64\n",
      "\n",
      "Gene_Idh2\n",
      "  False    7078\n",
      "True      747\n",
      "Name: Gene_Idh2, dtype: int64\n",
      "\n",
      "Gene_Htert_C228T\n",
      "  False    4336\n",
      "True     3489\n",
      "Name: Gene_Htert_C228T, dtype: int64\n",
      "\n",
      "Gene_Htert_C250T\n",
      "  False    4333\n",
      "True     3492\n",
      "Name: Gene_Htert_C250T, dtype: int64\n",
      "\n",
      "Gene_P53\n",
      "  False    6495\n",
      "True     1330\n",
      "Name: Gene_P53, dtype: int64\n",
      "\n",
      "Gene_Mgmt\n",
      "  True     6508\n",
      "False    1317\n",
      "Name: Gene_Mgmt, dtype: int64\n",
      "\n",
      "Gene_Egfr\n",
      "  False    4487\n",
      "True     3338\n",
      "Name: Gene_Egfr, dtype: int64\n",
      "\n",
      "Gene_Mdm2\n",
      "  False    4524\n",
      "True     3301\n",
      "Name: Gene_Mdm2, dtype: int64\n",
      "\n",
      "Gene_Cdk4\n",
      "  False    4376\n",
      "True     3449\n",
      "Name: Gene_Cdk4, dtype: int64\n",
      "\n",
      "Gene_P16\n",
      "  False    4430\n",
      "True     3395\n",
      "Name: Gene_P16, dtype: int64\n",
      "\n",
      "Gene_Ihc_Atrx\n",
      "  True     7066\n",
      "False     759\n",
      "Name: Gene_Ihc_Atrx, dtype: int64\n",
      "\n",
      "Gene_Ch1P\n",
      "  False    4385\n",
      "True     3440\n",
      "Name: Gene_Ch1P, dtype: int64\n",
      "\n",
      "Gene_Ch19Q\n",
      "  False    4353\n",
      "True     3472\n",
      "Name: Gene_Ch19Q, dtype: int64\n",
      "\n",
      "Gene_Ch10P\n",
      "  True     4250\n",
      "False    3575\n",
      "Name: Gene_Ch10P, dtype: int64\n",
      "\n",
      "Gene_Ch10Q\n",
      "  False    4198\n",
      "True     3627\n",
      "Name: Gene_Ch10Q, dtype: int64\n",
      "\n",
      "Gene_Ch9P\n",
      "  False    4174\n",
      "True     3651\n",
      "Name: Gene_Ch9P, dtype: int64\n",
      "\n",
      "Gene_Ch9Q\n",
      "  True     4743\n",
      "False    3082\n",
      "Name: Gene_Ch9Q, dtype: int64\n",
      "\n",
      "Tumor_Location\n",
      "  False    4946\n",
      "True     2879\n",
      "Name: Tumor_Location, dtype: int64\n",
      "\n",
      "Tumor_Position\n",
      "  False    4920\n",
      "True     2905\n",
      "Name: Tumor_Position, dtype: int64\n",
      "\n",
      "Clinical_evolution\n",
      "  False    4868\n",
      "True     2957\n",
      "Name: Clinical_evolution, dtype: int64\n",
      "\n",
      "Surgery_type\n",
      "  False    4766\n",
      "True     3059\n",
      "Name: Surgery_type, dtype: int64\n",
      "\n",
      "Rx_date\n",
      "  True     5103\n",
      "False    2722\n",
      "Name: Rx_date, dtype: int64\n",
      "\n",
      "Chemo_start_date\n",
      "  True     4875\n",
      "False    2950\n",
      "Name: Chemo_start_date, dtype: int64\n",
      "\n"
     ]
    }
   ],
   "source": [
    "for col in df_clean.columns:\n",
    "     print('{0}\\n  {1}\\n'.format(col,df_clean[col].isnull().value_counts()))"
   ]
  },
  {
   "cell_type": "code",
   "execution_count": null,
   "metadata": {
    "collapsed": true
   },
   "outputs": [],
   "source": []
  },
  {
   "cell_type": "code",
   "execution_count": null,
   "metadata": {
    "collapsed": true
   },
   "outputs": [],
   "source": [
    "bio_asNumeric['Dwh Prv Nip'] = pd.to_numeric(bio_asNumeric['Dwh Prv Nip'], errors='coerce').astype('category')\n",
    "bio_asNumeric['Dwh Pat Consentement'] = pd.to_numeric(bio_asNumeric['Dwh Pat Consentement'], errors = 'coerce').astype('category')\n",
    "bio_asNumeric['Pat Nip'] = pd.to_numeric(bio_asNumeric['Pat Nip'], errors='coerce').astype('category')\n",
    "bio_asNumeric['Pat Sexe'] = bio_asNumeric['Pat Sexe'].astype('category')\n",
    "bio_asNumeric['Pat Date Naissance'] = pd.to_datetime(bio_asNumeric['Pat Date Naissance'])\n",
    "bio_asNumeric['Dwh Pat Dn Date'] = pd.to_datetime(bio_asNumeric['Dwh Pat Date Deces'])\n",
    "bio_asNumeric['Dwh Pat Date Deces'] = pd.to_datetime(bio_asNumeric['Dwh Pat Date Deces'])\n",
    "bio_asNumeric['Dwh Prv Date Chir'] = pd.to_datetime(bio_asNumeric['Dwh Prv Date Chir'])\n",
    "bio_asNumeric['Grade'] = pd.to_numeric(bio_asNumeric['Grade'], errors='coerce').astype('category')\n",
    "bio_asNumeric['Dwh Pat Tumeur Position'] = bio_asNumeric['Dwh Pat Tumeur Position'].astype('category')"
   ]
  },
  {
   "cell_type": "code",
   "execution_count": 163,
   "metadata": {
    "collapsed": true
   },
   "outputs": [],
   "source": [
    "df = [lambda x: x for x in pat_date_naissance_y_null.index if x not in pat_date_naissance_x_null.index]"
   ]
  },
  {
   "cell_type": "code",
   "execution_count": 165,
   "metadata": {
    "collapsed": true
   },
   "outputs": [],
   "source": [
    "df_1 = [lambda x: x for x in pat_date_naissance_x_null.index if x not in pat_date_naissance_y_null.index]"
   ]
  },
  {
   "cell_type": "code",
   "execution_count": 171,
   "metadata": {
    "collapsed": true
   },
   "outputs": [],
   "source": [
    "df_2 = [lambda x: x for x in dwh_pat_dn_date_x_null.index if x not in dwh_pat_dn_date_y_null.index]"
   ]
  },
  {
   "cell_type": "code",
   "execution_count": 177,
   "metadata": {
    "collapsed": true
   },
   "outputs": [],
   "source": [
    "df_3 = [lambda x: x for x in dwh_pat_date_deces_x_null.index if x not in dwh_pat_date_deces_y_null.index]"
   ]
  }
 ],
 "metadata": {
  "anaconda-cloud": {},
  "kernelspec": {
   "display_name": "Python [default]",
   "language": "python",
   "name": "python3"
  },
  "language_info": {
   "codemirror_mode": {
    "name": "ipython",
    "version": 3
   },
   "file_extension": ".py",
   "mimetype": "text/x-python",
   "name": "python",
   "nbconvert_exporter": "python",
   "pygments_lexer": "ipython3",
   "version": "3.5.2"
  }
 },
 "nbformat": 4,
 "nbformat_minor": 2
}
